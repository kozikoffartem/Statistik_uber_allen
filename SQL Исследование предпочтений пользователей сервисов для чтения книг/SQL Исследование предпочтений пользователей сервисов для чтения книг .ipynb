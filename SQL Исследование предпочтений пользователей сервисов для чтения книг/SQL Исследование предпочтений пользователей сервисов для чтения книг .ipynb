{
 "cells": [
  {
   "cell_type": "markdown",
   "metadata": {},
   "source": [
    "# Проект по SQL."
   ]
  },
  {
   "cell_type": "markdown",
   "metadata": {},
   "source": [
    "### Коронавирус застал мир врасплох, изменив привычный порядок вещей. В свободное время жители городов больше не выходят на улицу, не посещают кафе и торговые центры. Зато стало больше времени для книг. Это заметили стартаперы — и бросились создавать приложения для тех, кто любит читать."
   ]
  },
  {
   "cell_type": "markdown",
   "metadata": {},
   "source": [
    "### Наша компания решила быть на волне и купила крупный сервис для чтения книг по подписке. Моя первая задача как аналитика — проанализировать базу данных. В ней — информация о книгах, издательствах, авторах, а также пользовательские обзоры книг. Эти данные помогут сформулировать ценностное предложение для нового продукта."
   ]
  },
  {
   "cell_type": "markdown",
   "metadata": {},
   "source": [
    "## Импорт библиотек."
   ]
  },
  {
   "cell_type": "code",
   "execution_count": 15,
   "metadata": {},
   "outputs": [],
   "source": [
    "import pandas as pd\n",
    "from sqlalchemy import create_engine "
   ]
  },
  {
   "cell_type": "markdown",
   "metadata": {},
   "source": [
    "## Установка парметров."
   ]
  },
  {
   "cell_type": "code",
   "execution_count": 16,
   "metadata": {},
   "outputs": [],
   "source": [
    "db_config = {'user': 'praktikum_student', # имя пользователя\n",
    " 'pwd': 'Sdf4$2;d-d30pp', # пароль\n",
    " 'host': 'rc1b-wcoijxj3yxfsf3fs.mdb.yandexcloud.net',\n",
    " 'port': 6432, # порт подключения\n",
    " 'db': 'data-analyst-final-project-db'} # название базы данных"
   ]
  },
  {
   "cell_type": "code",
   "execution_count": 17,
   "metadata": {},
   "outputs": [],
   "source": [
    "connection_string = 'postgresql://{}:{}@{}:{}/{}'.format(db_config['user'],\n",
    " db_config['pwd'],\n",
    " db_config['host'],\n",
    " db_config['port'],\n",
    " db_config['db']) "
   ]
  },
  {
   "cell_type": "markdown",
   "metadata": {},
   "source": [
    "### Сохраняем коннектор."
   ]
  },
  {
   "cell_type": "code",
   "execution_count": 18,
   "metadata": {},
   "outputs": [],
   "source": [
    "engine = create_engine(connection_string, connect_args={'sslmode':'require'})"
   ]
  },
  {
   "cell_type": "markdown",
   "metadata": {},
   "source": [
    "Чтобы выполнить SQL-запрос, используем Pandas:\n",
    "\n",
    "pd.io.sql.read_sql(query, con = engine)"
   ]
  },
  {
   "cell_type": "markdown",
   "metadata": {},
   "source": [
    "## Исследование таблицы."
   ]
  },
  {
   "cell_type": "code",
   "execution_count": 21,
   "metadata": {},
   "outputs": [
    {
     "data": {
      "text/html": [
       "<div>\n",
       "<style scoped>\n",
       "    .dataframe tbody tr th:only-of-type {\n",
       "        vertical-align: middle;\n",
       "    }\n",
       "\n",
       "    .dataframe tbody tr th {\n",
       "        vertical-align: top;\n",
       "    }\n",
       "\n",
       "    .dataframe thead th {\n",
       "        text-align: right;\n",
       "    }\n",
       "</style>\n",
       "<table border=\"1\" class=\"dataframe\">\n",
       "  <thead>\n",
       "    <tr style=\"text-align: right;\">\n",
       "      <th></th>\n",
       "      <th>book_id</th>\n",
       "      <th>author_id</th>\n",
       "      <th>title</th>\n",
       "      <th>num_pages</th>\n",
       "      <th>publication_date</th>\n",
       "      <th>publisher_id</th>\n",
       "    </tr>\n",
       "  </thead>\n",
       "  <tbody>\n",
       "    <tr>\n",
       "      <th>0</th>\n",
       "      <td>1</td>\n",
       "      <td>546</td>\n",
       "      <td>'Salem's Lot</td>\n",
       "      <td>594</td>\n",
       "      <td>2005-11-01</td>\n",
       "      <td>93</td>\n",
       "    </tr>\n",
       "    <tr>\n",
       "      <th>1</th>\n",
       "      <td>2</td>\n",
       "      <td>465</td>\n",
       "      <td>1 000 Places to See Before You Die</td>\n",
       "      <td>992</td>\n",
       "      <td>2003-05-22</td>\n",
       "      <td>336</td>\n",
       "    </tr>\n",
       "    <tr>\n",
       "      <th>2</th>\n",
       "      <td>3</td>\n",
       "      <td>407</td>\n",
       "      <td>13 Little Blue Envelopes (Little Blue Envelope...</td>\n",
       "      <td>322</td>\n",
       "      <td>2010-12-21</td>\n",
       "      <td>135</td>\n",
       "    </tr>\n",
       "    <tr>\n",
       "      <th>3</th>\n",
       "      <td>4</td>\n",
       "      <td>82</td>\n",
       "      <td>1491: New Revelations of the Americas Before C...</td>\n",
       "      <td>541</td>\n",
       "      <td>2006-10-10</td>\n",
       "      <td>309</td>\n",
       "    </tr>\n",
       "    <tr>\n",
       "      <th>4</th>\n",
       "      <td>5</td>\n",
       "      <td>125</td>\n",
       "      <td>1776</td>\n",
       "      <td>386</td>\n",
       "      <td>2006-07-04</td>\n",
       "      <td>268</td>\n",
       "    </tr>\n",
       "  </tbody>\n",
       "</table>\n",
       "</div>"
      ],
      "text/plain": [
       "   book_id  author_id                                              title  \\\n",
       "0        1        546                                       'Salem's Lot   \n",
       "1        2        465                 1 000 Places to See Before You Die   \n",
       "2        3        407  13 Little Blue Envelopes (Little Blue Envelope...   \n",
       "3        4         82  1491: New Revelations of the Americas Before C...   \n",
       "4        5        125                                               1776   \n",
       "\n",
       "   num_pages publication_date  publisher_id  \n",
       "0        594       2005-11-01            93  \n",
       "1        992       2003-05-22           336  \n",
       "2        322       2010-12-21           135  \n",
       "3        541       2006-10-10           309  \n",
       "4        386       2006-07-04           268  "
      ]
     },
     "execution_count": 21,
     "metadata": {},
     "output_type": "execute_result"
    }
   ],
   "source": [
    "query_1 = '''\n",
    "         SELECT *\n",
    "         FROM books\n",
    "         LIMIT 5\n",
    "        '''\n",
    "books = pd.io.sql.read_sql(query_1, con = engine)\n",
    "books"
   ]
  },
  {
   "cell_type": "markdown",
   "metadata": {},
   "source": [
    "Исследуем первые 5 строк таблицы \"authors\":"
   ]
  },
  {
   "cell_type": "code",
   "execution_count": 22,
   "metadata": {},
   "outputs": [
    {
     "data": {
      "text/html": [
       "<div>\n",
       "<style scoped>\n",
       "    .dataframe tbody tr th:only-of-type {\n",
       "        vertical-align: middle;\n",
       "    }\n",
       "\n",
       "    .dataframe tbody tr th {\n",
       "        vertical-align: top;\n",
       "    }\n",
       "\n",
       "    .dataframe thead th {\n",
       "        text-align: right;\n",
       "    }\n",
       "</style>\n",
       "<table border=\"1\" class=\"dataframe\">\n",
       "  <thead>\n",
       "    <tr style=\"text-align: right;\">\n",
       "      <th></th>\n",
       "      <th>author_id</th>\n",
       "      <th>author</th>\n",
       "    </tr>\n",
       "  </thead>\n",
       "  <tbody>\n",
       "    <tr>\n",
       "      <th>0</th>\n",
       "      <td>1</td>\n",
       "      <td>A.S. Byatt</td>\n",
       "    </tr>\n",
       "    <tr>\n",
       "      <th>1</th>\n",
       "      <td>2</td>\n",
       "      <td>Aesop/Laura Harris/Laura Gibbs</td>\n",
       "    </tr>\n",
       "    <tr>\n",
       "      <th>2</th>\n",
       "      <td>3</td>\n",
       "      <td>Agatha Christie</td>\n",
       "    </tr>\n",
       "    <tr>\n",
       "      <th>3</th>\n",
       "      <td>4</td>\n",
       "      <td>Alan Brennert</td>\n",
       "    </tr>\n",
       "    <tr>\n",
       "      <th>4</th>\n",
       "      <td>5</td>\n",
       "      <td>Alan Moore/David   Lloyd</td>\n",
       "    </tr>\n",
       "  </tbody>\n",
       "</table>\n",
       "</div>"
      ],
      "text/plain": [
       "   author_id                          author\n",
       "0          1                      A.S. Byatt\n",
       "1          2  Aesop/Laura Harris/Laura Gibbs\n",
       "2          3                 Agatha Christie\n",
       "3          4                   Alan Brennert\n",
       "4          5        Alan Moore/David   Lloyd"
      ]
     },
     "execution_count": 22,
     "metadata": {},
     "output_type": "execute_result"
    }
   ],
   "source": [
    "query_2 = '''\n",
    "         SELECT *\n",
    "         FROM authors\n",
    "         LIMIT 5\n",
    "        '''\n",
    "authors = pd.io.sql.read_sql(query_2, con = engine)\n",
    "authors"
   ]
  },
  {
   "cell_type": "markdown",
   "metadata": {},
   "source": [
    "Исследуем первые 5 строк таблицы \"publishers\":"
   ]
  },
  {
   "cell_type": "code",
   "execution_count": 23,
   "metadata": {},
   "outputs": [
    {
     "data": {
      "text/html": [
       "<div>\n",
       "<style scoped>\n",
       "    .dataframe tbody tr th:only-of-type {\n",
       "        vertical-align: middle;\n",
       "    }\n",
       "\n",
       "    .dataframe tbody tr th {\n",
       "        vertical-align: top;\n",
       "    }\n",
       "\n",
       "    .dataframe thead th {\n",
       "        text-align: right;\n",
       "    }\n",
       "</style>\n",
       "<table border=\"1\" class=\"dataframe\">\n",
       "  <thead>\n",
       "    <tr style=\"text-align: right;\">\n",
       "      <th></th>\n",
       "      <th>publisher_id</th>\n",
       "      <th>publisher</th>\n",
       "    </tr>\n",
       "  </thead>\n",
       "  <tbody>\n",
       "    <tr>\n",
       "      <th>0</th>\n",
       "      <td>1</td>\n",
       "      <td>Ace</td>\n",
       "    </tr>\n",
       "    <tr>\n",
       "      <th>1</th>\n",
       "      <td>2</td>\n",
       "      <td>Ace Book</td>\n",
       "    </tr>\n",
       "    <tr>\n",
       "      <th>2</th>\n",
       "      <td>3</td>\n",
       "      <td>Ace Books</td>\n",
       "    </tr>\n",
       "    <tr>\n",
       "      <th>3</th>\n",
       "      <td>4</td>\n",
       "      <td>Ace Hardcover</td>\n",
       "    </tr>\n",
       "    <tr>\n",
       "      <th>4</th>\n",
       "      <td>5</td>\n",
       "      <td>Addison Wesley Publishing Company</td>\n",
       "    </tr>\n",
       "  </tbody>\n",
       "</table>\n",
       "</div>"
      ],
      "text/plain": [
       "   publisher_id                          publisher\n",
       "0             1                                Ace\n",
       "1             2                           Ace Book\n",
       "2             3                          Ace Books\n",
       "3             4                      Ace Hardcover\n",
       "4             5  Addison Wesley Publishing Company"
      ]
     },
     "execution_count": 23,
     "metadata": {},
     "output_type": "execute_result"
    }
   ],
   "source": [
    "query_3 = '''\n",
    "         SELECT *\n",
    "         FROM publishers\n",
    "         LIMIT 5\n",
    "        '''\n",
    "publishers = pd.io.sql.read_sql(query_3, con = engine)\n",
    "publishers"
   ]
  },
  {
   "cell_type": "markdown",
   "metadata": {},
   "source": [
    "Исследуем первые 5 строк таблицы \"ratings\":"
   ]
  },
  {
   "cell_type": "code",
   "execution_count": 24,
   "metadata": {},
   "outputs": [
    {
     "data": {
      "text/html": [
       "<div>\n",
       "<style scoped>\n",
       "    .dataframe tbody tr th:only-of-type {\n",
       "        vertical-align: middle;\n",
       "    }\n",
       "\n",
       "    .dataframe tbody tr th {\n",
       "        vertical-align: top;\n",
       "    }\n",
       "\n",
       "    .dataframe thead th {\n",
       "        text-align: right;\n",
       "    }\n",
       "</style>\n",
       "<table border=\"1\" class=\"dataframe\">\n",
       "  <thead>\n",
       "    <tr style=\"text-align: right;\">\n",
       "      <th></th>\n",
       "      <th>rating_id</th>\n",
       "      <th>book_id</th>\n",
       "      <th>username</th>\n",
       "      <th>rating</th>\n",
       "    </tr>\n",
       "  </thead>\n",
       "  <tbody>\n",
       "    <tr>\n",
       "      <th>0</th>\n",
       "      <td>1</td>\n",
       "      <td>1</td>\n",
       "      <td>ryanfranco</td>\n",
       "      <td>4</td>\n",
       "    </tr>\n",
       "    <tr>\n",
       "      <th>1</th>\n",
       "      <td>2</td>\n",
       "      <td>1</td>\n",
       "      <td>grantpatricia</td>\n",
       "      <td>2</td>\n",
       "    </tr>\n",
       "    <tr>\n",
       "      <th>2</th>\n",
       "      <td>3</td>\n",
       "      <td>1</td>\n",
       "      <td>brandtandrea</td>\n",
       "      <td>5</td>\n",
       "    </tr>\n",
       "    <tr>\n",
       "      <th>3</th>\n",
       "      <td>4</td>\n",
       "      <td>2</td>\n",
       "      <td>lorichen</td>\n",
       "      <td>3</td>\n",
       "    </tr>\n",
       "    <tr>\n",
       "      <th>4</th>\n",
       "      <td>5</td>\n",
       "      <td>2</td>\n",
       "      <td>mariokeller</td>\n",
       "      <td>2</td>\n",
       "    </tr>\n",
       "  </tbody>\n",
       "</table>\n",
       "</div>"
      ],
      "text/plain": [
       "   rating_id  book_id       username  rating\n",
       "0          1        1     ryanfranco       4\n",
       "1          2        1  grantpatricia       2\n",
       "2          3        1   brandtandrea       5\n",
       "3          4        2       lorichen       3\n",
       "4          5        2    mariokeller       2"
      ]
     },
     "execution_count": 24,
     "metadata": {},
     "output_type": "execute_result"
    }
   ],
   "source": [
    "query_4 = '''\n",
    "         SELECT *\n",
    "         FROM ratings\n",
    "         LIMIT 5\n",
    "        '''\n",
    "ratings = pd.io.sql.read_sql(query_4, con = engine)\n",
    "ratings"
   ]
  },
  {
   "cell_type": "markdown",
   "metadata": {},
   "source": [
    "Исследуем первые 5 строк таблицы \"reviews\":"
   ]
  },
  {
   "cell_type": "code",
   "execution_count": 25,
   "metadata": {},
   "outputs": [
    {
     "data": {
      "text/html": [
       "<div>\n",
       "<style scoped>\n",
       "    .dataframe tbody tr th:only-of-type {\n",
       "        vertical-align: middle;\n",
       "    }\n",
       "\n",
       "    .dataframe tbody tr th {\n",
       "        vertical-align: top;\n",
       "    }\n",
       "\n",
       "    .dataframe thead th {\n",
       "        text-align: right;\n",
       "    }\n",
       "</style>\n",
       "<table border=\"1\" class=\"dataframe\">\n",
       "  <thead>\n",
       "    <tr style=\"text-align: right;\">\n",
       "      <th></th>\n",
       "      <th>review_id</th>\n",
       "      <th>book_id</th>\n",
       "      <th>username</th>\n",
       "      <th>text</th>\n",
       "    </tr>\n",
       "  </thead>\n",
       "  <tbody>\n",
       "    <tr>\n",
       "      <th>0</th>\n",
       "      <td>1</td>\n",
       "      <td>1</td>\n",
       "      <td>brandtandrea</td>\n",
       "      <td>Mention society tell send professor analysis. ...</td>\n",
       "    </tr>\n",
       "    <tr>\n",
       "      <th>1</th>\n",
       "      <td>2</td>\n",
       "      <td>1</td>\n",
       "      <td>ryanfranco</td>\n",
       "      <td>Foot glass pretty audience hit themselves. Amo...</td>\n",
       "    </tr>\n",
       "    <tr>\n",
       "      <th>2</th>\n",
       "      <td>3</td>\n",
       "      <td>2</td>\n",
       "      <td>lorichen</td>\n",
       "      <td>Listen treat keep worry. Miss husband tax but ...</td>\n",
       "    </tr>\n",
       "    <tr>\n",
       "      <th>3</th>\n",
       "      <td>4</td>\n",
       "      <td>3</td>\n",
       "      <td>johnsonamanda</td>\n",
       "      <td>Finally month interesting blue could nature cu...</td>\n",
       "    </tr>\n",
       "    <tr>\n",
       "      <th>4</th>\n",
       "      <td>5</td>\n",
       "      <td>3</td>\n",
       "      <td>scotttamara</td>\n",
       "      <td>Nation purpose heavy give wait song will. List...</td>\n",
       "    </tr>\n",
       "  </tbody>\n",
       "</table>\n",
       "</div>"
      ],
      "text/plain": [
       "   review_id  book_id       username  \\\n",
       "0          1        1   brandtandrea   \n",
       "1          2        1     ryanfranco   \n",
       "2          3        2       lorichen   \n",
       "3          4        3  johnsonamanda   \n",
       "4          5        3    scotttamara   \n",
       "\n",
       "                                                text  \n",
       "0  Mention society tell send professor analysis. ...  \n",
       "1  Foot glass pretty audience hit themselves. Amo...  \n",
       "2  Listen treat keep worry. Miss husband tax but ...  \n",
       "3  Finally month interesting blue could nature cu...  \n",
       "4  Nation purpose heavy give wait song will. List...  "
      ]
     },
     "execution_count": 25,
     "metadata": {},
     "output_type": "execute_result"
    }
   ],
   "source": [
    "query_5 = '''\n",
    "         SELECT *\n",
    "         FROM reviews\n",
    "         LIMIT 5\n",
    "        '''\n",
    "reviews = pd.io.sql.read_sql(query_5, con = engine)\n",
    "reviews"
   ]
  },
  {
   "cell_type": "markdown",
   "metadata": {},
   "source": [
    "С таблицами всё в порядке, названия и отображения столбцов в норме. Можно работать."
   ]
  },
  {
   "cell_type": "markdown",
   "metadata": {},
   "source": [
    "## Cколько книг вышло после 1 января 2000 года;"
   ]
  },
  {
   "cell_type": "code",
   "execution_count": 26,
   "metadata": {},
   "outputs": [
    {
     "data": {
      "text/html": [
       "<div>\n",
       "<style scoped>\n",
       "    .dataframe tbody tr th:only-of-type {\n",
       "        vertical-align: middle;\n",
       "    }\n",
       "\n",
       "    .dataframe tbody tr th {\n",
       "        vertical-align: top;\n",
       "    }\n",
       "\n",
       "    .dataframe thead th {\n",
       "        text-align: right;\n",
       "    }\n",
       "</style>\n",
       "<table border=\"1\" class=\"dataframe\">\n",
       "  <thead>\n",
       "    <tr style=\"text-align: right;\">\n",
       "      <th></th>\n",
       "      <th>count</th>\n",
       "    </tr>\n",
       "  </thead>\n",
       "  <tbody>\n",
       "    <tr>\n",
       "      <th>0</th>\n",
       "      <td>821</td>\n",
       "    </tr>\n",
       "  </tbody>\n",
       "</table>\n",
       "</div>"
      ],
      "text/plain": [
       "   count\n",
       "0    821"
      ]
     },
     "execution_count": 26,
     "metadata": {},
     "output_type": "execute_result"
    }
   ],
   "source": [
    "count_book = '''\n",
    "         SELECT \n",
    "               COUNT(book_id)\n",
    "         FROM  books\n",
    "         WHERE \n",
    "               publication_date >= '01-01-2000'\n",
    "        '''\n",
    "books_after_2000 = pd.io.sql.read_sql(count_book, con = engine)\n",
    "books_after_2000"
   ]
  },
  {
   "cell_type": "markdown",
   "metadata": {},
   "source": [
    "После 1 января 2000 года вышло 821 книга."
   ]
  },
  {
   "cell_type": "markdown",
   "metadata": {},
   "source": [
    "## Для каждой книги посчитаем количество обзоров и среднюю оценку."
   ]
  },
  {
   "cell_type": "code",
   "execution_count": 27,
   "metadata": {},
   "outputs": [
    {
     "data": {
      "text/html": [
       "<div>\n",
       "<style scoped>\n",
       "    .dataframe tbody tr th:only-of-type {\n",
       "        vertical-align: middle;\n",
       "    }\n",
       "\n",
       "    .dataframe tbody tr th {\n",
       "        vertical-align: top;\n",
       "    }\n",
       "\n",
       "    .dataframe thead th {\n",
       "        text-align: right;\n",
       "    }\n",
       "</style>\n",
       "<table border=\"1\" class=\"dataframe\">\n",
       "  <thead>\n",
       "    <tr style=\"text-align: right;\">\n",
       "      <th></th>\n",
       "      <th>title</th>\n",
       "      <th>review_count</th>\n",
       "      <th>avg_rating</th>\n",
       "    </tr>\n",
       "  </thead>\n",
       "  <tbody>\n",
       "    <tr>\n",
       "      <th>0</th>\n",
       "      <td>Twilight (Twilight  #1)</td>\n",
       "      <td>7</td>\n",
       "      <td>3.662500</td>\n",
       "    </tr>\n",
       "    <tr>\n",
       "      <th>1</th>\n",
       "      <td>Water for Elephants</td>\n",
       "      <td>6</td>\n",
       "      <td>3.977273</td>\n",
       "    </tr>\n",
       "    <tr>\n",
       "      <th>2</th>\n",
       "      <td>The Glass Castle</td>\n",
       "      <td>6</td>\n",
       "      <td>4.206897</td>\n",
       "    </tr>\n",
       "    <tr>\n",
       "      <th>3</th>\n",
       "      <td>Harry Potter and the Prisoner of Azkaban (Harr...</td>\n",
       "      <td>6</td>\n",
       "      <td>4.414634</td>\n",
       "    </tr>\n",
       "    <tr>\n",
       "      <th>4</th>\n",
       "      <td>The Curious Incident of the Dog in the Night-Time</td>\n",
       "      <td>6</td>\n",
       "      <td>4.081081</td>\n",
       "    </tr>\n",
       "    <tr>\n",
       "      <th>...</th>\n",
       "      <td>...</td>\n",
       "      <td>...</td>\n",
       "      <td>...</td>\n",
       "    </tr>\n",
       "    <tr>\n",
       "      <th>995</th>\n",
       "      <td>Anne Rice's The Vampire Lestat: A Graphic Novel</td>\n",
       "      <td>0</td>\n",
       "      <td>3.666667</td>\n",
       "    </tr>\n",
       "    <tr>\n",
       "      <th>996</th>\n",
       "      <td>The Natural Way to Draw</td>\n",
       "      <td>0</td>\n",
       "      <td>3.000000</td>\n",
       "    </tr>\n",
       "    <tr>\n",
       "      <th>997</th>\n",
       "      <td>The Cat in the Hat and Other Dr. Seuss Favorites</td>\n",
       "      <td>0</td>\n",
       "      <td>5.000000</td>\n",
       "    </tr>\n",
       "    <tr>\n",
       "      <th>998</th>\n",
       "      <td>Essential Tales and Poems</td>\n",
       "      <td>0</td>\n",
       "      <td>4.000000</td>\n",
       "    </tr>\n",
       "    <tr>\n",
       "      <th>999</th>\n",
       "      <td>Disney's Beauty and the Beast (A Little Golden...</td>\n",
       "      <td>0</td>\n",
       "      <td>4.000000</td>\n",
       "    </tr>\n",
       "  </tbody>\n",
       "</table>\n",
       "<p>1000 rows × 3 columns</p>\n",
       "</div>"
      ],
      "text/plain": [
       "                                                 title  review_count  \\\n",
       "0                              Twilight (Twilight  #1)             7   \n",
       "1                                  Water for Elephants             6   \n",
       "2                                     The Glass Castle             6   \n",
       "3    Harry Potter and the Prisoner of Azkaban (Harr...             6   \n",
       "4    The Curious Incident of the Dog in the Night-Time             6   \n",
       "..                                                 ...           ...   \n",
       "995    Anne Rice's The Vampire Lestat: A Graphic Novel             0   \n",
       "996                            The Natural Way to Draw             0   \n",
       "997   The Cat in the Hat and Other Dr. Seuss Favorites             0   \n",
       "998                          Essential Tales and Poems             0   \n",
       "999  Disney's Beauty and the Beast (A Little Golden...             0   \n",
       "\n",
       "     avg_rating  \n",
       "0      3.662500  \n",
       "1      3.977273  \n",
       "2      4.206897  \n",
       "3      4.414634  \n",
       "4      4.081081  \n",
       "..          ...  \n",
       "995    3.666667  \n",
       "996    3.000000  \n",
       "997    5.000000  \n",
       "998    4.000000  \n",
       "999    4.000000  \n",
       "\n",
       "[1000 rows x 3 columns]"
      ]
     },
     "execution_count": 27,
     "metadata": {},
     "output_type": "execute_result"
    }
   ],
   "source": [
    "count_rating = '''\n",
    "            SELECT\n",
    "                books.title,\n",
    "                (\n",
    "                    SELECT\n",
    "                        COUNT(review_id) AS review_count\n",
    "                    FROM reviews\n",
    "                    WHERE book_id = books.book_id\n",
    "                ),\n",
    "                (\n",
    "                    SELECT\n",
    "                        AVG(rating)\n",
    "                    FROM ratings\n",
    "                    WHERE book_id = books.book_id) AS avg_rating\n",
    "            FROM books, reviews\n",
    "            GROUP BY books.book_id\n",
    "            ORDER BY review_count DESC\n",
    "            \n",
    "        '''\n",
    "\n",
    "reviews_and_average_rating = pd.io.sql.read_sql(count_rating, con=engine)\n",
    "\n",
    "\n",
    "reviews_and_average_rating"
   ]
  },
  {
   "cell_type": "markdown",
   "metadata": {},
   "source": [
    "Топ-5 книг с самой высоким количеством обзоров и средней оценкой.\n",
    "\n",
    "   1.Сумерки\n",
    "  \n",
    "   2.Гарри Поттер и узник Азкабана\n",
    "  \n",
    "   3.Гарри Поттер и тайная комната\n",
    "  \n",
    "   4.Воровка книг\n",
    "  \n",
    "   5.Стеклянный замок"
   ]
  },
  {
   "cell_type": "markdown",
   "metadata": {},
   "source": [
    "## Определим издательство, которое выпустило наибольшее число книг толще 50 страниц;"
   ]
  },
  {
   "cell_type": "code",
   "execution_count": 28,
   "metadata": {},
   "outputs": [
    {
     "data": {
      "text/html": [
       "<div>\n",
       "<style scoped>\n",
       "    .dataframe tbody tr th:only-of-type {\n",
       "        vertical-align: middle;\n",
       "    }\n",
       "\n",
       "    .dataframe tbody tr th {\n",
       "        vertical-align: top;\n",
       "    }\n",
       "\n",
       "    .dataframe thead th {\n",
       "        text-align: right;\n",
       "    }\n",
       "</style>\n",
       "<table border=\"1\" class=\"dataframe\">\n",
       "  <thead>\n",
       "    <tr style=\"text-align: right;\">\n",
       "      <th></th>\n",
       "      <th>publisher_id</th>\n",
       "      <th>publisher_name</th>\n",
       "      <th>count_book</th>\n",
       "    </tr>\n",
       "  </thead>\n",
       "  <tbody>\n",
       "    <tr>\n",
       "      <th>0</th>\n",
       "      <td>212</td>\n",
       "      <td>Penguin Books</td>\n",
       "      <td>42</td>\n",
       "    </tr>\n",
       "  </tbody>\n",
       "</table>\n",
       "</div>"
      ],
      "text/plain": [
       "   publisher_id publisher_name  count_book\n",
       "0           212  Penguin Books          42"
      ]
     },
     "execution_count": 28,
     "metadata": {},
     "output_type": "execute_result"
    }
   ],
   "source": [
    "publishers_max = '''\n",
    "         SELECT\n",
    "               publishers.publisher_id,\n",
    "               publishers.publisher AS publisher_name,\n",
    "               COUNT(books.book_id) AS count_book\n",
    "               \n",
    "         FROM  books\n",
    "               LEFT JOIN publishers ON publishers.publisher_id = books.publisher_id\n",
    "         WHERE \n",
    "               books.num_pages > 50\n",
    "         GROUP BY\n",
    "               publisher_name,\n",
    "               publishers.publisher_id\n",
    "         ORDER BY \n",
    "               count_book DESC\n",
    "         LIMIT 1;      \n",
    "        '''\n",
    "publishing_house= pd.io.sql.read_sql(publishers_max, con = engine)\n",
    "publishing_house"
   ]
  },
  {
   "cell_type": "markdown",
   "metadata": {},
   "source": [
    "Издательство Penguin Books - 42 произведения толще 50 страниц."
   ]
  },
  {
   "cell_type": "markdown",
   "metadata": {},
   "source": [
    "## Определим автора с самой высокой средней оценкой книг;"
   ]
  },
  {
   "cell_type": "code",
   "execution_count": 29,
   "metadata": {},
   "outputs": [
    {
     "data": {
      "text/html": [
       "<div>\n",
       "<style scoped>\n",
       "    .dataframe tbody tr th:only-of-type {\n",
       "        vertical-align: middle;\n",
       "    }\n",
       "\n",
       "    .dataframe tbody tr th {\n",
       "        vertical-align: top;\n",
       "    }\n",
       "\n",
       "    .dataframe thead th {\n",
       "        text-align: right;\n",
       "    }\n",
       "</style>\n",
       "<table border=\"1\" class=\"dataframe\">\n",
       "  <thead>\n",
       "    <tr style=\"text-align: right;\">\n",
       "      <th></th>\n",
       "      <th>author</th>\n",
       "      <th>high_avg_rating</th>\n",
       "    </tr>\n",
       "  </thead>\n",
       "  <tbody>\n",
       "    <tr>\n",
       "      <th>0</th>\n",
       "      <td>J.K. Rowling/Mary GrandPré</td>\n",
       "      <td>4.283844</td>\n",
       "    </tr>\n",
       "    <tr>\n",
       "      <th>1</th>\n",
       "      <td>Markus Zusak/Cao Xuân Việt Khương</td>\n",
       "      <td>4.264151</td>\n",
       "    </tr>\n",
       "    <tr>\n",
       "      <th>2</th>\n",
       "      <td>J.R.R. Tolkien</td>\n",
       "      <td>4.258446</td>\n",
       "    </tr>\n",
       "    <tr>\n",
       "      <th>3</th>\n",
       "      <td>Louisa May Alcott</td>\n",
       "      <td>4.192308</td>\n",
       "    </tr>\n",
       "    <tr>\n",
       "      <th>4</th>\n",
       "      <td>Rick Riordan</td>\n",
       "      <td>4.080645</td>\n",
       "    </tr>\n",
       "    <tr>\n",
       "      <th>5</th>\n",
       "      <td>William Golding</td>\n",
       "      <td>3.901408</td>\n",
       "    </tr>\n",
       "    <tr>\n",
       "      <th>6</th>\n",
       "      <td>J.D. Salinger</td>\n",
       "      <td>3.825581</td>\n",
       "    </tr>\n",
       "    <tr>\n",
       "      <th>7</th>\n",
       "      <td>Paulo Coelho/Alan R. Clarke/Özdemir İnce</td>\n",
       "      <td>3.789474</td>\n",
       "    </tr>\n",
       "    <tr>\n",
       "      <th>8</th>\n",
       "      <td>William Shakespeare/Paul Werstine/Barbara A. M...</td>\n",
       "      <td>3.787879</td>\n",
       "    </tr>\n",
       "    <tr>\n",
       "      <th>9</th>\n",
       "      <td>Dan Brown</td>\n",
       "      <td>3.754540</td>\n",
       "    </tr>\n",
       "    <tr>\n",
       "      <th>10</th>\n",
       "      <td>Lois Lowry</td>\n",
       "      <td>3.750000</td>\n",
       "    </tr>\n",
       "    <tr>\n",
       "      <th>11</th>\n",
       "      <td>George Orwell/Boris Grabnar/Peter Škerl</td>\n",
       "      <td>3.729730</td>\n",
       "    </tr>\n",
       "    <tr>\n",
       "      <th>12</th>\n",
       "      <td>Stephenie Meyer</td>\n",
       "      <td>3.662500</td>\n",
       "    </tr>\n",
       "    <tr>\n",
       "      <th>13</th>\n",
       "      <td>John Steinbeck</td>\n",
       "      <td>3.622951</td>\n",
       "    </tr>\n",
       "  </tbody>\n",
       "</table>\n",
       "</div>"
      ],
      "text/plain": [
       "                                               author  high_avg_rating\n",
       "0                          J.K. Rowling/Mary GrandPré         4.283844\n",
       "1                   Markus Zusak/Cao Xuân Việt Khương         4.264151\n",
       "2                                      J.R.R. Tolkien         4.258446\n",
       "3                                   Louisa May Alcott         4.192308\n",
       "4                                        Rick Riordan         4.080645\n",
       "5                                     William Golding         3.901408\n",
       "6                                       J.D. Salinger         3.825581\n",
       "7            Paulo Coelho/Alan R. Clarke/Özdemir İnce         3.789474\n",
       "8   William Shakespeare/Paul Werstine/Barbara A. M...         3.787879\n",
       "9                                           Dan Brown         3.754540\n",
       "10                                         Lois Lowry         3.750000\n",
       "11            George Orwell/Boris Grabnar/Peter Škerl         3.729730\n",
       "12                                    Stephenie Meyer         3.662500\n",
       "13                                     John Steinbeck         3.622951"
      ]
     },
     "execution_count": 29,
     "metadata": {},
     "output_type": "execute_result"
    }
   ],
   "source": [
    "avg_max_rating =  '''\n",
    "          SELECT\n",
    "              author,\n",
    "              AVG(sub.avg_rating) AS high_avg_rating\n",
    "          FROM\n",
    "              (SELECT\n",
    "                  author,\n",
    "                  books.book_id,\n",
    "                  AVG(rating) AS avg_rating\n",
    "              FROM \n",
    "                  authors\n",
    "              LEFT JOIN books ON books.author_id = authors.author_id\n",
    "              LEFT JOIN ratings ON ratings.book_id = books.book_id\n",
    "              GROUP BY\n",
    "                  author,\n",
    "                  books.book_id\n",
    "              HAVING\n",
    "                  COUNT(rating) > 50) AS sub\n",
    "          GROUP BY\n",
    "              author\n",
    "          ORDER BY\n",
    "              high_avg_rating DESC\n",
    "        '''\n",
    "\n",
    "author_with_the_highest_rating = pd.io.sql.read_sql(avg_max_rating, con = engine)\n",
    "author_with_the_highest_rating"
   ]
  },
  {
   "cell_type": "markdown",
   "metadata": {},
   "source": [
    "Топ-5 авторов с самой высокой оценкой:\n",
    "    \n",
    "1.Джоан Роулинг - Британская писательница\n",
    "\n",
    "2.Маркус Зузак - Австралийский писатель\n",
    "\n",
    "3.Джон Рональд Руэл Толкин - Британский писатель\n",
    "\n",
    "4.Рик Риордан - Американский писатель\n",
    "\n",
    "5.Уильям Голдинг - Британский писатель\n",
    "\n",
    "В итоге можно наблюдать что из 5 писателей с самой высокой средней оценкой 3 являются гражданами Великобритании."
   ]
  },
  {
   "cell_type": "markdown",
   "metadata": {},
   "source": [
    "## Посчитаем среднее количество обзоров от пользователей, которые поставили больше 50 оценок."
   ]
  },
  {
   "cell_type": "code",
   "execution_count": 30,
   "metadata": {},
   "outputs": [
    {
     "data": {
      "text/html": [
       "<div>\n",
       "<style scoped>\n",
       "    .dataframe tbody tr th:only-of-type {\n",
       "        vertical-align: middle;\n",
       "    }\n",
       "\n",
       "    .dataframe tbody tr th {\n",
       "        vertical-align: top;\n",
       "    }\n",
       "\n",
       "    .dataframe thead th {\n",
       "        text-align: right;\n",
       "    }\n",
       "</style>\n",
       "<table border=\"1\" class=\"dataframe\">\n",
       "  <thead>\n",
       "    <tr style=\"text-align: right;\">\n",
       "      <th></th>\n",
       "      <th>avg_review_cnt</th>\n",
       "    </tr>\n",
       "  </thead>\n",
       "  <tbody>\n",
       "    <tr>\n",
       "      <th>0</th>\n",
       "      <td>24.333333</td>\n",
       "    </tr>\n",
       "  </tbody>\n",
       "</table>\n",
       "</div>"
      ],
      "text/plain": [
       "   avg_review_cnt\n",
       "0       24.333333"
      ]
     },
     "execution_count": 30,
     "metadata": {},
     "output_type": "execute_result"
    }
   ],
   "source": [
    "review_user = '''\n",
    "\n",
    "        SELECT\n",
    "            AVG(sub_review_cnt.review_cnt) AS avg_review_cnt\n",
    "        FROM\n",
    "            (SELECT\n",
    "                COUNT(text) AS review_cnt\n",
    "            FROM \n",
    "                reviews\n",
    "            WHERE username IN\n",
    "                (SELECT username\n",
    "                FROM \n",
    "                    ratings\n",
    "                GROUP BY\n",
    "                    username\n",
    "                HAVING\n",
    "                    COUNT(ratings) > 50)\n",
    "            GROUP BY \n",
    "                    username\n",
    "            ) AS sub_review_cnt  \n",
    "            \n",
    "        '''\n",
    "        \n",
    "avg_count_review = pd.io.sql.read_sql(review_user, con = engine)\n",
    "avg_count_review"
   ]
  },
  {
   "cell_type": "markdown",
   "metadata": {},
   "source": [
    "Среднее количество обзоров от пользователей, которые поставили больше 50 оценок составляет 24 обзора."
   ]
  },
  {
   "cell_type": "markdown",
   "metadata": {},
   "source": [
    "# Выводы:"
   ]
  },
  {
   "cell_type": "markdown",
   "metadata": {},
   "source": [
    "1. После 1 января 2000 года вышло 821 книга.\n",
    "\n",
    "\n",
    "2. Топ-5 книг с самой высоким количеством обзоров и средней оценкой.\n",
    "\n",
    "   1.Сумерки\n",
    "  \n",
    "   2.Гарри Поттер и узник Азкабана\n",
    "  \n",
    "   3.Гарри Поттер и тайная комната\n",
    "  \n",
    "   4.Воровка книг\n",
    "  \n",
    "   5.Стеклянный замок\n",
    "   \n",
    "  \n",
    "3. Издательство, которое выпустило наибольшее число книг толще 50 страниц.\n",
    "   \n",
    "   Британско издательство Penguin Books.\n",
    "   \n",
    "   \n",
    "4. Авторы с самой высокой средней оценкой книг — будем учитывать только книги с 50 и более оценками.\n",
    "\n",
    "   1.Джоан Роулинг - Британская писательница\n",
    "\n",
    "   2.Маркус Зузак - Австралийский писатель\n",
    "\n",
    "   3.Джон Рональд Руэл Толкин - Британский писатель\n",
    "\n",
    "   4.Рик Риордан - Американский писатель\n",
    "\n",
    "   5.Уильям Голдинг - Британский писатель\n",
    "   \n",
    "   \n",
    "5. Среднее количество обзоров от пользователей, которые поставили больше 50 оценок составляет 24 обзора."
   ]
  }
 ],
 "metadata": {
  "ExecuteTimeLog": [
   {
    "duration": 535,
    "start_time": "2022-05-26T08:16:14.524Z"
   },
   {
    "duration": 3,
    "start_time": "2022-05-26T08:17:45.838Z"
   },
   {
    "duration": 3,
    "start_time": "2022-05-26T08:17:55.772Z"
   },
   {
    "duration": 183,
    "start_time": "2022-05-26T08:18:53.010Z"
   },
   {
    "duration": 269,
    "start_time": "2022-05-26T08:19:36.773Z"
   },
   {
    "duration": 53,
    "start_time": "2022-05-26T08:20:17.824Z"
   },
   {
    "duration": 79,
    "start_time": "2022-05-26T08:20:29.774Z"
   },
   {
    "duration": 88,
    "start_time": "2022-05-26T08:21:04.069Z"
   },
   {
    "duration": 76,
    "start_time": "2022-05-26T08:21:39.707Z"
   },
   {
    "duration": 85,
    "start_time": "2022-05-26T08:22:13.181Z"
   },
   {
    "duration": 59,
    "start_time": "2022-05-26T17:48:00.211Z"
   },
   {
    "duration": 505,
    "start_time": "2022-05-26T17:48:05.040Z"
   },
   {
    "duration": 3,
    "start_time": "2022-05-26T17:48:05.547Z"
   },
   {
    "duration": 9,
    "start_time": "2022-05-26T17:48:05.552Z"
   },
   {
    "duration": 3572,
    "start_time": "2022-05-26T17:48:05.767Z"
   },
   {
    "duration": 122,
    "start_time": "2022-05-26T17:48:09.341Z"
   },
   {
    "duration": 12,
    "start_time": "2022-05-26T17:48:09.465Z"
   },
   {
    "duration": 13,
    "start_time": "2022-05-26T17:48:09.479Z"
   },
   {
    "duration": 28,
    "start_time": "2022-05-26T17:48:09.494Z"
   },
   {
    "duration": 10,
    "start_time": "2022-05-26T17:48:09.524Z"
   },
   {
    "duration": 11,
    "start_time": "2022-05-26T17:48:09.536Z"
   },
   {
    "duration": 33,
    "start_time": "2022-05-26T17:53:14.848Z"
   },
   {
    "duration": 11,
    "start_time": "2022-05-26T17:53:29.674Z"
   },
   {
    "duration": 30,
    "start_time": "2022-05-26T17:56:57.745Z"
   },
   {
    "duration": 30,
    "start_time": "2022-05-26T17:59:08.837Z"
   },
   {
    "duration": 23,
    "start_time": "2022-05-26T17:59:31.994Z"
   },
   {
    "duration": 9,
    "start_time": "2022-05-26T17:59:35.439Z"
   },
   {
    "duration": 13,
    "start_time": "2022-05-26T17:59:48.022Z"
   },
   {
    "duration": 17,
    "start_time": "2022-05-26T18:03:12.476Z"
   },
   {
    "duration": 62,
    "start_time": "2022-05-26T18:07:28.048Z"
   },
   {
    "duration": 13,
    "start_time": "2022-05-26T18:10:08.609Z"
   },
   {
    "duration": 31,
    "start_time": "2022-05-26T18:13:43.844Z"
   },
   {
    "duration": 2,
    "start_time": "2022-05-26T19:31:34.413Z"
   },
   {
    "duration": 3,
    "start_time": "2022-05-26T19:31:34.838Z"
   },
   {
    "duration": 3,
    "start_time": "2022-05-26T19:31:35.173Z"
   },
   {
    "duration": 4,
    "start_time": "2022-05-26T19:31:35.563Z"
   },
   {
    "duration": 86,
    "start_time": "2022-05-26T19:31:36.141Z"
   },
   {
    "duration": 12,
    "start_time": "2022-05-26T19:31:36.566Z"
   },
   {
    "duration": 294,
    "start_time": "2022-05-26T19:34:38.285Z"
   },
   {
    "duration": 633,
    "start_time": "2022-05-26T19:34:45.012Z"
   },
   {
    "duration": 623,
    "start_time": "2022-05-26T19:35:25.210Z"
   },
   {
    "duration": 3,
    "start_time": "2022-05-26T19:39:46.780Z"
   },
   {
    "duration": 2,
    "start_time": "2022-05-26T19:39:49.920Z"
   },
   {
    "duration": 3,
    "start_time": "2022-05-26T19:39:49.937Z"
   },
   {
    "duration": 16,
    "start_time": "2022-05-26T19:39:49.941Z"
   },
   {
    "duration": 7,
    "start_time": "2022-05-26T19:39:49.958Z"
   },
   {
    "duration": 62,
    "start_time": "2022-05-26T19:39:49.967Z"
   },
   {
    "duration": 9,
    "start_time": "2022-05-26T19:39:50.031Z"
   },
   {
    "duration": 10,
    "start_time": "2022-05-26T19:39:50.041Z"
   },
   {
    "duration": 10,
    "start_time": "2022-05-26T19:39:50.052Z"
   },
   {
    "duration": 11,
    "start_time": "2022-05-26T19:39:50.063Z"
   },
   {
    "duration": 9,
    "start_time": "2022-05-26T19:39:50.075Z"
   },
   {
    "duration": 658,
    "start_time": "2022-05-26T19:39:50.086Z"
   },
   {
    "duration": 11,
    "start_time": "2022-05-26T19:39:50.745Z"
   },
   {
    "duration": 16,
    "start_time": "2022-05-26T19:39:50.757Z"
   },
   {
    "duration": 12,
    "start_time": "2022-05-26T19:39:50.774Z"
   },
   {
    "duration": 2,
    "start_time": "2022-05-26T19:41:47.820Z"
   },
   {
    "duration": 4,
    "start_time": "2022-05-26T19:41:47.826Z"
   },
   {
    "duration": 5,
    "start_time": "2022-05-26T19:41:47.831Z"
   },
   {
    "duration": 4,
    "start_time": "2022-05-26T19:41:47.838Z"
   },
   {
    "duration": 62,
    "start_time": "2022-05-26T19:41:47.844Z"
   },
   {
    "duration": 10,
    "start_time": "2022-05-26T19:41:47.908Z"
   },
   {
    "duration": 12,
    "start_time": "2022-05-26T19:41:47.920Z"
   },
   {
    "duration": 12,
    "start_time": "2022-05-26T19:41:47.933Z"
   },
   {
    "duration": 11,
    "start_time": "2022-05-26T19:41:47.946Z"
   },
   {
    "duration": 9,
    "start_time": "2022-05-26T19:41:47.958Z"
   },
   {
    "duration": 623,
    "start_time": "2022-05-26T19:41:47.968Z"
   },
   {
    "duration": 12,
    "start_time": "2022-05-26T19:41:48.593Z"
   },
   {
    "duration": 18,
    "start_time": "2022-05-26T19:41:48.607Z"
   },
   {
    "duration": 13,
    "start_time": "2022-05-26T19:41:48.627Z"
   },
   {
    "duration": 3,
    "start_time": "2022-05-26T19:42:29.283Z"
   },
   {
    "duration": 4,
    "start_time": "2022-05-26T19:42:29.300Z"
   },
   {
    "duration": 4,
    "start_time": "2022-05-26T19:42:29.306Z"
   },
   {
    "duration": 5,
    "start_time": "2022-05-26T19:42:29.312Z"
   },
   {
    "duration": 62,
    "start_time": "2022-05-26T19:42:29.318Z"
   },
   {
    "duration": 10,
    "start_time": "2022-05-26T19:42:29.382Z"
   },
   {
    "duration": 11,
    "start_time": "2022-05-26T19:42:29.393Z"
   },
   {
    "duration": 11,
    "start_time": "2022-05-26T19:42:29.406Z"
   },
   {
    "duration": 11,
    "start_time": "2022-05-26T19:42:29.418Z"
   },
   {
    "duration": 9,
    "start_time": "2022-05-26T19:42:29.431Z"
   },
   {
    "duration": 637,
    "start_time": "2022-05-26T19:42:29.442Z"
   },
   {
    "duration": 12,
    "start_time": "2022-05-26T19:42:30.081Z"
   },
   {
    "duration": 16,
    "start_time": "2022-05-26T19:42:30.095Z"
   },
   {
    "duration": 13,
    "start_time": "2022-05-26T19:42:30.112Z"
   }
  ],
  "kernelspec": {
   "display_name": "Python 3 (ipykernel)",
   "language": "python",
   "name": "python3"
  },
  "language_info": {
   "codemirror_mode": {
    "name": "ipython",
    "version": 3
   },
   "file_extension": ".py",
   "mimetype": "text/x-python",
   "name": "python",
   "nbconvert_exporter": "python",
   "pygments_lexer": "ipython3",
   "version": "3.9.12"
  },
  "toc": {
   "base_numbering": 1,
   "nav_menu": {},
   "number_sections": true,
   "sideBar": true,
   "skip_h1_title": true,
   "title_cell": "Table of Contents",
   "title_sidebar": "Contents",
   "toc_cell": false,
   "toc_position": {},
   "toc_section_display": true,
   "toc_window_display": false
  }
 },
 "nbformat": 4,
 "nbformat_minor": 2
}
