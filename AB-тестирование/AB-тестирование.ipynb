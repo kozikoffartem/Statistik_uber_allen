{
 "cells": [
  {
   "cell_type": "markdown",
   "metadata": {},
   "source": [
    "# Описание проекта."
   ]
  },
  {
   "cell_type": "markdown",
   "metadata": {},
   "source": [
    "Вы — аналитик крупного интернет-магазина. Вместе с отделом маркетинга вы подготовили список гипотез для увеличения выручки. Приоритизируйте гипотезы, запустите A/B-тест и проанализируйте результаты."
   ]
  },
  {
   "cell_type": "markdown",
   "metadata": {},
   "source": [
    "## Импорт необходимых библиотек:"
   ]
  },
  {
   "cell_type": "code",
   "execution_count": 91,
   "metadata": {},
   "outputs": [],
   "source": [
    "import pandas as pd\n",
    "import scipy.stats as stats\n",
    "import datetime as dt\n",
    "import numpy as np\n",
    "import math as mth\n",
    "import matplotlib.pyplot as plt\n",
    "from IPython.core.display import display, HTML\n",
    "from pandas.plotting import register_matplotlib_converters\n",
    "import warnings"
   ]
  },
  {
   "cell_type": "markdown",
   "metadata": {},
   "source": [
    "## Приоритизация гипотез."
   ]
  },
  {
   "cell_type": "markdown",
   "metadata": {},
   "source": [
    "### Загрузка и изучение данных из файлов"
   ]
  },
  {
   "cell_type": "code",
   "execution_count": 92,
   "metadata": {},
   "outputs": [
    {
     "data": {
      "text/html": [
       "<font color='green'>-------------------------------------------------------</font>"
      ],
      "text/plain": [
       "<IPython.core.display.HTML object>"
      ]
     },
     "metadata": {},
     "output_type": "display_data"
    },
    {
     "data": {
      "text/html": [
       "<font color='green'>ОБЩАЯ ИНФОРМАЦИЯ HYPOTHESIS</font>"
      ],
      "text/plain": [
       "<IPython.core.display.HTML object>"
      ]
     },
     "metadata": {},
     "output_type": "display_data"
    },
    {
     "data": {
      "text/html": [
       "<font color='green'>-------------------------------------------------------</font>"
      ],
      "text/plain": [
       "<IPython.core.display.HTML object>"
      ]
     },
     "metadata": {},
     "output_type": "display_data"
    },
    {
     "name": "stdout",
     "output_type": "stream",
     "text": [
      "<class 'pandas.core.frame.DataFrame'>\n",
      "RangeIndex: 9 entries, 0 to 8\n",
      "Data columns (total 5 columns):\n",
      " #   Column      Non-Null Count  Dtype \n",
      "---  ------      --------------  ----- \n",
      " 0   Hypothesis  9 non-null      object\n",
      " 1   Reach       9 non-null      int64 \n",
      " 2   Impact      9 non-null      int64 \n",
      " 3   Confidence  9 non-null      int64 \n",
      " 4   Efforts     9 non-null      int64 \n",
      "dtypes: int64(4), object(1)\n",
      "memory usage: 488.0+ bytes\n"
     ]
    },
    {
     "data": {
      "text/html": [
       "<font color='green'>-----------------------------------------------------------------</font>"
      ],
      "text/plain": [
       "<IPython.core.display.HTML object>"
      ]
     },
     "metadata": {},
     "output_type": "display_data"
    },
    {
     "data": {
      "text/html": [
       "<font color='green'>ОПИСАТЕЛЬНАЯ СТАТИСТИКА HYPOTHESIS</font>"
      ],
      "text/plain": [
       "<IPython.core.display.HTML object>"
      ]
     },
     "metadata": {},
     "output_type": "display_data"
    },
    {
     "data": {
      "text/html": [
       "<font color='green'>-----------------------------------------------------------------</font>"
      ],
      "text/plain": [
       "<IPython.core.display.HTML object>"
      ]
     },
     "metadata": {},
     "output_type": "display_data"
    },
    {
     "data": {
      "text/html": [
       "<div>\n",
       "<style scoped>\n",
       "    .dataframe tbody tr th:only-of-type {\n",
       "        vertical-align: middle;\n",
       "    }\n",
       "\n",
       "    .dataframe tbody tr th {\n",
       "        vertical-align: top;\n",
       "    }\n",
       "\n",
       "    .dataframe thead th {\n",
       "        text-align: right;\n",
       "    }\n",
       "</style>\n",
       "<table border=\"1\" class=\"dataframe\">\n",
       "  <thead>\n",
       "    <tr style=\"text-align: right;\">\n",
       "      <th></th>\n",
       "      <th>Reach</th>\n",
       "      <th>Impact</th>\n",
       "      <th>Confidence</th>\n",
       "      <th>Efforts</th>\n",
       "    </tr>\n",
       "  </thead>\n",
       "  <tbody>\n",
       "    <tr>\n",
       "      <th>count</th>\n",
       "      <td>9.000000</td>\n",
       "      <td>9.000000</td>\n",
       "      <td>9.000000</td>\n",
       "      <td>9.000000</td>\n",
       "    </tr>\n",
       "    <tr>\n",
       "      <th>mean</th>\n",
       "      <td>4.777778</td>\n",
       "      <td>4.777778</td>\n",
       "      <td>5.555556</td>\n",
       "      <td>4.888889</td>\n",
       "    </tr>\n",
       "    <tr>\n",
       "      <th>std</th>\n",
       "      <td>3.153481</td>\n",
       "      <td>3.192874</td>\n",
       "      <td>3.045944</td>\n",
       "      <td>2.803767</td>\n",
       "    </tr>\n",
       "    <tr>\n",
       "      <th>min</th>\n",
       "      <td>1.000000</td>\n",
       "      <td>1.000000</td>\n",
       "      <td>1.000000</td>\n",
       "      <td>1.000000</td>\n",
       "    </tr>\n",
       "    <tr>\n",
       "      <th>25%</th>\n",
       "      <td>3.000000</td>\n",
       "      <td>3.000000</td>\n",
       "      <td>3.000000</td>\n",
       "      <td>3.000000</td>\n",
       "    </tr>\n",
       "    <tr>\n",
       "      <th>50%</th>\n",
       "      <td>3.000000</td>\n",
       "      <td>3.000000</td>\n",
       "      <td>7.000000</td>\n",
       "      <td>5.000000</td>\n",
       "    </tr>\n",
       "    <tr>\n",
       "      <th>75%</th>\n",
       "      <td>8.000000</td>\n",
       "      <td>7.000000</td>\n",
       "      <td>8.000000</td>\n",
       "      <td>6.000000</td>\n",
       "    </tr>\n",
       "    <tr>\n",
       "      <th>max</th>\n",
       "      <td>10.000000</td>\n",
       "      <td>10.000000</td>\n",
       "      <td>9.000000</td>\n",
       "      <td>10.000000</td>\n",
       "    </tr>\n",
       "  </tbody>\n",
       "</table>\n",
       "</div>"
      ],
      "text/plain": [
       "           Reach     Impact  Confidence    Efforts\n",
       "count   9.000000   9.000000    9.000000   9.000000\n",
       "mean    4.777778   4.777778    5.555556   4.888889\n",
       "std     3.153481   3.192874    3.045944   2.803767\n",
       "min     1.000000   1.000000    1.000000   1.000000\n",
       "25%     3.000000   3.000000    3.000000   3.000000\n",
       "50%     3.000000   3.000000    7.000000   5.000000\n",
       "75%     8.000000   7.000000    8.000000   6.000000\n",
       "max    10.000000  10.000000    9.000000  10.000000"
      ]
     },
     "execution_count": 92,
     "metadata": {},
     "output_type": "execute_result"
    }
   ],
   "source": [
    "hypothesis = pd.read_csv('/datasets/hypothesis.csv')\n",
    "display(HTML(\"<font color='green'>-------------------------------------------------------</font>\"))\n",
    "display(HTML(\"<font color='green'>ОБЩАЯ ИНФОРМАЦИЯ HYPOTHESIS</font>\"))\n",
    "display(HTML(\"<font color='green'>-------------------------------------------------------</font>\"))\n",
    "hypothesis.info()\n",
    "display(HTML(\"<font color='green'>-----------------------------------------------------------------</font>\"))\n",
    "display(HTML(\"<font color='green'>ОПИСАТЕЛЬНАЯ СТАТИСТИКА HYPOTHESIS</font>\"))\n",
    "display(HTML(\"<font color='green'>-----------------------------------------------------------------</font>\"))\n",
    "hypothesis.describe()"
   ]
  },
  {
   "cell_type": "markdown",
   "metadata": {},
   "source": [
    "### Привёл названия к нижнему регистру,"
   ]
  },
  {
   "cell_type": "code",
   "execution_count": 93,
   "metadata": {},
   "outputs": [],
   "source": [
    "hypothesis.columns = hypothesis.columns.str.lower()"
   ]
  },
  {
   "cell_type": "markdown",
   "metadata": {},
   "source": [
    "### Подсчёт количества дубликатов."
   ]
  },
  {
   "cell_type": "code",
   "execution_count": 94,
   "metadata": {},
   "outputs": [
    {
     "name": "stdout",
     "output_type": "stream",
     "text": [
      "Дублирующихся строк в таблице hypothesis: 0\n"
     ]
    }
   ],
   "source": [
    "print(\"Дублирующихся строк в таблице hypothesis:\", hypothesis.duplicated().sum())"
   ]
  },
  {
   "cell_type": "markdown",
   "metadata": {},
   "source": [
    "### Подсчёт количества пропусков."
   ]
  },
  {
   "cell_type": "code",
   "execution_count": 95,
   "metadata": {},
   "outputs": [
    {
     "name": "stdout",
     "output_type": "stream",
     "text": [
      "Пропусков в таблице hypothesis: 0\n"
     ]
    }
   ],
   "source": [
    "print(\"Пропусков в таблице hypothesis:\", hypothesis.isna().sum().sum())"
   ]
  },
  {
   "cell_type": "markdown",
   "metadata": {},
   "source": [
    "### Фреймворк ICE для приоритизации гипотез."
   ]
  },
  {
   "cell_type": "code",
   "execution_count": 96,
   "metadata": {},
   "outputs": [
    {
     "data": {
      "text/html": [
       "<div>\n",
       "<style scoped>\n",
       "    .dataframe tbody tr th:only-of-type {\n",
       "        vertical-align: middle;\n",
       "    }\n",
       "\n",
       "    .dataframe tbody tr th {\n",
       "        vertical-align: top;\n",
       "    }\n",
       "\n",
       "    .dataframe thead th {\n",
       "        text-align: right;\n",
       "    }\n",
       "</style>\n",
       "<table border=\"1\" class=\"dataframe\">\n",
       "  <thead>\n",
       "    <tr style=\"text-align: right;\">\n",
       "      <th></th>\n",
       "      <th>hypothesis</th>\n",
       "      <th>ice</th>\n",
       "    </tr>\n",
       "  </thead>\n",
       "  <tbody>\n",
       "    <tr>\n",
       "      <th>8</th>\n",
       "      <td>Запустить акцию, дающую скидку на товар в день...</td>\n",
       "      <td>16.200000</td>\n",
       "    </tr>\n",
       "    <tr>\n",
       "      <th>0</th>\n",
       "      <td>Добавить два новых канала привлечения трафика,...</td>\n",
       "      <td>13.333333</td>\n",
       "    </tr>\n",
       "    <tr>\n",
       "      <th>7</th>\n",
       "      <td>Добавить форму подписки на все основные страни...</td>\n",
       "      <td>11.200000</td>\n",
       "    </tr>\n",
       "    <tr>\n",
       "      <th>6</th>\n",
       "      <td>Показать на главной странице баннеры с актуаль...</td>\n",
       "      <td>8.000000</td>\n",
       "    </tr>\n",
       "    <tr>\n",
       "      <th>2</th>\n",
       "      <td>Добавить блоки рекомендаций товаров на сайт ин...</td>\n",
       "      <td>7.000000</td>\n",
       "    </tr>\n",
       "    <tr>\n",
       "      <th>1</th>\n",
       "      <td>Запустить собственную службу доставки, что сок...</td>\n",
       "      <td>2.000000</td>\n",
       "    </tr>\n",
       "    <tr>\n",
       "      <th>5</th>\n",
       "      <td>Добавить страницу отзывов клиентов о магазине,...</td>\n",
       "      <td>1.333333</td>\n",
       "    </tr>\n",
       "    <tr>\n",
       "      <th>3</th>\n",
       "      <td>Изменить структура категорий, что увеличит кон...</td>\n",
       "      <td>1.125000</td>\n",
       "    </tr>\n",
       "    <tr>\n",
       "      <th>4</th>\n",
       "      <td>Изменить цвет фона главной страницы, чтобы уве...</td>\n",
       "      <td>1.000000</td>\n",
       "    </tr>\n",
       "  </tbody>\n",
       "</table>\n",
       "</div>"
      ],
      "text/plain": [
       "                                          hypothesis        ice\n",
       "8  Запустить акцию, дающую скидку на товар в день...  16.200000\n",
       "0  Добавить два новых канала привлечения трафика,...  13.333333\n",
       "7  Добавить форму подписки на все основные страни...  11.200000\n",
       "6  Показать на главной странице баннеры с актуаль...   8.000000\n",
       "2  Добавить блоки рекомендаций товаров на сайт ин...   7.000000\n",
       "1  Запустить собственную службу доставки, что сок...   2.000000\n",
       "5  Добавить страницу отзывов клиентов о магазине,...   1.333333\n",
       "3  Изменить структура категорий, что увеличит кон...   1.125000\n",
       "4  Изменить цвет фона главной страницы, чтобы уве...   1.000000"
      ]
     },
     "metadata": {},
     "output_type": "display_data"
    }
   ],
   "source": [
    "hypothesis['ice'] = (hypothesis['impact'] * hypothesis['confidence']) / hypothesis['efforts']\n",
    "display(hypothesis[['hypothesis','ice']].sort_values(by='ice', ascending=False))"
   ]
  },
  {
   "cell_type": "markdown",
   "metadata": {},
   "source": [
    "\n",
    "Самые приоритетные гипотезы 8, 0, 7."
   ]
  },
  {
   "cell_type": "markdown",
   "metadata": {},
   "source": [
    "### Фреймворк RICE для приоритизации гипотез."
   ]
  },
  {
   "cell_type": "code",
   "execution_count": 97,
   "metadata": {},
   "outputs": [
    {
     "data": {
      "text/html": [
       "<div>\n",
       "<style scoped>\n",
       "    .dataframe tbody tr th:only-of-type {\n",
       "        vertical-align: middle;\n",
       "    }\n",
       "\n",
       "    .dataframe tbody tr th {\n",
       "        vertical-align: top;\n",
       "    }\n",
       "\n",
       "    .dataframe thead th {\n",
       "        text-align: right;\n",
       "    }\n",
       "</style>\n",
       "<table border=\"1\" class=\"dataframe\">\n",
       "  <thead>\n",
       "    <tr style=\"text-align: right;\">\n",
       "      <th></th>\n",
       "      <th>hypothesis</th>\n",
       "      <th>reach</th>\n",
       "      <th>impact</th>\n",
       "      <th>confidence</th>\n",
       "      <th>efforts</th>\n",
       "      <th>ice</th>\n",
       "    </tr>\n",
       "  </thead>\n",
       "  <tbody>\n",
       "    <tr>\n",
       "      <th>0</th>\n",
       "      <td>Добавить два новых канала привлечения трафика,...</td>\n",
       "      <td>3</td>\n",
       "      <td>10</td>\n",
       "      <td>8</td>\n",
       "      <td>6</td>\n",
       "      <td>13.333333</td>\n",
       "    </tr>\n",
       "    <tr>\n",
       "      <th>1</th>\n",
       "      <td>Запустить собственную службу доставки, что сок...</td>\n",
       "      <td>2</td>\n",
       "      <td>5</td>\n",
       "      <td>4</td>\n",
       "      <td>10</td>\n",
       "      <td>2.000000</td>\n",
       "    </tr>\n",
       "    <tr>\n",
       "      <th>2</th>\n",
       "      <td>Добавить блоки рекомендаций товаров на сайт ин...</td>\n",
       "      <td>8</td>\n",
       "      <td>3</td>\n",
       "      <td>7</td>\n",
       "      <td>3</td>\n",
       "      <td>7.000000</td>\n",
       "    </tr>\n",
       "    <tr>\n",
       "      <th>3</th>\n",
       "      <td>Изменить структура категорий, что увеличит кон...</td>\n",
       "      <td>8</td>\n",
       "      <td>3</td>\n",
       "      <td>3</td>\n",
       "      <td>8</td>\n",
       "      <td>1.125000</td>\n",
       "    </tr>\n",
       "    <tr>\n",
       "      <th>4</th>\n",
       "      <td>Изменить цвет фона главной страницы, чтобы уве...</td>\n",
       "      <td>3</td>\n",
       "      <td>1</td>\n",
       "      <td>1</td>\n",
       "      <td>1</td>\n",
       "      <td>1.000000</td>\n",
       "    </tr>\n",
       "    <tr>\n",
       "      <th>5</th>\n",
       "      <td>Добавить страницу отзывов клиентов о магазине,...</td>\n",
       "      <td>3</td>\n",
       "      <td>2</td>\n",
       "      <td>2</td>\n",
       "      <td>3</td>\n",
       "      <td>1.333333</td>\n",
       "    </tr>\n",
       "    <tr>\n",
       "      <th>6</th>\n",
       "      <td>Показать на главной странице баннеры с актуаль...</td>\n",
       "      <td>5</td>\n",
       "      <td>3</td>\n",
       "      <td>8</td>\n",
       "      <td>3</td>\n",
       "      <td>8.000000</td>\n",
       "    </tr>\n",
       "    <tr>\n",
       "      <th>7</th>\n",
       "      <td>Добавить форму подписки на все основные страни...</td>\n",
       "      <td>10</td>\n",
       "      <td>7</td>\n",
       "      <td>8</td>\n",
       "      <td>5</td>\n",
       "      <td>11.200000</td>\n",
       "    </tr>\n",
       "    <tr>\n",
       "      <th>8</th>\n",
       "      <td>Запустить акцию, дающую скидку на товар в день...</td>\n",
       "      <td>1</td>\n",
       "      <td>9</td>\n",
       "      <td>9</td>\n",
       "      <td>5</td>\n",
       "      <td>16.200000</td>\n",
       "    </tr>\n",
       "  </tbody>\n",
       "</table>\n",
       "</div>"
      ],
      "text/plain": [
       "                                          hypothesis  reach  impact  \\\n",
       "0  Добавить два новых канала привлечения трафика,...      3      10   \n",
       "1  Запустить собственную службу доставки, что сок...      2       5   \n",
       "2  Добавить блоки рекомендаций товаров на сайт ин...      8       3   \n",
       "3  Изменить структура категорий, что увеличит кон...      8       3   \n",
       "4  Изменить цвет фона главной страницы, чтобы уве...      3       1   \n",
       "5  Добавить страницу отзывов клиентов о магазине,...      3       2   \n",
       "6  Показать на главной странице баннеры с актуаль...      5       3   \n",
       "7  Добавить форму подписки на все основные страни...     10       7   \n",
       "8  Запустить акцию, дающую скидку на товар в день...      1       9   \n",
       "\n",
       "   confidence  efforts        ice  \n",
       "0           8        6  13.333333  \n",
       "1           4       10   2.000000  \n",
       "2           7        3   7.000000  \n",
       "3           3        8   1.125000  \n",
       "4           1        1   1.000000  \n",
       "5           2        3   1.333333  \n",
       "6           8        3   8.000000  \n",
       "7           8        5  11.200000  \n",
       "8           9        5  16.200000  "
      ]
     },
     "metadata": {},
     "output_type": "display_data"
    },
    {
     "data": {
      "text/html": [
       "<div>\n",
       "<style scoped>\n",
       "    .dataframe tbody tr th:only-of-type {\n",
       "        vertical-align: middle;\n",
       "    }\n",
       "\n",
       "    .dataframe tbody tr th {\n",
       "        vertical-align: top;\n",
       "    }\n",
       "\n",
       "    .dataframe thead th {\n",
       "        text-align: right;\n",
       "    }\n",
       "</style>\n",
       "<table border=\"1\" class=\"dataframe\">\n",
       "  <thead>\n",
       "    <tr style=\"text-align: right;\">\n",
       "      <th></th>\n",
       "      <th>hypothesis</th>\n",
       "      <th>rice</th>\n",
       "    </tr>\n",
       "  </thead>\n",
       "  <tbody>\n",
       "    <tr>\n",
       "      <th>7</th>\n",
       "      <td>Добавить форму подписки на все основные страни...</td>\n",
       "      <td>112.0</td>\n",
       "    </tr>\n",
       "    <tr>\n",
       "      <th>2</th>\n",
       "      <td>Добавить блоки рекомендаций товаров на сайт ин...</td>\n",
       "      <td>56.0</td>\n",
       "    </tr>\n",
       "    <tr>\n",
       "      <th>0</th>\n",
       "      <td>Добавить два новых канала привлечения трафика,...</td>\n",
       "      <td>40.0</td>\n",
       "    </tr>\n",
       "    <tr>\n",
       "      <th>6</th>\n",
       "      <td>Показать на главной странице баннеры с актуаль...</td>\n",
       "      <td>40.0</td>\n",
       "    </tr>\n",
       "    <tr>\n",
       "      <th>8</th>\n",
       "      <td>Запустить акцию, дающую скидку на товар в день...</td>\n",
       "      <td>16.2</td>\n",
       "    </tr>\n",
       "    <tr>\n",
       "      <th>3</th>\n",
       "      <td>Изменить структура категорий, что увеличит кон...</td>\n",
       "      <td>9.0</td>\n",
       "    </tr>\n",
       "    <tr>\n",
       "      <th>1</th>\n",
       "      <td>Запустить собственную службу доставки, что сок...</td>\n",
       "      <td>4.0</td>\n",
       "    </tr>\n",
       "    <tr>\n",
       "      <th>5</th>\n",
       "      <td>Добавить страницу отзывов клиентов о магазине,...</td>\n",
       "      <td>4.0</td>\n",
       "    </tr>\n",
       "    <tr>\n",
       "      <th>4</th>\n",
       "      <td>Изменить цвет фона главной страницы, чтобы уве...</td>\n",
       "      <td>3.0</td>\n",
       "    </tr>\n",
       "  </tbody>\n",
       "</table>\n",
       "</div>"
      ],
      "text/plain": [
       "                                          hypothesis   rice\n",
       "7  Добавить форму подписки на все основные страни...  112.0\n",
       "2  Добавить блоки рекомендаций товаров на сайт ин...   56.0\n",
       "0  Добавить два новых канала привлечения трафика,...   40.0\n",
       "6  Показать на главной странице баннеры с актуаль...   40.0\n",
       "8  Запустить акцию, дающую скидку на товар в день...   16.2\n",
       "3  Изменить структура категорий, что увеличит кон...    9.0\n",
       "1  Запустить собственную службу доставки, что сок...    4.0\n",
       "5  Добавить страницу отзывов клиентов о магазине,...    4.0\n",
       "4  Изменить цвет фона главной страницы, чтобы уве...    3.0"
      ]
     },
     "metadata": {},
     "output_type": "display_data"
    }
   ],
   "source": [
    "display(hypothesis)\n",
    "hypothesis['rice'] = (hypothesis['reach'] * hypothesis['impact'] * hypothesis['confidence']) / hypothesis['efforts']\n",
    "display(hypothesis[['hypothesis','rice']].sort_values(by = 'rice',ascending = False))"
   ]
  },
  {
   "cell_type": "markdown",
   "metadata": {},
   "source": [
    "\n",
    "Самые приоритетные гипотезы 7, 2, 0, но на этот раз на 1 месте на первом месте гипотеза под номером 7. Так получилось потому что её параметр \"REACH(скольких пользователей затронет изменение, которое вы хотите внести)\" равен 10."
   ]
  },
  {
   "cell_type": "markdown",
   "metadata": {},
   "source": [
    "## Анализ A/B-теста."
   ]
  },
  {
   "cell_type": "markdown",
   "metadata": {},
   "source": [
    "### Загрузка и изучение данных из файлов"
   ]
  },
  {
   "cell_type": "code",
   "execution_count": 98,
   "metadata": {},
   "outputs": [
    {
     "data": {
      "text/html": [
       "<font color='green'>-------------------------------------------------------</font>"
      ],
      "text/plain": [
       "<IPython.core.display.HTML object>"
      ]
     },
     "metadata": {},
     "output_type": "display_data"
    },
    {
     "data": {
      "text/html": [
       "<font color='green'>ОБЩАЯ ИНФОРМАЦИЯ ORDERS</font>"
      ],
      "text/plain": [
       "<IPython.core.display.HTML object>"
      ]
     },
     "metadata": {},
     "output_type": "display_data"
    },
    {
     "data": {
      "text/html": [
       "<font color='green'>-------------------------------------------------------</font>"
      ],
      "text/plain": [
       "<IPython.core.display.HTML object>"
      ]
     },
     "metadata": {},
     "output_type": "display_data"
    },
    {
     "name": "stdout",
     "output_type": "stream",
     "text": [
      "<class 'pandas.core.frame.DataFrame'>\n",
      "RangeIndex: 1197 entries, 0 to 1196\n",
      "Data columns (total 5 columns):\n",
      " #   Column         Non-Null Count  Dtype \n",
      "---  ------         --------------  ----- \n",
      " 0   transactionId  1197 non-null   int64 \n",
      " 1   visitorId      1197 non-null   int64 \n",
      " 2   date           1197 non-null   object\n",
      " 3   revenue        1197 non-null   int64 \n",
      " 4   group          1197 non-null   object\n",
      "dtypes: int64(3), object(2)\n",
      "memory usage: 46.9+ KB\n"
     ]
    },
    {
     "data": {
      "text/html": [
       "<font color='green'>-----------------------------------------------------------------</font>"
      ],
      "text/plain": [
       "<IPython.core.display.HTML object>"
      ]
     },
     "metadata": {},
     "output_type": "display_data"
    },
    {
     "data": {
      "text/html": [
       "<font color='green'>ОПИСАТЕЛЬНАЯ СТАТИСТИКА ORDERS</font>"
      ],
      "text/plain": [
       "<IPython.core.display.HTML object>"
      ]
     },
     "metadata": {},
     "output_type": "display_data"
    },
    {
     "data": {
      "text/html": [
       "<font color='green'>-----------------------------------------------------------------</font>"
      ],
      "text/plain": [
       "<IPython.core.display.HTML object>"
      ]
     },
     "metadata": {},
     "output_type": "display_data"
    },
    {
     "data": {
      "text/html": [
       "<div>\n",
       "<style scoped>\n",
       "    .dataframe tbody tr th:only-of-type {\n",
       "        vertical-align: middle;\n",
       "    }\n",
       "\n",
       "    .dataframe tbody tr th {\n",
       "        vertical-align: top;\n",
       "    }\n",
       "\n",
       "    .dataframe thead th {\n",
       "        text-align: right;\n",
       "    }\n",
       "</style>\n",
       "<table border=\"1\" class=\"dataframe\">\n",
       "  <thead>\n",
       "    <tr style=\"text-align: right;\">\n",
       "      <th></th>\n",
       "      <th>transactionId</th>\n",
       "      <th>visitorId</th>\n",
       "      <th>revenue</th>\n",
       "    </tr>\n",
       "  </thead>\n",
       "  <tbody>\n",
       "    <tr>\n",
       "      <th>count</th>\n",
       "      <td>1.197000e+03</td>\n",
       "      <td>1.197000e+03</td>\n",
       "      <td>1.197000e+03</td>\n",
       "    </tr>\n",
       "    <tr>\n",
       "      <th>mean</th>\n",
       "      <td>2.155621e+09</td>\n",
       "      <td>2.165960e+09</td>\n",
       "      <td>8.348006e+03</td>\n",
       "    </tr>\n",
       "    <tr>\n",
       "      <th>std</th>\n",
       "      <td>1.229085e+09</td>\n",
       "      <td>1.236014e+09</td>\n",
       "      <td>3.919113e+04</td>\n",
       "    </tr>\n",
       "    <tr>\n",
       "      <th>min</th>\n",
       "      <td>1.062393e+06</td>\n",
       "      <td>5.114589e+06</td>\n",
       "      <td>5.000000e+01</td>\n",
       "    </tr>\n",
       "    <tr>\n",
       "      <th>25%</th>\n",
       "      <td>1.166776e+09</td>\n",
       "      <td>1.111826e+09</td>\n",
       "      <td>1.220000e+03</td>\n",
       "    </tr>\n",
       "    <tr>\n",
       "      <th>50%</th>\n",
       "      <td>2.145194e+09</td>\n",
       "      <td>2.217985e+09</td>\n",
       "      <td>2.978000e+03</td>\n",
       "    </tr>\n",
       "    <tr>\n",
       "      <th>75%</th>\n",
       "      <td>3.237740e+09</td>\n",
       "      <td>3.177606e+09</td>\n",
       "      <td>8.290000e+03</td>\n",
       "    </tr>\n",
       "    <tr>\n",
       "      <th>max</th>\n",
       "      <td>4.293856e+09</td>\n",
       "      <td>4.283872e+09</td>\n",
       "      <td>1.294500e+06</td>\n",
       "    </tr>\n",
       "  </tbody>\n",
       "</table>\n",
       "</div>"
      ],
      "text/plain": [
       "       transactionId     visitorId       revenue\n",
       "count   1.197000e+03  1.197000e+03  1.197000e+03\n",
       "mean    2.155621e+09  2.165960e+09  8.348006e+03\n",
       "std     1.229085e+09  1.236014e+09  3.919113e+04\n",
       "min     1.062393e+06  5.114589e+06  5.000000e+01\n",
       "25%     1.166776e+09  1.111826e+09  1.220000e+03\n",
       "50%     2.145194e+09  2.217985e+09  2.978000e+03\n",
       "75%     3.237740e+09  3.177606e+09  8.290000e+03\n",
       "max     4.293856e+09  4.283872e+09  1.294500e+06"
      ]
     },
     "execution_count": 98,
     "metadata": {},
     "output_type": "execute_result"
    }
   ],
   "source": [
    "orders = pd.read_csv('/datasets/orders.csv')\n",
    "display(HTML(\"<font color='green'>-------------------------------------------------------</font>\"))\n",
    "display(HTML(\"<font color='green'>ОБЩАЯ ИНФОРМАЦИЯ ORDERS</font>\"))\n",
    "display(HTML(\"<font color='green'>-------------------------------------------------------</font>\"))\n",
    "orders.info()\n",
    "display(HTML(\"<font color='green'>-----------------------------------------------------------------</font>\"))\n",
    "display(HTML(\"<font color='green'>ОПИСАТЕЛЬНАЯ СТАТИСТИКА ORDERS</font>\"))\n",
    "display(HTML(\"<font color='green'>-----------------------------------------------------------------</font>\"))\n",
    "orders.describe()"
   ]
  },
  {
   "cell_type": "code",
   "execution_count": 99,
   "metadata": {},
   "outputs": [
    {
     "data": {
      "text/html": [
       "<font color='green'>-------------------------------------------------------</font>"
      ],
      "text/plain": [
       "<IPython.core.display.HTML object>"
      ]
     },
     "metadata": {},
     "output_type": "display_data"
    },
    {
     "data": {
      "text/html": [
       "<font color='green'>ОБЩАЯ ИНФОРМАЦИЯ VISITORS</font>"
      ],
      "text/plain": [
       "<IPython.core.display.HTML object>"
      ]
     },
     "metadata": {},
     "output_type": "display_data"
    },
    {
     "data": {
      "text/html": [
       "<font color='green'>-------------------------------------------------------</font>"
      ],
      "text/plain": [
       "<IPython.core.display.HTML object>"
      ]
     },
     "metadata": {},
     "output_type": "display_data"
    },
    {
     "name": "stdout",
     "output_type": "stream",
     "text": [
      "<class 'pandas.core.frame.DataFrame'>\n",
      "RangeIndex: 62 entries, 0 to 61\n",
      "Data columns (total 3 columns):\n",
      " #   Column    Non-Null Count  Dtype \n",
      "---  ------    --------------  ----- \n",
      " 0   date      62 non-null     object\n",
      " 1   group     62 non-null     object\n",
      " 2   visitors  62 non-null     int64 \n",
      "dtypes: int64(1), object(2)\n",
      "memory usage: 1.6+ KB\n"
     ]
    },
    {
     "data": {
      "text/html": [
       "<font color='green'>-----------------------------------------------------------------</font>"
      ],
      "text/plain": [
       "<IPython.core.display.HTML object>"
      ]
     },
     "metadata": {},
     "output_type": "display_data"
    },
    {
     "data": {
      "text/html": [
       "<font color='green'>ОПИСАТЕЛЬНАЯ СТАТИСТИКА VISITORS</font>"
      ],
      "text/plain": [
       "<IPython.core.display.HTML object>"
      ]
     },
     "metadata": {},
     "output_type": "display_data"
    },
    {
     "data": {
      "text/html": [
       "<font color='green'>-----------------------------------------------------------------</font>"
      ],
      "text/plain": [
       "<IPython.core.display.HTML object>"
      ]
     },
     "metadata": {},
     "output_type": "display_data"
    },
    {
     "data": {
      "text/html": [
       "<div>\n",
       "<style scoped>\n",
       "    .dataframe tbody tr th:only-of-type {\n",
       "        vertical-align: middle;\n",
       "    }\n",
       "\n",
       "    .dataframe tbody tr th {\n",
       "        vertical-align: top;\n",
       "    }\n",
       "\n",
       "    .dataframe thead th {\n",
       "        text-align: right;\n",
       "    }\n",
       "</style>\n",
       "<table border=\"1\" class=\"dataframe\">\n",
       "  <thead>\n",
       "    <tr style=\"text-align: right;\">\n",
       "      <th></th>\n",
       "      <th>visitors</th>\n",
       "    </tr>\n",
       "  </thead>\n",
       "  <tbody>\n",
       "    <tr>\n",
       "      <th>count</th>\n",
       "      <td>62.000000</td>\n",
       "    </tr>\n",
       "    <tr>\n",
       "      <th>mean</th>\n",
       "      <td>607.290323</td>\n",
       "    </tr>\n",
       "    <tr>\n",
       "      <th>std</th>\n",
       "      <td>114.400560</td>\n",
       "    </tr>\n",
       "    <tr>\n",
       "      <th>min</th>\n",
       "      <td>361.000000</td>\n",
       "    </tr>\n",
       "    <tr>\n",
       "      <th>25%</th>\n",
       "      <td>534.000000</td>\n",
       "    </tr>\n",
       "    <tr>\n",
       "      <th>50%</th>\n",
       "      <td>624.500000</td>\n",
       "    </tr>\n",
       "    <tr>\n",
       "      <th>75%</th>\n",
       "      <td>710.500000</td>\n",
       "    </tr>\n",
       "    <tr>\n",
       "      <th>max</th>\n",
       "      <td>770.000000</td>\n",
       "    </tr>\n",
       "  </tbody>\n",
       "</table>\n",
       "</div>"
      ],
      "text/plain": [
       "         visitors\n",
       "count   62.000000\n",
       "mean   607.290323\n",
       "std    114.400560\n",
       "min    361.000000\n",
       "25%    534.000000\n",
       "50%    624.500000\n",
       "75%    710.500000\n",
       "max    770.000000"
      ]
     },
     "execution_count": 99,
     "metadata": {},
     "output_type": "execute_result"
    }
   ],
   "source": [
    "visitors = pd.read_csv('/datasets/visitors.csv')\n",
    "display(HTML(\"<font color='green'>-------------------------------------------------------</font>\"))\n",
    "display(HTML(\"<font color='green'>ОБЩАЯ ИНФОРМАЦИЯ VISITORS</font>\"))\n",
    "display(HTML(\"<font color='green'>-------------------------------------------------------</font>\"))\n",
    "visitors.info()\n",
    "display(HTML(\"<font color='green'>-----------------------------------------------------------------</font>\"))\n",
    "display(HTML(\"<font color='green'>ОПИСАТЕЛЬНАЯ СТАТИСТИКА VISITORS</font>\"))\n",
    "display(HTML(\"<font color='green'>-----------------------------------------------------------------</font>\"))\n",
    "visitors.describe()"
   ]
  },
  {
   "cell_type": "markdown",
   "metadata": {},
   "source": [
    "### Подсчёт количества дубликатов."
   ]
  },
  {
   "cell_type": "code",
   "execution_count": 100,
   "metadata": {},
   "outputs": [
    {
     "name": "stdout",
     "output_type": "stream",
     "text": [
      "Дублирующихся строк в таблице VISITORS: 0\n",
      "Дублирующихся строк в таблице ORDERS: 0\n"
     ]
    }
   ],
   "source": [
    "print(\"Дублирующихся строк в таблице VISITORS:\", visitors.duplicated().sum())\n",
    "print(\"Дублирующихся строк в таблице ORDERS:\", orders.duplicated().sum())"
   ]
  },
  {
   "cell_type": "markdown",
   "metadata": {},
   "source": [
    "### Подсчёт количества пропусков."
   ]
  },
  {
   "cell_type": "code",
   "execution_count": 101,
   "metadata": {},
   "outputs": [
    {
     "name": "stdout",
     "output_type": "stream",
     "text": [
      "Пропусков в таблице VISITORS: 0\n",
      "Пропусков в таблице ORDERS: 0\n"
     ]
    }
   ],
   "source": [
    "print(\"Пропусков в таблице VISITORS:\", visitors.isna().sum().sum())\n",
    "print(\"Пропусков в таблице ORDERS:\", orders.isna().sum().sum())"
   ]
  },
  {
   "cell_type": "code",
   "execution_count": 102,
   "metadata": {},
   "outputs": [],
   "source": [
    "orders = orders.rename({'transactionId' : 'transaction_id', 'visitorId' : 'visitor_id'}, axis='columns')"
   ]
  },
  {
   "cell_type": "markdown",
   "metadata": {},
   "source": [
    "### График кумулятивной выручки по группам."
   ]
  },
  {
   "cell_type": "markdown",
   "metadata": {},
   "source": [
    "#### Изменим тип данных в date."
   ]
  },
  {
   "cell_type": "code",
   "execution_count": 103,
   "metadata": {},
   "outputs": [],
   "source": [
    "orders['date'] = orders['date'].map(\n",
    "    lambda x: dt.datetime.strptime(x, '%Y-%m-%d'))\n",
    "\n",
    "visitors['date'] = visitors['date'].map(\n",
    "    lambda x: dt.datetime.strptime(x, '%Y-%m-%d'))"
   ]
  },
  {
   "cell_type": "markdown",
   "metadata": {},
   "source": [
    "#### Создадим массив уникальных пар."
   ]
  },
  {
   "cell_type": "code",
   "execution_count": 104,
   "metadata": {},
   "outputs": [],
   "source": [
    "datesGroups = orders[['date', 'group']].drop_duplicates()"
   ]
  },
  {
   "cell_type": "markdown",
   "metadata": {},
   "source": [
    "#### Получаем агрегированные кумулятивные по дням данные о заказах и агрегированные кумулятивные по дням данные о посетителях интернет-магазина."
   ]
  },
  {
   "cell_type": "code",
   "execution_count": 105,
   "metadata": {},
   "outputs": [],
   "source": [
    "ordersAggregated = datesGroups.apply(lambda x: orders[np.logical_and(orders['date'] <= x['date'], orders['group'] == x['group'])]\\\n",
    ".agg({'date' : 'max', \n",
    "      'group' : 'max', \n",
    "      'transaction_id' : pd.Series.nunique, 'visitor_id' : pd.Series.nunique, 'revenue' : 'sum'}),\n",
    "                                     axis=1).sort_values(by=['date', 'group'])"
   ]
  },
  {
   "cell_type": "markdown",
   "metadata": {},
   "source": []
  },
  {
   "cell_type": "code",
   "execution_count": 106,
   "metadata": {},
   "outputs": [],
   "source": [
    "visitorsAggregated = datesGroups.apply(lambda x: visitors[np.logical_and(visitors['date'] <= x['date'], visitors['group'] == x['group'])].\\\n",
    "                                       agg({'date' : 'max', \n",
    "                                            'group' : 'max', \n",
    "                                            'visitors' : 'sum'}), axis=1).sort_values(by=['date','group'])"
   ]
  },
  {
   "cell_type": "code",
   "execution_count": 107,
   "metadata": {},
   "outputs": [
    {
     "data": {
      "text/html": [
       "<div>\n",
       "<style scoped>\n",
       "    .dataframe tbody tr th:only-of-type {\n",
       "        vertical-align: middle;\n",
       "    }\n",
       "\n",
       "    .dataframe tbody tr th {\n",
       "        vertical-align: top;\n",
       "    }\n",
       "\n",
       "    .dataframe thead th {\n",
       "        text-align: right;\n",
       "    }\n",
       "</style>\n",
       "<table border=\"1\" class=\"dataframe\">\n",
       "  <thead>\n",
       "    <tr style=\"text-align: right;\">\n",
       "      <th></th>\n",
       "      <th>date</th>\n",
       "      <th>group</th>\n",
       "      <th>orders</th>\n",
       "      <th>buyers</th>\n",
       "      <th>revenue</th>\n",
       "      <th>visitors</th>\n",
       "    </tr>\n",
       "  </thead>\n",
       "  <tbody>\n",
       "    <tr>\n",
       "      <th>0</th>\n",
       "      <td>2019-08-01</td>\n",
       "      <td>A</td>\n",
       "      <td>24</td>\n",
       "      <td>20</td>\n",
       "      <td>148579</td>\n",
       "      <td>719</td>\n",
       "    </tr>\n",
       "    <tr>\n",
       "      <th>1</th>\n",
       "      <td>2019-08-01</td>\n",
       "      <td>B</td>\n",
       "      <td>21</td>\n",
       "      <td>20</td>\n",
       "      <td>101217</td>\n",
       "      <td>713</td>\n",
       "    </tr>\n",
       "    <tr>\n",
       "      <th>2</th>\n",
       "      <td>2019-08-02</td>\n",
       "      <td>A</td>\n",
       "      <td>44</td>\n",
       "      <td>38</td>\n",
       "      <td>242401</td>\n",
       "      <td>1338</td>\n",
       "    </tr>\n",
       "    <tr>\n",
       "      <th>3</th>\n",
       "      <td>2019-08-02</td>\n",
       "      <td>B</td>\n",
       "      <td>45</td>\n",
       "      <td>43</td>\n",
       "      <td>266748</td>\n",
       "      <td>1294</td>\n",
       "    </tr>\n",
       "    <tr>\n",
       "      <th>4</th>\n",
       "      <td>2019-08-03</td>\n",
       "      <td>A</td>\n",
       "      <td>68</td>\n",
       "      <td>62</td>\n",
       "      <td>354874</td>\n",
       "      <td>1845</td>\n",
       "    </tr>\n",
       "    <tr>\n",
       "      <th>...</th>\n",
       "      <td>...</td>\n",
       "      <td>...</td>\n",
       "      <td>...</td>\n",
       "      <td>...</td>\n",
       "      <td>...</td>\n",
       "      <td>...</td>\n",
       "    </tr>\n",
       "    <tr>\n",
       "      <th>57</th>\n",
       "      <td>2019-08-29</td>\n",
       "      <td>B</td>\n",
       "      <td>596</td>\n",
       "      <td>544</td>\n",
       "      <td>5559398</td>\n",
       "      <td>17708</td>\n",
       "    </tr>\n",
       "    <tr>\n",
       "      <th>58</th>\n",
       "      <td>2019-08-30</td>\n",
       "      <td>A</td>\n",
       "      <td>545</td>\n",
       "      <td>493</td>\n",
       "      <td>4022970</td>\n",
       "      <td>18037</td>\n",
       "    </tr>\n",
       "    <tr>\n",
       "      <th>59</th>\n",
       "      <td>2019-08-30</td>\n",
       "      <td>B</td>\n",
       "      <td>620</td>\n",
       "      <td>567</td>\n",
       "      <td>5774631</td>\n",
       "      <td>18198</td>\n",
       "    </tr>\n",
       "    <tr>\n",
       "      <th>60</th>\n",
       "      <td>2019-08-31</td>\n",
       "      <td>A</td>\n",
       "      <td>557</td>\n",
       "      <td>503</td>\n",
       "      <td>4084803</td>\n",
       "      <td>18736</td>\n",
       "    </tr>\n",
       "    <tr>\n",
       "      <th>61</th>\n",
       "      <td>2019-08-31</td>\n",
       "      <td>B</td>\n",
       "      <td>640</td>\n",
       "      <td>586</td>\n",
       "      <td>5907760</td>\n",
       "      <td>18916</td>\n",
       "    </tr>\n",
       "  </tbody>\n",
       "</table>\n",
       "<p>62 rows × 6 columns</p>\n",
       "</div>"
      ],
      "text/plain": [
       "         date group  orders  buyers  revenue  visitors\n",
       "0  2019-08-01     A      24      20   148579       719\n",
       "1  2019-08-01     B      21      20   101217       713\n",
       "2  2019-08-02     A      44      38   242401      1338\n",
       "3  2019-08-02     B      45      43   266748      1294\n",
       "4  2019-08-03     A      68      62   354874      1845\n",
       "..        ...   ...     ...     ...      ...       ...\n",
       "57 2019-08-29     B     596     544  5559398     17708\n",
       "58 2019-08-30     A     545     493  4022970     18037\n",
       "59 2019-08-30     B     620     567  5774631     18198\n",
       "60 2019-08-31     A     557     503  4084803     18736\n",
       "61 2019-08-31     B     640     586  5907760     18916\n",
       "\n",
       "[62 rows x 6 columns]"
      ]
     },
     "metadata": {},
     "output_type": "display_data"
    }
   ],
   "source": [
    "cumulativeData = ordersAggregated.merge(visitorsAggregated, left_on=['date', 'group'], right_on=['date', 'group'])\n",
    "cumulativeData.columns = ['date', 'group', 'orders', 'buyers', 'revenue', 'visitors']\n",
    "display(cumulativeData)"
   ]
  },
  {
   "cell_type": "markdown",
   "metadata": {},
   "source": [
    "#### Датафрейм с кумулятивным количеством заказов и кумулятивной выручкой по дням в группе А и B."
   ]
  },
  {
   "cell_type": "code",
   "execution_count": 108,
   "metadata": {},
   "outputs": [],
   "source": [
    "cumulativeRevenueA = cumulativeData[cumulativeData['group']=='A'][['date','revenue', 'orders']]\n",
    "cumulativeRevenueB = cumulativeData[cumulativeData['group']=='B'][['date','revenue', 'orders']]"
   ]
  },
  {
   "cell_type": "markdown",
   "metadata": {},
   "source": [
    "#### График кумулятивной выручки по группам. "
   ]
  },
  {
   "cell_type": "code",
   "execution_count": 109,
   "metadata": {},
   "outputs": [
    {
     "data": {
      "image/png": "[encoded data removed]",
      "text/plain": [
       "<Figure size 864x360 with 1 Axes>"
      ]
     },
     "metadata": {
      "needs_background": "light"
     },
     "output_type": "display_data"
    }
   ],
   "source": [
    "plt.figure(figsize=(12,5))\n",
    "plt.plot(cumulativeRevenueA['date'], cumulativeRevenueA['revenue'], label='A')\n",
    "plt.plot(cumulativeRevenueB['date'], cumulativeRevenueB['revenue'], label='B')\n",
    "plt.ylabel('Выручка')\n",
    "plt.xlabel('Дата')\n",
    "plt.title('Графики кумулятивной выручки по группам A/B')\n",
    "plt.legend()\n",
    "plt.show()"
   ]
  },
  {
   "cell_type": "markdown",
   "metadata": {},
   "source": [
    "Выручка по группе А увеличивается на протяжение всего проводимого теста. Выручка по группе В увеличивается практически на одном уровне с группой А вплоть до 18 дня, затем происходим резкий скачёк, что можно объяснить либо тем что увеличились продажи или же увеличился чек покупки."
   ]
  },
  {
   "cell_type": "markdown",
   "metadata": {},
   "source": [
    "#### График кумулятивного среднего чека по группам."
   ]
  },
  {
   "cell_type": "code",
   "execution_count": 110,
   "metadata": {},
   "outputs": [
    {
     "data": {
      "image/png": "[encoded data removed]",
      "text/plain": [
       "<Figure size 864x360 with 1 Axes>"
      ]
     },
     "metadata": {
      "needs_background": "light"
     },
     "output_type": "display_data"
    }
   ],
   "source": [
    "plt.figure(figsize=(12,5))\n",
    "plt.plot(cumulativeRevenueA['date'], cumulativeRevenueA['revenue']/cumulativeRevenueA['orders'], label='A')\n",
    "plt.plot(cumulativeRevenueB['date'], cumulativeRevenueB['revenue']/cumulativeRevenueB['orders'], label='B')\n",
    "plt.ylabel('Средний чек')\n",
    "plt.xlabel('Дата')\n",
    "plt.title('Графики кумулятивного среднего чека по группам A и B')\n",
    "plt.legend()\n",
    "plt.show()"
   ]
  },
  {
   "cell_type": "markdown",
   "metadata": {},
   "source": [
    "Средний чек группы А имеет как резкое падение, так и резкий рост. Средний чек группы А на протяжение всего эксперимента стремительноростёт и  так же иммет очень резкий рост приблизительно на 18 день эксперимента."
   ]
  },
  {
   "cell_type": "markdown",
   "metadata": {},
   "source": [
    "#### График относительного изменения кумулятивного среднего чека группы B к группе A."
   ]
  },
  {
   "cell_type": "code",
   "execution_count": 111,
   "metadata": {},
   "outputs": [
    {
     "data": {
      "image/png": "[encoded data removed]",
      "text/plain": [
       "<Figure size 864x360 with 1 Axes>"
      ]
     },
     "metadata": {
      "needs_background": "light"
     },
     "output_type": "display_data"
    }
   ],
   "source": [
    "mergedCumulativeRevenue = cumulativeRevenueA.merge(cumulativeRevenueB, left_on='date', right_on='date', how='left', suffixes=['A', 'B'])\n",
    "\n",
    "plt.figure(figsize=(12,5))\n",
    "plt.plot(mergedCumulativeRevenue['date'], (mergedCumulativeRevenue['revenueB']/mergedCumulativeRevenue['ordersB'])/(mergedCumulativeRevenue['revenueA']/mergedCumulativeRevenue['ordersA'])-1)\n",
    "plt.xlabel('Дата')\n",
    "plt.title('График относительно различия кумулятивного среднего чека группы B к группе A')\n",
    "plt.axhline(y=0, color='black', linestyle='--') \n",
    "plt.show()\n",
    "\n",
    "\n"
   ]
  },
  {
   "cell_type": "markdown",
   "metadata": {},
   "source": [
    "График различия резко «скачет». Это указывает на выбросы и не всегда в пользу большего, есть и значительное паднение."
   ]
  },
  {
   "cell_type": "markdown",
   "metadata": {},
   "source": [
    "#### График кумулятивной конверсии по группам и дням."
   ]
  },
  {
   "cell_type": "code",
   "execution_count": 112,
   "metadata": {},
   "outputs": [
    {
     "data": {
      "text/plain": [
       "Text(0.5, 1.0, 'Графики кумулятивной конверсии по группам и дням.')"
      ]
     },
     "execution_count": 112,
     "metadata": {},
     "output_type": "execute_result"
    },
    {
     "data": {
      "image/png": "[encoded data removed]",
      "text/plain": [
       "<Figure size 864x360 with 1 Axes>"
      ]
     },
     "metadata": {
      "needs_background": "light"
     },
     "output_type": "display_data"
    }
   ],
   "source": [
    "# считаем кумулятивную конверсию\n",
    "cumulativeData['conversion'] = cumulativeData['orders']/cumulativeData['visitors']\n",
    "\n",
    "# отделяем данные по группе A\n",
    "cumulativeDataA = cumulativeData[cumulativeData['group']=='A']\n",
    "\n",
    "# отделяем данные по группе B\n",
    "cumulativeDataB = cumulativeData[cumulativeData['group']=='B']\n",
    "\n",
    "# строим графики\n",
    "plt.figure(figsize=(12,5))\n",
    "plt.plot(cumulativeDataA['date'], cumulativeDataA['conversion'], label='A')\n",
    "plt.plot(cumulativeDataB['date'], cumulativeDataB['conversion'], label='B')\n",
    "plt.title('Графики кумулятивной конверсии по группам и дням.')\n",
    "#plt.axis([\"2019-08-01\", '2019-08-31', -0.15, 0.25])"
   ]
  },
  {
   "cell_type": "markdown",
   "metadata": {},
   "source": [
    "\n",
    "\n",
    "В группе В конверсия значительно выше."
   ]
  },
  {
   "cell_type": "markdown",
   "metadata": {},
   "source": [
    "#### График относительного изменения кумулятивной конверсии группы B к группе A."
   ]
  },
  {
   "cell_type": "code",
   "execution_count": 113,
   "metadata": {},
   "outputs": [
    {
     "data": {
      "text/plain": [
       "<matplotlib.lines.Line2D at 0x7f2cc5aa7100>"
      ]
     },
     "execution_count": 113,
     "metadata": {},
     "output_type": "execute_result"
    },
    {
     "data": {
      "image/png": "[encoded data removed]",
      "text/plain": [
       "<Figure size 864x360 with 1 Axes>"
      ]
     },
     "metadata": {
      "needs_background": "light"
     },
     "output_type": "display_data"
    }
   ],
   "source": [
    "mergedCumulativeConversions = cumulativeDataA[['date','conversion']].merge(cumulativeDataB[['date','conversion']], left_on='date', right_on='date', how='left', suffixes=['A', 'B'])\n",
    "plt.figure(figsize=(12,5))\n",
    "plt.plot(mergedCumulativeConversions['date'], mergedCumulativeConversions['conversionB']/mergedCumulativeConversions['conversionA']-1, \n",
    "         label=\"График относительного различия кумулятивной конверсии группы B к группе A\")\n",
    "plt.legend()\n",
    "plt.axhline(y=0, color='black', linestyle='--')\n",
    "plt.axhline(y=0.2, color='grey', linestyle='--')\n",
    "#plt.axis([\"2019-08-01\", '2019-08-31', -0.15, 0.25])"
   ]
  },
  {
   "cell_type": "markdown",
   "metadata": {},
   "source": [
    "\n",
    "Конверсия в группе B начинает расти с 4 авуста, далее до конца эксперимента держится выше конверсии в группе А."
   ]
  },
  {
   "cell_type": "markdown",
   "metadata": {},
   "source": [
    "#### Точечный график количества заказов по пользователям."
   ]
  },
  {
   "cell_type": "code",
   "execution_count": 114,
   "metadata": {},
   "outputs": [
    {
     "data": {
      "image/png": "[encoded data removed]",
      "text/plain": [
       "<Figure size 864x360 with 1 Axes>"
      ]
     },
     "metadata": {
      "needs_background": "light"
     },
     "output_type": "display_data"
    }
   ],
   "source": [
    "ordersByUsers = (\n",
    "    orders.drop(['group', 'revenue', 'date'], axis=1)\n",
    "    .groupby('visitor_id', as_index=False)\n",
    "    .agg({'transaction_id': pd.Series.nunique})\n",
    ")\n",
    "ordersByUsers.columns = ['visitor_id', 'orders']\n",
    "x_values = pd.Series(range(0, len(ordersByUsers))) # серия из чисел от 0 до количества наблюдений в ordersByUsers\n",
    "plt.figure(figsize=(12,5))\n",
    "plt.scatter(x_values, ordersByUsers['orders']) \n",
    "plt.show()"
   ]
  },
  {
   "cell_type": "markdown",
   "metadata": {},
   "source": [
    "\n",
    "Большинство покупателей делают заказ только один раз."
   ]
  },
  {
   "cell_type": "markdown",
   "metadata": {},
   "source": [
    "#### 95-й и 99-й перцентили количества заказов на пользователя."
   ]
  },
  {
   "cell_type": "code",
   "execution_count": 115,
   "metadata": {},
   "outputs": [
    {
     "name": "stdout",
     "output_type": "stream",
     "text": [
      "[2. 4.]\n"
     ]
    }
   ],
   "source": [
    "print(np.percentile(ordersByUsers['orders'], [95, 99])) "
   ]
  },
  {
   "cell_type": "markdown",
   "metadata": {},
   "source": [
    "\n",
    "Не более 5% пользователей совершали два заказа, не более 1% - 4 заказа."
   ]
  },
  {
   "cell_type": "markdown",
   "metadata": {},
   "source": [
    "#### Точечный график стоимостей заказов. "
   ]
  },
  {
   "cell_type": "code",
   "execution_count": 116,
   "metadata": {},
   "outputs": [
    {
     "data": {
      "image/png": "[encoded data removed]",
      "text/plain": [
       "<Figure size 864x360 with 1 Axes>"
      ]
     },
     "metadata": {
      "needs_background": "light"
     },
     "output_type": "display_data"
    }
   ],
   "source": [
    "x_values = pd.Series(range(0, len(orders['revenue'])))\n",
    "plt.figure(figsize=(12,5))\n",
    "plt.axis([0, 1210, 0, 230000])\n",
    "plt.scatter(x_values, orders['revenue']) \n",
    "plt.show()"
   ]
  },
  {
   "cell_type": "markdown",
   "metadata": {},
   "source": [
    "\n",
    "Судя по графику, большая часть пользователей делает покупки на сумму не более 30 000."
   ]
  },
  {
   "cell_type": "markdown",
   "metadata": {},
   "source": [
    "#### 95-й и 99-й перцентили стоимости заказов."
   ]
  },
  {
   "cell_type": "code",
   "execution_count": 117,
   "metadata": {},
   "outputs": [
    {
     "name": "stdout",
     "output_type": "stream",
     "text": [
      "[28000.  58233.2]\n"
     ]
    }
   ],
   "source": [
    "print(np.percentile(orders['revenue'], [95, 99]))"
   ]
  },
  {
   "cell_type": "markdown",
   "metadata": {},
   "source": [
    "\n",
    "Не более 5% пользователей делают заказы на сумму не более 28 000, не более 1% - на сумму 58 300."
   ]
  },
  {
   "cell_type": "markdown",
   "metadata": {},
   "source": [
    "####  Статистическая значимость различий в конверсии между группами по «сырым» данным."
   ]
  },
  {
   "cell_type": "markdown",
   "metadata": {},
   "source": [
    "Использую непараметрический тест Уилкоксона-Манна-Уитни, так как в данных есть выбросы, тест работает с рангами, не учитывая значения."
   ]
  },
  {
   "cell_type": "markdown",
   "metadata": {},
   "source": [
    "###### Гипотезы:\n",
    "\n",
    "Н0 - нет статистически значимых различий между средними значениями двух выборок, конверсия группы А = конверсии группы В.\n",
    "\n",
    "H1 - есть статистически значимые различия между средними значениями двух выборок, конверсии групп не равны\n",
    "Приму уровень значимости alpha = 0.05\n",
    "\n",
    "Посчитаю количество пользователей в выбранную дату в группе и до выбранной даты включительно в группе."
   ]
  },
  {
   "cell_type": "code",
   "execution_count": 118,
   "metadata": {},
   "outputs": [],
   "source": [
    "visitorsADaily = visitors[visitors['group'] == 'A'][['date', 'visitors']]\n",
    "visitorsADaily.columns = ['date', 'visitorsPerDateA']\n",
    "\n",
    "visitorsACummulative = visitorsADaily.apply(\n",
    "    lambda x: visitorsADaily[visitorsADaily['date'] <= x['date']].agg(\n",
    "        {'date': 'max', 'visitorsPerDateA': 'sum'}\n",
    "    ),\n",
    "    axis=1,\n",
    ")\n",
    "visitorsACummulative.columns = ['date', 'visitorsCummulativeA']\n",
    "\n",
    "visitorsBDaily = visitors[visitors['group'] == 'B'][['date', 'visitors']]\n",
    "visitorsBDaily.columns = ['date', 'visitorsPerDateB']\n",
    "\n",
    "visitorsBCummulative = visitorsBDaily.apply(\n",
    "    lambda x: visitorsBDaily[visitorsBDaily['date'] <= x['date']].agg(\n",
    "        {'date': 'max', 'visitorsPerDateB': 'sum'}\n",
    "    ),\n",
    "    axis=1,\n",
    ")\n",
    "visitorsBCummulative.columns = ['date', 'visitorsCummulativeB']"
   ]
  },
  {
   "cell_type": "markdown",
   "metadata": {},
   "source": [
    "Посчитаю количество заказов и выручку в выбранную дату в группе и суммарное число заказов и суммарную выручку до выбранной даты включительно в группе."
   ]
  },
  {
   "cell_type": "code",
   "execution_count": 119,
   "metadata": {},
   "outputs": [],
   "source": [
    "ordersADaily = (\n",
    "    orders[orders['group'] == 'A'][['date', 'transaction_id', 'visitor_id', 'revenue']]\n",
    "    .groupby('date', as_index=False)\n",
    "    .agg({'transaction_id': pd.Series.nunique, 'revenue': 'sum'})\n",
    ")\n",
    "ordersADaily.columns = ['date', 'ordersPerDateA', 'revenuePerDateA']\n",
    "\n",
    "ordersACummulative = ordersADaily.apply(\n",
    "    lambda x: ordersADaily[ordersADaily['date'] <= x['date']].agg(\n",
    "        {'date': 'max', 'ordersPerDateA': 'sum', 'revenuePerDateA': 'sum'}\n",
    "    ),\n",
    "    axis=1,\n",
    ").sort_values(by=['date'])\n",
    "ordersACummulative.columns = [\n",
    "    'date',\n",
    "    'ordersCummulativeA',\n",
    "    'revenueCummulativeA',\n",
    "]\n",
    "\n",
    "ordersBDaily = (\n",
    "    orders[orders['group'] == 'B'][['date', 'transaction_id', 'visitor_id', 'revenue']]\n",
    "    .groupby('date', as_index=False)\n",
    "    .agg({'transaction_id': pd.Series.nunique, 'revenue': 'sum'})\n",
    ")\n",
    "ordersBDaily.columns = ['date', 'ordersPerDateB', 'revenuePerDateB']\n",
    "\n",
    "ordersBCummulative = ordersBDaily.apply(\n",
    "    lambda x: ordersBDaily[ordersBDaily['date'] <= x['date']].agg(\n",
    "        {'date': 'max', 'ordersPerDateB': 'sum', 'revenuePerDateB': 'sum'}\n",
    "    ),\n",
    "    axis=1,\n",
    ").sort_values(by=['date'])\n",
    "ordersBCummulative.columns = [\n",
    "    'date',\n",
    "    'ordersCummulativeB',\n",
    "    'revenueCummulativeB',\n",
    "]"
   ]
  },
  {
   "cell_type": "markdown",
   "metadata": {},
   "source": [
    "Объединю полученные данные:"
   ]
  },
  {
   "cell_type": "code",
   "execution_count": 120,
   "metadata": {},
   "outputs": [
    {
     "data": {
      "text/html": [
       "<div>\n",
       "<style scoped>\n",
       "    .dataframe tbody tr th:only-of-type {\n",
       "        vertical-align: middle;\n",
       "    }\n",
       "\n",
       "    .dataframe tbody tr th {\n",
       "        vertical-align: top;\n",
       "    }\n",
       "\n",
       "    .dataframe thead th {\n",
       "        text-align: right;\n",
       "    }\n",
       "</style>\n",
       "<table border=\"1\" class=\"dataframe\">\n",
       "  <thead>\n",
       "    <tr style=\"text-align: right;\">\n",
       "      <th></th>\n",
       "      <th>date</th>\n",
       "      <th>ordersPerDateA</th>\n",
       "      <th>revenuePerDateA</th>\n",
       "      <th>ordersPerDateB</th>\n",
       "      <th>revenuePerDateB</th>\n",
       "      <th>ordersCummulativeA</th>\n",
       "      <th>revenueCummulativeA</th>\n",
       "      <th>ordersCummulativeB</th>\n",
       "      <th>revenueCummulativeB</th>\n",
       "      <th>visitorsPerDateA</th>\n",
       "      <th>visitorsPerDateB</th>\n",
       "      <th>visitorsCummulativeA</th>\n",
       "      <th>visitorsCummulativeB</th>\n",
       "    </tr>\n",
       "  </thead>\n",
       "  <tbody>\n",
       "    <tr>\n",
       "      <th>0</th>\n",
       "      <td>2019-08-01</td>\n",
       "      <td>24</td>\n",
       "      <td>148579</td>\n",
       "      <td>21</td>\n",
       "      <td>101217</td>\n",
       "      <td>24</td>\n",
       "      <td>148579</td>\n",
       "      <td>21</td>\n",
       "      <td>101217</td>\n",
       "      <td>719</td>\n",
       "      <td>713</td>\n",
       "      <td>719</td>\n",
       "      <td>713</td>\n",
       "    </tr>\n",
       "    <tr>\n",
       "      <th>1</th>\n",
       "      <td>2019-08-02</td>\n",
       "      <td>20</td>\n",
       "      <td>93822</td>\n",
       "      <td>24</td>\n",
       "      <td>165531</td>\n",
       "      <td>44</td>\n",
       "      <td>242401</td>\n",
       "      <td>45</td>\n",
       "      <td>266748</td>\n",
       "      <td>619</td>\n",
       "      <td>581</td>\n",
       "      <td>1338</td>\n",
       "      <td>1294</td>\n",
       "    </tr>\n",
       "    <tr>\n",
       "      <th>2</th>\n",
       "      <td>2019-08-03</td>\n",
       "      <td>24</td>\n",
       "      <td>112473</td>\n",
       "      <td>16</td>\n",
       "      <td>114248</td>\n",
       "      <td>68</td>\n",
       "      <td>354874</td>\n",
       "      <td>61</td>\n",
       "      <td>380996</td>\n",
       "      <td>507</td>\n",
       "      <td>509</td>\n",
       "      <td>1845</td>\n",
       "      <td>1803</td>\n",
       "    </tr>\n",
       "    <tr>\n",
       "      <th>3</th>\n",
       "      <td>2019-08-04</td>\n",
       "      <td>16</td>\n",
       "      <td>70825</td>\n",
       "      <td>17</td>\n",
       "      <td>108571</td>\n",
       "      <td>84</td>\n",
       "      <td>425699</td>\n",
       "      <td>78</td>\n",
       "      <td>489567</td>\n",
       "      <td>717</td>\n",
       "      <td>770</td>\n",
       "      <td>2562</td>\n",
       "      <td>2573</td>\n",
       "    </tr>\n",
       "    <tr>\n",
       "      <th>4</th>\n",
       "      <td>2019-08-05</td>\n",
       "      <td>25</td>\n",
       "      <td>124218</td>\n",
       "      <td>23</td>\n",
       "      <td>92428</td>\n",
       "      <td>109</td>\n",
       "      <td>549917</td>\n",
       "      <td>101</td>\n",
       "      <td>581995</td>\n",
       "      <td>756</td>\n",
       "      <td>707</td>\n",
       "      <td>3318</td>\n",
       "      <td>3280</td>\n",
       "    </tr>\n",
       "  </tbody>\n",
       "</table>\n",
       "</div>"
      ],
      "text/plain": [
       "        date  ordersPerDateA  revenuePerDateA  ordersPerDateB  \\\n",
       "0 2019-08-01              24           148579              21   \n",
       "1 2019-08-02              20            93822              24   \n",
       "2 2019-08-03              24           112473              16   \n",
       "3 2019-08-04              16            70825              17   \n",
       "4 2019-08-05              25           124218              23   \n",
       "\n",
       "   revenuePerDateB  ordersCummulativeA  revenueCummulativeA  \\\n",
       "0           101217                  24               148579   \n",
       "1           165531                  44               242401   \n",
       "2           114248                  68               354874   \n",
       "3           108571                  84               425699   \n",
       "4            92428                 109               549917   \n",
       "\n",
       "   ordersCummulativeB  revenueCummulativeB  visitorsPerDateA  \\\n",
       "0                  21               101217               719   \n",
       "1                  45               266748               619   \n",
       "2                  61               380996               507   \n",
       "3                  78               489567               717   \n",
       "4                 101               581995               756   \n",
       "\n",
       "   visitorsPerDateB  visitorsCummulativeA  visitorsCummulativeB  \n",
       "0               713                   719                   713  \n",
       "1               581                  1338                  1294  \n",
       "2               509                  1845                  1803  \n",
       "3               770                  2562                  2573  \n",
       "4               707                  3318                  3280  "
      ]
     },
     "metadata": {},
     "output_type": "display_data"
    }
   ],
   "source": [
    "data = (\n",
    "    ordersADaily.merge(\n",
    "        ordersBDaily, left_on='date', right_on='date', how='left'\n",
    "    )\n",
    "    .merge(ordersACummulative, left_on='date', right_on='date', how='left')\n",
    "    .merge(ordersBCummulative, left_on='date', right_on='date', how='left')\n",
    "    .merge(visitorsADaily, left_on='date', right_on='date', how='left')\n",
    "    .merge(visitorsBDaily, left_on='date', right_on='date', how='left')\n",
    "    .merge(visitorsACummulative, left_on='date', right_on='date', how='left')\n",
    "    .merge(visitorsBCummulative, left_on='date', right_on='date', how='left')\n",
    ")\n",
    "\n",
    "display(data.head(5))"
   ]
  },
  {
   "cell_type": "markdown",
   "metadata": {},
   "source": [
    "Посчитаю статистическую значимость различия в конверсии между группами.\n",
    "\n",
    "Создам переменные ordersByUsersA и ordersByUsersB со столбцами 'visitorId' и 'orders'. \n",
    "В них для пользователей, которые заказывали хотя бы 1 раз, укажем число совершённых заказов."
   ]
  },
  {
   "cell_type": "code",
   "execution_count": 121,
   "metadata": {},
   "outputs": [],
   "source": [
    "ordersByUsersA = (\n",
    "    orders[orders['group'] == 'A']\n",
    "    .groupby('visitor_id', as_index=False)\n",
    "    .agg({'transaction_id': pd.Series.nunique})\n",
    ")\n",
    "ordersByUsersA.columns = ['visitor_id', 'orders']\n",
    "\n",
    "ordersByUsersB = (\n",
    "    orders[orders['group'] == 'B']\n",
    "    .groupby('visitor_id', as_index=False)\n",
    "    .agg({'transaction_id': pd.Series.nunique})\n",
    ")\n",
    "ordersByUsersB.columns = ['visitor_id', 'orders'] \n",
    "\n",
    "sampleA = pd.concat([ordersByUsersA['orders'],pd.Series(0, index=np.arange(data['visitorsPerDateA'].sum() - len(ordersByUsersA['orders'])), name='orders')],axis=0)\n",
    "sampleB = pd.concat([ordersByUsersB['orders'],pd.Series(0, index=np.arange(data['visitorsPerDateB'].sum() - len(ordersByUsersB['orders'])), name='orders')],axis=0)\n",
    "\n",
    "ordersByUsersA = (\n",
    "    orders[orders['group'] == 'A']\n",
    "    .groupby('visitor_id', as_index=False)\n",
    "    .agg({'transaction_id': pd.Series.nunique})\n",
    ")\n",
    "ordersByUsersA.columns = ['visitor_id', 'orders']\n",
    "\n",
    "ordersByUsersB = (\n",
    "    orders[orders['group'] == 'B']\n",
    "    .groupby('visitor_id', as_index=False)\n",
    "    .agg({'transaction_id': pd.Series.nunique})\n",
    ")\n",
    "ordersByUsersB.columns = ['visitor_id', 'orders']"
   ]
  },
  {
   "cell_type": "markdown",
   "metadata": {},
   "source": [
    "Введу переменные sampleA и sampleB, в которых пользователям из разных групп будет соответствовать количество заказов. Тем, кто ничего не заказал, будут соответствовать нули. Это нужно, чтобы подготовить выборки к проверке критерием Манна-Уитни."
   ]
  },
  {
   "cell_type": "code",
   "execution_count": 122,
   "metadata": {},
   "outputs": [],
   "source": [
    "sampleA = pd.concat(\n",
    "    [\n",
    "        ordersByUsersA['orders'],\n",
    "        pd.Series(\n",
    "            0,\n",
    "            index=np.arange(\n",
    "                data['visitorsPerDateA'].sum() - len(ordersByUsersA['orders'])\n",
    "            ),\n",
    "            name='orders',\n",
    "        ),\n",
    "    ],\n",
    "    axis=0,\n",
    ")\n",
    "\n",
    "sampleB = pd.concat(\n",
    "    [\n",
    "        ordersByUsersB['orders'],\n",
    "        pd.Series(\n",
    "            0,\n",
    "            index=np.arange(\n",
    "                data['visitorsPerDateB'].sum() - len(ordersByUsersB['orders'])\n",
    "            ),\n",
    "            name='orders',\n",
    "        ),\n",
    "    ],\n",
    "    axis=0,)"
   ]
  },
  {
   "cell_type": "markdown",
   "metadata": {},
   "source": [
    "Применю критерий и отформатируем p-value, округлив его до трёх знаков после запятой.\n",
    "\n",
    "Выведу относительный прирост конверсии группы B: конверсия группы B / конверсия группы A - 1, округлив до трёх знаков после запятой."
   ]
  },
  {
   "cell_type": "code",
   "execution_count": 123,
   "metadata": {},
   "outputs": [
    {
     "name": "stdout",
     "output_type": "stream",
     "text": [
      "0.017\n",
      "Отвергаем H0: разница статистически значима\n",
      "Относительный прирост конверсии группы B к группе A: 0.138\n"
     ]
    }
   ],
   "source": [
    "alpha = .05\n",
    "pvalue = stats.mannwhitneyu(sampleA, sampleB,alternative=\"two-sided\")[1]\n",
    "print(\"{0:.3f}\".format(pvalue))\n",
    "if (pvalue < alpha):\n",
    "    print(\"Отвергаем H0: разница статистически значима\")\n",
    "else:\n",
    "    print(\"Не получилось отвергнуть H0: вывод о различии сделать нельзя\")\n",
    "\n",
    "print(\"Относительный прирост конверсии группы B к группе A: {0:.3f}\".format((data['ordersPerDateB'].sum()/data['visitorsPerDateB'].sum())/(data['ordersPerDateA'].sum()/data['visitorsPerDateA'].sum())-1)) \n",
    "                                                                                                                                           \n",
    "                                                                                                                                           \n",
    "                                                                                                                                           \n",
    "                                                                                                                                           \n",
    "                                                                                                                                           \n",
    "                                                                                                                                           "
   ]
  },
  {
   "cell_type": "markdown",
   "metadata": {},
   "source": [
    "#### Статистическая значимость различий в среднем чеке заказа между группами по «сырым» данным."
   ]
  },
  {
   "cell_type": "markdown",
   "metadata": {},
   "source": [
    "###### Гипотезы:\n",
    "\n",
    "1.Н0 - нет статистически значимых различий между средними значениями двух выборок, средний чек группы А = среднему чеку группы В.\n",
    "\n",
    "2.H1 - есть статистически значимые различия между средними значениями двух выборок, средние чеки групп не равны.\n",
    "\n",
    "Приму уровень значимости alpha = 0.05"
   ]
  },
  {
   "cell_type": "code",
   "execution_count": 124,
   "metadata": {},
   "outputs": [
    {
     "name": "stdout",
     "output_type": "stream",
     "text": [
      "0.729\n",
      "Не получилось отвергнуть H0: вывод о различии сделать нельзя\n",
      "Относительное изменение среднего чека в группе B по отношению группы A: 0.259\n"
     ]
    }
   ],
   "source": [
    "alpha = .05\n",
    "pvalue = (stats.mannwhitneyu(orders[\n",
    "    orders['group']=='A']['revenue'], orders[\n",
    "    orders['group']=='B']['revenue'],alternative=\"two-sided\")[1])\n",
    "print(\"{0:.3f}\".format(pvalue))\n",
    "\n",
    "if (pvalue < alpha):\n",
    "    print(\"Отвергаем H0: разница статистически значима\")\n",
    "else:\n",
    "    print(\"Не получилось отвергнуть H0: вывод о различии сделать нельзя\")\n",
    "    \n",
    "print('Относительное изменение среднего чека в группе B по отношению группы A: {0:.3f}'\\\n",
    "      .format(orders[orders['group']=='B']['revenue'].mean()/orders[orders['group']=='A']['revenue'].mean()-1))     "
   ]
  },
  {
   "cell_type": "markdown",
   "metadata": {},
   "source": [
    "#### Статистическая значимость различий в конверсии между группами по «очищенным» данным."
   ]
  },
  {
   "cell_type": "markdown",
   "metadata": {},
   "source": [
    "###### Гипотезы:\n",
    "\n",
    "1. Н0 - нет статистически значимых различий между средними значениями двух выборок, конверсия группы А = конверсии группы В.\n",
    "\n",
    "2. H1 - есть статистически значимые различия между средними значениями двух выборок, конверсии групп не равны.\n",
    "\n",
    "Приму уровень значимости alpha = 0.05.\n",
    "\n",
    "Найду количество аномальных пользователей, совершивших более двух покупок, на сумму более 30 000, введу новые переменные для обозначения порогов:"
   ]
  },
  {
   "cell_type": "code",
   "execution_count": 125,
   "metadata": {},
   "outputs": [],
   "source": [
    "limit_orders = 2\n",
    "limit_revenue = 30000"
   ]
  },
  {
   "cell_type": "code",
   "execution_count": 126,
   "metadata": {},
   "outputs": [
    {
     "name": "stdout",
     "output_type": "stream",
     "text": [
      "Всего аномальных пользователей (68,)\n"
     ]
    }
   ],
   "source": [
    "ordersByUsersA = (\n",
    "    orders[orders['group'] == 'A']\n",
    "    .groupby('visitor_id', as_index=False)\n",
    "    .agg({'transaction_id': pd.Series.nunique})\n",
    ")\n",
    "ordersByUsersA.columns = ['visitor_id', 'orders']\n",
    "\n",
    "ordersByUsersB = (\n",
    "    orders[orders['group'] == 'B']\n",
    "    .groupby('visitor_id', as_index=False)\n",
    "    .agg({'transaction_id': pd.Series.nunique})\n",
    ")\n",
    "ordersByUsersB.columns = ['visitor_id', 'orders']\n",
    "\n",
    "usersWithManyOrders = pd.concat(\n",
    "    [\n",
    "        ordersByUsersA[ordersByUsersA['orders'] > limit_orders]['visitor_id'],\n",
    "        ordersByUsersB[ordersByUsersB['orders'] > limit_orders]['visitor_id'],\n",
    "    ],\n",
    "    axis=0,\n",
    ")\n",
    "usersWithExpensiveOrders = orders[orders['revenue'] > limit_revenue]['visitor_id']\n",
    "abnormalUsers = (\n",
    "    pd.concat([usersWithManyOrders, usersWithExpensiveOrders], axis=0)\n",
    "    .drop_duplicates()\n",
    "    .sort_values()\n",
    ")\n",
    "print('Всего аномальных пользователей', abnormalUsers.shape)"
   ]
  },
  {
   "cell_type": "markdown",
   "metadata": {},
   "source": [
    "Посчитаю статистическую значимость различий в конверсии между группами теста по очищенным данным:"
   ]
  },
  {
   "cell_type": "code",
   "execution_count": 127,
   "metadata": {},
   "outputs": [],
   "source": [
    "sampleAFiltered = pd.concat(\n",
    "    [\n",
    "        ordersByUsersA[\n",
    "            np.logical_not(ordersByUsersA['visitor_id'].isin(abnormalUsers))\n",
    "        ]['orders'],\n",
    "        pd.Series(\n",
    "            0,\n",
    "            index=np.arange(\n",
    "                data['visitorsPerDateA'].sum() - len(ordersByUsersA['orders'])\n",
    "            ),\n",
    "            name='orders',\n",
    "        ),\n",
    "    ],\n",
    "    axis=0,\n",
    ")\n",
    "\n",
    "sampleBFiltered = pd.concat(\n",
    "    [\n",
    "        ordersByUsersB[\n",
    "            np.logical_not(ordersByUsersB['visitor_id'].isin(abnormalUsers))\n",
    "        ]['orders'],\n",
    "        pd.Series(\n",
    "            0,\n",
    "            index=np.arange(\n",
    "                data['visitorsPerDateB'].sum() - len(ordersByUsersB['orders'])\n",
    "            ),\n",
    "            name='orders',\n",
    "        ),\n",
    "    ],\n",
    "    axis=0,\n",
    ") "
   ]
  },
  {
   "cell_type": "code",
   "execution_count": 128,
   "metadata": {},
   "outputs": [
    {
     "name": "stdout",
     "output_type": "stream",
     "text": [
      "0.013\n",
      "Отвергаем H0: разница статистически значима\n",
      "Относительный прирост конверсии группы B к группе A: 0.172\n"
     ]
    }
   ],
   "source": [
    "alpha = .05\n",
    "pvalue = stats.mannwhitneyu(sampleAFiltered, sampleBFiltered,alternative=\"two-sided\")[1]\n",
    "print(\"{0:.3f}\".format(pvalue))\n",
    "if (pvalue < alpha):\n",
    "    print(\"Отвергаем H0: разница статистически значима\")\n",
    "else:\n",
    "    print(\"Не получилось отвергнуть H0: вывод о различии сделать нельзя\")\n",
    "\n",
    "print(\"Относительный прирост конверсии группы B к группе A: {0:.3f}\".format(sampleBFiltered.mean()/sampleAFiltered.mean()-1))"
   ]
  },
  {
   "cell_type": "markdown",
   "metadata": {},
   "source": [
    "#### Статистическую значимость различий в среднем чеке заказа между группами по «очищенным» данным. "
   ]
  },
  {
   "cell_type": "markdown",
   "metadata": {},
   "source": [
    "###### Гипотезы:\n",
    "\n",
    "1. Н0 - средний чек группы А = среднему чеку группы В.\n",
    "\n",
    "2. H1 - средние чеки групп не равны.\n",
    "\n",
    "Приму уровень значимости alpha = 0.05"
   ]
  },
  {
   "cell_type": "code",
   "execution_count": 129,
   "metadata": {},
   "outputs": [
    {
     "name": "stdout",
     "output_type": "stream",
     "text": [
      "0.720\n",
      "Не получилось отвергнуть H0: вывод о различии сделать нельзя\n",
      "Относительное изменение среднего чека в группе B по отношению группы A: -0.023\n"
     ]
    }
   ],
   "source": [
    "alpha = .05\n",
    "pvalue = stats.mannwhitneyu(\n",
    "            orders[\n",
    "                np.logical_and(\n",
    "                    orders['group'] == 'A',\n",
    "                    np.logical_not(orders['visitor_id'].isin(abnormalUsers)),\n",
    "                )\n",
    "            ]['revenue'],\n",
    "            orders[\n",
    "                np.logical_and(\n",
    "                    orders['group'] == 'B',\n",
    "                    np.logical_not(orders['visitor_id'].isin(abnormalUsers)),\n",
    "                )\n",
    "            ]['revenue'],alternative=\"two-sided\"\n",
    "        )[1]\n",
    "    \n",
    "print(\"{0:.3f}\".format(pvalue))\n",
    "\n",
    "if (pvalue < alpha):\n",
    "    print(\"Отвергаем H0: разница статистически значима\")\n",
    "else:\n",
    "    print(\"Не получилось отвергнуть H0: вывод о различии сделать нельзя\")\n",
    "    \n",
    "print('Относительное изменение среднего чека в группе B по отношению группы A: {0:.3f}'.format(orders[\n",
    "            np.logical_and(\n",
    "                orders['group'] == 'B',\n",
    "                np.logical_not(orders['visitor_id'].isin(abnormalUsers)),\n",
    "            )\n",
    "        ]['revenue'].mean()\n",
    "        / orders[\n",
    "            np.logical_and(\n",
    "                orders['group'] == 'A',\n",
    "                np.logical_not(orders['visitor_id'].isin(abnormalUsers)),\n",
    "            )\n",
    "        ]['revenue'].mean()\n",
    "        - 1))"
   ]
  },
  {
   "cell_type": "markdown",
   "metadata": {},
   "source": [
    "## Выводы:"
   ]
  },
  {
   "cell_type": "markdown",
   "metadata": {},
   "source": [
    "1. По конверсии между группами A и B (как по сырым данным, так и по очищенным) есть статистически значимые различия;\n",
    "\n",
    "2. По величине среднего чека между группами A и B (как по сырым данным, так и по очищенным) нет статистически значимых различий.\n",
    "\n",
    "Тест можно остановить и считать успешным, конверсия у группы В выше, при этом величина среднего чека не изменилась."
   ]
  }
 ],
 "metadata": {
  "ExecuteTimeLog": [
   {
    "duration": 211,
    "start_time": "2022-03-06T08:09:17.665Z"
   },
   {
    "duration": 1031,
    "start_time": "2022-03-06T08:09:23.845Z"
   },
   {
    "duration": 11,
    "start_time": "2022-03-06T08:09:24.878Z"
   },
   {
    "duration": 36,
    "start_time": "2022-03-06T08:09:45.569Z"
   },
   {
    "duration": 252,
    "start_time": "2022-03-06T08:14:18.861Z"
   },
   {
    "duration": 5,
    "start_time": "2022-03-06T08:14:46.418Z"
   },
   {
    "duration": 193,
    "start_time": "2022-03-06T08:14:47.079Z"
   },
   {
    "duration": 211,
    "start_time": "2022-03-06T08:15:16.364Z"
   },
   {
    "duration": 221,
    "start_time": "2022-03-06T08:15:34.710Z"
   },
   {
    "duration": 370,
    "start_time": "2022-03-06T08:16:41.600Z"
   },
   {
    "duration": 408,
    "start_time": "2022-03-06T08:16:51.388Z"
   },
   {
    "duration": 361,
    "start_time": "2022-03-06T08:16:59.211Z"
   },
   {
    "duration": 6,
    "start_time": "2022-03-06T08:18:16.178Z"
   },
   {
    "duration": 5,
    "start_time": "2022-03-06T08:20:19.658Z"
   },
   {
    "duration": 6,
    "start_time": "2022-03-06T08:20:41.508Z"
   },
   {
    "duration": 5,
    "start_time": "2022-03-06T08:23:10.680Z"
   },
   {
    "duration": 6,
    "start_time": "2022-03-06T08:23:11.633Z"
   },
   {
    "duration": 6,
    "start_time": "2022-03-06T08:23:12.067Z"
   },
   {
    "duration": 4,
    "start_time": "2022-03-06T08:23:48.207Z"
   },
   {
    "duration": 367,
    "start_time": "2022-03-06T08:23:48.843Z"
   },
   {
    "duration": 3,
    "start_time": "2022-03-06T08:23:49.212Z"
   },
   {
    "duration": 6,
    "start_time": "2022-03-06T08:23:49.592Z"
   },
   {
    "duration": 5,
    "start_time": "2022-03-06T08:23:50.020Z"
   },
   {
    "duration": 12,
    "start_time": "2022-03-06T08:30:08.347Z"
   },
   {
    "duration": 11,
    "start_time": "2022-03-06T08:34:28.425Z"
   },
   {
    "duration": 10,
    "start_time": "2022-03-06T08:36:49.300Z"
   },
   {
    "duration": 11,
    "start_time": "2022-03-06T08:36:56.894Z"
   },
   {
    "duration": 175,
    "start_time": "2022-03-06T08:41:58.008Z"
   },
   {
    "duration": 20,
    "start_time": "2022-03-06T08:42:06.713Z"
   },
   {
    "duration": 394,
    "start_time": "2022-03-06T08:51:44.544Z"
   },
   {
    "duration": 371,
    "start_time": "2022-03-06T08:53:13.597Z"
   },
   {
    "duration": 8,
    "start_time": "2022-03-06T09:02:31.618Z"
   },
   {
    "duration": 7,
    "start_time": "2022-03-06T09:02:32.013Z"
   },
   {
    "duration": 174,
    "start_time": "2022-03-06T09:08:58.837Z"
   },
   {
    "duration": 966,
    "start_time": "2022-03-06T09:09:06.679Z"
   },
   {
    "duration": -57288,
    "start_time": "2022-03-06T09:10:04.935Z"
   },
   {
    "duration": -57292,
    "start_time": "2022-03-06T09:10:04.940Z"
   },
   {
    "duration": 3,
    "start_time": "2022-03-06T09:09:15.442Z"
   },
   {
    "duration": 374,
    "start_time": "2022-03-06T09:09:15.958Z"
   },
   {
    "duration": 3,
    "start_time": "2022-03-06T09:09:16.334Z"
   },
   {
    "duration": 5,
    "start_time": "2022-03-06T09:09:16.657Z"
   },
   {
    "duration": 4,
    "start_time": "2022-03-06T09:09:17.075Z"
   },
   {
    "duration": 10,
    "start_time": "2022-03-06T09:09:17.361Z"
   },
   {
    "duration": 17,
    "start_time": "2022-03-06T09:09:17.920Z"
   },
   {
    "duration": 401,
    "start_time": "2022-03-06T09:09:18.677Z"
   },
   {
    "duration": 373,
    "start_time": "2022-03-06T09:09:19.080Z"
   },
   {
    "duration": 6,
    "start_time": "2022-03-06T09:09:19.455Z"
   },
   {
    "duration": 7,
    "start_time": "2022-03-06T09:09:19.598Z"
   },
   {
    "duration": 791,
    "start_time": "2022-03-06T09:09:20.157Z"
   },
   {
    "duration": -57246,
    "start_time": "2022-03-06T09:10:18.197Z"
   },
   {
    "duration": -57284,
    "start_time": "2022-03-06T09:10:18.236Z"
   },
   {
    "duration": 3,
    "start_time": "2022-03-06T09:11:50.594Z"
   },
   {
    "duration": 369,
    "start_time": "2022-03-06T09:11:51.105Z"
   },
   {
    "duration": 4,
    "start_time": "2022-03-06T09:11:51.475Z"
   },
   {
    "duration": 5,
    "start_time": "2022-03-06T09:11:51.803Z"
   },
   {
    "duration": 5,
    "start_time": "2022-03-06T09:11:52.143Z"
   },
   {
    "duration": 11,
    "start_time": "2022-03-06T09:11:52.501Z"
   },
   {
    "duration": 18,
    "start_time": "2022-03-06T09:11:53.063Z"
   },
   {
    "duration": 413,
    "start_time": "2022-03-06T09:11:53.831Z"
   },
   {
    "duration": 576,
    "start_time": "2022-03-06T09:11:54.246Z"
   },
   {
    "duration": 7,
    "start_time": "2022-03-06T09:11:54.824Z"
   },
   {
    "duration": 7,
    "start_time": "2022-03-06T09:11:54.837Z"
   },
   {
    "duration": 820,
    "start_time": "2022-03-06T09:11:55.479Z"
   },
   {
    "duration": -57267,
    "start_time": "2022-03-06T09:12:53.568Z"
   },
   {
    "duration": -57269,
    "start_time": "2022-03-06T09:12:53.571Z"
   },
   {
    "duration": 59,
    "start_time": "2022-03-06T09:12:51.252Z"
   },
   {
    "duration": 3,
    "start_time": "2022-03-06T09:12:59.681Z"
   },
   {
    "duration": 388,
    "start_time": "2022-03-06T09:13:00.192Z"
   },
   {
    "duration": 3,
    "start_time": "2022-03-06T09:13:00.582Z"
   },
   {
    "duration": 6,
    "start_time": "2022-03-06T09:13:00.876Z"
   },
   {
    "duration": 6,
    "start_time": "2022-03-06T09:13:01.221Z"
   },
   {
    "duration": 10,
    "start_time": "2022-03-06T09:13:01.583Z"
   },
   {
    "duration": 18,
    "start_time": "2022-03-06T09:13:02.144Z"
   },
   {
    "duration": 385,
    "start_time": "2022-03-06T09:13:02.922Z"
   },
   {
    "duration": 395,
    "start_time": "2022-03-06T09:13:03.309Z"
   },
   {
    "duration": 7,
    "start_time": "2022-03-06T09:13:03.706Z"
   },
   {
    "duration": 6,
    "start_time": "2022-03-06T09:13:03.867Z"
   },
   {
    "duration": 53,
    "start_time": "2022-03-06T09:13:04.404Z"
   },
   {
    "duration": 6,
    "start_time": "2022-03-06T09:13:04.926Z"
   },
   {
    "duration": 4367,
    "start_time": "2022-03-06T09:13:05.188Z"
   },
   {
    "duration": 15,
    "start_time": "2022-03-06T09:13:38.002Z"
   },
   {
    "duration": 818,
    "start_time": "2022-03-06T09:13:59.484Z"
   },
   {
    "duration": -57259,
    "start_time": "2022-03-06T09:14:57.564Z"
   },
   {
    "duration": 4508,
    "start_time": "2022-03-06T09:14:00.367Z"
   },
   {
    "duration": 3,
    "start_time": "2022-03-06T09:14:21.671Z"
   },
   {
    "duration": 371,
    "start_time": "2022-03-06T09:14:22.217Z"
   },
   {
    "duration": 4,
    "start_time": "2022-03-06T09:14:22.593Z"
   },
   {
    "duration": 6,
    "start_time": "2022-03-06T09:14:22.953Z"
   },
   {
    "duration": 6,
    "start_time": "2022-03-06T09:14:23.354Z"
   },
   {
    "duration": 11,
    "start_time": "2022-03-06T09:14:23.733Z"
   },
   {
    "duration": 20,
    "start_time": "2022-03-06T09:14:24.386Z"
   },
   {
    "duration": 359,
    "start_time": "2022-03-06T09:14:25.046Z"
   },
   {
    "duration": 366,
    "start_time": "2022-03-06T09:14:25.406Z"
   },
   {
    "duration": 6,
    "start_time": "2022-03-06T09:14:25.774Z"
   },
   {
    "duration": 6,
    "start_time": "2022-03-06T09:14:26.012Z"
   },
   {
    "duration": 15,
    "start_time": "2022-03-06T09:14:26.630Z"
   },
   {
    "duration": 7,
    "start_time": "2022-03-06T09:14:27.029Z"
   },
   {
    "duration": 4534,
    "start_time": "2022-03-06T09:14:27.459Z"
   },
   {
    "duration": 10,
    "start_time": "2022-03-06T09:15:18.591Z"
   },
   {
    "duration": 11,
    "start_time": "2022-03-06T09:15:46.311Z"
   },
   {
    "duration": 4,
    "start_time": "2022-03-06T09:20:28.002Z"
   },
   {
    "duration": 899,
    "start_time": "2022-03-06T09:20:30.789Z"
   },
   {
    "duration": -57248,
    "start_time": "2022-03-06T09:21:28.938Z"
   },
   {
    "duration": 226,
    "start_time": "2022-03-06T09:21:04.267Z"
   },
   {
    "duration": 4,
    "start_time": "2022-03-06T09:21:09.246Z"
   },
   {
    "duration": 388,
    "start_time": "2022-03-06T09:21:09.781Z"
   },
   {
    "duration": 3,
    "start_time": "2022-03-06T09:21:10.172Z"
   },
   {
    "duration": 5,
    "start_time": "2022-03-06T09:21:10.502Z"
   },
   {
    "duration": 6,
    "start_time": "2022-03-06T09:21:10.857Z"
   },
   {
    "duration": 12,
    "start_time": "2022-03-06T09:21:11.216Z"
   },
   {
    "duration": 17,
    "start_time": "2022-03-06T09:21:11.759Z"
   },
   {
    "duration": 444,
    "start_time": "2022-03-06T09:21:12.478Z"
   },
   {
    "duration": 405,
    "start_time": "2022-03-06T09:21:12.924Z"
   },
   {
    "duration": 6,
    "start_time": "2022-03-06T09:21:13.331Z"
   },
   {
    "duration": 8,
    "start_time": "2022-03-06T09:21:13.426Z"
   },
   {
    "duration": 4,
    "start_time": "2022-03-06T09:21:13.810Z"
   },
   {
    "duration": 17,
    "start_time": "2022-03-06T09:21:14.348Z"
   },
   {
    "duration": 12,
    "start_time": "2022-03-06T09:21:16.556Z"
   },
   {
    "duration": 226,
    "start_time": "2022-03-06T09:21:16.940Z"
   },
   {
    "duration": 6,
    "start_time": "2022-03-06T09:21:37.234Z"
   },
   {
    "duration": 174,
    "start_time": "2022-03-06T09:23:22.324Z"
   },
   {
    "duration": 4,
    "start_time": "2022-03-06T09:23:36.503Z"
   },
   {
    "duration": 373,
    "start_time": "2022-03-06T09:23:37.046Z"
   },
   {
    "duration": 3,
    "start_time": "2022-03-06T09:23:37.421Z"
   },
   {
    "duration": 6,
    "start_time": "2022-03-06T09:23:37.733Z"
   },
   {
    "duration": 5,
    "start_time": "2022-03-06T09:23:38.106Z"
   },
   {
    "duration": 10,
    "start_time": "2022-03-06T09:23:38.470Z"
   },
   {
    "duration": 17,
    "start_time": "2022-03-06T09:23:39.006Z"
   },
   {
    "duration": 363,
    "start_time": "2022-03-06T09:23:39.734Z"
   },
   {
    "duration": 356,
    "start_time": "2022-03-06T09:23:40.099Z"
   },
   {
    "duration": 6,
    "start_time": "2022-03-06T09:23:40.457Z"
   },
   {
    "duration": 7,
    "start_time": "2022-03-06T09:23:40.664Z"
   },
   {
    "duration": 4,
    "start_time": "2022-03-06T09:23:41.045Z"
   },
   {
    "duration": 15,
    "start_time": "2022-03-06T09:23:41.625Z"
   },
   {
    "duration": 7,
    "start_time": "2022-03-06T09:23:41.992Z"
   },
   {
    "duration": 222,
    "start_time": "2022-03-06T09:23:42.393Z"
   },
   {
    "duration": 165,
    "start_time": "2022-03-06T09:23:42.773Z"
   },
   {
    "duration": 20,
    "start_time": "2022-03-06T09:23:42.982Z"
   },
   {
    "duration": 17,
    "start_time": "2022-03-06T09:24:39.885Z"
   },
   {
    "duration": 8,
    "start_time": "2022-03-06T09:24:40.077Z"
   },
   {
    "duration": 270,
    "start_time": "2022-03-06T09:24:40.270Z"
   },
   {
    "duration": 3,
    "start_time": "2022-03-06T09:26:55.776Z"
   },
   {
    "duration": 208,
    "start_time": "2022-03-06T11:31:43.748Z"
   },
   {
    "duration": 248,
    "start_time": "2022-03-06T11:33:09.197Z"
   },
   {
    "duration": 254,
    "start_time": "2022-03-06T11:34:48.479Z"
   },
   {
    "duration": 350,
    "start_time": "2022-03-06T11:39:23.279Z"
   },
   {
    "duration": 370,
    "start_time": "2022-03-06T11:39:47.977Z"
   },
   {
    "duration": 471,
    "start_time": "2022-03-06T11:40:03.710Z"
   },
   {
    "duration": 427,
    "start_time": "2022-03-06T11:40:16.379Z"
   },
   {
    "duration": 383,
    "start_time": "2022-03-06T11:40:23.068Z"
   },
   {
    "duration": 346,
    "start_time": "2022-03-06T11:41:14.849Z"
   },
   {
    "duration": 189,
    "start_time": "2022-03-06T11:48:31.966Z"
   },
   {
    "duration": 231,
    "start_time": "2022-03-06T11:49:27.180Z"
   },
   {
    "duration": 266,
    "start_time": "2022-03-06T11:49:54.575Z"
   },
   {
    "duration": 267,
    "start_time": "2022-03-06T11:50:14.834Z"
   },
   {
    "duration": 264,
    "start_time": "2022-03-06T11:51:15.827Z"
   },
   {
    "duration": 239,
    "start_time": "2022-03-06T11:53:50.087Z"
   },
   {
    "duration": 255,
    "start_time": "2022-03-06T11:54:37.993Z"
   },
   {
    "duration": 329,
    "start_time": "2022-03-06T11:54:56.385Z"
   },
   {
    "duration": 240,
    "start_time": "2022-03-06T11:55:08.692Z"
   },
   {
    "duration": 3,
    "start_time": "2022-03-06T11:56:36.201Z"
   },
   {
    "duration": 363,
    "start_time": "2022-03-06T11:56:36.265Z"
   },
   {
    "duration": 3,
    "start_time": "2022-03-06T11:56:36.629Z"
   },
   {
    "duration": 6,
    "start_time": "2022-03-06T11:56:36.730Z"
   },
   {
    "duration": 5,
    "start_time": "2022-03-06T11:56:37.082Z"
   },
   {
    "duration": 11,
    "start_time": "2022-03-06T11:56:37.440Z"
   },
   {
    "duration": 20,
    "start_time": "2022-03-06T11:56:37.995Z"
   },
   {
    "duration": 387,
    "start_time": "2022-03-06T11:56:38.706Z"
   },
   {
    "duration": 355,
    "start_time": "2022-03-06T11:56:39.095Z"
   },
   {
    "duration": 7,
    "start_time": "2022-03-06T11:56:39.452Z"
   },
   {
    "duration": 8,
    "start_time": "2022-03-06T11:56:39.601Z"
   },
   {
    "duration": 5,
    "start_time": "2022-03-06T11:56:39.970Z"
   },
   {
    "duration": 15,
    "start_time": "2022-03-06T11:56:41.311Z"
   },
   {
    "duration": 12,
    "start_time": "2022-03-06T11:56:41.329Z"
   },
   {
    "duration": 227,
    "start_time": "2022-03-06T11:56:41.344Z"
   },
   {
    "duration": 159,
    "start_time": "2022-03-06T11:56:41.679Z"
   },
   {
    "duration": 17,
    "start_time": "2022-03-06T11:56:41.857Z"
   },
   {
    "duration": 8,
    "start_time": "2022-03-06T11:56:42.257Z"
   },
   {
    "duration": 246,
    "start_time": "2022-03-06T11:56:42.670Z"
   },
   {
    "duration": 296,
    "start_time": "2022-03-06T11:56:43.285Z"
   },
   {
    "duration": 368,
    "start_time": "2022-03-06T11:56:43.909Z"
   },
   {
    "duration": 235,
    "start_time": "2022-03-06T11:56:44.492Z"
   },
   {
    "duration": 227,
    "start_time": "2022-03-06T11:59:23.043Z"
   },
   {
    "duration": 341,
    "start_time": "2022-03-06T12:01:20.790Z"
   },
   {
    "duration": 362,
    "start_time": "2022-03-06T12:03:38.214Z"
   },
   {
    "duration": 370,
    "start_time": "2022-03-06T12:05:41.495Z"
   },
   {
    "duration": 64,
    "start_time": "2022-03-06T12:06:02.124Z"
   },
   {
    "duration": 148,
    "start_time": "2022-03-06T12:10:01.959Z"
   },
   {
    "duration": 372,
    "start_time": "2022-03-06T12:10:41.190Z"
   },
   {
    "duration": 420,
    "start_time": "2022-03-06T12:12:01.329Z"
   },
   {
    "duration": 504,
    "start_time": "2022-03-06T12:12:42.837Z"
   },
   {
    "duration": 5,
    "start_time": "2022-03-06T12:14:03.833Z"
   },
   {
    "duration": 360,
    "start_time": "2022-03-06T12:15:52.192Z"
   },
   {
    "duration": 997,
    "start_time": "2022-03-08T07:15:00.436Z"
   },
   {
    "duration": 534,
    "start_time": "2022-03-08T07:15:01.434Z"
   },
   {
    "duration": 3,
    "start_time": "2022-03-08T07:15:01.970Z"
   },
   {
    "duration": 12,
    "start_time": "2022-03-08T07:15:01.975Z"
   },
   {
    "duration": 5,
    "start_time": "2022-03-08T07:15:02.160Z"
   },
   {
    "duration": 12,
    "start_time": "2022-03-08T07:15:02.543Z"
   },
   {
    "duration": 13,
    "start_time": "2022-03-08T07:15:03.083Z"
   },
   {
    "duration": 640,
    "start_time": "2022-03-08T07:15:03.873Z"
   },
   {
    "duration": 518,
    "start_time": "2022-03-08T07:15:04.515Z"
   },
   {
    "duration": 5,
    "start_time": "2022-03-08T07:15:05.035Z"
   },
   {
    "duration": 11,
    "start_time": "2022-03-08T07:15:05.042Z"
   },
   {
    "duration": 4,
    "start_time": "2022-03-08T07:15:05.084Z"
   },
   {
    "duration": 14,
    "start_time": "2022-03-08T07:15:05.674Z"
   },
   {
    "duration": 6,
    "start_time": "2022-03-08T07:15:06.035Z"
   },
   {
    "duration": 201,
    "start_time": "2022-03-08T07:15:06.425Z"
   },
   {
    "duration": 159,
    "start_time": "2022-03-08T07:15:06.831Z"
   },
   {
    "duration": 17,
    "start_time": "2022-03-08T07:15:07.057Z"
   },
   {
    "duration": 7,
    "start_time": "2022-03-08T07:15:07.444Z"
   },
   {
    "duration": 215,
    "start_time": "2022-03-08T07:15:07.867Z"
   },
   {
    "duration": 206,
    "start_time": "2022-03-08T07:15:08.505Z"
   },
   {
    "duration": 328,
    "start_time": "2022-03-08T07:15:09.089Z"
   },
   {
    "duration": 189,
    "start_time": "2022-03-08T07:15:09.721Z"
   },
   {
    "duration": 289,
    "start_time": "2022-03-08T07:15:10.355Z"
   },
   {
    "duration": 355,
    "start_time": "2022-03-08T07:15:11.040Z"
   },
   {
    "duration": 4,
    "start_time": "2022-03-08T07:15:11.638Z"
   },
   {
    "duration": 268,
    "start_time": "2022-03-08T07:15:12.252Z"
   },
   {
    "duration": 3,
    "start_time": "2022-03-08T07:15:13.743Z"
   },
   {
    "duration": 97,
    "start_time": "2022-03-08T07:20:44.821Z"
   },
   {
    "duration": 118,
    "start_time": "2022-03-08T07:22:28.052Z"
   },
   {
    "duration": 26,
    "start_time": "2022-03-08T07:22:58.027Z"
   },
   {
    "duration": 359,
    "start_time": "2022-03-08T07:25:07.807Z"
   },
   {
    "duration": 184,
    "start_time": "2022-03-08T07:25:27.785Z"
   },
   {
    "duration": 81,
    "start_time": "2022-03-08T07:26:47.826Z"
   },
   {
    "duration": 10,
    "start_time": "2022-03-08T07:28:22.607Z"
   },
   {
    "duration": 10,
    "start_time": "2022-03-08T07:31:07.503Z"
   },
   {
    "duration": 9,
    "start_time": "2022-03-08T07:31:18.266Z"
   },
   {
    "duration": 350,
    "start_time": "2022-03-08T07:34:04.889Z"
   },
   {
    "duration": 2,
    "start_time": "2022-03-08T07:34:12.495Z"
   },
   {
    "duration": 102,
    "start_time": "2022-03-08T07:34:12.703Z"
   },
   {
    "duration": 116,
    "start_time": "2022-03-08T07:35:12.101Z"
   },
   {
    "duration": 13085,
    "start_time": "2022-03-08T07:35:12.516Z"
   },
   {
    "duration": -61092,
    "start_time": "2022-03-08T07:36:26.695Z"
   },
   {
    "duration": 6189,
    "start_time": "2022-03-08T07:36:51.867Z"
   },
   {
    "duration": 7,
    "start_time": "2022-03-08T07:37:14.924Z"
   },
   {
    "duration": 7,
    "start_time": "2022-03-08T07:37:18.479Z"
   },
   {
    "duration": 5967,
    "start_time": "2022-03-08T07:37:19.937Z"
   },
   {
    "duration": 12,
    "start_time": "2022-03-08T07:37:40.683Z"
   },
   {
    "duration": 218,
    "start_time": "2022-03-08T07:39:47.106Z"
   },
   {
    "duration": 87,
    "start_time": "2022-03-08T07:39:47.614Z"
   },
   {
    "duration": 7,
    "start_time": "2022-03-08T07:39:48.010Z"
   },
   {
    "duration": 6,
    "start_time": "2022-03-08T07:40:15.545Z"
   },
   {
    "duration": 4,
    "start_time": "2022-03-08T07:41:08.510Z"
   },
   {
    "duration": 500,
    "start_time": "2022-03-08T07:41:09.046Z"
   },
   {
    "duration": 3,
    "start_time": "2022-03-08T07:41:09.547Z"
   },
   {
    "duration": 4,
    "start_time": "2022-03-08T07:41:09.863Z"
   },
   {
    "duration": 4,
    "start_time": "2022-03-08T07:41:10.158Z"
   },
   {
    "duration": 9,
    "start_time": "2022-03-08T07:41:10.540Z"
   },
   {
    "duration": 14,
    "start_time": "2022-03-08T07:41:11.129Z"
   },
   {
    "duration": 578,
    "start_time": "2022-03-08T07:41:11.903Z"
   },
   {
    "duration": 538,
    "start_time": "2022-03-08T07:41:12.483Z"
   },
   {
    "duration": 5,
    "start_time": "2022-03-08T07:41:13.023Z"
   },
   {
    "duration": 8,
    "start_time": "2022-03-08T07:41:13.029Z"
   },
   {
    "duration": 4,
    "start_time": "2022-03-08T07:41:13.122Z"
   },
   {
    "duration": 13,
    "start_time": "2022-03-08T07:41:13.645Z"
   },
   {
    "duration": 5,
    "start_time": "2022-03-08T07:41:14.017Z"
   },
   {
    "duration": 190,
    "start_time": "2022-03-08T07:41:14.441Z"
   },
   {
    "duration": 140,
    "start_time": "2022-03-08T07:41:14.809Z"
   },
   {
    "duration": 14,
    "start_time": "2022-03-08T07:41:15.010Z"
   },
   {
    "duration": 6,
    "start_time": "2022-03-08T07:41:15.406Z"
   },
   {
    "duration": 209,
    "start_time": "2022-03-08T07:41:15.807Z"
   },
   {
    "duration": 252,
    "start_time": "2022-03-08T07:41:16.389Z"
   },
   {
    "duration": 347,
    "start_time": "2022-03-08T07:41:16.999Z"
   },
   {
    "duration": 186,
    "start_time": "2022-03-08T07:41:17.619Z"
   },
   {
    "duration": 329,
    "start_time": "2022-03-08T07:41:18.223Z"
   },
   {
    "duration": 377,
    "start_time": "2022-03-08T07:41:18.849Z"
   },
   {
    "duration": 4,
    "start_time": "2022-03-08T07:41:19.443Z"
   },
   {
    "duration": 311,
    "start_time": "2022-03-08T07:41:20.109Z"
   },
   {
    "duration": 4,
    "start_time": "2022-03-08T07:41:20.655Z"
   },
   {
    "duration": 103,
    "start_time": "2022-03-08T07:41:21.709Z"
   },
   {
    "duration": 118,
    "start_time": "2022-03-08T07:41:22.130Z"
   },
   {
    "duration": 29,
    "start_time": "2022-03-08T07:41:22.540Z"
   },
   {
    "duration": 190,
    "start_time": "2022-03-08T07:41:22.968Z"
   },
   {
    "duration": 6,
    "start_time": "2022-03-08T07:41:23.471Z"
   },
   {
    "duration": 8,
    "start_time": "2022-03-08T07:41:23.813Z"
   },
   {
    "duration": 10,
    "start_time": "2022-03-08T07:41:24.413Z"
   },
   {
    "duration": 3,
    "start_time": "2022-03-08T07:41:25.085Z"
   },
   {
    "duration": 101,
    "start_time": "2022-03-08T07:41:25.326Z"
   },
   {
    "duration": 7,
    "start_time": "2022-03-08T07:41:25.749Z"
   },
   {
    "duration": 7,
    "start_time": "2022-03-08T07:41:25.977Z"
   },
   {
    "duration": 13,
    "start_time": "2022-03-08T07:41:26.636Z"
   },
   {
    "duration": 3,
    "start_time": "2022-03-08T07:56:30.127Z"
   },
   {
    "duration": 504,
    "start_time": "2022-03-08T07:56:31.546Z"
   },
   {
    "duration": 3,
    "start_time": "2022-03-08T07:56:32.075Z"
   },
   {
    "duration": 5,
    "start_time": "2022-03-08T07:56:32.544Z"
   },
   {
    "duration": 4,
    "start_time": "2022-03-08T07:56:33.041Z"
   },
   {
    "duration": 9,
    "start_time": "2022-03-08T07:56:33.558Z"
   },
   {
    "duration": 14,
    "start_time": "2022-03-08T07:56:34.263Z"
   },
   {
    "duration": 517,
    "start_time": "2022-03-08T07:56:35.554Z"
   },
   {
    "duration": 491,
    "start_time": "2022-03-08T07:56:36.072Z"
   },
   {
    "duration": 5,
    "start_time": "2022-03-08T07:56:36.565Z"
   },
   {
    "duration": 5,
    "start_time": "2022-03-08T07:56:36.881Z"
   },
   {
    "duration": 4,
    "start_time": "2022-03-08T07:56:37.139Z"
   },
   {
    "duration": 12,
    "start_time": "2022-03-08T07:56:37.909Z"
   },
   {
    "duration": 5,
    "start_time": "2022-03-08T07:56:38.426Z"
   },
   {
    "duration": 179,
    "start_time": "2022-03-08T07:56:38.914Z"
   },
   {
    "duration": 133,
    "start_time": "2022-03-08T07:56:39.413Z"
   },
   {
    "duration": 14,
    "start_time": "2022-03-08T07:56:39.665Z"
   },
   {
    "duration": 6,
    "start_time": "2022-03-08T07:56:40.151Z"
   },
   {
    "duration": 204,
    "start_time": "2022-03-08T07:56:40.662Z"
   },
   {
    "duration": 207,
    "start_time": "2022-03-08T07:56:41.387Z"
   },
   {
    "duration": 323,
    "start_time": "2022-03-08T07:56:42.098Z"
   },
   {
    "duration": 189,
    "start_time": "2022-03-08T07:56:42.781Z"
   },
   {
    "duration": 363,
    "start_time": "2022-03-08T07:56:43.502Z"
   },
   {
    "duration": 356,
    "start_time": "2022-03-08T07:56:44.249Z"
   },
   {
    "duration": 4,
    "start_time": "2022-03-08T07:56:44.993Z"
   },
   {
    "duration": 278,
    "start_time": "2022-03-08T07:56:45.727Z"
   },
   {
    "duration": 4,
    "start_time": "2022-03-08T07:56:46.505Z"
   },
   {
    "duration": 100,
    "start_time": "2022-03-08T07:56:47.690Z"
   },
   {
    "duration": 123,
    "start_time": "2022-03-08T07:56:48.196Z"
   },
   {
    "duration": 26,
    "start_time": "2022-03-08T07:56:48.684Z"
   },
   {
    "duration": 193,
    "start_time": "2022-03-08T07:56:49.200Z"
   },
   {
    "duration": 6,
    "start_time": "2022-03-08T07:56:49.686Z"
   },
   {
    "duration": 8,
    "start_time": "2022-03-08T07:56:50.167Z"
   },
   {
    "duration": 11,
    "start_time": "2022-03-08T07:56:51.023Z"
   },
   {
    "duration": 2,
    "start_time": "2022-03-08T07:56:51.742Z"
   },
   {
    "duration": 103,
    "start_time": "2022-03-08T07:56:51.978Z"
   },
   {
    "duration": 8,
    "start_time": "2022-03-08T07:56:52.477Z"
   },
   {
    "duration": 7,
    "start_time": "2022-03-08T07:56:53.057Z"
   },
   {
    "duration": 13,
    "start_time": "2022-03-08T07:56:53.785Z"
   },
   {
    "duration": 1398,
    "start_time": "2022-03-09T05:09:14.196Z"
   },
   {
    "duration": 715,
    "start_time": "2022-03-09T05:09:15.597Z"
   },
   {
    "duration": 4,
    "start_time": "2022-03-09T05:09:16.315Z"
   },
   {
    "duration": 9,
    "start_time": "2022-03-09T05:09:16.321Z"
   },
   {
    "duration": 9,
    "start_time": "2022-03-09T05:09:16.333Z"
   },
   {
    "duration": 19,
    "start_time": "2022-03-09T05:09:16.344Z"
   },
   {
    "duration": 25,
    "start_time": "2022-03-09T05:09:16.365Z"
   },
   {
    "duration": 821,
    "start_time": "2022-03-09T05:09:16.393Z"
   },
   {
    "duration": 797,
    "start_time": "2022-03-09T05:09:17.218Z"
   },
   {
    "duration": 9,
    "start_time": "2022-03-09T05:09:18.018Z"
   },
   {
    "duration": 10,
    "start_time": "2022-03-09T05:09:18.029Z"
   },
   {
    "duration": 5,
    "start_time": "2022-03-09T05:09:18.042Z"
   },
   {
    "duration": 24,
    "start_time": "2022-03-09T05:09:18.050Z"
   },
   {
    "duration": 10,
    "start_time": "2022-03-09T05:09:18.076Z"
   },
   {
    "duration": 366,
    "start_time": "2022-03-09T05:09:18.088Z"
   },
   {
    "duration": 284,
    "start_time": "2022-03-09T05:09:18.457Z"
   },
   {
    "duration": 24,
    "start_time": "2022-03-09T05:09:18.744Z"
   },
   {
    "duration": 16,
    "start_time": "2022-03-09T05:09:18.770Z"
   },
   {
    "duration": 426,
    "start_time": "2022-03-09T05:09:18.788Z"
   },
   {
    "duration": 389,
    "start_time": "2022-03-09T05:09:19.218Z"
   },
   {
    "duration": 533,
    "start_time": "2022-03-09T05:09:19.610Z"
   },
   {
    "duration": 494,
    "start_time": "2022-03-09T05:09:20.145Z"
   },
   {
    "duration": 520,
    "start_time": "2022-03-09T05:09:20.642Z"
   },
   {
    "duration": 682,
    "start_time": "2022-03-09T05:09:21.165Z"
   },
   {
    "duration": 5,
    "start_time": "2022-03-09T05:09:21.850Z"
   },
   {
    "duration": 422,
    "start_time": "2022-03-09T05:09:21.857Z"
   },
   {
    "duration": 5,
    "start_time": "2022-03-09T05:09:22.283Z"
   },
   {
    "duration": 214,
    "start_time": "2022-03-09T05:09:22.291Z"
   },
   {
    "duration": 248,
    "start_time": "2022-03-09T05:09:22.507Z"
   },
   {
    "duration": 51,
    "start_time": "2022-03-09T05:09:22.757Z"
   },
   {
    "duration": 496,
    "start_time": "2022-03-09T05:09:22.810Z"
   },
   {
    "duration": 8,
    "start_time": "2022-03-09T05:09:23.309Z"
   },
   {
    "duration": 27,
    "start_time": "2022-03-09T05:09:23.319Z"
   },
   {
    "duration": 16,
    "start_time": "2022-03-09T05:09:23.348Z"
   },
   {
    "duration": 3,
    "start_time": "2022-03-09T05:09:23.367Z"
   },
   {
    "duration": 243,
    "start_time": "2022-03-09T05:09:23.372Z"
   },
   {
    "duration": 21,
    "start_time": "2022-03-09T05:09:23.617Z"
   },
   {
    "duration": 14,
    "start_time": "2022-03-09T05:09:23.640Z"
   },
   {
    "duration": 20,
    "start_time": "2022-03-09T05:09:23.657Z"
   },
   {
    "duration": 1384,
    "start_time": "2022-03-09T06:17:08.410Z"
   },
   {
    "duration": 598,
    "start_time": "2022-03-09T06:17:09.797Z"
   },
   {
    "duration": 4,
    "start_time": "2022-03-09T06:17:10.399Z"
   },
   {
    "duration": 11,
    "start_time": "2022-03-09T06:17:10.406Z"
   },
   {
    "duration": 7,
    "start_time": "2022-03-09T06:17:10.495Z"
   },
   {
    "duration": 22,
    "start_time": "2022-03-09T06:17:11.120Z"
   },
   {
    "duration": 27,
    "start_time": "2022-03-09T06:17:11.787Z"
   },
   {
    "duration": 636,
    "start_time": "2022-03-09T06:17:12.992Z"
   },
   {
    "duration": 590,
    "start_time": "2022-03-09T06:17:13.631Z"
   },
   {
    "duration": 9,
    "start_time": "2022-03-09T06:17:14.224Z"
   },
   {
    "duration": 9,
    "start_time": "2022-03-09T06:17:14.236Z"
   },
   {
    "duration": 5,
    "start_time": "2022-03-09T06:17:14.578Z"
   },
   {
    "duration": 22,
    "start_time": "2022-03-09T06:17:15.498Z"
   },
   {
    "duration": 8,
    "start_time": "2022-03-09T06:17:16.148Z"
   },
   {
    "duration": 333,
    "start_time": "2022-03-09T06:17:16.575Z"
   },
   {
    "duration": 261,
    "start_time": "2022-03-09T06:17:16.988Z"
   },
   {
    "duration": 24,
    "start_time": "2022-03-09T06:17:17.252Z"
   },
   {
    "duration": 10,
    "start_time": "2022-03-09T06:17:17.627Z"
   },
   {
    "duration": 427,
    "start_time": "2022-03-09T06:17:18.047Z"
   },
   {
    "duration": 387,
    "start_time": "2022-03-09T06:17:18.686Z"
   },
   {
    "duration": 488,
    "start_time": "2022-03-09T06:17:19.307Z"
   },
   {
    "duration": 370,
    "start_time": "2022-03-09T06:17:19.928Z"
   },
   {
    "duration": 483,
    "start_time": "2022-03-09T06:17:20.553Z"
   },
   {
    "duration": 570,
    "start_time": "2022-03-09T06:17:21.404Z"
   },
   {
    "duration": 5,
    "start_time": "2022-03-09T06:17:22.027Z"
   },
   {
    "duration": 442,
    "start_time": "2022-03-09T06:17:22.692Z"
   },
   {
    "duration": 6,
    "start_time": "2022-03-09T06:17:23.354Z"
   },
   {
    "duration": 187,
    "start_time": "2022-03-09T06:17:24.810Z"
   },
   {
    "duration": 236,
    "start_time": "2022-03-09T06:17:25.238Z"
   },
   {
    "duration": 53,
    "start_time": "2022-03-09T06:17:25.689Z"
   },
   {
    "duration": 410,
    "start_time": "2022-03-09T06:17:26.055Z"
   },
   {
    "duration": 8,
    "start_time": "2022-03-09T06:17:26.468Z"
   },
   {
    "duration": 14,
    "start_time": "2022-03-09T06:17:26.881Z"
   },
   {
    "duration": 18,
    "start_time": "2022-03-09T06:17:27.685Z"
   },
   {
    "duration": 4,
    "start_time": "2022-03-09T06:17:28.480Z"
   },
   {
    "duration": 244,
    "start_time": "2022-03-09T06:17:28.764Z"
   },
   {
    "duration": 12,
    "start_time": "2022-03-09T06:17:29.191Z"
   },
   {
    "duration": 12,
    "start_time": "2022-03-09T06:17:29.425Z"
   },
   {
    "duration": 22,
    "start_time": "2022-03-09T06:17:30.036Z"
   },
   {
    "duration": 21,
    "start_time": "2022-03-09T06:18:54.065Z"
   },
   {
    "duration": 22,
    "start_time": "2022-03-09T06:19:08.475Z"
   },
   {
    "duration": 18,
    "start_time": "2022-03-09T06:19:54.125Z"
   },
   {
    "duration": 18,
    "start_time": "2022-03-09T06:19:59.710Z"
   },
   {
    "duration": 3,
    "start_time": "2022-03-09T06:20:00.727Z"
   },
   {
    "duration": 206,
    "start_time": "2022-03-09T06:20:00.951Z"
   },
   {
    "duration": 11,
    "start_time": "2022-03-09T06:20:01.404Z"
   },
   {
    "duration": 10,
    "start_time": "2022-03-09T06:20:01.641Z"
   },
   {
    "duration": 23,
    "start_time": "2022-03-09T06:20:02.356Z"
   },
   {
    "duration": 10,
    "start_time": "2022-03-09T06:20:38.817Z"
   },
   {
    "duration": 11,
    "start_time": "2022-03-09T06:21:03.869Z"
   },
   {
    "duration": 4,
    "start_time": "2022-03-09T06:21:27.363Z"
   },
   {
    "duration": 621,
    "start_time": "2022-03-09T06:21:27.895Z"
   },
   {
    "duration": 4,
    "start_time": "2022-03-09T06:21:28.518Z"
   },
   {
    "duration": 10,
    "start_time": "2022-03-09T06:21:28.842Z"
   },
   {
    "duration": 6,
    "start_time": "2022-03-09T06:21:29.187Z"
   },
   {
    "duration": 15,
    "start_time": "2022-03-09T06:21:29.565Z"
   },
   {
    "duration": 24,
    "start_time": "2022-03-09T06:21:30.137Z"
   },
   {
    "duration": 654,
    "start_time": "2022-03-09T06:21:31.110Z"
   },
   {
    "duration": 642,
    "start_time": "2022-03-09T06:21:31.767Z"
   },
   {
    "duration": 8,
    "start_time": "2022-03-09T06:21:32.412Z"
   },
   {
    "duration": 8,
    "start_time": "2022-03-09T06:21:32.423Z"
   },
   {
    "duration": 4,
    "start_time": "2022-03-09T06:21:32.474Z"
   },
   {
    "duration": 21,
    "start_time": "2022-03-09T06:21:33.276Z"
   },
   {
    "duration": 9,
    "start_time": "2022-03-09T06:21:33.863Z"
   },
   {
    "duration": 335,
    "start_time": "2022-03-09T06:21:34.281Z"
   },
   {
    "duration": 260,
    "start_time": "2022-03-09T06:21:34.655Z"
   },
   {
    "duration": 36,
    "start_time": "2022-03-09T06:21:34.918Z"
   },
   {
    "duration": 11,
    "start_time": "2022-03-09T06:21:35.257Z"
   },
   {
    "duration": 483,
    "start_time": "2022-03-09T06:21:35.673Z"
   },
   {
    "duration": 446,
    "start_time": "2022-03-09T06:21:36.265Z"
   },
   {
    "duration": 457,
    "start_time": "2022-03-09T06:21:36.869Z"
   },
   {
    "duration": 353,
    "start_time": "2022-03-09T06:21:37.440Z"
   },
   {
    "duration": 487,
    "start_time": "2022-03-09T06:21:38.033Z"
   },
   {
    "duration": 591,
    "start_time": "2022-03-09T06:21:38.853Z"
   },
   {
    "duration": 6,
    "start_time": "2022-03-09T06:21:39.473Z"
   },
   {
    "duration": 438,
    "start_time": "2022-03-09T06:21:40.106Z"
   },
   {
    "duration": 6,
    "start_time": "2022-03-09T06:21:40.725Z"
   },
   {
    "duration": 195,
    "start_time": "2022-03-09T06:21:42.160Z"
   },
   {
    "duration": 226,
    "start_time": "2022-03-09T06:21:42.559Z"
   },
   {
    "duration": 53,
    "start_time": "2022-03-09T06:21:42.974Z"
   },
   {
    "duration": 398,
    "start_time": "2022-03-09T06:21:43.407Z"
   },
   {
    "duration": 8,
    "start_time": "2022-03-09T06:21:43.853Z"
   },
   {
    "duration": 12,
    "start_time": "2022-03-09T06:21:44.275Z"
   },
   {
    "duration": 16,
    "start_time": "2022-03-09T06:21:45.384Z"
   },
   {
    "duration": 3,
    "start_time": "2022-03-09T06:21:46.183Z"
   },
   {
    "duration": 214,
    "start_time": "2022-03-09T06:21:46.422Z"
   },
   {
    "duration": 12,
    "start_time": "2022-03-09T06:21:46.864Z"
   },
   {
    "duration": 11,
    "start_time": "2022-03-09T06:21:47.081Z"
   },
   {
    "duration": 22,
    "start_time": "2022-03-09T06:21:48.098Z"
   },
   {
    "duration": 10,
    "start_time": "2022-03-09T06:23:42.700Z"
   },
   {
    "duration": 9,
    "start_time": "2022-03-09T06:24:01.117Z"
   },
   {
    "duration": 9,
    "start_time": "2022-03-09T06:24:09.610Z"
   },
   {
    "duration": 5,
    "start_time": "2022-03-09T06:24:49.449Z"
   },
   {
    "duration": 695,
    "start_time": "2022-03-09T06:24:50.885Z"
   },
   {
    "duration": 7,
    "start_time": "2022-03-09T06:24:52.994Z"
   },
   {
    "duration": 7,
    "start_time": "2022-03-09T06:24:53.793Z"
   },
   {
    "duration": 6,
    "start_time": "2022-03-09T06:24:54.625Z"
   },
   {
    "duration": 14,
    "start_time": "2022-03-09T06:24:56.183Z"
   },
   {
    "duration": 24,
    "start_time": "2022-03-09T06:24:57.491Z"
   },
   {
    "duration": 776,
    "start_time": "2022-03-09T06:24:59.648Z"
   },
   {
    "duration": 669,
    "start_time": "2022-03-09T06:25:00.427Z"
   },
   {
    "duration": 11,
    "start_time": "2022-03-09T06:25:01.099Z"
   },
   {
    "duration": 9,
    "start_time": "2022-03-09T06:25:02.226Z"
   },
   {
    "duration": 6,
    "start_time": "2022-03-09T06:25:04.006Z"
   },
   {
    "duration": 21,
    "start_time": "2022-03-09T06:25:05.119Z"
   },
   {
    "duration": 9,
    "start_time": "2022-03-09T06:25:05.758Z"
   },
   {
    "duration": 355,
    "start_time": "2022-03-09T06:25:06.115Z"
   },
   {
    "duration": 302,
    "start_time": "2022-03-09T06:25:06.537Z"
   },
   {
    "duration": 25,
    "start_time": "2022-03-09T06:25:06.842Z"
   },
   {
    "duration": 11,
    "start_time": "2022-03-09T06:25:07.148Z"
   },
   {
    "duration": 400,
    "start_time": "2022-03-09T06:25:07.543Z"
   },
   {
    "duration": 390,
    "start_time": "2022-03-09T06:25:08.111Z"
   },
   {
    "duration": 453,
    "start_time": "2022-03-09T06:25:08.765Z"
   },
   {
    "duration": 377,
    "start_time": "2022-03-09T06:25:09.424Z"
   },
   {
    "duration": 560,
    "start_time": "2022-03-09T06:25:10.060Z"
   },
   {
    "duration": 661,
    "start_time": "2022-03-09T06:25:10.891Z"
   },
   {
    "duration": 5,
    "start_time": "2022-03-09T06:25:11.555Z"
   },
   {
    "duration": 450,
    "start_time": "2022-03-09T06:25:12.212Z"
   },
   {
    "duration": 6,
    "start_time": "2022-03-09T06:25:12.857Z"
   },
   {
    "duration": 318,
    "start_time": "2022-03-09T06:25:14.333Z"
   },
   {
    "duration": 357,
    "start_time": "2022-03-09T06:25:14.778Z"
   },
   {
    "duration": 76,
    "start_time": "2022-03-09T06:25:15.214Z"
   },
   {
    "duration": 728,
    "start_time": "2022-03-09T06:25:15.608Z"
   },
   {
    "duration": 10,
    "start_time": "2022-03-09T06:25:16.339Z"
   },
   {
    "duration": 16,
    "start_time": "2022-03-09T06:25:16.448Z"
   },
   {
    "duration": 20,
    "start_time": "2022-03-09T06:25:17.342Z"
   },
   {
    "duration": 4,
    "start_time": "2022-03-09T06:25:17.990Z"
   },
   {
    "duration": 265,
    "start_time": "2022-03-09T06:25:18.203Z"
   },
   {
    "duration": 14,
    "start_time": "2022-03-09T06:25:18.688Z"
   },
   {
    "duration": 11,
    "start_time": "2022-03-09T06:25:18.935Z"
   },
   {
    "duration": 24,
    "start_time": "2022-03-09T06:25:19.601Z"
   },
   {
    "duration": 1068,
    "start_time": "2022-03-10T03:12:13.210Z"
   },
   {
    "duration": 363,
    "start_time": "2022-03-10T03:12:14.280Z"
   },
   {
    "duration": 3,
    "start_time": "2022-03-10T03:12:14.645Z"
   },
   {
    "duration": 7,
    "start_time": "2022-03-10T03:12:14.649Z"
   },
   {
    "duration": 5,
    "start_time": "2022-03-10T03:12:14.658Z"
   },
   {
    "duration": 11,
    "start_time": "2022-03-10T03:12:14.665Z"
   },
   {
    "duration": 15,
    "start_time": "2022-03-10T03:12:14.677Z"
   },
   {
    "duration": 392,
    "start_time": "2022-03-10T03:12:14.694Z"
   },
   {
    "duration": 529,
    "start_time": "2022-03-10T03:12:15.088Z"
   },
   {
    "duration": 6,
    "start_time": "2022-03-10T03:12:15.619Z"
   },
   {
    "duration": 5,
    "start_time": "2022-03-10T03:12:15.627Z"
   },
   {
    "duration": 7,
    "start_time": "2022-03-10T03:12:15.633Z"
   },
   {
    "duration": 16,
    "start_time": "2022-03-10T03:12:15.641Z"
   },
   {
    "duration": 11,
    "start_time": "2022-03-10T03:12:15.658Z"
   },
   {
    "duration": 200,
    "start_time": "2022-03-10T03:12:15.670Z"
   },
   {
    "duration": 147,
    "start_time": "2022-03-10T03:12:15.871Z"
   },
   {
    "duration": 21,
    "start_time": "2022-03-10T03:12:16.020Z"
   },
   {
    "duration": 7,
    "start_time": "2022-03-10T03:12:16.043Z"
   },
   {
    "duration": 240,
    "start_time": "2022-03-10T03:12:16.051Z"
   },
   {
    "duration": 230,
    "start_time": "2022-03-10T03:12:16.293Z"
   },
   {
    "duration": 338,
    "start_time": "2022-03-10T03:12:16.532Z"
   },
   {
    "duration": 222,
    "start_time": "2022-03-10T03:12:16.872Z"
   },
   {
    "duration": 378,
    "start_time": "2022-03-10T03:12:17.097Z"
   },
   {
    "duration": 391,
    "start_time": "2022-03-10T03:12:17.477Z"
   },
   {
    "duration": 4,
    "start_time": "2022-03-10T03:12:17.869Z"
   },
   {
    "duration": 307,
    "start_time": "2022-03-10T03:12:17.875Z"
   },
   {
    "duration": 4,
    "start_time": "2022-03-10T03:12:18.184Z"
   },
   {
    "duration": 119,
    "start_time": "2022-03-10T03:12:18.189Z"
   },
   {
    "duration": 131,
    "start_time": "2022-03-10T03:12:18.310Z"
   },
   {
    "duration": 27,
    "start_time": "2022-03-10T03:12:18.443Z"
   },
   {
    "duration": 213,
    "start_time": "2022-03-10T03:12:18.471Z"
   },
   {
    "duration": 5,
    "start_time": "2022-03-10T03:12:18.686Z"
   },
   {
    "duration": 12,
    "start_time": "2022-03-10T03:12:18.693Z"
   },
   {
    "duration": 10,
    "start_time": "2022-03-10T03:12:18.706Z"
   },
   {
    "duration": 17,
    "start_time": "2022-03-10T03:12:18.717Z"
   },
   {
    "duration": 129,
    "start_time": "2022-03-10T03:12:18.736Z"
   },
   {
    "duration": 9,
    "start_time": "2022-03-10T03:12:18.867Z"
   },
   {
    "duration": 9,
    "start_time": "2022-03-10T03:12:18.878Z"
   },
   {
    "duration": 15,
    "start_time": "2022-03-10T03:12:18.889Z"
   },
   {
    "duration": 48,
    "start_time": "2022-03-21T07:09:11.272Z"
   },
   {
    "duration": 7,
    "start_time": "2022-03-21T07:09:30.158Z"
   },
   {
    "duration": 6,
    "start_time": "2022-03-21T07:12:28.975Z"
   },
   {
    "duration": 7,
    "start_time": "2022-03-21T07:12:29.463Z"
   },
   {
    "duration": 7,
    "start_time": "2022-03-21T07:12:29.875Z"
   },
   {
    "duration": 984,
    "start_time": "2022-03-21T07:12:35.965Z"
   },
   {
    "duration": 348,
    "start_time": "2022-03-21T07:12:36.951Z"
   },
   {
    "duration": 3,
    "start_time": "2022-03-21T07:12:37.301Z"
   },
   {
    "duration": 5,
    "start_time": "2022-03-21T07:12:37.502Z"
   },
   {
    "duration": 5,
    "start_time": "2022-03-21T07:12:37.877Z"
   },
   {
    "duration": 11,
    "start_time": "2022-03-21T07:12:38.231Z"
   },
   {
    "duration": 1642,
    "start_time": "2022-04-30T07:08:44.725Z"
   },
   {
    "duration": 547,
    "start_time": "2022-04-30T07:08:46.370Z"
   },
   {
    "duration": 5,
    "start_time": "2022-04-30T07:08:46.919Z"
   },
   {
    "duration": 12,
    "start_time": "2022-04-30T07:08:46.927Z"
   },
   {
    "duration": 13,
    "start_time": "2022-04-30T07:08:46.942Z"
   },
   {
    "duration": 41,
    "start_time": "2022-04-30T07:08:46.958Z"
   },
   {
    "duration": 27,
    "start_time": "2022-04-30T07:08:47.100Z"
   },
   {
    "duration": 462,
    "start_time": "2022-04-30T07:08:47.775Z"
   },
   {
    "duration": 475,
    "start_time": "2022-04-30T07:08:48.240Z"
   },
   {
    "duration": 10,
    "start_time": "2022-04-30T07:08:48.717Z"
   },
   {
    "duration": 10,
    "start_time": "2022-04-30T07:08:48.730Z"
   },
   {
    "duration": 5,
    "start_time": "2022-04-30T07:08:48.742Z"
   },
   {
    "duration": 21,
    "start_time": "2022-04-30T07:08:48.912Z"
   },
   {
    "duration": 8,
    "start_time": "2022-04-30T07:08:49.136Z"
   },
   {
    "duration": 305,
    "start_time": "2022-04-30T07:08:49.407Z"
   },
   {
    "duration": 222,
    "start_time": "2022-04-30T07:08:49.715Z"
   },
   {
    "duration": 24,
    "start_time": "2022-04-30T07:08:49.940Z"
   },
   {
    "duration": 9,
    "start_time": "2022-04-30T07:08:49.987Z"
   },
   {
    "duration": 445,
    "start_time": "2022-04-30T07:08:50.222Z"
   },
   {
    "duration": 467,
    "start_time": "2022-04-30T07:09:12.413Z"
   },
   {
    "duration": 427,
    "start_time": "2022-04-30T07:09:12.882Z"
   },
   {
    "duration": 10,
    "start_time": "2022-04-30T07:09:13.312Z"
   },
   {
    "duration": 10,
    "start_time": "2022-04-30T07:09:13.324Z"
   },
   {
    "duration": 5,
    "start_time": "2022-04-30T07:09:13.444Z"
   },
   {
    "duration": 21,
    "start_time": "2022-04-30T07:09:13.983Z"
   },
   {
    "duration": 8,
    "start_time": "2022-04-30T07:09:14.343Z"
   },
   {
    "duration": 297,
    "start_time": "2022-04-30T07:09:14.706Z"
   },
   {
    "duration": 209,
    "start_time": "2022-04-30T07:09:15.077Z"
   },
   {
    "duration": 24,
    "start_time": "2022-04-30T07:09:15.289Z"
   },
   {
    "duration": 9,
    "start_time": "2022-04-30T07:09:15.643Z"
   },
   {
    "duration": 333,
    "start_time": "2022-04-30T07:09:16.004Z"
   },
   {
    "duration": 333,
    "start_time": "2022-04-30T07:09:16.573Z"
   },
   {
    "duration": 496,
    "start_time": "2022-04-30T07:09:17.185Z"
   },
   {
    "duration": 466,
    "start_time": "2022-04-30T07:09:17.702Z"
   },
   {
    "duration": 455,
    "start_time": "2022-04-30T07:09:18.266Z"
   },
   {
    "duration": 489,
    "start_time": "2022-04-30T07:09:18.817Z"
   },
   {
    "duration": 6,
    "start_time": "2022-04-30T07:09:19.362Z"
   },
   {
    "duration": 322,
    "start_time": "2022-04-30T07:09:19.931Z"
   },
   {
    "duration": 9,
    "start_time": "2022-04-30T07:09:20.502Z"
   },
   {
    "duration": 155,
    "start_time": "2022-04-30T07:09:21.429Z"
   },
   {
    "duration": 184,
    "start_time": "2022-04-30T07:09:21.836Z"
   },
   {
    "duration": 48,
    "start_time": "2022-04-30T07:09:22.191Z"
   },
   {
    "duration": 536,
    "start_time": "2022-04-30T07:09:22.630Z"
   },
   {
    "duration": 16,
    "start_time": "2022-04-30T07:09:23.169Z"
   },
   {
    "duration": 33,
    "start_time": "2022-04-30T07:09:23.347Z"
   },
   {
    "duration": 16,
    "start_time": "2022-04-30T07:09:23.927Z"
   },
   {
    "duration": 3,
    "start_time": "2022-04-30T07:09:24.496Z"
   },
   {
    "duration": 276,
    "start_time": "2022-04-30T07:09:24.698Z"
   },
   {
    "duration": 13,
    "start_time": "2022-04-30T07:09:25.111Z"
   },
   {
    "duration": 33,
    "start_time": "2022-04-30T07:09:25.325Z"
   },
   {
    "duration": 23,
    "start_time": "2022-04-30T07:09:25.965Z"
   },
   {
    "duration": 5,
    "start_time": "2022-04-30T07:09:51.255Z"
   },
   {
    "duration": 432,
    "start_time": "2022-04-30T07:09:51.839Z"
   },
   {
    "duration": 4,
    "start_time": "2022-04-30T07:09:52.273Z"
   },
   {
    "duration": 7,
    "start_time": "2022-04-30T07:09:52.622Z"
   },
   {
    "duration": 6,
    "start_time": "2022-04-30T07:09:53.011Z"
   },
   {
    "duration": 16,
    "start_time": "2022-04-30T07:09:53.387Z"
   },
   {
    "duration": 24,
    "start_time": "2022-04-30T07:09:53.961Z"
   },
   {
    "duration": 443,
    "start_time": "2022-04-30T07:09:54.730Z"
   },
   {
    "duration": 435,
    "start_time": "2022-04-30T07:09:55.176Z"
   },
   {
    "duration": 9,
    "start_time": "2022-04-30T07:09:55.613Z"
   },
   {
    "duration": 9,
    "start_time": "2022-04-30T07:09:55.666Z"
   },
   {
    "duration": 5,
    "start_time": "2022-04-30T07:09:55.843Z"
   },
   {
    "duration": 21,
    "start_time": "2022-04-30T07:09:56.410Z"
   },
   {
    "duration": 9,
    "start_time": "2022-04-30T07:09:56.793Z"
   },
   {
    "duration": 300,
    "start_time": "2022-04-30T07:09:57.189Z"
   },
   {
    "duration": 213,
    "start_time": "2022-04-30T07:09:57.579Z"
   },
   {
    "duration": 25,
    "start_time": "2022-04-30T07:09:57.794Z"
   },
   {
    "duration": 9,
    "start_time": "2022-04-30T07:09:58.223Z"
   },
   {
    "duration": 399,
    "start_time": "2022-04-30T07:09:58.640Z"
   },
   {
    "duration": 324,
    "start_time": "2022-04-30T07:09:59.434Z"
   },
   {
    "duration": 437,
    "start_time": "2022-04-30T07:10:00.124Z"
   },
   {
    "duration": 338,
    "start_time": "2022-04-30T07:10:00.813Z"
   },
   {
    "duration": 440,
    "start_time": "2022-04-30T07:10:01.588Z"
   },
   {
    "duration": 460,
    "start_time": "2022-04-30T07:10:03.455Z"
   },
   {
    "duration": 7,
    "start_time": "2022-04-30T07:10:04.380Z"
   },
   {
    "duration": 213,
    "start_time": "2022-04-30T07:10:05.128Z"
   },
   {
    "duration": 6,
    "start_time": "2022-04-30T07:10:05.772Z"
   },
   {
    "duration": 227,
    "start_time": "2022-04-30T07:10:06.828Z"
   },
   {
    "duration": 305,
    "start_time": "2022-04-30T07:10:07.277Z"
   },
   {
    "duration": 48,
    "start_time": "2022-04-30T07:10:07.773Z"
   },
   {
    "duration": 512,
    "start_time": "2022-04-30T07:10:08.204Z"
   },
   {
    "duration": 474,
    "start_time": "2022-04-30T07:10:29.841Z"
   },
   {
    "duration": 510,
    "start_time": "2022-04-30T07:10:55.633Z"
   },
   {
    "duration": 453,
    "start_time": "2022-04-30T07:11:12.428Z"
   },
   {
    "duration": 305,
    "start_time": "2022-04-30T07:11:58.429Z"
   },
   {
    "duration": 350,
    "start_time": "2022-04-30T07:12:07.128Z"
   },
   {
    "duration": 409,
    "start_time": "2022-04-30T07:12:24.626Z"
   },
   {
    "duration": 312,
    "start_time": "2022-04-30T07:12:36.856Z"
   },
   {
    "duration": 480,
    "start_time": "2022-04-30T07:12:50.771Z"
   },
   {
    "duration": 4,
    "start_time": "2022-04-30T07:12:56.443Z"
   },
   {
    "duration": 467,
    "start_time": "2022-04-30T07:12:56.969Z"
   },
   {
    "duration": 5,
    "start_time": "2022-04-30T07:12:57.440Z"
   },
   {
    "duration": 7,
    "start_time": "2022-04-30T07:12:57.710Z"
   },
   {
    "duration": 7,
    "start_time": "2022-04-30T07:12:58.059Z"
   },
   {
    "duration": 14,
    "start_time": "2022-04-30T07:12:58.416Z"
   },
   {
    "duration": 27,
    "start_time": "2022-04-30T07:12:58.942Z"
   },
   {
    "duration": 559,
    "start_time": "2022-04-30T07:12:59.660Z"
   },
   {
    "duration": 502,
    "start_time": "2022-04-30T07:13:00.222Z"
   },
   {
    "duration": 12,
    "start_time": "2022-04-30T07:13:00.727Z"
   },
   {
    "duration": 14,
    "start_time": "2022-04-30T07:13:00.742Z"
   },
   {
    "duration": 21,
    "start_time": "2022-04-30T07:13:00.759Z"
   },
   {
    "duration": 20,
    "start_time": "2022-04-30T07:13:01.258Z"
   },
   {
    "duration": 9,
    "start_time": "2022-04-30T07:13:01.606Z"
   },
   {
    "duration": 310,
    "start_time": "2022-04-30T07:13:01.984Z"
   },
   {
    "duration": 316,
    "start_time": "2022-04-30T07:13:02.314Z"
   },
   {
    "duration": 51,
    "start_time": "2022-04-30T07:13:02.634Z"
   },
   {
    "duration": 13,
    "start_time": "2022-04-30T07:13:02.874Z"
   },
   {
    "duration": 512,
    "start_time": "2022-04-30T07:13:03.263Z"
   },
   {
    "duration": 346,
    "start_time": "2022-04-30T07:13:04.776Z"
   },
   {
    "duration": 476,
    "start_time": "2022-04-30T07:13:05.124Z"
   },
   {
    "duration": 334,
    "start_time": "2022-04-30T07:13:05.602Z"
   },
   {
    "duration": 479,
    "start_time": "2022-04-30T07:13:05.940Z"
   },
   {
    "duration": 706,
    "start_time": "2022-04-30T07:13:06.422Z"
   },
   {
    "duration": 7,
    "start_time": "2022-04-30T07:13:07.131Z"
   },
   {
    "duration": 322,
    "start_time": "2022-04-30T07:13:07.498Z"
   },
   {
    "duration": 7,
    "start_time": "2022-04-30T07:13:08.119Z"
   },
   {
    "duration": 154,
    "start_time": "2022-04-30T07:13:09.128Z"
   },
   {
    "duration": 189,
    "start_time": "2022-04-30T07:13:09.512Z"
   },
   {
    "duration": 48,
    "start_time": "2022-04-30T07:13:09.908Z"
   },
   {
    "duration": 545,
    "start_time": "2022-04-30T07:13:10.355Z"
   },
   {
    "duration": 10,
    "start_time": "2022-04-30T07:13:10.903Z"
   },
   {
    "duration": 34,
    "start_time": "2022-04-30T07:13:11.113Z"
   },
   {
    "duration": 17,
    "start_time": "2022-04-30T07:13:11.709Z"
   },
   {
    "duration": 3,
    "start_time": "2022-04-30T07:13:12.322Z"
   },
   {
    "duration": 304,
    "start_time": "2022-04-30T07:13:12.531Z"
   },
   {
    "duration": 12,
    "start_time": "2022-04-30T07:13:12.969Z"
   },
   {
    "duration": 30,
    "start_time": "2022-04-30T07:13:13.184Z"
   },
   {
    "duration": 21,
    "start_time": "2022-04-30T07:13:14.074Z"
   }
  ],
  "kernelspec": {
   "display_name": "Python 3 (ipykernel)",
   "language": "python",
   "name": "python3"
  },
  "language_info": {
   "codemirror_mode": {
    "name": "ipython",
    "version": 3
   },
   "file_extension": ".py",
   "mimetype": "text/x-python",
   "name": "python",
   "nbconvert_exporter": "python",
   "pygments_lexer": "ipython3",
   "version": "3.9.5"
  },
  "toc": {
   "base_numbering": 1,
   "nav_menu": {},
   "number_sections": true,
   "sideBar": true,
   "skip_h1_title": true,
   "title_cell": "Table of Contents",
   "title_sidebar": "Contents",
   "toc_cell": false,
   "toc_position": {},
   "toc_section_display": true,
   "toc_window_display": false
  }
 },
 "nbformat": 4,
 "nbformat_minor": 2
}
