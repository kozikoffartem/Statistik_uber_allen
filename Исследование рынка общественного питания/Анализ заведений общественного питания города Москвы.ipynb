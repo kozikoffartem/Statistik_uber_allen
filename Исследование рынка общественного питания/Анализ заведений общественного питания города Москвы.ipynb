{
 "cells": [
  {
   "cell_type": "markdown",
   "metadata": {},
   "source": [
    "## Описание проекта."
   ]
  },
  {
   "cell_type": "markdown",
   "metadata": {},
   "source": [
    "Вы решили открыть небольшое кафе в Москве. Оно оригинальное — гостей должны обслуживать роботы. Проект многообещающий, но дорогой. Вместе с партнёрами вы решились обратиться к инвесторам. Их интересует текущее положение дел на рынке — сможете ли вы снискать популярность на долгое время, когда все зеваки насмотрятся на роботов-официантов?\n",
    "Вы — гуру аналитики, и партнёры просят вас подготовить исследование рынка. У вас есть открытые данные о заведениях общественного питания в Москве."
   ]
  },
  {
   "cell_type": "markdown",
   "metadata": {},
   "source": [
    "## Загрузка данных и подготовка их к анализу."
   ]
  },
  {
   "cell_type": "markdown",
   "metadata": {},
   "source": [
    "### Импорт необходимых библиотек:"
   ]
  },
  {
   "cell_type": "code",
   "execution_count": 27,
   "metadata": {},
   "outputs": [],
   "source": [
    "import pandas as pd\n",
    "import numpy as np\n",
    "import matplotlib.pyplot as plt\n",
    "import seaborn as sns\n",
    "from io import BytesIO\n",
    "import requests\n",
    "from plotly import graph_objects as go\n",
    "from IPython.core.display import display, HTML"
   ]
  },
  {
   "cell_type": "markdown",
   "metadata": {},
   "source": [
    "### Загрузка и изучение данных."
   ]
  },
  {
   "cell_type": "code",
   "execution_count": 28,
   "metadata": {},
   "outputs": [
    {
     "data": {
      "text/html": [
       "<font color='green'>-------------------------------------</font>"
      ],
      "text/plain": [
       "<IPython.core.display.HTML object>"
      ]
     },
     "metadata": {},
     "output_type": "display_data"
    },
    {
     "data": {
      "text/html": [
       "<font color='green'>ОБЩАЯ ИНФОРМАЦИЯ</font>"
      ],
      "text/plain": [
       "<IPython.core.display.HTML object>"
      ]
     },
     "metadata": {},
     "output_type": "display_data"
    },
    {
     "data": {
      "text/html": [
       "<font color='green'>-------------------------------------</font>"
      ],
      "text/plain": [
       "<IPython.core.display.HTML object>"
      ]
     },
     "metadata": {},
     "output_type": "display_data"
    },
    {
     "name": "stdout",
     "output_type": "stream",
     "text": [
      "<class 'pandas.core.frame.DataFrame'>\n",
      "RangeIndex: 15366 entries, 0 to 15365\n",
      "Data columns (total 6 columns):\n",
      " #   Column       Non-Null Count  Dtype \n",
      "---  ------       --------------  ----- \n",
      " 0   id           15366 non-null  int64 \n",
      " 1   object_name  15366 non-null  object\n",
      " 2   chain        15366 non-null  object\n",
      " 3   object_type  15366 non-null  object\n",
      " 4   address      15366 non-null  object\n",
      " 5   number       15366 non-null  int64 \n",
      "dtypes: int64(2), object(4)\n",
      "memory usage: 720.4+ KB\n"
     ]
    },
    {
     "data": {
      "text/html": [
       "<div>\n",
       "<style scoped>\n",
       "    .dataframe tbody tr th:only-of-type {\n",
       "        vertical-align: middle;\n",
       "    }\n",
       "\n",
       "    .dataframe tbody tr th {\n",
       "        vertical-align: top;\n",
       "    }\n",
       "\n",
       "    .dataframe thead th {\n",
       "        text-align: right;\n",
       "    }\n",
       "</style>\n",
       "<table border=\"1\" class=\"dataframe\">\n",
       "  <thead>\n",
       "    <tr style=\"text-align: right;\">\n",
       "      <th></th>\n",
       "      <th>id</th>\n",
       "      <th>object_name</th>\n",
       "      <th>chain</th>\n",
       "      <th>object_type</th>\n",
       "      <th>address</th>\n",
       "      <th>number</th>\n",
       "    </tr>\n",
       "  </thead>\n",
       "  <tbody>\n",
       "    <tr>\n",
       "      <th>0</th>\n",
       "      <td>151635</td>\n",
       "      <td>СМЕТАНА</td>\n",
       "      <td>нет</td>\n",
       "      <td>кафе</td>\n",
       "      <td>город Москва, улица Егора Абакумова, дом 9</td>\n",
       "      <td>48</td>\n",
       "    </tr>\n",
       "    <tr>\n",
       "      <th>1</th>\n",
       "      <td>77874</td>\n",
       "      <td>Родник</td>\n",
       "      <td>нет</td>\n",
       "      <td>кафе</td>\n",
       "      <td>город Москва, улица Талалихина, дом 2/1, корпус 1</td>\n",
       "      <td>35</td>\n",
       "    </tr>\n",
       "    <tr>\n",
       "      <th>2</th>\n",
       "      <td>24309</td>\n",
       "      <td>Кафе «Академия»</td>\n",
       "      <td>нет</td>\n",
       "      <td>кафе</td>\n",
       "      <td>город Москва, Абельмановская улица, дом 6</td>\n",
       "      <td>95</td>\n",
       "    </tr>\n",
       "    <tr>\n",
       "      <th>3</th>\n",
       "      <td>21894</td>\n",
       "      <td>ПИЦЦЕТОРИЯ</td>\n",
       "      <td>да</td>\n",
       "      <td>кафе</td>\n",
       "      <td>город Москва, Абрамцевская улица, дом 1</td>\n",
       "      <td>40</td>\n",
       "    </tr>\n",
       "    <tr>\n",
       "      <th>4</th>\n",
       "      <td>119365</td>\n",
       "      <td>Кафе «Вишневая метель»</td>\n",
       "      <td>нет</td>\n",
       "      <td>кафе</td>\n",
       "      <td>город Москва, Абрамцевская улица, дом 9, корпус 1</td>\n",
       "      <td>50</td>\n",
       "    </tr>\n",
       "    <tr>\n",
       "      <th>...</th>\n",
       "      <td>...</td>\n",
       "      <td>...</td>\n",
       "      <td>...</td>\n",
       "      <td>...</td>\n",
       "      <td>...</td>\n",
       "      <td>...</td>\n",
       "    </tr>\n",
       "    <tr>\n",
       "      <th>15361</th>\n",
       "      <td>208537</td>\n",
       "      <td>Шоколадница</td>\n",
       "      <td>да</td>\n",
       "      <td>кафе</td>\n",
       "      <td>город Москва, 3-й Крутицкий переулок, дом 18</td>\n",
       "      <td>50</td>\n",
       "    </tr>\n",
       "    <tr>\n",
       "      <th>15362</th>\n",
       "      <td>209264</td>\n",
       "      <td>Шоколадница</td>\n",
       "      <td>да</td>\n",
       "      <td>кафе</td>\n",
       "      <td>город Москва, улица Земляной Вал, дом 33</td>\n",
       "      <td>10</td>\n",
       "    </tr>\n",
       "    <tr>\n",
       "      <th>15363</th>\n",
       "      <td>209186</td>\n",
       "      <td>Шоколадница</td>\n",
       "      <td>да</td>\n",
       "      <td>кафе</td>\n",
       "      <td>город Москва, улица Земляной Вал, дом 33</td>\n",
       "      <td>20</td>\n",
       "    </tr>\n",
       "    <tr>\n",
       "      <th>15364</th>\n",
       "      <td>221900</td>\n",
       "      <td>Шоколадница</td>\n",
       "      <td>да</td>\n",
       "      <td>кафе</td>\n",
       "      <td>город Москва, поселение Московский, Киевское ш...</td>\n",
       "      <td>36</td>\n",
       "    </tr>\n",
       "    <tr>\n",
       "      <th>15365</th>\n",
       "      <td>222535</td>\n",
       "      <td>Шоколадница</td>\n",
       "      <td>да</td>\n",
       "      <td>кафе</td>\n",
       "      <td>город Москва, Ходынский бульвар, дом 4</td>\n",
       "      <td>10</td>\n",
       "    </tr>\n",
       "  </tbody>\n",
       "</table>\n",
       "<p>15366 rows × 6 columns</p>\n",
       "</div>"
      ],
      "text/plain": [
       "           id             object_name chain object_type  \\\n",
       "0      151635                 СМЕТАНА   нет        кафе   \n",
       "1       77874                  Родник   нет        кафе   \n",
       "2       24309         Кафе «Академия»   нет        кафе   \n",
       "3       21894              ПИЦЦЕТОРИЯ    да        кафе   \n",
       "4      119365  Кафе «Вишневая метель»   нет        кафе   \n",
       "...       ...                     ...   ...         ...   \n",
       "15361  208537             Шоколадница    да        кафе   \n",
       "15362  209264             Шоколадница    да        кафе   \n",
       "15363  209186             Шоколадница    да        кафе   \n",
       "15364  221900             Шоколадница    да        кафе   \n",
       "15365  222535             Шоколадница    да        кафе   \n",
       "\n",
       "                                                 address  number  \n",
       "0             город Москва, улица Егора Абакумова, дом 9      48  \n",
       "1      город Москва, улица Талалихина, дом 2/1, корпус 1      35  \n",
       "2              город Москва, Абельмановская улица, дом 6      95  \n",
       "3                город Москва, Абрамцевская улица, дом 1      40  \n",
       "4      город Москва, Абрамцевская улица, дом 9, корпус 1      50  \n",
       "...                                                  ...     ...  \n",
       "15361       город Москва, 3-й Крутицкий переулок, дом 18      50  \n",
       "15362           город Москва, улица Земляной Вал, дом 33      10  \n",
       "15363           город Москва, улица Земляной Вал, дом 33      20  \n",
       "15364  город Москва, поселение Московский, Киевское ш...      36  \n",
       "15365             город Москва, Ходынский бульвар, дом 4      10  \n",
       "\n",
       "[15366 rows x 6 columns]"
      ]
     },
     "metadata": {},
     "output_type": "display_data"
    }
   ],
   "source": [
    "data = pd.read_csv('/datasets/rest_data.csv')\n",
    "display(HTML(\"<font color='green'>-------------------------------------</font>\"))\n",
    "display(HTML(\"<font color='green'>ОБЩАЯ ИНФОРМАЦИЯ</font>\"))\n",
    "display(HTML(\"<font color='green'>-------------------------------------</font>\"))\n",
    "data.info()\n",
    "display(data)"
   ]
  },
  {
   "cell_type": "markdown",
   "metadata": {},
   "source": [
    "### Подсчёт количества дубликатов."
   ]
  },
  {
   "cell_type": "code",
   "execution_count": 29,
   "metadata": {},
   "outputs": [
    {
     "name": "stdout",
     "output_type": "stream",
     "text": [
      "Дублирующихся строк в таблице: 0\n"
     ]
    }
   ],
   "source": [
    "print(\"Дублирующихся строк в таблице:\", data.duplicated().sum())"
   ]
  },
  {
   "cell_type": "markdown",
   "metadata": {},
   "source": [
    "### Подсчёт количества пропусков."
   ]
  },
  {
   "cell_type": "code",
   "execution_count": 30,
   "metadata": {},
   "outputs": [
    {
     "name": "stdout",
     "output_type": "stream",
     "text": [
      "Пропусков в таблице: 0\n"
     ]
    }
   ],
   "source": [
    "print(\"Пропусков в таблице:\", data.isna().sum().sum())"
   ]
  },
  {
   "cell_type": "markdown",
   "metadata": {},
   "source": [
    "###### Выводы:"
   ]
  },
  {
   "cell_type": "markdown",
   "metadata": {},
   "source": [
    "1.Типы данных верные.\n",
    "\n",
    "2.Пропуски отсутствуют.\n",
    "\n",
    "3.Дубликаты отсутствуют."
   ]
  },
  {
   "cell_type": "markdown",
   "metadata": {},
   "source": [
    "## Анализ данных."
   ]
  },
  {
   "cell_type": "markdown",
   "metadata": {},
   "source": [
    "### Исследуем соотношение видов объектов общественного питания по количеству. "
   ]
  },
  {
   "cell_type": "code",
   "execution_count": 31,
   "metadata": {},
   "outputs": [
    {
     "data": {
      "image/png": "[encoded data removed]",
      "text/plain": [
       "<Figure size 1440x720 with 1 Axes>"
      ]
     },
     "metadata": {
      "needs_background": "light"
     },
     "output_type": "display_data"
    }
   ],
   "source": [
    "data_type = data.groupby('object_type').count().sort_values(by = 'id', ascending = False).reset_index()\n",
    "bar,ax = plt.subplots(figsize=(20,10))\n",
    "ax = sns.countplot(y=\"object_type\", data=data, order=data_type['object_type'], palette=\"prism_r\")\n",
    "\n",
    "ax.set_title(\"Соотношение видов объектов общественного питания по количеству\", fontsize=15)\n",
    "ax.set_xlabel (\"Количество\")\n",
    "ax.set_ylabel (\"Тип\")\n",
    "\n",
    "sns.despine()\n",
    "\n",
    "# вывод %\n",
    "for rect in ax.patches:\n",
    "    ax.text (rect.get_width(), rect.get_y() + rect.get_height() / 2, \"%.1f%%\"% (rect.get_width()/len(data)*100), weight='bold' )"
   ]
  },
  {
   "cell_type": "markdown",
   "metadata": {},
   "source": [
    "###### Выводы:"
   ]
  },
  {
   "cell_type": "markdown",
   "metadata": {},
   "source": [
    "Кафе в 2.5 раза больше чем столовых. В лидерах кафе, столовая, ресторан, предприятия быстрого обслуживания."
   ]
  },
  {
   "cell_type": "markdown",
   "metadata": {},
   "source": [
    "### Исследуем соотношение сетевых и несетевых заведений по количеству."
   ]
  },
  {
   "cell_type": "code",
   "execution_count": 32,
   "metadata": {},
   "outputs": [
    {
     "data": {
      "image/png": "[encoded data removed]",
      "text/plain": [
       "<Figure size 1080x720 with 1 Axes>"
      ]
     },
     "metadata": {},
     "output_type": "display_data"
    }
   ],
   "source": [
    "data_chain = data.groupby('chain').count()\n",
    "ax = data_chain.plot(kind = 'pie', x = 'chain', y='id', figsize=(15, 10),\n",
    "                     title = 'Cоотношение сетевых и несетевых заведений по количеству', autopct=\"%.2f\")\n",
    "ax.set_ylabel('')\n",
    "plt.show()"
   ]
  },
  {
   "cell_type": "code",
   "execution_count": null,
   "metadata": {},
   "outputs": [],
   "source": []
  },
  {
   "cell_type": "markdown",
   "metadata": {},
   "source": [
    "###### Выводы:"
   ]
  },
  {
   "cell_type": "markdown",
   "metadata": {},
   "source": [
    "Несетевых заведения более чем в 4 раза больше чем чем сетевых."
   ]
  },
  {
   "cell_type": "markdown",
   "metadata": {},
   "source": [
    "### Для какого вида объекта общественного питания характерно сетевое распространение."
   ]
  },
  {
   "cell_type": "code",
   "execution_count": 33,
   "metadata": {},
   "outputs": [
    {
     "data": {
      "image/png": "[encoded data removed]",
      "text/plain": [
       "<Figure size 1440x720 with 1 Axes>"
      ]
     },
     "metadata": {
      "needs_background": "light"
     },
     "output_type": "display_data"
    }
   ],
   "source": [
    "chain_yes = data.query('chain == \"да\"')\n",
    "\n",
    "bar,ax = plt.subplots(figsize=(20,10))\n",
    "ax = sns.countplot(y=\"object_type\", data=chain_yes, palette=\"prism_r\")\n",
    "\n",
    "ax.set_title(\"Количество сетевых заведений по типу\", fontsize=20, pad=25)\n",
    "ax.set_xlabel (\"Количество\")\n",
    "ax.set_ylabel (\"Тип\")\n",
    "\n",
    "sns.despine()\n",
    "\n",
    "# вывод %\n",
    "for rect in ax.patches:\n",
    "    ax.text (rect.get_width(), rect.get_y() + rect.get_height() / 2,\\\n",
    "             \"%.1f%%\"% (rect.get_width()/len(chain_yes)*100), weight='bold')"
   ]
  },
  {
   "cell_type": "code",
   "execution_count": 34,
   "metadata": {},
   "outputs": [
    {
     "ename": "NameError",
     "evalue": "name 'bar_annotate' is not defined",
     "output_type": "error",
     "traceback": [
      "\u001b[0;31m---------------------------------------------------------------------------\u001b[0m",
      "\u001b[0;31mNameError\u001b[0m                                 Traceback (most recent call last)",
      "\u001b[0;32m/tmp/ipykernel_76/1208821526.py\u001b[0m in \u001b[0;36m<module>\u001b[0;34m\u001b[0m\n\u001b[1;32m     42\u001b[0m \u001b[0max\u001b[0m\u001b[0;34m.\u001b[0m\u001b[0mmargins\u001b[0m\u001b[0;34m(\u001b[0m\u001b[0;36m0.05\u001b[0m\u001b[0;34m,\u001b[0m \u001b[0;36m0.1\u001b[0m\u001b[0;34m)\u001b[0m\u001b[0;34m\u001b[0m\u001b[0;34m\u001b[0m\u001b[0m\n\u001b[1;32m     43\u001b[0m \u001b[0max\u001b[0m\u001b[0;34m.\u001b[0m\u001b[0mlegend\u001b[0m\u001b[0;34m(\u001b[0m\u001b[0mfontsize\u001b[0m\u001b[0;34m=\u001b[0m\u001b[0;36m16\u001b[0m\u001b[0;34m,\u001b[0m \u001b[0mloc\u001b[0m\u001b[0;34m=\u001b[0m\u001b[0;34m'upper left'\u001b[0m\u001b[0;34m)\u001b[0m\u001b[0;34m\u001b[0m\u001b[0;34m\u001b[0m\u001b[0m\n\u001b[0;32m---> 44\u001b[0;31m \u001b[0mbar_annotate\u001b[0m\u001b[0;34m(\u001b[0m\u001b[0max\u001b[0m\u001b[0;34m,\u001b[0m \u001b[0;36m1\u001b[0m\u001b[0;34m)\u001b[0m\u001b[0;34m\u001b[0m\u001b[0;34m\u001b[0m\u001b[0m\n\u001b[0m\u001b[1;32m     45\u001b[0m \u001b[0;34m\u001b[0m\u001b[0m\n\u001b[1;32m     46\u001b[0m \u001b[0;34m\u001b[0m\u001b[0m\n",
      "\u001b[0;31mNameError\u001b[0m: name 'bar_annotate' is not defined"
     ]
    },
    {
     "data": {
      "image/png": "[encoded data removed]",
      "text/plain": [
       "<Figure size 1152x576 with 1 Axes>"
      ]
     },
     "metadata": {
      "needs_background": "light"
     },
     "output_type": "display_data"
    }
   ],
   "source": [
    "df = data.pivot_table(\n",
    "                      index='object_type',\n",
    "                      columns='chain',\n",
    "                      values='id',\n",
    "                      aggfunc={'count'}\n",
    "                     )\n",
    "df.columns = ['single', 'net']                                 \n",
    "df['net_percent'] = df.net / (df.single + df.net) * 100        \n",
    "df['single_percent'] = df.single / (df.single + df.net) * 100  \n",
    "df = df.sort_values('single_percent').reset_index()\n",
    "\n",
    "\n",
    "# график\n",
    "\n",
    "fig, ax = plt.subplots(figsize=(16,8))\n",
    "\n",
    "sns.barplot(\n",
    "            data=df,\n",
    "            x='object_type',\n",
    "            y='net_percent',\n",
    "            color = '#8A2BE2',\n",
    "            alpha=0.8,\n",
    "            label='доля сетевых заведений'\n",
    "           )\n",
    "\n",
    "for patch in ax.patches:\n",
    "    patch.set_x(patch.get_x() - 0.09)   \n",
    "\n",
    "sns.barplot(\n",
    "            data=df,\n",
    "            x='object_type',\n",
    "            y='single_percent',\n",
    "            color = \"#9400D3\",\n",
    "            alpha=0.45,\n",
    "            label='доля одиночных заведений'\n",
    "           )\n",
    "\n",
    "ax.set_title('Доля сетевых заведений для каждого типа', fontsize=20, pad=25)\n",
    "ax.set_xlabel('тип заведения', fontsize=14, labelpad=20)\n",
    "ax.set_ylabel('доля, %', fontsize=14, labelpad=20)\n",
    "plt.xticks(rotation=75);\n",
    "ax.margins(0.05, 0.1)\n",
    "ax.legend(fontsize=16, loc='upper left')\n",
    "bar_annotate(ax, 1)\n",
    "\n",
    "\n",
    "plt.show()"
   ]
  },
  {
   "cell_type": "markdown",
   "metadata": {},
   "source": [
    "###### Выводы:"
   ]
  },
  {
   "cell_type": "markdown",
   "metadata": {},
   "source": [
    "Более характерно сетевое распространения для кафе, предприятия быстрого обслуживания и ресторанов. В расчёте по долям лидируют предприятия быстрого питания."
   ]
  },
  {
   "cell_type": "markdown",
   "metadata": {},
   "source": [
    "### Что характерно для сетевых заведений."
   ]
  },
  {
   "cell_type": "code",
   "execution_count": 35,
   "metadata": {},
   "outputs": [],
   "source": [
    "chains = chain_yes.groupby('object_name').agg({'id': 'count', 'number': 'mean'})"
   ]
  },
  {
   "cell_type": "code",
   "execution_count": 36,
   "metadata": {},
   "outputs": [],
   "source": [
    "chains['rest_group'] = pd.qcut(chains['id'], q = [0, 0.75, 1], labels =['Мало заведений', 'Много заведений'])\n",
    "chains['num_group'] = pd.qcut(chains['number'], q = [0, 0.5, 1], labels = ['Мало мест','Много мест'])"
   ]
  },
  {
   "cell_type": "code",
   "execution_count": 37,
   "metadata": {},
   "outputs": [],
   "source": [
    "chains['group'] = chains['rest_group'].astype(str) + ' - ' + chains['num_group'].astype(str)"
   ]
  },
  {
   "cell_type": "code",
   "execution_count": 38,
   "metadata": {},
   "outputs": [
    {
     "data": {
      "text/plain": [
       "(Text(0.5, 0, 'Количество заведений'),\n",
       " Text(0, 0.5, 'Среднее количество посадочных мест'))"
      ]
     },
     "execution_count": 38,
     "metadata": {},
     "output_type": "execute_result"
    },
    {
     "data": {
      "image/png": "[encoded data removed]",
      "text/plain": [
       "<Figure size 432x288 with 1 Axes>"
      ]
     },
     "metadata": {
      "needs_background": "light"
     },
     "output_type": "display_data"
    }
   ],
   "source": [
    "sns.scatterplot(x = 'id', y = 'number', hue = 'group', data = chains)\n",
    "plt.xlabel('Количество заведений'), plt.ylabel('Среднее количество посадочных мест')"
   ]
  },
  {
   "cell_type": "code",
   "execution_count": 39,
   "metadata": {},
   "outputs": [
    {
     "data": {
      "text/html": [
       "<div>\n",
       "<style scoped>\n",
       "    .dataframe tbody tr th:only-of-type {\n",
       "        vertical-align: middle;\n",
       "    }\n",
       "\n",
       "    .dataframe tbody tr th {\n",
       "        vertical-align: top;\n",
       "    }\n",
       "\n",
       "    .dataframe thead th {\n",
       "        text-align: right;\n",
       "    }\n",
       "</style>\n",
       "<table border=\"1\" class=\"dataframe\">\n",
       "  <thead>\n",
       "    <tr style=\"text-align: right;\">\n",
       "      <th></th>\n",
       "      <th>object_type</th>\n",
       "      <th>id</th>\n",
       "      <th>number</th>\n",
       "    </tr>\n",
       "  </thead>\n",
       "  <tbody>\n",
       "    <tr>\n",
       "      <th>8</th>\n",
       "      <td>столовая</td>\n",
       "      <td>3</td>\n",
       "      <td>112.333333</td>\n",
       "    </tr>\n",
       "    <tr>\n",
       "      <th>7</th>\n",
       "      <td>ресторан</td>\n",
       "      <td>544</td>\n",
       "      <td>100.233456</td>\n",
       "    </tr>\n",
       "    <tr>\n",
       "      <th>0</th>\n",
       "      <td>бар</td>\n",
       "      <td>37</td>\n",
       "      <td>53.027027</td>\n",
       "    </tr>\n",
       "    <tr>\n",
       "      <th>3</th>\n",
       "      <td>кафе</td>\n",
       "      <td>1396</td>\n",
       "      <td>47.426934</td>\n",
       "    </tr>\n",
       "    <tr>\n",
       "      <th>6</th>\n",
       "      <td>предприятие быстрого обслуживания</td>\n",
       "      <td>791</td>\n",
       "      <td>40.166877</td>\n",
       "    </tr>\n",
       "    <tr>\n",
       "      <th>2</th>\n",
       "      <td>закусочная</td>\n",
       "      <td>56</td>\n",
       "      <td>14.375000</td>\n",
       "    </tr>\n",
       "    <tr>\n",
       "      <th>1</th>\n",
       "      <td>буфет</td>\n",
       "      <td>11</td>\n",
       "      <td>12.727273</td>\n",
       "    </tr>\n",
       "    <tr>\n",
       "      <th>4</th>\n",
       "      <td>кафетерий</td>\n",
       "      <td>52</td>\n",
       "      <td>12.269231</td>\n",
       "    </tr>\n",
       "    <tr>\n",
       "      <th>5</th>\n",
       "      <td>магазин (отдел кулинарии)</td>\n",
       "      <td>78</td>\n",
       "      <td>8.679487</td>\n",
       "    </tr>\n",
       "  </tbody>\n",
       "</table>\n",
       "</div>"
      ],
      "text/plain": [
       "                         object_type    id      number\n",
       "8                           столовая     3  112.333333\n",
       "7                           ресторан   544  100.233456\n",
       "0                                бар    37   53.027027\n",
       "3                               кафе  1396   47.426934\n",
       "6  предприятие быстрого обслуживания   791   40.166877\n",
       "2                         закусочная    56   14.375000\n",
       "1                              буфет    11   12.727273\n",
       "4                          кафетерий    52   12.269231\n",
       "5          магазин (отдел кулинарии)    78    8.679487"
      ]
     },
     "execution_count": 39,
     "metadata": {},
     "output_type": "execute_result"
    }
   ],
   "source": [
    "chains_number = chain_yes.groupby('object_type').agg({'id': 'count', 'number': 'mean'}).reset_index().sort_values(by = 'number', ascending = False)\n",
    "chains_number"
   ]
  },
  {
   "cell_type": "code",
   "execution_count": 40,
   "metadata": {},
   "outputs": [
    {
     "data": {
      "image/png": "[encoded data removed]",
      "text/plain": [
       "<Figure size 1440x504 with 1 Axes>"
      ]
     },
     "metadata": {
      "needs_background": "light"
     },
     "output_type": "display_data"
    }
   ],
   "source": [
    "plt.figure(\n",
    "    figsize=(20, 7))\n",
    "ax = sns.barplot(x='object_type', y ='number', data=chains_number)\n",
    "ax.set(xlabel = 'Тип заведения', ylabel ='Среднее количество посадочных мест', title='Среднее количество посадочных мест для сетевых заведений каждого типа')\n",
    "plt.show()"
   ]
  },
  {
   "cell_type": "markdown",
   "metadata": {},
   "source": [
    "###### Выводы:"
   ]
  },
  {
   "cell_type": "markdown",
   "metadata": {},
   "source": [
    "Для сетевых заведений не характерно иметь много заведений и много мест, скорее всего это рестораны и столовые. Много заведений и мало мест чаще всего в заведениях из категорий предприятия быстрого питания и кулинария."
   ]
  },
  {
   "cell_type": "markdown",
   "metadata": {},
   "source": [
    "### Для каждого вида объекта общественного питания опишим среднее количество посадочных мест."
   ]
  },
  {
   "cell_type": "code",
   "execution_count": 41,
   "metadata": {},
   "outputs": [
    {
     "data": {
      "text/html": [
       "<div>\n",
       "<style scoped>\n",
       "    .dataframe tbody tr th:only-of-type {\n",
       "        vertical-align: middle;\n",
       "    }\n",
       "\n",
       "    .dataframe tbody tr th {\n",
       "        vertical-align: top;\n",
       "    }\n",
       "\n",
       "    .dataframe thead th {\n",
       "        text-align: right;\n",
       "    }\n",
       "</style>\n",
       "<table border=\"1\" class=\"dataframe\">\n",
       "  <thead>\n",
       "    <tr style=\"text-align: right;\">\n",
       "      <th></th>\n",
       "      <th>object_type</th>\n",
       "      <th>number</th>\n",
       "    </tr>\n",
       "  </thead>\n",
       "  <tbody>\n",
       "    <tr>\n",
       "      <th>0</th>\n",
       "      <td>столовая</td>\n",
       "      <td>130.246618</td>\n",
       "    </tr>\n",
       "    <tr>\n",
       "      <th>1</th>\n",
       "      <td>ресторан</td>\n",
       "      <td>96.834136</td>\n",
       "    </tr>\n",
       "    <tr>\n",
       "      <th>2</th>\n",
       "      <td>буфет</td>\n",
       "      <td>51.129915</td>\n",
       "    </tr>\n",
       "    <tr>\n",
       "      <th>3</th>\n",
       "      <td>бар</td>\n",
       "      <td>43.494159</td>\n",
       "    </tr>\n",
       "    <tr>\n",
       "      <th>4</th>\n",
       "      <td>кафе</td>\n",
       "      <td>39.716019</td>\n",
       "    </tr>\n",
       "    <tr>\n",
       "      <th>5</th>\n",
       "      <td>предприятие быстрого обслуживания</td>\n",
       "      <td>20.552262</td>\n",
       "    </tr>\n",
       "    <tr>\n",
       "      <th>6</th>\n",
       "      <td>кафетерий</td>\n",
       "      <td>9.123116</td>\n",
       "    </tr>\n",
       "    <tr>\n",
       "      <th>7</th>\n",
       "      <td>закусочная</td>\n",
       "      <td>7.608333</td>\n",
       "    </tr>\n",
       "    <tr>\n",
       "      <th>8</th>\n",
       "      <td>магазин (отдел кулинарии)</td>\n",
       "      <td>5.589744</td>\n",
       "    </tr>\n",
       "  </tbody>\n",
       "</table>\n",
       "</div>"
      ],
      "text/plain": [
       "                         object_type      number\n",
       "0                           столовая  130.246618\n",
       "1                           ресторан   96.834136\n",
       "2                              буфет   51.129915\n",
       "3                                бар   43.494159\n",
       "4                               кафе   39.716019\n",
       "5  предприятие быстрого обслуживания   20.552262\n",
       "6                          кафетерий    9.123116\n",
       "7                         закусочная    7.608333\n",
       "8          магазин (отдел кулинарии)    5.589744"
      ]
     },
     "execution_count": 41,
     "metadata": {},
     "output_type": "execute_result"
    }
   ],
   "source": [
    "data_type_num = data.groupby('object_type')[('number')].mean().sort_values(ascending = False).reset_index()\n",
    "data_type_num"
   ]
  },
  {
   "cell_type": "code",
   "execution_count": 42,
   "metadata": {},
   "outputs": [
    {
     "data": {
      "image/png": "[encoded data removed]",
      "text/plain": [
       "<Figure size 1440x504 with 1 Axes>"
      ]
     },
     "metadata": {
      "needs_background": "light"
     },
     "output_type": "display_data"
    }
   ],
   "source": [
    "plt.figure(\n",
    "    figsize=(20, 7))\n",
    "ax = sns.barplot(x=\"number\", y='object_type', data=data_type_num) \n",
    "ax.set(xlabel = 'Тип заведения', ylabel ='Среднее количество посадочных мест', title='Среднее количество посадочных мест для сетевых заведений каждого типа')\n",
    "plt.show()"
   ]
  },
  {
   "cell_type": "markdown",
   "metadata": {},
   "source": [
    "###### Выводы:"
   ]
  },
  {
   "cell_type": "markdown",
   "metadata": {},
   "source": [
    "Столовые и рестораны лидируют по среднему количеству посадочных мест - это очевидно.\n",
    "\n",
    "Предприятия быстрого питания, кафетерий, закусочная и кулинария не ориентированы на длительное времяпрепровождение в заведении, в них не требуется большое количество посадочных мест."
   ]
  },
  {
   "cell_type": "markdown",
   "metadata": {},
   "source": [
    "### Выделим в отдельный столбец информацию об улице из столбца address."
   ]
  },
  {
   "cell_type": "code",
   "execution_count": 43,
   "metadata": {},
   "outputs": [],
   "source": [
    "list_for_street = ['проспект', \"площадь\", \"улица\", \"шоссе\", \n",
    "                   \"бульвар\", 'переулок','набережная','проезд',\n",
    "                   'тупик','микрорайон','территория','километр','посёлок','деревня'\n",
    "                   ,'аллея','просек','линия','квартал','село','вблизи' ]\n",
    "def get_street(row):\n",
    "    address = row['address'].split(', ') \n",
    "    parts = len(address)\n",
    "    try:\n",
    "        for item in list_for_street:\n",
    "            for i in range(parts):\n",
    "                if item in address[i]:  \n",
    "                    return address[i]\n",
    "    except:\n",
    "        return 'Error'\n",
    "    \n",
    "data['street'] = data.apply(get_street, axis=1)"
   ]
  },
  {
   "cell_type": "code",
   "execution_count": 44,
   "metadata": {},
   "outputs": [
    {
     "data": {
      "text/html": [
       "<div>\n",
       "<style scoped>\n",
       "    .dataframe tbody tr th:only-of-type {\n",
       "        vertical-align: middle;\n",
       "    }\n",
       "\n",
       "    .dataframe tbody tr th {\n",
       "        vertical-align: top;\n",
       "    }\n",
       "\n",
       "    .dataframe thead th {\n",
       "        text-align: right;\n",
       "    }\n",
       "</style>\n",
       "<table border=\"1\" class=\"dataframe\">\n",
       "  <thead>\n",
       "    <tr style=\"text-align: right;\">\n",
       "      <th></th>\n",
       "      <th>id</th>\n",
       "      <th>object_name</th>\n",
       "      <th>chain</th>\n",
       "      <th>object_type</th>\n",
       "      <th>address</th>\n",
       "      <th>number</th>\n",
       "      <th>street</th>\n",
       "    </tr>\n",
       "  </thead>\n",
       "  <tbody>\n",
       "    <tr>\n",
       "      <th>0</th>\n",
       "      <td>151635</td>\n",
       "      <td>СМЕТАНА</td>\n",
       "      <td>нет</td>\n",
       "      <td>кафе</td>\n",
       "      <td>город Москва, улица Егора Абакумова, дом 9</td>\n",
       "      <td>48</td>\n",
       "      <td>улица Егора Абакумова</td>\n",
       "    </tr>\n",
       "    <tr>\n",
       "      <th>1</th>\n",
       "      <td>77874</td>\n",
       "      <td>Родник</td>\n",
       "      <td>нет</td>\n",
       "      <td>кафе</td>\n",
       "      <td>город Москва, улица Талалихина, дом 2/1, корпус 1</td>\n",
       "      <td>35</td>\n",
       "      <td>улица Талалихина</td>\n",
       "    </tr>\n",
       "    <tr>\n",
       "      <th>2</th>\n",
       "      <td>24309</td>\n",
       "      <td>Кафе «Академия»</td>\n",
       "      <td>нет</td>\n",
       "      <td>кафе</td>\n",
       "      <td>город Москва, Абельмановская улица, дом 6</td>\n",
       "      <td>95</td>\n",
       "      <td>Абельмановская улица</td>\n",
       "    </tr>\n",
       "    <tr>\n",
       "      <th>3</th>\n",
       "      <td>21894</td>\n",
       "      <td>ПИЦЦЕТОРИЯ</td>\n",
       "      <td>да</td>\n",
       "      <td>кафе</td>\n",
       "      <td>город Москва, Абрамцевская улица, дом 1</td>\n",
       "      <td>40</td>\n",
       "      <td>Абрамцевская улица</td>\n",
       "    </tr>\n",
       "    <tr>\n",
       "      <th>4</th>\n",
       "      <td>119365</td>\n",
       "      <td>Кафе «Вишневая метель»</td>\n",
       "      <td>нет</td>\n",
       "      <td>кафе</td>\n",
       "      <td>город Москва, Абрамцевская улица, дом 9, корпус 1</td>\n",
       "      <td>50</td>\n",
       "      <td>Абрамцевская улица</td>\n",
       "    </tr>\n",
       "  </tbody>\n",
       "</table>\n",
       "</div>"
      ],
      "text/plain": [
       "       id             object_name chain object_type  \\\n",
       "0  151635                 СМЕТАНА   нет        кафе   \n",
       "1   77874                  Родник   нет        кафе   \n",
       "2   24309         Кафе «Академия»   нет        кафе   \n",
       "3   21894              ПИЦЦЕТОРИЯ    да        кафе   \n",
       "4  119365  Кафе «Вишневая метель»   нет        кафе   \n",
       "\n",
       "                                             address  number  \\\n",
       "0         город Москва, улица Егора Абакумова, дом 9      48   \n",
       "1  город Москва, улица Талалихина, дом 2/1, корпус 1      35   \n",
       "2          город Москва, Абельмановская улица, дом 6      95   \n",
       "3            город Москва, Абрамцевская улица, дом 1      40   \n",
       "4  город Москва, Абрамцевская улица, дом 9, корпус 1      50   \n",
       "\n",
       "                  street  \n",
       "0  улица Егора Абакумова  \n",
       "1       улица Талалихина  \n",
       "2   Абельмановская улица  \n",
       "3     Абрамцевская улица  \n",
       "4     Абрамцевская улица  "
      ]
     },
     "execution_count": 44,
     "metadata": {},
     "output_type": "execute_result"
    }
   ],
   "source": [
    "data.head()"
   ]
  },
  {
   "cell_type": "markdown",
   "metadata": {},
   "source": [
    "## Постройте график топ-10 улиц по количеству объектов общественного питания."
   ]
  },
  {
   "cell_type": "code",
   "execution_count": 45,
   "metadata": {},
   "outputs": [
    {
     "data": {
      "text/html": [
       "<div>\n",
       "<style scoped>\n",
       "    .dataframe tbody tr th:only-of-type {\n",
       "        vertical-align: middle;\n",
       "    }\n",
       "\n",
       "    .dataframe tbody tr th {\n",
       "        vertical-align: top;\n",
       "    }\n",
       "\n",
       "    .dataframe thead th {\n",
       "        text-align: right;\n",
       "    }\n",
       "</style>\n",
       "<table border=\"1\" class=\"dataframe\">\n",
       "  <thead>\n",
       "    <tr style=\"text-align: right;\">\n",
       "      <th></th>\n",
       "      <th>street</th>\n",
       "      <th>object_name</th>\n",
       "    </tr>\n",
       "  </thead>\n",
       "  <tbody>\n",
       "    <tr>\n",
       "      <th>1499</th>\n",
       "      <td>проспект Мира</td>\n",
       "      <td>204</td>\n",
       "    </tr>\n",
       "    <tr>\n",
       "      <th>1040</th>\n",
       "      <td>Профсоюзная улица</td>\n",
       "      <td>183</td>\n",
       "    </tr>\n",
       "    <tr>\n",
       "      <th>713</th>\n",
       "      <td>Ленинградский проспект</td>\n",
       "      <td>173</td>\n",
       "    </tr>\n",
       "    <tr>\n",
       "      <th>1024</th>\n",
       "      <td>Пресненская набережная</td>\n",
       "      <td>167</td>\n",
       "    </tr>\n",
       "    <tr>\n",
       "      <th>426</th>\n",
       "      <td>Варшавское шоссе</td>\n",
       "      <td>165</td>\n",
       "    </tr>\n",
       "    <tr>\n",
       "      <th>716</th>\n",
       "      <td>Ленинский проспект</td>\n",
       "      <td>148</td>\n",
       "    </tr>\n",
       "    <tr>\n",
       "      <th>1495</th>\n",
       "      <td>проспект Вернадского</td>\n",
       "      <td>132</td>\n",
       "    </tr>\n",
       "    <tr>\n",
       "      <th>703</th>\n",
       "      <td>Кутузовский проспект</td>\n",
       "      <td>114</td>\n",
       "    </tr>\n",
       "    <tr>\n",
       "      <th>626</th>\n",
       "      <td>Каширское шоссе</td>\n",
       "      <td>112</td>\n",
       "    </tr>\n",
       "    <tr>\n",
       "      <th>633</th>\n",
       "      <td>Кировоградская улица</td>\n",
       "      <td>110</td>\n",
       "    </tr>\n",
       "  </tbody>\n",
       "</table>\n",
       "</div>"
      ],
      "text/plain": [
       "                      street  object_name\n",
       "1499           проспект Мира          204\n",
       "1040       Профсоюзная улица          183\n",
       "713   Ленинградский проспект          173\n",
       "1024  Пресненская набережная          167\n",
       "426         Варшавское шоссе          165\n",
       "716       Ленинский проспект          148\n",
       "1495    проспект Вернадского          132\n",
       "703     Кутузовский проспект          114\n",
       "626          Каширское шоссе          112\n",
       "633     Кировоградская улица          110"
      ]
     },
     "metadata": {},
     "output_type": "display_data"
    }
   ],
   "source": [
    "top_10 = data.groupby('street')['object_name'].count().reset_index().sort_values(by = 'object_name',\n",
    "                                                                                 ascending = False).head(10)\n",
    "display(top_10)"
   ]
  },
  {
   "cell_type": "code",
   "execution_count": 46,
   "metadata": {},
   "outputs": [
    {
     "data": {
      "image/png": "[encoded data removed]",
      "text/plain": [
       "<Figure size 1440x504 with 1 Axes>"
      ]
     },
     "metadata": {
      "needs_background": "light"
     },
     "output_type": "display_data"
    }
   ],
   "source": [
    "plt.figure(\n",
    "    figsize=(20, 7))\n",
    "ax = sns.barplot(x=\"object_name\", y='street', data=top_10) \n",
    "ax.set(xlabel = 'Количество заведений', ylabel ='Улица', \n",
    "       title='ТОП-10 улиц по количеству объектов общественного питания')\n",
    "plt.show()"
   ]
  },
  {
   "cell_type": "markdown",
   "metadata": {},
   "source": [
    "###### Выводы:"
   ]
  },
  {
   "cell_type": "markdown",
   "metadata": {},
   "source": [
    "Больше всего заведений находится на проспекте Мира."
   ]
  },
  {
   "cell_type": "markdown",
   "metadata": {},
   "source": [
    "### В каких округах Москвы находятся эти улицы?"
   ]
  },
  {
   "cell_type": "code",
   "execution_count": 47,
   "metadata": {},
   "outputs": [
    {
     "data": {
      "text/html": [
       "<div>\n",
       "<style scoped>\n",
       "    .dataframe tbody tr th:only-of-type {\n",
       "        vertical-align: middle;\n",
       "    }\n",
       "\n",
       "    .dataframe tbody tr th {\n",
       "        vertical-align: top;\n",
       "    }\n",
       "\n",
       "    .dataframe thead th {\n",
       "        text-align: right;\n",
       "    }\n",
       "</style>\n",
       "<table border=\"1\" class=\"dataframe\">\n",
       "  <thead>\n",
       "    <tr style=\"text-align: right;\">\n",
       "      <th></th>\n",
       "      <th>street</th>\n",
       "      <th>areaid</th>\n",
       "      <th>okrug</th>\n",
       "      <th>area</th>\n",
       "    </tr>\n",
       "  </thead>\n",
       "  <tbody>\n",
       "    <tr>\n",
       "      <th>0</th>\n",
       "      <td>1-й Автозаводский проезд</td>\n",
       "      <td>98</td>\n",
       "      <td>ЮАО</td>\n",
       "      <td>Даниловский район</td>\n",
       "    </tr>\n",
       "    <tr>\n",
       "      <th>1</th>\n",
       "      <td>1-й Амбулаторный проезд</td>\n",
       "      <td>54</td>\n",
       "      <td>САО</td>\n",
       "      <td>Район Аэропорт</td>\n",
       "    </tr>\n",
       "    <tr>\n",
       "      <th>2</th>\n",
       "      <td>1-й Архивный переулок</td>\n",
       "      <td>20</td>\n",
       "      <td>ЦАО</td>\n",
       "      <td>Район Хамовники</td>\n",
       "    </tr>\n",
       "    <tr>\n",
       "      <th>3</th>\n",
       "      <td>1-й Бабьегородский переулок</td>\n",
       "      <td>21</td>\n",
       "      <td>ЦАО</td>\n",
       "      <td>Район Якиманка</td>\n",
       "    </tr>\n",
       "    <tr>\n",
       "      <th>4</th>\n",
       "      <td>1-й Балтийский переулок</td>\n",
       "      <td>54</td>\n",
       "      <td>САО</td>\n",
       "      <td>Район Аэропорт</td>\n",
       "    </tr>\n",
       "    <tr>\n",
       "      <th>...</th>\n",
       "      <td>...</td>\n",
       "      <td>...</td>\n",
       "      <td>...</td>\n",
       "      <td>...</td>\n",
       "    </tr>\n",
       "    <tr>\n",
       "      <th>4393</th>\n",
       "      <td>Яузская улица</td>\n",
       "      <td>18</td>\n",
       "      <td>ЦАО</td>\n",
       "      <td>Таганский район</td>\n",
       "    </tr>\n",
       "    <tr>\n",
       "      <th>4394</th>\n",
       "      <td>Яузский бульвар</td>\n",
       "      <td>18</td>\n",
       "      <td>ЦАО</td>\n",
       "      <td>Таганский район</td>\n",
       "    </tr>\n",
       "    <tr>\n",
       "      <th>4395</th>\n",
       "      <td>Яхромская улица</td>\n",
       "      <td>60</td>\n",
       "      <td>САО</td>\n",
       "      <td>Дмитровский район</td>\n",
       "    </tr>\n",
       "    <tr>\n",
       "      <th>4396</th>\n",
       "      <td>Яхромский проезд</td>\n",
       "      <td>58</td>\n",
       "      <td>САО</td>\n",
       "      <td>Район Восточное Дегунино</td>\n",
       "    </tr>\n",
       "    <tr>\n",
       "      <th>4397</th>\n",
       "      <td>Яхромский проезд</td>\n",
       "      <td>60</td>\n",
       "      <td>САО</td>\n",
       "      <td>Дмитровский район</td>\n",
       "    </tr>\n",
       "  </tbody>\n",
       "</table>\n",
       "<p>4398 rows × 4 columns</p>\n",
       "</div>"
      ],
      "text/plain": [
       "                           street  areaid okrug                      area\n",
       "0        1-й Автозаводский проезд      98   ЮАО         Даниловский район\n",
       "1         1-й Амбулаторный проезд      54   САО            Район Аэропорт\n",
       "2           1-й Архивный переулок      20   ЦАО           Район Хамовники\n",
       "3     1-й Бабьегородский переулок      21   ЦАО            Район Якиманка\n",
       "4         1-й Балтийский переулок      54   САО            Район Аэропорт\n",
       "...                           ...     ...   ...                       ...\n",
       "4393                Яузская улица      18   ЦАО           Таганский район\n",
       "4394              Яузский бульвар      18   ЦАО           Таганский район\n",
       "4395              Яхромская улица      60   САО         Дмитровский район\n",
       "4396             Яхромский проезд      58   САО  Район Восточное Дегунино\n",
       "4397             Яхромский проезд      60   САО         Дмитровский район\n",
       "\n",
       "[4398 rows x 4 columns]"
      ]
     },
     "execution_count": 47,
     "metadata": {},
     "output_type": "execute_result"
    }
   ],
   "source": [
    "spreadsheet_id = \"1sguZSB8CeYCbCK2eMmsAlMkz9mBFw11GlyImzqJpjes\"\n",
    "file_name = 'https://docs.google.com/spreadsheets/d/{}/export?format=csv'.format(spreadsheet_id)\n",
    "r = requests.get(file_name)\n",
    "df = pd.read_csv(BytesIO(r.content))\n",
    "df"
   ]
  },
  {
   "cell_type": "code",
   "execution_count": 48,
   "metadata": {},
   "outputs": [],
   "source": [
    "rest_data = data.merge(df, on = 'street', how='left')"
   ]
  },
  {
   "cell_type": "code",
   "execution_count": 49,
   "metadata": {},
   "outputs": [
    {
     "data": {
      "text/html": [
       "<div>\n",
       "<style scoped>\n",
       "    .dataframe tbody tr th:only-of-type {\n",
       "        vertical-align: middle;\n",
       "    }\n",
       "\n",
       "    .dataframe tbody tr th {\n",
       "        vertical-align: top;\n",
       "    }\n",
       "\n",
       "    .dataframe thead th {\n",
       "        text-align: right;\n",
       "    }\n",
       "</style>\n",
       "<table border=\"1\" class=\"dataframe\">\n",
       "  <thead>\n",
       "    <tr style=\"text-align: right;\">\n",
       "      <th></th>\n",
       "      <th>okrug</th>\n",
       "      <th>street</th>\n",
       "      <th>id</th>\n",
       "    </tr>\n",
       "  </thead>\n",
       "  <tbody>\n",
       "    <tr>\n",
       "      <th>0</th>\n",
       "      <td>СВАО</td>\n",
       "      <td>проспект Мира</td>\n",
       "      <td>1224</td>\n",
       "    </tr>\n",
       "    <tr>\n",
       "      <th>1</th>\n",
       "      <td>ЮЗАО</td>\n",
       "      <td>Профсоюзная улица</td>\n",
       "      <td>1098</td>\n",
       "    </tr>\n",
       "    <tr>\n",
       "      <th>2</th>\n",
       "      <td>ЮАО</td>\n",
       "      <td>Варшавское шоссе</td>\n",
       "      <td>990</td>\n",
       "    </tr>\n",
       "    <tr>\n",
       "      <th>3</th>\n",
       "      <td>САО</td>\n",
       "      <td>Ленинградский проспект</td>\n",
       "      <td>692</td>\n",
       "    </tr>\n",
       "    <tr>\n",
       "      <th>4</th>\n",
       "      <td>ЮЗАО</td>\n",
       "      <td>Ленинский проспект</td>\n",
       "      <td>592</td>\n",
       "    </tr>\n",
       "    <tr>\n",
       "      <th>5</th>\n",
       "      <td>САО</td>\n",
       "      <td>Ленинградское шоссе</td>\n",
       "      <td>500</td>\n",
       "    </tr>\n",
       "    <tr>\n",
       "      <th>6</th>\n",
       "      <td>САО</td>\n",
       "      <td>Дмитровское шоссе</td>\n",
       "      <td>500</td>\n",
       "    </tr>\n",
       "    <tr>\n",
       "      <th>7</th>\n",
       "      <td>ЮАО</td>\n",
       "      <td>Каширское шоссе</td>\n",
       "      <td>448</td>\n",
       "    </tr>\n",
       "    <tr>\n",
       "      <th>8</th>\n",
       "      <td>ЗАО</td>\n",
       "      <td>проспект Вернадского</td>\n",
       "      <td>396</td>\n",
       "    </tr>\n",
       "    <tr>\n",
       "      <th>9</th>\n",
       "      <td>ЮВАО</td>\n",
       "      <td>Волгоградский проспект</td>\n",
       "      <td>378</td>\n",
       "    </tr>\n",
       "  </tbody>\n",
       "</table>\n",
       "</div>"
      ],
      "text/plain": [
       "  okrug                  street    id\n",
       "0  СВАО           проспект Мира  1224\n",
       "1  ЮЗАО       Профсоюзная улица  1098\n",
       "2   ЮАО        Варшавское шоссе   990\n",
       "3   САО  Ленинградский проспект   692\n",
       "4  ЮЗАО      Ленинский проспект   592\n",
       "5   САО     Ленинградское шоссе   500\n",
       "6   САО       Дмитровское шоссе   500\n",
       "7   ЮАО         Каширское шоссе   448\n",
       "8   ЗАО    проспект Вернадского   396\n",
       "9  ЮВАО  Волгоградский проспект   378"
      ]
     },
     "execution_count": 49,
     "metadata": {},
     "output_type": "execute_result"
    }
   ],
   "source": [
    "top_10_streets = top_10['street'].to_list()\n",
    "top_10_count_on_district = rest_data.query('street == @top_10_streets')\n",
    "top_10_count_on_district.pivot_table(index=['street', 'okrug'], values='id', aggfunc='count')\n",
    "\n",
    "top_10_district = rest_data.groupby(['okrug','street']).agg({'id':'count'}).sort_values(by='id', \n",
    "                                                                                  ascending=False).head(10).reset_index()\n",
    "top_10_district"
   ]
  },
  {
   "cell_type": "code",
   "execution_count": 50,
   "metadata": {},
   "outputs": [
    {
     "data": {
      "image/png": "[encoded data removed]",
      "text/plain": [
       "<Figure size 1440x504 with 1 Axes>"
      ]
     },
     "metadata": {
      "needs_background": "light"
     },
     "output_type": "display_data"
    }
   ],
   "source": [
    "plt.figure(\n",
    "    figsize=(20, 7))\n",
    "ax = sns.barplot(x='okrug', y ='id', data=top_10_district)\n",
    "ax.set(xlabel = 'Округ', ylabel ='Количество заведений', \n",
    "       title='ТОП округов по количеству объектов обещественного питания')\n",
    "plt.show()"
   ]
  },
  {
   "cell_type": "markdown",
   "metadata": {},
   "source": [
    "### Найду число улиц с одним объектом общественного питания."
   ]
  },
  {
   "cell_type": "code",
   "execution_count": 51,
   "metadata": {},
   "outputs": [
    {
     "name": "stdout",
     "output_type": "stream",
     "text": [
      "Количество улиц с одним заведением: 567\n"
     ]
    }
   ],
   "source": [
    "streets_count = rest_data.groupby(['area','street'])['object_name'].count().reset_index()\n",
    "streets_one_object = streets_count[streets_count['object_name'] == 1]\n",
    "print(\"Количество улиц с одним заведением:\", streets_one_object['street'].count())"
   ]
  },
  {
   "cell_type": "markdown",
   "metadata": {},
   "source": [
    "### В каких районах Москвы находятся эти улицы?"
   ]
  },
  {
   "cell_type": "code",
   "execution_count": 52,
   "metadata": {},
   "outputs": [
    {
     "name": "stdout",
     "output_type": "stream",
     "text": [
      "Топ-10 районов, в которых находятся улицы с одним заведением:\n"
     ]
    },
    {
     "data": {
      "text/html": [
       "<div>\n",
       "<style scoped>\n",
       "    .dataframe tbody tr th:only-of-type {\n",
       "        vertical-align: middle;\n",
       "    }\n",
       "\n",
       "    .dataframe tbody tr th {\n",
       "        vertical-align: top;\n",
       "    }\n",
       "\n",
       "    .dataframe thead th {\n",
       "        text-align: right;\n",
       "    }\n",
       "</style>\n",
       "<table border=\"1\" class=\"dataframe\">\n",
       "  <thead>\n",
       "    <tr style=\"text-align: right;\">\n",
       "      <th></th>\n",
       "      <th>street</th>\n",
       "      <th>object_name</th>\n",
       "    </tr>\n",
       "    <tr>\n",
       "      <th>area</th>\n",
       "      <th></th>\n",
       "      <th></th>\n",
       "    </tr>\n",
       "  </thead>\n",
       "  <tbody>\n",
       "    <tr>\n",
       "      <th>Таганский район</th>\n",
       "      <td>27</td>\n",
       "      <td>27</td>\n",
       "    </tr>\n",
       "    <tr>\n",
       "      <th>Район Хамовники</th>\n",
       "      <td>26</td>\n",
       "      <td>26</td>\n",
       "    </tr>\n",
       "    <tr>\n",
       "      <th>Басманный район</th>\n",
       "      <td>25</td>\n",
       "      <td>25</td>\n",
       "    </tr>\n",
       "    <tr>\n",
       "      <th>Тверской район</th>\n",
       "      <td>20</td>\n",
       "      <td>20</td>\n",
       "    </tr>\n",
       "    <tr>\n",
       "      <th>Пресненский район</th>\n",
       "      <td>20</td>\n",
       "      <td>20</td>\n",
       "    </tr>\n",
       "    <tr>\n",
       "      <th>Район Арбат</th>\n",
       "      <td>18</td>\n",
       "      <td>18</td>\n",
       "    </tr>\n",
       "    <tr>\n",
       "      <th>Район Марьина роща</th>\n",
       "      <td>18</td>\n",
       "      <td>18</td>\n",
       "    </tr>\n",
       "    <tr>\n",
       "      <th>Мещанский район</th>\n",
       "      <td>16</td>\n",
       "      <td>16</td>\n",
       "    </tr>\n",
       "    <tr>\n",
       "      <th>Район Сокольники</th>\n",
       "      <td>15</td>\n",
       "      <td>15</td>\n",
       "    </tr>\n",
       "    <tr>\n",
       "      <th>Район Замоскворечье</th>\n",
       "      <td>14</td>\n",
       "      <td>14</td>\n",
       "    </tr>\n",
       "  </tbody>\n",
       "</table>\n",
       "</div>"
      ],
      "text/plain": [
       "                     street  object_name\n",
       "area                                    \n",
       "Таганский район          27           27\n",
       "Район Хамовники          26           26\n",
       "Басманный район          25           25\n",
       "Тверской район           20           20\n",
       "Пресненский район        20           20\n",
       "Район Арбат              18           18\n",
       "Район Марьина роща       18           18\n",
       "Мещанский район          16           16\n",
       "Район Сокольники         15           15\n",
       "Район Замоскворечье      14           14"
      ]
     },
     "metadata": {},
     "output_type": "display_data"
    }
   ],
   "source": [
    "area_one_object= streets_one_object.groupby('area').count()\n",
    "print(\"Топ-10 районов, в которых находятся улицы с одним заведением:\")\n",
    "display(area_one_object.sort_values(by = 'object_name', ascending = False).head(10))"
   ]
  },
  {
   "cell_type": "markdown",
   "metadata": {},
   "source": [
    "## Распределение количества посадочных мест для улиц с большим количеством объектов общественного питания. Какие закономерности можно выявить?"
   ]
  },
  {
   "cell_type": "code",
   "execution_count": 53,
   "metadata": {},
   "outputs": [
    {
     "name": "stderr",
     "output_type": "stream",
     "text": [
      "/opt/conda/lib/python3.9/site-packages/seaborn/distributions.py:2557: FutureWarning: `distplot` is a deprecated function and will be removed in a future version. Please adapt your code to use either `displot` (a figure-level function with similar flexibility) or `histplot` (an axes-level function for histograms).\n",
      "  warnings.warn(msg, FutureWarning)\n"
     ]
    },
    {
     "data": {
      "image/png": "[encoded data removed]",
      "text/plain": [
       "<Figure size 432x288 with 1 Axes>"
      ]
     },
     "metadata": {
      "needs_background": "light"
     },
     "output_type": "display_data"
    }
   ],
   "source": [
    "ax = sns.distplot(top_10_count_on_district['number'], bins = 50) \n",
    "ax.set(xlabel = 'Количество посадочных мест', ylabel ='Количество заведений', \n",
    "       title='Распределение количества посадочных мест для улиц с большим количеством объектов')\n",
    "plt.show()"
   ]
  },
  {
   "cell_type": "markdown",
   "metadata": {},
   "source": [
    "Есть выбросы, исключу заведения с количеством посадочным мест более 250."
   ]
  },
  {
   "cell_type": "code",
   "execution_count": 54,
   "metadata": {},
   "outputs": [
    {
     "name": "stderr",
     "output_type": "stream",
     "text": [
      "/opt/conda/lib/python3.9/site-packages/seaborn/distributions.py:2557: FutureWarning: `distplot` is a deprecated function and will be removed in a future version. Please adapt your code to use either `displot` (a figure-level function with similar flexibility) or `histplot` (an axes-level function for histograms).\n",
      "  warnings.warn(msg, FutureWarning)\n"
     ]
    },
    {
     "data": {
      "image/png": "[encoded data removed]",
      "text/plain": [
       "<Figure size 432x288 with 1 Axes>"
      ]
     },
     "metadata": {
      "needs_background": "light"
     },
     "output_type": "display_data"
    }
   ],
   "source": [
    "top_10_number = top_10_count_on_district[top_10_count_on_district['number'] <= 250]\n",
    "ax = sns.distplot(top_10_number['number'], bins=25)\n",
    "ax.set(xlabel = 'Количество посадочных мест', ylabel ='Количество заведений', \n",
    "       title='Распределение количества посадочных мест для ТОП-10 улиц с большим количеством объектов')\n",
    "plt.show()"
   ]
  },
  {
   "cell_type": "markdown",
   "metadata": {},
   "source": [
    "Больше всего заведений без посадочных мест, работающих на заказы \"с собой\" или доставку, затем примерно одинаковое кол-во заведений имеют по 10, 20 и 40 мест, далее идет плавный спад."
   ]
  },
  {
   "cell_type": "markdown",
   "metadata": {},
   "source": [
    "## Общие выводы:"
   ]
  },
  {
   "cell_type": "markdown",
   "metadata": {},
   "source": [
    "Мы выяснили, что большую долю заведений в Москве составляют кафе(их почти в 2.5 раза больше, чем остальных заведений), столовые, рестораны и фастфуд, при этом, доля сетевых заведений всего 20% от общего количества.\n",
    "\n",
    "Наиболее характерно сетевое распространение для фастфуда, кулинарии и ресторанов. А также для сетей характерно иметь много заведений с небольшим количеством посадочных мест.\n",
    "\n",
    "Найдены топ-10 улиц с наибольшим количеством заведений. Больше всего заведений, находящихся на улицах из топа, не имеют посадочных мест. А если посадочные места есть, то чаще всего их около 10, 20 или 40."
   ]
  },
  {
   "cell_type": "markdown",
   "metadata": {},
   "source": [
    "## Рекомендации."
   ]
  },
  {
   "cell_type": "markdown",
   "metadata": {},
   "source": [
    "Открыть кафе, так как это самый популярный вид заведений общественного питания.\n",
    "\n",
    "Расположить его на одной из улиц из списка топ-10.\n",
    "\n",
    "Количеств посадочных мест до 40.\n",
    "\n",
    "Как возможности для развития можно рассмотреть открытие заведений с работой на доставку или заказы “с собой”, либо открытие ресторана/столовой с бОльшим количеством посадочных мест, а также развитие сети таких заведений."
   ]
  },
  {
   "cell_type": "markdown",
   "metadata": {},
   "source": [
    "## Ссыллка на презентацию."
   ]
  },
  {
   "cell_type": "markdown",
   "metadata": {},
   "source": [
    "https://disk.yandex.ru/i/3Lo01hZwM01cXw"
   ]
  }
 ],
 "metadata": {
  "ExecuteTimeLog": [
   {
    "duration": 48,
    "start_time": "2022-03-21T07:05:06.735Z"
   },
   {
    "duration": 1375,
    "start_time": "2022-03-21T07:05:10.869Z"
   },
   {
    "duration": 52,
    "start_time": "2022-03-21T07:05:12.246Z"
   },
   {
    "duration": 106,
    "start_time": "2022-03-21T07:06:26.823Z"
   },
   {
    "duration": 2,
    "start_time": "2022-03-21T07:06:46.856Z"
   },
   {
    "duration": 279,
    "start_time": "2022-03-21T07:06:47.547Z"
   },
   {
    "duration": 198,
    "start_time": "2022-03-21T07:06:55.779Z"
   },
   {
    "duration": 227,
    "start_time": "2022-03-21T07:07:08.819Z"
   },
   {
    "duration": 197,
    "start_time": "2022-03-21T07:07:18.310Z"
   },
   {
    "duration": 184,
    "start_time": "2022-03-21T07:07:26.901Z"
   },
   {
    "duration": 190,
    "start_time": "2022-03-21T07:08:03.872Z"
   },
   {
    "duration": 354,
    "start_time": "2022-03-21T07:08:26.672Z"
   },
   {
    "duration": 8,
    "start_time": "2022-03-21T07:11:49.398Z"
   },
   {
    "duration": 19,
    "start_time": "2022-03-21T07:11:51.921Z"
   },
   {
    "duration": 15,
    "start_time": "2022-03-21T07:12:09.979Z"
   },
   {
    "duration": 8,
    "start_time": "2022-03-21T07:12:10.612Z"
   },
   {
    "duration": 15,
    "start_time": "2022-03-21T07:13:00.393Z"
   },
   {
    "duration": 223,
    "start_time": "2022-03-21T07:22:52.633Z"
   },
   {
    "duration": 116,
    "start_time": "2022-03-21T07:24:07.902Z"
   },
   {
    "duration": 125,
    "start_time": "2022-03-21T07:24:20.933Z"
   },
   {
    "duration": 1786,
    "start_time": "2022-03-21T07:24:38.804Z"
   },
   {
    "duration": 202,
    "start_time": "2022-03-21T07:25:44.767Z"
   },
   {
    "duration": 202,
    "start_time": "2022-03-21T07:26:11.703Z"
   },
   {
    "duration": 211,
    "start_time": "2022-03-21T07:26:43.418Z"
   },
   {
    "duration": 133,
    "start_time": "2022-03-21T07:33:26.389Z"
   },
   {
    "duration": 134,
    "start_time": "2022-03-21T07:33:39.814Z"
   },
   {
    "duration": 298,
    "start_time": "2022-03-21T07:34:02.039Z"
   },
   {
    "duration": 130,
    "start_time": "2022-03-21T07:34:21.826Z"
   },
   {
    "duration": 201,
    "start_time": "2022-03-21T07:34:36.176Z"
   },
   {
    "duration": 130,
    "start_time": "2022-03-21T07:34:45.755Z"
   },
   {
    "duration": 194,
    "start_time": "2022-03-21T07:35:03.794Z"
   },
   {
    "duration": 10,
    "start_time": "2022-03-21T07:37:33.475Z"
   },
   {
    "duration": 187,
    "start_time": "2022-03-21T07:37:40.969Z"
   },
   {
    "duration": 187,
    "start_time": "2022-03-21T07:38:38.287Z"
   },
   {
    "duration": 176,
    "start_time": "2022-03-21T07:38:58.112Z"
   },
   {
    "duration": 175,
    "start_time": "2022-03-21T07:39:59.134Z"
   },
   {
    "duration": 175,
    "start_time": "2022-03-21T07:40:10.221Z"
   },
   {
    "duration": 172,
    "start_time": "2022-03-21T07:40:47.611Z"
   },
   {
    "duration": 207,
    "start_time": "2022-03-21T07:40:59.943Z"
   },
   {
    "duration": 285,
    "start_time": "2022-03-21T07:42:41.983Z"
   },
   {
    "duration": 201,
    "start_time": "2022-03-21T07:43:00.098Z"
   },
   {
    "duration": 9,
    "start_time": "2022-03-21T07:47:24.590Z"
   },
   {
    "duration": 9,
    "start_time": "2022-03-21T07:47:24.800Z"
   },
   {
    "duration": 9,
    "start_time": "2022-03-21T07:47:24.969Z"
   },
   {
    "duration": 8,
    "start_time": "2022-03-21T07:47:25.175Z"
   },
   {
    "duration": 189,
    "start_time": "2022-03-21T07:48:28.326Z"
   },
   {
    "duration": 201,
    "start_time": "2022-03-21T07:48:31.430Z"
   },
   {
    "duration": 8,
    "start_time": "2022-03-21T07:48:31.846Z"
   },
   {
    "duration": 10,
    "start_time": "2022-03-21T07:48:32.056Z"
   },
   {
    "duration": 6,
    "start_time": "2022-03-21T07:48:32.281Z"
   },
   {
    "duration": 261,
    "start_time": "2022-03-21T07:48:32.460Z"
   },
   {
    "duration": 15,
    "start_time": "2022-03-21T07:51:27.187Z"
   },
   {
    "duration": 14,
    "start_time": "2022-03-21T07:51:40.237Z"
   },
   {
    "duration": 15,
    "start_time": "2022-03-21T07:52:25.815Z"
   },
   {
    "duration": 311,
    "start_time": "2022-03-21T07:53:05.011Z"
   },
   {
    "duration": 14,
    "start_time": "2022-03-21T07:56:14.909Z"
   },
   {
    "duration": 220,
    "start_time": "2022-03-21T07:56:15.138Z"
   },
   {
    "duration": 433,
    "start_time": "2022-03-21T07:57:12.287Z"
   },
   {
    "duration": 457,
    "start_time": "2022-03-21T07:57:29.541Z"
   },
   {
    "duration": 508,
    "start_time": "2022-03-21T07:57:44.909Z"
   },
   {
    "duration": 224,
    "start_time": "2022-03-21T07:57:53.938Z"
   },
   {
    "duration": 202,
    "start_time": "2022-03-21T07:58:49.571Z"
   },
   {
    "duration": 213,
    "start_time": "2022-03-21T08:00:04.266Z"
   },
   {
    "duration": 223,
    "start_time": "2022-03-21T08:00:31.090Z"
   },
   {
    "duration": 217,
    "start_time": "2022-03-21T08:00:38.617Z"
   },
   {
    "duration": 158,
    "start_time": "2022-03-21T08:01:25.929Z"
   },
   {
    "duration": 219,
    "start_time": "2022-03-21T08:02:27.243Z"
   },
   {
    "duration": 515,
    "start_time": "2022-03-21T08:02:45.709Z"
   },
   {
    "duration": 412,
    "start_time": "2022-03-21T08:03:12.924Z"
   },
   {
    "duration": 215,
    "start_time": "2022-03-21T08:03:27.443Z"
   },
   {
    "duration": 212,
    "start_time": "2022-03-21T08:03:43.661Z"
   },
   {
    "duration": 238,
    "start_time": "2022-03-21T08:03:51.199Z"
   },
   {
    "duration": 279,
    "start_time": "2022-03-21T08:03:57.564Z"
   },
   {
    "duration": 202,
    "start_time": "2022-03-21T08:04:29.346Z"
   },
   {
    "duration": 212,
    "start_time": "2022-03-21T08:07:21.010Z"
   },
   {
    "duration": 12,
    "start_time": "2022-03-21T08:07:51.460Z"
   },
   {
    "duration": 226,
    "start_time": "2022-03-21T08:07:51.982Z"
   },
   {
    "duration": 132,
    "start_time": "2022-03-21T08:09:57.213Z"
   },
   {
    "duration": 10,
    "start_time": "2022-03-21T08:09:57.462Z"
   },
   {
    "duration": 11,
    "start_time": "2022-03-21T08:11:05.950Z"
   },
   {
    "duration": 248,
    "start_time": "2022-03-21T08:11:06.172Z"
   },
   {
    "duration": 161,
    "start_time": "2022-03-21T08:12:59.063Z"
   },
   {
    "duration": 219,
    "start_time": "2022-03-21T08:12:59.437Z"
   },
   {
    "duration": 20,
    "start_time": "2022-03-21T08:12:59.711Z"
   },
   {
    "duration": 10,
    "start_time": "2022-03-21T08:13:00.062Z"
   },
   {
    "duration": 221,
    "start_time": "2022-03-21T08:13:00.574Z"
   },
   {
    "duration": 202,
    "start_time": "2022-03-21T08:13:00.929Z"
   },
   {
    "duration": 212,
    "start_time": "2022-03-21T08:13:01.328Z"
   },
   {
    "duration": 11,
    "start_time": "2022-03-21T08:13:01.668Z"
   },
   {
    "duration": 13,
    "start_time": "2022-03-21T08:13:01.857Z"
   },
   {
    "duration": 9,
    "start_time": "2022-03-21T08:13:02.036Z"
   },
   {
    "duration": 288,
    "start_time": "2022-03-21T08:13:02.226Z"
   },
   {
    "duration": 27,
    "start_time": "2022-03-21T08:13:02.516Z"
   },
   {
    "duration": 215,
    "start_time": "2022-03-21T08:13:02.628Z"
   },
   {
    "duration": 12,
    "start_time": "2022-03-21T08:13:02.989Z"
   },
   {
    "duration": 237,
    "start_time": "2022-03-21T08:13:03.194Z"
   },
   {
    "duration": 129,
    "start_time": "2022-03-21T08:13:03.562Z"
   },
   {
    "duration": 11,
    "start_time": "2022-03-21T08:13:03.765Z"
   },
   {
    "duration": 12,
    "start_time": "2022-03-21T08:13:04.160Z"
   },
   {
    "duration": 235,
    "start_time": "2022-03-21T08:13:04.348Z"
   },
   {
    "duration": 20,
    "start_time": "2022-03-21T08:13:41.609Z"
   },
   {
    "duration": 1038,
    "start_time": "2022-03-21T08:13:45.097Z"
   },
   {
    "duration": 15,
    "start_time": "2022-03-21T08:13:46.137Z"
   },
   {
    "duration": 17,
    "start_time": "2022-03-21T08:14:09.986Z"
   },
   {
    "duration": 41,
    "start_time": "2022-03-21T08:14:10.232Z"
   },
   {
    "duration": 235,
    "start_time": "2022-03-21T08:14:21.562Z"
   },
   {
    "duration": 20,
    "start_time": "2022-03-21T08:16:10.129Z"
   },
   {
    "duration": 805,
    "start_time": "2022-03-21T08:16:11.637Z"
   },
   {
    "duration": 17,
    "start_time": "2022-03-21T08:16:12.444Z"
   },
   {
    "duration": 42,
    "start_time": "2022-03-21T08:16:12.463Z"
   },
   {
    "duration": 253,
    "start_time": "2022-03-21T08:16:12.507Z"
   },
   {
    "duration": 11,
    "start_time": "2022-03-21T08:17:34.368Z"
   },
   {
    "duration": 86,
    "start_time": "2022-03-21T08:20:04.987Z"
   },
   {
    "duration": 208,
    "start_time": "2022-03-21T08:20:05.230Z"
   },
   {
    "duration": 298,
    "start_time": "2022-03-21T08:20:12.682Z"
   },
   {
    "duration": 200,
    "start_time": "2022-03-21T08:20:21.792Z"
   },
   {
    "duration": 147,
    "start_time": "2022-03-22T06:29:44.771Z"
   },
   {
    "duration": 376,
    "start_time": "2022-03-22T06:34:03.137Z"
   },
   {
    "duration": 1386,
    "start_time": "2022-03-22T06:37:09.425Z"
   },
   {
    "duration": 405,
    "start_time": "2022-03-22T06:37:10.813Z"
   },
   {
    "duration": 17,
    "start_time": "2022-03-22T06:37:11.220Z"
   },
   {
    "duration": 8,
    "start_time": "2022-03-22T06:37:11.239Z"
   },
   {
    "duration": 201,
    "start_time": "2022-03-22T06:37:11.446Z"
   },
   {
    "duration": 172,
    "start_time": "2022-03-22T06:37:12.184Z"
   },
   {
    "duration": 194,
    "start_time": "2022-03-22T06:37:13.021Z"
   },
   {
    "duration": 8,
    "start_time": "2022-03-22T06:37:13.864Z"
   },
   {
    "duration": 9,
    "start_time": "2022-03-22T06:37:14.092Z"
   },
   {
    "duration": 6,
    "start_time": "2022-03-22T06:37:14.267Z"
   },
   {
    "duration": 250,
    "start_time": "2022-03-22T06:37:14.472Z"
   },
   {
    "duration": 19,
    "start_time": "2022-03-22T06:37:14.723Z"
   },
   {
    "duration": 201,
    "start_time": "2022-03-22T06:37:14.882Z"
   },
   {
    "duration": 105,
    "start_time": "2022-03-22T06:46:47.605Z"
   },
   {
    "duration": 11,
    "start_time": "2022-03-22T06:46:48.245Z"
   },
   {
    "duration": 4,
    "start_time": "2022-03-22T06:46:56.484Z"
   },
   {
    "duration": 623,
    "start_time": "2022-03-22T06:46:56.806Z"
   },
   {
    "duration": 18,
    "start_time": "2022-03-22T06:46:57.431Z"
   },
   {
    "duration": 8,
    "start_time": "2022-03-22T06:46:57.508Z"
   },
   {
    "duration": 200,
    "start_time": "2022-03-22T06:46:58.404Z"
   },
   {
    "duration": 172,
    "start_time": "2022-03-22T06:46:59.099Z"
   },
   {
    "duration": 192,
    "start_time": "2022-03-22T06:46:59.798Z"
   },
   {
    "duration": 8,
    "start_time": "2022-03-22T06:47:00.530Z"
   },
   {
    "duration": 9,
    "start_time": "2022-03-22T06:47:00.727Z"
   },
   {
    "duration": 5,
    "start_time": "2022-03-22T06:47:00.913Z"
   },
   {
    "duration": 339,
    "start_time": "2022-03-22T06:47:01.103Z"
   },
   {
    "duration": 13,
    "start_time": "2022-03-22T06:47:01.443Z"
   },
   {
    "duration": 195,
    "start_time": "2022-03-22T06:47:01.478Z"
   },
   {
    "duration": 12,
    "start_time": "2022-03-22T06:47:02.243Z"
   },
   {
    "duration": 206,
    "start_time": "2022-03-22T06:47:02.457Z"
   },
   {
    "duration": 126,
    "start_time": "2022-03-22T06:47:03.227Z"
   },
   {
    "duration": 9,
    "start_time": "2022-03-22T06:47:03.457Z"
   },
   {
    "duration": 10,
    "start_time": "2022-03-22T06:47:03.858Z"
   },
   {
    "duration": 217,
    "start_time": "2022-03-22T06:47:04.047Z"
   },
   {
    "duration": 10,
    "start_time": "2022-03-22T06:47:04.868Z"
   },
   {
    "duration": 1411,
    "start_time": "2022-03-22T06:47:05.250Z"
   },
   {
    "duration": 15,
    "start_time": "2022-03-22T06:47:06.663Z"
   },
   {
    "duration": 40,
    "start_time": "2022-03-22T06:47:06.680Z"
   },
   {
    "duration": 229,
    "start_time": "2022-03-22T06:47:06.734Z"
   },
   {
    "duration": 10,
    "start_time": "2022-03-22T06:47:06.965Z"
   },
   {
    "duration": 0,
    "start_time": "2022-03-22T06:47:06.977Z"
   },
   {
    "duration": 198,
    "start_time": "2022-03-22T06:47:07.373Z"
   },
   {
    "duration": 33,
    "start_time": "2022-03-22T06:50:23.205Z"
   },
   {
    "duration": 982,
    "start_time": "2022-03-22T06:50:49.950Z"
   },
   {
    "duration": 15,
    "start_time": "2022-03-22T06:50:50.934Z"
   },
   {
    "duration": 42,
    "start_time": "2022-03-22T06:50:51.196Z"
   },
   {
    "duration": 223,
    "start_time": "2022-03-22T06:50:59.665Z"
   },
   {
    "duration": 815,
    "start_time": "2022-03-22T06:52:01.184Z"
   },
   {
    "duration": 14,
    "start_time": "2022-03-22T06:52:02.002Z"
   },
   {
    "duration": 41,
    "start_time": "2022-03-22T06:52:02.018Z"
   },
   {
    "duration": 223,
    "start_time": "2022-03-22T06:52:02.150Z"
   },
   {
    "duration": 11,
    "start_time": "2022-03-22T06:52:03.693Z"
   },
   {
    "duration": 236,
    "start_time": "2022-03-22T06:52:05.010Z"
   },
   {
    "duration": 190,
    "start_time": "2022-03-22T06:52:05.882Z"
   },
   {
    "duration": 1563,
    "start_time": "2022-03-22T06:57:33.550Z"
   },
   {
    "duration": 16,
    "start_time": "2022-03-22T06:57:35.115Z"
   },
   {
    "duration": 38,
    "start_time": "2022-03-22T06:57:35.133Z"
   },
   {
    "duration": 328,
    "start_time": "2022-03-22T06:57:35.173Z"
   },
   {
    "duration": 13,
    "start_time": "2022-03-22T06:59:15.105Z"
   },
   {
    "duration": 225,
    "start_time": "2022-03-22T06:59:59.182Z"
   },
   {
    "duration": 187,
    "start_time": "2022-03-22T07:00:43.307Z"
   },
   {
    "duration": 9,
    "start_time": "2022-03-22T07:01:31.904Z"
   },
   {
    "duration": 221,
    "start_time": "2022-03-22T07:01:32.345Z"
   },
   {
    "duration": 14,
    "start_time": "2022-03-22T07:01:47.707Z"
   },
   {
    "duration": 213,
    "start_time": "2022-03-22T07:01:50.405Z"
   },
   {
    "duration": 229,
    "start_time": "2022-03-22T07:24:39.935Z"
   },
   {
    "duration": 242,
    "start_time": "2022-03-22T07:38:07.624Z"
   },
   {
    "duration": 222,
    "start_time": "2022-03-22T07:38:15.898Z"
   },
   {
    "duration": 247,
    "start_time": "2022-03-22T07:38:28.996Z"
   },
   {
    "duration": 3,
    "start_time": "2022-03-22T09:37:45.486Z"
   },
   {
    "duration": 390,
    "start_time": "2022-03-22T09:37:45.838Z"
   },
   {
    "duration": 18,
    "start_time": "2022-03-22T09:37:46.230Z"
   },
   {
    "duration": 8,
    "start_time": "2022-03-22T09:37:46.551Z"
   },
   {
    "duration": 237,
    "start_time": "2022-03-22T09:37:47.491Z"
   },
   {
    "duration": 277,
    "start_time": "2022-03-22T09:37:48.225Z"
   },
   {
    "duration": 197,
    "start_time": "2022-03-22T09:37:49.002Z"
   },
   {
    "duration": 234,
    "start_time": "2022-03-22T09:38:01.510Z"
   },
   {
    "duration": 3,
    "start_time": "2022-03-22T10:20:16.907Z"
   },
   {
    "duration": 1499,
    "start_time": "2022-03-22T10:20:17.259Z"
   },
   {
    "duration": 18,
    "start_time": "2022-03-22T10:20:18.760Z"
   },
   {
    "duration": 10,
    "start_time": "2022-03-22T10:20:18.780Z"
   },
   {
    "duration": 250,
    "start_time": "2022-03-22T10:20:18.902Z"
   },
   {
    "duration": 168,
    "start_time": "2022-03-22T10:20:19.650Z"
   },
   {
    "duration": 240,
    "start_time": "2022-03-22T10:20:21.003Z"
   },
   {
    "duration": 9,
    "start_time": "2022-03-22T10:20:21.882Z"
   },
   {
    "duration": 8,
    "start_time": "2022-03-22T10:20:22.120Z"
   },
   {
    "duration": 6,
    "start_time": "2022-03-22T10:20:22.368Z"
   },
   {
    "duration": 268,
    "start_time": "2022-03-22T10:20:22.582Z"
   },
   {
    "duration": 14,
    "start_time": "2022-03-22T10:20:22.852Z"
   },
   {
    "duration": 191,
    "start_time": "2022-03-22T10:20:23.068Z"
   },
   {
    "duration": 11,
    "start_time": "2022-03-22T10:20:23.884Z"
   },
   {
    "duration": 203,
    "start_time": "2022-03-22T10:20:24.108Z"
   },
   {
    "duration": 129,
    "start_time": "2022-03-22T10:20:24.988Z"
   },
   {
    "duration": 10,
    "start_time": "2022-03-22T10:20:25.217Z"
   },
   {
    "duration": 16,
    "start_time": "2022-03-22T10:20:25.675Z"
   },
   {
    "duration": 211,
    "start_time": "2022-03-22T10:20:25.874Z"
   },
   {
    "duration": 1080,
    "start_time": "2022-03-22T10:20:26.741Z"
   },
   {
    "duration": 16,
    "start_time": "2022-03-22T10:20:27.823Z"
   },
   {
    "duration": 40,
    "start_time": "2022-03-22T10:20:27.841Z"
   },
   {
    "duration": 239,
    "start_time": "2022-03-22T10:20:27.883Z"
   },
   {
    "duration": 26,
    "start_time": "2022-03-22T10:20:28.123Z"
   },
   {
    "duration": 12,
    "start_time": "2022-03-22T10:20:28.292Z"
   },
   {
    "duration": 325,
    "start_time": "2022-03-22T10:20:28.749Z"
   },
   {
    "duration": 205,
    "start_time": "2022-03-22T10:20:29.149Z"
   },
   {
    "duration": 1412,
    "start_time": "2022-03-23T05:14:36.522Z"
   },
   {
    "duration": 275,
    "start_time": "2022-03-23T05:14:37.936Z"
   },
   {
    "duration": 17,
    "start_time": "2022-03-23T05:14:38.212Z"
   },
   {
    "duration": 8,
    "start_time": "2022-03-23T05:14:38.231Z"
   },
   {
    "duration": 249,
    "start_time": "2022-03-23T05:14:38.241Z"
   },
   {
    "duration": 178,
    "start_time": "2022-03-23T05:14:38.491Z"
   },
   {
    "duration": 233,
    "start_time": "2022-03-23T05:14:38.670Z"
   },
   {
    "duration": 7,
    "start_time": "2022-03-23T05:14:38.905Z"
   },
   {
    "duration": 21,
    "start_time": "2022-03-23T05:14:38.913Z"
   },
   {
    "duration": 6,
    "start_time": "2022-03-23T05:14:38.937Z"
   },
   {
    "duration": 246,
    "start_time": "2022-03-23T05:14:38.945Z"
   },
   {
    "duration": 14,
    "start_time": "2022-03-23T05:14:39.192Z"
   },
   {
    "duration": 211,
    "start_time": "2022-03-23T05:14:39.207Z"
   },
   {
    "duration": 16,
    "start_time": "2022-03-23T05:14:39.419Z"
   },
   {
    "duration": 208,
    "start_time": "2022-03-23T05:14:39.437Z"
   },
   {
    "duration": 136,
    "start_time": "2022-03-23T05:14:39.647Z"
   },
   {
    "duration": 10,
    "start_time": "2022-03-23T05:14:39.785Z"
   },
   {
    "duration": 15,
    "start_time": "2022-03-23T05:14:39.796Z"
   },
   {
    "duration": 243,
    "start_time": "2022-03-23T05:14:39.812Z"
   },
   {
    "duration": 1076,
    "start_time": "2022-03-23T05:14:40.057Z"
   },
   {
    "duration": 13,
    "start_time": "2022-03-23T05:14:41.135Z"
   },
   {
    "duration": 39,
    "start_time": "2022-03-23T05:14:41.149Z"
   },
   {
    "duration": 231,
    "start_time": "2022-03-23T05:14:41.189Z"
   },
   {
    "duration": 23,
    "start_time": "2022-03-23T05:14:41.421Z"
   },
   {
    "duration": 10,
    "start_time": "2022-03-23T05:14:41.445Z"
   },
   {
    "duration": 318,
    "start_time": "2022-03-23T05:14:41.456Z"
   },
   {
    "duration": 186,
    "start_time": "2022-03-23T05:14:41.776Z"
   },
   {
    "duration": 1675,
    "start_time": "2022-03-23T07:28:36.948Z"
   },
   {
    "duration": 303,
    "start_time": "2022-03-23T07:28:38.625Z"
   },
   {
    "duration": 20,
    "start_time": "2022-03-23T07:28:38.931Z"
   },
   {
    "duration": 9,
    "start_time": "2022-03-23T07:28:38.954Z"
   },
   {
    "duration": 299,
    "start_time": "2022-03-23T07:28:39.328Z"
   },
   {
    "duration": 200,
    "start_time": "2022-03-23T07:28:40.365Z"
   },
   {
    "duration": 282,
    "start_time": "2022-03-23T07:28:41.450Z"
   },
   {
    "duration": 224,
    "start_time": "2022-03-23T07:28:41.734Z"
   },
   {
    "duration": 10,
    "start_time": "2022-03-23T07:28:42.801Z"
   },
   {
    "duration": 125,
    "start_time": "2022-03-23T07:30:04.479Z"
   },
   {
    "duration": 33,
    "start_time": "2022-03-23T07:31:12.028Z"
   },
   {
    "duration": 3,
    "start_time": "2022-03-23T07:31:18.501Z"
   },
   {
    "duration": 279,
    "start_time": "2022-03-23T07:31:18.864Z"
   },
   {
    "duration": 19,
    "start_time": "2022-03-23T07:31:19.238Z"
   },
   {
    "duration": 8,
    "start_time": "2022-03-23T07:31:19.781Z"
   },
   {
    "duration": 273,
    "start_time": "2022-03-23T07:31:20.838Z"
   },
   {
    "duration": 187,
    "start_time": "2022-03-23T07:31:21.832Z"
   },
   {
    "duration": 268,
    "start_time": "2022-03-23T07:31:22.772Z"
   },
   {
    "duration": 286,
    "start_time": "2022-03-23T07:31:23.042Z"
   },
   {
    "duration": 33,
    "start_time": "2022-03-23T07:31:23.333Z"
   },
   {
    "duration": 8,
    "start_time": "2022-03-23T07:31:24.119Z"
   },
   {
    "duration": 16,
    "start_time": "2022-03-23T07:32:41.567Z"
   },
   {
    "duration": 205,
    "start_time": "2022-03-23T07:33:10.488Z"
   },
   {
    "duration": 36,
    "start_time": "2022-03-23T07:33:50.859Z"
   },
   {
    "duration": 23,
    "start_time": "2022-03-23T07:34:26.316Z"
   },
   {
    "duration": 25,
    "start_time": "2022-03-23T07:37:02.927Z"
   },
   {
    "duration": 209,
    "start_time": "2022-03-23T07:38:00.346Z"
   },
   {
    "duration": 13,
    "start_time": "2022-03-23T07:39:13.138Z"
   },
   {
    "duration": 265,
    "start_time": "2022-03-23T07:41:18.950Z"
   },
   {
    "duration": 207,
    "start_time": "2022-03-23T07:41:19.230Z"
   },
   {
    "duration": 179,
    "start_time": "2022-03-23T07:47:38.585Z"
   },
   {
    "duration": 187,
    "start_time": "2022-03-23T07:48:31.070Z"
   },
   {
    "duration": 22,
    "start_time": "2022-03-23T07:48:40.298Z"
   },
   {
    "duration": 17,
    "start_time": "2022-03-23T07:48:56.354Z"
   },
   {
    "duration": 262,
    "start_time": "2022-03-23T07:49:13.893Z"
   },
   {
    "duration": 200,
    "start_time": "2022-03-23T07:49:14.173Z"
   },
   {
    "duration": 4,
    "start_time": "2022-03-23T07:49:30.713Z"
   },
   {
    "duration": 287,
    "start_time": "2022-03-23T07:49:31.093Z"
   },
   {
    "duration": 20,
    "start_time": "2022-03-23T07:49:31.447Z"
   },
   {
    "duration": 8,
    "start_time": "2022-03-23T07:49:32.081Z"
   },
   {
    "duration": 269,
    "start_time": "2022-03-23T07:49:33.137Z"
   },
   {
    "duration": 279,
    "start_time": "2022-03-23T07:49:34.104Z"
   },
   {
    "duration": 273,
    "start_time": "2022-03-23T07:49:35.015Z"
   },
   {
    "duration": 214,
    "start_time": "2022-03-23T07:49:35.291Z"
   },
   {
    "duration": 8,
    "start_time": "2022-03-23T07:49:36.403Z"
   },
   {
    "duration": 9,
    "start_time": "2022-03-23T07:49:36.597Z"
   },
   {
    "duration": 5,
    "start_time": "2022-03-23T07:49:36.799Z"
   },
   {
    "duration": 295,
    "start_time": "2022-03-23T07:49:37.071Z"
   },
   {
    "duration": 16,
    "start_time": "2022-03-23T07:49:37.369Z"
   },
   {
    "duration": 240,
    "start_time": "2022-03-23T07:49:37.396Z"
   },
   {
    "duration": 12,
    "start_time": "2022-03-23T07:49:38.437Z"
   },
   {
    "duration": 225,
    "start_time": "2022-03-23T07:49:38.607Z"
   },
   {
    "duration": 142,
    "start_time": "2022-03-23T07:49:39.687Z"
   },
   {
    "duration": 10,
    "start_time": "2022-03-23T07:49:40.101Z"
   },
   {
    "duration": 15,
    "start_time": "2022-03-23T07:49:40.494Z"
   },
   {
    "duration": 249,
    "start_time": "2022-03-23T07:49:40.732Z"
   },
   {
    "duration": 985,
    "start_time": "2022-03-23T07:49:41.759Z"
   },
   {
    "duration": 15,
    "start_time": "2022-03-23T07:49:42.746Z"
   },
   {
    "duration": 45,
    "start_time": "2022-03-23T07:49:46.083Z"
   },
   {
    "duration": 253,
    "start_time": "2022-03-23T07:49:46.287Z"
   },
   {
    "duration": 20,
    "start_time": "2022-03-23T07:49:46.844Z"
   },
   {
    "duration": 12,
    "start_time": "2022-03-23T07:49:47.427Z"
   },
   {
    "duration": 270,
    "start_time": "2022-03-23T07:49:47.833Z"
   },
   {
    "duration": 226,
    "start_time": "2022-03-23T07:49:48.250Z"
   },
   {
    "duration": 15,
    "start_time": "2022-03-23T07:51:19.972Z"
   },
   {
    "duration": 37,
    "start_time": "2022-03-23T07:51:20.976Z"
   },
   {
    "duration": 338,
    "start_time": "2022-03-23T07:51:21.828Z"
   },
   {
    "duration": 17,
    "start_time": "2022-03-23T07:51:23.031Z"
   },
   {
    "duration": 11,
    "start_time": "2022-03-23T07:51:23.605Z"
   },
   {
    "duration": 263,
    "start_time": "2022-03-23T07:51:23.956Z"
   },
   {
    "duration": 221,
    "start_time": "2022-03-23T07:51:24.311Z"
   },
   {
    "duration": 3,
    "start_time": "2022-03-23T07:52:27.882Z"
   },
   {
    "duration": 298,
    "start_time": "2022-03-23T07:52:27.888Z"
   },
   {
    "duration": 20,
    "start_time": "2022-03-23T07:52:28.188Z"
   },
   {
    "duration": 10,
    "start_time": "2022-03-23T07:52:28.210Z"
   },
   {
    "duration": 272,
    "start_time": "2022-03-23T07:52:29.256Z"
   },
   {
    "duration": 199,
    "start_time": "2022-03-23T07:52:30.253Z"
   },
   {
    "duration": 284,
    "start_time": "2022-03-23T07:52:31.230Z"
   },
   {
    "duration": 228,
    "start_time": "2022-03-23T07:52:31.516Z"
   },
   {
    "duration": 8,
    "start_time": "2022-03-23T07:52:32.595Z"
   },
   {
    "duration": 10,
    "start_time": "2022-03-23T07:52:32.798Z"
   },
   {
    "duration": 7,
    "start_time": "2022-03-23T07:52:32.996Z"
   },
   {
    "duration": 286,
    "start_time": "2022-03-23T07:52:33.267Z"
   },
   {
    "duration": 13,
    "start_time": "2022-03-23T07:52:33.555Z"
   },
   {
    "duration": 220,
    "start_time": "2022-03-23T07:52:33.622Z"
   },
   {
    "duration": 12,
    "start_time": "2022-03-23T07:52:34.622Z"
   },
   {
    "duration": 235,
    "start_time": "2022-03-23T07:52:34.840Z"
   },
   {
    "duration": 136,
    "start_time": "2022-03-23T07:52:35.877Z"
   },
   {
    "duration": 10,
    "start_time": "2022-03-23T07:52:36.282Z"
   },
   {
    "duration": 16,
    "start_time": "2022-03-23T07:52:36.718Z"
   },
   {
    "duration": 350,
    "start_time": "2022-03-23T07:52:36.918Z"
   },
   {
    "duration": 754,
    "start_time": "2022-03-23T07:52:37.991Z"
   },
   {
    "duration": 14,
    "start_time": "2022-03-23T07:52:38.747Z"
   },
   {
    "duration": 35,
    "start_time": "2022-03-23T07:52:38.822Z"
   },
   {
    "duration": 237,
    "start_time": "2022-03-23T07:52:39.342Z"
   },
   {
    "duration": 17,
    "start_time": "2022-03-23T07:52:39.958Z"
   },
   {
    "duration": 11,
    "start_time": "2022-03-23T07:52:40.630Z"
   },
   {
    "duration": 262,
    "start_time": "2022-03-23T07:52:41.069Z"
   },
   {
    "duration": 219,
    "start_time": "2022-03-23T07:52:41.559Z"
   },
   {
    "duration": 269,
    "start_time": "2022-03-23T07:53:14.106Z"
   },
   {
    "duration": 271,
    "start_time": "2022-03-23T07:53:50.154Z"
   },
   {
    "duration": 285,
    "start_time": "2022-03-23T07:54:02.263Z"
   },
   {
    "duration": 280,
    "start_time": "2022-03-23T07:54:40.367Z"
   },
   {
    "duration": 277,
    "start_time": "2022-03-23T07:55:12.905Z"
   },
   {
    "duration": 259,
    "start_time": "2022-03-23T07:55:27.758Z"
   },
   {
    "duration": 365,
    "start_time": "2022-03-23T07:56:25.902Z"
   },
   {
    "duration": 3,
    "start_time": "2022-03-23T07:56:37.816Z"
   },
   {
    "duration": 306,
    "start_time": "2022-03-23T07:56:38.182Z"
   },
   {
    "duration": 21,
    "start_time": "2022-03-23T07:56:38.536Z"
   },
   {
    "duration": 10,
    "start_time": "2022-03-23T07:56:39.079Z"
   },
   {
    "duration": 275,
    "start_time": "2022-03-23T07:56:40.119Z"
   },
   {
    "duration": 183,
    "start_time": "2022-03-23T07:56:41.053Z"
   },
   {
    "duration": 258,
    "start_time": "2022-03-23T07:56:41.988Z"
   },
   {
    "duration": 273,
    "start_time": "2022-03-23T07:56:42.248Z"
   },
   {
    "duration": 7,
    "start_time": "2022-03-23T07:56:43.363Z"
   },
   {
    "duration": 9,
    "start_time": "2022-03-23T07:56:43.541Z"
   },
   {
    "duration": 6,
    "start_time": "2022-03-23T07:56:43.743Z"
   },
   {
    "duration": 296,
    "start_time": "2022-03-23T07:56:43.939Z"
   },
   {
    "duration": 15,
    "start_time": "2022-03-23T07:56:44.236Z"
   },
   {
    "duration": 221,
    "start_time": "2022-03-23T07:56:44.336Z"
   },
   {
    "duration": 13,
    "start_time": "2022-03-23T07:56:45.300Z"
   },
   {
    "duration": 237,
    "start_time": "2022-03-23T07:56:45.499Z"
   },
   {
    "duration": 133,
    "start_time": "2022-03-23T07:56:46.472Z"
   },
   {
    "duration": 14,
    "start_time": "2022-03-23T07:56:46.859Z"
   },
   {
    "duration": 15,
    "start_time": "2022-03-23T07:56:47.267Z"
   },
   {
    "duration": 241,
    "start_time": "2022-03-23T07:56:47.480Z"
   },
   {
    "duration": 726,
    "start_time": "2022-03-23T07:56:48.475Z"
   },
   {
    "duration": 15,
    "start_time": "2022-03-23T07:56:49.203Z"
   },
   {
    "duration": 38,
    "start_time": "2022-03-23T07:56:49.276Z"
   },
   {
    "duration": 244,
    "start_time": "2022-03-23T07:56:49.464Z"
   },
   {
    "duration": 17,
    "start_time": "2022-03-23T07:56:50.069Z"
   },
   {
    "duration": 11,
    "start_time": "2022-03-23T07:56:50.646Z"
   },
   {
    "duration": 265,
    "start_time": "2022-03-23T07:56:51.041Z"
   },
   {
    "duration": 319,
    "start_time": "2022-03-23T07:56:51.523Z"
   },
   {
    "duration": 1805,
    "start_time": "2022-03-23T17:49:49.748Z"
   },
   {
    "duration": 283,
    "start_time": "2022-03-23T17:49:51.556Z"
   },
   {
    "duration": 23,
    "start_time": "2022-03-23T17:49:51.841Z"
   },
   {
    "duration": 9,
    "start_time": "2022-03-23T17:49:51.867Z"
   },
   {
    "duration": 456,
    "start_time": "2022-03-23T17:49:51.973Z"
   },
   {
    "duration": 301,
    "start_time": "2022-03-23T17:49:52.871Z"
   },
   {
    "duration": 428,
    "start_time": "2022-03-23T17:49:53.760Z"
   },
   {
    "duration": 416,
    "start_time": "2022-03-23T17:49:54.191Z"
   },
   {
    "duration": 10,
    "start_time": "2022-03-23T17:49:55.167Z"
   },
   {
    "duration": 14,
    "start_time": "2022-03-23T17:49:55.355Z"
   },
   {
    "duration": 9,
    "start_time": "2022-03-23T17:49:55.549Z"
   },
   {
    "duration": 389,
    "start_time": "2022-03-23T17:49:55.721Z"
   },
   {
    "duration": 19,
    "start_time": "2022-03-23T17:49:56.113Z"
   },
   {
    "duration": 365,
    "start_time": "2022-03-23T17:49:56.134Z"
   },
   {
    "duration": 17,
    "start_time": "2022-03-23T17:49:57.005Z"
   },
   {
    "duration": 373,
    "start_time": "2022-03-23T17:49:57.197Z"
   },
   {
    "duration": 175,
    "start_time": "2022-03-23T17:50:23.538Z"
   },
   {
    "duration": 33,
    "start_time": "2022-03-23T17:51:19.939Z"
   },
   {
    "duration": 32,
    "start_time": "2022-03-23T17:52:48.979Z"
   },
   {
    "duration": 5,
    "start_time": "2022-03-23T17:54:49.774Z"
   },
   {
    "duration": 323,
    "start_time": "2022-03-23T17:54:50.111Z"
   },
   {
    "duration": 27,
    "start_time": "2022-03-23T17:54:50.437Z"
   },
   {
    "duration": 10,
    "start_time": "2022-03-23T17:54:50.935Z"
   },
   {
    "duration": 445,
    "start_time": "2022-03-23T17:54:51.822Z"
   },
   {
    "duration": 372,
    "start_time": "2022-03-23T17:54:52.434Z"
   },
   {
    "duration": 437,
    "start_time": "2022-03-23T17:54:53.013Z"
   },
   {
    "duration": 435,
    "start_time": "2022-03-23T17:54:53.453Z"
   },
   {
    "duration": 435,
    "start_time": "2022-03-23T17:57:10.669Z"
   },
   {
    "duration": 242,
    "start_time": "2022-03-23T18:00:46.375Z"
   },
   {
    "duration": 501,
    "start_time": "2022-03-23T18:01:03.345Z"
   },
   {
    "duration": 501,
    "start_time": "2022-03-23T18:01:35.612Z"
   },
   {
    "duration": 49,
    "start_time": "2022-03-23T18:11:16.440Z"
   },
   {
    "duration": 145,
    "start_time": "2022-03-23T18:12:31.317Z"
   },
   {
    "duration": 38,
    "start_time": "2022-03-23T18:12:37.951Z"
   },
   {
    "duration": 220,
    "start_time": "2022-03-23T18:14:07.481Z"
   },
   {
    "duration": 225,
    "start_time": "2022-03-23T18:14:59.935Z"
   },
   {
    "duration": 299,
    "start_time": "2022-03-23T18:15:16.151Z"
   },
   {
    "duration": 311,
    "start_time": "2022-03-23T18:16:17.642Z"
   },
   {
    "duration": 760,
    "start_time": "2022-03-23T18:16:48.343Z"
   },
   {
    "duration": 475,
    "start_time": "2022-03-23T18:17:25.546Z"
   },
   {
    "duration": 471,
    "start_time": "2022-03-23T18:18:08.198Z"
   },
   {
    "duration": 660,
    "start_time": "2022-03-23T18:19:22.708Z"
   },
   {
    "duration": 245,
    "start_time": "2022-03-23T18:21:07.194Z"
   },
   {
    "duration": 528,
    "start_time": "2022-03-23T18:22:35.692Z"
   },
   {
    "duration": 596,
    "start_time": "2022-03-23T18:24:52.440Z"
   },
   {
    "duration": 674,
    "start_time": "2022-03-23T18:25:11.679Z"
   },
   {
    "duration": 572,
    "start_time": "2022-03-23T18:25:19.347Z"
   },
   {
    "duration": 625,
    "start_time": "2022-03-23T18:25:28.916Z"
   },
   {
    "duration": 708,
    "start_time": "2022-03-23T18:26:14.786Z"
   },
   {
    "duration": 587,
    "start_time": "2022-03-23T18:26:21.368Z"
   },
   {
    "duration": 623,
    "start_time": "2022-03-23T18:26:29.652Z"
   },
   {
    "duration": 754,
    "start_time": "2022-03-23T18:26:57.316Z"
   },
   {
    "duration": 575,
    "start_time": "2022-03-23T18:27:08.146Z"
   },
   {
    "duration": 587,
    "start_time": "2022-03-23T18:27:41.966Z"
   },
   {
    "duration": 591,
    "start_time": "2022-03-23T18:29:41.004Z"
   },
   {
    "duration": 552,
    "start_time": "2022-03-23T18:30:32.443Z"
   },
   {
    "duration": 380,
    "start_time": "2022-03-23T18:32:32.021Z"
   },
   {
    "duration": 658,
    "start_time": "2022-03-23T18:32:49.143Z"
   },
   {
    "duration": 114,
    "start_time": "2022-03-23T18:34:21.513Z"
   },
   {
    "duration": 560,
    "start_time": "2022-03-23T18:34:32.047Z"
   },
   {
    "duration": 541,
    "start_time": "2022-03-23T18:34:43.611Z"
   },
   {
    "duration": 555,
    "start_time": "2022-03-23T18:35:01.397Z"
   },
   {
    "duration": 365,
    "start_time": "2022-03-23T18:35:23.234Z"
   },
   {
    "duration": 546,
    "start_time": "2022-03-23T18:35:33.972Z"
   },
   {
    "duration": 529,
    "start_time": "2022-03-23T18:36:31.758Z"
   },
   {
    "duration": 5,
    "start_time": "2022-03-23T18:36:51.573Z"
   },
   {
    "duration": 283,
    "start_time": "2022-03-23T18:36:52.058Z"
   },
   {
    "duration": 27,
    "start_time": "2022-03-23T18:36:52.485Z"
   },
   {
    "duration": 11,
    "start_time": "2022-03-23T18:36:53.533Z"
   },
   {
    "duration": 428,
    "start_time": "2022-03-23T18:36:55.398Z"
   },
   {
    "duration": 275,
    "start_time": "2022-03-23T18:36:56.508Z"
   },
   {
    "duration": 441,
    "start_time": "2022-03-23T18:36:58.149Z"
   },
   {
    "duration": 582,
    "start_time": "2022-03-23T18:36:58.593Z"
   },
   {
    "duration": 10,
    "start_time": "2022-03-23T18:37:00.234Z"
   },
   {
    "duration": 14,
    "start_time": "2022-03-23T18:37:00.449Z"
   },
   {
    "duration": 7,
    "start_time": "2022-03-23T18:37:00.670Z"
   },
   {
    "duration": 404,
    "start_time": "2022-03-23T18:37:00.863Z"
   },
   {
    "duration": 18,
    "start_time": "2022-03-23T18:37:01.270Z"
   },
   {
    "duration": 364,
    "start_time": "2022-03-23T18:37:01.290Z"
   },
   {
    "duration": 15,
    "start_time": "2022-03-23T18:37:02.291Z"
   },
   {
    "duration": 362,
    "start_time": "2022-03-23T18:37:02.492Z"
   },
   {
    "duration": 212,
    "start_time": "2022-03-23T18:37:03.516Z"
   },
   {
    "duration": 15,
    "start_time": "2022-03-23T18:37:03.924Z"
   },
   {
    "duration": 21,
    "start_time": "2022-03-23T18:37:04.329Z"
   },
   {
    "duration": 392,
    "start_time": "2022-03-23T18:37:04.570Z"
   },
   {
    "duration": 1039,
    "start_time": "2022-03-23T18:37:05.649Z"
   },
   {
    "duration": 18,
    "start_time": "2022-03-23T18:37:06.690Z"
   },
   {
    "duration": 72,
    "start_time": "2022-03-23T18:37:06.711Z"
   },
   {
    "duration": 410,
    "start_time": "2022-03-23T18:37:06.786Z"
   },
   {
    "duration": 22,
    "start_time": "2022-03-23T18:37:07.340Z"
   },
   {
    "duration": 15,
    "start_time": "2022-03-23T18:37:07.999Z"
   },
   {
    "duration": 463,
    "start_time": "2022-03-23T18:37:08.425Z"
   },
   {
    "duration": 328,
    "start_time": "2022-03-23T18:37:08.891Z"
   },
   {
    "duration": 1585,
    "start_time": "2022-04-30T07:20:06.403Z"
   },
   {
    "duration": 379,
    "start_time": "2022-04-30T07:20:07.991Z"
   },
   {
    "duration": 28,
    "start_time": "2022-04-30T07:20:08.373Z"
   },
   {
    "duration": 10,
    "start_time": "2022-04-30T07:20:08.404Z"
   },
   {
    "duration": 508,
    "start_time": "2022-04-30T07:20:08.416Z"
   },
   {
    "duration": 305,
    "start_time": "2022-04-30T07:20:08.998Z"
   },
   {
    "duration": 451,
    "start_time": "2022-04-30T07:20:09.912Z"
   },
   {
    "duration": 662,
    "start_time": "2022-04-30T07:20:10.366Z"
   },
   {
    "duration": 0,
    "start_time": "2022-04-30T07:20:11.030Z"
   },
   {
    "duration": 0,
    "start_time": "2022-04-30T07:20:11.032Z"
   },
   {
    "duration": 12,
    "start_time": "2022-04-30T07:20:11.133Z"
   },
   {
    "duration": 12,
    "start_time": "2022-04-30T07:20:11.317Z"
   },
   {
    "duration": 19,
    "start_time": "2022-04-30T07:20:11.495Z"
   },
   {
    "duration": 350,
    "start_time": "2022-04-30T07:20:11.685Z"
   },
   {
    "duration": 15,
    "start_time": "2022-04-30T07:20:12.424Z"
   },
   {
    "duration": 368,
    "start_time": "2022-04-30T07:20:12.586Z"
   },
   {
    "duration": 219,
    "start_time": "2022-04-30T07:20:13.341Z"
   },
   {
    "duration": 20,
    "start_time": "2022-04-30T07:20:13.563Z"
   },
   {
    "duration": 20,
    "start_time": "2022-04-30T07:20:13.891Z"
   },
   {
    "duration": 384,
    "start_time": "2022-04-30T07:20:14.091Z"
   },
   {
    "duration": 1271,
    "start_time": "2022-04-30T07:20:14.878Z"
   },
   {
    "duration": 20,
    "start_time": "2022-04-30T07:20:16.153Z"
   },
   {
    "duration": 65,
    "start_time": "2022-04-30T07:20:16.175Z"
   },
   {
    "duration": 429,
    "start_time": "2022-04-30T07:20:16.243Z"
   },
   {
    "duration": 26,
    "start_time": "2022-04-30T07:20:16.675Z"
   },
   {
    "duration": 16,
    "start_time": "2022-04-30T07:20:16.703Z"
   },
   {
    "duration": 465,
    "start_time": "2022-04-30T07:20:16.771Z"
   },
   {
    "duration": 341,
    "start_time": "2022-04-30T07:20:17.239Z"
   },
   {
    "duration": 5,
    "start_time": "2022-04-30T07:20:40.436Z"
   },
   {
    "duration": 446,
    "start_time": "2022-04-30T07:20:41.372Z"
   },
   {
    "duration": 25,
    "start_time": "2022-04-30T07:20:41.828Z"
   },
   {
    "duration": 11,
    "start_time": "2022-04-30T07:20:42.170Z"
   },
   {
    "duration": 449,
    "start_time": "2022-04-30T07:20:43.146Z"
   },
   {
    "duration": 285,
    "start_time": "2022-04-30T07:20:43.988Z"
   },
   {
    "duration": 443,
    "start_time": "2022-04-30T07:20:45.071Z"
   },
   {
    "duration": 517,
    "start_time": "2022-04-30T07:20:45.517Z"
   },
   {
    "duration": 11,
    "start_time": "2022-04-30T07:20:46.192Z"
   },
   {
    "duration": 12,
    "start_time": "2022-04-30T07:20:46.441Z"
   },
   {
    "duration": 8,
    "start_time": "2022-04-30T07:20:46.668Z"
   },
   {
    "duration": 414,
    "start_time": "2022-04-30T07:20:46.890Z"
   },
   {
    "duration": 17,
    "start_time": "2022-04-30T07:20:47.307Z"
   },
   {
    "duration": 359,
    "start_time": "2022-04-30T07:20:47.377Z"
   },
   {
    "duration": 16,
    "start_time": "2022-04-30T07:20:58.198Z"
   },
   {
    "duration": 480,
    "start_time": "2022-04-30T07:20:58.388Z"
   },
   {
    "duration": 223,
    "start_time": "2022-04-30T07:20:59.130Z"
   },
   {
    "duration": 14,
    "start_time": "2022-04-30T07:20:59.356Z"
   },
   {
    "duration": 20,
    "start_time": "2022-04-30T07:20:59.677Z"
   },
   {
    "duration": 401,
    "start_time": "2022-04-30T07:20:59.865Z"
   },
   {
    "duration": 892,
    "start_time": "2022-04-30T07:21:00.630Z"
   },
   {
    "duration": 20,
    "start_time": "2022-04-30T07:21:01.524Z"
   },
   {
    "duration": 55,
    "start_time": "2022-04-30T07:21:01.546Z"
   },
   {
    "duration": 424,
    "start_time": "2022-04-30T07:21:01.604Z"
   },
   {
    "duration": 23,
    "start_time": "2022-04-30T07:21:02.030Z"
   },
   {
    "duration": 16,
    "start_time": "2022-04-30T07:21:02.169Z"
   },
   {
    "duration": 496,
    "start_time": "2022-04-30T07:21:02.613Z"
   },
   {
    "duration": 351,
    "start_time": "2022-04-30T07:21:03.111Z"
   }
  ],
  "kernelspec": {
   "display_name": "Python 3 (ipykernel)",
   "language": "python",
   "name": "python3"
  },
  "language_info": {
   "codemirror_mode": {
    "name": "ipython",
    "version": 3
   },
   "file_extension": ".py",
   "mimetype": "text/x-python",
   "name": "python",
   "nbconvert_exporter": "python",
   "pygments_lexer": "ipython3",
   "version": "3.9.5"
  },
  "toc": {
   "base_numbering": 1,
   "nav_menu": {},
   "number_sections": true,
   "sideBar": true,
   "skip_h1_title": true,
   "title_cell": "Table of Contents",
   "title_sidebar": "Contents",
   "toc_cell": false,
   "toc_position": {},
   "toc_section_display": true,
   "toc_window_display": false
  }
 },
 "nbformat": 4,
 "nbformat_minor": 2
}
