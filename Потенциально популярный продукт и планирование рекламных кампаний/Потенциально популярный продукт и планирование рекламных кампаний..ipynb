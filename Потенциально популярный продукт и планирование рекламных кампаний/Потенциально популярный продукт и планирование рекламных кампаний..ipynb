{
 "cells": [
  {
   "cell_type": "markdown",
   "metadata": {},
   "source": [
    "## Планирование рекламной кампании магазина \"Стримчик\"."
   ]
  },
  {
   "cell_type": "markdown",
   "metadata": {},
   "source": [
    "## Описание проекта.\n",
    "Нам нужно выявить определяющие успешность игры закономерности. Это позволит сделать ставку на потенциально популярный продукт и спланировать рекламные кампании."
   ]
  },
  {
   "cell_type": "markdown",
   "metadata": {},
   "source": [
    "## Шаг 1. Откройте файл с данными и изучите общую информацию"
   ]
  },
  {
   "cell_type": "code",
   "execution_count": 44,
   "metadata": {},
   "outputs": [
    {
     "name": "stdout",
     "output_type": "stream",
     "text": [
      "-----------------------------------\n",
      "              ТАБЛИЦА\n",
      "-----------------------------------\n"
     ]
    },
    {
     "data": {
      "text/html": [
       "<div>\n",
       "<style scoped>\n",
       "    .dataframe tbody tr th:only-of-type {\n",
       "        vertical-align: middle;\n",
       "    }\n",
       "\n",
       "    .dataframe tbody tr th {\n",
       "        vertical-align: top;\n",
       "    }\n",
       "\n",
       "    .dataframe thead th {\n",
       "        text-align: right;\n",
       "    }\n",
       "</style>\n",
       "<table border=\"1\" class=\"dataframe\">\n",
       "  <thead>\n",
       "    <tr style=\"text-align: right;\">\n",
       "      <th></th>\n",
       "      <th>Name</th>\n",
       "      <th>Platform</th>\n",
       "      <th>Year_of_Release</th>\n",
       "      <th>Genre</th>\n",
       "      <th>NA_sales</th>\n",
       "      <th>EU_sales</th>\n",
       "      <th>JP_sales</th>\n",
       "      <th>Other_sales</th>\n",
       "      <th>Critic_Score</th>\n",
       "      <th>User_Score</th>\n",
       "      <th>Rating</th>\n",
       "    </tr>\n",
       "  </thead>\n",
       "  <tbody>\n",
       "    <tr>\n",
       "      <th>0</th>\n",
       "      <td>Wii Sports</td>\n",
       "      <td>Wii</td>\n",
       "      <td>2006.0</td>\n",
       "      <td>Sports</td>\n",
       "      <td>41.36</td>\n",
       "      <td>28.96</td>\n",
       "      <td>3.77</td>\n",
       "      <td>8.45</td>\n",
       "      <td>76.0</td>\n",
       "      <td>8</td>\n",
       "      <td>E</td>\n",
       "    </tr>\n",
       "    <tr>\n",
       "      <th>1</th>\n",
       "      <td>Super Mario Bros.</td>\n",
       "      <td>NES</td>\n",
       "      <td>1985.0</td>\n",
       "      <td>Platform</td>\n",
       "      <td>29.08</td>\n",
       "      <td>3.58</td>\n",
       "      <td>6.81</td>\n",
       "      <td>0.77</td>\n",
       "      <td>NaN</td>\n",
       "      <td>NaN</td>\n",
       "      <td>NaN</td>\n",
       "    </tr>\n",
       "    <tr>\n",
       "      <th>2</th>\n",
       "      <td>Mario Kart Wii</td>\n",
       "      <td>Wii</td>\n",
       "      <td>2008.0</td>\n",
       "      <td>Racing</td>\n",
       "      <td>15.68</td>\n",
       "      <td>12.76</td>\n",
       "      <td>3.79</td>\n",
       "      <td>3.29</td>\n",
       "      <td>82.0</td>\n",
       "      <td>8.3</td>\n",
       "      <td>E</td>\n",
       "    </tr>\n",
       "    <tr>\n",
       "      <th>3</th>\n",
       "      <td>Wii Sports Resort</td>\n",
       "      <td>Wii</td>\n",
       "      <td>2009.0</td>\n",
       "      <td>Sports</td>\n",
       "      <td>15.61</td>\n",
       "      <td>10.93</td>\n",
       "      <td>3.28</td>\n",
       "      <td>2.95</td>\n",
       "      <td>80.0</td>\n",
       "      <td>8</td>\n",
       "      <td>E</td>\n",
       "    </tr>\n",
       "    <tr>\n",
       "      <th>4</th>\n",
       "      <td>Pokemon Red/Pokemon Blue</td>\n",
       "      <td>GB</td>\n",
       "      <td>1996.0</td>\n",
       "      <td>Role-Playing</td>\n",
       "      <td>11.27</td>\n",
       "      <td>8.89</td>\n",
       "      <td>10.22</td>\n",
       "      <td>1.00</td>\n",
       "      <td>NaN</td>\n",
       "      <td>NaN</td>\n",
       "      <td>NaN</td>\n",
       "    </tr>\n",
       "    <tr>\n",
       "      <th>...</th>\n",
       "      <td>...</td>\n",
       "      <td>...</td>\n",
       "      <td>...</td>\n",
       "      <td>...</td>\n",
       "      <td>...</td>\n",
       "      <td>...</td>\n",
       "      <td>...</td>\n",
       "      <td>...</td>\n",
       "      <td>...</td>\n",
       "      <td>...</td>\n",
       "      <td>...</td>\n",
       "    </tr>\n",
       "    <tr>\n",
       "      <th>16710</th>\n",
       "      <td>Samurai Warriors: Sanada Maru</td>\n",
       "      <td>PS3</td>\n",
       "      <td>2016.0</td>\n",
       "      <td>Action</td>\n",
       "      <td>0.00</td>\n",
       "      <td>0.00</td>\n",
       "      <td>0.01</td>\n",
       "      <td>0.00</td>\n",
       "      <td>NaN</td>\n",
       "      <td>NaN</td>\n",
       "      <td>NaN</td>\n",
       "    </tr>\n",
       "    <tr>\n",
       "      <th>16711</th>\n",
       "      <td>LMA Manager 2007</td>\n",
       "      <td>X360</td>\n",
       "      <td>2006.0</td>\n",
       "      <td>Sports</td>\n",
       "      <td>0.00</td>\n",
       "      <td>0.01</td>\n",
       "      <td>0.00</td>\n",
       "      <td>0.00</td>\n",
       "      <td>NaN</td>\n",
       "      <td>NaN</td>\n",
       "      <td>NaN</td>\n",
       "    </tr>\n",
       "    <tr>\n",
       "      <th>16712</th>\n",
       "      <td>Haitaka no Psychedelica</td>\n",
       "      <td>PSV</td>\n",
       "      <td>2016.0</td>\n",
       "      <td>Adventure</td>\n",
       "      <td>0.00</td>\n",
       "      <td>0.00</td>\n",
       "      <td>0.01</td>\n",
       "      <td>0.00</td>\n",
       "      <td>NaN</td>\n",
       "      <td>NaN</td>\n",
       "      <td>NaN</td>\n",
       "    </tr>\n",
       "    <tr>\n",
       "      <th>16713</th>\n",
       "      <td>Spirits &amp; Spells</td>\n",
       "      <td>GBA</td>\n",
       "      <td>2003.0</td>\n",
       "      <td>Platform</td>\n",
       "      <td>0.01</td>\n",
       "      <td>0.00</td>\n",
       "      <td>0.00</td>\n",
       "      <td>0.00</td>\n",
       "      <td>NaN</td>\n",
       "      <td>NaN</td>\n",
       "      <td>NaN</td>\n",
       "    </tr>\n",
       "    <tr>\n",
       "      <th>16714</th>\n",
       "      <td>Winning Post 8 2016</td>\n",
       "      <td>PSV</td>\n",
       "      <td>2016.0</td>\n",
       "      <td>Simulation</td>\n",
       "      <td>0.00</td>\n",
       "      <td>0.00</td>\n",
       "      <td>0.01</td>\n",
       "      <td>0.00</td>\n",
       "      <td>NaN</td>\n",
       "      <td>NaN</td>\n",
       "      <td>NaN</td>\n",
       "    </tr>\n",
       "  </tbody>\n",
       "</table>\n",
       "<p>16715 rows × 11 columns</p>\n",
       "</div>"
      ],
      "text/plain": [
       "                                Name Platform  Year_of_Release         Genre  \\\n",
       "0                         Wii Sports      Wii           2006.0        Sports   \n",
       "1                  Super Mario Bros.      NES           1985.0      Platform   \n",
       "2                     Mario Kart Wii      Wii           2008.0        Racing   \n",
       "3                  Wii Sports Resort      Wii           2009.0        Sports   \n",
       "4           Pokemon Red/Pokemon Blue       GB           1996.0  Role-Playing   \n",
       "...                              ...      ...              ...           ...   \n",
       "16710  Samurai Warriors: Sanada Maru      PS3           2016.0        Action   \n",
       "16711               LMA Manager 2007     X360           2006.0        Sports   \n",
       "16712        Haitaka no Psychedelica      PSV           2016.0     Adventure   \n",
       "16713               Spirits & Spells      GBA           2003.0      Platform   \n",
       "16714            Winning Post 8 2016      PSV           2016.0    Simulation   \n",
       "\n",
       "       NA_sales  EU_sales  JP_sales  Other_sales  Critic_Score User_Score  \\\n",
       "0         41.36     28.96      3.77         8.45          76.0          8   \n",
       "1         29.08      3.58      6.81         0.77           NaN        NaN   \n",
       "2         15.68     12.76      3.79         3.29          82.0        8.3   \n",
       "3         15.61     10.93      3.28         2.95          80.0          8   \n",
       "4         11.27      8.89     10.22         1.00           NaN        NaN   \n",
       "...         ...       ...       ...          ...           ...        ...   \n",
       "16710      0.00      0.00      0.01         0.00           NaN        NaN   \n",
       "16711      0.00      0.01      0.00         0.00           NaN        NaN   \n",
       "16712      0.00      0.00      0.01         0.00           NaN        NaN   \n",
       "16713      0.01      0.00      0.00         0.00           NaN        NaN   \n",
       "16714      0.00      0.00      0.01         0.00           NaN        NaN   \n",
       "\n",
       "      Rating  \n",
       "0          E  \n",
       "1        NaN  \n",
       "2          E  \n",
       "3          E  \n",
       "4        NaN  \n",
       "...      ...  \n",
       "16710    NaN  \n",
       "16711    NaN  \n",
       "16712    NaN  \n",
       "16713    NaN  \n",
       "16714    NaN  \n",
       "\n",
       "[16715 rows x 11 columns]"
      ]
     },
     "metadata": {},
     "output_type": "display_data"
    },
    {
     "name": "stdout",
     "output_type": "stream",
     "text": [
      "-----------------------------------\n",
      "         ОБЩАЯ ИНФОРМАЦИЯ\n",
      "-----------------------------------\n",
      "<class 'pandas.core.frame.DataFrame'>\n",
      "RangeIndex: 16715 entries, 0 to 16714\n",
      "Data columns (total 11 columns):\n",
      " #   Column           Non-Null Count  Dtype  \n",
      "---  ------           --------------  -----  \n",
      " 0   Name             16713 non-null  object \n",
      " 1   Platform         16715 non-null  object \n",
      " 2   Year_of_Release  16446 non-null  float64\n",
      " 3   Genre            16713 non-null  object \n",
      " 4   NA_sales         16715 non-null  float64\n",
      " 5   EU_sales         16715 non-null  float64\n",
      " 6   JP_sales         16715 non-null  float64\n",
      " 7   Other_sales      16715 non-null  float64\n",
      " 8   Critic_Score     8137 non-null   float64\n",
      " 9   User_Score       10014 non-null  object \n",
      " 10  Rating           9949 non-null   object \n",
      "dtypes: float64(6), object(5)\n",
      "memory usage: 1.4+ MB\n",
      "-----------------------------------\n",
      "       НАЗВАНИЯ СТОЛБЦОВ\n",
      "-----------------------------------\n",
      "Index(['Name', 'Platform', 'Year_of_Release', 'Genre', 'NA_sales', 'EU_sales',\n",
      "       'JP_sales', 'Other_sales', 'Critic_Score', 'User_Score', 'Rating'],\n",
      "      dtype='object')\n"
     ]
    }
   ],
   "source": [
    "import pandas as pd\n",
    "import numpy as np\n",
    "from scipy import stats as st\n",
    "import matplotlib.pyplot as plt\n",
    "from matplotlib import pyplot\n",
    "from scipy.stats import levene\n",
    "import seaborn as sns\n",
    "import plotly.express as px\n",
    "df = pd.read_csv('/datasets/games.csv')\n",
    "print('-----------------------------------')\n",
    "print('              ТАБЛИЦА')\n",
    "print('-----------------------------------')\n",
    "display(df)\n",
    "print('-----------------------------------')\n",
    "print('         ОБЩАЯ ИНФОРМАЦИЯ')\n",
    "print('-----------------------------------')\n",
    "df.info()\n",
    "print('-----------------------------------')\n",
    "print('       НАЗВАНИЯ СТОЛБЦОВ')\n",
    "print('-----------------------------------')\n",
    "cols = df.columns \n",
    "print(cols)"
   ]
  },
  {
   "cell_type": "markdown",
   "metadata": {},
   "source": [
    "## Предобработка данных"
   ]
  },
  {
   "cell_type": "code",
   "execution_count": 45,
   "metadata": {},
   "outputs": [
    {
     "name": "stdout",
     "output_type": "stream",
     "text": [
      "-----------------------------------\n",
      "ТАБЛИЦА ПОСЛЕ ИЗМЕНЕНИЙ\n",
      "-----------------------------------\n"
     ]
    },
    {
     "data": {
      "text/html": [
       "<div>\n",
       "<style scoped>\n",
       "    .dataframe tbody tr th:only-of-type {\n",
       "        vertical-align: middle;\n",
       "    }\n",
       "\n",
       "    .dataframe tbody tr th {\n",
       "        vertical-align: top;\n",
       "    }\n",
       "\n",
       "    .dataframe thead th {\n",
       "        text-align: right;\n",
       "    }\n",
       "</style>\n",
       "<table border=\"1\" class=\"dataframe\">\n",
       "  <thead>\n",
       "    <tr style=\"text-align: right;\">\n",
       "      <th></th>\n",
       "      <th>name</th>\n",
       "      <th>platform</th>\n",
       "      <th>year_of_release</th>\n",
       "      <th>genre</th>\n",
       "      <th>na_sales</th>\n",
       "      <th>eu_sales</th>\n",
       "      <th>jp_sales</th>\n",
       "      <th>other_sales</th>\n",
       "      <th>critic_score</th>\n",
       "      <th>user_score</th>\n",
       "      <th>rating</th>\n",
       "    </tr>\n",
       "  </thead>\n",
       "  <tbody>\n",
       "    <tr>\n",
       "      <th>0</th>\n",
       "      <td>Wii Sports</td>\n",
       "      <td>Wii</td>\n",
       "      <td>2006</td>\n",
       "      <td>Sports</td>\n",
       "      <td>41.36</td>\n",
       "      <td>28.96</td>\n",
       "      <td>3.77</td>\n",
       "      <td>8.45</td>\n",
       "      <td>76.0</td>\n",
       "      <td>8.0</td>\n",
       "      <td>E</td>\n",
       "    </tr>\n",
       "    <tr>\n",
       "      <th>1</th>\n",
       "      <td>Super Mario Bros.</td>\n",
       "      <td>NES</td>\n",
       "      <td>1985</td>\n",
       "      <td>Platform</td>\n",
       "      <td>29.08</td>\n",
       "      <td>3.58</td>\n",
       "      <td>6.81</td>\n",
       "      <td>0.77</td>\n",
       "      <td>NaN</td>\n",
       "      <td>NaN</td>\n",
       "      <td>NaN</td>\n",
       "    </tr>\n",
       "    <tr>\n",
       "      <th>2</th>\n",
       "      <td>Mario Kart Wii</td>\n",
       "      <td>Wii</td>\n",
       "      <td>2008</td>\n",
       "      <td>Racing</td>\n",
       "      <td>15.68</td>\n",
       "      <td>12.76</td>\n",
       "      <td>3.79</td>\n",
       "      <td>3.29</td>\n",
       "      <td>82.0</td>\n",
       "      <td>8.3</td>\n",
       "      <td>E</td>\n",
       "    </tr>\n",
       "    <tr>\n",
       "      <th>3</th>\n",
       "      <td>Wii Sports Resort</td>\n",
       "      <td>Wii</td>\n",
       "      <td>2009</td>\n",
       "      <td>Sports</td>\n",
       "      <td>15.61</td>\n",
       "      <td>10.93</td>\n",
       "      <td>3.28</td>\n",
       "      <td>2.95</td>\n",
       "      <td>80.0</td>\n",
       "      <td>8.0</td>\n",
       "      <td>E</td>\n",
       "    </tr>\n",
       "    <tr>\n",
       "      <th>4</th>\n",
       "      <td>Pokemon Red/Pokemon Blue</td>\n",
       "      <td>GB</td>\n",
       "      <td>1996</td>\n",
       "      <td>Role-Playing</td>\n",
       "      <td>11.27</td>\n",
       "      <td>8.89</td>\n",
       "      <td>10.22</td>\n",
       "      <td>1.00</td>\n",
       "      <td>NaN</td>\n",
       "      <td>NaN</td>\n",
       "      <td>NaN</td>\n",
       "    </tr>\n",
       "    <tr>\n",
       "      <th>...</th>\n",
       "      <td>...</td>\n",
       "      <td>...</td>\n",
       "      <td>...</td>\n",
       "      <td>...</td>\n",
       "      <td>...</td>\n",
       "      <td>...</td>\n",
       "      <td>...</td>\n",
       "      <td>...</td>\n",
       "      <td>...</td>\n",
       "      <td>...</td>\n",
       "      <td>...</td>\n",
       "    </tr>\n",
       "    <tr>\n",
       "      <th>16710</th>\n",
       "      <td>Samurai Warriors: Sanada Maru</td>\n",
       "      <td>PS3</td>\n",
       "      <td>2016</td>\n",
       "      <td>Action</td>\n",
       "      <td>0.00</td>\n",
       "      <td>0.00</td>\n",
       "      <td>0.01</td>\n",
       "      <td>0.00</td>\n",
       "      <td>NaN</td>\n",
       "      <td>NaN</td>\n",
       "      <td>NaN</td>\n",
       "    </tr>\n",
       "    <tr>\n",
       "      <th>16711</th>\n",
       "      <td>LMA Manager 2007</td>\n",
       "      <td>X360</td>\n",
       "      <td>2006</td>\n",
       "      <td>Sports</td>\n",
       "      <td>0.00</td>\n",
       "      <td>0.01</td>\n",
       "      <td>0.00</td>\n",
       "      <td>0.00</td>\n",
       "      <td>NaN</td>\n",
       "      <td>NaN</td>\n",
       "      <td>NaN</td>\n",
       "    </tr>\n",
       "    <tr>\n",
       "      <th>16712</th>\n",
       "      <td>Haitaka no Psychedelica</td>\n",
       "      <td>PSV</td>\n",
       "      <td>2016</td>\n",
       "      <td>Adventure</td>\n",
       "      <td>0.00</td>\n",
       "      <td>0.00</td>\n",
       "      <td>0.01</td>\n",
       "      <td>0.00</td>\n",
       "      <td>NaN</td>\n",
       "      <td>NaN</td>\n",
       "      <td>NaN</td>\n",
       "    </tr>\n",
       "    <tr>\n",
       "      <th>16713</th>\n",
       "      <td>Spirits &amp; Spells</td>\n",
       "      <td>GBA</td>\n",
       "      <td>2003</td>\n",
       "      <td>Platform</td>\n",
       "      <td>0.01</td>\n",
       "      <td>0.00</td>\n",
       "      <td>0.00</td>\n",
       "      <td>0.00</td>\n",
       "      <td>NaN</td>\n",
       "      <td>NaN</td>\n",
       "      <td>NaN</td>\n",
       "    </tr>\n",
       "    <tr>\n",
       "      <th>16714</th>\n",
       "      <td>Winning Post 8 2016</td>\n",
       "      <td>PSV</td>\n",
       "      <td>2016</td>\n",
       "      <td>Simulation</td>\n",
       "      <td>0.00</td>\n",
       "      <td>0.00</td>\n",
       "      <td>0.01</td>\n",
       "      <td>0.00</td>\n",
       "      <td>NaN</td>\n",
       "      <td>NaN</td>\n",
       "      <td>NaN</td>\n",
       "    </tr>\n",
       "  </tbody>\n",
       "</table>\n",
       "<p>16715 rows × 11 columns</p>\n",
       "</div>"
      ],
      "text/plain": [
       "                                name platform  year_of_release         genre  \\\n",
       "0                         Wii Sports      Wii             2006        Sports   \n",
       "1                  Super Mario Bros.      NES             1985      Platform   \n",
       "2                     Mario Kart Wii      Wii             2008        Racing   \n",
       "3                  Wii Sports Resort      Wii             2009        Sports   \n",
       "4           Pokemon Red/Pokemon Blue       GB             1996  Role-Playing   \n",
       "...                              ...      ...              ...           ...   \n",
       "16710  Samurai Warriors: Sanada Maru      PS3             2016        Action   \n",
       "16711               LMA Manager 2007     X360             2006        Sports   \n",
       "16712        Haitaka no Psychedelica      PSV             2016     Adventure   \n",
       "16713               Spirits & Spells      GBA             2003      Platform   \n",
       "16714            Winning Post 8 2016      PSV             2016    Simulation   \n",
       "\n",
       "       na_sales  eu_sales  jp_sales  other_sales  critic_score  user_score  \\\n",
       "0         41.36     28.96      3.77         8.45          76.0         8.0   \n",
       "1         29.08      3.58      6.81         0.77           NaN         NaN   \n",
       "2         15.68     12.76      3.79         3.29          82.0         8.3   \n",
       "3         15.61     10.93      3.28         2.95          80.0         8.0   \n",
       "4         11.27      8.89     10.22         1.00           NaN         NaN   \n",
       "...         ...       ...       ...          ...           ...         ...   \n",
       "16710      0.00      0.00      0.01         0.00           NaN         NaN   \n",
       "16711      0.00      0.01      0.00         0.00           NaN         NaN   \n",
       "16712      0.00      0.00      0.01         0.00           NaN         NaN   \n",
       "16713      0.01      0.00      0.00         0.00           NaN         NaN   \n",
       "16714      0.00      0.00      0.01         0.00           NaN         NaN   \n",
       "\n",
       "      rating  \n",
       "0          E  \n",
       "1        NaN  \n",
       "2          E  \n",
       "3          E  \n",
       "4        NaN  \n",
       "...      ...  \n",
       "16710    NaN  \n",
       "16711    NaN  \n",
       "16712    NaN  \n",
       "16713    NaN  \n",
       "16714    NaN  \n",
       "\n",
       "[16715 rows x 11 columns]"
      ]
     },
     "metadata": {},
     "output_type": "display_data"
    },
    {
     "name": "stdout",
     "output_type": "stream",
     "text": [
      "-----------------------------------\n",
      "ПОДСЧЁТ ПРОПУЩЕННЫХ ЗНАЧЕНИЙ\n",
      "-----------------------------------\n",
      "name                  2\n",
      "platform              0\n",
      "year_of_release     269\n",
      "genre                 0\n",
      "na_sales              0\n",
      "eu_sales              0\n",
      "jp_sales              0\n",
      "other_sales           0\n",
      "critic_score       8578\n",
      "user_score         9125\n",
      "rating             6766\n",
      "dtype: int64\n",
      "-----------------------------------\n",
      "ОБЩАЯ ИНФОРМАЦИЯ\n",
      "-----------------------------------\n",
      "<class 'pandas.core.frame.DataFrame'>\n",
      "RangeIndex: 16715 entries, 0 to 16714\n",
      "Data columns (total 11 columns):\n",
      " #   Column           Non-Null Count  Dtype  \n",
      "---  ------           --------------  -----  \n",
      " 0   name             16713 non-null  object \n",
      " 1   platform         16715 non-null  object \n",
      " 2   year_of_release  16446 non-null  Int64  \n",
      " 3   genre            16715 non-null  object \n",
      " 4   na_sales         16715 non-null  float64\n",
      " 5   eu_sales         16715 non-null  float64\n",
      " 6   jp_sales         16715 non-null  float64\n",
      " 7   other_sales      16715 non-null  float64\n",
      " 8   critic_score     8137 non-null   float64\n",
      " 9   user_score       7590 non-null   float64\n",
      " 10  rating           9949 non-null   object \n",
      "dtypes: Int64(1), float64(6), object(4)\n",
      "memory usage: 1.4+ MB\n"
     ]
    }
   ],
   "source": [
    "df.columns = df.columns.str.lower()# Привёл названия столбцов к нижнему регистру\n",
    "df['user_score'] = df['user_score'].replace('tbd', 'NaN') # Замена значения tbd на Nan \n",
    "df['year_of_release'] = df['year_of_release'].astype('Int64') # Перевёл года в формат Int64\n",
    "df['user_score'] = df['user_score'].astype('float')# Перевёл оценки пользователей в формат Float64\n",
    "df['genre'] = df['genre'].fillna(value='NoName') # заменил Nan на \"NoName\"\n",
    "print('-----------------------------------')\n",
    "print('ТАБЛИЦА ПОСЛЕ ИЗМЕНЕНИЙ')\n",
    "print('-----------------------------------')\n",
    "display(df)\n",
    "print('-----------------------------------')\n",
    "print('ПОДСЧЁТ ПРОПУЩЕННЫХ ЗНАЧЕНИЙ')\n",
    "print('-----------------------------------')\n",
    "print(df.isna().sum()) # Подсчёт пропущенных значений\n",
    "print('-----------------------------------')\n",
    "print('ОБЩАЯ ИНФОРМАЦИЯ')\n",
    "print('-----------------------------------')\n",
    "df.info()"
   ]
  },
  {
   "cell_type": "markdown",
   "metadata": {},
   "source": [
    "<div class=\"alert alert-info\" style=\"border-radius: 15px; box-shadow: 4px 4px 4px;border: 1px solid \">\n",
    "<b> Комментарий студента</b>\n",
    "1: Столбец \"name\" нет возможности заполнить пропуски так как это название игр и по сути уникальное значение.\n",
    "2: Столбец \"year_of_release\" с годами тоже не стоит заполнять, мы не можем быть уверенны что поставленный нами год будет верный что исказит результаты исследования.\n",
    "3: Столбец \"genre\" с жанрами нет возможности заполнить так жанры можно считать уникальным значением и их всего 2 что не повлияет на наши результаты.   \n",
    "4: Столбец \"critic_score\" нет возможности заполнить пропуски так как это оценка критиков и мы не можем знать наверняка какю оценку поставил тот или иной критик и замна пропусков может привести к искажению исследования.  \n",
    "5: Столбец \"user_score\" нет возможности заполнить пропуски так как это оценка пользователей и опять же будет не корректно заполнять их какими либо занчениями так как может иссказить результаты.\n",
    "6: Столбец \"rating\" нет возможности заполнить пропуски так как это рейтинг игры.\n",
    "7: В остальных столбцах пропуски отсутствуют."
   ]
  },
  {
   "cell_type": "markdown",
   "metadata": {},
   "source": [
    "## Суммарные продажи во всех регионах."
   ]
  },
  {
   "cell_type": "code",
   "execution_count": 46,
   "metadata": {},
   "outputs": [
    {
     "name": "stdout",
     "output_type": "stream",
     "text": [
      "-----------------------------------\n",
      "СУММАРНЫЕ ПРОДАЖИ ВО ВСЕХ РЕГИОНАХ\n",
      "-----------------------------------\n"
     ]
    },
    {
     "data": {
      "text/plain": [
       "0        82.54\n",
       "1        40.24\n",
       "2        35.52\n",
       "3        32.77\n",
       "4        31.38\n",
       "         ...  \n",
       "16710     0.01\n",
       "16711     0.01\n",
       "16712     0.01\n",
       "16713     0.01\n",
       "16714     0.01\n",
       "Name: sum_sales, Length: 16715, dtype: float64"
      ]
     },
     "metadata": {},
     "output_type": "display_data"
    }
   ],
   "source": [
    "df['sum_sales'] = df['eu_sales'] + df['other_sales'] + df['jp_sales'] + df['na_sales'] # Суммарные продажи во всех регионах\n",
    "print('-----------------------------------')\n",
    "print('СУММАРНЫЕ ПРОДАЖИ ВО ВСЕХ РЕГИОНАХ')\n",
    "print('-----------------------------------')\n",
    "display(df['sum_sales'])"
   ]
  },
  {
   "cell_type": "markdown",
   "metadata": {},
   "source": [
    "##  Cколько игр выпускалось в разные годы."
   ]
  },
  {
   "cell_type": "code",
   "execution_count": 47,
   "metadata": {},
   "outputs": [
    {
     "data": {
      "image/png": "[encoded data removed]",
      "text/plain": [
       "<Figure size 756x360 with 1 Axes>"
      ]
     },
     "metadata": {
      "needs_background": "light"
     },
     "output_type": "display_data"
    },
    {
     "name": "stdout",
     "output_type": "stream",
     "text": [
      "-------------------------------------------\n",
      "КОЛИЧЕСТВО ИГР ВЫПУСКАВШИЕСЯ В РАЗНЫЕ ГОДЫ\n",
      "-------------------------------------------\n"
     ]
    },
    {
     "data": {
      "text/html": [
       "<div>\n",
       "<style scoped>\n",
       "    .dataframe tbody tr th:only-of-type {\n",
       "        vertical-align: middle;\n",
       "    }\n",
       "\n",
       "    .dataframe tbody tr th {\n",
       "        vertical-align: top;\n",
       "    }\n",
       "\n",
       "    .dataframe thead th {\n",
       "        text-align: right;\n",
       "    }\n",
       "</style>\n",
       "<table border=\"1\" class=\"dataframe\">\n",
       "  <thead>\n",
       "    <tr style=\"text-align: right;\">\n",
       "      <th></th>\n",
       "      <th>name</th>\n",
       "    </tr>\n",
       "    <tr>\n",
       "      <th>year_of_release</th>\n",
       "      <th></th>\n",
       "    </tr>\n",
       "  </thead>\n",
       "  <tbody>\n",
       "    <tr>\n",
       "      <th>1980</th>\n",
       "      <td>9</td>\n",
       "    </tr>\n",
       "    <tr>\n",
       "      <th>1981</th>\n",
       "      <td>46</td>\n",
       "    </tr>\n",
       "    <tr>\n",
       "      <th>1982</th>\n",
       "      <td>36</td>\n",
       "    </tr>\n",
       "    <tr>\n",
       "      <th>1983</th>\n",
       "      <td>17</td>\n",
       "    </tr>\n",
       "    <tr>\n",
       "      <th>1984</th>\n",
       "      <td>14</td>\n",
       "    </tr>\n",
       "  </tbody>\n",
       "</table>\n",
       "</div>"
      ],
      "text/plain": [
       "                 name\n",
       "year_of_release      \n",
       "1980                9\n",
       "1981               46\n",
       "1982               36\n",
       "1983               17\n",
       "1984               14"
      ]
     },
     "metadata": {},
     "output_type": "display_data"
    }
   ],
   "source": [
    "(df.groupby(['year_of_release'])\\\n",
    "                  .agg({'name':'count'})\n",
    "                  .plot(kind = 'bar',title = 'КОЛИЧЕСТВО ИГР ВЫПУСКАВШИЕСЯ В РАЗНЫЕ ГОДЫ',color = '#32CD32',figsize=(10.5,5),grid =True))\n",
    "plt.show()\n",
    "name_count = df.groupby(['year_of_release'])\\\n",
    "                  .agg({'name':'count'})\n",
    "print('-------------------------------------------')\n",
    "print('КОЛИЧЕСТВО ИГР ВЫПУСКАВШИЕСЯ В РАЗНЫЕ ГОДЫ')\n",
    "print('-------------------------------------------')\n",
    "display(name_count.head(5))"
   ]
  },
  {
   "cell_type": "markdown",
   "metadata": {},
   "source": [
    "<div class=\"alert alert-info\" style=\"border-radius: 15px; box-shadow: 4px 4px 4px;border: 1px solid \">\n",
    "<b> Комментарий студента</b>\n",
    "Пиковым значение для выпуска игр можно считать годы начиная с 2002, данные до 1994 года можно считать не существенными)"
   ]
  },
  {
   "cell_type": "markdown",
   "metadata": {},
   "source": [
    "## Kак менялись продажи по платформам."
   ]
  },
  {
   "cell_type": "code",
   "execution_count": 48,
   "metadata": {},
   "outputs": [
    {
     "data": {
      "text/plain": [
       "<AxesSubplot:title={'center':'ЛИДЕРЫ ПРОДАЖ'}, xlabel='platform'>"
      ]
     },
     "execution_count": 48,
     "metadata": {},
     "output_type": "execute_result"
    },
    {
     "data": {
      "image/png": "[encoded data removed]",
      "text/plain": [
       "<Figure size 756x360 with 1 Axes>"
      ]
     },
     "metadata": {
      "needs_background": "light"
     },
     "output_type": "display_data"
    },
    {
     "data": {
      "image/png": "[encoded data removed]",
      "text/plain": [
       "<Figure size 756x360 with 1 Axes>"
      ]
     },
     "metadata": {
      "needs_background": "light"
     },
     "output_type": "display_data"
    }
   ],
   "source": [
    "(df.groupby(['platform'])\\\n",
    "                  .agg({'sum_sales':'sum'}).sort_values(by = 'sum_sales',ascending=False)\n",
    "                  .plot(kind = 'bar',title = 'ГРАФИК ПРОДАЖ ДЛЯ ПЛАТФОРМ',color = '#32CD32',figsize=(10.5,5),grid =True))\n",
    "(df.groupby(['platform'])\\\n",
    "                  .agg({'sum_sales':'sum'}).sort_values(by = 'sum_sales',ascending=False).head(6)\n",
    "                  .plot(kind = 'bar',title = 'ЛИДЕРЫ ПРОДАЖ',color = '#00FF7F',figsize=(10.5,5),grid =True))"
   ]
  },
  {
   "cell_type": "code",
   "execution_count": 49,
   "metadata": {},
   "outputs": [
    {
     "data": {
      "image/png": "[encoded data removed]",
      "text/plain": [
       "<Figure size 756x360 with 1 Axes>"
      ]
     },
     "metadata": {
      "needs_background": "light"
     },
     "output_type": "display_data"
    },
    {
     "data": {
      "image/png": "[encoded data removed]",
      "text/plain": [
       "<Figure size 756x360 with 1 Axes>"
      ]
     },
     "metadata": {
      "needs_background": "light"
     },
     "output_type": "display_data"
    },
    {
     "data": {
      "image/png": "[encoded data removed]",
      "text/plain": [
       "<Figure size 756x360 with 1 Axes>"
      ]
     },
     "metadata": {
      "needs_background": "light"
     },
     "output_type": "display_data"
    },
    {
     "data": {
      "image/png": "[encoded data removed]",
      "text/plain": [
       "<Figure size 756x360 with 1 Axes>"
      ]
     },
     "metadata": {
      "needs_background": "light"
     },
     "output_type": "display_data"
    },
    {
     "data": {
      "image/png": "[encoded data removed]",
      "text/plain": [
       "<Figure size 756x360 with 1 Axes>"
      ]
     },
     "metadata": {
      "needs_background": "light"
     },
     "output_type": "display_data"
    },
    {
     "data": {
      "image/png": "[encoded data removed]",
      "text/plain": [
       "<Figure size 756x360 with 1 Axes>"
      ]
     },
     "metadata": {
      "needs_background": "light"
     },
     "output_type": "display_data"
    }
   ],
   "source": [
    "# PS2\n",
    "(df.query('platform  == \"PS2\"')\n",
    "             .pivot_table(index = 'year_of_release',\n",
    "              values = 'sum_sales', aggfunc='sum')\n",
    "             .plot(kind = 'bar',color = '#9932CC',grid =True,\n",
    "             figsize=(10.5,5),title = 'ГРАФИК ДЛЯ PS2'))  \n",
    "# X360\n",
    "(df.query('platform  == \"X360\"')\n",
    "             .pivot_table(index = 'year_of_release',\n",
    "              values = 'sum_sales', aggfunc='sum')\n",
    "             .plot(kind = 'bar',color = '#00FFFF',grid =True,\n",
    "             figsize=(10.5,5),title = 'ГРАФИК ДЛЯ X360'))  \n",
    "\n",
    "# PS3\n",
    "(df.query('platform  == \"PS3\"')\n",
    "             .pivot_table(index = 'year_of_release',\n",
    "              values = 'sum_sales', aggfunc='sum')\n",
    "             .plot(kind = 'bar',color = '#FFFF00',grid =True,\n",
    "             figsize=(10.5,5),title = 'ГРАФИК ДЛЯ PS3')) \n",
    "\n",
    "\n",
    "# Wii\n",
    "(df.query('platform  == \"Wii\"')\n",
    "             .pivot_table(index = 'year_of_release',\n",
    "              values = 'sum_sales', aggfunc='sum')\n",
    "             .plot(kind = 'bar',color = '#FF8C00',grid =True,\n",
    "             figsize=(10.5,5),title = 'ГРАФИК ДЛЯ Wii')) \n",
    "\n",
    "# DS\n",
    "(df.query('platform  == \"DS\"')\n",
    "             .pivot_table(index = 'year_of_release',\n",
    "              values = 'sum_sales', aggfunc='sum')\n",
    "             .plot(kind = 'bar',color = '#00008B',grid =True,\n",
    "             figsize=(10.5,5),title = 'ГРАФИК ДЛЯ DS')) \n",
    "\n",
    "# PS\n",
    "(df.query('platform  == \"PS\"')\n",
    "             .pivot_table(index = 'year_of_release',\n",
    "              values = 'sum_sales', aggfunc='sum')\n",
    "             .plot(kind = 'bar',color = '#a900fe',grid =True,\n",
    "             figsize=(10.5,5),title = 'ГРАФИК ДЛЯ PS')) \n",
    "plt.show()\n"
   ]
  },
  {
   "cell_type": "markdown",
   "metadata": {},
   "source": [
    "<div class=\"alert alert-info\" style=\"border-radius: 15px; box-shadow: 4px 4px 4px;border: 1px solid \">\n",
    "<b> Комментарий студента</b>\n",
    "В среднем срок службы одной платформы 10-11 лет, но есть данные по такой платформе как DS. выпущенна которая была аж в 1985 году,\n",
    "но затем данных нет.\n",
    "</div>   "
   ]
  },
  {
   "cell_type": "markdown",
   "metadata": {},
   "source": [
    "##  Потенциально прибыльные платформы.\n",
    "\n"
   ]
  },
  {
   "cell_type": "code",
   "execution_count": 50,
   "metadata": {},
   "outputs": [
    {
     "data": {
      "image/png": "[encoded data removed]",
      "text/plain": [
       "<Figure size 756x360 with 1 Axes>"
      ]
     },
     "metadata": {
      "needs_background": "light"
     },
     "output_type": "display_data"
    }
   ],
   "source": [
    "df_query = df.query('2012 <= year_of_release <= 2015')\n",
    "df_query_platform_sale = (df_query.groupby(['platform','year_of_release'])\\\n",
    "                  .agg({'sum_sales':'sum'})\n",
    "                  .plot(kind = 'bar',color = '#a900fe',grid =True,\n",
    "                   figsize=(10.5,5),title = 'ПОТЕНЦИАЛЬНО ПРИБЫЛЬНЫЕ ПЛАТФОРМЫ С 2014 ГОДА И ПОСЛЕ')) "
   ]
  },
  {
   "cell_type": "markdown",
   "metadata": {},
   "source": [
    "<div class=\"alert alert-info\" style=\"border-radius: 15px; box-shadow: 4px 4px 4px;border: 1px solid \">\n",
    "<b> Комментарий студента</b>\n",
    "Все платформы за исключением X-One и PS4 показывают стойкий спад от года в год.\n",
    "X-One и PS4 можно считать потенциально выгодными платформами.    \n",
    "</div>   "
   ]
  },
  {
   "cell_type": "markdown",
   "metadata": {},
   "source": [
    "## «Ящик с усами» по глобальным продажам потенциально прибыльных платформ."
   ]
  },
  {
   "cell_type": "code",
   "execution_count": 51,
   "metadata": {},
   "outputs": [
    {
     "data": {
      "text/plain": [
       "Text(0, 0.5, 'Глобальные продажи')"
      ]
     },
     "execution_count": 51,
     "metadata": {},
     "output_type": "execute_result"
    },
    {
     "data": {
      "image/png": "[encoded data removed]",
      "text/plain": [
       "<Figure size 864x720 with 1 Axes>"
      ]
     },
     "metadata": {
      "needs_background": "light"
     },
     "output_type": "display_data"
    }
   ],
   "source": [
    "\n",
    "games_top_2_platforms = df_query[df_query['platform'].isin(['PS4','XOne'])]\n",
    "\n",
    "plt.figure(figsize=(12,10))\n",
    "sns.boxplot(data=games_top_2_platforms, x='platform', y='sum_sales')\n",
    "plt.title('Ящик с усами', fontsize=15)\n",
    "plt.xlabel('Платформа', fontsize=12)\n",
    "plt.ylabel('Глобальные продажи',fontsize=12)\n"
   ]
  },
  {
   "cell_type": "markdown",
   "metadata": {},
   "source": [
    "<div class=\"alert alert-info\"style=\"border-radius: 10px; box-shadow: 2px 2px 2px;border: 1px solid \">\n",
    "<b> Комментарий студента</b>\n",
    " Мы видим что основные значения для PS4 лежат в пределах 0.3, но так же велик разброс   вплоть до 14.6.\n",
    " Мы видим что основные занчения для X-One лежат в пределах 0.35, но так же большой разброс вплоть до 7.3\n",
    "</div>   "
   ]
  },
  {
   "cell_type": "markdown",
   "metadata": {},
   "source": [
    "## Kак влияют на продажи внутри одной популярной платформы отзывы пользователей и критиков."
   ]
  },
  {
   "cell_type": "code",
   "execution_count": 52,
   "metadata": {},
   "outputs": [
    {
     "data": {
      "image/png": "[encoded data removed]",
      "text/plain": [
       "<Figure size 756x360 with 1 Axes>"
      ]
     },
     "metadata": {
      "needs_background": "light"
     },
     "output_type": "display_data"
    },
    {
     "name": "stdout",
     "output_type": "stream",
     "text": [
      "                      ----------------------------------------------\n",
      "                  КОЭФФИЦИЕНТ ПИРСОНА КРИТИКИ - PS4: 0.4318482049982005\n",
      "                      ----------------------------------------------\n"
     ]
    },
    {
     "data": {
      "image/png": "[encoded data removed]",
      "text/plain": [
       "<Figure size 756x360 with 1 Axes>"
      ]
     },
     "metadata": {
      "needs_background": "light"
     },
     "output_type": "display_data"
    },
    {
     "name": "stdout",
     "output_type": "stream",
     "text": [
      "                      ----------------------------------------------\n",
      "                  КОЭФФИЦИЕНТ ПИРСОНА ПОЛЬЗОВАТЕЛИ - PS4: 0.024230832360622557\n",
      "                      ----------------------------------------------\n"
     ]
    }
   ],
   "source": [
    "data_ps4 = df_query.query('platform  == \"PS4\"')\n",
    "\n",
    "(data_ps4.plot(x='critic_score', y='sum_sales', kind='scatter', figsize=(10.5,5),\n",
    "              color = '#9932CC',title = 'ГРАФИК КОРРЕЛЯЦИИ ПРОДАЖ И ОТЗЫВОВ КРИТИКОВ ДЛЯ PS4', grid =True))\n",
    "plt.show()\n",
    "print('                      ----------------------------------------------')\n",
    "print('                  КОЭФФИЦИЕНТ ПИРСОНА КРИТИКИ - PS4:',data_ps4['critic_score'].corr(data_ps4['sum_sales'])) # Кореляция\n",
    "print('                      ----------------------------------------------')\n",
    "\n",
    "\n",
    "(data_ps4.plot(x='user_score', y='sum_sales', kind='scatter', figsize=(10.5,5),\n",
    "              color = '#00008B',title = 'ГРАФИК КОРРЕЛЯЦИИ ПРОДАЖ И ОТЗЫВОВ ПОЛЬЗОВАТЕЛЕЙ ДЛЯ PS4', grid =True))\n",
    "plt.show()\n",
    "print('                      ----------------------------------------------')\n",
    "print('                  КОЭФФИЦИЕНТ ПИРСОНА ПОЛЬЗОВАТЕЛИ - PS4:',data_ps4['user_score'].corr(data_ps4['sum_sales'])) # Кореляция\n",
    "print('                      ----------------------------------------------')"
   ]
  },
  {
   "cell_type": "markdown",
   "metadata": {},
   "source": [
    "<div class=\"alert alert-info\"style=\"border-radius: 10px; box-shadow: 2px 2px 2px;border: 1px solid \">\n",
    "<b> Комментарий студента</b>\n",
    "Мы видим что корреляция присутствует, чем выше оценка пользователей и критиков тем больше продаж, для критиков это можно считать в отметку примерно 60 по 100 больной шкале , а для пользователей эта отметка примерно 5.5 по 10 балльной шкале.\n",
    "</div>   "
   ]
  },
  {
   "cell_type": "markdown",
   "metadata": {},
   "source": [
    "## Соотнесите выводы с продажами игр на других платформах."
   ]
  },
  {
   "cell_type": "code",
   "execution_count": 53,
   "metadata": {},
   "outputs": [
    {
     "data": {
      "image/png": "[encoded data removed]",
      "text/plain": [
       "<Figure size 1080x360 with 2 Axes>"
      ]
     },
     "metadata": {
      "needs_background": "light"
     },
     "output_type": "display_data"
    },
    {
     "name": "stdout",
     "output_type": "stream",
     "text": [
      "Корреляция между отзывами критиков и продажами  3DS 0.33314779963468866\n",
      "Корреляция между отзывами пользователей и продажами  3DS 0.2105668122246367\n"
     ]
    },
    {
     "data": {
      "image/png": "[encoded data removed]",
      "text/plain": [
       "<Figure size 1080x360 with 2 Axes>"
      ]
     },
     "metadata": {
      "needs_background": "light"
     },
     "output_type": "display_data"
    },
    {
     "name": "stderr",
     "output_type": "stream",
     "text": [
      "/opt/conda/lib/python3.9/site-packages/numpy/lib/function_base.py:2683: RuntimeWarning: Degrees of freedom <= 0 for slice\n",
      "  c = cov(x, y, rowvar, dtype=dtype)\n",
      "/opt/conda/lib/python3.9/site-packages/numpy/lib/function_base.py:2542: RuntimeWarning: divide by zero encountered in true_divide\n",
      "  c *= np.true_divide(1, fact)\n"
     ]
    },
    {
     "name": "stdout",
     "output_type": "stream",
     "text": [
      "Корреляция между отзывами критиков и продажами  DS nan\n",
      "Корреляция между отзывами пользователей и продажами  DS 0.88270872757644\n"
     ]
    },
    {
     "data": {
      "image/png": "[encoded data removed]",
      "text/plain": [
       "<Figure size 1080x360 with 2 Axes>"
      ]
     },
     "metadata": {
      "needs_background": "light"
     },
     "output_type": "display_data"
    },
    {
     "name": "stdout",
     "output_type": "stream",
     "text": [
      "Корреляция между отзывами критиков и продажами  PC 0.26315662774565857\n",
      "Корреляция между отзывами пользователей и продажами  PC -0.15922791823300492\n"
     ]
    },
    {
     "data": {
      "image/png": "[encoded data removed]",
      "text/plain": [
       "<Figure size 1080x360 with 2 Axes>"
      ]
     },
     "metadata": {
      "needs_background": "light"
     },
     "output_type": "display_data"
    },
    {
     "name": "stdout",
     "output_type": "stream",
     "text": [
      "Корреляция между отзывами критиков и продажами  PS3 0.3314972592629587\n",
      "Корреляция между отзывами пользователей и продажами  PS3 -0.0217136781004433\n"
     ]
    },
    {
     "data": {
      "image/png": "[encoded data removed]",
      "text/plain": [
       "<Figure size 1080x360 with 2 Axes>"
      ]
     },
     "metadata": {
      "needs_background": "light"
     },
     "output_type": "display_data"
    },
    {
     "name": "stderr",
     "output_type": "stream",
     "text": [
      "/opt/conda/lib/python3.9/site-packages/numpy/lib/function_base.py:2683: RuntimeWarning: Degrees of freedom <= 0 for slice\n",
      "  c = cov(x, y, rowvar, dtype=dtype)\n",
      "/opt/conda/lib/python3.9/site-packages/numpy/lib/function_base.py:2542: RuntimeWarning: divide by zero encountered in true_divide\n",
      "  c *= np.true_divide(1, fact)\n"
     ]
    },
    {
     "name": "stdout",
     "output_type": "stream",
     "text": [
      "Корреляция между отзывами критиков и продажами  PSP nan\n",
      "Корреляция между отзывами пользователей и продажами  PSP -0.8023020619393209\n"
     ]
    },
    {
     "data": {
      "image/png": "[encoded data removed]",
      "text/plain": [
       "<Figure size 1080x360 with 2 Axes>"
      ]
     },
     "metadata": {
      "needs_background": "light"
     },
     "output_type": "display_data"
    },
    {
     "name": "stdout",
     "output_type": "stream",
     "text": [
      "Корреляция между отзывами критиков и продажами  PSV 0.11612141423161348\n",
      "Корреляция между отзывами пользователей и продажами  PSV 0.013595367007283742\n"
     ]
    },
    {
     "data": {
      "image/png": "[encoded data removed]",
      "text/plain": [
       "<Figure size 1080x360 with 2 Axes>"
      ]
     },
     "metadata": {
      "needs_background": "light"
     },
     "output_type": "display_data"
    },
    {
     "name": "stdout",
     "output_type": "stream",
     "text": [
      "Корреляция между отзывами критиков и продажами  WII -0.4243413011077494\n",
      "Корреляция между отзывами пользователей и продажами  WII 0.29619680007479526\n"
     ]
    },
    {
     "data": {
      "image/png": "[encoded data removed]",
      "text/plain": [
       "<Figure size 1080x360 with 2 Axes>"
      ]
     },
     "metadata": {
      "needs_background": "light"
     },
     "output_type": "display_data"
    },
    {
     "name": "stdout",
     "output_type": "stream",
     "text": [
      "Корреляция между отзывами критиков и продажами  WIIU 0.3546914930621983\n",
      "Корреляция между отзывами пользователей и продажами  WIIU 0.41326541780286735\n"
     ]
    },
    {
     "data": {
      "image/png": "[encoded data removed]",
      "text/plain": [
       "<Figure size 1080x360 with 2 Axes>"
      ]
     },
     "metadata": {
      "needs_background": "light"
     },
     "output_type": "display_data"
    },
    {
     "name": "stdout",
     "output_type": "stream",
     "text": [
      "Корреляция между отзывами критиков и продажами  X360 0.36057348885073354\n",
      "Корреляция между отзывами пользователей и продажами  X360 -0.009605025034522966\n"
     ]
    },
    {
     "data": {
      "image/png": "[encoded data removed]",
      "text/plain": [
       "<Figure size 1080x360 with 2 Axes>"
      ]
     },
     "metadata": {
      "needs_background": "light"
     },
     "output_type": "display_data"
    },
    {
     "name": "stdout",
     "output_type": "stream",
     "text": [
      "Корреляция между отзывами критиков и продажами  XONE 0.4593845680707105\n",
      "Корреляция между отзывами пользователей и продажами  XONE -0.03926828544552198\n"
     ]
    }
   ],
   "source": [
    "games_luser_10_platforms = ['3DS','DS','PC','PS3','PSP','PSV','Wii','WiiU','X360','XOne']\n",
    "def other_platform_matrix(name_of_platform):\n",
    "    platform = df_query[df_query['platform']==name_of_platform]\n",
    "    fig, ax = plt.subplots(1 ,2, figsize=(15,5))\n",
    "    sns.scatterplot(color = 'green',x='user_score', y='sum_sales', data=platform, ax=ax[0])\n",
    "    sns.scatterplot(color = 'orange',x='critic_score', y='sum_sales', data=platform, ax=ax[1])\n",
    "                         \n",
    "    fig.suptitle(name_of_platform, fontsize=15)\n",
    "    ax[0].set(xlabel='Оценка пользователей')\n",
    "    ax[1].set(xlabel='Оценка критиков')\n",
    "    ax[0].set(ylabel='Количество продаж')\n",
    "    ax[1].set(ylabel='Количество продаж')\n",
    "    plt.show()    \n",
    "    correl = platform['user_score'].corr(platform['sum_sales'])\n",
    "    critic_correl = platform['critic_score'].corr(platform['sum_sales'])   \n",
    "    print('Корреляция между отзывами критиков и продажами ', name_of_platform.upper(),  critic_correl)\n",
    "    print('Корреляция между отзывами пользователей и продажами ', name_of_platform.upper(),  correl)\n",
    "\n",
    "for platform in games_luser_10_platforms:\n",
    "    other_platform_matrix(platform)\n",
    "    \n",
    "    "
   ]
  },
  {
   "cell_type": "markdown",
   "metadata": {},
   "source": [
    "<div class=\"alert alert-info\"style=\"border-radius: 10px; box-shadow: 2px 2px 2px;border: 1px solid \">\n",
    "<b> Комментарий студента</b>\n",
    "Соотнося выводы топой платформы и остальных можно с точностью сказать что тенденция примерно одинаковая для всех платформ.\n",
    "Что сказать про PSP и Wii, то судя по прошлым графикам года 2012 -2015 были закатом этих платформ и исходя из это можно предположить что данных по ним слишком мало так как в эти годы они уже не пользовались популярностью.\n",
    "</div>   "
   ]
  },
  {
   "cell_type": "markdown",
   "metadata": {},
   "source": [
    "## Распределение игр по жанрам."
   ]
  },
  {
   "cell_type": "code",
   "execution_count": 54,
   "metadata": {},
   "outputs": [
    {
     "data": {
      "image/png": "[encoded data removed]",
      "text/plain": [
       "<Figure size 756x360 with 1 Axes>"
      ]
     },
     "metadata": {
      "needs_background": "light"
     },
     "output_type": "display_data"
    }
   ],
   "source": [
    "df_query_genre = (df_query.groupby(['genre'])\\\n",
    "                  .agg({'sum_sales':'sum'}).sort_values(by = 'sum_sales' )\n",
    "                  .plot(kind = 'bar',color = '#a900fe',grid =True,\n",
    "                   figsize=(10.5,5),title = 'РАСПРЕДЕЛЕНИЕ ИГР ПО ЖАНРАМ')) \n"
   ]
  },
  {
   "cell_type": "markdown",
   "metadata": {},
   "source": [
    "<div class=\"alert alert-info\"style=\"border-radius: 10px; box-shadow: 2px 2px 2px;border: 1px solid \">\n",
    "<b> Комментарий студента</b>\n",
    "Да, выделение по жзанрам действительно существует и можно скать что их 4 и они в несколько раз обходят остальные , это Role-Playing, Sports, Shooter и Action.\n",
    "</div>   "
   ]
  },
  {
   "cell_type": "markdown",
   "metadata": {},
   "source": [
    "## Самые популярные платформы."
   ]
  },
  {
   "cell_type": "code",
   "execution_count": 55,
   "metadata": {},
   "outputs": [
    {
     "data": {
      "image/png": "[encoded data removed]",
      "text/plain": [
       "<Figure size 756x360 with 1 Axes>"
      ]
     },
     "metadata": {
      "needs_background": "light"
     },
     "output_type": "display_data"
    },
    {
     "data": {
      "image/png": "[encoded data removed]",
      "text/plain": [
       "<Figure size 756x360 with 1 Axes>"
      ]
     },
     "metadata": {
      "needs_background": "light"
     },
     "output_type": "display_data"
    },
    {
     "data": {
      "image/png": "[encoded data removed]",
      "text/plain": [
       "<Figure size 756x360 with 1 Axes>"
      ]
     },
     "metadata": {
      "needs_background": "light"
     },
     "output_type": "display_data"
    },
    {
     "data": {
      "image/png": "[encoded data removed]",
      "text/plain": [
       "<Figure size 756x360 with 1 Axes>"
      ]
     },
     "metadata": {
      "needs_background": "light"
     },
     "output_type": "display_data"
    }
   ],
   "source": [
    "# САМЫЕ ПОПУЛЯРНЫЕ ПЛАТФОРМЫ В CЕВЕРНОЙ АМЕРИКЕ\n",
    "plt.show()\n",
    "(df_query.groupby(['platform'])\\\n",
    "                  .agg({'na_sales':'sum'}).sort_values(by = 'na_sales', ascending = False ).head(5)\n",
    "                  .plot(kind = 'bar',color = 'red',grid =True,\n",
    "                   figsize=(10.5,5),title = 'САМЫЕ ПОПУЛЯРНЫЕ ПЛАТФОРМЫ В CЕВЕРНОЙ АМЕРИКЕ')) \n",
    "# САМЫЕ ПОПУЛЯРНЫЕ ПЛАТФОРМЫ В ЕВРОПЕ\n",
    "(df_query.groupby(['platform'])\\\n",
    "                  .agg({'eu_sales':'sum'}).sort_values(by = 'eu_sales', ascending = False ).head(5)\n",
    "                  .plot(kind = 'bar',color = 'blue',grid =True,\n",
    "                   figsize=(10.5,5),title = 'САМЫЕ ПОПУЛЯРНЫЕ ПЛАТФОРМЫ В ЕВРОПЕ')) \n",
    "# САМЫЕ ПОПУЛЯРНЫЕ ПЛАТФОРМЫ В ЯПОНИИ\n",
    "(df_query.groupby(['platform'])\\\n",
    "                  .agg({'jp_sales':'sum'}).sort_values(by = 'jp_sales', ascending = False ).head(5)\n",
    "                  .plot(kind = 'bar',color = 'orange',grid =True,\n",
    "                   figsize=(10.5,5),title = 'САМЫЕ ПОПУЛЯРНЫЕ ПЛАТФОРМЫ В ЯПОНИИ')) \n",
    "# САМЫЕ ПОПУЛЯРНЫЕ ПЛАТФОРМЫ В СРАНЕНИЕ ПО 3 РЕГИОНАМ\n",
    "(df_query.groupby(['platform'])\\\n",
    "                  .agg({'na_sales':'sum','eu_sales':'sum','jp_sales':'sum'}).sort_values(by = 'na_sales', ascending = False ).head(5)\n",
    "                  .plot(kind = 'bar',color = ['red','blue','orange'],grid =True,\n",
    "                   figsize=(10.5,5),title = 'САМЫЕ ПОПУЛЯРНЫЕ ПЛАТФОРМЫ В СРАНЕНИЕ ПО 3 РЕГИОНАМ')) \n",
    "plt.show()"
   ]
  },
  {
   "cell_type": "markdown",
   "metadata": {},
   "source": [
    "<div class=\"alert alert-info\"style=\"border-radius: 10px; box-shadow: 2px 2px 2px;border: 1px solid \">\n",
    "<b> Комментарий студента</b>\n",
    "В европе и америке популярней всего PS4 и X-One, в Японии 3DS , хотя это странно ведь PS4 является Японской платформой , возможно тут играет роль что японский рынок по сравнению с американским и европейским намного меньше.\n",
    "Что каксается PS3 и X 360 то тут можно скать что это устаревшие платформы и продажи по нимуже падают.\n",
    "</div>   "
   ]
  },
  {
   "cell_type": "markdown",
   "metadata": {},
   "source": [
    "## Самые популярные жанры."
   ]
  },
  {
   "cell_type": "code",
   "execution_count": 56,
   "metadata": {},
   "outputs": [
    {
     "data": {
      "image/png": "[encoded data removed]",
      "text/plain": [
       "<Figure size 756x360 with 1 Axes>"
      ]
     },
     "metadata": {
      "needs_background": "light"
     },
     "output_type": "display_data"
    },
    {
     "data": {
      "image/png": "[encoded data removed]",
      "text/plain": [
       "<Figure size 756x360 with 1 Axes>"
      ]
     },
     "metadata": {
      "needs_background": "light"
     },
     "output_type": "display_data"
    },
    {
     "data": {
      "image/png": "[encoded data removed]",
      "text/plain": [
       "<Figure size 756x360 with 1 Axes>"
      ]
     },
     "metadata": {
      "needs_background": "light"
     },
     "output_type": "display_data"
    },
    {
     "data": {
      "image/png": "[encoded data removed]",
      "text/plain": [
       "<Figure size 756x360 with 1 Axes>"
      ]
     },
     "metadata": {
      "needs_background": "light"
     },
     "output_type": "display_data"
    }
   ],
   "source": [
    "# САМЫЕ ПОПУЛЯРНЫЕ ЖАНРЫ В CЕВЕРНОЙ АМЕРИКЕ\n",
    "(df_query.groupby(['genre'])\\\n",
    "                  .agg({'na_sales':'sum'}).sort_values(by = 'na_sales', ascending = False).head(5)\n",
    "                  .plot(kind = 'bar',color = 'red',grid =True,\n",
    "                   figsize=(10.5,5),title = 'САМЫЕ ПОПУЛЯРНЫЕ ЖАНРЫ В CЕВЕРНОЙ АМЕРИКЕ')) \n",
    "# САМЫЕ ПОПУЛЯРНЫЕ ЖАНРЫ В ЕВРОПЕ\n",
    "(df_query.groupby(['genre'])\\\n",
    "                  .agg({'eu_sales':'sum'}).sort_values(by = 'eu_sales',ascending = False).head(5)\n",
    "                  .plot(kind = 'bar',color = 'blue',grid =True,\n",
    "                   figsize=(10.5,5),title = 'САМЫЕ ПОПУЛЯРНЫЕ ЖАНРЫ В ЕВРОПЕ')) \n",
    "#САМЫЕ ПОПУЛЯРНЫЕ ЖАНРЫ В ЯПОНИИ\n",
    "(df_query.groupby(['genre'])\\\n",
    "                  .agg({'jp_sales':'sum'}).sort_values(by = 'jp_sales',ascending = False).head(5)\n",
    "                  .plot(kind = 'bar',color = 'orange',grid =True,\n",
    "                   figsize=(10.5,5),title = 'САМЫЕ ПОПУЛЯРНЫЕ ЖАНРЫ В ЯПОНИИ')) \n",
    "# САМЫЕ ПОПУЛЯРНЫЕ ЖАНРЫ В СРАНЕНИЕ ПО 3 РЕГИОНАМ\n",
    "(df_query.groupby(['genre'])\\\n",
    "                  .agg({'na_sales':'sum','eu_sales':'sum','jp_sales':'sum'}).sort_values(by = 'na_sales',ascending = False).head(5)\n",
    "                  .plot(kind = 'bar',color = ['red','blue','orange'],grid =True,\n",
    "                   figsize=(10.5,5),title = 'САМЫЕ ПОПУЛЯРНЫЕ ЖАНРЫ В СРАНЕНИЕ ПО 3 РЕГИОНАМ')) \n",
    "plt.show()"
   ]
  },
  {
   "cell_type": "markdown",
   "metadata": {},
   "source": [
    "<div class=\"alert alert-info\"style=\"border-radius: 10px; box-shadow: 2px 2px 2px;border: 1px solid \">\n",
    "<b> Комментарий студента</b>\n",
    "В Европе и Америке самые популярные жанры можно считать Shooter, Action и Sports, в Японии это Role-Playing и Action.\n",
    "</div>   "
   ]
  },
  {
   "cell_type": "markdown",
   "metadata": {},
   "source": [
    "## Влияет ли рейтинг ESRB на продажи."
   ]
  },
  {
   "cell_type": "code",
   "execution_count": 57,
   "metadata": {},
   "outputs": [
    {
     "data": {
      "image/png": "[encoded data removed]",
      "text/plain": [
       "<Figure size 756x360 with 1 Axes>"
      ]
     },
     "metadata": {
      "needs_background": "light"
     },
     "output_type": "display_data"
    },
    {
     "data": {
      "image/png": "[encoded data removed]",
      "text/plain": [
       "<Figure size 756x360 with 1 Axes>"
      ]
     },
     "metadata": {
      "needs_background": "light"
     },
     "output_type": "display_data"
    },
    {
     "data": {
      "image/png": "[encoded data removed]",
      "text/plain": [
       "<Figure size 756x360 with 1 Axes>"
      ]
     },
     "metadata": {
      "needs_background": "light"
     },
     "output_type": "display_data"
    },
    {
     "data": {
      "image/png": "[encoded data removed]",
      "text/plain": [
       "<Figure size 756x360 with 1 Axes>"
      ]
     },
     "metadata": {
      "needs_background": "light"
     },
     "output_type": "display_data"
    }
   ],
   "source": [
    "# РЕЙТИНГ ESRB  В CЕВЕРНОЙ АМЕРИКЕ\n",
    "(df_query.groupby(['rating'])\\\n",
    "                  .agg({'na_sales':'sum'}).sort_values(by = 'na_sales',ascending = False)\n",
    "                  .plot(kind = 'bar',color = 'red',grid =True,\n",
    "                   figsize=(10.5,5),title = 'ВЛИЯНИЕ РЕЙТИНГА НА ПРОДАЖИ В CЕВЕРНОЙ АМЕРИКЕ')) \n",
    "# РЕЙТИНГ ESRB В ЕВРОПЕ\n",
    "(df_query.groupby(['rating'])\\\n",
    "                  .agg({'eu_sales':'sum'}).sort_values(by = 'eu_sales',ascending = False)\n",
    "                  .plot(kind = 'bar',color = 'blue',grid =True,\n",
    "                   figsize=(10.5,5),title = 'ВЛИЯНИЕ РЕЙТИНГА НА ПРОДАЖИ В ЕВРОПЕ')) \n",
    "#РЕЙТИНГ ESRB В ЯПОНИИ\n",
    "(df_query.groupby(['rating'])\\\n",
    "                  .agg({'jp_sales':'sum'}).sort_values(by = 'jp_sales',ascending = False)\n",
    "                  .plot(kind = 'bar',color = 'orange',grid =True,\n",
    "                   figsize=(10.5,5),title = 'ВЛИЯНИЕ РЕЙТИНГА НА ПРОДАЖИ В ЯПОНИИ')) \n",
    "#РЕЙТИНГ ESRB ПО 3 РЕГИОНАМ\n",
    "(df_query.groupby(['rating'])\\\n",
    "                  .agg({'na_sales':'sum','eu_sales':'sum','jp_sales':'sum'}).sort_values(by = 'na_sales',ascending = False)\n",
    "                  .plot(kind = 'bar',color = ['red','blue','orange'],grid =True,\n",
    "                   figsize=(10.5,5),title = 'ВЛИЯНИЕ РЕЙТИНГА НА ПРОДАЖИ В СРАВНЕНИИ ПО 3 РЕГИОНАМ')) \n",
    "plt.show()"
   ]
  },
  {
   "cell_type": "markdown",
   "metadata": {},
   "source": [
    "<div class=\"alert alert-info\"style=\"border-radius: 10px; box-shadow: 2px 2px 2px;border: 1px solid \">\n",
    "<b> Комментарий студента</b>\n",
    "ESRB:\n",
    "E - everyone - для всех\n",
    "M - (Mature 17+) — от 17 лет\n",
    "T - (Teen) — для подростков 13-19 лет\n",
    "E10+ - (Everyone 10+) — для всех старше 10 лет\n",
    "В Америке и Европе популярней всего игры с рейтингов M - (Mature 17+) — от 17 лет и Е - everyone - для всех, в Японии же более популярны T - (Teen) — для подростков 13-19 лет и E - everyone - для всех.\n",
    "</div>   "
   ]
  },
  {
   "cell_type": "markdown",
   "metadata": {},
   "source": [
    "## Проверка гипотез."
   ]
  },
  {
   "cell_type": "markdown",
   "metadata": {},
   "source": [
    "<div class=\"alert alert-info\"style=\"border-radius: 10px; box-shadow: 2px 2px 2px;border: 1px solid \">\n",
    "<b> Комментарий студента</b>\n",
    "В теории сказанно: Иногда советуют предварительно проверить равенство дисперсий специальными тестами (например, тестом Левене). Мы не рекомендуем так делать: исследования показывают, что это только увеличивает вероятность сделать неверный вывод.\n",
    "Так что «правило большого пальца» тут простое: если выборки разного размера и/или можно предположить, что дисперсии у генеральных совокупностей разные — укажите equal_var = False при вызове метода scipy.stats.ttest_ind().\n",
    "В остальных случаях используйте тест без изменений.\n",
    "По подсчёту выборок вы видим что они не равны и исходя из этого имеем право использовать метод equal_var = False задающий, считать ли равными дисперсии выборок. \n",
    "</div> "
   ]
  },
  {
   "cell_type": "markdown",
   "metadata": {},
   "source": [
    "## Средние пользовательские рейтинги платформ Xbox One и PC одинаковые."
   ]
  },
  {
   "cell_type": "code",
   "execution_count": 58,
   "metadata": {},
   "outputs": [
    {
     "name": "stdout",
     "output_type": "stream",
     "text": [
      "-------------------------------------------\n",
      "ПОДСЧЁТ ВЫБОРКИ ДЛЯ Xbox One: 160.00\n",
      "-------------------------------------------\n",
      "\n",
      "-------------------------------------------\n",
      "ПОДСЧЁТ ВЫБОРКИ ДЛЯ PC: 196.00\n",
      "-------------------------------------------\n"
     ]
    }
   ],
   "source": [
    "data_xone = df_query.query('platform  == \"XOne\"')\n",
    "data_pc = df_query.query('platform  == \"PC\"')\n",
    "\n",
    "data_xone_sum_sales = data_xone['user_score'] # РЕЙТИНГ Xbox One\n",
    "data_pc_sum_sales = data_pc['user_score'] #РЕЙТИНГ PC\n",
    "q = (len(data_xone_sum_sales)) # РАЗМЕР ВЫБОРКИ ДЛЯ Xbox One\n",
    "print('-------------------------------------------')\n",
    "print(f'ПОДСЧЁТ ВЫБОРКИ ДЛЯ Xbox One: {q:.2f}')\n",
    "print('-------------------------------------------')\n",
    "print('')\n",
    "k = (len(data_pc_sum_sales)) # РАЗМЕР ВЫБОРКИ ДЛЯ PC\n",
    "print('-------------------------------------------')\n",
    "print(f'ПОДСЧЁТ ВЫБОРКИ ДЛЯ PC: {k:.2f}')\n",
    "print('-------------------------------------------')"
   ]
  },
  {
   "cell_type": "markdown",
   "metadata": {},
   "source": [
    "<div class=\"alert alert-info\"style=\"border-radius: 10px; box-shadow: 2px 2px 2px;border: 1px solid \">\n",
    "<b> Комментарий студента</b>\n",
    "Нулевая гипотеза: Средние пользовательские рейтинги платформ Xbox One и PC ровны.\n",
    "Альтернативная гипотеза: Средние пользовательские рейтинги платформ Xbox One и PC не ровны.\n",
    "Нулевая гипотеза во всех случаях про равенство.\n",
    "А вот альтернативная может быть про неравенство (двусторонняя) или про больше/меньше (односторонняя).\n",
    "Так как у нас 2 выборки я решил произвевести проверку двух генеральных совокупностей по взятым из них выборкам.\n",
    "В Python есть специальный метод для проверки гипотезы о равенстве среднего двух генеральных совокупностей по взятым из них выборкам: scipy.stats.ttest_ind()], выберем параметр equal_var = False потому что размер двух выборок не одинаков.    \n",
    "</div>     "
   ]
  },
  {
   "cell_type": "code",
   "execution_count": 59,
   "metadata": {},
   "outputs": [
    {
     "name": "stdout",
     "output_type": "stream",
     "text": [
      "p-значение:  0.9441751855931831\n",
      "Не получилось отвергнуть нулевую гипотезу\n"
     ]
    }
   ],
   "source": [
    "alpha =.05\n",
    "\n",
    "results = st.ttest_ind(\n",
    "    data_xone_sum_sales, \n",
    "    data_pc_sum_sales, equal_var = False, nan_policy='omit')\n",
    "\n",
    "print('p-значение: ', results.pvalue)\n",
    "\n",
    "if results.pvalue < alpha:\n",
    "    print(\"Отвергаем нулевую гипотезу\")\n",
    "else:\n",
    "    print(\"Не получилось отвергнуть нулевую гипотезу\") "
   ]
  },
  {
   "cell_type": "markdown",
   "metadata": {},
   "source": [
    "<div class=\"alert alert-info\"style=\"border-radius: 10px; box-shadow: 2px 2px 2px;border: 1px solid \">\n",
    "<b> Комментарий студента</b>\n",
    "Мы видим что не получается отвернуть нулевую гипотезу потому что статистически значимое число заданное нами оказалось меньше того что выдал нам т-тест.\n",
    "\n",
    "   \n",
    "</div>    "
   ]
  },
  {
   "cell_type": "markdown",
   "metadata": {},
   "source": [
    "## Средние пользовательские рейтинги жанров Action  и Sports  разные."
   ]
  },
  {
   "cell_type": "code",
   "execution_count": 60,
   "metadata": {},
   "outputs": [
    {
     "name": "stdout",
     "output_type": "stream",
     "text": [
      "-------------------------------------------\n",
      "ПОДСЧЁТ ВЫБОРКИ Action: 853.00\n",
      "-------------------------------------------\n",
      "\n",
      "-------------------------------------------\n",
      "ПОДСЧЁТ ВЫБОРКИ Sports: 220.00\n",
      "-------------------------------------------\n"
     ]
    }
   ],
   "source": [
    "action = df_query.query('genre  == \"Action\"')['user_score'] # CРЕЗ ДЛЯ ДОХОДА ПО ГОРОДУ МОСКВЕ\n",
    "sports = df_query.query('genre  == \"Sports\"')['user_score']# СРЕЗ ДЛЯ ДОХОДА ПО ВСЕМ РЕГИОНАМ КРОМЕ МОСКВЫ\n",
    "q = (len(action))\n",
    "print('-------------------------------------------')\n",
    "print(f'ПОДСЧЁТ ВЫБОРКИ Action: {q:.2f}')\n",
    "print('-------------------------------------------')\n",
    "print('')\n",
    "k = (len(sports))\n",
    "print('-------------------------------------------')\n",
    "print(f'ПОДСЧЁТ ВЫБОРКИ Sports: {k:.2f}')\n",
    "print('-------------------------------------------')"
   ]
  },
  {
   "cell_type": "markdown",
   "metadata": {},
   "source": [
    "<div class=\"alert alert-info\"style=\"border-radius: 10px; box-shadow: 2px 2px 2px;border: 1px solid \">\n",
    "<b> Комментарий студента</b>\n",
    "Нулевая гипотеза: Средние пользовательские рейтинги жанров Action и Sports ровны.\n",
    "Альтернативная гипотеза: Средние пользовательские рейтинги жанров Action и Sports отличаются.\n",
    "Нулевая гипотеза во всех случаях про равенство.\n",
    "А вот альтернативная может быть про неравенство (двусторонняя) или про больше/меньше (односторонняя).\n",
    "Так как у нас 2 выборки я решил произвевести проверку двух генеральных совокупностей по взятым из них выборкам.\n",
    "В Python есть специальный метод для проверки гипотезы о равенстве среднего двух генеральных совокупностей по взятым из них выборкам: scipy.stats.ttest_ind()], выберем параметр equal_var = False потому что размер двух выборок не одинаков.    \n",
    "</div>     "
   ]
  },
  {
   "cell_type": "code",
   "execution_count": 61,
   "metadata": {},
   "outputs": [
    {
     "name": "stdout",
     "output_type": "stream",
     "text": [
      "p-значение: 2.7671307856639837e-18\n",
      "Отвергаем нулевую гипотезу\n"
     ]
    }
   ],
   "source": [
    "alpha = .05\n",
    "\n",
    "results = st.ttest_ind(\n",
    "    action, \n",
    "    sports,equal_var = False, nan_policy='omit') \n",
    "\n",
    "print('p-значение:',  results.pvalue)\n",
    "\n",
    "if results.pvalue < alpha:\n",
    "\n",
    "    print(\"Отвергаем нулевую гипотезу\")\n",
    "else:\n",
    "    print(\"Не получилось отвергнуть нулевую гипотезу\")"
   ]
  },
  {
   "cell_type": "markdown",
   "metadata": {},
   "source": [
    "<div class=\"alert alert-info\"style=\"border-radius: 10px; box-shadow: 2px 2px 2px;border: 1px solid \">\n",
    "<b> Комментарий студента</b>\n",
    "Отвергаем нулевую гипотезу потому что статистически значимое число заданное нами ,больше числа которое выдал нам - тест.\n",
    "\n",
    "   \n",
    "</div>    "
   ]
  },
  {
   "cell_type": "markdown",
   "metadata": {},
   "source": [
    "<div class=\"alert alert-info\"style=\"border-radius: 10px; box-shadow: 2px 2px 2px;border: 1px solid \">\n",
    "<b> ОБЩИЙ ВЫВОД</b>\n",
    "Рейтинги критиков и пользователей хороший показатель что бы прогнозировать рекламные кампании.\n",
    "в будущем механизм обработки данных можно будет использовать , останется лишь поменять срезы по платформам если вдруг таковые изменятся и изменить срез по годам на интересующий нас.\n",
    "</div>   "
   ]
  }
 ],
 "metadata": {
  "ExecuteTimeLog": [
   {
    "duration": 1147,
    "start_time": "2022-01-19T10:42:30.452Z"
   },
   {
    "duration": 51,
    "start_time": "2022-01-19T10:43:27.780Z"
   },
   {
    "duration": 53,
    "start_time": "2022-01-19T10:43:45.785Z"
   },
   {
    "duration": 52,
    "start_time": "2022-01-19T10:45:39.843Z"
   },
   {
    "duration": 10,
    "start_time": "2022-01-19T10:50:35.771Z"
   },
   {
    "duration": 3,
    "start_time": "2022-01-19T10:51:03.662Z"
   },
   {
    "duration": 6944,
    "start_time": "2022-01-19T10:53:32.164Z"
   },
   {
    "duration": 296,
    "start_time": "2022-01-19T10:54:08.401Z"
   },
   {
    "duration": 1079,
    "start_time": "2022-01-19T10:54:27.906Z"
   },
   {
    "duration": 287,
    "start_time": "2022-01-19T10:55:26.763Z"
   },
   {
    "duration": 275,
    "start_time": "2022-01-19T10:55:47.527Z"
   },
   {
    "duration": 19,
    "start_time": "2022-01-19T10:55:57.329Z"
   },
   {
    "duration": 23,
    "start_time": "2022-01-19T10:56:13.260Z"
   },
   {
    "duration": 1097,
    "start_time": "2022-01-19T10:56:21.979Z"
   },
   {
    "duration": 89,
    "start_time": "2022-01-19T10:56:32.585Z"
   },
   {
    "duration": 1139,
    "start_time": "2022-01-19T10:56:37.421Z"
   },
   {
    "duration": 36,
    "start_time": "2022-01-19T10:59:13.060Z"
   },
   {
    "duration": 22,
    "start_time": "2022-01-19T10:59:31.845Z"
   },
   {
    "duration": 54,
    "start_time": "2022-01-19T10:59:36.356Z"
   },
   {
    "duration": 22,
    "start_time": "2022-01-19T10:59:41.489Z"
   },
   {
    "duration": 28,
    "start_time": "2022-01-19T11:01:20.012Z"
   },
   {
    "duration": 30,
    "start_time": "2022-01-19T11:01:33.085Z"
   },
   {
    "duration": 36,
    "start_time": "2022-01-19T11:06:55.236Z"
   },
   {
    "duration": 35,
    "start_time": "2022-01-19T11:07:13.209Z"
   },
   {
    "duration": 25,
    "start_time": "2022-01-19T11:07:26.071Z"
   },
   {
    "duration": 25,
    "start_time": "2022-01-19T11:07:53.201Z"
   },
   {
    "duration": 24,
    "start_time": "2022-01-19T11:08:10.816Z"
   },
   {
    "duration": 54,
    "start_time": "2022-01-19T11:08:19.367Z"
   },
   {
    "duration": 24,
    "start_time": "2022-01-19T11:08:20.045Z"
   },
   {
    "duration": 19,
    "start_time": "2022-01-19T11:09:51.659Z"
   },
   {
    "duration": 25,
    "start_time": "2022-01-19T11:10:07.997Z"
   },
   {
    "duration": 296,
    "start_time": "2022-01-19T11:10:53.307Z"
   },
   {
    "duration": 32,
    "start_time": "2022-01-19T11:11:01.889Z"
   },
   {
    "duration": 31,
    "start_time": "2022-01-19T11:11:08.532Z"
   },
   {
    "duration": 31,
    "start_time": "2022-01-19T11:11:28.746Z"
   },
   {
    "duration": 55,
    "start_time": "2022-01-19T11:11:35.493Z"
   },
   {
    "duration": 29,
    "start_time": "2022-01-19T11:11:36.141Z"
   },
   {
    "duration": 33,
    "start_time": "2022-01-19T11:11:46.590Z"
   },
   {
    "duration": 38,
    "start_time": "2022-01-19T11:12:10.463Z"
   },
   {
    "duration": 29,
    "start_time": "2022-01-19T11:12:16.935Z"
   },
   {
    "duration": 29,
    "start_time": "2022-01-19T11:12:22.560Z"
   },
   {
    "duration": 30,
    "start_time": "2022-01-19T11:12:31.156Z"
   },
   {
    "duration": 23,
    "start_time": "2022-01-19T11:12:46.922Z"
   },
   {
    "duration": 24,
    "start_time": "2022-01-19T11:12:55.076Z"
   },
   {
    "duration": 24,
    "start_time": "2022-01-19T11:12:59.300Z"
   },
   {
    "duration": 20,
    "start_time": "2022-01-19T11:13:18.384Z"
   },
   {
    "duration": 25,
    "start_time": "2022-01-19T11:13:26.283Z"
   },
   {
    "duration": 27,
    "start_time": "2022-01-19T11:13:41.571Z"
   },
   {
    "duration": 19,
    "start_time": "2022-01-19T11:13:59.267Z"
   },
   {
    "duration": 102,
    "start_time": "2022-01-19T11:14:31.672Z"
   },
   {
    "duration": 20,
    "start_time": "2022-01-19T11:14:50.148Z"
   },
   {
    "duration": 19,
    "start_time": "2022-01-19T11:14:59.966Z"
   },
   {
    "duration": 20,
    "start_time": "2022-01-19T11:15:14.012Z"
   },
   {
    "duration": 14,
    "start_time": "2022-01-19T11:15:24.118Z"
   },
   {
    "duration": 55,
    "start_time": "2022-01-19T11:15:29.116Z"
   },
   {
    "duration": 19,
    "start_time": "2022-01-19T11:15:29.551Z"
   },
   {
    "duration": 19,
    "start_time": "2022-01-19T11:17:57.175Z"
   },
   {
    "duration": 19,
    "start_time": "2022-01-19T11:18:19.223Z"
   },
   {
    "duration": 19,
    "start_time": "2022-01-19T11:18:27.040Z"
   },
   {
    "duration": 18,
    "start_time": "2022-01-19T11:18:31.059Z"
   },
   {
    "duration": 19,
    "start_time": "2022-01-19T11:18:34.055Z"
   },
   {
    "duration": 20,
    "start_time": "2022-01-19T11:18:36.968Z"
   },
   {
    "duration": 19,
    "start_time": "2022-01-19T11:18:40.260Z"
   },
   {
    "duration": 20,
    "start_time": "2022-01-19T11:18:44.269Z"
   },
   {
    "duration": 20,
    "start_time": "2022-01-19T11:18:49.912Z"
   },
   {
    "duration": 20,
    "start_time": "2022-01-19T11:18:55.782Z"
   },
   {
    "duration": 21,
    "start_time": "2022-01-19T11:19:02.689Z"
   },
   {
    "duration": 21,
    "start_time": "2022-01-19T11:19:06.922Z"
   },
   {
    "duration": 64,
    "start_time": "2022-01-19T11:19:10.069Z"
   },
   {
    "duration": 26,
    "start_time": "2022-01-19T11:19:10.540Z"
   },
   {
    "duration": 25,
    "start_time": "2022-01-19T11:19:17.055Z"
   },
   {
    "duration": 25,
    "start_time": "2022-01-19T11:19:20.426Z"
   },
   {
    "duration": 25,
    "start_time": "2022-01-19T11:19:24.194Z"
   },
   {
    "duration": 25,
    "start_time": "2022-01-19T11:19:27.548Z"
   },
   {
    "duration": 25,
    "start_time": "2022-01-19T11:19:30.020Z"
   },
   {
    "duration": 24,
    "start_time": "2022-01-19T11:19:34.709Z"
   },
   {
    "duration": 24,
    "start_time": "2022-01-19T11:19:50.293Z"
   },
   {
    "duration": 97,
    "start_time": "2022-01-19T11:25:05.594Z"
   },
   {
    "duration": 86,
    "start_time": "2022-01-19T11:25:13.291Z"
   },
   {
    "duration": 95,
    "start_time": "2022-01-19T11:25:18.264Z"
   },
   {
    "duration": 4,
    "start_time": "2022-01-19T11:25:22.410Z"
   },
   {
    "duration": 5,
    "start_time": "2022-01-19T11:25:29.880Z"
   },
   {
    "duration": 375,
    "start_time": "2022-01-19T11:26:02.024Z"
   },
   {
    "duration": 270,
    "start_time": "2022-01-19T11:26:34.345Z"
   },
   {
    "duration": 281,
    "start_time": "2022-01-19T11:26:41.542Z"
   },
   {
    "duration": 310,
    "start_time": "2022-01-19T11:26:47.287Z"
   },
   {
    "duration": 276,
    "start_time": "2022-01-19T11:43:43.433Z"
   },
   {
    "duration": 277,
    "start_time": "2022-01-19T11:43:55.200Z"
   },
   {
    "duration": 53,
    "start_time": "2022-01-19T11:44:03.474Z"
   },
   {
    "duration": 6655,
    "start_time": "2022-01-19T11:44:04.018Z"
   },
   {
    "duration": 427,
    "start_time": "2022-01-19T11:44:35.087Z"
   },
   {
    "duration": 18,
    "start_time": "2022-01-19T11:44:52.994Z"
   },
   {
    "duration": 31,
    "start_time": "2022-01-19T11:45:04.434Z"
   },
   {
    "duration": 32,
    "start_time": "2022-01-19T11:46:52.525Z"
   },
   {
    "duration": 35,
    "start_time": "2022-01-19T11:47:31.460Z"
   },
   {
    "duration": 36,
    "start_time": "2022-01-19T11:48:43.718Z"
   },
   {
    "duration": 36,
    "start_time": "2022-01-19T11:49:07.550Z"
   },
   {
    "duration": 10,
    "start_time": "2022-01-19T11:51:03.041Z"
   },
   {
    "duration": 8,
    "start_time": "2022-01-19T11:51:56.781Z"
   },
   {
    "duration": 10,
    "start_time": "2022-01-19T11:52:07.751Z"
   },
   {
    "duration": 21,
    "start_time": "2022-01-19T11:52:32.956Z"
   },
   {
    "duration": 27,
    "start_time": "2022-01-19T11:53:12.674Z"
   },
   {
    "duration": 24,
    "start_time": "2022-01-19T11:53:40.371Z"
   },
   {
    "duration": 11,
    "start_time": "2022-01-19T11:53:45.311Z"
   },
   {
    "duration": 14,
    "start_time": "2022-01-19T11:54:12.410Z"
   },
   {
    "duration": 12,
    "start_time": "2022-01-19T11:54:26.862Z"
   },
   {
    "duration": 85,
    "start_time": "2022-01-19T11:55:04.814Z"
   },
   {
    "duration": 90,
    "start_time": "2022-01-19T11:55:08.336Z"
   },
   {
    "duration": 7,
    "start_time": "2022-01-19T11:55:11.194Z"
   },
   {
    "duration": 20,
    "start_time": "2022-01-19T11:55:55.683Z"
   },
   {
    "duration": 85,
    "start_time": "2022-01-19T11:56:14.835Z"
   },
   {
    "duration": 97,
    "start_time": "2022-01-19T11:56:49.623Z"
   },
   {
    "duration": 19,
    "start_time": "2022-01-19T11:57:26.271Z"
   },
   {
    "duration": 24,
    "start_time": "2022-01-19T11:58:10.221Z"
   },
   {
    "duration": 22,
    "start_time": "2022-01-19T11:58:24.810Z"
   },
   {
    "duration": 35,
    "start_time": "2022-01-19T11:59:39.349Z"
   },
   {
    "duration": 33,
    "start_time": "2022-01-19T12:00:03.221Z"
   },
   {
    "duration": 20,
    "start_time": "2022-01-19T12:05:01.680Z"
   },
   {
    "duration": 17,
    "start_time": "2022-01-19T12:07:21.647Z"
   },
   {
    "duration": 1665,
    "start_time": "2022-01-19T12:11:26.329Z"
   },
   {
    "duration": 722,
    "start_time": "2022-01-19T12:12:52.262Z"
   },
   {
    "duration": 741,
    "start_time": "2022-01-19T12:13:16.687Z"
   },
   {
    "duration": 6771,
    "start_time": "2022-01-19T12:15:49.378Z"
   },
   {
    "duration": 6903,
    "start_time": "2022-01-19T12:16:03.240Z"
   },
   {
    "duration": 3681,
    "start_time": "2022-01-19T12:17:11.405Z"
   },
   {
    "duration": 3695,
    "start_time": "2022-01-19T12:18:33.709Z"
   },
   {
    "duration": 3565,
    "start_time": "2022-01-19T12:19:03.654Z"
   },
   {
    "duration": 3593,
    "start_time": "2022-01-19T12:19:31.165Z"
   },
   {
    "duration": 3982,
    "start_time": "2022-01-19T12:24:25.761Z"
   },
   {
    "duration": 3929,
    "start_time": "2022-01-19T12:24:48.210Z"
   },
   {
    "duration": 10,
    "start_time": "2022-01-19T12:36:22.920Z"
   },
   {
    "duration": 3603,
    "start_time": "2022-01-19T12:46:53.844Z"
   },
   {
    "duration": 3764,
    "start_time": "2022-01-19T12:47:01.237Z"
   },
   {
    "duration": 3546,
    "start_time": "2022-01-19T12:47:18.990Z"
   },
   {
    "duration": 3824,
    "start_time": "2022-01-19T12:47:59.584Z"
   },
   {
    "duration": 3532,
    "start_time": "2022-01-19T12:48:10.900Z"
   },
   {
    "duration": 3545,
    "start_time": "2022-01-19T12:48:14.873Z"
   },
   {
    "duration": 3727,
    "start_time": "2022-01-19T12:48:40.955Z"
   },
   {
    "duration": 3956,
    "start_time": "2022-01-19T12:49:01.273Z"
   },
   {
    "duration": 10,
    "start_time": "2022-01-19T12:49:42.873Z"
   },
   {
    "duration": 304,
    "start_time": "2022-01-19T12:53:00.322Z"
   },
   {
    "duration": 321,
    "start_time": "2022-01-19T12:53:13.028Z"
   },
   {
    "duration": 10,
    "start_time": "2022-01-19T12:53:52.509Z"
   },
   {
    "duration": 12,
    "start_time": "2022-01-19T12:54:13.356Z"
   },
   {
    "duration": 17,
    "start_time": "2022-01-19T12:54:33.819Z"
   },
   {
    "duration": 18,
    "start_time": "2022-01-19T12:55:32.876Z"
   },
   {
    "duration": 12,
    "start_time": "2022-01-19T12:56:36.563Z"
   },
   {
    "duration": 32,
    "start_time": "2022-01-19T12:57:09.509Z"
   },
   {
    "duration": 31,
    "start_time": "2022-01-19T12:57:20.014Z"
   },
   {
    "duration": 34,
    "start_time": "2022-01-19T12:59:34.462Z"
   },
   {
    "duration": 34,
    "start_time": "2022-01-19T13:00:02.571Z"
   },
   {
    "duration": 57,
    "start_time": "2022-01-19T13:01:38.107Z"
   },
   {
    "duration": 57,
    "start_time": "2022-01-19T13:01:50.167Z"
   },
   {
    "duration": 57,
    "start_time": "2022-01-19T13:01:58.265Z"
   },
   {
    "duration": 58,
    "start_time": "2022-01-19T13:02:09.319Z"
   },
   {
    "duration": 7296,
    "start_time": "2022-01-19T13:07:58.497Z"
   },
   {
    "duration": 7587,
    "start_time": "2022-01-19T13:08:43.815Z"
   },
   {
    "duration": 7202,
    "start_time": "2022-01-19T13:08:59.297Z"
   },
   {
    "duration": 8024,
    "start_time": "2022-01-19T13:09:39.008Z"
   },
   {
    "duration": 57,
    "start_time": "2022-01-19T13:09:52.536Z"
   },
   {
    "duration": 7110,
    "start_time": "2022-01-19T13:09:52.994Z"
   },
   {
    "duration": -199402,
    "start_time": "2022-01-19T13:13:19.508Z"
   },
   {
    "duration": 62,
    "start_time": "2022-01-19T13:10:23.566Z"
   },
   {
    "duration": -199379,
    "start_time": "2022-01-19T13:14:12.733Z"
   },
   {
    "duration": -199382,
    "start_time": "2022-01-19T13:14:12.737Z"
   },
   {
    "duration": 59,
    "start_time": "2022-01-19T13:11:08.178Z"
   },
   {
    "duration": 35,
    "start_time": "2022-01-19T13:11:11.811Z"
   },
   {
    "duration": 10,
    "start_time": "2022-01-19T13:11:16.310Z"
   },
   {
    "duration": 7,
    "start_time": "2022-01-19T13:11:44.966Z"
   },
   {
    "duration": 6,
    "start_time": "2022-01-19T13:12:38.414Z"
   },
   {
    "duration": 279,
    "start_time": "2022-01-19T13:14:51.479Z"
   },
   {
    "duration": 289,
    "start_time": "2022-01-19T13:15:20.201Z"
   },
   {
    "duration": 9,
    "start_time": "2022-01-19T13:15:27.956Z"
   },
   {
    "duration": 10,
    "start_time": "2022-01-19T13:15:45.434Z"
   },
   {
    "duration": 13,
    "start_time": "2022-01-19T13:15:58.771Z"
   },
   {
    "duration": 113,
    "start_time": "2022-01-19T13:17:00.445Z"
   },
   {
    "duration": 92,
    "start_time": "2022-01-19T13:17:05.974Z"
   },
   {
    "duration": 18,
    "start_time": "2022-01-19T13:17:10.374Z"
   },
   {
    "duration": 17,
    "start_time": "2022-01-19T13:18:27.927Z"
   },
   {
    "duration": 16,
    "start_time": "2022-01-19T13:18:45.284Z"
   },
   {
    "duration": 20,
    "start_time": "2022-01-19T13:20:46.022Z"
   },
   {
    "duration": 290,
    "start_time": "2022-01-19T13:21:00.397Z"
   },
   {
    "duration": 295,
    "start_time": "2022-01-19T13:21:50.625Z"
   },
   {
    "duration": 275,
    "start_time": "2022-01-19T13:22:18.579Z"
   },
   {
    "duration": 274,
    "start_time": "2022-01-19T13:22:24.915Z"
   },
   {
    "duration": 278,
    "start_time": "2022-01-19T13:22:32.087Z"
   },
   {
    "duration": 320,
    "start_time": "2022-01-19T13:22:47.234Z"
   },
   {
    "duration": 17,
    "start_time": "2022-01-19T13:23:16.951Z"
   },
   {
    "duration": 17,
    "start_time": "2022-01-19T13:24:50.153Z"
   },
   {
    "duration": 12,
    "start_time": "2022-01-19T13:25:02.945Z"
   },
   {
    "duration": 11,
    "start_time": "2022-01-19T13:25:52.058Z"
   },
   {
    "duration": 14,
    "start_time": "2022-01-19T13:26:37.245Z"
   },
   {
    "duration": 17,
    "start_time": "2022-01-19T13:26:52.163Z"
   },
   {
    "duration": 16,
    "start_time": "2022-01-19T13:27:10.600Z"
   },
   {
    "duration": 7699,
    "start_time": "2022-01-19T13:30:33.553Z"
   },
   {
    "duration": 21,
    "start_time": "2022-01-19T13:31:03.907Z"
   },
   {
    "duration": 7,
    "start_time": "2022-01-19T13:31:47.121Z"
   },
   {
    "duration": 12,
    "start_time": "2022-01-19T13:32:01.251Z"
   },
   {
    "duration": 6,
    "start_time": "2022-01-19T13:35:41.358Z"
   },
   {
    "duration": 9,
    "start_time": "2022-01-19T13:35:59.892Z"
   },
   {
    "duration": 10,
    "start_time": "2022-01-19T13:36:31.018Z"
   },
   {
    "duration": 295,
    "start_time": "2022-01-19T14:02:45.133Z"
   },
   {
    "duration": 204,
    "start_time": "2022-01-19T14:03:04.553Z"
   },
   {
    "duration": 107,
    "start_time": "2022-01-19T14:04:45.063Z"
   },
   {
    "duration": 200,
    "start_time": "2022-01-19T14:04:53.393Z"
   },
   {
    "duration": 340,
    "start_time": "2022-01-19T14:05:04.549Z"
   },
   {
    "duration": 441,
    "start_time": "2022-01-19T14:05:18.710Z"
   },
   {
    "duration": 401,
    "start_time": "2022-01-19T14:05:36.417Z"
   },
   {
    "duration": 452,
    "start_time": "2022-01-19T14:05:44.875Z"
   },
   {
    "duration": 452,
    "start_time": "2022-01-19T14:06:58.760Z"
   },
   {
    "duration": 443,
    "start_time": "2022-01-19T14:07:45.533Z"
   },
   {
    "duration": 454,
    "start_time": "2022-01-19T14:08:13.912Z"
   },
   {
    "duration": 473,
    "start_time": "2022-01-19T14:08:41.066Z"
   },
   {
    "duration": 831,
    "start_time": "2022-01-19T14:09:12.449Z"
   },
   {
    "duration": 494,
    "start_time": "2022-01-19T14:09:24.224Z"
   },
   {
    "duration": 474,
    "start_time": "2022-01-19T14:10:04.208Z"
   },
   {
    "duration": 244,
    "start_time": "2022-01-19T14:10:41.795Z"
   },
   {
    "duration": 581,
    "start_time": "2022-01-19T14:10:53.715Z"
   },
   {
    "duration": 271,
    "start_time": "2022-01-19T14:11:04.536Z"
   },
   {
    "duration": 4924,
    "start_time": "2022-01-19T14:11:44.366Z"
   },
   {
    "duration": 5208,
    "start_time": "2022-01-19T14:12:04.378Z"
   },
   {
    "duration": 5013,
    "start_time": "2022-01-19T14:14:08.035Z"
   },
   {
    "duration": 553,
    "start_time": "2022-01-19T14:16:15.792Z"
   },
   {
    "duration": 91,
    "start_time": "2022-01-19T14:16:30.301Z"
   },
   {
    "duration": 515,
    "start_time": "2022-01-19T14:16:44.770Z"
   },
   {
    "duration": 629,
    "start_time": "2022-01-19T14:17:01.385Z"
   },
   {
    "duration": 733,
    "start_time": "2022-01-19T14:17:24.010Z"
   },
   {
    "duration": 537,
    "start_time": "2022-01-19T14:17:36.520Z"
   },
   {
    "duration": 461,
    "start_time": "2022-01-19T14:18:04.928Z"
   },
   {
    "duration": 458,
    "start_time": "2022-01-19T14:18:32.093Z"
   },
   {
    "duration": 444,
    "start_time": "2022-01-19T14:19:19.034Z"
   },
   {
    "duration": 442,
    "start_time": "2022-01-19T14:19:34.793Z"
   },
   {
    "duration": 618,
    "start_time": "2022-01-19T14:20:07.455Z"
   },
   {
    "duration": 105,
    "start_time": "2022-01-19T14:20:54.182Z"
   },
   {
    "duration": 441,
    "start_time": "2022-01-19T14:20:59.299Z"
   },
   {
    "duration": 447,
    "start_time": "2022-01-19T14:26:47.183Z"
   },
   {
    "duration": 444,
    "start_time": "2022-01-19T14:27:11.791Z"
   },
   {
    "duration": 427,
    "start_time": "2022-01-19T14:27:23.069Z"
   },
   {
    "duration": 548,
    "start_time": "2022-01-19T14:29:23.199Z"
   },
   {
    "duration": 486,
    "start_time": "2022-01-19T14:30:13.289Z"
   },
   {
    "duration": 501,
    "start_time": "2022-01-19T14:30:31.150Z"
   },
   {
    "duration": 496,
    "start_time": "2022-01-19T14:30:40.383Z"
   },
   {
    "duration": 463,
    "start_time": "2022-01-19T14:30:55.871Z"
   },
   {
    "duration": 593,
    "start_time": "2022-01-19T14:31:05.206Z"
   },
   {
    "duration": 485,
    "start_time": "2022-01-19T14:31:14.448Z"
   },
   {
    "duration": 597,
    "start_time": "2022-01-19T14:31:28.925Z"
   },
   {
    "duration": 505,
    "start_time": "2022-01-19T14:31:42.884Z"
   },
   {
    "duration": 496,
    "start_time": "2022-01-19T14:31:57.541Z"
   },
   {
    "duration": 601,
    "start_time": "2022-01-19T14:32:04.770Z"
   },
   {
    "duration": 495,
    "start_time": "2022-01-19T14:32:17.969Z"
   },
   {
    "duration": 506,
    "start_time": "2022-01-19T14:32:24.675Z"
   },
   {
    "duration": 504,
    "start_time": "2022-01-19T14:32:46.463Z"
   },
   {
    "duration": 514,
    "start_time": "2022-01-19T14:33:04.313Z"
   },
   {
    "duration": 652,
    "start_time": "2022-01-19T14:33:57.080Z"
   },
   {
    "duration": 719,
    "start_time": "2022-01-19T14:34:57.733Z"
   },
   {
    "duration": 517,
    "start_time": "2022-01-19T14:35:11.576Z"
   },
   {
    "duration": 7816,
    "start_time": "2022-01-19T14:36:19.925Z"
   },
   {
    "duration": 34,
    "start_time": "2022-01-19T14:36:35.279Z"
   },
   {
    "duration": 8,
    "start_time": "2022-01-19T14:36:35.988Z"
   },
   {
    "duration": 12,
    "start_time": "2022-01-19T14:36:36.437Z"
   },
   {
    "duration": 539,
    "start_time": "2022-01-19T14:36:36.846Z"
   },
   {
    "duration": 523,
    "start_time": "2022-01-19T14:37:07.661Z"
   },
   {
    "duration": 1219,
    "start_time": "2022-01-19T14:37:36.116Z"
   },
   {
    "duration": 324,
    "start_time": "2022-01-19T14:37:48.948Z"
   },
   {
    "duration": 625,
    "start_time": "2022-01-19T14:37:54.160Z"
   },
   {
    "duration": 516,
    "start_time": "2022-01-19T14:38:03.275Z"
   },
   {
    "duration": 519,
    "start_time": "2022-01-19T14:38:14.494Z"
   },
   {
    "duration": 504,
    "start_time": "2022-01-19T14:38:24.983Z"
   },
   {
    "duration": 927,
    "start_time": "2022-01-19T14:39:29.049Z"
   },
   {
    "duration": 746,
    "start_time": "2022-01-19T14:39:40.644Z"
   },
   {
    "duration": 837,
    "start_time": "2022-01-19T14:40:56.292Z"
   },
   {
    "duration": 925,
    "start_time": "2022-01-19T14:41:52.580Z"
   },
   {
    "duration": 956,
    "start_time": "2022-01-19T14:43:23.308Z"
   },
   {
    "duration": 963,
    "start_time": "2022-01-19T14:43:49.600Z"
   },
   {
    "duration": 1651,
    "start_time": "2022-01-19T14:45:05.462Z"
   },
   {
    "duration": 1149,
    "start_time": "2022-01-19T14:45:51.939Z"
   },
   {
    "duration": 1595,
    "start_time": "2022-01-19T14:46:12.916Z"
   },
   {
    "duration": 1626,
    "start_time": "2022-01-19T14:46:20.465Z"
   },
   {
    "duration": 1396,
    "start_time": "2022-01-19T14:47:31.635Z"
   },
   {
    "duration": 1447,
    "start_time": "2022-01-19T14:47:56.006Z"
   },
   {
    "duration": 1361,
    "start_time": "2022-01-19T14:49:24.347Z"
   },
   {
    "duration": 1746,
    "start_time": "2022-01-19T14:51:48.283Z"
   },
   {
    "duration": 1893,
    "start_time": "2022-01-19T14:54:43.281Z"
   },
   {
    "duration": 2094,
    "start_time": "2022-01-19T14:55:02.856Z"
   },
   {
    "duration": 1671,
    "start_time": "2022-01-19T14:55:13.305Z"
   },
   {
    "duration": 1708,
    "start_time": "2022-01-19T14:55:28.386Z"
   },
   {
    "duration": 1566,
    "start_time": "2022-01-19T14:55:36.533Z"
   },
   {
    "duration": 7261,
    "start_time": "2022-01-19T14:56:42.518Z"
   },
   {
    "duration": 1693,
    "start_time": "2022-01-19T14:57:13.581Z"
   },
   {
    "duration": 1966,
    "start_time": "2022-01-19T15:10:41.885Z"
   },
   {
    "duration": 1730,
    "start_time": "2022-01-19T15:10:52.573Z"
   },
   {
    "duration": 1619,
    "start_time": "2022-01-19T15:11:12.520Z"
   },
   {
    "duration": 330,
    "start_time": "2022-01-19T15:14:55.370Z"
   },
   {
    "duration": 330,
    "start_time": "2022-01-19T15:15:01.642Z"
   },
   {
    "duration": 57,
    "start_time": "2022-01-19T15:15:10.476Z"
   },
   {
    "duration": 36,
    "start_time": "2022-01-19T15:15:10.959Z"
   },
   {
    "duration": 7047,
    "start_time": "2022-01-19T15:15:11.645Z"
   },
   {
    "duration": -199336,
    "start_time": "2022-01-19T15:18:38.030Z"
   },
   {
    "duration": -199340,
    "start_time": "2022-01-19T15:18:38.035Z"
   },
   {
    "duration": -199342,
    "start_time": "2022-01-19T15:18:38.038Z"
   },
   {
    "duration": 300,
    "start_time": "2022-01-19T15:15:41.739Z"
   },
   {
    "duration": 1225,
    "start_time": "2022-01-19T15:16:02.406Z"
   },
   {
    "duration": 1693,
    "start_time": "2022-01-19T15:16:17.644Z"
   },
   {
    "duration": 5,
    "start_time": "2022-01-19T15:16:24.568Z"
   },
   {
    "duration": 325,
    "start_time": "2022-01-19T15:17:33.340Z"
   },
   {
    "duration": 98,
    "start_time": "2022-01-19T15:18:40.574Z"
   },
   {
    "duration": 89,
    "start_time": "2022-01-19T15:18:50.408Z"
   },
   {
    "duration": 312,
    "start_time": "2022-01-19T15:19:06.633Z"
   },
   {
    "duration": 15,
    "start_time": "2022-01-19T15:22:03.530Z"
   },
   {
    "duration": 2024,
    "start_time": "2022-01-19T15:22:42.740Z"
   },
   {
    "duration": 54406,
    "start_time": "2022-01-19T15:22:51.165Z"
   },
   {
    "duration": 188,
    "start_time": "2022-01-19T15:24:40.670Z"
   },
   {
    "duration": 368,
    "start_time": "2022-01-19T15:25:18.165Z"
   },
   {
    "duration": 361,
    "start_time": "2022-01-19T15:25:27.240Z"
   },
   {
    "duration": 429,
    "start_time": "2022-01-19T15:25:33.864Z"
   },
   {
    "duration": 357,
    "start_time": "2022-01-19T15:25:50.990Z"
   },
   {
    "duration": 353,
    "start_time": "2022-01-19T15:26:06.698Z"
   },
   {
    "duration": 93,
    "start_time": "2022-01-19T15:31:29.430Z"
   },
   {
    "duration": 26,
    "start_time": "2022-01-19T15:31:47.088Z"
   },
   {
    "duration": 255,
    "start_time": "2022-01-19T15:32:30.823Z"
   },
   {
    "duration": 30525,
    "start_time": "2022-01-19T15:32:44.565Z"
   },
   {
    "duration": 30,
    "start_time": "2022-01-19T15:33:49.661Z"
   },
   {
    "duration": 9,
    "start_time": "2022-01-19T15:44:57.286Z"
   },
   {
    "duration": 275,
    "start_time": "2022-01-19T15:45:14.536Z"
   },
   {
    "duration": 13,
    "start_time": "2022-01-19T15:45:20.550Z"
   },
   {
    "duration": 20,
    "start_time": "2022-01-19T15:45:44.235Z"
   },
   {
    "duration": 18,
    "start_time": "2022-01-19T15:46:09.814Z"
   },
   {
    "duration": 290,
    "start_time": "2022-01-19T15:48:03.392Z"
   },
   {
    "duration": 19,
    "start_time": "2022-01-19T15:48:13.235Z"
   },
   {
    "duration": 7515,
    "start_time": "2022-01-19T15:48:27.634Z"
   },
   {
    "duration": 21,
    "start_time": "2022-01-19T15:48:36.544Z"
   },
   {
    "duration": 20,
    "start_time": "2022-01-19T15:49:07.073Z"
   },
   {
    "duration": 311,
    "start_time": "2022-01-19T15:50:54.175Z"
   },
   {
    "duration": 16,
    "start_time": "2022-01-19T15:51:01.811Z"
   },
   {
    "duration": 317,
    "start_time": "2022-01-19T15:52:05.766Z"
   },
   {
    "duration": 293,
    "start_time": "2022-01-19T15:52:20.521Z"
   },
   {
    "duration": 272,
    "start_time": "2022-01-19T15:52:42.884Z"
   },
   {
    "duration": 267,
    "start_time": "2022-01-19T15:52:48.842Z"
   },
   {
    "duration": 15,
    "start_time": "2022-01-19T15:53:12.640Z"
   },
   {
    "duration": 17,
    "start_time": "2022-01-19T15:56:16.576Z"
   },
   {
    "duration": 17,
    "start_time": "2022-01-19T15:56:36.526Z"
   },
   {
    "duration": 327,
    "start_time": "2022-01-19T15:57:02.635Z"
   },
   {
    "duration": 14,
    "start_time": "2022-01-19T15:57:14.065Z"
   },
   {
    "duration": 1628,
    "start_time": "2022-01-19T16:15:37.671Z"
   },
   {
    "duration": 11,
    "start_time": "2022-01-19T16:16:18.918Z"
   },
   {
    "duration": 13,
    "start_time": "2022-01-19T16:16:32.326Z"
   },
   {
    "duration": 12,
    "start_time": "2022-01-19T16:16:45.739Z"
   },
   {
    "duration": 96,
    "start_time": "2022-01-19T16:17:08.701Z"
   },
   {
    "duration": 14,
    "start_time": "2022-01-19T16:17:12.921Z"
   },
   {
    "duration": 303,
    "start_time": "2022-01-19T16:17:25.650Z"
   },
   {
    "duration": 1587,
    "start_time": "2022-01-19T16:17:53.216Z"
   },
   {
    "duration": 15,
    "start_time": "2022-01-19T16:26:36.672Z"
   },
   {
    "duration": 16,
    "start_time": "2022-01-19T16:28:22.750Z"
   },
   {
    "duration": 11,
    "start_time": "2022-01-19T16:28:32.586Z"
   },
   {
    "duration": 272,
    "start_time": "2022-01-19T16:28:40.641Z"
   },
   {
    "duration": 10,
    "start_time": "2022-01-19T16:28:45.669Z"
   },
   {
    "duration": 118,
    "start_time": "2022-01-19T16:29:44.198Z"
   },
   {
    "duration": 1675,
    "start_time": "2022-01-19T16:29:49.506Z"
   },
   {
    "duration": 1612,
    "start_time": "2022-01-19T16:30:17.453Z"
   },
   {
    "duration": 1734,
    "start_time": "2022-01-19T16:30:27.621Z"
   },
   {
    "duration": 320,
    "start_time": "2022-01-19T16:31:05.427Z"
   },
   {
    "duration": 333,
    "start_time": "2022-01-19T16:31:19.663Z"
   },
   {
    "duration": 103,
    "start_time": "2022-01-19T16:31:23.370Z"
   },
   {
    "duration": 284,
    "start_time": "2022-01-19T16:31:31.812Z"
   },
   {
    "duration": 6907,
    "start_time": "2022-01-19T16:32:11.634Z"
   },
   {
    "duration": 8,
    "start_time": "2022-01-19T16:32:28.973Z"
   },
   {
    "duration": 60,
    "start_time": "2022-01-19T17:48:36.751Z"
   },
   {
    "duration": 36,
    "start_time": "2022-01-19T17:48:37.707Z"
   },
   {
    "duration": 7,
    "start_time": "2022-01-19T17:48:38.572Z"
   },
   {
    "duration": 14,
    "start_time": "2022-01-19T17:48:39.047Z"
   },
   {
    "duration": 2733,
    "start_time": "2022-01-19T17:48:40.802Z"
   },
   {
    "duration": 6,
    "start_time": "2022-01-19T17:50:42.931Z"
   },
   {
    "duration": 285,
    "start_time": "2022-01-19T17:52:48.377Z"
   },
   {
    "duration": 1634,
    "start_time": "2022-01-19T17:53:00.664Z"
   },
   {
    "duration": 278,
    "start_time": "2022-01-19T17:53:22.573Z"
   },
   {
    "duration": 9,
    "start_time": "2022-01-19T17:54:11.760Z"
   },
   {
    "duration": 10,
    "start_time": "2022-01-19T17:54:25.519Z"
   },
   {
    "duration": 11,
    "start_time": "2022-01-19T17:54:40.199Z"
   },
   {
    "duration": 18,
    "start_time": "2022-01-19T17:55:33.040Z"
   },
   {
    "duration": 8,
    "start_time": "2022-01-19T17:55:50.911Z"
   },
   {
    "duration": 205,
    "start_time": "2022-01-19T17:56:27.004Z"
   },
   {
    "duration": 372,
    "start_time": "2022-01-19T17:57:25.625Z"
   },
   {
    "duration": 362,
    "start_time": "2022-01-19T17:58:38.139Z"
   },
   {
    "duration": 374,
    "start_time": "2022-01-19T17:58:50.856Z"
   },
   {
    "duration": 355,
    "start_time": "2022-01-19T17:59:10.672Z"
   },
   {
    "duration": 404,
    "start_time": "2022-01-19T17:59:37.650Z"
   },
   {
    "duration": 115,
    "start_time": "2022-01-19T18:00:03.965Z"
   },
   {
    "duration": 391,
    "start_time": "2022-01-19T18:00:09.903Z"
   },
   {
    "duration": 101,
    "start_time": "2022-01-19T18:00:58.625Z"
   },
   {
    "duration": 375,
    "start_time": "2022-01-19T18:01:12.813Z"
   },
   {
    "duration": 507,
    "start_time": "2022-01-19T18:02:09.072Z"
   },
   {
    "duration": 612,
    "start_time": "2022-01-19T18:03:23.047Z"
   },
   {
    "duration": 669,
    "start_time": "2022-01-19T18:04:01.813Z"
   },
   {
    "duration": 335,
    "start_time": "2022-01-19T18:04:40.548Z"
   },
   {
    "duration": 343,
    "start_time": "2022-01-19T18:04:57.766Z"
   },
   {
    "duration": 205,
    "start_time": "2022-01-19T18:10:54.231Z"
   },
   {
    "duration": 264,
    "start_time": "2022-01-19T18:18:28.602Z"
   },
   {
    "duration": 222,
    "start_time": "2022-01-19T18:18:38.165Z"
   },
   {
    "duration": 605,
    "start_time": "2022-01-19T18:20:32.164Z"
   },
   {
    "duration": 326,
    "start_time": "2022-01-19T18:22:52.177Z"
   },
   {
    "duration": 89,
    "start_time": "2022-01-19T18:24:59.898Z"
   },
   {
    "duration": 101,
    "start_time": "2022-01-19T18:25:27.979Z"
   },
   {
    "duration": 95,
    "start_time": "2022-01-19T18:25:34.469Z"
   },
   {
    "duration": 100,
    "start_time": "2022-01-19T18:25:46.960Z"
   },
   {
    "duration": 90,
    "start_time": "2022-01-19T18:26:01.697Z"
   },
   {
    "duration": 91,
    "start_time": "2022-01-19T18:26:05.337Z"
   },
   {
    "duration": 87,
    "start_time": "2022-01-19T18:26:10.318Z"
   },
   {
    "duration": 87,
    "start_time": "2022-01-19T18:27:08.782Z"
   },
   {
    "duration": 247,
    "start_time": "2022-01-19T18:27:14.351Z"
   },
   {
    "duration": 232,
    "start_time": "2022-01-19T18:27:45.175Z"
   },
   {
    "duration": 229,
    "start_time": "2022-01-19T18:29:10.012Z"
   },
   {
    "duration": 278,
    "start_time": "2022-01-19T18:29:31.141Z"
   },
   {
    "duration": 207,
    "start_time": "2022-01-19T18:31:24.408Z"
   },
   {
    "duration": 286,
    "start_time": "2022-01-19T18:31:47.769Z"
   },
   {
    "duration": 286,
    "start_time": "2022-01-19T18:31:52.895Z"
   },
   {
    "duration": 207,
    "start_time": "2022-01-19T18:32:07.480Z"
   },
   {
    "duration": 437,
    "start_time": "2022-01-19T18:32:20.122Z"
   },
   {
    "duration": 114,
    "start_time": "2022-01-19T18:32:32.244Z"
   },
   {
    "duration": 97,
    "start_time": "2022-01-19T18:32:47.214Z"
   },
   {
    "duration": 204,
    "start_time": "2022-01-19T18:32:52.344Z"
   },
   {
    "duration": 398,
    "start_time": "2022-01-19T18:33:07.098Z"
   },
   {
    "duration": 390,
    "start_time": "2022-01-19T18:33:14.324Z"
   },
   {
    "duration": 206,
    "start_time": "2022-01-19T18:33:26.280Z"
   },
   {
    "duration": 389,
    "start_time": "2022-01-19T18:33:43.817Z"
   },
   {
    "duration": 420,
    "start_time": "2022-01-19T18:34:44.525Z"
   },
   {
    "duration": 487,
    "start_time": "2022-01-19T18:35:02.508Z"
   },
   {
    "duration": 113,
    "start_time": "2022-01-19T18:35:16.595Z"
   },
   {
    "duration": 116,
    "start_time": "2022-01-19T18:35:33.584Z"
   },
   {
    "duration": 120,
    "start_time": "2022-01-19T18:35:44.454Z"
   },
   {
    "duration": 135,
    "start_time": "2022-01-19T18:35:51.083Z"
   },
   {
    "duration": 121,
    "start_time": "2022-01-19T18:35:57.044Z"
   },
   {
    "duration": 126,
    "start_time": "2022-01-19T18:36:05.370Z"
   },
   {
    "duration": 124,
    "start_time": "2022-01-19T18:36:15.040Z"
   },
   {
    "duration": 126,
    "start_time": "2022-01-19T18:36:25.200Z"
   },
   {
    "duration": 126,
    "start_time": "2022-01-19T18:36:33.188Z"
   },
   {
    "duration": 130,
    "start_time": "2022-01-19T18:36:40.497Z"
   },
   {
    "duration": 123,
    "start_time": "2022-01-19T18:36:46.478Z"
   },
   {
    "duration": 119,
    "start_time": "2022-01-19T18:36:51.887Z"
   },
   {
    "duration": 127,
    "start_time": "2022-01-19T18:37:45.826Z"
   },
   {
    "duration": 124,
    "start_time": "2022-01-19T18:37:58.730Z"
   },
   {
    "duration": 118,
    "start_time": "2022-01-19T18:38:05.224Z"
   },
   {
    "duration": 135,
    "start_time": "2022-01-19T18:38:11.596Z"
   },
   {
    "duration": 141,
    "start_time": "2022-01-19T18:38:17.577Z"
   },
   {
    "duration": 205,
    "start_time": "2022-01-19T18:38:23.576Z"
   },
   {
    "duration": 131,
    "start_time": "2022-01-19T18:39:11.401Z"
   },
   {
    "duration": 153,
    "start_time": "2022-01-19T18:39:55.217Z"
   },
   {
    "duration": 397,
    "start_time": "2022-01-19T18:43:50.995Z"
   },
   {
    "duration": 129,
    "start_time": "2022-01-19T18:44:22.095Z"
   },
   {
    "duration": 33,
    "start_time": "2022-01-19T18:44:22.696Z"
   },
   {
    "duration": 8,
    "start_time": "2022-01-19T18:44:23.435Z"
   },
   {
    "duration": 12,
    "start_time": "2022-01-19T18:44:23.923Z"
   },
   {
    "duration": 1573,
    "start_time": "2022-01-19T18:44:24.390Z"
   },
   {
    "duration": 336,
    "start_time": "2022-01-19T18:44:25.965Z"
   },
   {
    "duration": 430,
    "start_time": "2022-01-19T18:44:26.302Z"
   },
   {
    "duration": 426,
    "start_time": "2022-01-19T18:44:40.138Z"
   },
   {
    "duration": 288,
    "start_time": "2022-01-19T18:45:58.018Z"
   },
   {
    "duration": 151,
    "start_time": "2022-01-19T18:46:08.398Z"
   },
   {
    "duration": 168,
    "start_time": "2022-01-19T18:47:08.412Z"
   },
   {
    "duration": 287,
    "start_time": "2022-01-19T18:47:21.844Z"
   },
   {
    "duration": 112,
    "start_time": "2022-01-19T18:49:45.276Z"
   },
   {
    "duration": 137,
    "start_time": "2022-01-19T18:50:29.003Z"
   },
   {
    "duration": 82,
    "start_time": "2022-01-19T18:50:43.490Z"
   },
   {
    "duration": 120,
    "start_time": "2022-01-19T18:50:50.137Z"
   },
   {
    "duration": 121,
    "start_time": "2022-01-19T18:52:23.946Z"
   },
   {
    "duration": 92,
    "start_time": "2022-01-19T18:53:03.632Z"
   },
   {
    "duration": 104,
    "start_time": "2022-01-19T18:53:16.894Z"
   },
   {
    "duration": 8,
    "start_time": "2022-01-19T18:53:33.336Z"
   },
   {
    "duration": 119,
    "start_time": "2022-01-19T18:53:37.798Z"
   },
   {
    "duration": 118,
    "start_time": "2022-01-19T18:54:09.355Z"
   },
   {
    "duration": 111,
    "start_time": "2022-01-19T18:54:33.515Z"
   },
   {
    "duration": 115,
    "start_time": "2022-01-19T18:54:40.245Z"
   },
   {
    "duration": 116,
    "start_time": "2022-01-19T18:54:48.426Z"
   },
   {
    "duration": 115,
    "start_time": "2022-01-19T18:54:55.466Z"
   },
   {
    "duration": 112,
    "start_time": "2022-01-19T18:55:05.911Z"
   },
   {
    "duration": 105,
    "start_time": "2022-01-19T18:55:14.690Z"
   },
   {
    "duration": 119,
    "start_time": "2022-01-19T18:55:21.406Z"
   },
   {
    "duration": 110,
    "start_time": "2022-01-19T18:55:50.351Z"
   },
   {
    "duration": 113,
    "start_time": "2022-01-19T18:55:57.627Z"
   },
   {
    "duration": 119,
    "start_time": "2022-01-19T18:56:01.503Z"
   },
   {
    "duration": 112,
    "start_time": "2022-01-19T18:56:09.549Z"
   },
   {
    "duration": 114,
    "start_time": "2022-01-19T18:56:16.679Z"
   },
   {
    "duration": 401,
    "start_time": "2022-01-19T18:56:47.116Z"
   },
   {
    "duration": 125,
    "start_time": "2022-01-19T18:56:56.235Z"
   },
   {
    "duration": 113,
    "start_time": "2022-01-19T18:57:11.332Z"
   },
   {
    "duration": 113,
    "start_time": "2022-01-19T18:57:19.642Z"
   },
   {
    "duration": 116,
    "start_time": "2022-01-19T19:01:37.651Z"
   },
   {
    "duration": 118,
    "start_time": "2022-01-19T19:02:52.070Z"
   },
   {
    "duration": 112,
    "start_time": "2022-01-19T19:03:05.837Z"
   },
   {
    "duration": 115,
    "start_time": "2022-01-19T19:03:16.515Z"
   },
   {
    "duration": 113,
    "start_time": "2022-01-19T19:03:54.758Z"
   },
   {
    "duration": 123,
    "start_time": "2022-01-19T19:04:11.815Z"
   },
   {
    "duration": 113,
    "start_time": "2022-01-19T19:04:45.017Z"
   },
   {
    "duration": 104,
    "start_time": "2022-01-19T19:05:08.816Z"
   },
   {
    "duration": 106,
    "start_time": "2022-01-19T19:05:15.865Z"
   },
   {
    "duration": 114,
    "start_time": "2022-01-19T19:05:24.232Z"
   },
   {
    "duration": 103,
    "start_time": "2022-01-19T19:05:30.912Z"
   },
   {
    "duration": 117,
    "start_time": "2022-01-19T19:05:35.628Z"
   },
   {
    "duration": 112,
    "start_time": "2022-01-19T19:05:40.246Z"
   },
   {
    "duration": 225,
    "start_time": "2022-01-19T19:06:36.127Z"
   },
   {
    "duration": 296,
    "start_time": "2022-01-19T19:11:37.232Z"
   },
   {
    "duration": 166,
    "start_time": "2022-01-19T19:11:56.673Z"
   },
   {
    "duration": 169,
    "start_time": "2022-01-19T19:12:33.858Z"
   },
   {
    "duration": 7223,
    "start_time": "2022-01-19T19:14:53.219Z"
   },
   {
    "duration": 422,
    "start_time": "2022-01-19T19:15:17.051Z"
   },
   {
    "duration": 712,
    "start_time": "2022-01-19T19:18:22.731Z"
   },
   {
    "duration": 681,
    "start_time": "2022-01-19T19:18:34.343Z"
   },
   {
    "duration": 1253,
    "start_time": "2022-01-19T19:18:43.091Z"
   },
   {
    "duration": 1348,
    "start_time": "2022-01-19T19:19:24.631Z"
   },
   {
    "duration": 34,
    "start_time": "2022-01-19T19:21:07.275Z"
   },
   {
    "duration": 7,
    "start_time": "2022-01-19T19:21:08.278Z"
   },
   {
    "duration": 13,
    "start_time": "2022-01-19T19:21:08.783Z"
   },
   {
    "duration": 1658,
    "start_time": "2022-01-19T19:21:09.257Z"
   },
   {
    "duration": 395,
    "start_time": "2022-01-19T19:21:10.917Z"
   },
   {
    "duration": 235,
    "start_time": "2022-01-19T19:21:11.315Z"
   },
   {
    "duration": 1368,
    "start_time": "2022-01-19T19:21:11.552Z"
   },
   {
    "duration": 1543,
    "start_time": "2022-01-19T19:21:15.282Z"
   },
   {
    "duration": 35,
    "start_time": "2022-01-19T19:22:03.047Z"
   },
   {
    "duration": 61,
    "start_time": "2022-01-19T19:22:17.992Z"
   },
   {
    "duration": 38,
    "start_time": "2022-01-19T19:22:18.652Z"
   },
   {
    "duration": 10,
    "start_time": "2022-01-19T19:22:19.768Z"
   },
   {
    "duration": 19,
    "start_time": "2022-01-19T19:22:20.805Z"
   },
   {
    "duration": 3938,
    "start_time": "2022-01-19T19:22:21.760Z"
   },
   {
    "duration": 59,
    "start_time": "2022-01-19T19:22:40.402Z"
   },
   {
    "duration": 33,
    "start_time": "2022-01-19T19:22:40.463Z"
   },
   {
    "duration": 7,
    "start_time": "2022-01-19T19:22:40.665Z"
   },
   {
    "duration": 12,
    "start_time": "2022-01-19T19:22:41.044Z"
   },
   {
    "duration": 1598,
    "start_time": "2022-01-19T19:22:41.443Z"
   },
   {
    "duration": 353,
    "start_time": "2022-01-19T19:22:43.043Z"
   },
   {
    "duration": 237,
    "start_time": "2022-01-19T19:22:43.398Z"
   },
   {
    "duration": 483,
    "start_time": "2022-01-19T19:22:43.636Z"
   },
   {
    "duration": 419,
    "start_time": "2022-01-19T19:23:01.942Z"
   },
   {
    "duration": 255,
    "start_time": "2022-01-19T19:23:45.380Z"
   },
   {
    "duration": 596,
    "start_time": "2022-01-19T19:24:25.816Z"
   },
   {
    "duration": 386,
    "start_time": "2022-01-20T10:07:49.128Z"
   },
   {
    "duration": 1643,
    "start_time": "2022-01-20T10:07:58.213Z"
   },
   {
    "duration": 73,
    "start_time": "2022-01-20T10:07:59.859Z"
   },
   {
    "duration": 12,
    "start_time": "2022-01-20T10:07:59.935Z"
   },
   {
    "duration": 20,
    "start_time": "2022-01-20T10:07:59.950Z"
   },
   {
    "duration": 2869,
    "start_time": "2022-01-20T10:08:00.285Z"
   },
   {
    "duration": 604,
    "start_time": "2022-01-20T10:08:03.157Z"
   },
   {
    "duration": 494,
    "start_time": "2022-01-20T10:08:03.764Z"
   },
   {
    "duration": 1582,
    "start_time": "2022-01-20T10:08:04.261Z"
   },
   {
    "duration": 101,
    "start_time": "2022-01-20T10:08:51.387Z"
   },
   {
    "duration": 1929,
    "start_time": "2022-01-20T10:08:58.834Z"
   },
   {
    "duration": 1610,
    "start_time": "2022-01-20T10:09:10.412Z"
   },
   {
    "duration": 2096,
    "start_time": "2022-01-20T10:13:04.161Z"
   },
   {
    "duration": 1639,
    "start_time": "2022-01-20T10:13:16.289Z"
   },
   {
    "duration": 1712,
    "start_time": "2022-01-20T10:13:50.122Z"
   },
   {
    "duration": 1687,
    "start_time": "2022-01-20T10:14:44.940Z"
   },
   {
    "duration": 2131,
    "start_time": "2022-01-20T10:15:24.732Z"
   },
   {
    "duration": 2069,
    "start_time": "2022-01-20T10:15:51.140Z"
   },
   {
    "duration": 2416,
    "start_time": "2022-01-20T10:16:00.436Z"
   },
   {
    "duration": 828,
    "start_time": "2022-01-20T10:19:13.196Z"
   },
   {
    "duration": 778,
    "start_time": "2022-01-20T10:19:31.853Z"
   },
   {
    "duration": 462,
    "start_time": "2022-01-20T10:19:39.655Z"
   },
   {
    "duration": 828,
    "start_time": "2022-01-20T10:22:01.498Z"
   },
   {
    "duration": 770,
    "start_time": "2022-01-20T10:22:16.362Z"
   },
   {
    "duration": 826,
    "start_time": "2022-01-20T10:22:23.233Z"
   },
   {
    "duration": 537,
    "start_time": "2022-01-20T10:22:52.827Z"
   },
   {
    "duration": 635,
    "start_time": "2022-01-20T10:23:56.024Z"
   },
   {
    "duration": 438,
    "start_time": "2022-01-20T10:24:15.629Z"
   },
   {
    "duration": 451,
    "start_time": "2022-01-20T10:24:48.224Z"
   },
   {
    "duration": 759,
    "start_time": "2022-01-20T10:27:01.394Z"
   },
   {
    "duration": 432,
    "start_time": "2022-01-20T10:28:44.957Z"
   },
   {
    "duration": 429,
    "start_time": "2022-01-20T10:29:33.573Z"
   },
   {
    "duration": 427,
    "start_time": "2022-01-20T10:29:51.599Z"
   },
   {
    "duration": 528,
    "start_time": "2022-01-20T10:29:57.686Z"
   },
   {
    "duration": 436,
    "start_time": "2022-01-20T10:30:05.875Z"
   },
   {
    "duration": 502,
    "start_time": "2022-01-20T10:31:02.238Z"
   },
   {
    "duration": 436,
    "start_time": "2022-01-20T10:31:12.756Z"
   },
   {
    "duration": 435,
    "start_time": "2022-01-20T10:31:28.817Z"
   },
   {
    "duration": 442,
    "start_time": "2022-01-20T10:31:40.868Z"
   },
   {
    "duration": 448,
    "start_time": "2022-01-20T10:31:51.318Z"
   },
   {
    "duration": 469,
    "start_time": "2022-01-20T10:32:03.394Z"
   },
   {
    "duration": 2235,
    "start_time": "2022-01-20T10:33:12.884Z"
   },
   {
    "duration": 2142,
    "start_time": "2022-01-20T10:33:46.054Z"
   },
   {
    "duration": 102,
    "start_time": "2022-01-20T10:34:26.984Z"
   },
   {
    "duration": 2300,
    "start_time": "2022-01-20T10:34:35.775Z"
   },
   {
    "duration": 2212,
    "start_time": "2022-01-20T10:34:54.827Z"
   },
   {
    "duration": 2148,
    "start_time": "2022-01-20T10:35:06.473Z"
   },
   {
    "duration": 134,
    "start_time": "2022-01-20T10:36:13.936Z"
   },
   {
    "duration": 851,
    "start_time": "2022-01-20T10:36:19.381Z"
   },
   {
    "duration": 2197,
    "start_time": "2022-01-20T10:36:52.548Z"
   },
   {
    "duration": 1738,
    "start_time": "2022-01-20T10:37:54.438Z"
   },
   {
    "duration": 1800,
    "start_time": "2022-01-20T10:38:34.968Z"
   },
   {
    "duration": 1687,
    "start_time": "2022-01-20T10:39:02.570Z"
   },
   {
    "duration": 1797,
    "start_time": "2022-01-20T10:39:45.789Z"
   },
   {
    "duration": 1911,
    "start_time": "2022-01-20T10:40:13.252Z"
   },
   {
    "duration": 1762,
    "start_time": "2022-01-20T10:40:36.093Z"
   },
   {
    "duration": 1954,
    "start_time": "2022-01-20T10:40:51.578Z"
   },
   {
    "duration": 1914,
    "start_time": "2022-01-20T10:41:26.340Z"
   },
   {
    "duration": 1931,
    "start_time": "2022-01-20T10:42:05.431Z"
   },
   {
    "duration": 2041,
    "start_time": "2022-01-20T10:42:37.570Z"
   },
   {
    "duration": 2014,
    "start_time": "2022-01-20T10:42:52.304Z"
   },
   {
    "duration": 1992,
    "start_time": "2022-01-20T10:43:15.615Z"
   },
   {
    "duration": 1907,
    "start_time": "2022-01-20T10:43:26.508Z"
   },
   {
    "duration": 2092,
    "start_time": "2022-01-20T10:43:36.624Z"
   },
   {
    "duration": 1929,
    "start_time": "2022-01-20T10:43:46.164Z"
   },
   {
    "duration": 1944,
    "start_time": "2022-01-20T10:44:36.794Z"
   },
   {
    "duration": 1935,
    "start_time": "2022-01-20T10:45:49.036Z"
   },
   {
    "duration": 1991,
    "start_time": "2022-01-20T10:46:14.913Z"
   },
   {
    "duration": 2133,
    "start_time": "2022-01-20T10:46:37.877Z"
   },
   {
    "duration": 2008,
    "start_time": "2022-01-20T10:46:54.603Z"
   },
   {
    "duration": 2031,
    "start_time": "2022-01-20T10:47:07.909Z"
   },
   {
    "duration": 1931,
    "start_time": "2022-01-20T10:47:44.761Z"
   },
   {
    "duration": 2021,
    "start_time": "2022-01-20T10:47:55.978Z"
   },
   {
    "duration": 2010,
    "start_time": "2022-01-20T10:48:05.924Z"
   },
   {
    "duration": 1999,
    "start_time": "2022-01-20T10:48:13.323Z"
   },
   {
    "duration": 1984,
    "start_time": "2022-01-20T10:48:45.311Z"
   },
   {
    "duration": 1932,
    "start_time": "2022-01-20T10:49:09.273Z"
   },
   {
    "duration": 563,
    "start_time": "2022-01-20T10:49:27.308Z"
   },
   {
    "duration": 591,
    "start_time": "2022-01-20T10:51:12.616Z"
   },
   {
    "duration": 448,
    "start_time": "2022-01-20T10:51:20.430Z"
   },
   {
    "duration": 1867,
    "start_time": "2022-01-20T10:52:19.766Z"
   },
   {
    "duration": 1912,
    "start_time": "2022-01-20T11:04:09.903Z"
   },
   {
    "duration": 968,
    "start_time": "2022-01-20T11:09:30.972Z"
   },
   {
    "duration": 998,
    "start_time": "2022-01-20T11:09:59.447Z"
   },
   {
    "duration": 1199,
    "start_time": "2022-01-20T11:17:00.353Z"
   },
   {
    "duration": 968,
    "start_time": "2022-01-20T11:17:35.064Z"
   },
   {
    "duration": 1079,
    "start_time": "2022-01-20T11:17:53.762Z"
   },
   {
    "duration": 1524,
    "start_time": "2022-01-20T11:19:49.528Z"
   },
   {
    "duration": 1504,
    "start_time": "2022-01-20T11:20:14.728Z"
   },
   {
    "duration": 1556,
    "start_time": "2022-01-20T11:20:27.597Z"
   },
   {
    "duration": 2252,
    "start_time": "2022-01-20T11:21:39.020Z"
   },
   {
    "duration": 2072,
    "start_time": "2022-01-20T11:22:16.697Z"
   },
   {
    "duration": 2994,
    "start_time": "2022-01-20T11:25:03.946Z"
   },
   {
    "duration": 2970,
    "start_time": "2022-01-20T11:25:50.879Z"
   },
   {
    "duration": 3229,
    "start_time": "2022-01-20T11:27:08.044Z"
   },
   {
    "duration": 3053,
    "start_time": "2022-01-20T11:27:51.993Z"
   },
   {
    "duration": 3995,
    "start_time": "2022-01-20T11:30:01.053Z"
   },
   {
    "duration": 3780,
    "start_time": "2022-01-20T11:30:53.995Z"
   },
   {
    "duration": 6100,
    "start_time": "2022-01-20T11:35:20.652Z"
   },
   {
    "duration": 6722,
    "start_time": "2022-01-20T11:37:56.217Z"
   },
   {
    "duration": 8797,
    "start_time": "2022-01-20T11:42:10.610Z"
   },
   {
    "duration": 575,
    "start_time": "2022-01-20T11:44:23.261Z"
   },
   {
    "duration": 595,
    "start_time": "2022-01-20T11:45:30.074Z"
   },
   {
    "duration": 705,
    "start_time": "2022-01-20T11:46:16.348Z"
   },
   {
    "duration": 452,
    "start_time": "2022-01-20T11:46:49.628Z"
   },
   {
    "duration": 1016,
    "start_time": "2022-01-20T11:47:18.761Z"
   },
   {
    "duration": 407,
    "start_time": "2022-01-20T11:47:42.671Z"
   },
   {
    "duration": 33780,
    "start_time": "2022-01-20T11:48:31.284Z"
   },
   {
    "duration": 8945,
    "start_time": "2022-01-20T11:49:05.067Z"
   },
   {
    "duration": 402,
    "start_time": "2022-01-20T11:49:20.400Z"
   },
   {
    "duration": 402,
    "start_time": "2022-01-20T11:50:19.977Z"
   },
   {
    "duration": 420,
    "start_time": "2022-01-20T11:50:39.896Z"
   },
   {
    "duration": 432,
    "start_time": "2022-01-20T11:51:12.253Z"
   },
   {
    "duration": 450,
    "start_time": "2022-01-20T11:51:25.324Z"
   },
   {
    "duration": 432,
    "start_time": "2022-01-20T11:51:57.347Z"
   },
   {
    "duration": 433,
    "start_time": "2022-01-20T11:52:28.209Z"
   },
   {
    "duration": 421,
    "start_time": "2022-01-20T11:52:49.075Z"
   },
   {
    "duration": 452,
    "start_time": "2022-01-20T11:53:04.534Z"
   },
   {
    "duration": 403,
    "start_time": "2022-01-20T11:53:25.840Z"
   },
   {
    "duration": 108,
    "start_time": "2022-01-20T11:55:10.274Z"
   },
   {
    "duration": 205,
    "start_time": "2022-01-20T11:55:25.084Z"
   },
   {
    "duration": 9234,
    "start_time": "2022-01-20T11:55:33.142Z"
   },
   {
    "duration": 730,
    "start_time": "2022-01-20T11:56:10.620Z"
   },
   {
    "duration": 775,
    "start_time": "2022-01-20T11:56:39.438Z"
   },
   {
    "duration": 726,
    "start_time": "2022-01-20T11:56:52.436Z"
   },
   {
    "duration": 412,
    "start_time": "2022-01-20T11:57:10.548Z"
   },
   {
    "duration": 406,
    "start_time": "2022-01-20T11:57:44.758Z"
   },
   {
    "duration": 426,
    "start_time": "2022-01-20T12:38:00.238Z"
   },
   {
    "duration": 316,
    "start_time": "2022-01-20T12:38:32.565Z"
   },
   {
    "duration": 371,
    "start_time": "2022-01-20T12:38:43.891Z"
   },
   {
    "duration": 714,
    "start_time": "2022-01-20T12:39:48.518Z"
   },
   {
    "duration": 366,
    "start_time": "2022-01-20T12:40:30.304Z"
   },
   {
    "duration": 368,
    "start_time": "2022-01-20T12:40:51.307Z"
   },
   {
    "duration": 380,
    "start_time": "2022-01-20T12:41:03.500Z"
   },
   {
    "duration": 375,
    "start_time": "2022-01-20T12:41:41.507Z"
   },
   {
    "duration": 696,
    "start_time": "2022-01-20T12:42:01.072Z"
   },
   {
    "duration": 750,
    "start_time": "2022-01-20T12:42:07.509Z"
   },
   {
    "duration": 745,
    "start_time": "2022-01-20T12:42:53.938Z"
   },
   {
    "duration": 1070,
    "start_time": "2022-01-20T12:43:37.052Z"
   },
   {
    "duration": 1414,
    "start_time": "2022-01-20T12:45:10.540Z"
   },
   {
    "duration": 1276,
    "start_time": "2022-01-20T12:45:35.296Z"
   },
   {
    "duration": 1465,
    "start_time": "2022-01-20T12:46:11.510Z"
   },
   {
    "duration": 1118,
    "start_time": "2022-01-20T12:46:24.984Z"
   },
   {
    "duration": 826,
    "start_time": "2022-01-20T12:46:56.946Z"
   },
   {
    "duration": 1205,
    "start_time": "2022-01-20T12:47:04.242Z"
   },
   {
    "duration": 1101,
    "start_time": "2022-01-20T12:49:22.146Z"
   },
   {
    "duration": 1135,
    "start_time": "2022-01-20T12:49:32.678Z"
   },
   {
    "duration": 979,
    "start_time": "2022-01-20T12:49:44.210Z"
   },
   {
    "duration": 900,
    "start_time": "2022-01-20T12:50:35.537Z"
   },
   {
    "duration": 969,
    "start_time": "2022-01-20T12:50:45.424Z"
   },
   {
    "duration": 939,
    "start_time": "2022-01-20T12:51:31.636Z"
   },
   {
    "duration": 94,
    "start_time": "2022-01-20T12:54:59.658Z"
   },
   {
    "duration": 117,
    "start_time": "2022-01-20T12:55:14.171Z"
   },
   {
    "duration": 1245,
    "start_time": "2022-01-20T12:56:05.189Z"
   },
   {
    "duration": 1407,
    "start_time": "2022-01-20T12:56:42.114Z"
   },
   {
    "duration": 1281,
    "start_time": "2022-01-20T12:57:23.405Z"
   },
   {
    "duration": 1277,
    "start_time": "2022-01-20T12:58:08.374Z"
   },
   {
    "duration": 1281,
    "start_time": "2022-01-20T12:58:47.297Z"
   },
   {
    "duration": 1453,
    "start_time": "2022-01-20T12:59:17.115Z"
   },
   {
    "duration": 1295,
    "start_time": "2022-01-20T12:59:31.148Z"
   },
   {
    "duration": 1293,
    "start_time": "2022-01-20T12:59:56.150Z"
   },
   {
    "duration": 1256,
    "start_time": "2022-01-20T13:00:32.443Z"
   },
   {
    "duration": 1259,
    "start_time": "2022-01-20T13:00:59.387Z"
   },
   {
    "duration": 1534,
    "start_time": "2022-01-20T13:01:05.298Z"
   },
   {
    "duration": 1272,
    "start_time": "2022-01-20T13:01:13.752Z"
   },
   {
    "duration": 1236,
    "start_time": "2022-01-20T13:01:48.924Z"
   },
   {
    "duration": 1447,
    "start_time": "2022-01-20T13:04:05.705Z"
   },
   {
    "duration": 1277,
    "start_time": "2022-01-20T13:04:30.830Z"
   },
   {
    "duration": 3000,
    "start_time": "2022-01-20T13:06:01.447Z"
   },
   {
    "duration": 1075,
    "start_time": "2022-01-20T13:06:31.765Z"
   },
   {
    "duration": 1531,
    "start_time": "2022-01-20T13:07:01.648Z"
   },
   {
    "duration": 1759,
    "start_time": "2022-01-20T13:08:34.441Z"
   },
   {
    "duration": 1579,
    "start_time": "2022-01-20T13:10:09.220Z"
   },
   {
    "duration": 1877,
    "start_time": "2022-01-20T13:10:22.636Z"
   },
   {
    "duration": 1644,
    "start_time": "2022-01-20T13:10:32.541Z"
   },
   {
    "duration": 1727,
    "start_time": "2022-01-20T13:10:50.978Z"
   },
   {
    "duration": 1246,
    "start_time": "2022-01-20T13:11:02.478Z"
   },
   {
    "duration": 1361,
    "start_time": "2022-01-20T13:11:44.321Z"
   },
   {
    "duration": 368,
    "start_time": "2022-01-20T13:18:25.930Z"
   },
   {
    "duration": 15,
    "start_time": "2022-01-20T13:21:23.181Z"
   },
   {
    "duration": 12,
    "start_time": "2022-01-20T13:21:58.322Z"
   },
   {
    "duration": 10,
    "start_time": "2022-01-20T13:22:08.705Z"
   },
   {
    "duration": 8,
    "start_time": "2022-01-20T13:22:37.609Z"
   },
   {
    "duration": 7,
    "start_time": "2022-01-20T13:22:42.223Z"
   },
   {
    "duration": 7,
    "start_time": "2022-01-20T13:23:39.024Z"
   },
   {
    "duration": 402,
    "start_time": "2022-01-20T13:28:16.052Z"
   },
   {
    "duration": 19,
    "start_time": "2022-01-20T13:28:31.116Z"
   },
   {
    "duration": 6,
    "start_time": "2022-01-20T13:29:41.484Z"
   },
   {
    "duration": 337,
    "start_time": "2022-01-20T13:30:09.395Z"
   },
   {
    "duration": 57,
    "start_time": "2022-01-20T13:30:32.498Z"
   },
   {
    "duration": 319,
    "start_time": "2022-01-20T13:30:47.467Z"
   },
   {
    "duration": 12,
    "start_time": "2022-01-20T13:30:48.009Z"
   },
   {
    "duration": 19,
    "start_time": "2022-01-20T13:30:48.358Z"
   },
   {
    "duration": 3136,
    "start_time": "2022-01-20T13:30:48.737Z"
   },
   {
    "duration": 643,
    "start_time": "2022-01-20T13:30:51.876Z"
   },
   {
    "duration": 460,
    "start_time": "2022-01-20T13:30:52.522Z"
   },
   {
    "duration": 2050,
    "start_time": "2022-01-20T13:30:52.985Z"
   },
   {
    "duration": -200318,
    "start_time": "2022-01-20T13:34:15.358Z"
   },
   {
    "duration": -200321,
    "start_time": "2022-01-20T13:34:15.363Z"
   },
   {
    "duration": -200324,
    "start_time": "2022-01-20T13:34:15.368Z"
   },
   {
    "duration": -200328,
    "start_time": "2022-01-20T13:34:15.375Z"
   },
   {
    "duration": -200330,
    "start_time": "2022-01-20T13:34:15.379Z"
   },
   {
    "duration": -200334,
    "start_time": "2022-01-20T13:34:15.385Z"
   },
   {
    "duration": -200338,
    "start_time": "2022-01-20T13:34:15.391Z"
   },
   {
    "duration": -200340,
    "start_time": "2022-01-20T13:34:15.396Z"
   },
   {
    "duration": -200344,
    "start_time": "2022-01-20T13:34:15.401Z"
   },
   {
    "duration": 7,
    "start_time": "2022-01-20T13:31:04.469Z"
   },
   {
    "duration": 17,
    "start_time": "2022-01-20T13:31:07.444Z"
   },
   {
    "duration": 322,
    "start_time": "2022-01-20T13:31:21.789Z"
   },
   {
    "duration": 312,
    "start_time": "2022-01-20T13:32:31.691Z"
   },
   {
    "duration": 13,
    "start_time": "2022-01-20T13:32:32.195Z"
   },
   {
    "duration": 18,
    "start_time": "2022-01-20T13:32:32.612Z"
   },
   {
    "duration": 2958,
    "start_time": "2022-01-20T13:32:32.952Z"
   },
   {
    "duration": 608,
    "start_time": "2022-01-20T13:32:35.913Z"
   },
   {
    "duration": 683,
    "start_time": "2022-01-20T13:32:36.524Z"
   },
   {
    "duration": 2002,
    "start_time": "2022-01-20T13:32:37.210Z"
   },
   {
    "duration": -200553,
    "start_time": "2022-01-20T13:35:59.768Z"
   },
   {
    "duration": -200559,
    "start_time": "2022-01-20T13:35:59.776Z"
   },
   {
    "duration": -200563,
    "start_time": "2022-01-20T13:35:59.781Z"
   },
   {
    "duration": -200567,
    "start_time": "2022-01-20T13:35:59.787Z"
   },
   {
    "duration": -200572,
    "start_time": "2022-01-20T13:35:59.793Z"
   },
   {
    "duration": 7,
    "start_time": "2022-01-20T13:32:39.538Z"
   },
   {
    "duration": 7,
    "start_time": "2022-01-20T13:32:39.699Z"
   },
   {
    "duration": 20,
    "start_time": "2022-01-20T13:32:40.130Z"
   },
   {
    "duration": 7,
    "start_time": "2022-01-20T13:32:40.361Z"
   },
   {
    "duration": 356,
    "start_time": "2022-01-20T13:33:30.888Z"
   },
   {
    "duration": 414,
    "start_time": "2022-01-20T13:33:50.923Z"
   },
   {
    "duration": 86,
    "start_time": "2022-01-20T13:33:54.940Z"
   },
   {
    "duration": 54,
    "start_time": "2022-01-20T13:33:56.202Z"
   },
   {
    "duration": 329,
    "start_time": "2022-01-20T13:34:08.032Z"
   },
   {
    "duration": 355,
    "start_time": "2022-01-20T13:34:18.271Z"
   },
   {
    "duration": 1178,
    "start_time": "2022-01-20T13:34:35.368Z"
   },
   {
    "duration": 58,
    "start_time": "2022-01-20T13:35:18.992Z"
   },
   {
    "duration": 57,
    "start_time": "2022-01-20T13:35:50.051Z"
   },
   {
    "duration": 132,
    "start_time": "2022-01-20T13:47:43.897Z"
   },
   {
    "duration": 333,
    "start_time": "2022-01-20T13:47:53.081Z"
   },
   {
    "duration": 8,
    "start_time": "2022-01-20T13:50:19.910Z"
   },
   {
    "duration": 354,
    "start_time": "2022-01-20T13:50:32.210Z"
   },
   {
    "duration": 306,
    "start_time": "2022-01-20T13:50:46.710Z"
   },
   {
    "duration": 306,
    "start_time": "2022-01-20T13:51:10.152Z"
   },
   {
    "duration": 103,
    "start_time": "2022-01-20T13:51:17.044Z"
   },
   {
    "duration": 351,
    "start_time": "2022-01-20T13:51:51.157Z"
   },
   {
    "duration": 317,
    "start_time": "2022-01-20T13:52:04.900Z"
   },
   {
    "duration": 55,
    "start_time": "2022-01-20T13:54:22.819Z"
   },
   {
    "duration": 348,
    "start_time": "2022-01-20T13:54:49.374Z"
   },
   {
    "duration": 84,
    "start_time": "2022-01-20T13:55:01.333Z"
   },
   {
    "duration": 443,
    "start_time": "2022-01-20T13:55:01.942Z"
   },
   {
    "duration": 57,
    "start_time": "2022-01-20T13:55:07.567Z"
   },
   {
    "duration": 54,
    "start_time": "2022-01-20T13:55:14.447Z"
   },
   {
    "duration": 11,
    "start_time": "2022-01-20T13:55:15.130Z"
   },
   {
    "duration": 19,
    "start_time": "2022-01-20T13:55:15.596Z"
   },
   {
    "duration": 2913,
    "start_time": "2022-01-20T13:55:16.064Z"
   },
   {
    "duration": 607,
    "start_time": "2022-01-20T13:55:18.980Z"
   },
   {
    "duration": 465,
    "start_time": "2022-01-20T13:55:19.590Z"
   },
   {
    "duration": 968,
    "start_time": "2022-01-20T13:55:20.058Z"
   },
   {
    "duration": 8671,
    "start_time": "2022-01-20T13:55:21.032Z"
   },
   {
    "duration": 442,
    "start_time": "2022-01-20T13:55:29.705Z"
   },
   {
    "duration": 1568,
    "start_time": "2022-01-20T13:55:30.149Z"
   },
   {
    "duration": 1678,
    "start_time": "2022-01-20T13:55:31.721Z"
   },
   {
    "duration": 1236,
    "start_time": "2022-01-20T13:55:33.402Z"
   },
   {
    "duration": 9,
    "start_time": "2022-01-20T13:55:34.641Z"
   },
   {
    "duration": 19,
    "start_time": "2022-01-20T13:55:34.652Z"
   },
   {
    "duration": 17,
    "start_time": "2022-01-20T13:55:34.673Z"
   },
   {
    "duration": 40,
    "start_time": "2022-01-20T13:55:34.693Z"
   },
   {
    "duration": 17,
    "start_time": "2022-01-20T13:55:47.343Z"
   },
   {
    "duration": 15,
    "start_time": "2022-01-20T13:56:07.739Z"
   },
   {
    "duration": 91,
    "start_time": "2022-01-20T13:59:42.725Z"
   },
   {
    "duration": 102,
    "start_time": "2022-01-20T14:03:21.917Z"
   },
   {
    "duration": 1217,
    "start_time": "2022-01-20T14:04:33.986Z"
   },
   {
    "duration": 640,
    "start_time": "2022-01-20T14:04:56.840Z"
   },
   {
    "duration": 652,
    "start_time": "2022-01-20T14:05:23.700Z"
   },
   {
    "duration": 1495,
    "start_time": "2022-01-20T14:22:00.106Z"
   },
   {
    "duration": 1561,
    "start_time": "2022-01-20T14:22:09.360Z"
   },
   {
    "duration": 1524,
    "start_time": "2022-01-20T14:22:36.229Z"
   },
   {
    "duration": 1795,
    "start_time": "2022-01-20T14:23:06.698Z"
   },
   {
    "duration": 1568,
    "start_time": "2022-01-20T14:24:15.434Z"
   },
   {
    "duration": 1313,
    "start_time": "2022-01-20T14:24:35.321Z"
   },
   {
    "duration": 1653,
    "start_time": "2022-01-20T14:26:08.860Z"
   },
   {
    "duration": 1893,
    "start_time": "2022-01-20T14:26:24.859Z"
   },
   {
    "duration": 348,
    "start_time": "2022-01-20T14:26:41.466Z"
   },
   {
    "duration": 1611,
    "start_time": "2022-01-20T14:26:47.779Z"
   },
   {
    "duration": 1517,
    "start_time": "2022-01-20T14:27:10.864Z"
   },
   {
    "duration": 1364,
    "start_time": "2022-01-20T14:27:41.668Z"
   },
   {
    "duration": 1282,
    "start_time": "2022-01-20T14:28:47.018Z"
   },
   {
    "duration": 102,
    "start_time": "2022-01-20T14:29:24.337Z"
   },
   {
    "duration": 1321,
    "start_time": "2022-01-20T14:29:33.795Z"
   },
   {
    "duration": 83,
    "start_time": "2022-01-20T14:30:31.761Z"
   },
   {
    "duration": 56,
    "start_time": "2022-01-20T14:30:32.341Z"
   },
   {
    "duration": 14,
    "start_time": "2022-01-20T14:30:33.040Z"
   },
   {
    "duration": 838,
    "start_time": "2022-01-20T14:30:33.527Z"
   },
   {
    "duration": 3211,
    "start_time": "2022-01-20T14:30:34.369Z"
   },
   {
    "duration": 621,
    "start_time": "2022-01-20T14:30:37.583Z"
   },
   {
    "duration": 456,
    "start_time": "2022-01-20T14:30:38.208Z"
   },
   {
    "duration": 940,
    "start_time": "2022-01-20T14:30:38.667Z"
   },
   {
    "duration": 8905,
    "start_time": "2022-01-20T14:30:39.610Z"
   },
   {
    "duration": 417,
    "start_time": "2022-01-20T14:30:48.518Z"
   },
   {
    "duration": 1361,
    "start_time": "2022-01-20T14:30:48.937Z"
   },
   {
    "duration": 1036,
    "start_time": "2022-01-20T15:47:52.613Z"
   },
   {
    "duration": 1064,
    "start_time": "2022-01-20T15:48:26.709Z"
   },
   {
    "duration": 1043,
    "start_time": "2022-01-20T15:48:37.280Z"
   },
   {
    "duration": 970,
    "start_time": "2022-01-20T15:49:08.362Z"
   },
   {
    "duration": 1096,
    "start_time": "2022-01-20T15:49:26.945Z"
   },
   {
    "duration": 985,
    "start_time": "2022-01-20T15:49:39.833Z"
   },
   {
    "duration": 84,
    "start_time": "2022-01-20T15:49:47.839Z"
   },
   {
    "duration": 55,
    "start_time": "2022-01-20T15:49:48.468Z"
   },
   {
    "duration": 11,
    "start_time": "2022-01-20T15:49:49.489Z"
   },
   {
    "duration": 1017,
    "start_time": "2022-01-20T15:49:50.206Z"
   },
   {
    "duration": 3885,
    "start_time": "2022-01-20T15:49:51.234Z"
   },
   {
    "duration": 594,
    "start_time": "2022-01-20T15:49:55.122Z"
   },
   {
    "duration": 474,
    "start_time": "2022-01-20T15:49:55.718Z"
   },
   {
    "duration": 968,
    "start_time": "2022-01-20T15:49:57.530Z"
   },
   {
    "duration": 8889,
    "start_time": "2022-01-20T15:49:59.526Z"
   },
   {
    "duration": 435,
    "start_time": "2022-01-20T15:50:08.418Z"
   },
   {
    "duration": 1422,
    "start_time": "2022-01-20T15:50:08.856Z"
   },
   {
    "duration": 1462,
    "start_time": "2022-01-20T15:50:10.281Z"
   },
   {
    "duration": 1252,
    "start_time": "2022-01-20T15:50:11.746Z"
   },
   {
    "duration": 90,
    "start_time": "2022-01-20T15:51:00.860Z"
   },
   {
    "duration": 61,
    "start_time": "2022-01-20T15:51:01.220Z"
   },
   {
    "duration": 11,
    "start_time": "2022-01-20T15:51:02.228Z"
   },
   {
    "duration": 804,
    "start_time": "2022-01-20T15:51:02.935Z"
   },
   {
    "duration": 3813,
    "start_time": "2022-01-20T15:51:03.743Z"
   },
   {
    "duration": 630,
    "start_time": "2022-01-20T15:51:07.559Z"
   },
   {
    "duration": 583,
    "start_time": "2022-01-20T15:51:08.193Z"
   },
   {
    "duration": 1614,
    "start_time": "2022-01-20T15:51:09.921Z"
   },
   {
    "duration": 1445,
    "start_time": "2022-01-20T15:51:12.024Z"
   },
   {
    "duration": 554,
    "start_time": "2022-01-20T15:51:13.705Z"
   },
   {
    "duration": 1603,
    "start_time": "2022-01-20T15:51:14.849Z"
   },
   {
    "duration": 58,
    "start_time": "2022-01-20T15:51:51.188Z"
   },
   {
    "duration": 59,
    "start_time": "2022-01-20T15:52:22.237Z"
   },
   {
    "duration": 13,
    "start_time": "2022-01-20T15:52:23.444Z"
   },
   {
    "duration": 615,
    "start_time": "2022-01-20T15:52:24.480Z"
   },
   {
    "duration": 3240,
    "start_time": "2022-01-20T15:52:26.532Z"
   },
   {
    "duration": 717,
    "start_time": "2022-01-20T15:52:30.067Z"
   },
   {
    "duration": 662,
    "start_time": "2022-01-20T15:54:47.542Z"
   },
   {
    "duration": 641,
    "start_time": "2022-01-20T15:55:05.491Z"
   },
   {
    "duration": 666,
    "start_time": "2022-01-20T15:55:15.086Z"
   },
   {
    "duration": 663,
    "start_time": "2022-01-20T15:55:57.976Z"
   },
   {
    "duration": 756,
    "start_time": "2022-01-20T15:56:45.358Z"
   },
   {
    "duration": 810,
    "start_time": "2022-01-20T15:57:20.875Z"
   },
   {
    "duration": 875,
    "start_time": "2022-01-20T15:57:43.158Z"
   },
   {
    "duration": 2948,
    "start_time": "2022-01-20T15:59:24.735Z"
   },
   {
    "duration": 2916,
    "start_time": "2022-01-20T15:59:47.814Z"
   },
   {
    "duration": 1453,
    "start_time": "2022-01-20T16:00:47.707Z"
   },
   {
    "duration": 3197,
    "start_time": "2022-01-20T16:02:19.803Z"
   },
   {
    "duration": 2999,
    "start_time": "2022-01-20T16:02:38.271Z"
   },
   {
    "duration": 1090,
    "start_time": "2022-01-20T16:10:41.892Z"
   },
   {
    "duration": 751,
    "start_time": "2022-01-20T16:10:49.327Z"
   },
   {
    "duration": 728,
    "start_time": "2022-01-20T16:11:23.289Z"
   },
   {
    "duration": 739,
    "start_time": "2022-01-20T16:11:42.577Z"
   },
   {
    "duration": 982,
    "start_time": "2022-01-20T16:11:48.650Z"
   },
   {
    "duration": 498,
    "start_time": "2022-01-20T16:11:50.280Z"
   },
   {
    "duration": 446,
    "start_time": "2022-01-20T16:12:02.750Z"
   },
   {
    "duration": 1546,
    "start_time": "2022-01-20T16:12:04.516Z"
   },
   {
    "duration": 2109,
    "start_time": "2022-01-20T16:12:09.675Z"
   },
   {
    "duration": 87,
    "start_time": "2022-01-20T16:12:33.416Z"
   },
   {
    "duration": 57,
    "start_time": "2022-01-20T16:12:34.026Z"
   },
   {
    "duration": 12,
    "start_time": "2022-01-20T16:12:34.682Z"
   },
   {
    "duration": 639,
    "start_time": "2022-01-20T16:12:35.552Z"
   },
   {
    "duration": 2968,
    "start_time": "2022-01-20T16:12:37.249Z"
   },
   {
    "duration": 716,
    "start_time": "2022-01-20T16:12:40.220Z"
   },
   {
    "duration": 460,
    "start_time": "2022-01-20T16:12:40.939Z"
   },
   {
    "duration": 965,
    "start_time": "2022-01-20T16:12:42.577Z"
   },
   {
    "duration": 9117,
    "start_time": "2022-01-20T16:12:45.037Z"
   },
   {
    "duration": 9157,
    "start_time": "2022-01-20T16:15:14.093Z"
   },
   {
    "duration": 8928,
    "start_time": "2022-01-20T16:17:02.309Z"
   },
   {
    "duration": 9195,
    "start_time": "2022-01-20T16:17:50.215Z"
   },
   {
    "duration": 4636,
    "start_time": "2022-01-20T16:18:57.944Z"
   },
   {
    "duration": 4505,
    "start_time": "2022-01-20T16:19:26.318Z"
   },
   {
    "duration": 9326,
    "start_time": "2022-01-20T16:19:49.916Z"
   },
   {
    "duration": 696,
    "start_time": "2022-01-20T16:22:03.984Z"
   },
   {
    "duration": 520,
    "start_time": "2022-01-20T16:22:43.212Z"
   },
   {
    "duration": 1454,
    "start_time": "2022-01-20T16:22:58.320Z"
   },
   {
    "duration": 933,
    "start_time": "2022-01-20T16:23:14.258Z"
   },
   {
    "duration": 938,
    "start_time": "2022-01-20T16:24:07.774Z"
   },
   {
    "duration": 717,
    "start_time": "2022-01-20T16:24:32.868Z"
   },
   {
    "duration": 715,
    "start_time": "2022-01-20T16:24:58.241Z"
   },
   {
    "duration": 1280,
    "start_time": "2022-01-20T16:46:51.210Z"
   },
   {
    "duration": 1293,
    "start_time": "2022-01-20T16:47:00.835Z"
   },
   {
    "duration": 10,
    "start_time": "2022-01-20T17:03:46.218Z"
   },
   {
    "duration": 9,
    "start_time": "2022-01-20T17:03:58.422Z"
   },
   {
    "duration": 92,
    "start_time": "2022-01-20T17:20:52.446Z"
   },
   {
    "duration": 85,
    "start_time": "2022-01-20T17:25:37.794Z"
   },
   {
    "duration": 58,
    "start_time": "2022-01-20T17:25:39.129Z"
   },
   {
    "duration": 12,
    "start_time": "2022-01-20T17:25:41.738Z"
   },
   {
    "duration": 677,
    "start_time": "2022-01-20T17:25:42.974Z"
   },
   {
    "duration": 3208,
    "start_time": "2022-01-20T17:25:45.330Z"
   },
   {
    "duration": 728,
    "start_time": "2022-01-20T17:25:51.151Z"
   },
   {
    "duration": 439,
    "start_time": "2022-01-20T17:25:52.554Z"
   },
   {
    "duration": 422,
    "start_time": "2022-01-20T17:27:44.753Z"
   },
   {
    "duration": 434,
    "start_time": "2022-01-20T17:27:56.444Z"
   },
   {
    "duration": 444,
    "start_time": "2022-01-20T17:28:03.633Z"
   },
   {
    "duration": 430,
    "start_time": "2022-01-20T17:28:10.587Z"
   },
   {
    "duration": 439,
    "start_time": "2022-01-20T17:28:17.460Z"
   },
   {
    "duration": 441,
    "start_time": "2022-01-20T17:28:23.215Z"
   },
   {
    "duration": 435,
    "start_time": "2022-01-20T17:28:29.400Z"
   },
   {
    "duration": 451,
    "start_time": "2022-01-20T17:28:38.184Z"
   },
   {
    "duration": 445,
    "start_time": "2022-01-20T17:28:43.609Z"
   },
   {
    "duration": 440,
    "start_time": "2022-01-20T17:28:50.383Z"
   },
   {
    "duration": 450,
    "start_time": "2022-01-20T17:29:00.655Z"
   },
   {
    "duration": 429,
    "start_time": "2022-01-20T17:31:00.777Z"
   },
   {
    "duration": 706,
    "start_time": "2022-01-20T17:31:13.608Z"
   },
   {
    "duration": 421,
    "start_time": "2022-01-20T17:31:38.836Z"
   },
   {
    "duration": 432,
    "start_time": "2022-01-20T17:32:32.167Z"
   },
   {
    "duration": 692,
    "start_time": "2022-01-20T17:32:44.683Z"
   },
   {
    "duration": 463,
    "start_time": "2022-01-20T17:32:51.590Z"
   },
   {
    "duration": 451,
    "start_time": "2022-01-20T17:33:00.958Z"
   },
   {
    "duration": 448,
    "start_time": "2022-01-20T17:33:07.255Z"
   },
   {
    "duration": 440,
    "start_time": "2022-01-20T17:33:26.626Z"
   },
   {
    "duration": 450,
    "start_time": "2022-01-20T17:33:43.979Z"
   },
   {
    "duration": 453,
    "start_time": "2022-01-20T17:34:12.330Z"
   },
   {
    "duration": 439,
    "start_time": "2022-01-20T17:34:22.041Z"
   },
   {
    "duration": 439,
    "start_time": "2022-01-20T17:34:26.295Z"
   },
   {
    "duration": 454,
    "start_time": "2022-01-20T17:34:36.669Z"
   },
   {
    "duration": 438,
    "start_time": "2022-01-20T17:34:41.719Z"
   },
   {
    "duration": 439,
    "start_time": "2022-01-20T17:34:49.574Z"
   },
   {
    "duration": 696,
    "start_time": "2022-01-20T17:38:40.255Z"
   },
   {
    "duration": 87,
    "start_time": "2022-01-20T17:40:43.787Z"
   },
   {
    "duration": 56,
    "start_time": "2022-01-20T17:40:44.708Z"
   },
   {
    "duration": 13,
    "start_time": "2022-01-20T17:40:46.295Z"
   },
   {
    "duration": 664,
    "start_time": "2022-01-20T17:40:47.433Z"
   },
   {
    "duration": 3038,
    "start_time": "2022-01-20T17:40:49.638Z"
   },
   {
    "duration": 792,
    "start_time": "2022-01-20T17:40:52.679Z"
   },
   {
    "duration": 469,
    "start_time": "2022-01-20T17:40:55.019Z"
   },
   {
    "duration": 978,
    "start_time": "2022-01-20T17:40:56.925Z"
   },
   {
    "duration": 9454,
    "start_time": "2022-01-20T17:40:59.268Z"
   },
   {
    "duration": 437,
    "start_time": "2022-01-20T17:41:08.724Z"
   },
   {
    "duration": 1442,
    "start_time": "2022-01-20T17:41:09.164Z"
   },
   {
    "duration": 1394,
    "start_time": "2022-01-20T17:41:17.454Z"
   },
   {
    "duration": 1260,
    "start_time": "2022-01-20T17:41:19.887Z"
   },
   {
    "duration": 8,
    "start_time": "2022-01-20T17:41:23.084Z"
   },
   {
    "duration": 8,
    "start_time": "2022-01-20T17:41:24.573Z"
   },
   {
    "duration": 15,
    "start_time": "2022-01-20T17:41:26.122Z"
   },
   {
    "duration": 10,
    "start_time": "2022-01-20T17:41:27.235Z"
   },
   {
    "duration": 92,
    "start_time": "2022-01-20T17:41:44.148Z"
   },
   {
    "duration": 58,
    "start_time": "2022-01-20T17:41:44.855Z"
   },
   {
    "duration": 12,
    "start_time": "2022-01-20T17:41:46.255Z"
   },
   {
    "duration": 958,
    "start_time": "2022-01-20T17:41:47.153Z"
   },
   {
    "duration": 2991,
    "start_time": "2022-01-20T17:41:49.011Z"
   },
   {
    "duration": 728,
    "start_time": "2022-01-20T17:41:52.004Z"
   },
   {
    "duration": 464,
    "start_time": "2022-01-20T17:41:54.061Z"
   },
   {
    "duration": 959,
    "start_time": "2022-01-20T17:41:55.650Z"
   },
   {
    "duration": 9029,
    "start_time": "2022-01-20T17:41:57.683Z"
   },
   {
    "duration": 424,
    "start_time": "2022-01-20T17:42:06.715Z"
   },
   {
    "duration": 1340,
    "start_time": "2022-01-20T17:42:10.455Z"
   },
   {
    "duration": 1385,
    "start_time": "2022-01-20T17:42:12.827Z"
   },
   {
    "duration": 1268,
    "start_time": "2022-01-20T17:42:14.781Z"
   },
   {
    "duration": 7,
    "start_time": "2022-01-20T17:42:17.247Z"
   },
   {
    "duration": 9,
    "start_time": "2022-01-20T17:42:18.332Z"
   },
   {
    "duration": 16,
    "start_time": "2022-01-20T17:42:19.637Z"
   },
   {
    "duration": 10,
    "start_time": "2022-01-20T17:42:21.711Z"
   },
   {
    "duration": 113,
    "start_time": "2022-01-25T05:48:12.907Z"
   },
   {
    "duration": 1175,
    "start_time": "2022-01-25T08:03:58.389Z"
   },
   {
    "duration": 34,
    "start_time": "2022-01-25T08:03:59.795Z"
   },
   {
    "duration": 9,
    "start_time": "2022-01-25T08:04:01.572Z"
   },
   {
    "duration": 429,
    "start_time": "2022-01-25T08:04:02.659Z"
   },
   {
    "duration": 1788,
    "start_time": "2022-01-25T08:04:04.247Z"
   },
   {
    "duration": 520,
    "start_time": "2022-01-25T08:04:06.037Z"
   },
   {
    "duration": 288,
    "start_time": "2022-01-25T08:04:07.010Z"
   },
   {
    "duration": 655,
    "start_time": "2022-01-25T08:04:08.323Z"
   },
   {
    "duration": 6544,
    "start_time": "2022-01-25T08:04:09.744Z"
   },
   {
    "duration": -209676,
    "start_time": "2022-01-25T08:07:45.966Z"
   },
   {
    "duration": 6216,
    "start_time": "2022-01-25T08:04:43.353Z"
   },
   {
    "duration": 338,
    "start_time": "2022-01-25T08:07:21.052Z"
   },
   {
    "duration": 40,
    "start_time": "2022-01-25T08:07:22.725Z"
   },
   {
    "duration": 8,
    "start_time": "2022-01-25T08:07:23.753Z"
   },
   {
    "duration": 413,
    "start_time": "2022-01-25T08:07:24.408Z"
   },
   {
    "duration": 1912,
    "start_time": "2022-01-25T08:07:25.289Z"
   },
   {
    "duration": 463,
    "start_time": "2022-01-25T08:07:27.202Z"
   },
   {
    "duration": 297,
    "start_time": "2022-01-25T08:07:27.667Z"
   },
   {
    "duration": 707,
    "start_time": "2022-01-25T08:07:27.966Z"
   },
   {
    "duration": 7160,
    "start_time": "2022-01-25T08:07:28.779Z"
   },
   {
    "duration": 6540,
    "start_time": "2022-01-25T08:09:58.892Z"
   },
   {
    "duration": 241,
    "start_time": "2022-01-25T08:11:16.089Z"
   },
   {
    "duration": 255,
    "start_time": "2022-01-25T08:12:30.290Z"
   },
   {
    "duration": 290,
    "start_time": "2022-01-25T08:13:02.115Z"
   },
   {
    "duration": 242,
    "start_time": "2022-01-25T08:13:08.450Z"
   },
   {
    "duration": 236,
    "start_time": "2022-01-25T08:15:25.218Z"
   },
   {
    "duration": 217,
    "start_time": "2022-01-25T08:15:56.669Z"
   },
   {
    "duration": 82,
    "start_time": "2022-01-25T08:17:21.230Z"
   },
   {
    "duration": 251,
    "start_time": "2022-01-25T08:17:30.523Z"
   },
   {
    "duration": 230,
    "start_time": "2022-01-25T09:13:28.517Z"
   },
   {
    "duration": 234,
    "start_time": "2022-01-25T09:13:41.474Z"
   },
   {
    "duration": 77,
    "start_time": "2022-01-25T09:13:49.974Z"
   },
   {
    "duration": 75,
    "start_time": "2022-01-25T09:13:54.433Z"
   },
   {
    "duration": 76,
    "start_time": "2022-01-25T09:14:17.872Z"
   },
   {
    "duration": 85,
    "start_time": "2022-01-25T09:14:25.195Z"
   },
   {
    "duration": 246,
    "start_time": "2022-01-25T09:14:38.664Z"
   },
   {
    "duration": 237,
    "start_time": "2022-01-25T09:14:55.794Z"
   },
   {
    "duration": 300,
    "start_time": "2022-01-25T09:14:59.972Z"
   },
   {
    "duration": 74,
    "start_time": "2022-01-25T09:15:08.664Z"
   },
   {
    "duration": 85,
    "start_time": "2022-01-25T09:15:13.377Z"
   },
   {
    "duration": 35095,
    "start_time": "2022-01-25T09:26:01.826Z"
   },
   {
    "duration": -209776,
    "start_time": "2022-01-25T09:30:06.705Z"
   },
   {
    "duration": -209782,
    "start_time": "2022-01-25T09:30:06.712Z"
   },
   {
    "duration": -209787,
    "start_time": "2022-01-25T09:30:06.718Z"
   },
   {
    "duration": -209792,
    "start_time": "2022-01-25T09:30:06.724Z"
   },
   {
    "duration": -209797,
    "start_time": "2022-01-25T09:30:06.731Z"
   },
   {
    "duration": -209803,
    "start_time": "2022-01-25T09:30:06.738Z"
   },
   {
    "duration": 1822,
    "start_time": "2022-01-25T09:26:40.390Z"
   },
   {
    "duration": 57,
    "start_time": "2022-01-25T09:26:45.214Z"
   },
   {
    "duration": 36,
    "start_time": "2022-01-25T09:26:46.337Z"
   },
   {
    "duration": 8,
    "start_time": "2022-01-25T09:26:47.101Z"
   },
   {
    "duration": 415,
    "start_time": "2022-01-25T09:26:47.759Z"
   },
   {
    "duration": 1823,
    "start_time": "2022-01-25T09:26:48.671Z"
   },
   {
    "duration": 478,
    "start_time": "2022-01-25T09:26:50.496Z"
   },
   {
    "duration": 292,
    "start_time": "2022-01-25T09:26:51.557Z"
   },
   {
    "duration": 691,
    "start_time": "2022-01-25T09:26:53.165Z"
   },
   {
    "duration": 32755,
    "start_time": "2022-01-25T09:26:55.794Z"
   },
   {
    "duration": 724,
    "start_time": "2022-01-25T09:38:40.914Z"
   },
   {
    "duration": 285,
    "start_time": "2022-01-25T09:44:06.664Z"
   },
   {
    "duration": 891,
    "start_time": "2022-01-25T09:44:06.951Z"
   },
   {
    "duration": 889,
    "start_time": "2022-01-25T09:44:07.844Z"
   },
   {
    "duration": 261,
    "start_time": "2022-01-25T09:44:08.792Z"
   },
   {
    "duration": -209565,
    "start_time": "2022-01-25T09:47:38.623Z"
   },
   {
    "duration": -209580,
    "start_time": "2022-01-25T09:47:38.639Z"
   },
   {
    "duration": -209589,
    "start_time": "2022-01-25T09:47:38.649Z"
   },
   {
    "duration": 38,
    "start_time": "2022-01-25T09:44:34.811Z"
   },
   {
    "duration": 35,
    "start_time": "2022-01-25T09:44:39.583Z"
   },
   {
    "duration": 9,
    "start_time": "2022-01-25T09:44:40.308Z"
   },
   {
    "duration": 402,
    "start_time": "2022-01-25T09:44:40.882Z"
   },
   {
    "duration": 1838,
    "start_time": "2022-01-25T09:44:41.651Z"
   },
   {
    "duration": 459,
    "start_time": "2022-01-25T09:44:43.490Z"
   },
   {
    "duration": 321,
    "start_time": "2022-01-25T09:44:43.951Z"
   },
   {
    "duration": 690,
    "start_time": "2022-01-25T09:44:44.273Z"
   },
   {
    "duration": 6389,
    "start_time": "2022-01-25T09:44:44.965Z"
   },
   {
    "duration": 288,
    "start_time": "2022-01-25T09:44:51.355Z"
   },
   {
    "duration": 990,
    "start_time": "2022-01-25T09:44:51.645Z"
   },
   {
    "duration": 852,
    "start_time": "2022-01-25T09:44:52.637Z"
   },
   {
    "duration": 787,
    "start_time": "2022-01-25T09:44:53.490Z"
   },
   {
    "duration": 4,
    "start_time": "2022-01-25T09:44:54.279Z"
   },
   {
    "duration": 18,
    "start_time": "2022-01-25T09:44:54.285Z"
   },
   {
    "duration": 14,
    "start_time": "2022-01-25T09:44:54.306Z"
   },
   {
    "duration": 229,
    "start_time": "2022-01-25T09:47:10.554Z"
   },
   {
    "duration": 236,
    "start_time": "2022-01-25T09:47:16.276Z"
   },
   {
    "duration": 233,
    "start_time": "2022-01-25T09:48:11.029Z"
   },
   {
    "duration": 260,
    "start_time": "2022-01-25T09:48:19.818Z"
   },
   {
    "duration": -209667,
    "start_time": "2022-01-25T09:52:20.893Z"
   },
   {
    "duration": 671,
    "start_time": "2022-01-25T09:49:10.219Z"
   },
   {
    "duration": 256,
    "start_time": "2022-01-25T09:49:15.737Z"
   },
   {
    "duration": 240,
    "start_time": "2022-01-25T09:49:29.235Z"
   },
   {
    "duration": -209672,
    "start_time": "2022-01-25T09:53:27.748Z"
   },
   {
    "duration": -209896,
    "start_time": "2022-01-25T09:54:17.294Z"
   },
   {
    "duration": 239,
    "start_time": "2022-01-25T09:50:51.720Z"
   },
   {
    "duration": 249,
    "start_time": "2022-01-25T09:51:02.973Z"
   },
   {
    "duration": 23039,
    "start_time": "2022-01-25T09:51:35.852Z"
   },
   {
    "duration": 695,
    "start_time": "2022-01-25T09:59:39.155Z"
   },
   {
    "duration": 528,
    "start_time": "2022-01-25T10:00:42.863Z"
   },
   {
    "duration": 735,
    "start_time": "2022-01-25T10:01:32.813Z"
   },
   {
    "duration": 526,
    "start_time": "2022-01-25T10:04:01.650Z"
   },
   {
    "duration": 534,
    "start_time": "2022-01-25T10:04:22.239Z"
   },
   {
    "duration": 521,
    "start_time": "2022-01-25T10:04:58.350Z"
   },
   {
    "duration": 6390,
    "start_time": "2022-01-25T10:05:41.590Z"
   },
   {
    "duration": 502,
    "start_time": "2022-01-25T10:06:01.098Z"
   },
   {
    "duration": 780,
    "start_time": "2022-01-25T10:08:19.604Z"
   },
   {
    "duration": 518,
    "start_time": "2022-01-25T10:08:48.369Z"
   },
   {
    "duration": 840,
    "start_time": "2022-01-25T10:09:15.430Z"
   },
   {
    "duration": 544,
    "start_time": "2022-01-25T10:09:33.988Z"
   },
   {
    "duration": 256,
    "start_time": "2022-01-25T10:10:03.129Z"
   },
   {
    "duration": 379,
    "start_time": "2022-01-25T10:12:55.827Z"
   },
   {
    "duration": 707,
    "start_time": "2022-01-25T10:13:22.450Z"
   },
   {
    "duration": 6233,
    "start_time": "2022-01-25T10:13:41.974Z"
   },
   {
    "duration": 2099,
    "start_time": "2022-01-25T10:14:04.445Z"
   },
   {
    "duration": 2015,
    "start_time": "2022-01-25T10:14:39.010Z"
   },
   {
    "duration": 2073,
    "start_time": "2022-01-25T10:17:19.430Z"
   },
   {
    "duration": 721,
    "start_time": "2022-01-25T10:17:59.299Z"
   },
   {
    "duration": 2480,
    "start_time": "2022-01-25T10:19:25.339Z"
   },
   {
    "duration": 246,
    "start_time": "2022-01-25T10:20:49.246Z"
   },
   {
    "duration": 2037,
    "start_time": "2022-01-25T10:24:37.164Z"
   },
   {
    "duration": 4398,
    "start_time": "2022-01-25T10:25:21.489Z"
   },
   {
    "duration": 5190,
    "start_time": "2022-01-25T10:27:30.782Z"
   },
   {
    "duration": 5568,
    "start_time": "2022-01-25T10:30:57.368Z"
   },
   {
    "duration": 5779,
    "start_time": "2022-01-25T10:31:14.395Z"
   },
   {
    "duration": 5546,
    "start_time": "2022-01-25T10:31:29.459Z"
   },
   {
    "duration": 5301,
    "start_time": "2022-01-25T10:31:41.526Z"
   },
   {
    "duration": 15575,
    "start_time": "2022-01-25T10:34:29.283Z"
   },
   {
    "duration": 4956,
    "start_time": "2022-01-25T10:34:55.021Z"
   },
   {
    "duration": 75,
    "start_time": "2022-01-25T10:36:37.375Z"
   },
   {
    "duration": 5702,
    "start_time": "2022-01-25T10:36:47.906Z"
   },
   {
    "duration": 837,
    "start_time": "2022-01-25T10:38:06.491Z"
   },
   {
    "duration": 94,
    "start_time": "2022-01-25T10:40:15.262Z"
   },
   {
    "duration": 91,
    "start_time": "2022-01-25T10:40:40.243Z"
   },
   {
    "duration": 94,
    "start_time": "2022-01-25T10:41:31.294Z"
   },
   {
    "duration": 5122,
    "start_time": "2022-01-25T10:41:55.088Z"
   },
   {
    "duration": 5628,
    "start_time": "2022-01-25T10:42:18.499Z"
   },
   {
    "duration": 5409,
    "start_time": "2022-01-25T10:43:12.298Z"
   },
   {
    "duration": 5697,
    "start_time": "2022-01-25T10:44:51.397Z"
   },
   {
    "duration": 5410,
    "start_time": "2022-01-25T10:49:23.383Z"
   },
   {
    "duration": 84,
    "start_time": "2022-01-25T10:51:14.155Z"
   },
   {
    "duration": 5370,
    "start_time": "2022-01-25T10:51:18.497Z"
   },
   {
    "duration": 5366,
    "start_time": "2022-01-25T10:52:03.511Z"
   },
   {
    "duration": 5219,
    "start_time": "2022-01-25T10:52:37.590Z"
   },
   {
    "duration": 5499,
    "start_time": "2022-01-25T10:52:56.490Z"
   },
   {
    "duration": 5172,
    "start_time": "2022-01-25T10:53:37.193Z"
   },
   {
    "duration": 5732,
    "start_time": "2022-01-25T10:54:25.603Z"
   },
   {
    "duration": 5903,
    "start_time": "2022-01-25T10:55:34.419Z"
   },
   {
    "duration": 737,
    "start_time": "2022-01-25T10:57:29.896Z"
   },
   {
    "duration": 5408,
    "start_time": "2022-01-25T10:57:56.579Z"
   },
   {
    "duration": 5628,
    "start_time": "2022-01-25T10:58:31.188Z"
   },
   {
    "duration": 5519,
    "start_time": "2022-01-25T10:59:03.714Z"
   },
   {
    "duration": 61,
    "start_time": "2022-01-25T11:06:16.377Z"
   },
   {
    "duration": 45,
    "start_time": "2022-01-25T11:06:18.089Z"
   },
   {
    "duration": 262,
    "start_time": "2022-01-25T11:07:59.968Z"
   },
   {
    "duration": 37,
    "start_time": "2022-01-25T11:08:16.171Z"
   },
   {
    "duration": 49,
    "start_time": "2022-01-25T11:11:07.525Z"
   },
   {
    "duration": 46,
    "start_time": "2022-01-25T11:11:19.527Z"
   },
   {
    "duration": 52,
    "start_time": "2022-01-25T11:11:41.720Z"
   },
   {
    "duration": 49,
    "start_time": "2022-01-25T11:12:19.281Z"
   },
   {
    "duration": 58,
    "start_time": "2022-01-25T11:12:23.326Z"
   },
   {
    "duration": 43,
    "start_time": "2022-01-25T11:12:24.176Z"
   },
   {
    "duration": 36,
    "start_time": "2022-01-25T11:12:50.428Z"
   },
   {
    "duration": 54,
    "start_time": "2022-01-25T11:12:59.491Z"
   },
   {
    "duration": 272,
    "start_time": "2022-01-25T11:13:31.526Z"
   },
   {
    "duration": 267,
    "start_time": "2022-01-25T11:13:52.157Z"
   },
   {
    "duration": 249,
    "start_time": "2022-01-25T11:14:21.829Z"
   },
   {
    "duration": 260,
    "start_time": "2022-01-25T11:14:27.549Z"
   },
   {
    "duration": 246,
    "start_time": "2022-01-25T11:14:34.482Z"
   },
   {
    "duration": 285,
    "start_time": "2022-01-25T11:14:45.446Z"
   },
   {
    "duration": 226,
    "start_time": "2022-01-25T11:14:54.896Z"
   },
   {
    "duration": 58,
    "start_time": "2022-01-25T11:14:58.909Z"
   },
   {
    "duration": 45,
    "start_time": "2022-01-25T11:14:59.525Z"
   },
   {
    "duration": 41,
    "start_time": "2022-01-25T11:15:09.347Z"
   },
   {
    "duration": 41,
    "start_time": "2022-01-25T11:15:22.466Z"
   },
   {
    "duration": 10,
    "start_time": "2022-01-25T11:15:24.012Z"
   },
   {
    "duration": 459,
    "start_time": "2022-01-25T11:15:29.985Z"
   },
   {
    "duration": 1913,
    "start_time": "2022-01-25T11:15:34.995Z"
   },
   {
    "duration": 680,
    "start_time": "2022-01-25T11:15:39.516Z"
   },
   {
    "duration": 278,
    "start_time": "2022-01-25T11:15:43.025Z"
   },
   {
    "duration": 677,
    "start_time": "2022-01-25T11:16:27.534Z"
   },
   {
    "duration": 5654,
    "start_time": "2022-01-25T11:16:38.644Z"
   },
   {
    "duration": 284,
    "start_time": "2022-01-25T11:16:50.257Z"
   },
   {
    "duration": 1075,
    "start_time": "2022-01-25T11:16:57.209Z"
   },
   {
    "duration": 928,
    "start_time": "2022-01-25T11:17:00.538Z"
   },
   {
    "duration": 848,
    "start_time": "2022-01-25T11:17:03.084Z"
   },
   {
    "duration": 5,
    "start_time": "2022-01-25T11:17:08.255Z"
   },
   {
    "duration": 6,
    "start_time": "2022-01-25T11:17:11.330Z"
   },
   {
    "duration": 11,
    "start_time": "2022-01-25T11:17:13.348Z"
   },
   {
    "duration": 6,
    "start_time": "2022-01-25T11:17:14.549Z"
   },
   {
    "duration": 60,
    "start_time": "2022-01-25T11:17:31.420Z"
   },
   {
    "duration": 5956,
    "start_time": "2022-01-25T11:17:48.442Z"
   },
   {
    "duration": 6406,
    "start_time": "2022-01-25T11:17:55.504Z"
   },
   {
    "duration": 58,
    "start_time": "2022-01-25T11:18:09.933Z"
   },
   {
    "duration": 46,
    "start_time": "2022-01-25T11:18:11.518Z"
   },
   {
    "duration": 9,
    "start_time": "2022-01-25T11:18:13.507Z"
   },
   {
    "duration": 443,
    "start_time": "2022-01-25T11:18:18.492Z"
   },
   {
    "duration": 2134,
    "start_time": "2022-01-25T11:18:23.494Z"
   },
   {
    "duration": 526,
    "start_time": "2022-01-25T11:18:29.683Z"
   },
   {
    "duration": 291,
    "start_time": "2022-01-25T11:18:33.510Z"
   },
   {
    "duration": 687,
    "start_time": "2022-01-25T11:18:53.077Z"
   },
   {
    "duration": 5711,
    "start_time": "2022-01-25T11:18:55.886Z"
   },
   {
    "duration": 5821,
    "start_time": "2022-01-25T11:19:20.406Z"
   },
   {
    "duration": 5730,
    "start_time": "2022-01-25T11:20:02.999Z"
   },
   {
    "duration": 287,
    "start_time": "2022-01-25T11:20:20.525Z"
   },
   {
    "duration": 911,
    "start_time": "2022-01-25T11:20:23.120Z"
   },
   {
    "duration": 906,
    "start_time": "2022-01-25T11:20:26.124Z"
   },
   {
    "duration": 1115,
    "start_time": "2022-01-25T11:20:29.050Z"
   },
   {
    "duration": 7,
    "start_time": "2022-01-25T11:20:35.229Z"
   },
   {
    "duration": 6,
    "start_time": "2022-01-25T11:20:37.389Z"
   },
   {
    "duration": 11,
    "start_time": "2022-01-25T11:20:38.180Z"
   },
   {
    "duration": 7,
    "start_time": "2022-01-25T11:20:39.063Z"
   },
   {
    "duration": 1571,
    "start_time": "2022-01-25T11:22:46.332Z"
   },
   {
    "duration": 447,
    "start_time": "2022-01-25T11:22:52.724Z"
   },
   {
    "duration": 375,
    "start_time": "2022-01-25T11:22:55.732Z"
   },
   {
    "duration": 1549,
    "start_time": "2022-01-25T11:22:56.846Z"
   },
   {
    "duration": 1186,
    "start_time": "2022-01-25T11:24:19.237Z"
   },
   {
    "duration": 749,
    "start_time": "2022-01-25T11:24:57.129Z"
   },
   {
    "duration": 627,
    "start_time": "2022-01-25T11:25:09.109Z"
   },
   {
    "duration": 587,
    "start_time": "2022-01-25T11:25:34.161Z"
   },
   {
    "duration": 592,
    "start_time": "2022-01-25T11:26:08.838Z"
   },
   {
    "duration": 552,
    "start_time": "2022-01-25T11:26:29.296Z"
   },
   {
    "duration": 563,
    "start_time": "2022-01-25T11:27:32.091Z"
   },
   {
    "duration": 717,
    "start_time": "2022-01-25T11:27:46.647Z"
   },
   {
    "duration": 1479,
    "start_time": "2022-01-25T11:27:47.366Z"
   },
   {
    "duration": 447,
    "start_time": "2022-01-25T11:27:50.355Z"
   },
   {
    "duration": 1150,
    "start_time": "2022-01-25T11:29:26.378Z"
   },
   {
    "duration": 1143,
    "start_time": "2022-01-25T11:29:48.936Z"
   },
   {
    "duration": 1370,
    "start_time": "2022-01-25T11:29:58.950Z"
   },
   {
    "duration": 1305,
    "start_time": "2022-01-25T11:30:20.288Z"
   },
   {
    "duration": 914,
    "start_time": "2022-01-25T11:30:35.209Z"
   },
   {
    "duration": 889,
    "start_time": "2022-01-25T11:30:53.223Z"
   },
   {
    "duration": 1124,
    "start_time": "2022-01-25T11:31:19.181Z"
   },
   {
    "duration": 465,
    "start_time": "2022-01-25T11:31:30.284Z"
   },
   {
    "duration": 500,
    "start_time": "2022-01-25T11:32:11.399Z"
   },
   {
    "duration": 279,
    "start_time": "2022-01-25T11:32:32.542Z"
   },
   {
    "duration": 61,
    "start_time": "2022-01-25T11:38:09.522Z"
   },
   {
    "duration": 41,
    "start_time": "2022-01-25T11:38:11.173Z"
   },
   {
    "duration": 13,
    "start_time": "2022-01-25T11:38:13.216Z"
   },
   {
    "duration": 432,
    "start_time": "2022-01-25T11:38:15.354Z"
   },
   {
    "duration": 591,
    "start_time": "2022-01-25T11:38:19.135Z"
   },
   {
    "duration": 1593,
    "start_time": "2022-01-25T11:38:21.531Z"
   },
   {
    "duration": 486,
    "start_time": "2022-01-25T11:38:23.504Z"
   },
   {
    "duration": 274,
    "start_time": "2022-01-25T11:38:27.290Z"
   },
   {
    "duration": 872,
    "start_time": "2022-01-25T11:38:31.259Z"
   },
   {
    "duration": 5525,
    "start_time": "2022-01-25T11:38:36.373Z"
   },
   {
    "duration": 279,
    "start_time": "2022-01-25T11:38:41.900Z"
   },
   {
    "duration": 869,
    "start_time": "2022-01-25T11:38:44.157Z"
   },
   {
    "duration": 1108,
    "start_time": "2022-01-25T11:38:45.617Z"
   },
   {
    "duration": 871,
    "start_time": "2022-01-25T11:38:47.497Z"
   },
   {
    "duration": 6,
    "start_time": "2022-01-25T11:38:51.479Z"
   },
   {
    "duration": 6,
    "start_time": "2022-01-25T11:38:52.506Z"
   },
   {
    "duration": 11,
    "start_time": "2022-01-25T11:38:56.689Z"
   },
   {
    "duration": 7,
    "start_time": "2022-01-25T11:38:57.766Z"
   },
   {
    "duration": 1765,
    "start_time": "2022-04-29T15:05:09.667Z"
   },
   {
    "duration": 170,
    "start_time": "2022-04-29T15:05:12.954Z"
   },
   {
    "duration": 15,
    "start_time": "2022-04-29T15:05:13.628Z"
   },
   {
    "duration": 568,
    "start_time": "2022-04-29T15:05:14.153Z"
   },
   {
    "duration": 713,
    "start_time": "2022-04-29T15:05:14.846Z"
   },
   {
    "duration": 1832,
    "start_time": "2022-04-29T15:05:15.561Z"
   },
   {
    "duration": 710,
    "start_time": "2022-04-29T15:05:17.396Z"
   },
   {
    "duration": 297,
    "start_time": "2022-04-29T15:05:18.108Z"
   },
   {
    "duration": 18,
    "start_time": "2022-04-29T15:05:18.407Z"
   },
   {
    "duration": 0,
    "start_time": "2022-04-29T15:05:18.427Z"
   },
   {
    "duration": 326,
    "start_time": "2022-04-29T15:05:19.037Z"
   },
   {
    "duration": 1040,
    "start_time": "2022-04-29T15:05:19.775Z"
   },
   {
    "duration": 1073,
    "start_time": "2022-04-29T15:05:20.818Z"
   },
   {
    "duration": 1064,
    "start_time": "2022-04-29T15:05:21.894Z"
   },
   {
    "duration": 22,
    "start_time": "2022-04-29T15:05:22.961Z"
   },
   {
    "duration": 0,
    "start_time": "2022-04-29T15:05:22.986Z"
   },
   {
    "duration": 0,
    "start_time": "2022-04-29T15:05:22.988Z"
   },
   {
    "duration": 1,
    "start_time": "2022-04-29T15:05:22.990Z"
   },
   {
    "duration": 31,
    "start_time": "2022-04-29T15:06:06.461Z"
   },
   {
    "duration": 68,
    "start_time": "2022-04-29T15:06:15.533Z"
   },
   {
    "duration": 87,
    "start_time": "2022-04-29T15:06:22.519Z"
   },
   {
    "duration": 15,
    "start_time": "2022-04-29T15:06:29.727Z"
   },
   {
    "duration": 714,
    "start_time": "2022-04-29T15:06:30.220Z"
   },
   {
    "duration": 791,
    "start_time": "2022-04-29T15:06:30.937Z"
   },
   {
    "duration": 2508,
    "start_time": "2022-04-29T15:06:31.732Z"
   },
   {
    "duration": 742,
    "start_time": "2022-04-29T15:06:34.244Z"
   },
   {
    "duration": 306,
    "start_time": "2022-04-29T15:06:34.988Z"
   },
   {
    "duration": 15,
    "start_time": "2022-04-29T15:06:35.297Z"
   },
   {
    "duration": 0,
    "start_time": "2022-04-29T15:06:35.315Z"
   },
   {
    "duration": 0,
    "start_time": "2022-04-29T15:06:35.317Z"
   },
   {
    "duration": 1409,
    "start_time": "2022-04-29T15:06:35.542Z"
   },
   {
    "duration": 1085,
    "start_time": "2022-04-29T15:06:36.954Z"
   },
   {
    "duration": 977,
    "start_time": "2022-04-29T15:06:38.041Z"
   },
   {
    "duration": 13,
    "start_time": "2022-04-29T15:06:39.021Z"
   },
   {
    "duration": 0,
    "start_time": "2022-04-29T15:06:39.035Z"
   },
   {
    "duration": 0,
    "start_time": "2022-04-29T15:06:39.037Z"
   },
   {
    "duration": 0,
    "start_time": "2022-04-29T15:06:39.039Z"
   },
   {
    "duration": 1006,
    "start_time": "2022-04-29T15:09:43.859Z"
   },
   {
    "duration": 853,
    "start_time": "2022-04-29T15:09:54.298Z"
   },
   {
    "duration": 7034,
    "start_time": "2022-04-29T15:09:55.998Z"
   },
   {
    "duration": 343,
    "start_time": "2022-04-29T15:10:03.035Z"
   },
   {
    "duration": 1026,
    "start_time": "2022-04-29T15:10:03.382Z"
   },
   {
    "duration": 1078,
    "start_time": "2022-04-29T15:10:04.412Z"
   },
   {
    "duration": 1102,
    "start_time": "2022-04-29T15:10:05.493Z"
   },
   {
    "duration": 14,
    "start_time": "2022-04-29T15:10:06.597Z"
   },
   {
    "duration": 0,
    "start_time": "2022-04-29T15:10:06.614Z"
   },
   {
    "duration": 0,
    "start_time": "2022-04-29T15:10:06.616Z"
   },
   {
    "duration": 0,
    "start_time": "2022-04-29T15:10:06.617Z"
   },
   {
    "duration": 17,
    "start_time": "2022-04-29T15:11:29.235Z"
   },
   {
    "duration": 22,
    "start_time": "2022-04-29T15:12:24.541Z"
   },
   {
    "duration": 14,
    "start_time": "2022-04-29T15:12:34.269Z"
   },
   {
    "duration": 15,
    "start_time": "2022-04-29T15:12:58.416Z"
   },
   {
    "duration": 9,
    "start_time": "2022-04-29T15:12:59.717Z"
   },
   {
    "duration": 16,
    "start_time": "2022-04-29T15:13:01.050Z"
   },
   {
    "duration": 10,
    "start_time": "2022-04-29T15:13:01.900Z"
   },
   {
    "duration": 92,
    "start_time": "2022-04-29T15:14:38.364Z"
   },
   {
    "duration": 65,
    "start_time": "2022-04-29T15:14:38.700Z"
   },
   {
    "duration": 13,
    "start_time": "2022-04-29T15:14:39.182Z"
   },
   {
    "duration": 540,
    "start_time": "2022-04-29T15:14:39.503Z"
   },
   {
    "duration": 750,
    "start_time": "2022-04-29T15:14:40.045Z"
   },
   {
    "duration": 1854,
    "start_time": "2022-04-29T15:14:40.798Z"
   },
   {
    "duration": 751,
    "start_time": "2022-04-29T15:14:42.654Z"
   },
   {
    "duration": 298,
    "start_time": "2022-04-29T15:14:43.409Z"
   },
   {
    "duration": 532,
    "start_time": "2022-04-29T15:14:43.709Z"
   },
   {
    "duration": 4925,
    "start_time": "2022-04-29T15:14:44.243Z"
   },
   {
    "duration": 338,
    "start_time": "2022-04-29T15:14:49.170Z"
   },
   {
    "duration": 1032,
    "start_time": "2022-04-29T15:14:49.510Z"
   },
   {
    "duration": 1175,
    "start_time": "2022-04-29T15:14:50.547Z"
   },
   {
    "duration": 1088,
    "start_time": "2022-04-29T15:14:51.724Z"
   },
   {
    "duration": 15,
    "start_time": "2022-04-29T15:14:52.815Z"
   },
   {
    "duration": 20,
    "start_time": "2022-04-29T15:14:52.833Z"
   },
   {
    "duration": 45,
    "start_time": "2022-04-29T15:14:52.856Z"
   },
   {
    "duration": 15,
    "start_time": "2022-04-29T15:14:52.903Z"
   }
  ],
  "kernelspec": {
   "display_name": "Python 3 (ipykernel)",
   "language": "python",
   "name": "python3"
  },
  "language_info": {
   "codemirror_mode": {
    "name": "ipython",
    "version": 3
   },
   "file_extension": ".py",
   "mimetype": "text/x-python",
   "name": "python",
   "nbconvert_exporter": "python",
   "pygments_lexer": "ipython3",
   "version": "3.9.5"
  },
  "toc": {
   "base_numbering": 1,
   "nav_menu": {},
   "number_sections": true,
   "sideBar": true,
   "skip_h1_title": true,
   "title_cell": "Table of Contents",
   "title_sidebar": "Contents",
   "toc_cell": false,
   "toc_position": {},
   "toc_section_display": true,
   "toc_window_display": false
  }
 },
 "nbformat": 4,
 "nbformat_minor": 2
}
