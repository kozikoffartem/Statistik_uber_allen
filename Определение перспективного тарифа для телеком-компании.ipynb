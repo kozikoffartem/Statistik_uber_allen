{
 "cells": [
  {
   "cell_type": "markdown",
   "metadata": {},
   "source": [
    "# Определение перспективного тарифа для телеком-компании"
   ]
  },
  {
   "cell_type": "markdown",
   "metadata": {},
   "source": [
    "## Описание проекта"
   ]
  },
  {
   "cell_type": "markdown",
   "metadata": {},
   "source": [
    "Вы аналитик компании «Мегалайн» — федерального оператора сотовой связи. Клиентам предлагают два тарифных плана: «Смарт» и «Ультра». Чтобы скорректировать рекламный бюджет, коммерческий департамент хочет понять, какой тариф приносит больше денег.\n",
    "Вам предстоит сделать предварительный анализ тарифов на небольшой выборке клиентов. В вашем распоряжении данные 500 пользователей «Мегалайна»: кто они, откуда, каким тарифом пользуются, сколько звонков и сообщений каждый отправил за 2018 год. Нужно проанализировать поведение клиентов и сделать вывод — какой тариф лучше."
   ]
  },
  {
   "cell_type": "markdown",
   "metadata": {},
   "source": [
    "## Шаг 1. Откройте файл с данными и изучите общую информацию"
   ]
  },
  {
   "cell_type": "code",
   "execution_count": 2,
   "metadata": {},
   "outputs": [
    {
     "name": "stdout",
     "output_type": "stream",
     "text": [
      "ИНФОРМАЦИЯ О ЗВОНКАХ\n",
      "<class 'pandas.core.frame.DataFrame'>\n",
      "RangeIndex: 202607 entries, 0 to 202606\n",
      "Data columns (total 4 columns):\n",
      "id           202607 non-null object\n",
      "call_date    202607 non-null object\n",
      "duration     202607 non-null float64\n",
      "user_id      202607 non-null int64\n",
      "dtypes: float64(1), int64(1), object(2)\n",
      "memory usage: 6.2+ MB\n",
      "       id   call_date  duration  user_id\n",
      "0  1000_0  2018-07-25      0.00     1000\n",
      "1  1000_1  2018-08-17      0.00     1000\n",
      "2  1000_2  2018-06-11      2.85     1000\n",
      "3  1000_3  2018-09-21     13.80     1000\n",
      "4  1000_4  2018-12-15      5.18     1000\n",
      "-----------------------------------\n",
      "ИНФОРМАЦИЯ ОБ ИНТЕРНЕТ-СЕССИЯХ\n",
      "<class 'pandas.core.frame.DataFrame'>\n",
      "RangeIndex: 149396 entries, 0 to 149395\n",
      "Data columns (total 5 columns):\n",
      "Unnamed: 0      149396 non-null int64\n",
      "id              149396 non-null object\n",
      "mb_used         149396 non-null float64\n",
      "session_date    149396 non-null object\n",
      "user_id         149396 non-null int64\n",
      "dtypes: float64(1), int64(2), object(2)\n",
      "memory usage: 5.7+ MB\n",
      "   Unnamed: 0      id  mb_used session_date  user_id\n",
      "0           0  1000_0   112.95   2018-11-25     1000\n",
      "1           1  1000_1  1052.81   2018-09-07     1000\n",
      "2           2  1000_2  1197.26   2018-06-25     1000\n",
      "3           3  1000_3   550.27   2018-08-22     1000\n",
      "4           4  1000_4   302.56   2018-09-24     1000\n",
      "------------------------------------\n",
      "ИНФОРМАЦИЯ О СООБЩЕНИЯХ\n",
      "<class 'pandas.core.frame.DataFrame'>\n",
      "RangeIndex: 123036 entries, 0 to 123035\n",
      "Data columns (total 3 columns):\n",
      "id              123036 non-null object\n",
      "message_date    123036 non-null object\n",
      "user_id         123036 non-null int64\n",
      "dtypes: int64(1), object(2)\n",
      "memory usage: 2.8+ MB\n",
      "       id message_date  user_id\n",
      "0  1000_0   2018-06-27     1000\n",
      "1  1000_1   2018-10-08     1000\n",
      "2  1000_2   2018-08-04     1000\n",
      "3  1000_3   2018-06-16     1000\n",
      "4  1000_4   2018-12-05     1000\n",
      "------------------------------------\n",
      "ИНФОРМАЦИЯ О ТАРИФАХ\n",
      "<class 'pandas.core.frame.DataFrame'>\n",
      "RangeIndex: 2 entries, 0 to 1\n",
      "Data columns (total 8 columns):\n",
      "messages_included        2 non-null int64\n",
      "mb_per_month_included    2 non-null int64\n",
      "minutes_included         2 non-null int64\n",
      "rub_monthly_fee          2 non-null int64\n",
      "rub_per_gb               2 non-null int64\n",
      "rub_per_message          2 non-null int64\n",
      "rub_per_minute           2 non-null int64\n",
      "tariff_name              2 non-null object\n",
      "dtypes: int64(7), object(1)\n",
      "memory usage: 256.0+ bytes\n",
      "   messages_included  mb_per_month_included  minutes_included  \\\n",
      "0                 50                  15360               500   \n",
      "1               1000                  30720              3000   \n",
      "\n",
      "   rub_monthly_fee  rub_per_gb  rub_per_message  rub_per_minute tariff_name  \n",
      "0              550         200                3               3       smart  \n",
      "1             1950         150                1               1       ultra  \n",
      "------------------------------------\n",
      "ИНФОРМАЦИЯ О ПОЛЬЗОВАТЕЛЯХ\n",
      "<class 'pandas.core.frame.DataFrame'>\n",
      "RangeIndex: 500 entries, 0 to 499\n",
      "Data columns (total 8 columns):\n",
      "user_id       500 non-null int64\n",
      "age           500 non-null int64\n",
      "churn_date    38 non-null object\n",
      "city          500 non-null object\n",
      "first_name    500 non-null object\n",
      "last_name     500 non-null object\n",
      "reg_date      500 non-null object\n",
      "tariff        500 non-null object\n",
      "dtypes: int64(2), object(6)\n",
      "memory usage: 31.4+ KB\n",
      "   user_id  age churn_date         city first_name  last_name    reg_date  \\\n",
      "0     1000   52        NaN    Краснодар     Рафаил  Верещагин  2018-05-25   \n",
      "1     1001   41        NaN       Москва       Иван       Ежов  2018-11-01   \n",
      "2     1002   59        NaN  Стерлитамак    Евгений  Абрамович  2018-06-17   \n",
      "3     1003   23        NaN       Москва      Белла   Белякова  2018-08-17   \n",
      "4     1004   68        NaN  Новокузнецк    Татьяна   Авдеенко  2018-05-14   \n",
      "\n",
      "  tariff  \n",
      "0  ultra  \n",
      "1  smart  \n",
      "2  smart  \n",
      "3  ultra  \n",
      "4  ultra  \n",
      "     user_id  age  churn_date         city first_name  last_name    reg_date  \\\n",
      "0       1000   52         NaN    Краснодар     Рафаил  Верещагин  2018-05-25   \n",
      "1       1001   41         NaN       Москва       Иван       Ежов  2018-11-01   \n",
      "2       1002   59         NaN  Стерлитамак    Евгений  Абрамович  2018-06-17   \n",
      "3       1003   23         NaN       Москва      Белла   Белякова  2018-08-17   \n",
      "4       1004   68         NaN  Новокузнецк    Татьяна   Авдеенко  2018-05-14   \n",
      "..       ...  ...         ...          ...        ...        ...         ...   \n",
      "495     1495   65         NaN      Иркутск  Авксентий      Фокин  2018-08-28   \n",
      "496     1496   36         NaN      Вологда     Трифон     Блохин  2018-01-27   \n",
      "497     1497   32         NaN    Челябинск   Каролина     Агеева  2018-10-09   \n",
      "498     1498   68  2018-10-25  Владикавказ   Всеволод    Акимчин  2018-07-19   \n",
      "499     1499   35         NaN        Пермь     Гектор   Корнилов  2018-09-27   \n",
      "\n",
      "    tariff  \n",
      "0    ultra  \n",
      "1    smart  \n",
      "2    smart  \n",
      "3    ultra  \n",
      "4    ultra  \n",
      "..     ...  \n",
      "495  ultra  \n",
      "496  smart  \n",
      "497  smart  \n",
      "498  smart  \n",
      "499  smart  \n",
      "\n",
      "[500 rows x 8 columns]\n"
     ]
    }
   ],
   "source": [
    "import pandas as pd\n",
    "import numpy as np\n",
    "from scipy import stats as st\n",
    "import matplotlib.pyplot as plt\n",
    "from matplotlib import pyplot\n",
    "from scipy.stats import levene\n",
    "plt.style.use('seaborn-deep')\n",
    "calls = pd.read_csv('/datasets/calls.csv') # Таблица calls (информация о звонках)\n",
    "internet = pd.read_csv('/datasets/internet.csv') # Таблица internet (информация об интернет-сессиях)\n",
    "messages = pd.read_csv('/datasets/messages.csv') # Таблица messages (информация о сообщениях)\n",
    "tariffs = pd.read_csv('/datasets/tariffs.csv') # Таблица tariffs (информация о тарифах)\n",
    "users = pd.read_csv('/datasets/users.csv') # Таблица users (информация о пользователях)\n",
    "print('ИНФОРМАЦИЯ О ЗВОНКАХ')\n",
    "calls.info()\n",
    "print(calls.head())\n",
    "print('-----------------------------------')\n",
    "print('ИНФОРМАЦИЯ ОБ ИНТЕРНЕТ-СЕССИЯХ')\n",
    "internet.info()\n",
    "print(internet.head())\n",
    "print('------------------------------------')\n",
    "print('ИНФОРМАЦИЯ О СООБЩЕНИЯХ')\n",
    "messages.info()\n",
    "print(messages.head())\n",
    "print('------------------------------------')\n",
    "print('ИНФОРМАЦИЯ О ТАРИФАХ')\n",
    "tariffs.info()\n",
    "print(tariffs.head())\n",
    "print('------------------------------------')\n",
    "print('ИНФОРМАЦИЯ О ПОЛЬЗОВАТЕЛЯХ')\n",
    "users.info()\n",
    "print(users.head())\n",
    "print(users)"
   ]
  },
  {
   "cell_type": "markdown",
   "metadata": {},
   "source": [
    "## Предобработка данных"
   ]
  },
  {
   "cell_type": "code",
   "execution_count": 3,
   "metadata": {},
   "outputs": [
    {
     "name": "stdout",
     "output_type": "stream",
     "text": [
      "-----------------------------------\n",
      "ИНФОРМАЦИЯ О ЗВОНКАХ\n",
      "-----------------------------------\n"
     ]
    },
    {
     "data": {
      "text/html": [
       "<div>\n",
       "<style scoped>\n",
       "    .dataframe tbody tr th:only-of-type {\n",
       "        vertical-align: middle;\n",
       "    }\n",
       "\n",
       "    .dataframe tbody tr th {\n",
       "        vertical-align: top;\n",
       "    }\n",
       "\n",
       "    .dataframe thead th {\n",
       "        text-align: right;\n",
       "    }\n",
       "</style>\n",
       "<table border=\"1\" class=\"dataframe\">\n",
       "  <thead>\n",
       "    <tr style=\"text-align: right;\">\n",
       "      <th></th>\n",
       "      <th>id</th>\n",
       "      <th>call_date</th>\n",
       "      <th>duration</th>\n",
       "      <th>user_id</th>\n",
       "    </tr>\n",
       "  </thead>\n",
       "  <tbody>\n",
       "    <tr>\n",
       "      <td>0</td>\n",
       "      <td>1000_0</td>\n",
       "      <td>2018-07-25</td>\n",
       "      <td>0</td>\n",
       "      <td>1000</td>\n",
       "    </tr>\n",
       "    <tr>\n",
       "      <td>1</td>\n",
       "      <td>1000_1</td>\n",
       "      <td>2018-08-17</td>\n",
       "      <td>0</td>\n",
       "      <td>1000</td>\n",
       "    </tr>\n",
       "    <tr>\n",
       "      <td>2</td>\n",
       "      <td>1000_2</td>\n",
       "      <td>2018-06-11</td>\n",
       "      <td>3</td>\n",
       "      <td>1000</td>\n",
       "    </tr>\n",
       "    <tr>\n",
       "      <td>3</td>\n",
       "      <td>1000_3</td>\n",
       "      <td>2018-09-21</td>\n",
       "      <td>14</td>\n",
       "      <td>1000</td>\n",
       "    </tr>\n",
       "    <tr>\n",
       "      <td>4</td>\n",
       "      <td>1000_4</td>\n",
       "      <td>2018-12-15</td>\n",
       "      <td>6</td>\n",
       "      <td>1000</td>\n",
       "    </tr>\n",
       "  </tbody>\n",
       "</table>\n",
       "</div>"
      ],
      "text/plain": [
       "       id  call_date  duration  user_id\n",
       "0  1000_0 2018-07-25         0     1000\n",
       "1  1000_1 2018-08-17         0     1000\n",
       "2  1000_2 2018-06-11         3     1000\n",
       "3  1000_3 2018-09-21        14     1000\n",
       "4  1000_4 2018-12-15         6     1000"
      ]
     },
     "metadata": {},
     "output_type": "display_data"
    },
    {
     "name": "stdout",
     "output_type": "stream",
     "text": [
      "-----------------------------------\n",
      "ИНФОРМАЦИЯ ОБ ИНТЕРНЕТ-СЕССИЯХ\n",
      "-----------------------------------\n"
     ]
    },
    {
     "data": {
      "text/html": [
       "<div>\n",
       "<style scoped>\n",
       "    .dataframe tbody tr th:only-of-type {\n",
       "        vertical-align: middle;\n",
       "    }\n",
       "\n",
       "    .dataframe tbody tr th {\n",
       "        vertical-align: top;\n",
       "    }\n",
       "\n",
       "    .dataframe thead th {\n",
       "        text-align: right;\n",
       "    }\n",
       "</style>\n",
       "<table border=\"1\" class=\"dataframe\">\n",
       "  <thead>\n",
       "    <tr style=\"text-align: right;\">\n",
       "      <th></th>\n",
       "      <th>Unnamed: 0</th>\n",
       "      <th>id</th>\n",
       "      <th>mb_used</th>\n",
       "      <th>session_date</th>\n",
       "      <th>user_id</th>\n",
       "    </tr>\n",
       "  </thead>\n",
       "  <tbody>\n",
       "    <tr>\n",
       "      <td>0</td>\n",
       "      <td>0</td>\n",
       "      <td>1000_0</td>\n",
       "      <td>112.95</td>\n",
       "      <td>2018-11-25</td>\n",
       "      <td>1000</td>\n",
       "    </tr>\n",
       "    <tr>\n",
       "      <td>1</td>\n",
       "      <td>1</td>\n",
       "      <td>1000_1</td>\n",
       "      <td>1052.81</td>\n",
       "      <td>2018-09-07</td>\n",
       "      <td>1000</td>\n",
       "    </tr>\n",
       "    <tr>\n",
       "      <td>2</td>\n",
       "      <td>2</td>\n",
       "      <td>1000_2</td>\n",
       "      <td>1197.26</td>\n",
       "      <td>2018-06-25</td>\n",
       "      <td>1000</td>\n",
       "    </tr>\n",
       "    <tr>\n",
       "      <td>3</td>\n",
       "      <td>3</td>\n",
       "      <td>1000_3</td>\n",
       "      <td>550.27</td>\n",
       "      <td>2018-08-22</td>\n",
       "      <td>1000</td>\n",
       "    </tr>\n",
       "    <tr>\n",
       "      <td>4</td>\n",
       "      <td>4</td>\n",
       "      <td>1000_4</td>\n",
       "      <td>302.56</td>\n",
       "      <td>2018-09-24</td>\n",
       "      <td>1000</td>\n",
       "    </tr>\n",
       "  </tbody>\n",
       "</table>\n",
       "</div>"
      ],
      "text/plain": [
       "   Unnamed: 0      id  mb_used session_date  user_id\n",
       "0           0  1000_0   112.95   2018-11-25     1000\n",
       "1           1  1000_1  1052.81   2018-09-07     1000\n",
       "2           2  1000_2  1197.26   2018-06-25     1000\n",
       "3           3  1000_3   550.27   2018-08-22     1000\n",
       "4           4  1000_4   302.56   2018-09-24     1000"
      ]
     },
     "metadata": {},
     "output_type": "display_data"
    },
    {
     "name": "stdout",
     "output_type": "stream",
     "text": [
      "-----------------------------------\n",
      "ИНФОРМАЦИЯ О ПОЛЬЗОВАТЕЛЯХ\n",
      "-----------------------------------\n"
     ]
    },
    {
     "data": {
      "text/html": [
       "<div>\n",
       "<style scoped>\n",
       "    .dataframe tbody tr th:only-of-type {\n",
       "        vertical-align: middle;\n",
       "    }\n",
       "\n",
       "    .dataframe tbody tr th {\n",
       "        vertical-align: top;\n",
       "    }\n",
       "\n",
       "    .dataframe thead th {\n",
       "        text-align: right;\n",
       "    }\n",
       "</style>\n",
       "<table border=\"1\" class=\"dataframe\">\n",
       "  <thead>\n",
       "    <tr style=\"text-align: right;\">\n",
       "      <th></th>\n",
       "      <th>user_id</th>\n",
       "      <th>age</th>\n",
       "      <th>churn_date</th>\n",
       "      <th>city</th>\n",
       "      <th>first_name</th>\n",
       "      <th>last_name</th>\n",
       "      <th>reg_date</th>\n",
       "      <th>tariff</th>\n",
       "    </tr>\n",
       "  </thead>\n",
       "  <tbody>\n",
       "    <tr>\n",
       "      <td>0</td>\n",
       "      <td>1000</td>\n",
       "      <td>52</td>\n",
       "      <td>Действует</td>\n",
       "      <td>Краснодар</td>\n",
       "      <td>Рафаил</td>\n",
       "      <td>Верещагин</td>\n",
       "      <td>2018-05-25</td>\n",
       "      <td>ultra</td>\n",
       "    </tr>\n",
       "    <tr>\n",
       "      <td>1</td>\n",
       "      <td>1001</td>\n",
       "      <td>41</td>\n",
       "      <td>Действует</td>\n",
       "      <td>Москва</td>\n",
       "      <td>Иван</td>\n",
       "      <td>Ежов</td>\n",
       "      <td>2018-11-01</td>\n",
       "      <td>smart</td>\n",
       "    </tr>\n",
       "    <tr>\n",
       "      <td>2</td>\n",
       "      <td>1002</td>\n",
       "      <td>59</td>\n",
       "      <td>Действует</td>\n",
       "      <td>Стерлитамак</td>\n",
       "      <td>Евгений</td>\n",
       "      <td>Абрамович</td>\n",
       "      <td>2018-06-17</td>\n",
       "      <td>smart</td>\n",
       "    </tr>\n",
       "    <tr>\n",
       "      <td>3</td>\n",
       "      <td>1003</td>\n",
       "      <td>23</td>\n",
       "      <td>Действует</td>\n",
       "      <td>Москва</td>\n",
       "      <td>Белла</td>\n",
       "      <td>Белякова</td>\n",
       "      <td>2018-08-17</td>\n",
       "      <td>ultra</td>\n",
       "    </tr>\n",
       "    <tr>\n",
       "      <td>4</td>\n",
       "      <td>1004</td>\n",
       "      <td>68</td>\n",
       "      <td>Действует</td>\n",
       "      <td>Новокузнецк</td>\n",
       "      <td>Татьяна</td>\n",
       "      <td>Авдеенко</td>\n",
       "      <td>2018-05-14</td>\n",
       "      <td>ultra</td>\n",
       "    </tr>\n",
       "  </tbody>\n",
       "</table>\n",
       "</div>"
      ],
      "text/plain": [
       "   user_id  age churn_date         city first_name  last_name   reg_date  \\\n",
       "0     1000   52  Действует    Краснодар     Рафаил  Верещагин 2018-05-25   \n",
       "1     1001   41  Действует       Москва       Иван       Ежов 2018-11-01   \n",
       "2     1002   59  Действует  Стерлитамак    Евгений  Абрамович 2018-06-17   \n",
       "3     1003   23  Действует       Москва      Белла   Белякова 2018-08-17   \n",
       "4     1004   68  Действует  Новокузнецк    Татьяна   Авдеенко 2018-05-14   \n",
       "\n",
       "  tariff  \n",
       "0  ultra  \n",
       "1  smart  \n",
       "2  smart  \n",
       "3  ultra  \n",
       "4  ultra  "
      ]
     },
     "metadata": {},
     "output_type": "display_data"
    },
    {
     "name": "stdout",
     "output_type": "stream",
     "text": [
      "-----------------------------------\n",
      "ИНФОРМАЦИЯ О СООБЩЕНИЯХ\n",
      "-----------------------------------\n"
     ]
    },
    {
     "data": {
      "text/html": [
       "<div>\n",
       "<style scoped>\n",
       "    .dataframe tbody tr th:only-of-type {\n",
       "        vertical-align: middle;\n",
       "    }\n",
       "\n",
       "    .dataframe tbody tr th {\n",
       "        vertical-align: top;\n",
       "    }\n",
       "\n",
       "    .dataframe thead th {\n",
       "        text-align: right;\n",
       "    }\n",
       "</style>\n",
       "<table border=\"1\" class=\"dataframe\">\n",
       "  <thead>\n",
       "    <tr style=\"text-align: right;\">\n",
       "      <th></th>\n",
       "      <th>id</th>\n",
       "      <th>message_date</th>\n",
       "      <th>user_id</th>\n",
       "    </tr>\n",
       "  </thead>\n",
       "  <tbody>\n",
       "    <tr>\n",
       "      <td>0</td>\n",
       "      <td>1000_0</td>\n",
       "      <td>2018-06-27</td>\n",
       "      <td>1000</td>\n",
       "    </tr>\n",
       "    <tr>\n",
       "      <td>1</td>\n",
       "      <td>1000_1</td>\n",
       "      <td>2018-10-08</td>\n",
       "      <td>1000</td>\n",
       "    </tr>\n",
       "    <tr>\n",
       "      <td>2</td>\n",
       "      <td>1000_2</td>\n",
       "      <td>2018-08-04</td>\n",
       "      <td>1000</td>\n",
       "    </tr>\n",
       "    <tr>\n",
       "      <td>3</td>\n",
       "      <td>1000_3</td>\n",
       "      <td>2018-06-16</td>\n",
       "      <td>1000</td>\n",
       "    </tr>\n",
       "    <tr>\n",
       "      <td>4</td>\n",
       "      <td>1000_4</td>\n",
       "      <td>2018-12-05</td>\n",
       "      <td>1000</td>\n",
       "    </tr>\n",
       "  </tbody>\n",
       "</table>\n",
       "</div>"
      ],
      "text/plain": [
       "       id message_date  user_id\n",
       "0  1000_0   2018-06-27     1000\n",
       "1  1000_1   2018-10-08     1000\n",
       "2  1000_2   2018-08-04     1000\n",
       "3  1000_3   2018-06-16     1000\n",
       "4  1000_4   2018-12-05     1000"
      ]
     },
     "metadata": {},
     "output_type": "display_data"
    },
    {
     "name": "stdout",
     "output_type": "stream",
     "text": [
      "-----------------------------------\n"
     ]
    }
   ],
   "source": [
    "calls['duration'] = np.ceil(calls['duration']).astype(int) # округлил минуты до высшего значения и перевёл в формат int\n",
    "calls['call_date'] = pd.to_datetime(calls['call_date']) # изменил формат даты\n",
    "print('-----------------------------------')\n",
    "print('ИНФОРМАЦИЯ О ЗВОНКАХ')\n",
    "print('-----------------------------------')\n",
    "display(calls.head())\n",
    "\n",
    "internet['session_date'] = pd.to_datetime(internet['session_date']) # изменил формат даты\n",
    "print('-----------------------------------')\n",
    "print('ИНФОРМАЦИЯ ОБ ИНТЕРНЕТ-СЕССИЯХ')\n",
    "print('-----------------------------------')\n",
    "display(internet.head())\n",
    "\n",
    "users['reg_date'] = pd.to_datetime(users['reg_date']) # изменил формат даты\n",
    "users['churn_date'] = users['churn_date'].fillna(value='Действует') # заменил Nan на \"Действует\"\n",
    "print('-----------------------------------')\n",
    "print('ИНФОРМАЦИЯ О ПОЛЬЗОВАТЕЛЯХ')\n",
    "print('-----------------------------------')\n",
    "display(users.head())\n",
    "\n",
    "messages['message_date'] = pd.to_datetime(messages['message_date']) # изменил формат даты\n",
    "print('-----------------------------------')\n",
    "print('ИНФОРМАЦИЯ О СООБЩЕНИЯХ')\n",
    "print('-----------------------------------')\n",
    "display(messages.head())\n",
    "print('-----------------------------------')\n",
    "\n",
    "\n",
    "\n",
    "\n"
   ]
  },
  {
   "cell_type": "markdown",
   "metadata": {},
   "source": [
    "<div class=\"alert alert-info\" style=\"border-radius: 15px; box-shadow: 4px 4px 4px;border: 1px solid \">\n",
    "<b> Комментарий студента</b>\n",
    "Ошибка №1: Неверный формат даты в таблице \"calls\"\n",
    "Ошибка №2: Неверный формат даты в таблице \"internet\"\n",
    "Ошибка №3: Неверный формат даты в таблице \"users\"\n",
    "Ошибка №4: В таблице \"users\" в столбце \"churn_date\" пропущенные значения Nan и так как эта колонка отвечает за даты прекращения пользования услугами оператора, то можно предположить что пропуски это действующие абоненты\n",
    "Ошибка №5: Неверный формат даты в таблице \"messages\"\n",
    "    \n",
    "\n",
    "\n",
    "\n"
   ]
  },
  {
   "cell_type": "markdown",
   "metadata": {},
   "source": [
    "<div class=\"alert alert-info\" style=\"border-radius: 15px; box-shadow: 4px 4px 4px;border: 1px solid \">\n",
    "<b> Комментарий студента</b>\n",
    "1: Округление таблицы Internet перенёс в ячейку снизу, так как именно там происходит расчёт суммарного трафика.\n",
    "   2: Выводы разделил."
   ]
  },
  {
   "cell_type": "markdown",
   "metadata": {},
   "source": [
    "## Количество сделанных звонков и израсходованных минут разговора по месяцам."
   ]
  },
  {
   "cell_type": "code",
   "execution_count": 4,
   "metadata": {},
   "outputs": [
    {
     "name": "stdout",
     "output_type": "stream",
     "text": [
      "-----------------------------------------------\n",
      "СУММА МИНУТ И КОЛИЧЕСТВО ЗВОНКОВ\n",
      "-----------------------------------------------\n"
     ]
    },
    {
     "data": {
      "text/html": [
       "<div>\n",
       "<style scoped>\n",
       "    .dataframe tbody tr th:only-of-type {\n",
       "        vertical-align: middle;\n",
       "    }\n",
       "\n",
       "    .dataframe tbody tr th {\n",
       "        vertical-align: top;\n",
       "    }\n",
       "\n",
       "    .dataframe thead th {\n",
       "        text-align: right;\n",
       "    }\n",
       "</style>\n",
       "<table border=\"1\" class=\"dataframe\">\n",
       "  <thead>\n",
       "    <tr style=\"text-align: right;\">\n",
       "      <th></th>\n",
       "      <th>user_id</th>\n",
       "      <th>month</th>\n",
       "      <th>calls_sum</th>\n",
       "      <th>calls_count</th>\n",
       "    </tr>\n",
       "  </thead>\n",
       "  <tbody>\n",
       "    <tr>\n",
       "      <td>0</td>\n",
       "      <td>1000</td>\n",
       "      <td>5</td>\n",
       "      <td>159</td>\n",
       "      <td>22</td>\n",
       "    </tr>\n",
       "    <tr>\n",
       "      <td>1</td>\n",
       "      <td>1000</td>\n",
       "      <td>6</td>\n",
       "      <td>172</td>\n",
       "      <td>43</td>\n",
       "    </tr>\n",
       "    <tr>\n",
       "      <td>2</td>\n",
       "      <td>1000</td>\n",
       "      <td>7</td>\n",
       "      <td>340</td>\n",
       "      <td>47</td>\n",
       "    </tr>\n",
       "    <tr>\n",
       "      <td>3</td>\n",
       "      <td>1000</td>\n",
       "      <td>8</td>\n",
       "      <td>408</td>\n",
       "      <td>52</td>\n",
       "    </tr>\n",
       "    <tr>\n",
       "      <td>4</td>\n",
       "      <td>1000</td>\n",
       "      <td>9</td>\n",
       "      <td>466</td>\n",
       "      <td>58</td>\n",
       "    </tr>\n",
       "    <tr>\n",
       "      <td>...</td>\n",
       "      <td>...</td>\n",
       "      <td>...</td>\n",
       "      <td>...</td>\n",
       "      <td>...</td>\n",
       "    </tr>\n",
       "    <tr>\n",
       "      <td>3169</td>\n",
       "      <td>1498</td>\n",
       "      <td>10</td>\n",
       "      <td>247</td>\n",
       "      <td>41</td>\n",
       "    </tr>\n",
       "    <tr>\n",
       "      <td>3170</td>\n",
       "      <td>1499</td>\n",
       "      <td>9</td>\n",
       "      <td>70</td>\n",
       "      <td>9</td>\n",
       "    </tr>\n",
       "    <tr>\n",
       "      <td>3171</td>\n",
       "      <td>1499</td>\n",
       "      <td>10</td>\n",
       "      <td>449</td>\n",
       "      <td>68</td>\n",
       "    </tr>\n",
       "    <tr>\n",
       "      <td>3172</td>\n",
       "      <td>1499</td>\n",
       "      <td>11</td>\n",
       "      <td>612</td>\n",
       "      <td>74</td>\n",
       "    </tr>\n",
       "    <tr>\n",
       "      <td>3173</td>\n",
       "      <td>1499</td>\n",
       "      <td>12</td>\n",
       "      <td>492</td>\n",
       "      <td>69</td>\n",
       "    </tr>\n",
       "  </tbody>\n",
       "</table>\n",
       "<p>3174 rows × 4 columns</p>\n",
       "</div>"
      ],
      "text/plain": [
       "      user_id  month  calls_sum  calls_count\n",
       "0        1000      5        159           22\n",
       "1        1000      6        172           43\n",
       "2        1000      7        340           47\n",
       "3        1000      8        408           52\n",
       "4        1000      9        466           58\n",
       "...       ...    ...        ...          ...\n",
       "3169     1498     10        247           41\n",
       "3170     1499      9         70            9\n",
       "3171     1499     10        449           68\n",
       "3172     1499     11        612           74\n",
       "3173     1499     12        492           69\n",
       "\n",
       "[3174 rows x 4 columns]"
      ]
     },
     "metadata": {},
     "output_type": "display_data"
    }
   ],
   "source": [
    "calls['month'] = pd.DatetimeIndex(calls['call_date']).month\n",
    "calls['month'] = calls['month'].astype('Int64')\n",
    "#________________________________________________________________________________\n",
    "\n",
    "calls_pivot = calls.groupby(['user_id', 'month'])\\\n",
    "                  .agg({'duration':'sum', 'id':'count'})\\\n",
    "                  .reset_index()\n",
    "calls_pivot = calls_pivot.rename(columns={'id' :\"calls_count\",'duration' :\"calls_sum\" })\n",
    "print('-----------------------------------------------')\n",
    "print('СУММА МИНУТ И КОЛИЧЕСТВО ЗВОНКОВ')\n",
    "print('-----------------------------------------------')\n",
    "display(calls_pivot)"
   ]
  },
  {
   "cell_type": "markdown",
   "metadata": {},
   "source": [
    "## Количество отправленных сообщений по месяцам."
   ]
  },
  {
   "cell_type": "code",
   "execution_count": 5,
   "metadata": {},
   "outputs": [
    {
     "name": "stdout",
     "output_type": "stream",
     "text": [
      "----------------------------------\n",
      "КОЛИЧЕСТВО СООБЩЕНИЙ\n",
      "----------------------------------\n"
     ]
    },
    {
     "data": {
      "text/html": [
       "<div>\n",
       "<style scoped>\n",
       "    .dataframe tbody tr th:only-of-type {\n",
       "        vertical-align: middle;\n",
       "    }\n",
       "\n",
       "    .dataframe tbody tr th {\n",
       "        vertical-align: top;\n",
       "    }\n",
       "\n",
       "    .dataframe thead th {\n",
       "        text-align: right;\n",
       "    }\n",
       "</style>\n",
       "<table border=\"1\" class=\"dataframe\">\n",
       "  <thead>\n",
       "    <tr style=\"text-align: right;\">\n",
       "      <th></th>\n",
       "      <th>user_id</th>\n",
       "      <th>month</th>\n",
       "      <th>messages_count</th>\n",
       "    </tr>\n",
       "  </thead>\n",
       "  <tbody>\n",
       "    <tr>\n",
       "      <td>0</td>\n",
       "      <td>1000</td>\n",
       "      <td>5</td>\n",
       "      <td>22</td>\n",
       "    </tr>\n",
       "    <tr>\n",
       "      <td>1</td>\n",
       "      <td>1000</td>\n",
       "      <td>6</td>\n",
       "      <td>60</td>\n",
       "    </tr>\n",
       "    <tr>\n",
       "      <td>2</td>\n",
       "      <td>1000</td>\n",
       "      <td>7</td>\n",
       "      <td>75</td>\n",
       "    </tr>\n",
       "    <tr>\n",
       "      <td>3</td>\n",
       "      <td>1000</td>\n",
       "      <td>8</td>\n",
       "      <td>81</td>\n",
       "    </tr>\n",
       "    <tr>\n",
       "      <td>4</td>\n",
       "      <td>1000</td>\n",
       "      <td>9</td>\n",
       "      <td>57</td>\n",
       "    </tr>\n",
       "    <tr>\n",
       "      <td>...</td>\n",
       "      <td>...</td>\n",
       "      <td>...</td>\n",
       "      <td>...</td>\n",
       "    </tr>\n",
       "    <tr>\n",
       "      <td>2712</td>\n",
       "      <td>1498</td>\n",
       "      <td>10</td>\n",
       "      <td>42</td>\n",
       "    </tr>\n",
       "    <tr>\n",
       "      <td>2713</td>\n",
       "      <td>1499</td>\n",
       "      <td>9</td>\n",
       "      <td>11</td>\n",
       "    </tr>\n",
       "    <tr>\n",
       "      <td>2714</td>\n",
       "      <td>1499</td>\n",
       "      <td>10</td>\n",
       "      <td>48</td>\n",
       "    </tr>\n",
       "    <tr>\n",
       "      <td>2715</td>\n",
       "      <td>1499</td>\n",
       "      <td>11</td>\n",
       "      <td>59</td>\n",
       "    </tr>\n",
       "    <tr>\n",
       "      <td>2716</td>\n",
       "      <td>1499</td>\n",
       "      <td>12</td>\n",
       "      <td>66</td>\n",
       "    </tr>\n",
       "  </tbody>\n",
       "</table>\n",
       "<p>2717 rows × 3 columns</p>\n",
       "</div>"
      ],
      "text/plain": [
       "      user_id  month  messages_count\n",
       "0        1000      5              22\n",
       "1        1000      6              60\n",
       "2        1000      7              75\n",
       "3        1000      8              81\n",
       "4        1000      9              57\n",
       "...       ...    ...             ...\n",
       "2712     1498     10              42\n",
       "2713     1499      9              11\n",
       "2714     1499     10              48\n",
       "2715     1499     11              59\n",
       "2716     1499     12              66\n",
       "\n",
       "[2717 rows x 3 columns]"
      ]
     },
     "metadata": {},
     "output_type": "display_data"
    }
   ],
   "source": [
    "messages['month'] = pd.DatetimeIndex(messages['message_date']).month\n",
    "messages['month'] = messages['month'].astype('Int64')\n",
    "#_________________________________________________________________________________________\n",
    "# КОЛИЧЕСТВО ОТПРАВЛЕННЫХ СООБЩЕНИЙ\n",
    "messages_pivot = messages.groupby(['user_id', 'month'])\\\n",
    "                        .agg({'id':'count'})\\\n",
    "                        .reset_index()\n",
    "messages_pivot = messages_pivot.rename(columns={'id' :\"messages_count\"})\n",
    "print('----------------------------------')\n",
    "print('КОЛИЧЕСТВО СООБЩЕНИЙ')\n",
    "print('----------------------------------')\n",
    "display(messages_pivot)"
   ]
  },
  {
   "cell_type": "markdown",
   "metadata": {},
   "source": [
    "## Объем израсходованного интернет-трафика по месяцам."
   ]
  },
  {
   "cell_type": "code",
   "execution_count": 6,
   "metadata": {},
   "outputs": [
    {
     "name": "stdout",
     "output_type": "stream",
     "text": [
      "-----------------------------------\n",
      "СУММА ИНТЕРНЕТ ТРАФФИКА\n",
      "-----------------------------------\n"
     ]
    },
    {
     "data": {
      "text/html": [
       "<div>\n",
       "<style scoped>\n",
       "    .dataframe tbody tr th:only-of-type {\n",
       "        vertical-align: middle;\n",
       "    }\n",
       "\n",
       "    .dataframe tbody tr th {\n",
       "        vertical-align: top;\n",
       "    }\n",
       "\n",
       "    .dataframe thead th {\n",
       "        text-align: right;\n",
       "    }\n",
       "</style>\n",
       "<table border=\"1\" class=\"dataframe\">\n",
       "  <thead>\n",
       "    <tr style=\"text-align: right;\">\n",
       "      <th></th>\n",
       "      <th>user_id</th>\n",
       "      <th>month</th>\n",
       "      <th>gm_used_sum</th>\n",
       "    </tr>\n",
       "  </thead>\n",
       "  <tbody>\n",
       "    <tr>\n",
       "      <td>0</td>\n",
       "      <td>1000</td>\n",
       "      <td>5</td>\n",
       "      <td>3</td>\n",
       "    </tr>\n",
       "    <tr>\n",
       "      <td>1</td>\n",
       "      <td>1000</td>\n",
       "      <td>6</td>\n",
       "      <td>23</td>\n",
       "    </tr>\n",
       "    <tr>\n",
       "      <td>2</td>\n",
       "      <td>1000</td>\n",
       "      <td>7</td>\n",
       "      <td>14</td>\n",
       "    </tr>\n",
       "    <tr>\n",
       "      <td>3</td>\n",
       "      <td>1000</td>\n",
       "      <td>8</td>\n",
       "      <td>14</td>\n",
       "    </tr>\n",
       "    <tr>\n",
       "      <td>4</td>\n",
       "      <td>1000</td>\n",
       "      <td>9</td>\n",
       "      <td>15</td>\n",
       "    </tr>\n",
       "    <tr>\n",
       "      <td>...</td>\n",
       "      <td>...</td>\n",
       "      <td>...</td>\n",
       "      <td>...</td>\n",
       "    </tr>\n",
       "    <tr>\n",
       "      <td>3198</td>\n",
       "      <td>1498</td>\n",
       "      <td>10</td>\n",
       "      <td>21</td>\n",
       "    </tr>\n",
       "    <tr>\n",
       "      <td>3199</td>\n",
       "      <td>1499</td>\n",
       "      <td>9</td>\n",
       "      <td>2</td>\n",
       "    </tr>\n",
       "    <tr>\n",
       "      <td>3200</td>\n",
       "      <td>1499</td>\n",
       "      <td>10</td>\n",
       "      <td>18</td>\n",
       "    </tr>\n",
       "    <tr>\n",
       "      <td>3201</td>\n",
       "      <td>1499</td>\n",
       "      <td>11</td>\n",
       "      <td>18</td>\n",
       "    </tr>\n",
       "    <tr>\n",
       "      <td>3202</td>\n",
       "      <td>1499</td>\n",
       "      <td>12</td>\n",
       "      <td>13</td>\n",
       "    </tr>\n",
       "  </tbody>\n",
       "</table>\n",
       "<p>3203 rows × 3 columns</p>\n",
       "</div>"
      ],
      "text/plain": [
       "      user_id  month  gm_used_sum\n",
       "0        1000      5            3\n",
       "1        1000      6           23\n",
       "2        1000      7           14\n",
       "3        1000      8           14\n",
       "4        1000      9           15\n",
       "...       ...    ...          ...\n",
       "3198     1498     10           21\n",
       "3199     1499      9            2\n",
       "3200     1499     10           18\n",
       "3201     1499     11           18\n",
       "3202     1499     12           13\n",
       "\n",
       "[3203 rows x 3 columns]"
      ]
     },
     "metadata": {},
     "output_type": "display_data"
    }
   ],
   "source": [
    "internet['month'] = pd.DatetimeIndex(internet['session_date']).month\n",
    "internet['month'] = internet['month'].astype('Int64')\n",
    "#_________________________________________________________________________________________\n",
    "# ОБЪЁМ ИНТЕРНЕТ-ТРАФФИКА \n",
    "internet_pivot = internet.groupby(['user_id', 'month'])\\\n",
    "                        .agg({'mb_used':'sum'})\\\n",
    "                        .reset_index()\n",
    "internet_pivot = internet_pivot.rename(columns={'mb_used' :\"gm_used_sum\"})\n",
    "internet_pivot['gm_used_sum'] = internet_pivot['gm_used_sum'] / 1024 # Перевёл значение в Гигабайты\n",
    "internet_pivot['gm_used_sum'] = np.ceil(internet_pivot['gm_used_sum']).astype(int) # округлил мегабайты до высшего значения и перевёл в формат int\n",
    "print('-----------------------------------')\n",
    "print('СУММА ИНТЕРНЕТ ТРАФФИКА')\n",
    "print('-----------------------------------')\n",
    "display(internet_pivot) "
   ]
  },
  {
   "cell_type": "code",
   "execution_count": 9,
   "metadata": {
    "scrolled": true
   },
   "outputs": [
    {
     "name": "stdout",
     "output_type": "stream",
     "text": [
      "      user_id  month  calls_sum  calls_count\n",
      "0        1000      5        159           22\n",
      "1        1000      6        172           43\n",
      "2        1000      7        340           47\n",
      "3        1000      8        408           52\n",
      "4        1000      9        466           58\n",
      "...       ...    ...        ...          ...\n",
      "3169     1498     10        247           41\n",
      "3170     1499      9         70            9\n",
      "3171     1499     10        449           68\n",
      "3172     1499     11        612           74\n",
      "3173     1499     12        492           69\n",
      "\n",
      "[3174 rows x 4 columns]\n",
      "      user_id  month  messages_count\n",
      "0        1000      5              22\n",
      "1        1000      6              60\n",
      "2        1000      7              75\n",
      "3        1000      8              81\n",
      "4        1000      9              57\n",
      "...       ...    ...             ...\n",
      "2712     1498     10              42\n",
      "2713     1499      9              11\n",
      "2714     1499     10              48\n",
      "2715     1499     11              59\n",
      "2716     1499     12              66\n",
      "\n",
      "[2717 rows x 3 columns]\n"
     ]
    }
   ],
   "source": [
    "users['month'] = pd.DatetimeIndex(users['reg_date']).month\n",
    "tariffs = tariffs.rename(columns={'tariff_name' :\"tariff\"})\n",
    "data_merge = calls_pivot.merge(messages_pivot, on=['user_id','month'], how='outer')\n",
    "data_merge = data_merge.merge(internet_pivot, on=['user_id','month'], how = 'outer')\n",
    "data_merge = data_merge.merge(users, on='user_id', how='left')\n",
    "data_merge = data_merge.merge(tariffs, on='tariff', how='left')\n",
    "data_merge['calls_sum'] = data_merge['calls_sum'].fillna(value='0').astype(int)\n",
    "data_merge['calls_count'] = data_merge['calls_count'].fillna(value='0').astype(int)\n",
    "data_merge['messages_count'] = data_merge['messages_count'].fillna(value='0').astype(int)\n",
    "data_merge['gm_used_sum'] = data_merge['gm_used_sum'].fillna(value='0').astype(int)\n",
    "data_merge['mb_per_month_included'] = data_merge['mb_per_month_included']/1024\n",
    "data_merge['mb_per_month_included'] = data_merge['mb_per_month_included'].round().astype(int)"
   ]
  },
  {
   "cell_type": "markdown",
   "metadata": {},
   "source": [
    "## Помесячная выручка с каждого пользователя."
   ]
  },
  {
   "cell_type": "code",
   "execution_count": 8,
   "metadata": {},
   "outputs": [
    {
     "name": "stdout",
     "output_type": "stream",
     "text": [
      "-----------------------------------\n",
      "ОБЩАЯ ТАБЛИЦА\n",
      "-----------------------------------\n"
     ]
    },
    {
     "data": {
      "text/html": [
       "<div>\n",
       "<style scoped>\n",
       "    .dataframe tbody tr th:only-of-type {\n",
       "        vertical-align: middle;\n",
       "    }\n",
       "\n",
       "    .dataframe tbody tr th {\n",
       "        vertical-align: top;\n",
       "    }\n",
       "\n",
       "    .dataframe thead th {\n",
       "        text-align: right;\n",
       "    }\n",
       "</style>\n",
       "<table border=\"1\" class=\"dataframe\">\n",
       "  <thead>\n",
       "    <tr style=\"text-align: right;\">\n",
       "      <th></th>\n",
       "      <th>user_id</th>\n",
       "      <th>month_x</th>\n",
       "      <th>calls_sum</th>\n",
       "      <th>calls_count</th>\n",
       "      <th>messages_count</th>\n",
       "      <th>gm_used_sum</th>\n",
       "      <th>age</th>\n",
       "      <th>churn_date</th>\n",
       "      <th>city</th>\n",
       "      <th>first_name</th>\n",
       "      <th>...</th>\n",
       "      <th>mb_per_month_included</th>\n",
       "      <th>minutes_included</th>\n",
       "      <th>rub_monthly_fee</th>\n",
       "      <th>rub_per_gb</th>\n",
       "      <th>rub_per_message</th>\n",
       "      <th>rub_per_minute</th>\n",
       "      <th>minutes_overrun</th>\n",
       "      <th>messages_overrun</th>\n",
       "      <th>mb_used_overrun</th>\n",
       "      <th>revenue</th>\n",
       "    </tr>\n",
       "  </thead>\n",
       "  <tbody>\n",
       "    <tr>\n",
       "      <td>0</td>\n",
       "      <td>1000</td>\n",
       "      <td>5</td>\n",
       "      <td>159</td>\n",
       "      <td>22</td>\n",
       "      <td>22</td>\n",
       "      <td>3</td>\n",
       "      <td>52</td>\n",
       "      <td>Действует</td>\n",
       "      <td>Краснодар</td>\n",
       "      <td>Рафаил</td>\n",
       "      <td>...</td>\n",
       "      <td>30</td>\n",
       "      <td>3000</td>\n",
       "      <td>1950</td>\n",
       "      <td>150</td>\n",
       "      <td>1</td>\n",
       "      <td>1</td>\n",
       "      <td>-2841</td>\n",
       "      <td>-978</td>\n",
       "      <td>-27</td>\n",
       "      <td>1950</td>\n",
       "    </tr>\n",
       "    <tr>\n",
       "      <td>1</td>\n",
       "      <td>1000</td>\n",
       "      <td>6</td>\n",
       "      <td>172</td>\n",
       "      <td>43</td>\n",
       "      <td>60</td>\n",
       "      <td>23</td>\n",
       "      <td>52</td>\n",
       "      <td>Действует</td>\n",
       "      <td>Краснодар</td>\n",
       "      <td>Рафаил</td>\n",
       "      <td>...</td>\n",
       "      <td>30</td>\n",
       "      <td>3000</td>\n",
       "      <td>1950</td>\n",
       "      <td>150</td>\n",
       "      <td>1</td>\n",
       "      <td>1</td>\n",
       "      <td>-2828</td>\n",
       "      <td>-940</td>\n",
       "      <td>-7</td>\n",
       "      <td>1950</td>\n",
       "    </tr>\n",
       "    <tr>\n",
       "      <td>2</td>\n",
       "      <td>1000</td>\n",
       "      <td>7</td>\n",
       "      <td>340</td>\n",
       "      <td>47</td>\n",
       "      <td>75</td>\n",
       "      <td>14</td>\n",
       "      <td>52</td>\n",
       "      <td>Действует</td>\n",
       "      <td>Краснодар</td>\n",
       "      <td>Рафаил</td>\n",
       "      <td>...</td>\n",
       "      <td>30</td>\n",
       "      <td>3000</td>\n",
       "      <td>1950</td>\n",
       "      <td>150</td>\n",
       "      <td>1</td>\n",
       "      <td>1</td>\n",
       "      <td>-2660</td>\n",
       "      <td>-925</td>\n",
       "      <td>-16</td>\n",
       "      <td>1950</td>\n",
       "    </tr>\n",
       "    <tr>\n",
       "      <td>3</td>\n",
       "      <td>1000</td>\n",
       "      <td>8</td>\n",
       "      <td>408</td>\n",
       "      <td>52</td>\n",
       "      <td>81</td>\n",
       "      <td>14</td>\n",
       "      <td>52</td>\n",
       "      <td>Действует</td>\n",
       "      <td>Краснодар</td>\n",
       "      <td>Рафаил</td>\n",
       "      <td>...</td>\n",
       "      <td>30</td>\n",
       "      <td>3000</td>\n",
       "      <td>1950</td>\n",
       "      <td>150</td>\n",
       "      <td>1</td>\n",
       "      <td>1</td>\n",
       "      <td>-2592</td>\n",
       "      <td>-919</td>\n",
       "      <td>-16</td>\n",
       "      <td>1950</td>\n",
       "    </tr>\n",
       "    <tr>\n",
       "      <td>4</td>\n",
       "      <td>1000</td>\n",
       "      <td>9</td>\n",
       "      <td>466</td>\n",
       "      <td>58</td>\n",
       "      <td>57</td>\n",
       "      <td>15</td>\n",
       "      <td>52</td>\n",
       "      <td>Действует</td>\n",
       "      <td>Краснодар</td>\n",
       "      <td>Рафаил</td>\n",
       "      <td>...</td>\n",
       "      <td>30</td>\n",
       "      <td>3000</td>\n",
       "      <td>1950</td>\n",
       "      <td>150</td>\n",
       "      <td>1</td>\n",
       "      <td>1</td>\n",
       "      <td>-2534</td>\n",
       "      <td>-943</td>\n",
       "      <td>-15</td>\n",
       "      <td>1950</td>\n",
       "    </tr>\n",
       "  </tbody>\n",
       "</table>\n",
       "<p>5 rows × 25 columns</p>\n",
       "</div>"
      ],
      "text/plain": [
       "   user_id  month_x  calls_sum  calls_count  messages_count  gm_used_sum  age  \\\n",
       "0     1000        5        159           22              22            3   52   \n",
       "1     1000        6        172           43              60           23   52   \n",
       "2     1000        7        340           47              75           14   52   \n",
       "3     1000        8        408           52              81           14   52   \n",
       "4     1000        9        466           58              57           15   52   \n",
       "\n",
       "  churn_date       city first_name  ... mb_per_month_included  \\\n",
       "0  Действует  Краснодар     Рафаил  ...                    30   \n",
       "1  Действует  Краснодар     Рафаил  ...                    30   \n",
       "2  Действует  Краснодар     Рафаил  ...                    30   \n",
       "3  Действует  Краснодар     Рафаил  ...                    30   \n",
       "4  Действует  Краснодар     Рафаил  ...                    30   \n",
       "\n",
       "  minutes_included rub_monthly_fee  rub_per_gb  rub_per_message  \\\n",
       "0             3000            1950         150                1   \n",
       "1             3000            1950         150                1   \n",
       "2             3000            1950         150                1   \n",
       "3             3000            1950         150                1   \n",
       "4             3000            1950         150                1   \n",
       "\n",
       "   rub_per_minute  minutes_overrun  messages_overrun  mb_used_overrun  revenue  \n",
       "0               1            -2841              -978              -27     1950  \n",
       "1               1            -2828              -940               -7     1950  \n",
       "2               1            -2660              -925              -16     1950  \n",
       "3               1            -2592              -919              -16     1950  \n",
       "4               1            -2534              -943              -15     1950  \n",
       "\n",
       "[5 rows x 25 columns]"
      ]
     },
     "metadata": {},
     "output_type": "display_data"
    },
    {
     "name": "stdout",
     "output_type": "stream",
     "text": [
      "-----------------------------------\n",
      "СРЕЗ ДЛЯ ТАРИФФА СМАРТ\n",
      "-----------------------------------\n"
     ]
    },
    {
     "data": {
      "text/html": [
       "<div>\n",
       "<style scoped>\n",
       "    .dataframe tbody tr th:only-of-type {\n",
       "        vertical-align: middle;\n",
       "    }\n",
       "\n",
       "    .dataframe tbody tr th {\n",
       "        vertical-align: top;\n",
       "    }\n",
       "\n",
       "    .dataframe thead th {\n",
       "        text-align: right;\n",
       "    }\n",
       "</style>\n",
       "<table border=\"1\" class=\"dataframe\">\n",
       "  <thead>\n",
       "    <tr style=\"text-align: right;\">\n",
       "      <th></th>\n",
       "      <th>user_id</th>\n",
       "      <th>month_x</th>\n",
       "      <th>calls_sum</th>\n",
       "      <th>calls_count</th>\n",
       "      <th>messages_count</th>\n",
       "      <th>gm_used_sum</th>\n",
       "      <th>age</th>\n",
       "      <th>churn_date</th>\n",
       "      <th>city</th>\n",
       "      <th>first_name</th>\n",
       "      <th>...</th>\n",
       "      <th>mb_per_month_included</th>\n",
       "      <th>minutes_included</th>\n",
       "      <th>rub_monthly_fee</th>\n",
       "      <th>rub_per_gb</th>\n",
       "      <th>rub_per_message</th>\n",
       "      <th>rub_per_minute</th>\n",
       "      <th>minutes_overrun</th>\n",
       "      <th>messages_overrun</th>\n",
       "      <th>mb_used_overrun</th>\n",
       "      <th>revenue</th>\n",
       "    </tr>\n",
       "  </thead>\n",
       "  <tbody>\n",
       "    <tr>\n",
       "      <td>8</td>\n",
       "      <td>1001</td>\n",
       "      <td>11</td>\n",
       "      <td>430</td>\n",
       "      <td>59</td>\n",
       "      <td>0</td>\n",
       "      <td>18</td>\n",
       "      <td>41</td>\n",
       "      <td>Действует</td>\n",
       "      <td>Москва</td>\n",
       "      <td>Иван</td>\n",
       "      <td>...</td>\n",
       "      <td>15</td>\n",
       "      <td>500</td>\n",
       "      <td>550</td>\n",
       "      <td>200</td>\n",
       "      <td>3</td>\n",
       "      <td>3</td>\n",
       "      <td>-70</td>\n",
       "      <td>-50</td>\n",
       "      <td>3</td>\n",
       "      <td>1150</td>\n",
       "    </tr>\n",
       "    <tr>\n",
       "      <td>9</td>\n",
       "      <td>1001</td>\n",
       "      <td>12</td>\n",
       "      <td>414</td>\n",
       "      <td>63</td>\n",
       "      <td>0</td>\n",
       "      <td>14</td>\n",
       "      <td>41</td>\n",
       "      <td>Действует</td>\n",
       "      <td>Москва</td>\n",
       "      <td>Иван</td>\n",
       "      <td>...</td>\n",
       "      <td>15</td>\n",
       "      <td>500</td>\n",
       "      <td>550</td>\n",
       "      <td>200</td>\n",
       "      <td>3</td>\n",
       "      <td>3</td>\n",
       "      <td>-86</td>\n",
       "      <td>-50</td>\n",
       "      <td>-1</td>\n",
       "      <td>550</td>\n",
       "    </tr>\n",
       "    <tr>\n",
       "      <td>10</td>\n",
       "      <td>1002</td>\n",
       "      <td>6</td>\n",
       "      <td>117</td>\n",
       "      <td>15</td>\n",
       "      <td>4</td>\n",
       "      <td>11</td>\n",
       "      <td>59</td>\n",
       "      <td>Действует</td>\n",
       "      <td>Стерлитамак</td>\n",
       "      <td>Евгений</td>\n",
       "      <td>...</td>\n",
       "      <td>15</td>\n",
       "      <td>500</td>\n",
       "      <td>550</td>\n",
       "      <td>200</td>\n",
       "      <td>3</td>\n",
       "      <td>3</td>\n",
       "      <td>-383</td>\n",
       "      <td>-46</td>\n",
       "      <td>-4</td>\n",
       "      <td>550</td>\n",
       "    </tr>\n",
       "    <tr>\n",
       "      <td>11</td>\n",
       "      <td>1002</td>\n",
       "      <td>7</td>\n",
       "      <td>214</td>\n",
       "      <td>26</td>\n",
       "      <td>11</td>\n",
       "      <td>18</td>\n",
       "      <td>59</td>\n",
       "      <td>Действует</td>\n",
       "      <td>Стерлитамак</td>\n",
       "      <td>Евгений</td>\n",
       "      <td>...</td>\n",
       "      <td>15</td>\n",
       "      <td>500</td>\n",
       "      <td>550</td>\n",
       "      <td>200</td>\n",
       "      <td>3</td>\n",
       "      <td>3</td>\n",
       "      <td>-286</td>\n",
       "      <td>-39</td>\n",
       "      <td>3</td>\n",
       "      <td>1150</td>\n",
       "    </tr>\n",
       "    <tr>\n",
       "      <td>12</td>\n",
       "      <td>1002</td>\n",
       "      <td>8</td>\n",
       "      <td>289</td>\n",
       "      <td>42</td>\n",
       "      <td>13</td>\n",
       "      <td>20</td>\n",
       "      <td>59</td>\n",
       "      <td>Действует</td>\n",
       "      <td>Стерлитамак</td>\n",
       "      <td>Евгений</td>\n",
       "      <td>...</td>\n",
       "      <td>15</td>\n",
       "      <td>500</td>\n",
       "      <td>550</td>\n",
       "      <td>200</td>\n",
       "      <td>3</td>\n",
       "      <td>3</td>\n",
       "      <td>-211</td>\n",
       "      <td>-37</td>\n",
       "      <td>5</td>\n",
       "      <td>1550</td>\n",
       "    </tr>\n",
       "  </tbody>\n",
       "</table>\n",
       "<p>5 rows × 25 columns</p>\n",
       "</div>"
      ],
      "text/plain": [
       "    user_id  month_x  calls_sum  calls_count  messages_count  gm_used_sum  \\\n",
       "8      1001       11        430           59               0           18   \n",
       "9      1001       12        414           63               0           14   \n",
       "10     1002        6        117           15               4           11   \n",
       "11     1002        7        214           26              11           18   \n",
       "12     1002        8        289           42              13           20   \n",
       "\n",
       "    age churn_date         city first_name  ... mb_per_month_included  \\\n",
       "8    41  Действует       Москва       Иван  ...                    15   \n",
       "9    41  Действует       Москва       Иван  ...                    15   \n",
       "10   59  Действует  Стерлитамак    Евгений  ...                    15   \n",
       "11   59  Действует  Стерлитамак    Евгений  ...                    15   \n",
       "12   59  Действует  Стерлитамак    Евгений  ...                    15   \n",
       "\n",
       "   minutes_included rub_monthly_fee  rub_per_gb  rub_per_message  \\\n",
       "8               500             550         200                3   \n",
       "9               500             550         200                3   \n",
       "10              500             550         200                3   \n",
       "11              500             550         200                3   \n",
       "12              500             550         200                3   \n",
       "\n",
       "    rub_per_minute  minutes_overrun  messages_overrun  mb_used_overrun  \\\n",
       "8                3              -70               -50                3   \n",
       "9                3              -86               -50               -1   \n",
       "10               3             -383               -46               -4   \n",
       "11               3             -286               -39                3   \n",
       "12               3             -211               -37                5   \n",
       "\n",
       "    revenue  \n",
       "8      1150  \n",
       "9       550  \n",
       "10      550  \n",
       "11     1150  \n",
       "12     1550  \n",
       "\n",
       "[5 rows x 25 columns]"
      ]
     },
     "metadata": {},
     "output_type": "display_data"
    },
    {
     "name": "stdout",
     "output_type": "stream",
     "text": [
      "-----------------------------------\n",
      "СРЕЗ ДЛЯ ТАРИФФА УЛЬТРА\n",
      "-----------------------------------\n"
     ]
    },
    {
     "data": {
      "text/html": [
       "<div>\n",
       "<style scoped>\n",
       "    .dataframe tbody tr th:only-of-type {\n",
       "        vertical-align: middle;\n",
       "    }\n",
       "\n",
       "    .dataframe tbody tr th {\n",
       "        vertical-align: top;\n",
       "    }\n",
       "\n",
       "    .dataframe thead th {\n",
       "        text-align: right;\n",
       "    }\n",
       "</style>\n",
       "<table border=\"1\" class=\"dataframe\">\n",
       "  <thead>\n",
       "    <tr style=\"text-align: right;\">\n",
       "      <th></th>\n",
       "      <th>user_id</th>\n",
       "      <th>month_x</th>\n",
       "      <th>calls_sum</th>\n",
       "      <th>calls_count</th>\n",
       "      <th>messages_count</th>\n",
       "      <th>gm_used_sum</th>\n",
       "      <th>age</th>\n",
       "      <th>churn_date</th>\n",
       "      <th>city</th>\n",
       "      <th>first_name</th>\n",
       "      <th>...</th>\n",
       "      <th>mb_per_month_included</th>\n",
       "      <th>minutes_included</th>\n",
       "      <th>rub_monthly_fee</th>\n",
       "      <th>rub_per_gb</th>\n",
       "      <th>rub_per_message</th>\n",
       "      <th>rub_per_minute</th>\n",
       "      <th>minutes_overrun</th>\n",
       "      <th>messages_overrun</th>\n",
       "      <th>mb_used_overrun</th>\n",
       "      <th>revenue</th>\n",
       "    </tr>\n",
       "  </thead>\n",
       "  <tbody>\n",
       "    <tr>\n",
       "      <td>0</td>\n",
       "      <td>1000</td>\n",
       "      <td>5</td>\n",
       "      <td>159</td>\n",
       "      <td>22</td>\n",
       "      <td>22</td>\n",
       "      <td>3</td>\n",
       "      <td>52</td>\n",
       "      <td>Действует</td>\n",
       "      <td>Краснодар</td>\n",
       "      <td>Рафаил</td>\n",
       "      <td>...</td>\n",
       "      <td>30</td>\n",
       "      <td>3000</td>\n",
       "      <td>1950</td>\n",
       "      <td>150</td>\n",
       "      <td>1</td>\n",
       "      <td>1</td>\n",
       "      <td>-2841</td>\n",
       "      <td>-978</td>\n",
       "      <td>-27</td>\n",
       "      <td>1950</td>\n",
       "    </tr>\n",
       "    <tr>\n",
       "      <td>1</td>\n",
       "      <td>1000</td>\n",
       "      <td>6</td>\n",
       "      <td>172</td>\n",
       "      <td>43</td>\n",
       "      <td>60</td>\n",
       "      <td>23</td>\n",
       "      <td>52</td>\n",
       "      <td>Действует</td>\n",
       "      <td>Краснодар</td>\n",
       "      <td>Рафаил</td>\n",
       "      <td>...</td>\n",
       "      <td>30</td>\n",
       "      <td>3000</td>\n",
       "      <td>1950</td>\n",
       "      <td>150</td>\n",
       "      <td>1</td>\n",
       "      <td>1</td>\n",
       "      <td>-2828</td>\n",
       "      <td>-940</td>\n",
       "      <td>-7</td>\n",
       "      <td>1950</td>\n",
       "    </tr>\n",
       "    <tr>\n",
       "      <td>2</td>\n",
       "      <td>1000</td>\n",
       "      <td>7</td>\n",
       "      <td>340</td>\n",
       "      <td>47</td>\n",
       "      <td>75</td>\n",
       "      <td>14</td>\n",
       "      <td>52</td>\n",
       "      <td>Действует</td>\n",
       "      <td>Краснодар</td>\n",
       "      <td>Рафаил</td>\n",
       "      <td>...</td>\n",
       "      <td>30</td>\n",
       "      <td>3000</td>\n",
       "      <td>1950</td>\n",
       "      <td>150</td>\n",
       "      <td>1</td>\n",
       "      <td>1</td>\n",
       "      <td>-2660</td>\n",
       "      <td>-925</td>\n",
       "      <td>-16</td>\n",
       "      <td>1950</td>\n",
       "    </tr>\n",
       "    <tr>\n",
       "      <td>3</td>\n",
       "      <td>1000</td>\n",
       "      <td>8</td>\n",
       "      <td>408</td>\n",
       "      <td>52</td>\n",
       "      <td>81</td>\n",
       "      <td>14</td>\n",
       "      <td>52</td>\n",
       "      <td>Действует</td>\n",
       "      <td>Краснодар</td>\n",
       "      <td>Рафаил</td>\n",
       "      <td>...</td>\n",
       "      <td>30</td>\n",
       "      <td>3000</td>\n",
       "      <td>1950</td>\n",
       "      <td>150</td>\n",
       "      <td>1</td>\n",
       "      <td>1</td>\n",
       "      <td>-2592</td>\n",
       "      <td>-919</td>\n",
       "      <td>-16</td>\n",
       "      <td>1950</td>\n",
       "    </tr>\n",
       "    <tr>\n",
       "      <td>4</td>\n",
       "      <td>1000</td>\n",
       "      <td>9</td>\n",
       "      <td>466</td>\n",
       "      <td>58</td>\n",
       "      <td>57</td>\n",
       "      <td>15</td>\n",
       "      <td>52</td>\n",
       "      <td>Действует</td>\n",
       "      <td>Краснодар</td>\n",
       "      <td>Рафаил</td>\n",
       "      <td>...</td>\n",
       "      <td>30</td>\n",
       "      <td>3000</td>\n",
       "      <td>1950</td>\n",
       "      <td>150</td>\n",
       "      <td>1</td>\n",
       "      <td>1</td>\n",
       "      <td>-2534</td>\n",
       "      <td>-943</td>\n",
       "      <td>-15</td>\n",
       "      <td>1950</td>\n",
       "    </tr>\n",
       "  </tbody>\n",
       "</table>\n",
       "<p>5 rows × 25 columns</p>\n",
       "</div>"
      ],
      "text/plain": [
       "   user_id  month_x  calls_sum  calls_count  messages_count  gm_used_sum  age  \\\n",
       "0     1000        5        159           22              22            3   52   \n",
       "1     1000        6        172           43              60           23   52   \n",
       "2     1000        7        340           47              75           14   52   \n",
       "3     1000        8        408           52              81           14   52   \n",
       "4     1000        9        466           58              57           15   52   \n",
       "\n",
       "  churn_date       city first_name  ... mb_per_month_included  \\\n",
       "0  Действует  Краснодар     Рафаил  ...                    30   \n",
       "1  Действует  Краснодар     Рафаил  ...                    30   \n",
       "2  Действует  Краснодар     Рафаил  ...                    30   \n",
       "3  Действует  Краснодар     Рафаил  ...                    30   \n",
       "4  Действует  Краснодар     Рафаил  ...                    30   \n",
       "\n",
       "  minutes_included rub_monthly_fee  rub_per_gb  rub_per_message  \\\n",
       "0             3000            1950         150                1   \n",
       "1             3000            1950         150                1   \n",
       "2             3000            1950         150                1   \n",
       "3             3000            1950         150                1   \n",
       "4             3000            1950         150                1   \n",
       "\n",
       "   rub_per_minute  minutes_overrun  messages_overrun  mb_used_overrun  revenue  \n",
       "0               1            -2841              -978              -27     1950  \n",
       "1               1            -2828              -940               -7     1950  \n",
       "2               1            -2660              -925              -16     1950  \n",
       "3               1            -2592              -919              -16     1950  \n",
       "4               1            -2534              -943              -15     1950  \n",
       "\n",
       "[5 rows x 25 columns]"
      ]
     },
     "metadata": {},
     "output_type": "display_data"
    }
   ],
   "source": [
    "data_merge['minutes_overrun']  = data_merge['calls_sum'] - data_merge['minutes_included']\n",
    "data_merge['messages_overrun'] =  data_merge['messages_count'] - data_merge['messages_included']\n",
    "data_merge['mb_used_overrun']  =  data_merge['gm_used_sum'] - data_merge['mb_per_month_included']\n",
    "\n",
    "def get_revenue(row):\n",
    "    revenue_by_min = 0\n",
    "    revenue_by_messages = 0\n",
    "    revenue_mb = 0\n",
    "    if row['minutes_overrun'] > 0:\n",
    "        revenue_by_min = row['minutes_overrun'] * row['rub_per_minute'] \n",
    "    if row['messages_overrun'] >0:\n",
    "        revenue_by_messages = row['messages_overrun'] * row['rub_per_message']\n",
    "    if row['mb_used_overrun'] > 0:\n",
    "        revenue_mb = row['mb_used_overrun'] * row['rub_per_gb']          \n",
    "    return revenue_by_min + revenue_by_messages + revenue_mb\n",
    "\n",
    "data_merge['revenue'] = data_merge.apply(get_revenue,axis=1)\n",
    "data_merge['revenue'] = data_merge['revenue'] + data_merge['rub_monthly_fee']# прибавил абонентску плату к доходу\n",
    "print('-----------------------------------')\n",
    "print('ОБЩАЯ ТАБЛИЦА')\n",
    "print('-----------------------------------')\n",
    "display(data_merge.head())\n",
    "data_merge_smart = data_merge.query('tariff  == \"smart\"') #ТАРИФФ СМАРТ\n",
    "data_merge_ultra = data_merge.query('tariff  == \"ultra\"') # ТАРИФ УЛЬТРА\n",
    "print('-----------------------------------')\n",
    "print('СРЕЗ ДЛЯ ТАРИФФА СМАРТ')\n",
    "print('-----------------------------------')\n",
    "display(data_merge_smart.head())\n",
    "print('-----------------------------------')\n",
    "print('СРЕЗ ДЛЯ ТАРИФФА УЛЬТРА')\n",
    "print('-----------------------------------')\n",
    "display(data_merge_ultra.head())"
   ]
  },
  {
   "cell_type": "markdown",
   "metadata": {},
   "source": [
    "<div class=\"alert alert-info\" style=\"border-radius: 15px; box-shadow: 4px 4px 4px;border: 1px solid \">\n",
    "<b> Комментарий студента</b>\n",
    "1: Прибавил абонентскую плату после работы функции.\n",
    "   2: Теперь все значения отрицательные."
   ]
  },
  {
   "cell_type": "markdown",
   "metadata": {},
   "source": [
    "## Cреднее количество, дисперсия и стандартное отклонение минут."
   ]
  },
  {
   "cell_type": "code",
   "execution_count": 9,
   "metadata": {},
   "outputs": [
    {
     "name": "stdout",
     "output_type": "stream",
     "text": [
      "   СРЕДНЕЕ   СТД.ОТКЛОН  ДИСПЕРСИЯ\n",
      "       ↓         ↓       ↓\n"
     ]
    },
    {
     "data": {
      "text/html": [
       "<div>\n",
       "<style scoped>\n",
       "    .dataframe tbody tr th:only-of-type {\n",
       "        vertical-align: middle;\n",
       "    }\n",
       "\n",
       "    .dataframe tbody tr th {\n",
       "        vertical-align: top;\n",
       "    }\n",
       "\n",
       "    .dataframe thead tr th {\n",
       "        text-align: left;\n",
       "    }\n",
       "\n",
       "    .dataframe thead tr:last-of-type th {\n",
       "        text-align: right;\n",
       "    }\n",
       "</style>\n",
       "<table border=\"1\" class=\"dataframe\">\n",
       "  <thead>\n",
       "    <tr>\n",
       "      <th></th>\n",
       "      <th>mean</th>\n",
       "      <th>std</th>\n",
       "      <th>var</th>\n",
       "    </tr>\n",
       "    <tr>\n",
       "      <th></th>\n",
       "      <th>calls_sum</th>\n",
       "      <th>calls_sum</th>\n",
       "      <th>calls_sum</th>\n",
       "    </tr>\n",
       "    <tr>\n",
       "      <th>tariff</th>\n",
       "      <th></th>\n",
       "      <th></th>\n",
       "      <th></th>\n",
       "    </tr>\n",
       "  </thead>\n",
       "  <tbody>\n",
       "    <tr>\n",
       "      <td>smart</td>\n",
       "      <td>417</td>\n",
       "      <td>190</td>\n",
       "      <td>36219</td>\n",
       "    </tr>\n",
       "    <tr>\n",
       "      <td>ultra</td>\n",
       "      <td>526</td>\n",
       "      <td>317</td>\n",
       "      <td>100873</td>\n",
       "    </tr>\n",
       "  </tbody>\n",
       "</table>\n",
       "</div>"
      ],
      "text/plain": [
       "            mean       std       var\n",
       "       calls_sum calls_sum calls_sum\n",
       "tariff                              \n",
       "smart        417       190     36219\n",
       "ultra        526       317    100873"
      ]
     },
     "metadata": {},
     "output_type": "display_data"
    },
    {
     "name": "stdout",
     "output_type": "stream",
     "text": [
      "___________________________________________________\n"
     ]
    },
    {
     "data": {
      "image/png": "[encoded data removed]",
      "text/plain": [
       "<Figure size 432x288 with 1 Axes>"
      ]
     },
     "metadata": {
      "needs_background": "light"
     },
     "output_type": "display_data"
    }
   ],
   "source": [
    "#СРЕДНЕЕ КОЛИЧЕСТВО МИНУТ РАЗГОВОРА\n",
    "data_merge_tariff_minutes = (data_merge.pivot_table(index = 'tariff',\n",
    "                                                        values = 'calls_sum', aggfunc=['mean','std','var'])\n",
    "                                                        )\n",
    "print('   СРЕДНЕЕ','  СТД.ОТКЛОН',' ДИСПЕРСИЯ')\n",
    "print('       ↓','        ↓','      ↓')\n",
    "display(data_merge_tariff_minutes.astype(int))\n",
    "print('___________________________________________________')\n",
    "plt.ylim(0, 48) \n",
    "plt.xlim(-20, 1750) \n",
    "(data_merge_ultra['calls_sum'].plot(bins=200,kind = 'hist', \n",
    "                                   range = (0, 1673),label = 'ULTRA',\n",
    "                                   legend=True, title = 'График количества минут'))\n",
    "(data_merge_smart['calls_sum'].plot(bins=200,kind = 'hist', alpha = 0.5,\n",
    "                                   range = (0,1673),label = 'SMART',\n",
    "                                  legend=True, title = 'График количества минут'))\n",
    "plt.show()\n"
   ]
  },
  {
   "cell_type": "markdown",
   "metadata": {},
   "source": [
    "<div class=\"alert alert-info\"style=\"border-radius: 10px; box-shadow: 2px 2px 2px;border: 1px solid \">\n",
    "<b> Комментарий студента</b>\n",
    "Среднее количество минут и абонентов обоих тариффов 417 у смарт против 526 у ультра, но рапределение совсем разноеБ смарт пик 400 - 600 минут , ультра же более плавное течение впплоть за 1000 минут.    \n",
    "</div>   "
   ]
  },
  {
   "cell_type": "markdown",
   "metadata": {},
   "source": [
    "## Cреднее количество, дисперсия и стандартное отклонение сообщений."
   ]
  },
  {
   "cell_type": "code",
   "execution_count": 10,
   "metadata": {},
   "outputs": [
    {
     "name": "stdout",
     "output_type": "stream",
     "text": [
      "    СРЕДНЕЕ      СТД.ОТКЛОН     ДИСПЕРСИЯ\n",
      "       ↓              ↓             ↓\n"
     ]
    },
    {
     "data": {
      "text/html": [
       "<div>\n",
       "<style scoped>\n",
       "    .dataframe tbody tr th:only-of-type {\n",
       "        vertical-align: middle;\n",
       "    }\n",
       "\n",
       "    .dataframe tbody tr th {\n",
       "        vertical-align: top;\n",
       "    }\n",
       "\n",
       "    .dataframe thead tr th {\n",
       "        text-align: left;\n",
       "    }\n",
       "\n",
       "    .dataframe thead tr:last-of-type th {\n",
       "        text-align: right;\n",
       "    }\n",
       "</style>\n",
       "<table border=\"1\" class=\"dataframe\">\n",
       "  <thead>\n",
       "    <tr>\n",
       "      <th></th>\n",
       "      <th>mean</th>\n",
       "      <th>std</th>\n",
       "      <th>var</th>\n",
       "    </tr>\n",
       "    <tr>\n",
       "      <th></th>\n",
       "      <th>messages_count</th>\n",
       "      <th>messages_count</th>\n",
       "      <th>messages_count</th>\n",
       "    </tr>\n",
       "    <tr>\n",
       "      <th>tariff</th>\n",
       "      <th></th>\n",
       "      <th></th>\n",
       "      <th></th>\n",
       "    </tr>\n",
       "  </thead>\n",
       "  <tbody>\n",
       "    <tr>\n",
       "      <td>smart</td>\n",
       "      <td>33</td>\n",
       "      <td>28</td>\n",
       "      <td>796</td>\n",
       "    </tr>\n",
       "    <tr>\n",
       "      <td>ultra</td>\n",
       "      <td>49</td>\n",
       "      <td>47</td>\n",
       "      <td>2285</td>\n",
       "    </tr>\n",
       "  </tbody>\n",
       "</table>\n",
       "</div>"
      ],
      "text/plain": [
       "                 mean            std            var\n",
       "       messages_count messages_count messages_count\n",
       "tariff                                             \n",
       "smart              33             28            796\n",
       "ultra              49             47           2285"
      ]
     },
     "metadata": {},
     "output_type": "display_data"
    },
    {
     "name": "stdout",
     "output_type": "stream",
     "text": [
      "___________________________________________________\n"
     ]
    },
    {
     "data": {
      "image/png": "[encoded data removed]",
      "text/plain": [
       "<Figure size 432x288 with 1 Axes>"
      ]
     },
     "metadata": {
      "needs_background": "light"
     },
     "output_type": "display_data"
    }
   ],
   "source": [
    "# КОЛИЧЕСТВО СООБЩЕНИЙ ДЛЯ ТАРИФФА ULTRA\n",
    "data_merge_tariff_messages = (data_merge.pivot_table(index = 'tariff',\n",
    "                                                         values = 'messages_count', aggfunc = ['mean','std','var'])\n",
    "                                                         )\n",
    "print('    СРЕДНЕЕ','     СТД.ОТКЛОН','    ДИСПЕРСИЯ')\n",
    "print('       ↓','             ↓','            ↓')\n",
    "display(data_merge_tariff_messages.astype(int))\n",
    "print('___________________________________________________')\n",
    "\n",
    "(data_merge_ultra['messages_count'].plot(bins=50,kind = 'hist',\n",
    "                                         range = (1, 224),label = 'ULTRA',\n",
    "                                        legend=True, title = 'График количества сообщений'))\n",
    "(data_merge_smart['messages_count'].plot(bins=50,kind = 'hist',alpha = 0.6,\n",
    "                                         range = (0, 224),label = 'SMART',\n",
    "                                         legend=True, title = 'График количества сообщений'))\n",
    "plt.show()"
   ]
  },
  {
   "cell_type": "markdown",
   "metadata": {},
   "source": [
    "<div class=\"alert alert-info\"style=\"border-radius: 10px; box-shadow: 2px 2px 2px;border: 1px solid \">\n",
    "<b> Комментарий студента</b>\n",
    "У абонентов смарт очень велика доля тех кто воовсе не пользуется смс или пользуется, у абонентов ультра нет пиков , а более плавное рапределение от низкого к большому и от этого среднее количество у них больше.\n",
    "</div>    "
   ]
  },
  {
   "cell_type": "markdown",
   "metadata": {},
   "source": [
    "## Cреднее количество, дисперсия и стандартное отклонение интернет-трафика ."
   ]
  },
  {
   "cell_type": "code",
   "execution_count": 11,
   "metadata": {},
   "outputs": [
    {
     "name": "stdout",
     "output_type": "stream",
     "text": [
      "    СРЕДНЕЕ    СТД.ОТКЛОН    ДИСПЕРСИЯ\n",
      "       ↓           ↓            ↓\n"
     ]
    },
    {
     "data": {
      "text/html": [
       "<div>\n",
       "<style scoped>\n",
       "    .dataframe tbody tr th:only-of-type {\n",
       "        vertical-align: middle;\n",
       "    }\n",
       "\n",
       "    .dataframe tbody tr th {\n",
       "        vertical-align: top;\n",
       "    }\n",
       "\n",
       "    .dataframe thead tr th {\n",
       "        text-align: left;\n",
       "    }\n",
       "\n",
       "    .dataframe thead tr:last-of-type th {\n",
       "        text-align: right;\n",
       "    }\n",
       "</style>\n",
       "<table border=\"1\" class=\"dataframe\">\n",
       "  <thead>\n",
       "    <tr>\n",
       "      <th></th>\n",
       "      <th>mean</th>\n",
       "      <th>std</th>\n",
       "      <th>var</th>\n",
       "    </tr>\n",
       "    <tr>\n",
       "      <th></th>\n",
       "      <th>gm_used_sum</th>\n",
       "      <th>gm_used_sum</th>\n",
       "      <th>gm_used_sum</th>\n",
       "    </tr>\n",
       "    <tr>\n",
       "      <th>tariff</th>\n",
       "      <th></th>\n",
       "      <th></th>\n",
       "      <th></th>\n",
       "    </tr>\n",
       "  </thead>\n",
       "  <tbody>\n",
       "    <tr>\n",
       "      <td>smart</td>\n",
       "      <td>16</td>\n",
       "      <td>5</td>\n",
       "      <td>33</td>\n",
       "    </tr>\n",
       "    <tr>\n",
       "      <td>ultra</td>\n",
       "      <td>19</td>\n",
       "      <td>9</td>\n",
       "      <td>97</td>\n",
       "    </tr>\n",
       "  </tbody>\n",
       "</table>\n",
       "</div>"
      ],
      "text/plain": [
       "              mean         std         var\n",
       "       gm_used_sum gm_used_sum gm_used_sum\n",
       "tariff                                    \n",
       "smart           16           5          33\n",
       "ultra           19           9          97"
      ]
     },
     "metadata": {},
     "output_type": "display_data"
    },
    {
     "name": "stdout",
     "output_type": "stream",
     "text": [
      "___________________________________________________\n"
     ]
    },
    {
     "data": {
      "image/png": "[encoded data removed]",
      "text/plain": [
       "<Figure size 432x288 with 1 Axes>"
      ]
     },
     "metadata": {
      "needs_background": "light"
     },
     "output_type": "display_data"
    }
   ],
   "source": [
    "# ИНТЕРНЕТ-ТРАФФИК ДЛЯ ТАРИФФА SMART\n",
    "data_merge_tariff_internet = (data_merge.pivot_table(index = 'tariff',\n",
    "                                                          values = 'gm_used_sum', aggfunc = ['mean','std','var'])\n",
    "                                                     )\n",
    "print('    СРЕДНЕЕ','   СТД.ОТКЛОН','   ДИСПЕРСИЯ')\n",
    "print('       ↓','          ↓','           ↓')\n",
    "display(data_merge_tariff_internet.astype(int))\n",
    "print('___________________________________________________')\n",
    "\n",
    "data_merge_ultra['gm_used_sum'].plot(bins=70,kind = 'hist', range = (0, 50),label = 'ULTRA',legend=True, title = 'График интернет-трафика')\n",
    "data_merge_smart['gm_used_sum'].plot(bins=90,alpha = 0.7,kind = 'hist', range = (0, 50),label = 'SMART',legend=True, title = 'График интернет-трафика')\n",
    "plt.show()\n"
   ]
  },
  {
   "cell_type": "markdown",
   "metadata": {},
   "source": [
    "<div class=\"alert alert-info\"style=\"border-radius: 10px; box-shadow: 2px 2px 2px;border: 1px solid \">\n",
    "<b> Комментарий студента</b>\n",
    "В среднем абоненты тариффа ультра и смарт потребляют 16 и 19 гб интернет-трафика, что не такая уж и большая разница, но судя по гистограмме абоненты смарт чаще употребляют примерно от 12 до 22 гб чего не скажешь про абонентов ультра,пиковая область для них около 20 и нет уж и редко встречаются те кто доходит и до 25 и даже до 40 чего у абонентов смарт практически не наблюдается.\n",
    "</div>    "
   ]
  },
  {
   "cell_type": "markdown",
   "metadata": {},
   "source": [
    "## Проверка гипотез."
   ]
  },
  {
   "cell_type": "markdown",
   "metadata": {},
   "source": [
    "## Средняя выручка пользователей тарифов «Ультра» и «Смарт» различаются;"
   ]
  },
  {
   "cell_type": "code",
   "execution_count": 12,
   "metadata": {},
   "outputs": [
    {
     "name": "stdout",
     "output_type": "stream",
     "text": [
      "-------------------------------------------\n",
      "ПОДСЧЁТ ВЫБОРКИ ДЛЯ ТАРИФФА ULTRA:: 985.00\n",
      "-------------------------------------------\n",
      "\n",
      "-------------------------------------------\n",
      "ПОДСЧЁТ ВЫБОРКИ ДЛЯ ТАРИФФА SMART:: 2229.00\n",
      "-------------------------------------------\n",
      "\n",
      "-------------------------------------------------------------------\n",
      "СРАВНЕНИЕ ДИСПЕРСИЙ ВЫБОРОК МЕТОДОМ ЛЕВЕНЕ: 1.8783148636310733e-122\n",
      "-------------------------------------------------------------------\n"
     ]
    }
   ],
   "source": [
    "data_merge_smart_revenue = data_merge_smart['revenue'] #ДОХОД ДЛЯ ТАРИФФА СМАРТ\n",
    "data_merge_ultra_revenue = data_merge_ultra['revenue'] #ДОХОД ДЛЯ ТАРИФФА УЛЬТРА\n",
    "q = (len(data_merge_ultra_revenue)) # размер выборки для тариффа ультра\n",
    "print('-------------------------------------------')\n",
    "print(f'ПОДСЧЁТ ВЫБОРКИ ДЛЯ ТАРИФФА ULTRA:: {q:.2f}')\n",
    "print('-------------------------------------------')\n",
    "print('')\n",
    "k = (len(data_merge_smart_revenue)) # размер выборки для тариффа смарт\n",
    "print('-------------------------------------------')\n",
    "print(f'ПОДСЧЁТ ВЫБОРКИ ДЛЯ ТАРИФФА SMART:: {k:.2f}')\n",
    "print('-------------------------------------------')\n",
    "print('')\n",
    "stat, p = levene(data_merge_smart_revenue, data_merge_ultra_revenue)\n",
    "print('-------------------------------------------------------------------')\n",
    "print('СРАВНЕНИЕ ДИСПЕРСИЙ ВЫБОРОК МЕТОДОМ ЛЕВЕНЕ:', p)\n",
    "print('-------------------------------------------------------------------')\n",
    "\n"
   ]
  },
  {
   "cell_type": "markdown",
   "metadata": {},
   "source": [
    "<div class=\"alert alert-info\"style=\"border-radius: 10px; box-shadow: 2px 2px 2px;border: 1px solid \">\n",
    "<b> Комментарий студента</b>\n",
    "В теории сказанно: Иногда советуют предварительно проверить равенство дисперсий специальными тестами (например, тестом Левене). Мы не рекомендуем так делать: исследования показывают, что это только увеличивает вероятность сделать неверный вывод.\n",
    "Так что «правило большого пальца» тут простое: если выборки разного размера и/или можно предположить, что дисперсии у генеральных совокупностей разные — укажите equal_var = False при вызове метода scipy.stats.ttest_ind().\n",
    "В остальных случаях используйте тест без изменений.\n",
    "По подсчёту выборок вы видим что они не равны и исходя из этого имеем право использовать метод equal_var = False задающий, считать ли равными дисперсии выборок. \n",
    "</div> "
   ]
  },
  {
   "cell_type": "markdown",
   "metadata": {},
   "source": [
    "<div class=\"alert alert-info\"style=\"border-radius: 10px; box-shadow: 2px 2px 2px;border: 1px solid \">\n",
    "<b> Комментарий студента</b>\n",
    "Нулевая гипотеза: Средняя выручка для тариффа ультра меньше чем для смарт.\n",
    "Альтернативная гипотеза: Средняя выручка для тариффа ультра больше чем для смарт.\n",
    "Выбрана эта гипотеза потому что наша цель выяснить какой тарифф приносит больше денег и на какой потратить рекламный бюджет.\n",
    "В Python есть специальный метод для проверки гипотезы о равенстве среднего двух генеральных совокупностей по взятым из них выборкам: scipy.stats.ttest_ind()], выберем параметр equal_var = False потому что размер двух выборок не одинаков     \n",
    "</div>     "
   ]
  },
  {
   "cell_type": "code",
   "execution_count": 13,
   "metadata": {},
   "outputs": [
    {
     "name": "stdout",
     "output_type": "stream",
     "text": [
      "p-значение:  4.2606313931076085e-250\n",
      "Отвергаем нулевую гипотезу\n"
     ]
    }
   ],
   "source": [
    "alpha =.05\n",
    "\n",
    "results = st.ttest_ind(\n",
    "    data_merge_smart_revenue, \n",
    "    data_merge_ultra_revenue, equal_var = False)\n",
    "\n",
    "print('p-значение: ', results.pvalue)\n",
    "\n",
    "if results.pvalue < alpha:\n",
    "    print(\"Отвергаем нулевую гипотезу\")\n",
    "else:\n",
    "    print(\"Не получилось отвергнуть нулевую гипотезу\") "
   ]
  },
  {
   "cell_type": "markdown",
   "metadata": {},
   "source": [
    "<div class=\"alert alert-info\"style=\"border-radius: 10px; box-shadow: 2px 2px 2px;border: 1px solid \">\n",
    "<b> Комментарий студента</b>\n",
    "\n",
    "Отвергаем нулевую гипотезу потому что статистически значимое число заданное нами меньше числа которое выдал нам - тест.\n",
    "\n",
    "   \n",
    "</div>    "
   ]
  },
  {
   "cell_type": "markdown",
   "metadata": {},
   "source": [
    "## Средняя выручка пользователей из Москвы отличается от выручки пользователей из других регионов ."
   ]
  },
  {
   "cell_type": "code",
   "execution_count": 14,
   "metadata": {},
   "outputs": [
    {
     "name": "stdout",
     "output_type": "stream",
     "text": [
      "-------------------------------------------\n",
      "ПОДСЧЁТ ВЫБОРКИ ДЛЯ МОСКВЫ: 611.00\n",
      "-------------------------------------------\n",
      "\n",
      "-------------------------------------------\n",
      "ПОДСЧЁТ ВЫБОРКИ ДЛЯ РЕГИОНОВ: 2603.00\n",
      "-------------------------------------------\n",
      "\n",
      "-------------------------------------------------------------------\n",
      "СРАВНЕНИЕ ДИСПЕРСИЙ ВЫБОРОК МЕТОДОМ ЛЕВЕНЕ: 0.014082487123270156\n",
      "-------------------------------------------------------------------\n"
     ]
    }
   ],
   "source": [
    "moscow = data_merge.query('city  == \"Москва\"')['revenue'] # CРЕЗ ДЛЯ ДОХОДА ПО ГОРОДУ МОСКВЕ\n",
    "regions = data_merge.query('city  != \"Москва\"')['revenue']# СРЕЗ ДЛЯ ДОХОДА ПО ВСЕМ РЕГИОНАМ КРОМЕ МОСКВЫ\n",
    "q = (len(moscow))\n",
    "print('-------------------------------------------')\n",
    "print(f'ПОДСЧЁТ ВЫБОРКИ ДЛЯ МОСКВЫ: {q:.2f}')\n",
    "print('-------------------------------------------')\n",
    "print('')\n",
    "k = (len(regions))\n",
    "print('-------------------------------------------')\n",
    "print(f'ПОДСЧЁТ ВЫБОРКИ ДЛЯ РЕГИОНОВ: {k:.2f}')\n",
    "print('-------------------------------------------')\n",
    "print('')\n",
    "stat, p = levene(moscow, regions)\n",
    "print('-------------------------------------------------------------------')\n",
    "print('СРАВНЕНИЕ ДИСПЕРСИЙ ВЫБОРОК МЕТОДОМ ЛЕВЕНЕ:', p)\n",
    "print('-------------------------------------------------------------------')"
   ]
  },
  {
   "cell_type": "markdown",
   "metadata": {},
   "source": [
    "<div class=\"alert alert-info\"style=\"border-radius: 10px; box-shadow: 2px 2px 2px;border: 1px solid \">\n",
    "<b> Комментарий студента</b>\n",
    "В теории сказанно: Иногда советуют предварительно проверить равенство дисперсий специальными тестами (например, тестом Левене). Мы не рекомендуем так делать: исследования показывают, что это только увеличивает вероятность сделать неверный вывод.\n",
    "Так что «правило большого пальца» тут простое: если выборки разного размера и/или можно предположить, что дисперсии у генеральных совокупностей разные — укажите equal_var = False при вызове метода scipy.stats.ttest_ind().\n",
    "В остальных случаях используйте тест без изменений.\n",
    "По подсчёту выборок вы видим что они не равны и исходя из этого имеем право использовать метод equal_var = False задающий, считать ли равными дисперсии выборок. \n",
    "</div> "
   ]
  },
  {
   "cell_type": "markdown",
   "metadata": {},
   "source": [
    "<div class=\"alert alert-info\"style=\"border-radius: 10px; box-shadow: 2px 2px 2px;border: 1px solid \">\n",
    "<b> Комментарий студента</b>\n",
    "Нулевая гипотеза: Средняя выручка пользователей из москвы ровна выручке пользователей из других регонов.\n",
    "Альтернативная гипотеза: Средняя выручка пользователей из Москвы не ровна средней выручке пользователей из других регионов.\n",
    "Такая альтернативная гипотеза называется двусторонней, потому что есть возможное отклонение и в большую, и в меньшую стороны.\n",
    "В Python есть специальный метод для проверки гипотезы о равенстве среднего двух генеральных совокупностей по взятым из них выборкам: scipy.stats.ttest_ind(), выберем параметр equal_var = False потому что размер двух выборок не одинаков     \n",
    "</div>  "
   ]
  },
  {
   "cell_type": "code",
   "execution_count": 15,
   "metadata": {},
   "outputs": [
    {
     "name": "stdout",
     "output_type": "stream",
     "text": [
      "p-значение: 0.5257376663729298\n",
      "Не получилось отвергнуть нулевую гипотезу\n"
     ]
    }
   ],
   "source": [
    "alpha = .05\n",
    "\n",
    "results = st.ttest_ind(\n",
    "    moscow, \n",
    "    regions,equal_var = False) \n",
    "\n",
    "print('p-значение:',  results.pvalue)\n",
    "\n",
    "if results.pvalue < alpha:\n",
    "\n",
    "    print(\"Отвергаем нулевую гипотезу\")\n",
    "else:\n",
    "    print(\"Не получилось отвергнуть нулевую гипотезу\")"
   ]
  },
  {
   "cell_type": "markdown",
   "metadata": {},
   "source": [
    "<div class=\"alert alert-info\"style=\"border-radius: 10px; box-shadow: 2px 2px 2px;border: 1px solid \">\n",
    "<b> Комментарий студента</b>\n",
    "Мы видим что не получается отвернуть нулевую гипотезу потому что статистически значимое число заданное нами оказалось меньше того что выдал нам т-тест.\n",
    "\n",
    "   \n",
    "</div>    "
   ]
  },
  {
   "cell_type": "markdown",
   "metadata": {},
   "source": [
    "<div class=\"alert alert-info\"style=\"border-radius: 10px; box-shadow: 2px 2px 2px;border: 1px solid \">\n",
    "<b> ОБЩИЙ ВЫВОД</b>\n",
    "Проведенное мною исследование и анализ говорит о том что тарифф ультра более предпочтителен с точки зрения проведения рекламной компании) \n",
    "</div>    "
   ]
  }
 ],
 "metadata": {
  "ExecuteTimeLog": [
   {
    "duration": 1406,
    "start_time": "2022-01-09T10:40:10.027Z"
   },
   {
    "duration": 684,
    "start_time": "2022-01-09T10:40:25.640Z"
   },
   {
    "duration": 484,
    "start_time": "2022-01-09T10:44:10.580Z"
   },
   {
    "duration": 492,
    "start_time": "2022-01-09T10:44:37.672Z"
   },
   {
    "duration": 525,
    "start_time": "2022-01-09T10:45:18.644Z"
   },
   {
    "duration": 536,
    "start_time": "2022-01-09T10:45:45.596Z"
   },
   {
    "duration": 534,
    "start_time": "2022-01-09T10:45:54.841Z"
   },
   {
    "duration": 524,
    "start_time": "2022-01-09T10:46:05.038Z"
   },
   {
    "duration": 519,
    "start_time": "2022-01-09T10:46:14.929Z"
   },
   {
    "duration": 100,
    "start_time": "2022-01-09T10:47:05.983Z"
   },
   {
    "duration": 512,
    "start_time": "2022-01-09T10:47:14.846Z"
   },
   {
    "duration": 527,
    "start_time": "2022-01-09T10:50:53.039Z"
   },
   {
    "duration": 780,
    "start_time": "2022-01-09T10:53:29.700Z"
   },
   {
    "duration": 532,
    "start_time": "2022-01-09T10:53:53.977Z"
   },
   {
    "duration": 569,
    "start_time": "2022-01-09T10:55:41.263Z"
   },
   {
    "duration": 105,
    "start_time": "2022-01-09T10:57:45.183Z"
   },
   {
    "duration": 8,
    "start_time": "2022-01-09T11:00:54.164Z"
   },
   {
    "duration": 10,
    "start_time": "2022-01-09T11:01:56.348Z"
   },
   {
    "duration": 10,
    "start_time": "2022-01-09T11:02:09.880Z"
   },
   {
    "duration": 8,
    "start_time": "2022-01-09T11:02:19.846Z"
   },
   {
    "duration": 12,
    "start_time": "2022-01-09T11:05:12.346Z"
   },
   {
    "duration": 12,
    "start_time": "2022-01-09T11:06:28.183Z"
   },
   {
    "duration": 10,
    "start_time": "2022-01-09T11:06:32.512Z"
   },
   {
    "duration": 13,
    "start_time": "2022-01-09T11:06:42.012Z"
   },
   {
    "duration": 14,
    "start_time": "2022-01-09T11:06:48.777Z"
   },
   {
    "duration": 10,
    "start_time": "2022-01-09T11:07:06.931Z"
   },
   {
    "duration": 10,
    "start_time": "2022-01-09T11:07:53.599Z"
   },
   {
    "duration": 14,
    "start_time": "2022-01-09T11:09:06.367Z"
   },
   {
    "duration": 11,
    "start_time": "2022-01-09T11:09:17.939Z"
   },
   {
    "duration": 8052,
    "start_time": "2022-01-09T11:10:57.184Z"
   },
   {
    "duration": -184911,
    "start_time": "2022-01-09T11:14:34.442Z"
   },
   {
    "duration": 12,
    "start_time": "2022-01-09T11:11:47.028Z"
   },
   {
    "duration": 13,
    "start_time": "2022-01-09T11:12:33.488Z"
   },
   {
    "duration": 11,
    "start_time": "2022-01-09T11:12:38.331Z"
   },
   {
    "duration": 11,
    "start_time": "2022-01-09T11:12:42.636Z"
   },
   {
    "duration": 13,
    "start_time": "2022-01-09T11:12:46.376Z"
   },
   {
    "duration": 575,
    "start_time": "2022-01-09T11:12:57.923Z"
   },
   {
    "duration": 11,
    "start_time": "2022-01-09T11:12:58.620Z"
   },
   {
    "duration": 10,
    "start_time": "2022-01-09T11:15:19.557Z"
   },
   {
    "duration": 531,
    "start_time": "2022-01-09T11:15:24.653Z"
   },
   {
    "duration": 11,
    "start_time": "2022-01-09T11:15:25.409Z"
   },
   {
    "duration": 127,
    "start_time": "2022-01-09T11:20:04.504Z"
   },
   {
    "duration": 8,
    "start_time": "2022-01-09T11:20:09.539Z"
   },
   {
    "duration": 15,
    "start_time": "2022-01-09T11:21:14.869Z"
   },
   {
    "duration": 14,
    "start_time": "2022-01-09T11:22:27.166Z"
   },
   {
    "duration": 14,
    "start_time": "2022-01-09T11:23:20.826Z"
   },
   {
    "duration": 11,
    "start_time": "2022-01-09T11:23:48.783Z"
   },
   {
    "duration": 24,
    "start_time": "2022-01-09T11:24:12.005Z"
   },
   {
    "duration": 24,
    "start_time": "2022-01-09T11:24:20.311Z"
   },
   {
    "duration": 14,
    "start_time": "2022-01-09T11:24:45.904Z"
   },
   {
    "duration": 18,
    "start_time": "2022-01-09T11:25:07.030Z"
   },
   {
    "duration": 330,
    "start_time": "2022-01-09T11:26:22.861Z"
   },
   {
    "duration": 17,
    "start_time": "2022-01-09T11:26:57.303Z"
   },
   {
    "duration": 20,
    "start_time": "2022-01-09T11:27:07.438Z"
   },
   {
    "duration": 15,
    "start_time": "2022-01-09T11:27:21.891Z"
   },
   {
    "duration": 107,
    "start_time": "2022-01-09T11:27:37.181Z"
   },
   {
    "duration": 19,
    "start_time": "2022-01-09T11:27:41.627Z"
   },
   {
    "duration": 33,
    "start_time": "2022-01-09T11:27:54.767Z"
   },
   {
    "duration": 19,
    "start_time": "2022-01-09T11:28:20.334Z"
   },
   {
    "duration": 565,
    "start_time": "2022-01-09T11:28:44.051Z"
   },
   {
    "duration": 24,
    "start_time": "2022-01-09T11:28:44.620Z"
   },
   {
    "duration": 558,
    "start_time": "2022-01-09T11:28:50.309Z"
   },
   {
    "duration": 21,
    "start_time": "2022-01-09T11:28:51.165Z"
   },
   {
    "duration": 14,
    "start_time": "2022-01-09T11:29:32.118Z"
   },
   {
    "duration": 38,
    "start_time": "2022-01-09T11:29:50.925Z"
   },
   {
    "duration": 65,
    "start_time": "2022-01-09T11:30:54.478Z"
   },
   {
    "duration": 17,
    "start_time": "2022-01-09T11:31:54.024Z"
   },
   {
    "duration": 21,
    "start_time": "2022-01-09T11:32:08.281Z"
   },
   {
    "duration": 68,
    "start_time": "2022-01-09T11:32:23.357Z"
   },
   {
    "duration": 65,
    "start_time": "2022-01-09T11:34:03.307Z"
   },
   {
    "duration": 30,
    "start_time": "2022-01-09T11:34:41.924Z"
   },
   {
    "duration": 31,
    "start_time": "2022-01-09T11:34:46.849Z"
   },
   {
    "duration": 27,
    "start_time": "2022-01-09T11:36:15.999Z"
   },
   {
    "duration": 33,
    "start_time": "2022-01-09T11:36:22.135Z"
   },
   {
    "duration": 26,
    "start_time": "2022-01-09T11:38:27.763Z"
   },
   {
    "duration": 29,
    "start_time": "2022-01-09T11:39:49.178Z"
   },
   {
    "duration": 27,
    "start_time": "2022-01-09T11:39:56.701Z"
   },
   {
    "duration": 533,
    "start_time": "2022-01-09T11:40:05.660Z"
   },
   {
    "duration": 80,
    "start_time": "2022-01-09T11:40:06.203Z"
   },
   {
    "duration": 22,
    "start_time": "2022-01-09T11:40:55.676Z"
   },
   {
    "duration": 23,
    "start_time": "2022-01-09T11:44:24.064Z"
   },
   {
    "duration": 29,
    "start_time": "2022-01-09T11:44:43.852Z"
   },
   {
    "duration": 24,
    "start_time": "2022-01-09T11:45:17.848Z"
   },
   {
    "duration": 37,
    "start_time": "2022-01-09T11:45:31.854Z"
   },
   {
    "duration": 55,
    "start_time": "2022-01-09T11:46:25.657Z"
   },
   {
    "duration": 28,
    "start_time": "2022-01-09T11:46:58.511Z"
   },
   {
    "duration": 25,
    "start_time": "2022-01-09T11:49:25.402Z"
   },
   {
    "duration": 28,
    "start_time": "2022-01-09T11:50:50.764Z"
   },
   {
    "duration": 29,
    "start_time": "2022-01-09T11:50:57.580Z"
   },
   {
    "duration": 33,
    "start_time": "2022-01-09T11:51:22.038Z"
   },
   {
    "duration": 341,
    "start_time": "2022-01-09T11:51:39.382Z"
   },
   {
    "duration": 526,
    "start_time": "2022-01-09T11:51:44.052Z"
   },
   {
    "duration": 29,
    "start_time": "2022-01-09T11:51:51.537Z"
   },
   {
    "duration": 29,
    "start_time": "2022-01-09T11:54:59.696Z"
   },
   {
    "duration": 32,
    "start_time": "2022-01-09T11:55:16.755Z"
   },
   {
    "duration": 23,
    "start_time": "2022-01-09T11:55:52.359Z"
   },
   {
    "duration": 23,
    "start_time": "2022-01-09T12:00:00.471Z"
   },
   {
    "duration": 323,
    "start_time": "2022-01-09T12:10:21.250Z"
   },
   {
    "duration": 342,
    "start_time": "2022-01-09T12:10:30.358Z"
   },
   {
    "duration": 351,
    "start_time": "2022-01-09T12:10:39.057Z"
   },
   {
    "duration": 107,
    "start_time": "2022-01-09T12:13:28.669Z"
   },
   {
    "duration": 118,
    "start_time": "2022-01-09T12:13:41.060Z"
   },
   {
    "duration": 99,
    "start_time": "2022-01-09T12:14:14.889Z"
   },
   {
    "duration": 110,
    "start_time": "2022-01-09T12:16:29.368Z"
   },
   {
    "duration": 34,
    "start_time": "2022-01-09T12:16:44.707Z"
   },
   {
    "duration": 123,
    "start_time": "2022-01-09T12:16:46.687Z"
   },
   {
    "duration": 132,
    "start_time": "2022-01-09T12:16:58.335Z"
   },
   {
    "duration": 108,
    "start_time": "2022-01-09T12:17:02.422Z"
   },
   {
    "duration": 116,
    "start_time": "2022-01-09T12:17:14.802Z"
   },
   {
    "duration": 322,
    "start_time": "2022-01-09T12:17:21.236Z"
   },
   {
    "duration": 50,
    "start_time": "2022-01-09T12:17:55.323Z"
   },
   {
    "duration": 66,
    "start_time": "2022-01-09T12:18:09.699Z"
   },
   {
    "duration": 484,
    "start_time": "2022-01-09T12:18:30.115Z"
   },
   {
    "duration": 519,
    "start_time": "2022-01-09T12:19:24.945Z"
   },
   {
    "duration": 27,
    "start_time": "2022-01-09T12:21:29.006Z"
   },
   {
    "duration": 341,
    "start_time": "2022-01-09T12:21:35.631Z"
   },
   {
    "duration": 25,
    "start_time": "2022-01-09T12:21:41.460Z"
   },
   {
    "duration": 107,
    "start_time": "2022-01-09T12:22:53.111Z"
   },
   {
    "duration": 538,
    "start_time": "2022-01-09T12:24:13.315Z"
   },
   {
    "duration": 766,
    "start_time": "2022-01-09T12:24:26.447Z"
   },
   {
    "duration": 109,
    "start_time": "2022-01-09T12:24:32.814Z"
   },
   {
    "duration": 201,
    "start_time": "2022-01-09T12:24:51.142Z"
   },
   {
    "duration": 184,
    "start_time": "2022-01-09T12:26:58.591Z"
   },
   {
    "duration": 380,
    "start_time": "2022-01-09T12:27:20.702Z"
   },
   {
    "duration": 415,
    "start_time": "2022-01-09T12:27:32.476Z"
   },
   {
    "duration": 193,
    "start_time": "2022-01-09T12:27:39.763Z"
   },
   {
    "duration": 8575,
    "start_time": "2022-01-09T12:30:55.527Z"
   },
   {
    "duration": 220,
    "start_time": "2022-01-09T12:31:21.629Z"
   },
   {
    "duration": 227,
    "start_time": "2022-01-09T12:31:49.884Z"
   },
   {
    "duration": 442,
    "start_time": "2022-01-09T12:32:57.755Z"
   },
   {
    "duration": 256,
    "start_time": "2022-01-09T12:34:04.984Z"
   },
   {
    "duration": 180,
    "start_time": "2022-01-09T12:34:23.586Z"
   },
   {
    "duration": 217,
    "start_time": "2022-01-09T12:35:16.336Z"
   },
   {
    "duration": 1010,
    "start_time": "2022-01-09T12:35:49.700Z"
   },
   {
    "duration": 109,
    "start_time": "2022-01-09T12:35:59.012Z"
   },
   {
    "duration": 104,
    "start_time": "2022-01-09T12:36:17.115Z"
   },
   {
    "duration": 220,
    "start_time": "2022-01-09T12:36:21.054Z"
   },
   {
    "duration": 202,
    "start_time": "2022-01-09T12:36:46.914Z"
   },
   {
    "duration": 176,
    "start_time": "2022-01-09T12:37:45.530Z"
   },
   {
    "duration": 849,
    "start_time": "2022-01-09T12:38:27.731Z"
   },
   {
    "duration": 225,
    "start_time": "2022-01-09T12:40:15.302Z"
   },
   {
    "duration": 212,
    "start_time": "2022-01-09T12:40:41.806Z"
   },
   {
    "duration": 222,
    "start_time": "2022-01-09T12:40:50.239Z"
   },
   {
    "duration": 478,
    "start_time": "2022-01-09T12:41:50.923Z"
   },
   {
    "duration": 225,
    "start_time": "2022-01-09T12:41:59.469Z"
   },
   {
    "duration": 249,
    "start_time": "2022-01-09T12:42:53.399Z"
   },
   {
    "duration": 273,
    "start_time": "2022-01-09T12:43:38.343Z"
   },
   {
    "duration": 273,
    "start_time": "2022-01-09T12:45:59.421Z"
   },
   {
    "duration": 268,
    "start_time": "2022-01-09T12:46:10.110Z"
   },
   {
    "duration": 239,
    "start_time": "2022-01-09T12:46:19.764Z"
   },
   {
    "duration": 247,
    "start_time": "2022-01-09T12:46:40.141Z"
   },
   {
    "duration": 118,
    "start_time": "2022-01-09T12:46:56.516Z"
   },
   {
    "duration": 236,
    "start_time": "2022-01-09T12:47:01.786Z"
   },
   {
    "duration": 233,
    "start_time": "2022-01-09T12:47:41.094Z"
   },
   {
    "duration": 316,
    "start_time": "2022-01-09T12:50:47.253Z"
   },
   {
    "duration": 337,
    "start_time": "2022-01-09T12:50:59.632Z"
   },
   {
    "duration": 384,
    "start_time": "2022-01-09T12:51:12.683Z"
   },
   {
    "duration": 272,
    "start_time": "2022-01-09T12:51:24.236Z"
   },
   {
    "duration": 9221,
    "start_time": "2022-01-09T12:56:23.600Z"
   },
   {
    "duration": 8616,
    "start_time": "2022-01-09T12:56:57.232Z"
   },
   {
    "duration": 934,
    "start_time": "2022-01-09T12:57:50.491Z"
   },
   {
    "duration": 976,
    "start_time": "2022-01-09T12:58:30.898Z"
   },
   {
    "duration": 463,
    "start_time": "2022-01-09T12:58:45.477Z"
   },
   {
    "duration": 263,
    "start_time": "2022-01-09T12:59:05.590Z"
   },
   {
    "duration": 451,
    "start_time": "2022-01-09T13:01:13.864Z"
   },
   {
    "duration": 538,
    "start_time": "2022-01-09T13:01:25.333Z"
   },
   {
    "duration": 681,
    "start_time": "2022-01-09T13:01:55.481Z"
   },
   {
    "duration": 458,
    "start_time": "2022-01-09T13:02:04.583Z"
   },
   {
    "duration": 277,
    "start_time": "2022-01-09T13:02:24.492Z"
   },
   {
    "duration": 275,
    "start_time": "2022-01-09T13:03:34.464Z"
   },
   {
    "duration": 60,
    "start_time": "2022-01-09T13:08:47.474Z"
   },
   {
    "duration": 13625,
    "start_time": "2022-01-09T13:09:36.675Z"
   },
   {
    "duration": 10271,
    "start_time": "2022-01-09T13:10:17.591Z"
   },
   {
    "duration": 445,
    "start_time": "2022-01-09T13:11:26.043Z"
   },
   {
    "duration": 434,
    "start_time": "2022-01-09T13:12:03.403Z"
   },
   {
    "duration": 445,
    "start_time": "2022-01-09T13:12:31.485Z"
   },
   {
    "duration": 492,
    "start_time": "2022-01-09T13:14:41.824Z"
   },
   {
    "duration": 451,
    "start_time": "2022-01-09T13:14:55.202Z"
   },
   {
    "duration": 394,
    "start_time": "2022-01-09T13:17:15.123Z"
   },
   {
    "duration": 440,
    "start_time": "2022-01-09T13:17:36.143Z"
   },
   {
    "duration": 780,
    "start_time": "2022-01-09T13:17:43.376Z"
   },
   {
    "duration": 808,
    "start_time": "2022-01-09T13:18:27.827Z"
   },
   {
    "duration": 206,
    "start_time": "2022-01-09T13:19:19.155Z"
   },
   {
    "duration": 421,
    "start_time": "2022-01-09T13:20:01.758Z"
   },
   {
    "duration": 1335,
    "start_time": "2022-01-09T13:20:19.487Z"
   },
   {
    "duration": 204,
    "start_time": "2022-01-09T13:20:26.257Z"
   },
   {
    "duration": 8633,
    "start_time": "2022-01-09T13:21:26.407Z"
   },
   {
    "duration": 261,
    "start_time": "2022-01-09T13:22:00.761Z"
   },
   {
    "duration": 233,
    "start_time": "2022-01-09T13:22:31.671Z"
   },
   {
    "duration": 482,
    "start_time": "2022-01-09T13:35:59.547Z"
   },
   {
    "duration": 468,
    "start_time": "2022-01-09T13:36:20.693Z"
   },
   {
    "duration": 458,
    "start_time": "2022-01-09T13:37:26.534Z"
   },
   {
    "duration": 479,
    "start_time": "2022-01-09T13:38:54.913Z"
   },
   {
    "duration": 484,
    "start_time": "2022-01-09T13:39:24.388Z"
   },
   {
    "duration": 406,
    "start_time": "2022-01-09T13:39:47.765Z"
   },
   {
    "duration": 358,
    "start_time": "2022-01-09T13:40:05.757Z"
   },
   {
    "duration": 362,
    "start_time": "2022-01-09T13:40:41.637Z"
   },
   {
    "duration": 462,
    "start_time": "2022-01-09T13:41:48.901Z"
   },
   {
    "duration": 307,
    "start_time": "2022-01-09T13:42:02.748Z"
   },
   {
    "duration": 341,
    "start_time": "2022-01-09T13:42:28.162Z"
   },
   {
    "duration": 351,
    "start_time": "2022-01-09T13:42:46.061Z"
   },
   {
    "duration": 9322,
    "start_time": "2022-01-09T13:43:45.080Z"
   },
   {
    "duration": 300,
    "start_time": "2022-01-09T13:44:25.313Z"
   },
   {
    "duration": 115,
    "start_time": "2022-01-09T13:47:45.905Z"
   },
   {
    "duration": 571,
    "start_time": "2022-01-09T13:47:51.850Z"
   },
   {
    "duration": 597,
    "start_time": "2022-01-09T13:48:04.274Z"
   },
   {
    "duration": 323,
    "start_time": "2022-01-09T13:48:17.968Z"
   },
   {
    "duration": 268,
    "start_time": "2022-01-09T13:50:10.320Z"
   },
   {
    "duration": 9221,
    "start_time": "2022-01-09T13:52:45.778Z"
   },
   {
    "duration": 1715,
    "start_time": "2022-01-09T13:53:12.983Z"
   },
   {
    "duration": 401,
    "start_time": "2022-01-09T13:54:01.113Z"
   },
   {
    "duration": 353,
    "start_time": "2022-01-09T13:54:18.344Z"
   },
   {
    "duration": 427,
    "start_time": "2022-01-09T13:56:31.607Z"
   },
   {
    "duration": 708,
    "start_time": "2022-01-09T13:57:10.713Z"
   },
   {
    "duration": 701,
    "start_time": "2022-01-09T13:57:43.412Z"
   },
   {
    "duration": 713,
    "start_time": "2022-01-09T13:58:20.166Z"
   },
   {
    "duration": 418,
    "start_time": "2022-01-09T13:58:31.421Z"
   },
   {
    "duration": 884,
    "start_time": "2022-01-09T13:59:04.447Z"
   },
   {
    "duration": 435,
    "start_time": "2022-01-09T13:59:31.915Z"
   },
   {
    "duration": 622,
    "start_time": "2022-01-09T13:59:42.418Z"
   },
   {
    "duration": 631,
    "start_time": "2022-01-09T13:59:57.034Z"
   },
   {
    "duration": 422,
    "start_time": "2022-01-09T14:00:10.892Z"
   },
   {
    "duration": 209,
    "start_time": "2022-01-09T14:00:42.545Z"
   },
   {
    "duration": 416,
    "start_time": "2022-01-09T14:01:02.864Z"
   },
   {
    "duration": 411,
    "start_time": "2022-01-09T14:01:27.099Z"
   },
   {
    "duration": 738,
    "start_time": "2022-01-09T14:02:17.894Z"
   },
   {
    "duration": 722,
    "start_time": "2022-01-09T14:02:41.652Z"
   },
   {
    "duration": 106,
    "start_time": "2022-01-09T14:02:53.334Z"
   },
   {
    "duration": 793,
    "start_time": "2022-01-09T14:03:02.608Z"
   },
   {
    "duration": 702,
    "start_time": "2022-01-09T14:03:10.815Z"
   },
   {
    "duration": 702,
    "start_time": "2022-01-09T14:03:34.612Z"
   },
   {
    "duration": 595,
    "start_time": "2022-01-09T14:04:03.083Z"
   },
   {
    "duration": 629,
    "start_time": "2022-01-09T14:04:26.268Z"
   },
   {
    "duration": 553,
    "start_time": "2022-01-09T14:04:51.498Z"
   },
   {
    "duration": 424,
    "start_time": "2022-01-09T14:05:17.505Z"
   },
   {
    "duration": 706,
    "start_time": "2022-01-09T14:05:39.439Z"
   },
   {
    "duration": 893,
    "start_time": "2022-01-09T14:05:57.821Z"
   },
   {
    "duration": 439,
    "start_time": "2022-01-09T14:06:19.336Z"
   },
   {
    "duration": 749,
    "start_time": "2022-01-09T14:06:37.490Z"
   },
   {
    "duration": 424,
    "start_time": "2022-01-09T14:06:53.448Z"
   },
   {
    "duration": 589,
    "start_time": "2022-01-09T14:07:09.651Z"
   },
   {
    "duration": 333,
    "start_time": "2022-01-09T14:08:00.895Z"
   },
   {
    "duration": 123,
    "start_time": "2022-01-09T14:08:46.773Z"
   },
   {
    "duration": 115,
    "start_time": "2022-01-09T14:09:07.410Z"
   },
   {
    "duration": 621,
    "start_time": "2022-01-09T14:09:15.159Z"
   },
   {
    "duration": 418,
    "start_time": "2022-01-09T14:09:58.588Z"
   },
   {
    "duration": 874,
    "start_time": "2022-01-09T14:10:12.374Z"
   },
   {
    "duration": 698,
    "start_time": "2022-01-09T14:10:23.261Z"
   },
   {
    "duration": 437,
    "start_time": "2022-01-09T14:10:33.491Z"
   },
   {
    "duration": 458,
    "start_time": "2022-01-09T14:10:53.547Z"
   },
   {
    "duration": 432,
    "start_time": "2022-01-09T14:11:06.462Z"
   },
   {
    "duration": 871,
    "start_time": "2022-01-09T14:11:30.160Z"
   },
   {
    "duration": 452,
    "start_time": "2022-01-09T14:11:42.537Z"
   },
   {
    "duration": 297,
    "start_time": "2022-01-09T14:13:21.377Z"
   },
   {
    "duration": 431,
    "start_time": "2022-01-09T14:13:38.092Z"
   },
   {
    "duration": 428,
    "start_time": "2022-01-09T14:13:57.795Z"
   },
   {
    "duration": 484,
    "start_time": "2022-01-09T14:21:07.513Z"
   },
   {
    "duration": 312,
    "start_time": "2022-01-09T14:21:57.133Z"
   },
   {
    "duration": 351,
    "start_time": "2022-01-09T14:22:23.272Z"
   },
   {
    "duration": 324,
    "start_time": "2022-01-09T14:22:40.003Z"
   },
   {
    "duration": 343,
    "start_time": "2022-01-09T14:31:08.841Z"
   },
   {
    "duration": 341,
    "start_time": "2022-01-09T14:31:42.460Z"
   },
   {
    "duration": 342,
    "start_time": "2022-01-09T14:32:24.206Z"
   },
   {
    "duration": 488,
    "start_time": "2022-01-09T14:32:50.177Z"
   },
   {
    "duration": 355,
    "start_time": "2022-01-09T14:33:15.667Z"
   },
   {
    "duration": 360,
    "start_time": "2022-01-09T14:33:34.430Z"
   },
   {
    "duration": 399,
    "start_time": "2022-01-09T14:33:42.150Z"
   },
   {
    "duration": 346,
    "start_time": "2022-01-09T14:34:11.979Z"
   },
   {
    "duration": 335,
    "start_time": "2022-01-09T14:35:16.596Z"
   },
   {
    "duration": 352,
    "start_time": "2022-01-09T14:35:32.980Z"
   },
   {
    "duration": 663,
    "start_time": "2022-01-09T14:37:28.192Z"
   },
   {
    "duration": 39,
    "start_time": "2022-01-09T14:37:44.321Z"
   },
   {
    "duration": 145,
    "start_time": "2022-01-09T14:38:26.977Z"
   },
   {
    "duration": 134,
    "start_time": "2022-01-09T14:38:58.757Z"
   },
   {
    "duration": 51,
    "start_time": "2022-01-09T14:39:03.265Z"
   },
   {
    "duration": 43,
    "start_time": "2022-01-09T14:39:13.826Z"
   },
   {
    "duration": 48,
    "start_time": "2022-01-09T14:39:19.685Z"
   },
   {
    "duration": 327,
    "start_time": "2022-01-09T14:46:42.616Z"
   },
   {
    "duration": 4,
    "start_time": "2022-01-09T14:46:43.799Z"
   },
   {
    "duration": 1360,
    "start_time": "2022-01-10T09:01:25.958Z"
   },
   {
    "duration": 110,
    "start_time": "2022-01-10T09:01:27.320Z"
   },
   {
    "duration": 505,
    "start_time": "2022-01-10T09:01:28.201Z"
   },
   {
    "duration": 405,
    "start_time": "2022-01-10T09:01:29.407Z"
   },
   {
    "duration": 360,
    "start_time": "2022-01-10T09:01:30.407Z"
   },
   {
    "duration": 9,
    "start_time": "2022-01-10T09:03:59.545Z"
   },
   {
    "duration": 29,
    "start_time": "2022-01-10T09:05:11.557Z"
   },
   {
    "duration": 641,
    "start_time": "2022-01-10T09:08:24.226Z"
   },
   {
    "duration": 643,
    "start_time": "2022-01-10T09:08:58.692Z"
   },
   {
    "duration": 49,
    "start_time": "2022-01-10T09:11:28.412Z"
   },
   {
    "duration": 39,
    "start_time": "2022-01-10T09:12:46.966Z"
   },
   {
    "duration": 630,
    "start_time": "2022-01-10T09:13:16.282Z"
   },
   {
    "duration": 305,
    "start_time": "2022-01-10T09:13:16.915Z"
   },
   {
    "duration": 360,
    "start_time": "2022-01-10T09:13:17.482Z"
   },
   {
    "duration": 36,
    "start_time": "2022-01-10T09:13:18.068Z"
   },
   {
    "duration": 29,
    "start_time": "2022-01-10T09:14:37.614Z"
   },
   {
    "duration": 52,
    "start_time": "2022-01-10T09:14:59.778Z"
   },
   {
    "duration": 55,
    "start_time": "2022-01-10T09:15:23.512Z"
   },
   {
    "duration": 86,
    "start_time": "2022-01-10T09:15:32.479Z"
   },
   {
    "duration": 66,
    "start_time": "2022-01-10T09:16:36.345Z"
   },
   {
    "duration": 630,
    "start_time": "2022-01-10T09:21:03.134Z"
   },
   {
    "duration": 107,
    "start_time": "2022-01-10T09:21:03.767Z"
   },
   {
    "duration": 765,
    "start_time": "2022-01-10T09:21:04.056Z"
   },
   {
    "duration": 322,
    "start_time": "2022-01-10T09:21:04.824Z"
   },
   {
    "duration": 345,
    "start_time": "2022-01-10T09:21:05.149Z"
   },
   {
    "duration": 66,
    "start_time": "2022-01-10T09:21:05.595Z"
   },
   {
    "duration": 630,
    "start_time": "2022-01-10T09:22:20.398Z"
   },
   {
    "duration": 64,
    "start_time": "2022-01-10T09:22:27.512Z"
   },
   {
    "duration": 67,
    "start_time": "2022-01-10T09:23:09.472Z"
   },
   {
    "duration": 74,
    "start_time": "2022-01-10T09:24:10.273Z"
   },
   {
    "duration": 41,
    "start_time": "2022-01-10T09:24:23.569Z"
   },
   {
    "duration": 86,
    "start_time": "2022-01-10T09:25:02.840Z"
   },
   {
    "duration": 112,
    "start_time": "2022-01-10T09:25:21.374Z"
   },
   {
    "duration": 199,
    "start_time": "2022-01-10T09:25:29.449Z"
   },
   {
    "duration": 256,
    "start_time": "2022-01-10T09:25:50.009Z"
   },
   {
    "duration": 154,
    "start_time": "2022-01-10T09:26:04.017Z"
   },
   {
    "duration": 169,
    "start_time": "2022-01-10T09:26:19.864Z"
   },
   {
    "duration": 173,
    "start_time": "2022-01-10T09:26:29.056Z"
   },
   {
    "duration": 142,
    "start_time": "2022-01-10T09:26:35.978Z"
   },
   {
    "duration": 161,
    "start_time": "2022-01-10T09:26:41.967Z"
   },
   {
    "duration": 166,
    "start_time": "2022-01-10T09:26:58.561Z"
   },
   {
    "duration": 158,
    "start_time": "2022-01-10T09:27:03.063Z"
   },
   {
    "duration": 200,
    "start_time": "2022-01-10T09:27:07.232Z"
   },
   {
    "duration": 50,
    "start_time": "2022-01-10T09:27:12.519Z"
   },
   {
    "duration": 695,
    "start_time": "2022-01-10T09:27:24.169Z"
   },
   {
    "duration": 306,
    "start_time": "2022-01-10T09:27:24.867Z"
   },
   {
    "duration": 407,
    "start_time": "2022-01-10T09:27:25.237Z"
   },
   {
    "duration": 76,
    "start_time": "2022-01-10T09:27:25.749Z"
   },
   {
    "duration": 65,
    "start_time": "2022-01-10T09:28:06.386Z"
   },
   {
    "duration": 84,
    "start_time": "2022-01-10T09:31:11.197Z"
   },
   {
    "duration": 105,
    "start_time": "2022-01-10T09:31:19.326Z"
   },
   {
    "duration": 439,
    "start_time": "2022-01-10T09:31:24.715Z"
   },
   {
    "duration": 135,
    "start_time": "2022-01-10T09:31:36.154Z"
   },
   {
    "duration": 376,
    "start_time": "2022-01-10T09:33:35.315Z"
   },
   {
    "duration": 791,
    "start_time": "2022-01-10T09:34:10.815Z"
   },
   {
    "duration": 130,
    "start_time": "2022-01-10T09:35:42.990Z"
   },
   {
    "duration": 158,
    "start_time": "2022-01-10T09:36:12.350Z"
   },
   {
    "duration": 162,
    "start_time": "2022-01-10T09:36:30.032Z"
   },
   {
    "duration": 164,
    "start_time": "2022-01-10T09:36:57.383Z"
   },
   {
    "duration": 220,
    "start_time": "2022-01-10T09:37:21.904Z"
   },
   {
    "duration": 176,
    "start_time": "2022-01-10T09:37:34.094Z"
   },
   {
    "duration": 589,
    "start_time": "2022-01-10T09:37:42.562Z"
   },
   {
    "duration": 99,
    "start_time": "2022-01-10T09:37:43.154Z"
   },
   {
    "duration": 600,
    "start_time": "2022-01-10T09:37:43.384Z"
   },
   {
    "duration": 322,
    "start_time": "2022-01-10T09:37:43.987Z"
   },
   {
    "duration": 326,
    "start_time": "2022-01-10T09:37:44.413Z"
   },
   {
    "duration": 192,
    "start_time": "2022-01-10T09:37:44.952Z"
   },
   {
    "duration": 148,
    "start_time": "2022-01-10T09:37:52.476Z"
   },
   {
    "duration": 50,
    "start_time": "2022-01-10T09:38:26.430Z"
   },
   {
    "duration": 33,
    "start_time": "2022-01-10T09:38:34.245Z"
   },
   {
    "duration": 39,
    "start_time": "2022-01-10T09:38:53.744Z"
   },
   {
    "duration": 48,
    "start_time": "2022-01-10T09:39:10.116Z"
   },
   {
    "duration": 34,
    "start_time": "2022-01-10T09:39:21.947Z"
   },
   {
    "duration": 338,
    "start_time": "2022-01-10T09:39:26.507Z"
   },
   {
    "duration": 34,
    "start_time": "2022-01-10T09:39:27.066Z"
   },
   {
    "duration": 163,
    "start_time": "2022-01-10T09:40:07.600Z"
   },
   {
    "duration": 156,
    "start_time": "2022-01-10T09:40:19.573Z"
   },
   {
    "duration": 304,
    "start_time": "2022-01-10T09:40:24.732Z"
   },
   {
    "duration": 339,
    "start_time": "2022-01-10T09:40:25.232Z"
   },
   {
    "duration": 165,
    "start_time": "2022-01-10T09:40:25.769Z"
   },
   {
    "duration": 48,
    "start_time": "2022-01-10T09:40:34.221Z"
   },
   {
    "duration": 299,
    "start_time": "2022-01-10T09:40:38.475Z"
   },
   {
    "duration": 408,
    "start_time": "2022-01-10T09:40:38.992Z"
   },
   {
    "duration": 48,
    "start_time": "2022-01-10T09:40:39.485Z"
   },
   {
    "duration": 575,
    "start_time": "2022-01-10T09:40:53.603Z"
   },
   {
    "duration": 104,
    "start_time": "2022-01-10T09:40:54.181Z"
   },
   {
    "duration": 612,
    "start_time": "2022-01-10T09:40:54.523Z"
   },
   {
    "duration": 318,
    "start_time": "2022-01-10T09:40:55.138Z"
   },
   {
    "duration": 343,
    "start_time": "2022-01-10T09:40:55.607Z"
   },
   {
    "duration": 50,
    "start_time": "2022-01-10T09:41:21.549Z"
   },
   {
    "duration": 60,
    "start_time": "2022-01-10T09:42:31.133Z"
   },
   {
    "duration": 275,
    "start_time": "2022-01-10T09:44:58.304Z"
   },
   {
    "duration": 293,
    "start_time": "2022-01-10T09:45:28.734Z"
   },
   {
    "duration": 60,
    "start_time": "2022-01-10T09:46:02.202Z"
   },
   {
    "duration": 64,
    "start_time": "2022-01-10T09:46:53.946Z"
   },
   {
    "duration": 190,
    "start_time": "2022-01-10T09:47:29.538Z"
   },
   {
    "duration": 177,
    "start_time": "2022-01-10T09:47:52.971Z"
   },
   {
    "duration": 95,
    "start_time": "2022-01-10T09:48:04.907Z"
   },
   {
    "duration": 182,
    "start_time": "2022-01-10T09:48:26.264Z"
   },
   {
    "duration": 61,
    "start_time": "2022-01-10T09:48:41.473Z"
   },
   {
    "duration": 83,
    "start_time": "2022-01-10T09:48:50.496Z"
   },
   {
    "duration": 60,
    "start_time": "2022-01-10T09:48:54.726Z"
   },
   {
    "duration": 666,
    "start_time": "2022-01-10T09:49:00.213Z"
   },
   {
    "duration": 173,
    "start_time": "2022-01-10T09:49:00.883Z"
   },
   {
    "duration": 644,
    "start_time": "2022-01-10T09:49:01.126Z"
   },
   {
    "duration": 295,
    "start_time": "2022-01-10T09:49:01.773Z"
   },
   {
    "duration": 359,
    "start_time": "2022-01-10T09:49:02.207Z"
   },
   {
    "duration": 63,
    "start_time": "2022-01-10T09:49:02.755Z"
   },
   {
    "duration": 63,
    "start_time": "2022-01-10T09:49:43.529Z"
   },
   {
    "duration": 58,
    "start_time": "2022-01-10T09:50:08.594Z"
   },
   {
    "duration": 42,
    "start_time": "2022-01-10T09:50:22.746Z"
   },
   {
    "duration": 306,
    "start_time": "2022-01-10T09:50:28.371Z"
   },
   {
    "duration": 696,
    "start_time": "2022-01-10T09:50:42.588Z"
   },
   {
    "duration": 171,
    "start_time": "2022-01-10T09:50:43.288Z"
   },
   {
    "duration": 612,
    "start_time": "2022-01-10T09:50:43.480Z"
   },
   {
    "duration": 352,
    "start_time": "2022-01-10T09:50:44.095Z"
   },
   {
    "duration": 396,
    "start_time": "2022-01-10T09:50:44.571Z"
   },
   {
    "duration": 63,
    "start_time": "2022-01-10T09:50:45.154Z"
   },
   {
    "duration": 2109,
    "start_time": "2022-01-10T09:51:37.235Z"
   },
   {
    "duration": 648,
    "start_time": "2022-01-10T09:51:55.800Z"
   },
   {
    "duration": 1035,
    "start_time": "2022-01-10T09:52:00.474Z"
   },
   {
    "duration": 14,
    "start_time": "2022-01-10T09:52:14.170Z"
   },
   {
    "duration": 628,
    "start_time": "2022-01-10T09:52:23.644Z"
   },
   {
    "duration": 121,
    "start_time": "2022-01-10T09:52:24.275Z"
   },
   {
    "duration": 617,
    "start_time": "2022-01-10T09:52:24.496Z"
   },
   {
    "duration": 319,
    "start_time": "2022-01-10T09:52:25.117Z"
   },
   {
    "duration": 349,
    "start_time": "2022-01-10T09:52:25.540Z"
   },
   {
    "duration": 62,
    "start_time": "2022-01-10T09:52:26.063Z"
   },
   {
    "duration": 440,
    "start_time": "2022-01-10T09:54:07.756Z"
   },
   {
    "duration": 62,
    "start_time": "2022-01-10T09:54:47.058Z"
   },
   {
    "duration": 796,
    "start_time": "2022-01-10T09:54:54.448Z"
   },
   {
    "duration": 100,
    "start_time": "2022-01-10T09:54:55.247Z"
   },
   {
    "duration": 636,
    "start_time": "2022-01-10T09:54:55.350Z"
   },
   {
    "duration": 310,
    "start_time": "2022-01-10T09:54:55.988Z"
   },
   {
    "duration": 334,
    "start_time": "2022-01-10T09:54:56.408Z"
   },
   {
    "duration": 66,
    "start_time": "2022-01-10T09:54:56.975Z"
   },
   {
    "duration": 23,
    "start_time": "2022-01-10T09:55:09.350Z"
   },
   {
    "duration": 464,
    "start_time": "2022-01-10T09:56:06.807Z"
   },
   {
    "duration": 876,
    "start_time": "2022-01-10T09:56:13.778Z"
   },
   {
    "duration": 160,
    "start_time": "2022-01-10T09:56:14.657Z"
   },
   {
    "duration": 894,
    "start_time": "2022-01-10T09:56:14.820Z"
   },
   {
    "duration": 325,
    "start_time": "2022-01-10T09:56:15.717Z"
   },
   {
    "duration": 342,
    "start_time": "2022-01-10T09:56:16.045Z"
   },
   {
    "duration": 79,
    "start_time": "2022-01-10T09:56:16.390Z"
   },
   {
    "duration": 289,
    "start_time": "2022-01-10T09:56:27.635Z"
   },
   {
    "duration": 884,
    "start_time": "2022-01-10T09:56:44.250Z"
   },
   {
    "duration": 169,
    "start_time": "2022-01-10T09:56:45.137Z"
   },
   {
    "duration": 924,
    "start_time": "2022-01-10T09:56:45.310Z"
   },
   {
    "duration": 314,
    "start_time": "2022-01-10T09:56:46.238Z"
   },
   {
    "duration": 360,
    "start_time": "2022-01-10T09:56:46.554Z"
   },
   {
    "duration": 264,
    "start_time": "2022-01-10T09:56:46.917Z"
   },
   {
    "duration": 312,
    "start_time": "2022-01-10T09:57:13.640Z"
   },
   {
    "duration": 25,
    "start_time": "2022-01-10T09:57:32.638Z"
   },
   {
    "duration": 18,
    "start_time": "2022-01-10T09:57:40.964Z"
   },
   {
    "duration": 103,
    "start_time": "2022-01-10T09:59:08.815Z"
   },
   {
    "duration": 875,
    "start_time": "2022-01-10T09:59:17.536Z"
   },
   {
    "duration": 175,
    "start_time": "2022-01-10T09:59:18.415Z"
   },
   {
    "duration": 984,
    "start_time": "2022-01-10T09:59:18.593Z"
   },
   {
    "duration": 307,
    "start_time": "2022-01-10T09:59:19.579Z"
   },
   {
    "duration": 368,
    "start_time": "2022-01-10T09:59:19.889Z"
   },
   {
    "duration": 65,
    "start_time": "2022-01-10T09:59:21.181Z"
   },
   {
    "duration": 43,
    "start_time": "2022-01-10T09:59:36.207Z"
   },
   {
    "duration": 591,
    "start_time": "2022-01-10T09:59:44.257Z"
   },
   {
    "duration": 115,
    "start_time": "2022-01-10T09:59:44.851Z"
   },
   {
    "duration": 625,
    "start_time": "2022-01-10T09:59:45.130Z"
   },
   {
    "duration": 316,
    "start_time": "2022-01-10T09:59:45.764Z"
   },
   {
    "duration": 338,
    "start_time": "2022-01-10T09:59:46.212Z"
   },
   {
    "duration": 44,
    "start_time": "2022-01-10T09:59:46.783Z"
   },
   {
    "duration": 18,
    "start_time": "2022-01-10T09:59:57.165Z"
   },
   {
    "duration": 285,
    "start_time": "2022-01-10T10:01:40.522Z"
   },
   {
    "duration": 25,
    "start_time": "2022-01-10T10:02:09.800Z"
   },
   {
    "duration": 43,
    "start_time": "2022-01-10T10:02:22.776Z"
   },
   {
    "duration": 374,
    "start_time": "2022-01-10T10:02:44.864Z"
   },
   {
    "duration": 31,
    "start_time": "2022-01-10T10:02:57.703Z"
   },
   {
    "duration": 607,
    "start_time": "2022-01-10T10:03:03.728Z"
   },
   {
    "duration": 117,
    "start_time": "2022-01-10T10:03:04.339Z"
   },
   {
    "duration": 637,
    "start_time": "2022-01-10T10:03:04.576Z"
   },
   {
    "duration": 314,
    "start_time": "2022-01-10T10:03:05.216Z"
   },
   {
    "duration": 334,
    "start_time": "2022-01-10T10:03:05.636Z"
   },
   {
    "duration": 38,
    "start_time": "2022-01-10T10:03:06.193Z"
   },
   {
    "duration": 48,
    "start_time": "2022-01-10T10:03:44.389Z"
   },
   {
    "duration": 41,
    "start_time": "2022-01-10T10:03:49.725Z"
   },
   {
    "duration": 396,
    "start_time": "2022-01-10T10:04:49.774Z"
   },
   {
    "duration": 293,
    "start_time": "2022-01-10T10:05:57.976Z"
   },
   {
    "duration": 363,
    "start_time": "2022-01-10T10:06:03.360Z"
   },
   {
    "duration": 301,
    "start_time": "2022-01-10T10:06:10.821Z"
   },
   {
    "duration": 20,
    "start_time": "2022-01-10T10:06:26.249Z"
   },
   {
    "duration": 96,
    "start_time": "2022-01-10T10:06:39.190Z"
   },
   {
    "duration": 584,
    "start_time": "2022-01-10T10:06:45.202Z"
   },
   {
    "duration": 105,
    "start_time": "2022-01-10T10:06:45.789Z"
   },
   {
    "duration": 609,
    "start_time": "2022-01-10T10:06:46.031Z"
   },
   {
    "duration": 311,
    "start_time": "2022-01-10T10:06:46.643Z"
   },
   {
    "duration": 336,
    "start_time": "2022-01-10T10:06:47.091Z"
   },
   {
    "duration": 63,
    "start_time": "2022-01-10T10:06:47.621Z"
   },
   {
    "duration": 72,
    "start_time": "2022-01-10T10:07:09.150Z"
   },
   {
    "duration": 583,
    "start_time": "2022-01-10T10:07:15.721Z"
   },
   {
    "duration": 103,
    "start_time": "2022-01-10T10:07:16.307Z"
   },
   {
    "duration": 615,
    "start_time": "2022-01-10T10:07:16.619Z"
   },
   {
    "duration": 412,
    "start_time": "2022-01-10T10:07:17.236Z"
   },
   {
    "duration": 338,
    "start_time": "2022-01-10T10:07:17.727Z"
   },
   {
    "duration": 71,
    "start_time": "2022-01-10T10:07:18.799Z"
   },
   {
    "duration": 180,
    "start_time": "2022-01-10T10:08:13.276Z"
   },
   {
    "duration": 174,
    "start_time": "2022-01-10T10:08:23.286Z"
   },
   {
    "duration": 55,
    "start_time": "2022-01-10T10:09:46.537Z"
   },
   {
    "duration": 590,
    "start_time": "2022-01-10T10:09:54.740Z"
   },
   {
    "duration": 130,
    "start_time": "2022-01-10T10:09:55.332Z"
   },
   {
    "duration": 620,
    "start_time": "2022-01-10T10:09:55.682Z"
   },
   {
    "duration": 316,
    "start_time": "2022-01-10T10:09:56.305Z"
   },
   {
    "duration": 351,
    "start_time": "2022-01-10T10:09:56.746Z"
   },
   {
    "duration": 55,
    "start_time": "2022-01-10T10:09:57.286Z"
   },
   {
    "duration": 577,
    "start_time": "2022-01-10T10:10:37.723Z"
   },
   {
    "duration": 103,
    "start_time": "2022-01-10T10:10:38.303Z"
   },
   {
    "duration": 656,
    "start_time": "2022-01-10T10:10:38.651Z"
   },
   {
    "duration": 312,
    "start_time": "2022-01-10T10:10:39.310Z"
   },
   {
    "duration": 334,
    "start_time": "2022-01-10T10:10:39.803Z"
   },
   {
    "duration": 82,
    "start_time": "2022-01-10T10:10:40.359Z"
   },
   {
    "duration": 69,
    "start_time": "2022-01-10T10:11:12.893Z"
   },
   {
    "duration": 223,
    "start_time": "2022-01-10T10:11:45.721Z"
   },
   {
    "duration": 285,
    "start_time": "2022-01-10T10:12:30.997Z"
   },
   {
    "duration": 230,
    "start_time": "2022-01-10T10:12:44.773Z"
   },
   {
    "duration": 291,
    "start_time": "2022-01-10T10:12:58.383Z"
   },
   {
    "duration": 146,
    "start_time": "2022-01-10T10:13:04.838Z"
   },
   {
    "duration": 172,
    "start_time": "2022-01-10T10:13:24.677Z"
   },
   {
    "duration": 578,
    "start_time": "2022-01-10T10:13:32.582Z"
   },
   {
    "duration": 100,
    "start_time": "2022-01-10T10:13:33.162Z"
   },
   {
    "duration": 618,
    "start_time": "2022-01-10T10:13:33.474Z"
   },
   {
    "duration": 314,
    "start_time": "2022-01-10T10:13:34.094Z"
   },
   {
    "duration": 338,
    "start_time": "2022-01-10T10:13:34.595Z"
   },
   {
    "duration": 171,
    "start_time": "2022-01-10T10:13:35.146Z"
   },
   {
    "duration": 183,
    "start_time": "2022-01-10T10:14:01.398Z"
   },
   {
    "duration": 579,
    "start_time": "2022-01-10T10:14:07.270Z"
   },
   {
    "duration": 111,
    "start_time": "2022-01-10T10:14:07.852Z"
   },
   {
    "duration": 636,
    "start_time": "2022-01-10T10:14:08.066Z"
   },
   {
    "duration": 316,
    "start_time": "2022-01-10T10:14:08.704Z"
   },
   {
    "duration": 344,
    "start_time": "2022-01-10T10:14:09.169Z"
   },
   {
    "duration": 184,
    "start_time": "2022-01-10T10:14:09.739Z"
   },
   {
    "duration": 175,
    "start_time": "2022-01-10T10:14:40.372Z"
   },
   {
    "duration": 586,
    "start_time": "2022-01-10T10:14:47.247Z"
   },
   {
    "duration": 113,
    "start_time": "2022-01-10T10:14:47.836Z"
   },
   {
    "duration": 633,
    "start_time": "2022-01-10T10:14:48.130Z"
   },
   {
    "duration": 338,
    "start_time": "2022-01-10T10:14:48.766Z"
   },
   {
    "duration": 341,
    "start_time": "2022-01-10T10:14:49.188Z"
   },
   {
    "duration": 180,
    "start_time": "2022-01-10T10:14:49.736Z"
   },
   {
    "duration": 173,
    "start_time": "2022-01-10T10:15:17.283Z"
   },
   {
    "duration": 601,
    "start_time": "2022-01-10T10:19:50.359Z"
   },
   {
    "duration": 101,
    "start_time": "2022-01-10T10:19:50.963Z"
   },
   {
    "duration": 644,
    "start_time": "2022-01-10T10:19:51.277Z"
   },
   {
    "duration": 323,
    "start_time": "2022-01-10T10:19:51.924Z"
   },
   {
    "duration": 341,
    "start_time": "2022-01-10T10:19:52.275Z"
   },
   {
    "duration": 72,
    "start_time": "2022-01-10T10:19:52.833Z"
   },
   {
    "duration": 574,
    "start_time": "2022-01-10T10:20:21.770Z"
   },
   {
    "duration": 124,
    "start_time": "2022-01-10T10:20:22.346Z"
   },
   {
    "duration": 599,
    "start_time": "2022-01-10T10:20:22.656Z"
   },
   {
    "duration": 312,
    "start_time": "2022-01-10T10:20:23.257Z"
   },
   {
    "duration": 328,
    "start_time": "2022-01-10T10:20:23.745Z"
   },
   {
    "duration": 76,
    "start_time": "2022-01-10T10:20:24.310Z"
   },
   {
    "duration": 83,
    "start_time": "2022-01-10T10:20:30.791Z"
   },
   {
    "duration": 61,
    "start_time": "2022-01-10T10:20:38.054Z"
   },
   {
    "duration": 62,
    "start_time": "2022-01-10T10:21:04.451Z"
   },
   {
    "duration": 569,
    "start_time": "2022-01-10T10:21:10.896Z"
   },
   {
    "duration": 109,
    "start_time": "2022-01-10T10:21:11.467Z"
   },
   {
    "duration": 607,
    "start_time": "2022-01-10T10:21:11.735Z"
   },
   {
    "duration": 323,
    "start_time": "2022-01-10T10:21:12.344Z"
   },
   {
    "duration": 331,
    "start_time": "2022-01-10T10:21:12.813Z"
   },
   {
    "duration": 60,
    "start_time": "2022-01-10T10:21:13.359Z"
   },
   {
    "duration": 67,
    "start_time": "2022-01-10T10:21:34.250Z"
   },
   {
    "duration": 577,
    "start_time": "2022-01-10T10:21:43.921Z"
   },
   {
    "duration": 117,
    "start_time": "2022-01-10T10:21:44.501Z"
   },
   {
    "duration": 628,
    "start_time": "2022-01-10T10:21:44.764Z"
   },
   {
    "duration": 301,
    "start_time": "2022-01-10T10:21:45.395Z"
   },
   {
    "duration": 333,
    "start_time": "2022-01-10T10:21:45.804Z"
   },
   {
    "duration": 67,
    "start_time": "2022-01-10T10:21:46.307Z"
   },
   {
    "duration": 76,
    "start_time": "2022-01-10T10:21:59.088Z"
   },
   {
    "duration": 591,
    "start_time": "2022-01-10T10:22:04.944Z"
   },
   {
    "duration": 112,
    "start_time": "2022-01-10T10:22:05.538Z"
   },
   {
    "duration": 638,
    "start_time": "2022-01-10T10:22:05.876Z"
   },
   {
    "duration": 348,
    "start_time": "2022-01-10T10:22:06.517Z"
   },
   {
    "duration": 332,
    "start_time": "2022-01-10T10:22:06.910Z"
   },
   {
    "duration": 75,
    "start_time": "2022-01-10T10:22:07.434Z"
   },
   {
    "duration": 101,
    "start_time": "2022-01-10T10:22:41.982Z"
   },
   {
    "duration": 56,
    "start_time": "2022-01-10T10:23:01.536Z"
   },
   {
    "duration": 566,
    "start_time": "2022-01-10T10:23:07.084Z"
   },
   {
    "duration": 111,
    "start_time": "2022-01-10T10:23:07.654Z"
   },
   {
    "duration": 599,
    "start_time": "2022-01-10T10:23:07.973Z"
   },
   {
    "duration": 318,
    "start_time": "2022-01-10T10:23:08.575Z"
   },
   {
    "duration": 341,
    "start_time": "2022-01-10T10:23:09.070Z"
   },
   {
    "duration": 56,
    "start_time": "2022-01-10T10:23:09.628Z"
   },
   {
    "duration": 61,
    "start_time": "2022-01-10T10:23:29.745Z"
   },
   {
    "duration": 74,
    "start_time": "2022-01-10T10:23:45.995Z"
   },
   {
    "duration": 602,
    "start_time": "2022-01-10T10:24:01.007Z"
   },
   {
    "duration": 121,
    "start_time": "2022-01-10T10:24:01.612Z"
   },
   {
    "duration": 620,
    "start_time": "2022-01-10T10:24:01.823Z"
   },
   {
    "duration": 319,
    "start_time": "2022-01-10T10:24:02.445Z"
   },
   {
    "duration": 332,
    "start_time": "2022-01-10T10:24:02.915Z"
   },
   {
    "duration": 69,
    "start_time": "2022-01-10T10:24:03.456Z"
   },
   {
    "duration": 174,
    "start_time": "2022-01-10T10:24:32.080Z"
   },
   {
    "duration": 583,
    "start_time": "2022-01-10T10:24:38.388Z"
   },
   {
    "duration": 119,
    "start_time": "2022-01-10T10:24:38.973Z"
   },
   {
    "duration": 685,
    "start_time": "2022-01-10T10:24:39.205Z"
   },
   {
    "duration": 309,
    "start_time": "2022-01-10T10:24:39.894Z"
   },
   {
    "duration": 336,
    "start_time": "2022-01-10T10:24:40.366Z"
   },
   {
    "duration": 172,
    "start_time": "2022-01-10T10:24:40.818Z"
   },
   {
    "duration": 183,
    "start_time": "2022-01-10T10:24:49.605Z"
   },
   {
    "duration": 692,
    "start_time": "2022-01-10T10:24:55.384Z"
   },
   {
    "duration": 126,
    "start_time": "2022-01-10T10:24:56.079Z"
   },
   {
    "duration": 669,
    "start_time": "2022-01-10T10:24:56.307Z"
   },
   {
    "duration": 317,
    "start_time": "2022-01-10T10:24:56.979Z"
   },
   {
    "duration": 409,
    "start_time": "2022-01-10T10:24:57.402Z"
   },
   {
    "duration": 179,
    "start_time": "2022-01-10T10:24:57.940Z"
   },
   {
    "duration": 320,
    "start_time": "2022-01-10T10:25:15.956Z"
   },
   {
    "duration": 185,
    "start_time": "2022-01-10T10:25:28.741Z"
   },
   {
    "duration": 592,
    "start_time": "2022-01-10T10:25:35.061Z"
   },
   {
    "duration": 108,
    "start_time": "2022-01-10T10:25:35.655Z"
   },
   {
    "duration": 626,
    "start_time": "2022-01-10T10:25:35.832Z"
   },
   {
    "duration": 331,
    "start_time": "2022-01-10T10:25:36.463Z"
   },
   {
    "duration": 335,
    "start_time": "2022-01-10T10:25:36.894Z"
   },
   {
    "duration": 274,
    "start_time": "2022-01-10T10:25:37.482Z"
   },
   {
    "duration": 254,
    "start_time": "2022-01-10T10:25:53.481Z"
   },
   {
    "duration": 407,
    "start_time": "2022-01-10T10:33:29.401Z"
   },
   {
    "duration": 649,
    "start_time": "2022-01-10T10:33:59.384Z"
   },
   {
    "duration": 398,
    "start_time": "2022-01-10T10:34:24.088Z"
   },
   {
    "duration": 701,
    "start_time": "2022-01-10T10:34:56.621Z"
   },
   {
    "duration": 513,
    "start_time": "2022-01-10T12:47:13.432Z"
   },
   {
    "duration": 895,
    "start_time": "2022-01-10T12:50:27.963Z"
   },
   {
    "duration": 256,
    "start_time": "2022-01-10T12:53:40.735Z"
   },
   {
    "duration": 614,
    "start_time": "2022-01-10T12:55:35.424Z"
   },
   {
    "duration": 520,
    "start_time": "2022-01-10T12:56:38.791Z"
   },
   {
    "duration": 265,
    "start_time": "2022-01-10T12:59:00.282Z"
   },
   {
    "duration": 250,
    "start_time": "2022-01-10T12:59:19.954Z"
   },
   {
    "duration": 515,
    "start_time": "2022-01-10T13:01:41.769Z"
   },
   {
    "duration": 523,
    "start_time": "2022-01-10T13:03:28.546Z"
   },
   {
    "duration": 514,
    "start_time": "2022-01-10T13:05:15.468Z"
   },
   {
    "duration": 509,
    "start_time": "2022-01-10T13:05:54.186Z"
   },
   {
    "duration": 341,
    "start_time": "2022-01-10T13:09:34.668Z"
   },
   {
    "duration": 346,
    "start_time": "2022-01-10T13:12:05.659Z"
   },
   {
    "duration": 240,
    "start_time": "2022-01-10T13:12:14.862Z"
   },
   {
    "duration": 538,
    "start_time": "2022-01-10T13:15:09.166Z"
   },
   {
    "duration": 407,
    "start_time": "2022-01-10T13:16:19.746Z"
   },
   {
    "duration": 201,
    "start_time": "2022-01-10T13:19:30.404Z"
   },
   {
    "duration": 192,
    "start_time": "2022-01-10T13:20:18.553Z"
   },
   {
    "duration": 183,
    "start_time": "2022-01-10T13:21:58.104Z"
   },
   {
    "duration": 179,
    "start_time": "2022-01-10T13:22:38.486Z"
   },
   {
    "duration": 193,
    "start_time": "2022-01-10T13:22:50.571Z"
   },
   {
    "duration": 148,
    "start_time": "2022-01-10T13:23:28.606Z"
   },
   {
    "duration": 143,
    "start_time": "2022-01-10T13:23:53.452Z"
   },
   {
    "duration": 272,
    "start_time": "2022-01-10T13:23:58.635Z"
   },
   {
    "duration": 309,
    "start_time": "2022-01-10T13:24:56.414Z"
   },
   {
    "duration": 598,
    "start_time": "2022-01-10T13:25:07.536Z"
   },
   {
    "duration": 109,
    "start_time": "2022-01-10T13:25:08.136Z"
   },
   {
    "duration": 533,
    "start_time": "2022-01-10T13:25:08.421Z"
   },
   {
    "duration": 538,
    "start_time": "2022-01-10T13:25:08.962Z"
   },
   {
    "duration": 289,
    "start_time": "2022-01-10T13:25:09.504Z"
   },
   {
    "duration": 245,
    "start_time": "2022-01-10T13:25:09.796Z"
   },
   {
    "duration": 328,
    "start_time": "2022-01-10T13:25:10.328Z"
   },
   {
    "duration": 250,
    "start_time": "2022-01-10T13:25:10.683Z"
   },
   {
    "duration": 185,
    "start_time": "2022-01-10T13:25:11.238Z"
   },
   {
    "duration": 187,
    "start_time": "2022-01-10T13:25:11.620Z"
   },
   {
    "duration": 3,
    "start_time": "2022-01-10T13:25:12.172Z"
   },
   {
    "duration": 184,
    "start_time": "2022-01-10T13:26:06.392Z"
   },
   {
    "duration": 181,
    "start_time": "2022-01-10T13:26:53.379Z"
   },
   {
    "duration": 205,
    "start_time": "2022-01-10T13:27:07.085Z"
   },
   {
    "duration": 294,
    "start_time": "2022-01-10T13:37:14.394Z"
   },
   {
    "duration": 391,
    "start_time": "2022-01-10T13:38:13.721Z"
   },
   {
    "duration": 367,
    "start_time": "2022-01-10T13:38:34.267Z"
   },
   {
    "duration": 306,
    "start_time": "2022-01-10T13:38:50.569Z"
   },
   {
    "duration": 304,
    "start_time": "2022-01-10T13:39:05.761Z"
   },
   {
    "duration": 422,
    "start_time": "2022-01-10T13:43:09.698Z"
   },
   {
    "duration": 383,
    "start_time": "2022-01-10T13:43:51.331Z"
   },
   {
    "duration": 340,
    "start_time": "2022-01-10T13:44:23.640Z"
   },
   {
    "duration": 88,
    "start_time": "2022-01-10T13:44:56.901Z"
   },
   {
    "duration": 355,
    "start_time": "2022-01-10T13:45:07.462Z"
   },
   {
    "duration": 621,
    "start_time": "2022-01-10T13:45:30.110Z"
   },
   {
    "duration": 110,
    "start_time": "2022-01-10T13:45:30.734Z"
   },
   {
    "duration": 558,
    "start_time": "2022-01-10T13:45:31.013Z"
   },
   {
    "duration": 428,
    "start_time": "2022-01-10T13:45:31.574Z"
   },
   {
    "duration": 293,
    "start_time": "2022-01-10T13:45:32.004Z"
   },
   {
    "duration": 231,
    "start_time": "2022-01-10T13:45:32.349Z"
   },
   {
    "duration": 345,
    "start_time": "2022-01-10T13:45:32.848Z"
   },
   {
    "duration": 256,
    "start_time": "2022-01-10T13:45:33.196Z"
   },
   {
    "duration": 473,
    "start_time": "2022-01-10T13:45:33.742Z"
   },
   {
    "duration": 194,
    "start_time": "2022-01-10T13:45:34.219Z"
   },
   {
    "duration": 3,
    "start_time": "2022-01-10T13:45:34.518Z"
   },
   {
    "duration": 340,
    "start_time": "2022-01-10T13:45:56.229Z"
   },
   {
    "duration": 352,
    "start_time": "2022-01-10T13:46:08.521Z"
   },
   {
    "duration": 251,
    "start_time": "2022-01-10T13:46:51.962Z"
   },
   {
    "duration": 251,
    "start_time": "2022-01-10T13:48:01.808Z"
   },
   {
    "duration": 261,
    "start_time": "2022-01-10T13:48:21.846Z"
   },
   {
    "duration": 291,
    "start_time": "2022-01-10T13:48:34.022Z"
   },
   {
    "duration": 343,
    "start_time": "2022-01-10T13:49:14.568Z"
   },
   {
    "duration": 612,
    "start_time": "2022-01-10T13:49:43.220Z"
   },
   {
    "duration": 110,
    "start_time": "2022-01-10T13:49:43.834Z"
   },
   {
    "duration": 533,
    "start_time": "2022-01-10T13:49:44.131Z"
   },
   {
    "duration": 401,
    "start_time": "2022-01-10T13:49:44.667Z"
   },
   {
    "duration": 284,
    "start_time": "2022-01-10T13:49:45.080Z"
   },
   {
    "duration": 234,
    "start_time": "2022-01-10T13:49:45.440Z"
   },
   {
    "duration": 350,
    "start_time": "2022-01-10T13:49:46.004Z"
   },
   {
    "duration": 239,
    "start_time": "2022-01-10T13:49:46.388Z"
   },
   {
    "duration": 413,
    "start_time": "2022-01-10T13:49:46.933Z"
   },
   {
    "duration": 185,
    "start_time": "2022-01-10T13:49:47.349Z"
   },
   {
    "duration": 229,
    "start_time": "2022-01-10T13:50:45.836Z"
   },
   {
    "duration": 439,
    "start_time": "2022-01-10T13:51:16.648Z"
   },
   {
    "duration": 453,
    "start_time": "2022-01-10T13:53:24.723Z"
   },
   {
    "duration": 596,
    "start_time": "2022-01-10T13:54:41.834Z"
   },
   {
    "duration": 118,
    "start_time": "2022-01-10T13:54:42.433Z"
   },
   {
    "duration": 538,
    "start_time": "2022-01-10T13:54:42.743Z"
   },
   {
    "duration": 419,
    "start_time": "2022-01-10T13:54:43.284Z"
   },
   {
    "duration": 288,
    "start_time": "2022-01-10T13:54:43.706Z"
   },
   {
    "duration": 292,
    "start_time": "2022-01-10T13:54:44.028Z"
   },
   {
    "duration": 343,
    "start_time": "2022-01-10T13:54:44.532Z"
   },
   {
    "duration": 271,
    "start_time": "2022-01-10T13:54:44.914Z"
   },
   {
    "duration": 438,
    "start_time": "2022-01-10T13:54:45.462Z"
   },
   {
    "duration": 202,
    "start_time": "2022-01-10T13:54:45.903Z"
   },
   {
    "duration": 3,
    "start_time": "2022-01-10T13:54:46.400Z"
   },
   {
    "duration": 454,
    "start_time": "2022-01-10T13:56:05.358Z"
   },
   {
    "duration": 630,
    "start_time": "2022-01-10T13:56:13.776Z"
   },
   {
    "duration": 119,
    "start_time": "2022-01-10T13:56:14.408Z"
   },
   {
    "duration": 529,
    "start_time": "2022-01-10T13:56:14.608Z"
   },
   {
    "duration": 446,
    "start_time": "2022-01-10T13:56:15.140Z"
   },
   {
    "duration": 312,
    "start_time": "2022-01-10T13:56:15.589Z"
   },
   {
    "duration": 363,
    "start_time": "2022-01-10T13:56:15.904Z"
   },
   {
    "duration": 481,
    "start_time": "2022-01-10T13:56:16.322Z"
   },
   {
    "duration": 329,
    "start_time": "2022-01-10T13:56:16.807Z"
   },
   {
    "duration": 638,
    "start_time": "2022-01-10T13:56:17.220Z"
   },
   {
    "duration": 196,
    "start_time": "2022-01-10T13:56:17.864Z"
   },
   {
    "duration": 3,
    "start_time": "2022-01-10T13:56:18.097Z"
   },
   {
    "duration": 409,
    "start_time": "2022-01-10T14:04:43.993Z"
   },
   {
    "duration": 497,
    "start_time": "2022-01-10T14:06:44.977Z"
   },
   {
    "duration": 248,
    "start_time": "2022-01-10T14:07:03.003Z"
   },
   {
    "duration": 577,
    "start_time": "2022-01-10T14:07:26.693Z"
   },
   {
    "duration": 630,
    "start_time": "2022-01-10T14:10:29.148Z"
   },
   {
    "duration": 656,
    "start_time": "2022-01-10T14:11:10.658Z"
   },
   {
    "duration": 794,
    "start_time": "2022-01-10T14:11:21.807Z"
   },
   {
    "duration": 635,
    "start_time": "2022-01-10T14:11:33.056Z"
   },
   {
    "duration": 400,
    "start_time": "2022-01-10T14:18:46.793Z"
   },
   {
    "duration": 530,
    "start_time": "2022-01-10T14:18:58.704Z"
   },
   {
    "duration": 393,
    "start_time": "2022-01-10T14:19:50.388Z"
   },
   {
    "duration": 404,
    "start_time": "2022-01-10T14:20:42.929Z"
   },
   {
    "duration": 490,
    "start_time": "2022-01-10T14:20:58.600Z"
   },
   {
    "duration": 7348,
    "start_time": "2022-01-10T14:21:20.471Z"
   },
   {
    "duration": 8176,
    "start_time": "2022-01-10T14:21:49.444Z"
   },
   {
    "duration": 387,
    "start_time": "2022-01-10T14:22:26.128Z"
   },
   {
    "duration": 610,
    "start_time": "2022-01-10T14:22:33.845Z"
   },
   {
    "duration": 119,
    "start_time": "2022-01-10T14:22:34.457Z"
   },
   {
    "duration": 531,
    "start_time": "2022-01-10T14:22:34.739Z"
   },
   {
    "duration": 418,
    "start_time": "2022-01-10T14:22:35.273Z"
   },
   {
    "duration": 288,
    "start_time": "2022-01-10T14:22:35.694Z"
   },
   {
    "duration": 248,
    "start_time": "2022-01-10T14:22:35.985Z"
   },
   {
    "duration": 389,
    "start_time": "2022-01-10T14:22:36.338Z"
   },
   {
    "duration": 250,
    "start_time": "2022-01-10T14:22:36.730Z"
   },
   {
    "duration": 438,
    "start_time": "2022-01-10T14:22:36.983Z"
   },
   {
    "duration": 402,
    "start_time": "2022-01-10T14:22:37.424Z"
   },
   {
    "duration": 3,
    "start_time": "2022-01-10T14:22:37.829Z"
   },
   {
    "duration": 588,
    "start_time": "2022-01-10T14:23:11.232Z"
   },
   {
    "duration": 108,
    "start_time": "2022-01-10T14:23:11.823Z"
   },
   {
    "duration": 513,
    "start_time": "2022-01-10T14:23:12.080Z"
   },
   {
    "duration": 415,
    "start_time": "2022-01-10T14:23:12.596Z"
   },
   {
    "duration": 279,
    "start_time": "2022-01-10T14:23:13.014Z"
   },
   {
    "duration": 229,
    "start_time": "2022-01-10T14:23:13.382Z"
   },
   {
    "duration": 344,
    "start_time": "2022-01-10T14:23:13.951Z"
   },
   {
    "duration": 249,
    "start_time": "2022-01-10T14:23:14.298Z"
   },
   {
    "duration": 396,
    "start_time": "2022-01-10T14:23:14.797Z"
   },
   {
    "duration": 429,
    "start_time": "2022-01-10T14:23:15.196Z"
   },
   {
    "duration": 3,
    "start_time": "2022-01-10T14:23:15.679Z"
   },
   {
    "duration": 434,
    "start_time": "2022-01-10T14:23:57.392Z"
   },
   {
    "duration": 603,
    "start_time": "2022-01-10T14:24:35.481Z"
   },
   {
    "duration": 112,
    "start_time": "2022-01-10T14:24:36.087Z"
   },
   {
    "duration": 662,
    "start_time": "2022-01-10T14:24:36.413Z"
   },
   {
    "duration": 459,
    "start_time": "2022-01-10T14:24:37.078Z"
   },
   {
    "duration": 272,
    "start_time": "2022-01-10T14:24:37.540Z"
   },
   {
    "duration": 249,
    "start_time": "2022-01-10T14:24:37.815Z"
   },
   {
    "duration": 332,
    "start_time": "2022-01-10T14:24:38.299Z"
   },
   {
    "duration": 235,
    "start_time": "2022-01-10T14:24:38.668Z"
   },
   {
    "duration": 388,
    "start_time": "2022-01-10T14:24:39.216Z"
   },
   {
    "duration": 442,
    "start_time": "2022-01-10T14:24:39.607Z"
   },
   {
    "duration": 324,
    "start_time": "2022-01-10T14:24:40.136Z"
   },
   {
    "duration": 605,
    "start_time": "2022-01-10T14:26:36.877Z"
   },
   {
    "duration": 111,
    "start_time": "2022-01-10T14:26:37.484Z"
   },
   {
    "duration": 525,
    "start_time": "2022-01-10T14:26:37.764Z"
   },
   {
    "duration": 412,
    "start_time": "2022-01-10T14:26:38.292Z"
   },
   {
    "duration": 278,
    "start_time": "2022-01-10T14:26:38.706Z"
   },
   {
    "duration": 241,
    "start_time": "2022-01-10T14:26:38.996Z"
   },
   {
    "duration": 335,
    "start_time": "2022-01-10T14:26:39.491Z"
   },
   {
    "duration": 239,
    "start_time": "2022-01-10T14:26:39.832Z"
   },
   {
    "duration": 401,
    "start_time": "2022-01-10T14:26:40.372Z"
   },
   {
    "duration": 441,
    "start_time": "2022-01-10T14:26:40.776Z"
   },
   {
    "duration": 441,
    "start_time": "2022-01-10T14:26:41.305Z"
   },
   {
    "duration": 379,
    "start_time": "2022-01-10T14:26:51.731Z"
   },
   {
    "duration": 412,
    "start_time": "2022-01-10T14:34:58.113Z"
   },
   {
    "duration": 57,
    "start_time": "2022-01-10T15:14:40.596Z"
   },
   {
    "duration": 612,
    "start_time": "2022-01-10T15:14:51.001Z"
   },
   {
    "duration": 161,
    "start_time": "2022-01-10T15:14:51.616Z"
   },
   {
    "duration": 533,
    "start_time": "2022-01-10T15:14:51.870Z"
   },
   {
    "duration": 417,
    "start_time": "2022-01-10T15:14:52.405Z"
   },
   {
    "duration": 284,
    "start_time": "2022-01-10T15:14:52.825Z"
   },
   {
    "duration": 248,
    "start_time": "2022-01-10T15:14:53.112Z"
   },
   {
    "duration": 336,
    "start_time": "2022-01-10T15:14:53.587Z"
   },
   {
    "duration": 240,
    "start_time": "2022-01-10T15:14:53.951Z"
   },
   {
    "duration": 392,
    "start_time": "2022-01-10T15:14:54.458Z"
   },
   {
    "duration": 435,
    "start_time": "2022-01-10T15:14:54.854Z"
   },
   {
    "duration": 389,
    "start_time": "2022-01-10T15:14:55.291Z"
   },
   {
    "duration": 57,
    "start_time": "2022-01-10T15:14:55.683Z"
   },
   {
    "duration": 4,
    "start_time": "2022-01-10T15:14:55.742Z"
   },
   {
    "duration": 109,
    "start_time": "2022-01-10T15:15:24.663Z"
   },
   {
    "duration": 269,
    "start_time": "2022-01-10T15:15:31.599Z"
   },
   {
    "duration": 95,
    "start_time": "2022-01-10T15:16:30.212Z"
   },
   {
    "duration": 260,
    "start_time": "2022-01-10T15:16:34.439Z"
   },
   {
    "duration": 470,
    "start_time": "2022-01-10T15:19:15.165Z"
   },
   {
    "duration": 661,
    "start_time": "2022-01-10T15:19:48.978Z"
   },
   {
    "duration": 335,
    "start_time": "2022-01-10T15:31:20.502Z"
   },
   {
    "duration": 408,
    "start_time": "2022-01-10T15:32:35.072Z"
   },
   {
    "duration": 8,
    "start_time": "2022-01-10T15:33:59.394Z"
   },
   {
    "duration": 591,
    "start_time": "2022-01-10T15:34:07.410Z"
   },
   {
    "duration": 108,
    "start_time": "2022-01-10T15:34:08.004Z"
   },
   {
    "duration": 533,
    "start_time": "2022-01-10T15:34:08.266Z"
   },
   {
    "duration": 439,
    "start_time": "2022-01-10T15:34:08.801Z"
   },
   {
    "duration": 284,
    "start_time": "2022-01-10T15:34:09.243Z"
   },
   {
    "duration": 257,
    "start_time": "2022-01-10T15:34:09.529Z"
   },
   {
    "duration": 477,
    "start_time": "2022-01-10T15:34:09.788Z"
   },
   {
    "duration": 351,
    "start_time": "2022-01-10T15:34:10.268Z"
   },
   {
    "duration": 411,
    "start_time": "2022-01-10T15:34:10.623Z"
   },
   {
    "duration": 412,
    "start_time": "2022-01-10T15:34:11.038Z"
   },
   {
    "duration": 384,
    "start_time": "2022-01-10T15:34:11.453Z"
   },
   {
    "duration": 7,
    "start_time": "2022-01-10T15:34:11.839Z"
   },
   {
    "duration": 15,
    "start_time": "2022-01-10T15:34:11.848Z"
   },
   {
    "duration": 273,
    "start_time": "2022-01-10T15:34:18.950Z"
   },
   {
    "duration": 10,
    "start_time": "2022-01-10T15:34:23.003Z"
   },
   {
    "duration": 69,
    "start_time": "2022-01-10T15:35:19.874Z"
   },
   {
    "duration": 88,
    "start_time": "2022-01-10T15:36:02.712Z"
   },
   {
    "duration": 599,
    "start_time": "2022-01-10T15:36:22.730Z"
   },
   {
    "duration": 105,
    "start_time": "2022-01-10T15:36:23.332Z"
   },
   {
    "duration": 541,
    "start_time": "2022-01-10T15:36:23.558Z"
   },
   {
    "duration": 424,
    "start_time": "2022-01-10T15:36:24.102Z"
   },
   {
    "duration": 301,
    "start_time": "2022-01-10T15:36:24.528Z"
   },
   {
    "duration": 257,
    "start_time": "2022-01-10T15:36:24.832Z"
   },
   {
    "duration": 495,
    "start_time": "2022-01-10T15:36:25.093Z"
   },
   {
    "duration": 338,
    "start_time": "2022-01-10T15:36:25.592Z"
   },
   {
    "duration": 668,
    "start_time": "2022-01-10T15:36:25.934Z"
   },
   {
    "duration": 450,
    "start_time": "2022-01-10T15:36:26.605Z"
   },
   {
    "duration": 392,
    "start_time": "2022-01-10T15:36:27.062Z"
   },
   {
    "duration": 107,
    "start_time": "2022-01-10T15:36:27.458Z"
   },
   {
    "duration": 4,
    "start_time": "2022-01-10T15:36:27.568Z"
   },
   {
    "duration": 439,
    "start_time": "2022-01-10T15:37:00.787Z"
   },
   {
    "duration": 440,
    "start_time": "2022-01-10T15:37:11.449Z"
   },
   {
    "duration": 427,
    "start_time": "2022-01-10T15:37:34.383Z"
   },
   {
    "duration": 437,
    "start_time": "2022-01-10T15:38:31.829Z"
   },
   {
    "duration": 324,
    "start_time": "2022-01-10T15:38:54.524Z"
   },
   {
    "duration": 735,
    "start_time": "2022-01-10T15:39:41.445Z"
   },
   {
    "duration": 52,
    "start_time": "2022-01-10T15:40:25.952Z"
   },
   {
    "duration": 435,
    "start_time": "2022-01-10T15:42:06.322Z"
   },
   {
    "duration": 551,
    "start_time": "2022-01-10T15:42:14.936Z"
   },
   {
    "duration": 341,
    "start_time": "2022-01-10T15:46:14.366Z"
   },
   {
    "duration": 311,
    "start_time": "2022-01-10T15:46:22.525Z"
   },
   {
    "duration": 430,
    "start_time": "2022-01-10T15:46:47.359Z"
   },
   {
    "duration": 300,
    "start_time": "2022-01-10T15:47:02.546Z"
   },
   {
    "duration": 449,
    "start_time": "2022-01-10T15:47:22.786Z"
   },
   {
    "duration": 314,
    "start_time": "2022-01-10T15:48:22.309Z"
   },
   {
    "duration": 319,
    "start_time": "2022-01-10T15:48:46.831Z"
   },
   {
    "duration": 329,
    "start_time": "2022-01-10T15:49:11.147Z"
   },
   {
    "duration": 341,
    "start_time": "2022-01-10T15:49:41.745Z"
   },
   {
    "duration": 319,
    "start_time": "2022-01-10T15:50:40.022Z"
   },
   {
    "duration": 313,
    "start_time": "2022-01-10T15:51:32.784Z"
   },
   {
    "duration": 7018,
    "start_time": "2022-01-10T15:52:07.495Z"
   },
   {
    "duration": 320,
    "start_time": "2022-01-10T15:52:22.212Z"
   },
   {
    "duration": 481,
    "start_time": "2022-01-10T15:52:35.233Z"
   },
   {
    "duration": 329,
    "start_time": "2022-01-10T15:52:55.381Z"
   },
   {
    "duration": 461,
    "start_time": "2022-01-10T15:53:21.993Z"
   },
   {
    "duration": 438,
    "start_time": "2022-01-10T15:54:01.714Z"
   },
   {
    "duration": 426,
    "start_time": "2022-01-10T15:54:56.448Z"
   },
   {
    "duration": 581,
    "start_time": "2022-01-10T15:55:07.618Z"
   },
   {
    "duration": 485,
    "start_time": "2022-01-10T15:55:49.822Z"
   },
   {
    "duration": 169,
    "start_time": "2022-01-10T15:59:11.867Z"
   },
   {
    "duration": 409,
    "start_time": "2022-01-10T15:59:23.241Z"
   },
   {
    "duration": 179,
    "start_time": "2022-01-10T15:59:24.296Z"
   },
   {
    "duration": 580,
    "start_time": "2022-01-10T15:59:48.499Z"
   },
   {
    "duration": 422,
    "start_time": "2022-01-10T16:00:09.848Z"
   },
   {
    "duration": 135,
    "start_time": "2022-01-10T16:00:43.886Z"
   },
   {
    "duration": 371,
    "start_time": "2022-01-10T16:01:04.237Z"
   },
   {
    "duration": 181,
    "start_time": "2022-01-10T16:02:13.000Z"
   },
   {
    "duration": 539,
    "start_time": "2022-01-10T16:02:24.303Z"
   },
   {
    "duration": 252,
    "start_time": "2022-01-10T16:04:40.860Z"
   },
   {
    "duration": 207,
    "start_time": "2022-01-10T16:04:49.959Z"
   },
   {
    "duration": 145,
    "start_time": "2022-01-10T16:05:52.444Z"
   },
   {
    "duration": 221,
    "start_time": "2022-01-10T16:06:24.028Z"
   },
   {
    "duration": 208,
    "start_time": "2022-01-10T16:07:40.539Z"
   },
   {
    "duration": 316,
    "start_time": "2022-01-10T16:08:36.615Z"
   },
   {
    "duration": 142,
    "start_time": "2022-01-10T16:09:38.325Z"
   },
   {
    "duration": 242,
    "start_time": "2022-01-10T16:10:11.628Z"
   },
   {
    "duration": 235,
    "start_time": "2022-01-10T16:10:22.574Z"
   },
   {
    "duration": 134,
    "start_time": "2022-01-10T16:10:49.735Z"
   },
   {
    "duration": 159,
    "start_time": "2022-01-10T16:10:56.176Z"
   },
   {
    "duration": 184,
    "start_time": "2022-01-10T16:11:02.322Z"
   },
   {
    "duration": 341,
    "start_time": "2022-01-10T16:12:47.557Z"
   },
   {
    "duration": 178,
    "start_time": "2022-01-10T16:12:57.357Z"
   },
   {
    "duration": 173,
    "start_time": "2022-01-10T16:13:19.833Z"
   },
   {
    "duration": 162,
    "start_time": "2022-01-10T16:13:30.672Z"
   },
   {
    "duration": 169,
    "start_time": "2022-01-10T16:14:22.170Z"
   },
   {
    "duration": 217,
    "start_time": "2022-01-10T16:14:29.743Z"
   },
   {
    "duration": 364,
    "start_time": "2022-01-10T16:14:34.700Z"
   },
   {
    "duration": 162,
    "start_time": "2022-01-10T16:14:35.511Z"
   },
   {
    "duration": 161,
    "start_time": "2022-01-10T16:14:52.472Z"
   },
   {
    "duration": 320,
    "start_time": "2022-01-10T16:14:55.915Z"
   },
   {
    "duration": 266,
    "start_time": "2022-01-10T16:14:56.528Z"
   },
   {
    "duration": 394,
    "start_time": "2022-01-10T16:15:08.789Z"
   },
   {
    "duration": 653,
    "start_time": "2022-01-10T16:15:10.962Z"
   },
   {
    "duration": 243,
    "start_time": "2022-01-10T16:15:21.614Z"
   },
   {
    "duration": 329,
    "start_time": "2022-01-10T16:15:26.760Z"
   },
   {
    "duration": 163,
    "start_time": "2022-01-10T16:15:27.201Z"
   },
   {
    "duration": 221,
    "start_time": "2022-01-10T16:15:32.456Z"
   },
   {
    "duration": 162,
    "start_time": "2022-01-10T16:15:40.131Z"
   },
   {
    "duration": 174,
    "start_time": "2022-01-10T16:15:44.839Z"
   },
   {
    "duration": 346,
    "start_time": "2022-01-10T16:15:49.821Z"
   },
   {
    "duration": 180,
    "start_time": "2022-01-10T16:16:07.304Z"
   },
   {
    "duration": 176,
    "start_time": "2022-01-10T16:16:14.705Z"
   },
   {
    "duration": 180,
    "start_time": "2022-01-10T16:16:21.056Z"
   },
   {
    "duration": 125,
    "start_time": "2022-01-10T16:20:10.383Z"
   },
   {
    "duration": 140,
    "start_time": "2022-01-10T16:20:36.987Z"
   },
   {
    "duration": 29,
    "start_time": "2022-01-10T16:21:15.586Z"
   },
   {
    "duration": 28,
    "start_time": "2022-01-10T16:21:22.868Z"
   },
   {
    "duration": 150,
    "start_time": "2022-01-10T16:22:37.441Z"
   },
   {
    "duration": 151,
    "start_time": "2022-01-10T16:22:45.616Z"
   },
   {
    "duration": 410,
    "start_time": "2022-01-10T16:23:06.212Z"
   },
   {
    "duration": 429,
    "start_time": "2022-01-10T16:23:26.059Z"
   },
   {
    "duration": 335,
    "start_time": "2022-01-10T16:25:02.175Z"
   },
   {
    "duration": 174,
    "start_time": "2022-01-10T16:25:16.031Z"
   },
   {
    "duration": 61,
    "start_time": "2022-01-10T16:25:54.697Z"
   },
   {
    "duration": 93,
    "start_time": "2022-01-10T16:26:06.793Z"
   },
   {
    "duration": 53,
    "start_time": "2022-01-10T16:26:12.603Z"
   },
   {
    "duration": 46,
    "start_time": "2022-01-10T16:26:23.234Z"
   },
   {
    "duration": 85,
    "start_time": "2022-01-10T16:26:39.736Z"
   },
   {
    "duration": 42,
    "start_time": "2022-01-10T16:26:43.293Z"
   },
   {
    "duration": 335,
    "start_time": "2022-01-10T16:26:47.365Z"
   },
   {
    "duration": 47,
    "start_time": "2022-01-10T16:27:03.266Z"
   },
   {
    "duration": 50,
    "start_time": "2022-01-10T16:28:06.271Z"
   },
   {
    "duration": 52,
    "start_time": "2022-01-10T16:28:25.942Z"
   },
   {
    "duration": 341,
    "start_time": "2022-01-10T16:28:34.329Z"
   },
   {
    "duration": 56,
    "start_time": "2022-01-10T16:28:34.835Z"
   },
   {
    "duration": 66,
    "start_time": "2022-01-10T16:28:39.129Z"
   },
   {
    "duration": 361,
    "start_time": "2022-01-10T16:28:42.645Z"
   },
   {
    "duration": 54,
    "start_time": "2022-01-10T16:28:43.456Z"
   },
   {
    "duration": 48,
    "start_time": "2022-01-10T16:28:51.734Z"
   },
   {
    "duration": 44,
    "start_time": "2022-01-10T16:29:00.804Z"
   },
   {
    "duration": 45,
    "start_time": "2022-01-10T16:29:04.654Z"
   },
   {
    "duration": 345,
    "start_time": "2022-01-10T16:29:09.104Z"
   },
   {
    "duration": 47,
    "start_time": "2022-01-10T16:29:12.092Z"
   },
   {
    "duration": 49,
    "start_time": "2022-01-10T16:29:42.368Z"
   },
   {
    "duration": 44,
    "start_time": "2022-01-10T16:34:11.031Z"
   },
   {
    "duration": 334,
    "start_time": "2022-01-10T16:34:14.212Z"
   },
   {
    "duration": 49,
    "start_time": "2022-01-10T16:34:14.789Z"
   },
   {
    "duration": 42,
    "start_time": "2022-01-10T16:34:22.877Z"
   },
   {
    "duration": 51,
    "start_time": "2022-01-10T16:34:48.733Z"
   },
   {
    "duration": 325,
    "start_time": "2022-01-10T16:34:56.987Z"
   },
   {
    "duration": 61,
    "start_time": "2022-01-10T16:34:57.508Z"
   },
   {
    "duration": 322,
    "start_time": "2022-01-10T16:35:07.926Z"
   },
   {
    "duration": 58,
    "start_time": "2022-01-10T16:35:08.355Z"
   },
   {
    "duration": 65,
    "start_time": "2022-01-10T16:35:13.770Z"
   },
   {
    "duration": 333,
    "start_time": "2022-01-10T16:35:23.013Z"
   },
   {
    "duration": 62,
    "start_time": "2022-01-10T16:35:23.414Z"
   },
   {
    "duration": 47,
    "start_time": "2022-01-10T16:35:33.951Z"
   },
   {
    "duration": 325,
    "start_time": "2022-01-10T16:35:37.185Z"
   },
   {
    "duration": 47,
    "start_time": "2022-01-10T16:35:39.009Z"
   },
   {
    "duration": 333,
    "start_time": "2022-01-10T16:36:28.904Z"
   },
   {
    "duration": 63,
    "start_time": "2022-01-10T16:36:30.490Z"
   },
   {
    "duration": 339,
    "start_time": "2022-01-10T16:36:38.865Z"
   },
   {
    "duration": 61,
    "start_time": "2022-01-10T16:36:41.688Z"
   },
   {
    "duration": 44,
    "start_time": "2022-01-10T16:37:01.709Z"
   },
   {
    "duration": 547,
    "start_time": "2022-01-10T16:40:32.524Z"
   },
   {
    "duration": 1968,
    "start_time": "2022-01-10T16:46:32.870Z"
   },
   {
    "duration": 128,
    "start_time": "2022-01-10T16:47:48.729Z"
   },
   {
    "duration": 1176,
    "start_time": "2022-01-10T16:48:14.178Z"
   },
   {
    "duration": 1966,
    "start_time": "2022-01-10T16:48:49.514Z"
   },
   {
    "duration": 2055,
    "start_time": "2022-01-10T16:48:55.855Z"
   },
   {
    "duration": 76,
    "start_time": "2022-01-10T16:48:57.914Z"
   },
   {
    "duration": 345,
    "start_time": "2022-01-10T16:49:26.995Z"
   },
   {
    "duration": 142,
    "start_time": "2022-01-10T16:52:33.571Z"
   },
   {
    "duration": 340,
    "start_time": "2022-01-10T16:54:59.738Z"
   },
   {
    "duration": 133,
    "start_time": "2022-01-10T16:55:00.298Z"
   },
   {
    "duration": 89,
    "start_time": "2022-01-10T16:55:07.534Z"
   },
   {
    "duration": 391,
    "start_time": "2022-01-10T16:55:11.028Z"
   },
   {
    "duration": 96,
    "start_time": "2022-01-10T16:55:11.452Z"
   },
   {
    "duration": 80,
    "start_time": "2022-01-10T16:55:21.810Z"
   },
   {
    "duration": 334,
    "start_time": "2022-01-10T16:55:25.328Z"
   },
   {
    "duration": 84,
    "start_time": "2022-01-10T16:55:26.208Z"
   },
   {
    "duration": 201,
    "start_time": "2022-01-10T16:55:33.934Z"
   },
   {
    "duration": 168,
    "start_time": "2022-01-10T16:55:57.529Z"
   },
   {
    "duration": 329,
    "start_time": "2022-01-10T16:56:02.638Z"
   },
   {
    "duration": 186,
    "start_time": "2022-01-10T16:56:03.431Z"
   },
   {
    "duration": 334,
    "start_time": "2022-01-10T16:56:38.834Z"
   },
   {
    "duration": 172,
    "start_time": "2022-01-10T16:56:39.862Z"
   },
   {
    "duration": 335,
    "start_time": "2022-01-10T16:57:02.005Z"
   },
   {
    "duration": 306,
    "start_time": "2022-01-10T16:57:02.633Z"
   },
   {
    "duration": 189,
    "start_time": "2022-01-10T16:57:03.223Z"
   },
   {
    "duration": 177,
    "start_time": "2022-01-10T16:57:20.024Z"
   },
   {
    "duration": 342,
    "start_time": "2022-01-10T16:57:32.366Z"
   },
   {
    "duration": 200,
    "start_time": "2022-01-10T16:57:33.182Z"
   },
   {
    "duration": 424,
    "start_time": "2022-01-10T16:57:48.385Z"
   },
   {
    "duration": 192,
    "start_time": "2022-01-10T16:57:49.044Z"
   },
   {
    "duration": 339,
    "start_time": "2022-01-10T16:58:32.373Z"
   },
   {
    "duration": 328,
    "start_time": "2022-01-10T16:58:33.021Z"
   },
   {
    "duration": 329,
    "start_time": "2022-01-10T16:58:54.928Z"
   },
   {
    "duration": 388,
    "start_time": "2022-01-10T16:58:55.666Z"
   },
   {
    "duration": 187,
    "start_time": "2022-01-10T16:59:03.555Z"
   },
   {
    "duration": 324,
    "start_time": "2022-01-10T16:59:08.234Z"
   },
   {
    "duration": 156,
    "start_time": "2022-01-10T16:59:08.849Z"
   },
   {
    "duration": 323,
    "start_time": "2022-01-10T17:00:47.513Z"
   },
   {
    "duration": 158,
    "start_time": "2022-01-10T17:00:48.116Z"
   },
   {
    "duration": 158,
    "start_time": "2022-01-10T17:01:05.106Z"
   },
   {
    "duration": 354,
    "start_time": "2022-01-10T17:01:08.832Z"
   },
   {
    "duration": 212,
    "start_time": "2022-01-10T17:01:09.314Z"
   },
   {
    "duration": 167,
    "start_time": "2022-01-10T17:01:31.584Z"
   },
   {
    "duration": 325,
    "start_time": "2022-01-10T17:01:35.873Z"
   },
   {
    "duration": 167,
    "start_time": "2022-01-10T17:01:36.684Z"
   },
   {
    "duration": 345,
    "start_time": "2022-01-10T17:01:56.919Z"
   },
   {
    "duration": 165,
    "start_time": "2022-01-10T17:01:57.785Z"
   },
   {
    "duration": 159,
    "start_time": "2022-01-10T17:02:15.041Z"
   },
   {
    "duration": 330,
    "start_time": "2022-01-10T17:02:20.062Z"
   },
   {
    "duration": 208,
    "start_time": "2022-01-10T17:02:20.701Z"
   },
   {
    "duration": 344,
    "start_time": "2022-01-10T17:02:51.656Z"
   },
   {
    "duration": 159,
    "start_time": "2022-01-10T17:02:52.127Z"
   },
   {
    "duration": 198,
    "start_time": "2022-01-10T17:02:52.537Z"
   },
   {
    "duration": 207,
    "start_time": "2022-01-10T17:03:24.340Z"
   },
   {
    "duration": 349,
    "start_time": "2022-01-10T17:03:30.473Z"
   },
   {
    "duration": 183,
    "start_time": "2022-01-10T17:03:31.208Z"
   },
   {
    "duration": 220,
    "start_time": "2022-01-10T17:04:28.235Z"
   },
   {
    "duration": 196,
    "start_time": "2022-01-10T17:04:56.288Z"
   },
   {
    "duration": 147,
    "start_time": "2022-01-10T17:04:57.043Z"
   },
   {
    "duration": 177,
    "start_time": "2022-01-10T17:05:09.225Z"
   },
   {
    "duration": 181,
    "start_time": "2022-01-10T17:06:37.273Z"
   },
   {
    "duration": 191,
    "start_time": "2022-01-10T17:06:38.726Z"
   },
   {
    "duration": 153,
    "start_time": "2022-01-10T17:06:39.559Z"
   },
   {
    "duration": 243,
    "start_time": "2022-01-10T17:06:50.066Z"
   },
   {
    "duration": 175,
    "start_time": "2022-01-10T17:06:50.900Z"
   },
   {
    "duration": 1010,
    "start_time": "2022-01-10T18:52:57.084Z"
   },
   {
    "duration": 78,
    "start_time": "2022-01-10T18:52:59.455Z"
   },
   {
    "duration": 340,
    "start_time": "2022-01-10T18:53:03.383Z"
   },
   {
    "duration": 473,
    "start_time": "2022-01-10T18:53:18.297Z"
   },
   {
    "duration": 68,
    "start_time": "2022-01-10T18:53:18.797Z"
   },
   {
    "duration": 948,
    "start_time": "2022-01-10T18:53:19.540Z"
   },
   {
    "duration": -186586,
    "start_time": "2022-01-10T18:56:27.076Z"
   },
   {
    "duration": 316,
    "start_time": "2022-01-10T18:53:48.440Z"
   },
   {
    "duration": 74,
    "start_time": "2022-01-10T18:53:52.433Z"
   },
   {
    "duration": 311,
    "start_time": "2022-01-10T18:53:54.604Z"
   },
   {
    "duration": 239,
    "start_time": "2022-01-10T18:54:09.588Z"
   },
   {
    "duration": 103,
    "start_time": "2022-01-10T18:54:13.177Z"
   },
   {
    "duration": 125,
    "start_time": "2022-01-10T18:54:46.295Z"
   },
   {
    "duration": 473,
    "start_time": "2022-01-10T18:55:04.520Z"
   },
   {
    "duration": 70,
    "start_time": "2022-01-10T18:55:05.435Z"
   },
   {
    "duration": 412,
    "start_time": "2022-01-10T18:55:06.617Z"
   },
   {
    "duration": 108,
    "start_time": "2022-01-10T18:55:07.956Z"
   },
   {
    "duration": 249,
    "start_time": "2022-01-10T18:55:14.246Z"
   },
   {
    "duration": 97,
    "start_time": "2022-01-10T18:55:17.610Z"
   },
   {
    "duration": 162,
    "start_time": "2022-01-10T18:55:20.449Z"
   },
   {
    "duration": 183,
    "start_time": "2022-01-10T18:55:26.962Z"
   },
   {
    "duration": 103,
    "start_time": "2022-01-10T18:56:07.235Z"
   },
   {
    "duration": 128,
    "start_time": "2022-01-10T18:56:12.786Z"
   },
   {
    "duration": 114,
    "start_time": "2022-01-10T18:56:13.862Z"
   },
   {
    "duration": 95,
    "start_time": "2022-01-10T18:56:26.792Z"
   },
   {
    "duration": 220,
    "start_time": "2022-01-10T18:56:29.196Z"
   },
   {
    "duration": 103,
    "start_time": "2022-01-10T18:56:31.834Z"
   },
   {
    "duration": 158,
    "start_time": "2022-01-10T18:56:39.976Z"
   },
   {
    "duration": 108,
    "start_time": "2022-01-10T18:56:46.701Z"
   },
   {
    "duration": 210,
    "start_time": "2022-01-10T18:57:48.534Z"
   },
   {
    "duration": 208,
    "start_time": "2022-01-10T18:57:58.417Z"
   },
   {
    "duration": 176,
    "start_time": "2022-01-10T18:58:07.012Z"
   },
   {
    "duration": 206,
    "start_time": "2022-01-10T18:58:21.514Z"
   },
   {
    "duration": 467,
    "start_time": "2022-01-10T18:58:29.244Z"
   },
   {
    "duration": 76,
    "start_time": "2022-01-10T18:58:29.712Z"
   },
   {
    "duration": 333,
    "start_time": "2022-01-10T18:58:30.113Z"
   },
   {
    "duration": 105,
    "start_time": "2022-01-10T18:58:30.448Z"
   },
   {
    "duration": 259,
    "start_time": "2022-01-10T18:58:30.555Z"
   },
   {
    "duration": 101,
    "start_time": "2022-01-10T18:58:30.829Z"
   },
   {
    "duration": 169,
    "start_time": "2022-01-10T18:58:31.029Z"
   },
   {
    "duration": 103,
    "start_time": "2022-01-10T18:58:31.296Z"
   },
   {
    "duration": 154,
    "start_time": "2022-01-10T18:58:31.508Z"
   },
   {
    "duration": 115,
    "start_time": "2022-01-10T18:58:31.734Z"
   },
   {
    "duration": 224,
    "start_time": "2022-01-10T18:58:32.104Z"
   },
   {
    "duration": 106,
    "start_time": "2022-01-10T18:58:32.330Z"
   },
   {
    "duration": 199,
    "start_time": "2022-01-10T18:58:32.619Z"
   },
   {
    "duration": 198,
    "start_time": "2022-01-10T18:58:32.821Z"
   },
   {
    "duration": 366,
    "start_time": "2022-01-10T18:58:53.033Z"
   },
   {
    "duration": 141,
    "start_time": "2022-01-10T18:59:14.664Z"
   },
   {
    "duration": 56,
    "start_time": "2022-01-10T19:00:30.402Z"
   },
   {
    "duration": 309,
    "start_time": "2022-01-10T19:01:20.608Z"
   },
   {
    "duration": 209,
    "start_time": "2022-01-10T19:01:34.714Z"
   },
   {
    "duration": 1107,
    "start_time": "2022-01-10T19:01:42.900Z"
   },
   {
    "duration": 78,
    "start_time": "2022-01-10T19:01:44.684Z"
   },
   {
    "duration": 430,
    "start_time": "2022-01-10T19:01:46.712Z"
   },
   {
    "duration": 120,
    "start_time": "2022-01-10T19:01:48.731Z"
   },
   {
    "duration": 266,
    "start_time": "2022-01-10T19:01:50.242Z"
   },
   {
    "duration": 95,
    "start_time": "2022-01-10T19:01:52.398Z"
   },
   {
    "duration": 183,
    "start_time": "2022-01-10T19:01:53.632Z"
   },
   {
    "duration": 100,
    "start_time": "2022-01-10T19:01:54.149Z"
   },
   {
    "duration": 156,
    "start_time": "2022-01-10T19:01:54.586Z"
   },
   {
    "duration": 100,
    "start_time": "2022-01-10T19:01:54.986Z"
   },
   {
    "duration": 247,
    "start_time": "2022-01-10T19:01:55.609Z"
   },
   {
    "duration": 96,
    "start_time": "2022-01-10T19:01:56.064Z"
   },
   {
    "duration": 166,
    "start_time": "2022-01-10T19:01:56.494Z"
   },
   {
    "duration": 95,
    "start_time": "2022-01-10T19:01:56.947Z"
   },
   {
    "duration": 234,
    "start_time": "2022-01-10T19:02:12.466Z"
   },
   {
    "duration": 236,
    "start_time": "2022-01-10T19:02:19.136Z"
   },
   {
    "duration": 1151,
    "start_time": "2022-01-10T19:02:30.337Z"
   },
   {
    "duration": 86,
    "start_time": "2022-01-10T19:02:31.490Z"
   },
   {
    "duration": 392,
    "start_time": "2022-01-10T19:02:31.578Z"
   },
   {
    "duration": 120,
    "start_time": "2022-01-10T19:02:31.972Z"
   },
   {
    "duration": 311,
    "start_time": "2022-01-10T19:02:32.094Z"
   },
   {
    "duration": 108,
    "start_time": "2022-01-10T19:02:32.482Z"
   },
   {
    "duration": 282,
    "start_time": "2022-01-10T19:02:32.860Z"
   },
   {
    "duration": 169,
    "start_time": "2022-01-10T19:02:33.215Z"
   },
   {
    "duration": 238,
    "start_time": "2022-01-10T19:02:33.593Z"
   },
   {
    "duration": 96,
    "start_time": "2022-01-10T19:02:33.951Z"
   },
   {
    "duration": 248,
    "start_time": "2022-01-10T19:02:34.496Z"
   },
   {
    "duration": 104,
    "start_time": "2022-01-10T19:02:34.843Z"
   },
   {
    "duration": 179,
    "start_time": "2022-01-10T19:02:35.188Z"
   },
   {
    "duration": 99,
    "start_time": "2022-01-10T19:02:35.535Z"
   },
   {
    "duration": 243,
    "start_time": "2022-01-10T19:02:53.173Z"
   },
   {
    "duration": 189,
    "start_time": "2022-01-10T19:03:10.430Z"
   },
   {
    "duration": 208,
    "start_time": "2022-01-10T19:03:37.844Z"
   },
   {
    "duration": 259,
    "start_time": "2022-01-10T19:04:18.980Z"
   },
   {
    "duration": 502,
    "start_time": "2022-01-10T19:04:29.997Z"
   },
   {
    "duration": 1061,
    "start_time": "2022-01-10T19:05:02.194Z"
   },
   {
    "duration": 79,
    "start_time": "2022-01-10T19:05:03.426Z"
   },
   {
    "duration": 24,
    "start_time": "2022-01-10T19:05:12.345Z"
   },
   {
    "duration": 375,
    "start_time": "2022-01-10T19:12:10.437Z"
   },
   {
    "duration": 460,
    "start_time": "2022-01-10T19:12:31.378Z"
   },
   {
    "duration": 66,
    "start_time": "2022-01-10T19:12:33.115Z"
   },
   {
    "duration": 338,
    "start_time": "2022-01-10T19:12:35.285Z"
   },
   {
    "duration": 103,
    "start_time": "2022-01-10T19:12:36.428Z"
   },
   {
    "duration": 229,
    "start_time": "2022-01-10T19:12:37.776Z"
   },
   {
    "duration": 95,
    "start_time": "2022-01-10T19:12:39.050Z"
   },
   {
    "duration": 350,
    "start_time": "2022-01-10T19:13:00.240Z"
   },
   {
    "duration": 519,
    "start_time": "2022-01-10T19:13:41.241Z"
   },
   {
    "duration": 392,
    "start_time": "2022-01-10T19:13:59.534Z"
   },
   {
    "duration": 224,
    "start_time": "2022-01-10T19:19:42.859Z"
   },
   {
    "duration": 570,
    "start_time": "2022-01-10T19:22:07.189Z"
   },
   {
    "duration": 355,
    "start_time": "2022-01-10T19:22:55.495Z"
   },
   {
    "duration": 281,
    "start_time": "2022-01-10T19:41:23.613Z"
   },
   {
    "duration": 29,
    "start_time": "2022-01-10T19:41:42.587Z"
   },
   {
    "duration": 32,
    "start_time": "2022-01-10T19:42:06.378Z"
   },
   {
    "duration": 31,
    "start_time": "2022-01-10T19:42:54.843Z"
   },
   {
    "duration": 35,
    "start_time": "2022-01-10T19:43:03.857Z"
   },
   {
    "duration": 299,
    "start_time": "2022-01-10T19:43:40.756Z"
   },
   {
    "duration": 39,
    "start_time": "2022-01-10T19:43:51.664Z"
   },
   {
    "duration": 29,
    "start_time": "2022-01-10T19:44:00.980Z"
   },
   {
    "duration": 314,
    "start_time": "2022-01-10T19:44:12.569Z"
   },
   {
    "duration": 46,
    "start_time": "2022-01-10T19:45:01.791Z"
   },
   {
    "duration": 625,
    "start_time": "2022-01-10T19:51:29.115Z"
   },
   {
    "duration": 611,
    "start_time": "2022-01-10T19:51:59.186Z"
   },
   {
    "duration": 387,
    "start_time": "2022-01-10T19:52:13.252Z"
   },
   {
    "duration": 601,
    "start_time": "2022-01-10T19:56:07.008Z"
   },
   {
    "duration": 35,
    "start_time": "2022-01-10T19:57:05.134Z"
   },
   {
    "duration": 41,
    "start_time": "2022-01-10T20:04:19.290Z"
   },
   {
    "duration": 2320,
    "start_time": "2022-01-10T20:06:09.148Z"
   },
   {
    "duration": 2356,
    "start_time": "2022-01-10T20:06:18.616Z"
   },
   {
    "duration": 20,
    "start_time": "2022-01-10T20:06:23.273Z"
   },
   {
    "duration": 2527,
    "start_time": "2022-01-10T20:06:24.892Z"
   },
   {
    "duration": 106,
    "start_time": "2022-01-10T20:06:27.420Z"
   },
   {
    "duration": 229,
    "start_time": "2022-01-10T20:06:27.767Z"
   },
   {
    "duration": 113,
    "start_time": "2022-01-10T20:06:33.788Z"
   },
   {
    "duration": 2298,
    "start_time": "2022-01-10T20:06:57.495Z"
   },
   {
    "duration": 2650,
    "start_time": "2022-01-10T20:07:27.758Z"
   },
   {
    "duration": 2294,
    "start_time": "2022-01-10T20:07:40.855Z"
   },
   {
    "duration": 560,
    "start_time": "2022-01-10T20:08:20.708Z"
   },
   {
    "duration": 774,
    "start_time": "2022-01-10T20:08:54.293Z"
   },
   {
    "duration": 767,
    "start_time": "2022-01-10T20:09:27.933Z"
   },
   {
    "duration": 767,
    "start_time": "2022-01-10T20:09:46.523Z"
   },
   {
    "duration": 205,
    "start_time": "2022-01-10T20:11:03.275Z"
   },
   {
    "duration": 263,
    "start_time": "2022-01-10T20:11:19.256Z"
   },
   {
    "duration": 779,
    "start_time": "2022-01-10T20:12:10.124Z"
   },
   {
    "duration": 743,
    "start_time": "2022-01-10T20:12:44.668Z"
   },
   {
    "duration": 922,
    "start_time": "2022-01-10T20:13:38.897Z"
   },
   {
    "duration": 764,
    "start_time": "2022-01-10T20:13:54.593Z"
   },
   {
    "duration": 732,
    "start_time": "2022-01-10T20:14:07.353Z"
   },
   {
    "duration": 1053,
    "start_time": "2022-01-10T20:14:46.763Z"
   },
   {
    "duration": 931,
    "start_time": "2022-01-10T20:14:52.743Z"
   },
   {
    "duration": 747,
    "start_time": "2022-01-10T20:14:58.584Z"
   },
   {
    "duration": 977,
    "start_time": "2022-01-10T20:15:45.152Z"
   },
   {
    "duration": 616,
    "start_time": "2022-01-10T20:16:15.956Z"
   },
   {
    "duration": 898,
    "start_time": "2022-01-10T20:17:33.970Z"
   },
   {
    "duration": 930,
    "start_time": "2022-01-10T20:19:05.300Z"
   },
   {
    "duration": 845,
    "start_time": "2022-01-10T20:19:28.114Z"
   },
   {
    "duration": 970,
    "start_time": "2022-01-10T20:19:48.009Z"
   },
   {
    "duration": 477,
    "start_time": "2022-01-10T20:20:11.904Z"
   },
   {
    "duration": 428,
    "start_time": "2022-01-10T20:20:37.041Z"
   },
   {
    "duration": 113,
    "start_time": "2022-01-10T20:21:07.445Z"
   },
   {
    "duration": 486,
    "start_time": "2022-01-10T20:21:15.350Z"
   },
   {
    "duration": 453,
    "start_time": "2022-01-10T20:21:57.896Z"
   },
   {
    "duration": 450,
    "start_time": "2022-01-10T20:22:21.588Z"
   },
   {
    "duration": 484,
    "start_time": "2022-01-10T20:22:38.848Z"
   },
   {
    "duration": 465,
    "start_time": "2022-01-10T20:23:15.871Z"
   },
   {
    "duration": 1335,
    "start_time": "2022-01-10T20:23:42.701Z"
   },
   {
    "duration": 375,
    "start_time": "2022-01-10T20:24:53.179Z"
   },
   {
    "duration": 1507,
    "start_time": "2022-01-11T08:19:41.455Z"
   },
   {
    "duration": 119,
    "start_time": "2022-01-11T08:19:42.966Z"
   },
   {
    "duration": 537,
    "start_time": "2022-01-11T08:19:43.088Z"
   },
   {
    "duration": 191,
    "start_time": "2022-01-11T08:19:43.628Z"
   },
   {
    "duration": 387,
    "start_time": "2022-01-11T08:19:43.821Z"
   },
   {
    "duration": 192,
    "start_time": "2022-01-11T08:19:44.211Z"
   },
   {
    "duration": 295,
    "start_time": "2022-01-11T08:19:44.406Z"
   },
   {
    "duration": 186,
    "start_time": "2022-01-11T08:19:44.705Z"
   },
   {
    "duration": 234,
    "start_time": "2022-01-11T08:19:45.133Z"
   },
   {
    "duration": 182,
    "start_time": "2022-01-11T08:19:45.647Z"
   },
   {
    "duration": 513,
    "start_time": "2022-01-11T08:19:46.265Z"
   },
   {
    "duration": 203,
    "start_time": "2022-01-11T08:19:46.781Z"
   },
   {
    "duration": 247,
    "start_time": "2022-01-11T08:19:47.195Z"
   },
   {
    "duration": 212,
    "start_time": "2022-01-11T08:19:47.622Z"
   },
   {
    "duration": 196,
    "start_time": "2022-01-11T08:23:33.689Z"
   },
   {
    "duration": 410,
    "start_time": "2022-01-11T08:23:45.009Z"
   },
   {
    "duration": 11580,
    "start_time": "2022-01-11T08:26:38.207Z"
   },
   {
    "duration": -187033,
    "start_time": "2022-01-11T08:29:56.823Z"
   },
   {
    "duration": 162,
    "start_time": "2022-01-11T08:26:50.007Z"
   },
   {
    "duration": 8864,
    "start_time": "2022-01-11T08:33:03.897Z"
   },
   {
    "duration": 10313,
    "start_time": "2022-01-11T08:33:25.576Z"
   },
   {
    "duration": -187009,
    "start_time": "2022-01-11T08:36:42.901Z"
   },
   {
    "duration": -187031,
    "start_time": "2022-01-11T08:36:42.925Z"
   },
   {
    "duration": -187052,
    "start_time": "2022-01-11T08:36:42.947Z"
   },
   {
    "duration": 8065,
    "start_time": "2022-01-11T08:34:07.835Z"
   },
   {
    "duration": 184,
    "start_time": "2022-01-11T08:34:59.836Z"
   },
   {
    "duration": 1314,
    "start_time": "2022-01-11T14:06:05.395Z"
   },
   {
    "duration": 515,
    "start_time": "2022-01-11T14:06:23.249Z"
   },
   {
    "duration": 106,
    "start_time": "2022-01-11T14:06:28.159Z"
   },
   {
    "duration": 522,
    "start_time": "2022-01-11T14:07:26.981Z"
   },
   {
    "duration": 485,
    "start_time": "2022-01-11T14:08:39.043Z"
   },
   {
    "duration": 167,
    "start_time": "2022-01-11T14:08:49.139Z"
   },
   {
    "duration": 527,
    "start_time": "2022-01-11T14:09:01.521Z"
   },
   {
    "duration": 199,
    "start_time": "2022-01-11T14:10:36.712Z"
   },
   {
    "duration": 193,
    "start_time": "2022-01-11T14:10:46.179Z"
   },
   {
    "duration": 297,
    "start_time": "2022-01-11T14:12:44.735Z"
   },
   {
    "duration": 253,
    "start_time": "2022-01-11T14:12:54.973Z"
   },
   {
    "duration": 1026,
    "start_time": "2022-01-11T14:13:00.093Z"
   },
   {
    "duration": -187298,
    "start_time": "2022-01-11T14:16:08.420Z"
   },
   {
    "duration": 1386,
    "start_time": "2022-01-11T14:13:09.452Z"
   },
   {
    "duration": 105,
    "start_time": "2022-01-11T14:13:10.840Z"
   },
   {
    "duration": 122,
    "start_time": "2022-01-11T14:13:15.225Z"
   },
   {
    "duration": 361,
    "start_time": "2022-01-11T14:13:42.593Z"
   },
   {
    "duration": 241,
    "start_time": "2022-01-11T14:14:04.451Z"
   },
   {
    "duration": 1269,
    "start_time": "2022-01-11T14:14:07.619Z"
   },
   {
    "duration": 103,
    "start_time": "2022-01-11T14:14:08.891Z"
   },
   {
    "duration": 121,
    "start_time": "2022-01-11T14:14:10.474Z"
   },
   {
    "duration": 114,
    "start_time": "2022-01-11T14:14:19.296Z"
   },
   {
    "duration": 484,
    "start_time": "2022-01-11T14:16:27.086Z"
   },
   {
    "duration": 187,
    "start_time": "2022-01-11T14:16:53.844Z"
   },
   {
    "duration": 197,
    "start_time": "2022-01-11T14:17:14.311Z"
   },
   {
    "duration": 180,
    "start_time": "2022-01-11T14:17:44.310Z"
   },
   {
    "duration": 192,
    "start_time": "2022-01-11T14:18:01.750Z"
   },
   {
    "duration": 406,
    "start_time": "2022-01-11T14:18:43.726Z"
   },
   {
    "duration": 183,
    "start_time": "2022-01-11T14:18:52.409Z"
   },
   {
    "duration": 186,
    "start_time": "2022-01-11T14:19:02.953Z"
   },
   {
    "duration": 212,
    "start_time": "2022-01-11T14:19:20.779Z"
   },
   {
    "duration": 240,
    "start_time": "2022-01-11T14:19:31.289Z"
   },
   {
    "duration": 9074,
    "start_time": "2022-01-11T14:20:23.458Z"
   },
   {
    "duration": 572,
    "start_time": "2022-01-11T14:22:06.371Z"
   },
   {
    "duration": 531,
    "start_time": "2022-01-11T14:22:21.176Z"
   },
   {
    "duration": 499,
    "start_time": "2022-01-11T14:23:04.430Z"
   },
   {
    "duration": 31,
    "start_time": "2022-01-11T14:25:15.276Z"
   },
   {
    "duration": 27,
    "start_time": "2022-01-11T14:25:32.703Z"
   },
   {
    "duration": 538,
    "start_time": "2022-01-11T14:25:35.831Z"
   },
   {
    "duration": 100,
    "start_time": "2022-01-11T14:25:36.372Z"
   },
   {
    "duration": 565,
    "start_time": "2022-01-11T14:26:00.459Z"
   },
   {
    "duration": 326,
    "start_time": "2022-01-11T14:26:01.147Z"
   },
   {
    "duration": 143,
    "start_time": "2022-01-11T14:26:16.675Z"
   },
   {
    "duration": 50,
    "start_time": "2022-01-11T14:27:54.224Z"
   },
   {
    "duration": 510,
    "start_time": "2022-01-11T14:28:09.441Z"
   },
   {
    "duration": 98,
    "start_time": "2022-01-11T14:28:09.954Z"
   },
   {
    "duration": 504,
    "start_time": "2022-01-11T14:28:20.922Z"
   },
   {
    "duration": 111,
    "start_time": "2022-01-11T14:28:21.440Z"
   },
   {
    "duration": 28,
    "start_time": "2022-01-11T14:28:57.121Z"
   },
   {
    "duration": 531,
    "start_time": "2022-01-11T14:32:10.138Z"
   },
   {
    "duration": 691,
    "start_time": "2022-01-11T14:32:32.942Z"
   },
   {
    "duration": 504,
    "start_time": "2022-01-11T14:33:06.636Z"
   },
   {
    "duration": 494,
    "start_time": "2022-01-11T14:33:23.185Z"
   },
   {
    "duration": 511,
    "start_time": "2022-01-11T14:34:19.193Z"
   },
   {
    "duration": 482,
    "start_time": "2022-01-11T14:35:09.552Z"
   },
   {
    "duration": 30,
    "start_time": "2022-01-11T14:38:23.197Z"
   },
   {
    "duration": 38,
    "start_time": "2022-01-11T14:39:50.202Z"
   },
   {
    "duration": 32,
    "start_time": "2022-01-11T14:39:58.833Z"
   },
   {
    "duration": 32,
    "start_time": "2022-01-11T14:40:04.942Z"
   },
   {
    "duration": 516,
    "start_time": "2022-01-11T14:40:08.685Z"
   },
   {
    "duration": 162,
    "start_time": "2022-01-11T14:40:09.204Z"
   },
   {
    "duration": 32,
    "start_time": "2022-01-11T14:40:54.663Z"
   },
   {
    "duration": 508,
    "start_time": "2022-01-11T14:41:02.776Z"
   },
   {
    "duration": 102,
    "start_time": "2022-01-11T14:41:03.287Z"
   },
   {
    "duration": 32,
    "start_time": "2022-01-11T14:41:17.388Z"
   },
   {
    "duration": 32,
    "start_time": "2022-01-11T14:41:57.294Z"
   },
   {
    "duration": 517,
    "start_time": "2022-01-11T14:42:00.552Z"
   },
   {
    "duration": 114,
    "start_time": "2022-01-11T14:42:01.072Z"
   },
   {
    "duration": 558,
    "start_time": "2022-01-11T14:44:23.164Z"
   },
   {
    "duration": 441,
    "start_time": "2022-01-11T14:49:11.783Z"
   },
   {
    "duration": 475,
    "start_time": "2022-01-11T14:49:26.373Z"
   },
   {
    "duration": 552,
    "start_time": "2022-01-11T14:50:11.594Z"
   },
   {
    "duration": 491,
    "start_time": "2022-01-11T14:50:36.750Z"
   },
   {
    "duration": 7758,
    "start_time": "2022-01-11T14:51:12.411Z"
   },
   {
    "duration": 73555,
    "start_time": "2022-01-11T14:51:37.828Z"
   },
   {
    "duration": -187271,
    "start_time": "2022-01-11T14:56:16.886Z"
   },
   {
    "duration": 189,
    "start_time": "2022-01-11T14:53:12.234Z"
   },
   {
    "duration": 370,
    "start_time": "2022-01-11T14:53:13.248Z"
   },
   {
    "duration": 150,
    "start_time": "2022-01-11T14:53:21.895Z"
   },
   {
    "duration": 493,
    "start_time": "2022-01-11T14:53:29.517Z"
   },
   {
    "duration": 6795,
    "start_time": "2022-01-11T14:54:00.902Z"
   },
   {
    "duration": 473,
    "start_time": "2022-01-11T14:54:22.708Z"
   },
   {
    "duration": 94,
    "start_time": "2022-01-11T14:55:04.667Z"
   },
   {
    "duration": 715,
    "start_time": "2022-01-11T14:55:14.927Z"
   },
   {
    "duration": 528,
    "start_time": "2022-01-11T14:55:26.420Z"
   },
   {
    "duration": 113,
    "start_time": "2022-01-11T14:55:26.951Z"
   },
   {
    "duration": 117,
    "start_time": "2022-01-11T14:55:27.335Z"
   },
   {
    "duration": 145,
    "start_time": "2022-01-11T14:55:27.674Z"
   },
   {
    "duration": 360,
    "start_time": "2022-01-11T14:55:28.095Z"
   },
   {
    "duration": 96,
    "start_time": "2022-01-11T14:55:42.054Z"
   },
   {
    "duration": 87,
    "start_time": "2022-01-11T14:55:47.987Z"
   },
   {
    "duration": 197,
    "start_time": "2022-01-11T14:56:00.284Z"
   },
   {
    "duration": 95,
    "start_time": "2022-01-11T14:56:16.757Z"
   },
   {
    "duration": 96,
    "start_time": "2022-01-11T14:56:27.400Z"
   },
   {
    "duration": 1190,
    "start_time": "2022-01-11T14:57:29.441Z"
   },
   {
    "duration": 524,
    "start_time": "2022-01-11T14:58:20.595Z"
   },
   {
    "duration": 402,
    "start_time": "2022-01-11T14:58:47.112Z"
   },
   {
    "duration": 421,
    "start_time": "2022-01-11T14:59:01.128Z"
   },
   {
    "duration": 453,
    "start_time": "2022-01-11T14:59:46.565Z"
   },
   {
    "duration": 450,
    "start_time": "2022-01-11T15:00:38.401Z"
   },
   {
    "duration": 448,
    "start_time": "2022-01-11T15:01:29.430Z"
   },
   {
    "duration": 822,
    "start_time": "2022-01-11T15:02:06.853Z"
   },
   {
    "duration": 474,
    "start_time": "2022-01-11T15:02:24.760Z"
   },
   {
    "duration": 890,
    "start_time": "2022-01-11T15:02:33.927Z"
   },
   {
    "duration": 659,
    "start_time": "2022-01-11T15:02:47.091Z"
   },
   {
    "duration": 448,
    "start_time": "2022-01-11T15:03:13.129Z"
   },
   {
    "duration": 95,
    "start_time": "2022-01-11T15:04:08.719Z"
   },
   {
    "duration": 131,
    "start_time": "2022-01-11T15:04:36.983Z"
   },
   {
    "duration": 95,
    "start_time": "2022-01-11T15:04:40.858Z"
   },
   {
    "duration": 138,
    "start_time": "2022-01-11T15:04:50.685Z"
   },
   {
    "duration": 454,
    "start_time": "2022-01-11T15:05:13.560Z"
   },
   {
    "duration": 425,
    "start_time": "2022-01-11T15:06:04.174Z"
   },
   {
    "duration": 431,
    "start_time": "2022-01-11T15:06:42.498Z"
   },
   {
    "duration": 388,
    "start_time": "2022-01-11T15:06:59.933Z"
   },
   {
    "duration": 117,
    "start_time": "2022-01-11T15:07:06.533Z"
   },
   {
    "duration": 90,
    "start_time": "2022-01-11T15:07:33.256Z"
   },
   {
    "duration": 58,
    "start_time": "2022-01-11T15:07:40.662Z"
   },
   {
    "duration": 393,
    "start_time": "2022-01-11T15:07:42.246Z"
   },
   {
    "duration": 87,
    "start_time": "2022-01-11T15:12:42.617Z"
   },
   {
    "duration": 99,
    "start_time": "2022-01-11T15:14:53.578Z"
   },
   {
    "duration": 81,
    "start_time": "2022-01-11T15:14:59.783Z"
   },
   {
    "duration": 87,
    "start_time": "2022-01-11T15:15:09.829Z"
   },
   {
    "duration": 404,
    "start_time": "2022-01-11T15:16:03.512Z"
   },
   {
    "duration": 304,
    "start_time": "2022-01-11T15:17:09.952Z"
   },
   {
    "duration": 228,
    "start_time": "2022-01-11T15:17:27.028Z"
   },
   {
    "duration": 83,
    "start_time": "2022-01-11T15:20:01.730Z"
   },
   {
    "duration": 286,
    "start_time": "2022-01-11T15:20:05.951Z"
   },
   {
    "duration": 206,
    "start_time": "2022-01-11T15:22:23.922Z"
   },
   {
    "duration": 32,
    "start_time": "2022-01-11T15:23:57.266Z"
   },
   {
    "duration": 31,
    "start_time": "2022-01-11T15:24:09.294Z"
   },
   {
    "duration": 250,
    "start_time": "2022-01-11T15:24:42.360Z"
   },
   {
    "duration": 130,
    "start_time": "2022-01-11T15:30:03.526Z"
   },
   {
    "duration": 258,
    "start_time": "2022-01-11T15:30:09.413Z"
   },
   {
    "duration": 292,
    "start_time": "2022-01-11T15:32:15.907Z"
   },
   {
    "duration": 236,
    "start_time": "2022-01-11T15:34:39.747Z"
   },
   {
    "duration": 261,
    "start_time": "2022-01-11T15:34:52.571Z"
   },
   {
    "duration": 276,
    "start_time": "2022-01-11T15:35:10.341Z"
   },
   {
    "duration": 33,
    "start_time": "2022-01-11T15:37:41.686Z"
   },
   {
    "duration": 38,
    "start_time": "2022-01-11T15:37:50.210Z"
   },
   {
    "duration": 46,
    "start_time": "2022-01-11T15:40:07.958Z"
   },
   {
    "duration": 82,
    "start_time": "2022-01-11T15:42:53.731Z"
   },
   {
    "duration": 81,
    "start_time": "2022-01-11T15:43:26.546Z"
   },
   {
    "duration": 98,
    "start_time": "2022-01-11T15:43:30.234Z"
   },
   {
    "duration": 26,
    "start_time": "2022-01-11T15:43:56.330Z"
   },
   {
    "duration": 81,
    "start_time": "2022-01-11T15:44:08.022Z"
   },
   {
    "duration": 37,
    "start_time": "2022-01-11T15:44:13.115Z"
   },
   {
    "duration": 692,
    "start_time": "2022-01-11T15:45:38.378Z"
   },
   {
    "duration": 351,
    "start_time": "2022-01-11T15:46:20.386Z"
   },
   {
    "duration": 182,
    "start_time": "2022-01-11T15:48:55.843Z"
   },
   {
    "duration": 301,
    "start_time": "2022-01-11T15:49:01.191Z"
   },
   {
    "duration": 291,
    "start_time": "2022-01-11T15:49:21.008Z"
   },
   {
    "duration": 58,
    "start_time": "2022-01-11T15:54:46.336Z"
   },
   {
    "duration": 83,
    "start_time": "2022-01-11T15:56:31.920Z"
   },
   {
    "duration": 213,
    "start_time": "2022-01-11T15:56:42.383Z"
   },
   {
    "duration": 290,
    "start_time": "2022-01-11T15:56:56.161Z"
   },
   {
    "duration": 214,
    "start_time": "2022-01-11T15:57:12.619Z"
   },
   {
    "duration": 353,
    "start_time": "2022-01-11T15:57:27.781Z"
   },
   {
    "duration": 301,
    "start_time": "2022-01-11T15:58:46.134Z"
   },
   {
    "duration": 305,
    "start_time": "2022-01-11T15:59:53.378Z"
   },
   {
    "duration": 515,
    "start_time": "2022-01-11T16:01:28.475Z"
   },
   {
    "duration": 182,
    "start_time": "2022-01-11T16:01:35.505Z"
   },
   {
    "duration": 179,
    "start_time": "2022-01-11T16:01:55.620Z"
   },
   {
    "duration": 287,
    "start_time": "2022-01-11T16:02:19.900Z"
   },
   {
    "duration": 2664,
    "start_time": "2022-01-11T16:05:18.700Z"
   },
   {
    "duration": 298,
    "start_time": "2022-01-11T16:05:35.653Z"
   },
   {
    "duration": 371,
    "start_time": "2022-01-11T16:05:46.448Z"
   },
   {
    "duration": 296,
    "start_time": "2022-01-11T16:05:50.852Z"
   },
   {
    "duration": 291,
    "start_time": "2022-01-11T16:06:04.484Z"
   },
   {
    "duration": 273,
    "start_time": "2022-01-11T16:06:15.778Z"
   },
   {
    "duration": 200,
    "start_time": "2022-01-11T16:06:45.994Z"
   },
   {
    "duration": 216,
    "start_time": "2022-01-11T16:06:57.014Z"
   },
   {
    "duration": 392,
    "start_time": "2022-01-11T16:07:10.392Z"
   },
   {
    "duration": 717,
    "start_time": "2022-01-11T16:08:24.445Z"
   },
   {
    "duration": 450,
    "start_time": "2022-01-11T16:08:40.969Z"
   },
   {
    "duration": 433,
    "start_time": "2022-01-11T16:08:49.920Z"
   },
   {
    "duration": 80,
    "start_time": "2022-01-11T16:11:12.639Z"
   },
   {
    "duration": 275,
    "start_time": "2022-01-11T16:11:22.064Z"
   },
   {
    "duration": 270,
    "start_time": "2022-01-11T16:13:47.154Z"
   },
   {
    "duration": 322,
    "start_time": "2022-01-11T16:13:57.370Z"
   },
   {
    "duration": 293,
    "start_time": "2022-01-11T16:14:02.523Z"
   },
   {
    "duration": 96,
    "start_time": "2022-01-11T16:21:05.427Z"
   },
   {
    "duration": 50,
    "start_time": "2022-01-11T16:21:05.683Z"
   },
   {
    "duration": 257,
    "start_time": "2022-01-11T16:32:27.308Z"
   },
   {
    "duration": 264,
    "start_time": "2022-01-11T16:32:42.235Z"
   },
   {
    "duration": 6443,
    "start_time": "2022-01-11T16:33:01.823Z"
   },
   {
    "duration": 496,
    "start_time": "2022-01-11T16:33:28.754Z"
   },
   {
    "duration": 347,
    "start_time": "2022-01-11T16:33:29.282Z"
   },
   {
    "duration": 505,
    "start_time": "2022-01-11T16:33:53.139Z"
   },
   {
    "duration": 30,
    "start_time": "2022-01-11T16:34:01.016Z"
   },
   {
    "duration": 487,
    "start_time": "2022-01-11T16:34:02.752Z"
   },
   {
    "duration": 492,
    "start_time": "2022-01-11T16:34:24.195Z"
   },
   {
    "duration": 419,
    "start_time": "2022-01-11T16:34:37.696Z"
   },
   {
    "duration": 423,
    "start_time": "2022-01-11T16:34:51.267Z"
   },
   {
    "duration": 410,
    "start_time": "2022-01-11T16:35:09.938Z"
   },
   {
    "duration": 421,
    "start_time": "2022-01-11T16:35:30.530Z"
   },
   {
    "duration": 380,
    "start_time": "2022-01-11T16:35:39.183Z"
   },
   {
    "duration": 391,
    "start_time": "2022-01-11T16:35:51.766Z"
   },
   {
    "duration": 93,
    "start_time": "2022-01-11T16:37:34.681Z"
   },
   {
    "duration": 56,
    "start_time": "2022-01-11T16:37:40.349Z"
   },
   {
    "duration": 59,
    "start_time": "2022-01-11T16:37:58.417Z"
   },
   {
    "duration": 60,
    "start_time": "2022-01-11T16:38:06.851Z"
   },
   {
    "duration": 514,
    "start_time": "2022-01-11T16:38:29.434Z"
   },
   {
    "duration": 206,
    "start_time": "2022-01-11T16:41:48.743Z"
   },
   {
    "duration": 409,
    "start_time": "2022-01-11T16:42:07.362Z"
   },
   {
    "duration": 399,
    "start_time": "2022-01-11T16:42:43.732Z"
   },
   {
    "duration": 206,
    "start_time": "2022-01-11T16:47:44.267Z"
   },
   {
    "duration": 85,
    "start_time": "2022-01-11T16:47:55.778Z"
   },
   {
    "duration": 90,
    "start_time": "2022-01-11T16:48:33.284Z"
   },
   {
    "duration": 491,
    "start_time": "2022-01-11T16:48:42.327Z"
   },
   {
    "duration": 94,
    "start_time": "2022-01-11T16:48:42.821Z"
   },
   {
    "duration": 402,
    "start_time": "2022-01-11T16:48:43.195Z"
   },
   {
    "duration": 223,
    "start_time": "2022-01-11T16:48:43.605Z"
   },
   {
    "duration": 242,
    "start_time": "2022-01-11T16:48:44.024Z"
   },
   {
    "duration": 79,
    "start_time": "2022-01-11T16:48:44.269Z"
   },
   {
    "duration": 86,
    "start_time": "2022-01-11T16:48:44.408Z"
   },
   {
    "duration": 38,
    "start_time": "2022-01-11T16:48:44.546Z"
   },
   {
    "duration": 88,
    "start_time": "2022-01-11T16:49:22.653Z"
   },
   {
    "duration": 261,
    "start_time": "2022-01-11T16:49:55.784Z"
   },
   {
    "duration": 274,
    "start_time": "2022-01-11T16:50:01.865Z"
   },
   {
    "duration": 264,
    "start_time": "2022-01-11T16:50:24.664Z"
   },
   {
    "duration": 224,
    "start_time": "2022-01-11T16:54:09.276Z"
   },
   {
    "duration": 439,
    "start_time": "2022-01-11T16:55:10.385Z"
   },
   {
    "duration": 560,
    "start_time": "2022-01-11T16:56:10.950Z"
   },
   {
    "duration": 446,
    "start_time": "2022-01-11T16:56:20.867Z"
   },
   {
    "duration": 795,
    "start_time": "2022-01-11T16:57:05.013Z"
   },
   {
    "duration": 562,
    "start_time": "2022-01-11T16:57:39.341Z"
   },
   {
    "duration": 463,
    "start_time": "2022-01-11T16:57:57.361Z"
   },
   {
    "duration": 299,
    "start_time": "2022-01-11T17:00:59.713Z"
   },
   {
    "duration": 175,
    "start_time": "2022-01-11T17:04:07.055Z"
   },
   {
    "duration": 504,
    "start_time": "2022-01-11T17:15:08.837Z"
   },
   {
    "duration": 159,
    "start_time": "2022-01-11T17:15:20.785Z"
   },
   {
    "duration": 253,
    "start_time": "2022-01-11T17:15:36.850Z"
   },
   {
    "duration": 421,
    "start_time": "2022-01-11T17:15:44.682Z"
   },
   {
    "duration": 356,
    "start_time": "2022-01-11T17:17:01.260Z"
   },
   {
    "duration": 1288,
    "start_time": "2022-01-11T17:17:14.645Z"
   },
   {
    "duration": 113,
    "start_time": "2022-01-11T17:17:15.936Z"
   },
   {
    "duration": 328,
    "start_time": "2022-01-11T17:17:16.052Z"
   },
   {
    "duration": 154,
    "start_time": "2022-01-11T17:17:16.383Z"
   },
   {
    "duration": 187,
    "start_time": "2022-01-11T17:17:16.632Z"
   },
   {
    "duration": 309,
    "start_time": "2022-01-11T17:18:11.852Z"
   },
   {
    "duration": 241,
    "start_time": "2022-01-11T17:18:25.250Z"
   },
   {
    "duration": 231,
    "start_time": "2022-01-11T17:18:55.665Z"
   },
   {
    "duration": 282,
    "start_time": "2022-01-11T17:19:06.887Z"
   },
   {
    "duration": 1773,
    "start_time": "2022-01-11T17:19:16.706Z"
   },
   {
    "duration": 127,
    "start_time": "2022-01-11T17:19:18.482Z"
   },
   {
    "duration": 359,
    "start_time": "2022-01-11T17:19:18.611Z"
   },
   {
    "duration": 159,
    "start_time": "2022-01-11T17:19:18.974Z"
   },
   {
    "duration": 201,
    "start_time": "2022-01-11T17:19:19.136Z"
   },
   {
    "duration": 385,
    "start_time": "2022-01-11T17:19:19.340Z"
   },
   {
    "duration": 262,
    "start_time": "2022-01-11T17:19:53.929Z"
   },
   {
    "duration": 276,
    "start_time": "2022-01-11T17:20:29.478Z"
   },
   {
    "duration": 3104,
    "start_time": "2022-01-11T17:20:50.367Z"
   },
   {
    "duration": 4734,
    "start_time": "2022-01-11T17:21:28.637Z"
   },
   {
    "duration": 539,
    "start_time": "2022-01-11T17:30:27.530Z"
   },
   {
    "duration": 540,
    "start_time": "2022-01-11T17:30:43.955Z"
   },
   {
    "duration": 523,
    "start_time": "2022-01-11T17:31:15.123Z"
   },
   {
    "duration": 90,
    "start_time": "2022-01-11T17:31:24.579Z"
   },
   {
    "duration": 328,
    "start_time": "2022-01-11T17:31:30.789Z"
   },
   {
    "duration": 325,
    "start_time": "2022-01-11T17:31:48.725Z"
   },
   {
    "duration": 499,
    "start_time": "2022-01-11T17:33:45.296Z"
   },
   {
    "duration": 305,
    "start_time": "2022-01-11T17:34:08.302Z"
   },
   {
    "duration": 302,
    "start_time": "2022-01-11T17:38:08.970Z"
   },
   {
    "duration": 318,
    "start_time": "2022-01-11T17:38:21.288Z"
   },
   {
    "duration": 315,
    "start_time": "2022-01-11T17:38:41.724Z"
   },
   {
    "duration": 62,
    "start_time": "2022-01-11T17:39:04.848Z"
   },
   {
    "duration": 261,
    "start_time": "2022-01-11T17:39:33.511Z"
   },
   {
    "duration": 251,
    "start_time": "2022-01-11T17:39:51.797Z"
   },
   {
    "duration": 59,
    "start_time": "2022-01-11T17:40:08.283Z"
   },
   {
    "duration": 64,
    "start_time": "2022-01-11T17:45:40.842Z"
   },
   {
    "duration": 174,
    "start_time": "2022-01-11T19:30:42.624Z"
   },
   {
    "duration": 981,
    "start_time": "2022-01-11T19:30:52.784Z"
   },
   {
    "duration": 90,
    "start_time": "2022-01-11T19:30:53.768Z"
   },
   {
    "duration": 195,
    "start_time": "2022-01-11T19:30:53.860Z"
   },
   {
    "duration": 86,
    "start_time": "2022-01-11T19:30:54.212Z"
   },
   {
    "duration": 231,
    "start_time": "2022-01-11T19:30:54.742Z"
   },
   {
    "duration": -187101,
    "start_time": "2022-01-11T19:34:02.076Z"
   },
   {
    "duration": 126,
    "start_time": "2022-01-11T19:31:09.200Z"
   },
   {
    "duration": 94,
    "start_time": "2022-01-11T19:31:36.308Z"
   },
   {
    "duration": 50,
    "start_time": "2022-01-11T19:32:05.271Z"
   },
   {
    "duration": 212,
    "start_time": "2022-01-11T19:32:08.887Z"
   },
   {
    "duration": 129,
    "start_time": "2022-01-11T19:32:30.488Z"
   },
   {
    "duration": 102,
    "start_time": "2022-01-11T19:33:01.353Z"
   },
   {
    "duration": 110,
    "start_time": "2022-01-11T19:33:05.248Z"
   },
   {
    "duration": 199,
    "start_time": "2022-01-11T19:34:02.243Z"
   },
   {
    "duration": 200,
    "start_time": "2022-01-11T19:34:06.796Z"
   },
   {
    "duration": 227,
    "start_time": "2022-01-11T19:34:21.639Z"
   },
   {
    "duration": 48,
    "start_time": "2022-01-11T19:35:13.818Z"
   },
   {
    "duration": 99,
    "start_time": "2022-01-11T19:37:14.985Z"
   },
   {
    "duration": 208,
    "start_time": "2022-01-11T19:38:20.341Z"
   },
   {
    "duration": 129,
    "start_time": "2022-01-11T19:38:38.079Z"
   },
   {
    "duration": 199,
    "start_time": "2022-01-11T19:40:03.647Z"
   },
   {
    "duration": 56,
    "start_time": "2022-01-11T19:40:37.340Z"
   },
   {
    "duration": 228,
    "start_time": "2022-01-11T19:40:46.671Z"
   },
   {
    "duration": 204,
    "start_time": "2022-01-11T19:41:26.052Z"
   },
   {
    "duration": 85,
    "start_time": "2022-01-11T19:41:39.401Z"
   },
   {
    "duration": 125,
    "start_time": "2022-01-11T19:41:45.551Z"
   },
   {
    "duration": 98,
    "start_time": "2022-01-11T19:41:51.309Z"
   },
   {
    "duration": 23,
    "start_time": "2022-01-11T19:41:52.046Z"
   },
   {
    "duration": 14,
    "start_time": "2022-01-11T19:42:34.149Z"
   },
   {
    "duration": 20,
    "start_time": "2022-01-11T19:43:43.722Z"
   },
   {
    "duration": 19,
    "start_time": "2022-01-11T19:43:48.293Z"
   },
   {
    "duration": 18,
    "start_time": "2022-01-11T19:43:52.766Z"
   },
   {
    "duration": 21,
    "start_time": "2022-01-11T19:44:17.306Z"
   },
   {
    "duration": 21,
    "start_time": "2022-01-11T19:44:29.457Z"
   },
   {
    "duration": 20,
    "start_time": "2022-01-11T19:44:57.899Z"
   },
   {
    "duration": 21,
    "start_time": "2022-01-11T19:45:26.776Z"
   },
   {
    "duration": 20,
    "start_time": "2022-01-11T19:45:51.238Z"
   },
   {
    "duration": 133,
    "start_time": "2022-01-11T19:47:19.792Z"
   },
   {
    "duration": 5,
    "start_time": "2022-01-11T19:48:32.401Z"
   },
   {
    "duration": 9,
    "start_time": "2022-01-11T19:48:39.553Z"
   },
   {
    "duration": 131,
    "start_time": "2022-01-11T19:49:07.564Z"
   },
   {
    "duration": 125,
    "start_time": "2022-01-11T19:49:38.428Z"
   },
   {
    "duration": 137,
    "start_time": "2022-01-11T20:57:47.376Z"
   },
   {
    "duration": 127,
    "start_time": "2022-01-11T20:58:02.286Z"
   },
   {
    "duration": 8,
    "start_time": "2022-01-11T20:58:12.836Z"
   },
   {
    "duration": 175,
    "start_time": "2022-01-11T20:58:50.157Z"
   },
   {
    "duration": 48,
    "start_time": "2022-01-11T20:59:03.401Z"
   },
   {
    "duration": 44,
    "start_time": "2022-01-11T20:59:07.766Z"
   },
   {
    "duration": 59,
    "start_time": "2022-01-11T20:59:19.737Z"
   },
   {
    "duration": 44,
    "start_time": "2022-01-11T20:59:27.152Z"
   },
   {
    "duration": 104,
    "start_time": "2022-01-11T21:00:01.369Z"
   },
   {
    "duration": 55,
    "start_time": "2022-01-11T21:00:01.621Z"
   },
   {
    "duration": 56,
    "start_time": "2022-01-11T21:00:02.409Z"
   },
   {
    "duration": 10,
    "start_time": "2022-01-11T21:00:17.175Z"
   },
   {
    "duration": 147,
    "start_time": "2022-01-11T21:00:52.698Z"
   },
   {
    "duration": 128,
    "start_time": "2022-01-11T21:01:11.376Z"
   },
   {
    "duration": 213,
    "start_time": "2022-01-11T21:01:17.184Z"
   },
   {
    "duration": 131,
    "start_time": "2022-01-11T21:01:42.215Z"
   },
   {
    "duration": 9,
    "start_time": "2022-01-11T21:01:49.629Z"
   },
   {
    "duration": 10,
    "start_time": "2022-01-11T21:02:38.974Z"
   },
   {
    "duration": 11,
    "start_time": "2022-01-11T21:02:46.029Z"
   },
   {
    "duration": 11,
    "start_time": "2022-01-11T21:03:41.504Z"
   },
   {
    "duration": 11,
    "start_time": "2022-01-11T21:03:51.039Z"
   },
   {
    "duration": 12,
    "start_time": "2022-01-11T21:03:56.814Z"
   },
   {
    "duration": 12,
    "start_time": "2022-01-11T21:04:02.519Z"
   },
   {
    "duration": 168,
    "start_time": "2022-01-11T21:05:26.340Z"
   },
   {
    "duration": 13,
    "start_time": "2022-01-11T21:05:37.479Z"
   },
   {
    "duration": 2458,
    "start_time": "2022-01-11T21:06:56.108Z"
   },
   {
    "duration": 2541,
    "start_time": "2022-01-11T21:07:07.436Z"
   },
   {
    "duration": 108,
    "start_time": "2022-01-11T21:08:27.347Z"
   },
   {
    "duration": 151,
    "start_time": "2022-01-11T21:09:06.727Z"
   },
   {
    "duration": 141,
    "start_time": "2022-01-11T21:09:20.723Z"
   },
   {
    "duration": 17,
    "start_time": "2022-01-11T21:09:27.339Z"
   },
   {
    "duration": 20,
    "start_time": "2022-01-11T21:09:43.731Z"
   },
   {
    "duration": 19,
    "start_time": "2022-01-11T21:10:17.877Z"
   },
   {
    "duration": 21,
    "start_time": "2022-01-11T21:11:08.803Z"
   },
   {
    "duration": 98,
    "start_time": "2022-01-11T21:13:59.945Z"
   },
   {
    "duration": 14,
    "start_time": "2022-01-11T21:14:07.101Z"
   },
   {
    "duration": 393,
    "start_time": "2022-01-11T21:14:11.002Z"
   },
   {
    "duration": 65,
    "start_time": "2022-01-11T21:14:11.864Z"
   },
   {
    "duration": 194,
    "start_time": "2022-01-11T21:14:13.143Z"
   },
   {
    "duration": 93,
    "start_time": "2022-01-11T21:14:14.534Z"
   },
   {
    "duration": 103,
    "start_time": "2022-01-11T21:14:15.783Z"
   },
   {
    "duration": 13,
    "start_time": "2022-01-11T21:14:16.300Z"
   },
   {
    "duration": 48,
    "start_time": "2022-01-11T21:14:17.048Z"
   },
   {
    "duration": 128,
    "start_time": "2022-01-11T21:14:17.535Z"
   },
   {
    "duration": 4,
    "start_time": "2022-01-11T21:14:35.288Z"
   },
   {
    "duration": 457,
    "start_time": "2022-01-12T09:39:17.959Z"
   },
   {
    "duration": 1303,
    "start_time": "2022-01-12T09:39:23.990Z"
   },
   {
    "duration": 118,
    "start_time": "2022-01-12T09:39:25.297Z"
   },
   {
    "duration": 362,
    "start_time": "2022-01-12T09:39:25.418Z"
   },
   {
    "duration": 168,
    "start_time": "2022-01-12T09:39:25.783Z"
   },
   {
    "duration": 170,
    "start_time": "2022-01-12T09:39:26.183Z"
   },
   {
    "duration": 29,
    "start_time": "2022-01-12T09:39:26.379Z"
   },
   {
    "duration": 145,
    "start_time": "2022-01-12T09:39:26.816Z"
   },
   {
    "duration": 4,
    "start_time": "2022-01-12T09:39:27.517Z"
   },
   {
    "duration": 33,
    "start_time": "2022-01-12T09:40:14.609Z"
   },
   {
    "duration": 474,
    "start_time": "2022-01-12T09:43:11.129Z"
   },
   {
    "duration": 395,
    "start_time": "2022-01-12T09:43:24.877Z"
   },
   {
    "duration": 371,
    "start_time": "2022-01-12T09:43:35.261Z"
   },
   {
    "duration": 291,
    "start_time": "2022-01-12T09:44:43.413Z"
   },
   {
    "duration": 380,
    "start_time": "2022-01-12T09:45:27.464Z"
   },
   {
    "duration": 285,
    "start_time": "2022-01-12T09:45:46.509Z"
   },
   {
    "duration": 150,
    "start_time": "2022-01-12T09:45:47.230Z"
   },
   {
    "duration": 161,
    "start_time": "2022-01-12T09:45:47.720Z"
   },
   {
    "duration": 46,
    "start_time": "2022-01-12T09:45:47.952Z"
   },
   {
    "duration": 102,
    "start_time": "2022-01-12T09:45:48.268Z"
   },
   {
    "duration": 3,
    "start_time": "2022-01-12T09:45:48.501Z"
   },
   {
    "duration": 41,
    "start_time": "2022-01-12T09:50:07.464Z"
   },
   {
    "duration": 38,
    "start_time": "2022-01-12T09:50:23.466Z"
   },
   {
    "duration": 536,
    "start_time": "2022-01-12T09:50:31.465Z"
   },
   {
    "duration": 100,
    "start_time": "2022-01-12T09:50:32.004Z"
   },
   {
    "duration": 278,
    "start_time": "2022-01-12T09:50:32.339Z"
   },
   {
    "duration": 151,
    "start_time": "2022-01-12T09:50:32.849Z"
   },
   {
    "duration": 166,
    "start_time": "2022-01-12T09:50:33.402Z"
   },
   {
    "duration": 37,
    "start_time": "2022-01-12T09:50:33.575Z"
   },
   {
    "duration": 115,
    "start_time": "2022-01-12T09:50:33.952Z"
   },
   {
    "duration": 3,
    "start_time": "2022-01-12T09:50:34.141Z"
   },
   {
    "duration": 40,
    "start_time": "2022-01-12T09:51:24.579Z"
   },
   {
    "duration": 43,
    "start_time": "2022-01-12T09:51:58.560Z"
   },
   {
    "duration": 44,
    "start_time": "2022-01-12T09:52:02.104Z"
   },
   {
    "duration": 41,
    "start_time": "2022-01-12T09:52:58.525Z"
   },
   {
    "duration": 42,
    "start_time": "2022-01-12T09:53:38.488Z"
   },
   {
    "duration": 39,
    "start_time": "2022-01-12T09:53:57.724Z"
   },
   {
    "duration": 555,
    "start_time": "2022-01-12T09:55:32.632Z"
   },
   {
    "duration": 555,
    "start_time": "2022-01-12T09:55:47.568Z"
   },
   {
    "duration": 516,
    "start_time": "2022-01-12T09:55:58.621Z"
   },
   {
    "duration": 514,
    "start_time": "2022-01-12T09:56:08.479Z"
   },
   {
    "duration": 535,
    "start_time": "2022-01-12T09:56:18.647Z"
   },
   {
    "duration": 311,
    "start_time": "2022-01-12T09:58:41.677Z"
   },
   {
    "duration": 354,
    "start_time": "2022-01-12T09:59:20.960Z"
   },
   {
    "duration": 8279,
    "start_time": "2022-01-12T09:59:52.690Z"
   },
   {
    "duration": 7961,
    "start_time": "2022-01-12T10:00:06.198Z"
   },
   {
    "duration": 8514,
    "start_time": "2022-01-12T10:02:29.537Z"
   },
   {
    "duration": -188680,
    "start_time": "2022-01-12T10:06:04.873Z"
   },
   {
    "duration": 8878,
    "start_time": "2022-01-12T10:03:38.057Z"
   },
   {
    "duration": 10555,
    "start_time": "2022-01-12T10:03:57.020Z"
   },
   {
    "duration": 202,
    "start_time": "2022-01-12T10:04:09.161Z"
   },
   {
    "duration": 7564,
    "start_time": "2022-01-12T10:04:09.919Z"
   },
   {
    "duration": -188752,
    "start_time": "2022-01-12T10:07:26.238Z"
   },
   {
    "duration": -188753,
    "start_time": "2022-01-12T10:07:26.241Z"
   },
   {
    "duration": -188756,
    "start_time": "2022-01-12T10:07:26.245Z"
   },
   {
    "duration": 353,
    "start_time": "2022-01-12T10:04:17.564Z"
   },
   {
    "duration": 180,
    "start_time": "2022-01-12T10:04:18.171Z"
   },
   {
    "duration": 191,
    "start_time": "2022-01-12T10:04:18.800Z"
   },
   {
    "duration": 7658,
    "start_time": "2022-01-12T10:04:18.994Z"
   },
   {
    "duration": -188667,
    "start_time": "2022-01-12T10:07:35.321Z"
   },
   {
    "duration": -188741,
    "start_time": "2022-01-12T10:07:35.397Z"
   },
   {
    "duration": -188751,
    "start_time": "2022-01-12T10:07:35.408Z"
   },
   {
    "duration": 7615,
    "start_time": "2022-01-12T10:04:42.751Z"
   },
   {
    "duration": 8244,
    "start_time": "2022-01-12T10:04:58.413Z"
   },
   {
    "duration": 11115,
    "start_time": "2022-01-12T10:05:19.188Z"
   },
   {
    "duration": 8299,
    "start_time": "2022-01-12T10:05:40.884Z"
   },
   {
    "duration": 52,
    "start_time": "2022-01-12T10:05:51.304Z"
   },
   {
    "duration": 597,
    "start_time": "2022-01-12T10:06:06.393Z"
   },
   {
    "duration": 8223,
    "start_time": "2022-01-12T10:07:14.150Z"
   },
   {
    "duration": 8941,
    "start_time": "2022-01-12T10:07:40.267Z"
   },
   {
    "duration": 9651,
    "start_time": "2022-01-12T10:07:54.243Z"
   },
   {
    "duration": 8475,
    "start_time": "2022-01-12T10:08:21.427Z"
   },
   {
    "duration": 117,
    "start_time": "2022-01-12T10:08:50.271Z"
   },
   {
    "duration": 11042,
    "start_time": "2022-01-12T10:08:59.714Z"
   },
   {
    "duration": 64,
    "start_time": "2022-01-12T10:09:18.097Z"
   },
   {
    "duration": 43,
    "start_time": "2022-01-12T10:10:56.046Z"
   },
   {
    "duration": 44,
    "start_time": "2022-01-12T10:11:06.692Z"
   },
   {
    "duration": 61,
    "start_time": "2022-01-12T10:11:53.567Z"
   },
   {
    "duration": 357,
    "start_time": "2022-01-12T10:12:38.968Z"
   },
   {
    "duration": 41,
    "start_time": "2022-01-12T10:12:43.621Z"
   },
   {
    "duration": 44,
    "start_time": "2022-01-12T10:13:11.901Z"
   },
   {
    "duration": 196,
    "start_time": "2022-01-12T10:15:36.393Z"
   },
   {
    "duration": 112,
    "start_time": "2022-01-12T10:16:08.536Z"
   },
   {
    "duration": 114,
    "start_time": "2022-01-12T10:16:39.400Z"
   },
   {
    "duration": 44,
    "start_time": "2022-01-12T10:16:39.623Z"
   },
   {
    "duration": 118,
    "start_time": "2022-01-12T10:16:41.476Z"
   },
   {
    "duration": 142,
    "start_time": "2022-01-12T10:18:16.039Z"
   },
   {
    "duration": 148,
    "start_time": "2022-01-12T10:18:29.384Z"
   },
   {
    "duration": 106,
    "start_time": "2022-01-12T10:18:32.881Z"
   },
   {
    "duration": 114,
    "start_time": "2022-01-12T10:18:38.675Z"
   },
   {
    "duration": 115,
    "start_time": "2022-01-12T10:19:29.168Z"
   },
   {
    "duration": 99,
    "start_time": "2022-01-12T10:19:34.767Z"
   },
   {
    "duration": 106,
    "start_time": "2022-01-12T10:19:38.495Z"
   },
   {
    "duration": 104,
    "start_time": "2022-01-12T10:19:45.316Z"
   },
   {
    "duration": 171,
    "start_time": "2022-01-12T10:19:51.712Z"
   },
   {
    "duration": 986,
    "start_time": "2022-01-12T10:19:57.741Z"
   },
   {
    "duration": 105,
    "start_time": "2022-01-12T10:19:58.729Z"
   },
   {
    "duration": 175,
    "start_time": "2022-01-12T10:19:58.837Z"
   },
   {
    "duration": 75,
    "start_time": "2022-01-12T10:19:59.127Z"
   },
   {
    "duration": 161,
    "start_time": "2022-01-12T10:19:59.672Z"
   },
   {
    "duration": 102,
    "start_time": "2022-01-12T10:19:59.859Z"
   },
   {
    "duration": 114,
    "start_time": "2022-01-12T10:20:00.265Z"
   },
   {
    "duration": 3,
    "start_time": "2022-01-12T10:20:00.436Z"
   },
   {
    "duration": 151,
    "start_time": "2022-01-12T10:20:24.481Z"
   },
   {
    "duration": 107,
    "start_time": "2022-01-12T10:20:50.244Z"
   },
   {
    "duration": 551,
    "start_time": "2022-01-12T10:21:18.421Z"
   },
   {
    "duration": 104,
    "start_time": "2022-01-12T10:21:19.320Z"
   },
   {
    "duration": 28,
    "start_time": "2022-01-12T10:21:29.704Z"
   },
   {
    "duration": 154,
    "start_time": "2022-01-12T10:21:31.394Z"
   },
   {
    "duration": 74,
    "start_time": "2022-01-12T10:21:34.517Z"
   },
   {
    "duration": 160,
    "start_time": "2022-01-12T10:21:36.389Z"
   },
   {
    "duration": 101,
    "start_time": "2022-01-12T10:21:38.108Z"
   },
   {
    "duration": 110,
    "start_time": "2022-01-12T10:21:39.367Z"
   },
   {
    "duration": 132,
    "start_time": "2022-01-12T10:23:06.253Z"
   },
   {
    "duration": 158,
    "start_time": "2022-01-12T10:23:56.151Z"
   },
   {
    "duration": 158,
    "start_time": "2022-01-12T10:24:12.823Z"
   },
   {
    "duration": 174,
    "start_time": "2022-01-12T10:24:25.895Z"
   },
   {
    "duration": 185,
    "start_time": "2022-01-12T10:24:42.883Z"
   },
   {
    "duration": 186,
    "start_time": "2022-01-12T10:24:56.403Z"
   },
   {
    "duration": 1008,
    "start_time": "2022-01-12T10:25:22.149Z"
   },
   {
    "duration": 111,
    "start_time": "2022-01-12T10:26:18.867Z"
   },
   {
    "duration": 164,
    "start_time": "2022-01-12T10:26:19.427Z"
   },
   {
    "duration": 78,
    "start_time": "2022-01-12T10:26:20.096Z"
   },
   {
    "duration": 144,
    "start_time": "2022-01-12T10:26:20.825Z"
   },
   {
    "duration": 46,
    "start_time": "2022-01-12T10:26:21.012Z"
   },
   {
    "duration": 138,
    "start_time": "2022-01-12T10:26:21.399Z"
   },
   {
    "duration": 3,
    "start_time": "2022-01-12T10:26:21.585Z"
   },
   {
    "duration": 108,
    "start_time": "2022-01-12T10:26:54.159Z"
   },
   {
    "duration": 346,
    "start_time": "2022-01-12T10:27:20.705Z"
   },
   {
    "duration": 49,
    "start_time": "2022-01-12T10:28:07.894Z"
   },
   {
    "duration": 54,
    "start_time": "2022-01-12T10:29:04.259Z"
   },
   {
    "duration": 106,
    "start_time": "2022-01-12T10:29:16.714Z"
   },
   {
    "duration": 53,
    "start_time": "2022-01-12T10:29:20.945Z"
   },
   {
    "duration": 48,
    "start_time": "2022-01-12T10:29:54.048Z"
   },
   {
    "duration": 56,
    "start_time": "2022-01-12T10:30:16.552Z"
   },
   {
    "duration": 60,
    "start_time": "2022-01-12T10:39:05.235Z"
   },
   {
    "duration": 61,
    "start_time": "2022-01-12T10:39:42.171Z"
   },
   {
    "duration": 62,
    "start_time": "2022-01-12T10:40:18.996Z"
   },
   {
    "duration": 100,
    "start_time": "2022-01-12T10:44:56.939Z"
   },
   {
    "duration": 49,
    "start_time": "2022-01-12T10:46:47.347Z"
   },
   {
    "duration": 57,
    "start_time": "2022-01-12T10:46:59.839Z"
   },
   {
    "duration": 348,
    "start_time": "2022-01-12T10:50:17.641Z"
   },
   {
    "duration": 354,
    "start_time": "2022-01-12T10:50:35.018Z"
   },
   {
    "duration": 381,
    "start_time": "2022-01-12T10:50:51.523Z"
   },
   {
    "duration": 54,
    "start_time": "2022-01-12T10:51:02.381Z"
   },
   {
    "duration": 63,
    "start_time": "2022-01-12T10:51:13.752Z"
   },
   {
    "duration": 104,
    "start_time": "2022-01-12T10:51:40.835Z"
   },
   {
    "duration": 108,
    "start_time": "2022-01-12T10:52:10.007Z"
   },
   {
    "duration": 72,
    "start_time": "2022-01-12T11:45:00.052Z"
   },
   {
    "duration": 161,
    "start_time": "2022-01-12T11:45:03.534Z"
   },
   {
    "duration": 114,
    "start_time": "2022-01-12T11:45:44.567Z"
   },
   {
    "duration": 98,
    "start_time": "2022-01-12T11:46:00.652Z"
   },
   {
    "duration": 6,
    "start_time": "2022-01-12T11:46:23.946Z"
   },
   {
    "duration": 9,
    "start_time": "2022-01-12T11:47:11.400Z"
   },
   {
    "duration": 335,
    "start_time": "2022-01-12T11:49:41.779Z"
   },
   {
    "duration": 8109,
    "start_time": "2022-01-12T11:51:00.190Z"
   },
   {
    "duration": 8,
    "start_time": "2022-01-12T11:51:20.605Z"
   },
   {
    "duration": 16,
    "start_time": "2022-01-12T11:51:48.799Z"
   },
   {
    "duration": 19,
    "start_time": "2022-01-12T11:52:24.077Z"
   },
   {
    "duration": 356,
    "start_time": "2022-01-12T11:52:46.418Z"
   },
   {
    "duration": 18,
    "start_time": "2022-01-12T11:52:57.828Z"
   },
   {
    "duration": 409,
    "start_time": "2022-01-12T11:53:06.613Z"
   },
   {
    "duration": 14,
    "start_time": "2022-01-12T11:55:37.597Z"
   },
   {
    "duration": 179,
    "start_time": "2022-01-12T11:57:56.737Z"
   },
   {
    "duration": 160,
    "start_time": "2022-01-12T11:58:10.979Z"
   },
   {
    "duration": 183,
    "start_time": "2022-01-12T11:58:20.028Z"
   },
   {
    "duration": 58,
    "start_time": "2022-01-12T12:00:43.064Z"
   },
   {
    "duration": 59,
    "start_time": "2022-01-12T12:01:14.734Z"
   },
   {
    "duration": 38,
    "start_time": "2022-01-12T12:01:23.312Z"
   },
   {
    "duration": 46,
    "start_time": "2022-01-12T12:02:06.150Z"
   },
   {
    "duration": 52,
    "start_time": "2022-01-12T12:02:14.387Z"
   },
   {
    "duration": 65,
    "start_time": "2022-01-12T12:02:41.343Z"
   },
   {
    "duration": 59,
    "start_time": "2022-01-12T12:03:01.961Z"
   },
   {
    "duration": 53,
    "start_time": "2022-01-12T12:04:14.048Z"
   },
   {
    "duration": 47,
    "start_time": "2022-01-12T12:04:27.196Z"
   },
   {
    "duration": 53,
    "start_time": "2022-01-12T12:14:49.949Z"
   },
   {
    "duration": 45,
    "start_time": "2022-01-12T12:15:31.375Z"
   },
   {
    "duration": 59,
    "start_time": "2022-01-12T12:35:40.630Z"
   },
   {
    "duration": 411,
    "start_time": "2022-01-12T12:36:40.354Z"
   },
   {
    "duration": 340,
    "start_time": "2022-01-12T12:37:09.945Z"
   },
   {
    "duration": 369,
    "start_time": "2022-01-12T12:37:19.171Z"
   },
   {
    "duration": 341,
    "start_time": "2022-01-12T12:38:07.740Z"
   },
   {
    "duration": 356,
    "start_time": "2022-01-12T12:53:29.662Z"
   },
   {
    "duration": 370,
    "start_time": "2022-01-12T12:54:03.374Z"
   },
   {
    "duration": 336,
    "start_time": "2022-01-12T12:54:21.455Z"
   },
   {
    "duration": 1018,
    "start_time": "2022-01-12T12:55:22.840Z"
   },
   {
    "duration": 358,
    "start_time": "2022-01-12T12:56:17.771Z"
   },
   {
    "duration": 2031,
    "start_time": "2022-01-12T12:56:30.147Z"
   },
   {
    "duration": 352,
    "start_time": "2022-01-12T12:57:11.201Z"
   },
   {
    "duration": 364,
    "start_time": "2022-01-12T12:57:23.475Z"
   },
   {
    "duration": 400,
    "start_time": "2022-01-12T12:57:40.266Z"
   },
   {
    "duration": 463,
    "start_time": "2022-01-12T12:57:49.619Z"
   },
   {
    "duration": 392,
    "start_time": "2022-01-12T12:58:16.620Z"
   },
   {
    "duration": 338,
    "start_time": "2022-01-12T12:59:09.698Z"
   },
   {
    "duration": 366,
    "start_time": "2022-01-12T12:59:24.044Z"
   },
   {
    "duration": 344,
    "start_time": "2022-01-12T12:59:35.516Z"
   },
   {
    "duration": 550,
    "start_time": "2022-01-12T12:59:41.571Z"
   },
   {
    "duration": 102,
    "start_time": "2022-01-12T12:59:42.124Z"
   },
   {
    "duration": 161,
    "start_time": "2022-01-12T12:59:42.451Z"
   },
   {
    "duration": 92,
    "start_time": "2022-01-12T12:59:42.975Z"
   },
   {
    "duration": 158,
    "start_time": "2022-01-12T12:59:43.540Z"
   },
   {
    "duration": 363,
    "start_time": "2022-01-12T12:59:43.748Z"
   },
   {
    "duration": 49,
    "start_time": "2022-01-12T12:59:44.133Z"
   },
   {
    "duration": 4,
    "start_time": "2022-01-12T12:59:44.302Z"
   },
   {
    "duration": 351,
    "start_time": "2022-01-12T13:00:15.036Z"
   },
   {
    "duration": 358,
    "start_time": "2022-01-12T13:00:58.565Z"
   },
   {
    "duration": 413,
    "start_time": "2022-01-12T13:01:17.570Z"
   },
   {
    "duration": 376,
    "start_time": "2022-01-12T13:02:21.697Z"
   },
   {
    "duration": 112,
    "start_time": "2022-01-12T13:03:43.473Z"
   },
   {
    "duration": 330,
    "start_time": "2022-01-12T13:03:58.165Z"
   },
   {
    "duration": 297,
    "start_time": "2022-01-12T13:05:21.512Z"
   },
   {
    "duration": 493,
    "start_time": "2022-01-12T13:06:31.646Z"
   },
   {
    "duration": 378,
    "start_time": "2022-01-12T13:11:02.568Z"
   },
   {
    "duration": 103,
    "start_time": "2022-01-12T13:11:55.624Z"
   },
   {
    "duration": 99,
    "start_time": "2022-01-12T13:12:06.424Z"
   },
   {
    "duration": 103,
    "start_time": "2022-01-12T13:12:15.132Z"
   },
   {
    "duration": 118,
    "start_time": "2022-01-12T13:12:18.821Z"
   },
   {
    "duration": 377,
    "start_time": "2022-01-12T13:12:34.308Z"
   },
   {
    "duration": 432,
    "start_time": "2022-01-12T13:12:44.744Z"
   },
   {
    "duration": 331,
    "start_time": "2022-01-12T13:13:11.764Z"
   },
   {
    "duration": 467,
    "start_time": "2022-01-12T13:13:23.929Z"
   },
   {
    "duration": 428,
    "start_time": "2022-01-12T13:13:44.431Z"
   },
   {
    "duration": 410,
    "start_time": "2022-01-12T13:14:29.314Z"
   },
   {
    "duration": 357,
    "start_time": "2022-01-12T13:14:44.675Z"
   },
   {
    "duration": 349,
    "start_time": "2022-01-12T13:15:00.606Z"
   },
   {
    "duration": 377,
    "start_time": "2022-01-12T13:15:12.963Z"
   },
   {
    "duration": 472,
    "start_time": "2022-01-12T13:15:23.260Z"
   },
   {
    "duration": 369,
    "start_time": "2022-01-12T13:15:40.436Z"
   },
   {
    "duration": 86,
    "start_time": "2022-01-12T13:16:00.210Z"
   },
   {
    "duration": 78,
    "start_time": "2022-01-12T13:16:15.522Z"
   },
   {
    "duration": 131,
    "start_time": "2022-01-12T13:18:42.840Z"
   },
   {
    "duration": 11355,
    "start_time": "2022-01-12T13:19:21.024Z"
   },
   {
    "duration": 9368,
    "start_time": "2022-01-12T13:20:26.978Z"
   },
   {
    "duration": 9015,
    "start_time": "2022-01-12T13:25:50.797Z"
   },
   {
    "duration": 10475,
    "start_time": "2022-01-12T13:26:49.416Z"
   },
   {
    "duration": 9455,
    "start_time": "2022-01-12T13:27:30.820Z"
   },
   {
    "duration": 568,
    "start_time": "2022-01-12T13:55:21.412Z"
   },
   {
    "duration": 110,
    "start_time": "2022-01-12T13:55:21.983Z"
   },
   {
    "duration": 163,
    "start_time": "2022-01-12T13:55:22.479Z"
   },
   {
    "duration": 73,
    "start_time": "2022-01-12T13:55:23.144Z"
   },
   {
    "duration": 160,
    "start_time": "2022-01-12T13:55:24.496Z"
   },
   {
    "duration": 81,
    "start_time": "2022-01-12T13:55:25.380Z"
   },
   {
    "duration": 10251,
    "start_time": "2022-01-12T13:55:26.765Z"
   },
   {
    "duration": -188566,
    "start_time": "2022-01-12T13:58:45.585Z"
   },
   {
    "duration": 102,
    "start_time": "2022-01-12T13:59:26.641Z"
   },
   {
    "duration": 113,
    "start_time": "2022-01-12T13:59:46.470Z"
   },
   {
    "duration": 101,
    "start_time": "2022-01-12T14:00:40.944Z"
   },
   {
    "duration": 8739,
    "start_time": "2022-01-12T14:00:49.019Z"
   },
   {
    "duration": 8861,
    "start_time": "2022-01-12T14:03:32.902Z"
   },
   {
    "duration": 8883,
    "start_time": "2022-01-12T14:04:42.011Z"
   },
   {
    "duration": 10102,
    "start_time": "2022-01-12T14:06:15.592Z"
   },
   {
    "duration": 9134,
    "start_time": "2022-01-12T14:07:18.309Z"
   },
   {
    "duration": 323,
    "start_time": "2022-01-12T14:07:33.356Z"
   },
   {
    "duration": 68,
    "start_time": "2022-01-12T14:07:54.072Z"
   },
   {
    "duration": 8075,
    "start_time": "2022-01-12T14:07:57.565Z"
   },
   {
    "duration": 316,
    "start_time": "2022-01-12T14:09:33.431Z"
   },
   {
    "duration": 667,
    "start_time": "2022-01-12T14:09:40.753Z"
   },
   {
    "duration": 109,
    "start_time": "2022-01-12T14:09:41.907Z"
   },
   {
    "duration": 155,
    "start_time": "2022-01-12T14:09:43.523Z"
   },
   {
    "duration": 86,
    "start_time": "2022-01-12T14:10:10.308Z"
   },
   {
    "duration": 9043,
    "start_time": "2022-01-12T14:10:17.666Z"
   },
   {
    "duration": 87,
    "start_time": "2022-01-12T14:10:58.211Z"
   },
   {
    "duration": 7813,
    "start_time": "2022-01-12T14:11:01.795Z"
   },
   {
    "duration": 8848,
    "start_time": "2022-01-12T14:11:26.965Z"
   },
   {
    "duration": 86,
    "start_time": "2022-01-12T14:12:06.334Z"
   },
   {
    "duration": 8304,
    "start_time": "2022-01-12T14:12:56.120Z"
   },
   {
    "duration": 7698,
    "start_time": "2022-01-12T14:13:17.488Z"
   },
   {
    "duration": 93,
    "start_time": "2022-01-12T14:13:30.406Z"
   },
   {
    "duration": 151,
    "start_time": "2022-01-12T14:14:22.090Z"
   },
   {
    "duration": 171,
    "start_time": "2022-01-12T14:14:38.807Z"
   },
   {
    "duration": 408,
    "start_time": "2022-01-12T14:16:45.734Z"
   },
   {
    "duration": 119,
    "start_time": "2022-01-12T14:17:40.809Z"
   },
   {
    "duration": 90,
    "start_time": "2022-01-12T14:17:57.803Z"
   },
   {
    "duration": 88,
    "start_time": "2022-01-12T14:18:11.212Z"
   },
   {
    "duration": 85,
    "start_time": "2022-01-12T14:18:25.549Z"
   },
   {
    "duration": 81,
    "start_time": "2022-01-12T14:18:43.483Z"
   },
   {
    "duration": 81,
    "start_time": "2022-01-12T14:19:09.077Z"
   },
   {
    "duration": 2420,
    "start_time": "2022-01-12T14:19:33.923Z"
   },
   {
    "duration": 496,
    "start_time": "2022-01-12T14:19:47.744Z"
   },
   {
    "duration": 83,
    "start_time": "2022-01-12T14:19:59.707Z"
   },
   {
    "duration": 101,
    "start_time": "2022-01-12T14:20:45.169Z"
   },
   {
    "duration": 85,
    "start_time": "2022-01-12T14:21:05.655Z"
   },
   {
    "duration": 170,
    "start_time": "2022-01-12T14:21:37.622Z"
   },
   {
    "duration": 153,
    "start_time": "2022-01-12T14:21:54.852Z"
   },
   {
    "duration": 236,
    "start_time": "2022-01-12T14:21:58.256Z"
   },
   {
    "duration": 77,
    "start_time": "2022-01-12T14:21:59.107Z"
   },
   {
    "duration": 185,
    "start_time": "2022-01-12T14:21:59.733Z"
   },
   {
    "duration": 129,
    "start_time": "2022-01-12T14:21:59.949Z"
   },
   {
    "duration": 9973,
    "start_time": "2022-01-12T14:22:00.364Z"
   },
   {
    "duration": -188549,
    "start_time": "2022-01-12T14:25:18.889Z"
   },
   {
    "duration": 99,
    "start_time": "2022-01-12T14:22:28.825Z"
   },
   {
    "duration": 148,
    "start_time": "2022-01-12T14:22:45.456Z"
   },
   {
    "duration": 154,
    "start_time": "2022-01-12T14:23:24.429Z"
   },
   {
    "duration": 80,
    "start_time": "2022-01-12T14:23:40.381Z"
   },
   {
    "duration": 161,
    "start_time": "2022-01-12T14:24:16.125Z"
   },
   {
    "duration": 110,
    "start_time": "2022-01-12T14:24:24.383Z"
   },
   {
    "duration": 170,
    "start_time": "2022-01-12T14:24:50.068Z"
   },
   {
    "duration": 8258,
    "start_time": "2022-01-12T14:25:19.801Z"
   },
   {
    "duration": 144,
    "start_time": "2022-01-12T14:25:56.058Z"
   },
   {
    "duration": 144,
    "start_time": "2022-01-12T14:26:01.451Z"
   },
   {
    "duration": 87,
    "start_time": "2022-01-12T14:26:02.023Z"
   },
   {
    "duration": 151,
    "start_time": "2022-01-12T14:26:02.602Z"
   },
   {
    "duration": 355,
    "start_time": "2022-01-12T14:26:02.831Z"
   },
   {
    "duration": 8861,
    "start_time": "2022-01-12T14:26:03.238Z"
   },
   {
    "duration": -188457,
    "start_time": "2022-01-12T14:29:20.558Z"
   },
   {
    "duration": 380,
    "start_time": "2022-01-12T14:26:17.475Z"
   },
   {
    "duration": 425,
    "start_time": "2022-01-12T14:26:31.760Z"
   },
   {
    "duration": 155,
    "start_time": "2022-01-12T14:26:54.097Z"
   },
   {
    "duration": 804,
    "start_time": "2022-01-12T14:27:26.863Z"
   },
   {
    "duration": 866,
    "start_time": "2022-01-12T14:27:41.368Z"
   },
   {
    "duration": 164,
    "start_time": "2022-01-12T14:28:00.225Z"
   },
   {
    "duration": 89,
    "start_time": "2022-01-12T14:28:15.769Z"
   },
   {
    "duration": 83,
    "start_time": "2022-01-12T14:28:20.100Z"
   },
   {
    "duration": 156,
    "start_time": "2022-01-12T14:28:29.544Z"
   },
   {
    "duration": 150,
    "start_time": "2022-01-12T14:28:41.635Z"
   },
   {
    "duration": 68,
    "start_time": "2022-01-12T14:28:46.792Z"
   },
   {
    "duration": 99,
    "start_time": "2022-01-12T14:29:09.024Z"
   },
   {
    "duration": 99,
    "start_time": "2022-01-12T14:29:56.948Z"
   },
   {
    "duration": 107,
    "start_time": "2022-01-12T14:30:17.264Z"
   },
   {
    "duration": 103,
    "start_time": "2022-01-12T14:30:50.197Z"
   },
   {
    "duration": 71,
    "start_time": "2022-01-12T14:31:52.815Z"
   },
   {
    "duration": 96,
    "start_time": "2022-01-12T14:32:38.231Z"
   },
   {
    "duration": 91,
    "start_time": "2022-01-12T14:32:49.038Z"
   },
   {
    "duration": 8414,
    "start_time": "2022-01-12T14:33:04.428Z"
   },
   {
    "duration": 63,
    "start_time": "2022-01-12T14:54:54.609Z"
   },
   {
    "duration": 95,
    "start_time": "2022-01-12T14:54:54.847Z"
   },
   {
    "duration": 9531,
    "start_time": "2022-01-12T14:54:55.497Z"
   },
   {
    "duration": -188447,
    "start_time": "2022-01-12T14:58:13.477Z"
   },
   {
    "duration": 157,
    "start_time": "2022-01-12T14:59:00.600Z"
   },
   {
    "duration": 163,
    "start_time": "2022-01-12T14:59:16.040Z"
   },
   {
    "duration": 93,
    "start_time": "2022-01-12T14:59:51.226Z"
   },
   {
    "duration": 84,
    "start_time": "2022-01-12T15:00:07.672Z"
   },
   {
    "duration": 89,
    "start_time": "2022-01-12T15:00:15.488Z"
   },
   {
    "duration": 79,
    "start_time": "2022-01-12T15:00:42.364Z"
   },
   {
    "duration": 89,
    "start_time": "2022-01-12T15:00:45.412Z"
   },
   {
    "duration": 7498,
    "start_time": "2022-01-12T15:18:12.490Z"
   },
   {
    "duration": 7882,
    "start_time": "2022-01-12T15:18:29.313Z"
   },
   {
    "duration": 7956,
    "start_time": "2022-01-12T15:18:56.086Z"
   },
   {
    "duration": 8018,
    "start_time": "2022-01-12T15:19:42.651Z"
   },
   {
    "duration": 109,
    "start_time": "2022-01-12T15:23:34.980Z"
   },
   {
    "duration": 384,
    "start_time": "2022-01-12T15:24:05.723Z"
   },
   {
    "duration": 390,
    "start_time": "2022-01-12T15:24:41.950Z"
   },
   {
    "duration": 375,
    "start_time": "2022-01-12T15:25:08.787Z"
   },
   {
    "duration": 645,
    "start_time": "2022-01-12T15:25:17.988Z"
   },
   {
    "duration": 108,
    "start_time": "2022-01-12T15:25:18.636Z"
   },
   {
    "duration": 94,
    "start_time": "2022-01-12T15:25:38.249Z"
   },
   {
    "duration": 233,
    "start_time": "2022-01-12T15:26:33.315Z"
   },
   {
    "duration": 336,
    "start_time": "2022-01-12T15:26:49.177Z"
   },
   {
    "duration": 367,
    "start_time": "2022-01-12T15:27:09.165Z"
   },
   {
    "duration": 161,
    "start_time": "2022-01-12T15:27:26.550Z"
   },
   {
    "duration": 156,
    "start_time": "2022-01-12T15:27:44.919Z"
   },
   {
    "duration": 149,
    "start_time": "2022-01-12T15:27:57.496Z"
   },
   {
    "duration": 94,
    "start_time": "2022-01-12T15:27:58.017Z"
   },
   {
    "duration": 84,
    "start_time": "2022-01-12T15:27:58.521Z"
   },
   {
    "duration": 125,
    "start_time": "2022-01-12T15:27:58.703Z"
   },
   {
    "duration": 7853,
    "start_time": "2022-01-12T15:27:59.060Z"
   },
   {
    "duration": -188378,
    "start_time": "2022-01-12T15:31:15.294Z"
   },
   {
    "duration": 107,
    "start_time": "2022-01-12T15:28:15.394Z"
   },
   {
    "duration": 138,
    "start_time": "2022-01-12T15:28:37.277Z"
   },
   {
    "duration": 148,
    "start_time": "2022-01-12T15:28:41.010Z"
   },
   {
    "duration": 370,
    "start_time": "2022-01-12T15:28:41.593Z"
   },
   {
    "duration": 81,
    "start_time": "2022-01-12T15:28:42.063Z"
   },
   {
    "duration": 334,
    "start_time": "2022-01-12T15:28:42.478Z"
   },
   {
    "duration": 165,
    "start_time": "2022-01-12T15:28:54.151Z"
   },
   {
    "duration": 472,
    "start_time": "2022-01-12T15:28:54.938Z"
   },
   {
    "duration": 351,
    "start_time": "2022-01-12T15:29:08.072Z"
   },
   {
    "duration": 88,
    "start_time": "2022-01-12T15:29:20.138Z"
   },
   {
    "duration": 354,
    "start_time": "2022-01-12T15:29:27.849Z"
   },
   {
    "duration": 68,
    "start_time": "2022-01-12T15:29:33.596Z"
   },
   {
    "duration": 112,
    "start_time": "2022-01-12T15:29:36.223Z"
   },
   {
    "duration": 145,
    "start_time": "2022-01-12T15:29:52.797Z"
   },
   {
    "duration": 101,
    "start_time": "2022-01-12T15:30:13.785Z"
   },
   {
    "duration": 80,
    "start_time": "2022-01-12T15:30:17.516Z"
   },
   {
    "duration": 105,
    "start_time": "2022-01-12T15:30:20.936Z"
   },
   {
    "duration": 350,
    "start_time": "2022-01-12T15:30:35.651Z"
   },
   {
    "duration": 94,
    "start_time": "2022-01-12T15:30:49.318Z"
   },
   {
    "duration": 103,
    "start_time": "2022-01-12T15:31:05.042Z"
   },
   {
    "duration": 94,
    "start_time": "2022-01-12T15:31:16.688Z"
   },
   {
    "duration": 104,
    "start_time": "2022-01-12T15:31:28.273Z"
   },
   {
    "duration": 120,
    "start_time": "2022-01-12T15:31:33.064Z"
   },
   {
    "duration": 221,
    "start_time": "2022-01-12T15:31:51.701Z"
   },
   {
    "duration": 85,
    "start_time": "2022-01-12T15:31:57.506Z"
   },
   {
    "duration": 85,
    "start_time": "2022-01-12T15:32:02.902Z"
   },
   {
    "duration": 98,
    "start_time": "2022-01-12T15:32:08.301Z"
   },
   {
    "duration": 111,
    "start_time": "2022-01-12T15:32:17.209Z"
   },
   {
    "duration": 102,
    "start_time": "2022-01-12T15:32:37.304Z"
   },
   {
    "duration": 101,
    "start_time": "2022-01-12T15:32:51.954Z"
   },
   {
    "duration": 111,
    "start_time": "2022-01-12T15:32:58.944Z"
   },
   {
    "duration": 362,
    "start_time": "2022-01-12T15:33:08.782Z"
   },
   {
    "duration": 160,
    "start_time": "2022-01-12T15:33:27.602Z"
   },
   {
    "duration": 177,
    "start_time": "2022-01-12T15:33:35.367Z"
   },
   {
    "duration": 92,
    "start_time": "2022-01-12T15:33:49.634Z"
   },
   {
    "duration": 98,
    "start_time": "2022-01-12T15:33:58.271Z"
   },
   {
    "duration": 105,
    "start_time": "2022-01-12T15:34:03.329Z"
   },
   {
    "duration": 109,
    "start_time": "2022-01-12T15:34:15.362Z"
   },
   {
    "duration": 90,
    "start_time": "2022-01-12T15:34:25.561Z"
   },
   {
    "duration": 155,
    "start_time": "2022-01-12T15:35:10.792Z"
   },
   {
    "duration": 120,
    "start_time": "2022-01-12T15:35:52.766Z"
   },
   {
    "duration": 7576,
    "start_time": "2022-01-12T15:36:25.699Z"
   },
   {
    "duration": 7398,
    "start_time": "2022-01-12T15:36:43.067Z"
   },
   {
    "duration": 8093,
    "start_time": "2022-01-12T15:40:16.077Z"
   },
   {
    "duration": 90,
    "start_time": "2022-01-12T15:40:41.705Z"
   },
   {
    "duration": 88,
    "start_time": "2022-01-12T15:40:59.028Z"
   },
   {
    "duration": 7672,
    "start_time": "2022-01-12T15:41:13.162Z"
   },
   {
    "duration": 381,
    "start_time": "2022-01-12T15:45:30.193Z"
   },
   {
    "duration": 75,
    "start_time": "2022-01-12T15:46:22.167Z"
   },
   {
    "duration": 7437,
    "start_time": "2022-01-12T15:46:41.527Z"
   },
   {
    "duration": 80,
    "start_time": "2022-01-12T15:47:48.855Z"
   },
   {
    "duration": 59,
    "start_time": "2022-01-12T15:49:19.789Z"
   },
   {
    "duration": 151,
    "start_time": "2022-01-12T15:50:08.086Z"
   },
   {
    "duration": 149,
    "start_time": "2022-01-12T15:50:19.054Z"
   },
   {
    "duration": 141,
    "start_time": "2022-01-12T15:52:00.147Z"
   },
   {
    "duration": 151,
    "start_time": "2022-01-12T15:52:17.265Z"
   },
   {
    "duration": 149,
    "start_time": "2022-01-12T15:52:34.503Z"
   },
   {
    "duration": 172,
    "start_time": "2022-01-12T15:53:07.865Z"
   },
   {
    "duration": 63,
    "start_time": "2022-01-12T15:54:05.117Z"
   },
   {
    "duration": 100,
    "start_time": "2022-01-12T15:54:44.121Z"
   },
   {
    "duration": 454,
    "start_time": "2022-01-12T15:54:57.960Z"
   },
   {
    "duration": 429,
    "start_time": "2022-01-12T15:55:04.478Z"
   },
   {
    "duration": 155,
    "start_time": "2022-01-12T15:55:14.275Z"
   },
   {
    "duration": 31,
    "start_time": "2022-01-12T15:55:39.522Z"
   },
   {
    "duration": 161,
    "start_time": "2022-01-12T15:55:40.264Z"
   },
   {
    "duration": 126,
    "start_time": "2022-01-12T15:56:21.135Z"
   },
   {
    "duration": 85,
    "start_time": "2022-01-12T15:57:11.720Z"
   },
   {
    "duration": 88,
    "start_time": "2022-01-12T15:57:42.074Z"
   },
   {
    "duration": 83,
    "start_time": "2022-01-12T15:58:06.525Z"
   },
   {
    "duration": 82,
    "start_time": "2022-01-12T15:58:36.257Z"
   },
   {
    "duration": 82,
    "start_time": "2022-01-12T15:58:50.606Z"
   },
   {
    "duration": 8249,
    "start_time": "2022-01-12T15:59:00.223Z"
   },
   {
    "duration": 61,
    "start_time": "2022-01-12T15:59:15.619Z"
   },
   {
    "duration": 9025,
    "start_time": "2022-01-12T15:59:28.472Z"
   },
   {
    "duration": 516,
    "start_time": "2022-01-12T16:00:14.392Z"
   },
   {
    "duration": 98,
    "start_time": "2022-01-12T16:00:14.911Z"
   },
   {
    "duration": 141,
    "start_time": "2022-01-12T16:00:15.358Z"
   },
   {
    "duration": 80,
    "start_time": "2022-01-12T16:00:15.937Z"
   },
   {
    "duration": 84,
    "start_time": "2022-01-12T16:00:16.507Z"
   },
   {
    "duration": 65,
    "start_time": "2022-01-12T16:00:16.708Z"
   },
   {
    "duration": 8772,
    "start_time": "2022-01-12T16:00:17.095Z"
   },
   {
    "duration": -188292,
    "start_time": "2022-01-12T16:03:34.162Z"
   },
   {
    "duration": 66,
    "start_time": "2022-01-12T16:01:19.500Z"
   },
   {
    "duration": 146,
    "start_time": "2022-01-12T16:02:38.366Z"
   },
   {
    "duration": 80,
    "start_time": "2022-01-12T16:03:17.695Z"
   },
   {
    "duration": 64,
    "start_time": "2022-01-12T16:03:26.320Z"
   },
   {
    "duration": 8822,
    "start_time": "2022-01-12T16:03:30.406Z"
   },
   {
    "duration": 119,
    "start_time": "2022-01-12T16:06:30.866Z"
   },
   {
    "duration": 61,
    "start_time": "2022-01-12T16:07:24.229Z"
   },
   {
    "duration": 64,
    "start_time": "2022-01-12T16:08:16.004Z"
   },
   {
    "duration": 58,
    "start_time": "2022-01-12T16:08:37.671Z"
   },
   {
    "duration": 15089,
    "start_time": "2022-01-12T16:10:38.937Z"
   },
   {
    "duration": 89,
    "start_time": "2022-01-12T16:11:46.234Z"
   },
   {
    "duration": 90,
    "start_time": "2022-01-12T16:11:56.406Z"
   },
   {
    "duration": 94,
    "start_time": "2022-01-12T16:12:44.589Z"
   },
   {
    "duration": 90,
    "start_time": "2022-01-12T16:13:15.631Z"
   },
   {
    "duration": 63,
    "start_time": "2022-01-12T16:13:54.163Z"
   },
   {
    "duration": 64,
    "start_time": "2022-01-12T16:14:03.929Z"
   },
   {
    "duration": 64,
    "start_time": "2022-01-12T16:14:47.229Z"
   },
   {
    "duration": 11753,
    "start_time": "2022-01-12T16:15:12.704Z"
   },
   {
    "duration": 65,
    "start_time": "2022-01-12T16:15:44.370Z"
   },
   {
    "duration": 11732,
    "start_time": "2022-01-12T16:15:44.923Z"
   },
   {
    "duration": 212,
    "start_time": "2022-01-12T16:16:08.717Z"
   },
   {
    "duration": 310,
    "start_time": "2022-01-12T16:17:42.377Z"
   },
   {
    "duration": 9276,
    "start_time": "2022-01-12T16:17:57.273Z"
   },
   {
    "duration": 505,
    "start_time": "2022-01-12T16:18:54.195Z"
   },
   {
    "duration": 104,
    "start_time": "2022-01-12T16:18:54.703Z"
   },
   {
    "duration": 95,
    "start_time": "2022-01-12T16:18:55.159Z"
   },
   {
    "duration": 64,
    "start_time": "2022-01-12T16:18:55.780Z"
   },
   {
    "duration": 66,
    "start_time": "2022-01-12T16:18:56.416Z"
   },
   {
    "duration": 353,
    "start_time": "2022-01-12T16:18:56.676Z"
   },
   {
    "duration": -188322,
    "start_time": "2022-01-12T16:22:05.353Z"
   },
   {
    "duration": 3,
    "start_time": "2022-01-12T16:18:57.254Z"
   },
   {
    "duration": 540,
    "start_time": "2022-01-12T16:19:33.416Z"
   },
   {
    "duration": 327,
    "start_time": "2022-01-12T16:19:43.219Z"
   },
   {
    "duration": 359,
    "start_time": "2022-01-12T16:20:38.385Z"
   },
   {
    "duration": 48,
    "start_time": "2022-01-12T16:21:02.572Z"
   },
   {
    "duration": 330,
    "start_time": "2022-01-12T16:21:20.755Z"
   },
   {
    "duration": 493,
    "start_time": "2022-01-12T16:21:33.210Z"
   },
   {
    "duration": 100,
    "start_time": "2022-01-12T16:21:33.706Z"
   },
   {
    "duration": 96,
    "start_time": "2022-01-12T16:21:35.128Z"
   },
   {
    "duration": 100,
    "start_time": "2022-01-12T16:21:40.904Z"
   },
   {
    "duration": 66,
    "start_time": "2022-01-12T16:21:42.540Z"
   },
   {
    "duration": 61,
    "start_time": "2022-01-12T16:21:51.954Z"
   },
   {
    "duration": 69,
    "start_time": "2022-01-12T16:21:53.867Z"
   },
   {
    "duration": 395,
    "start_time": "2022-01-12T16:22:30.097Z"
   },
   {
    "duration": 64,
    "start_time": "2022-01-12T16:22:50.156Z"
   },
   {
    "duration": 60,
    "start_time": "2022-01-12T16:23:04.770Z"
   },
   {
    "duration": 9593,
    "start_time": "2022-01-12T16:23:33.658Z"
   },
   {
    "duration": 59,
    "start_time": "2022-01-12T16:24:06.995Z"
   },
   {
    "duration": 8673,
    "start_time": "2022-01-12T16:24:11.345Z"
   },
   {
    "duration": 71,
    "start_time": "2022-01-12T16:27:25.565Z"
   },
   {
    "duration": 75,
    "start_time": "2022-01-12T16:27:45.456Z"
   },
   {
    "duration": 74,
    "start_time": "2022-01-12T16:29:09.724Z"
   },
   {
    "duration": 8452,
    "start_time": "2022-01-12T16:29:39.093Z"
   },
   {
    "duration": 9279,
    "start_time": "2022-01-12T16:29:57.560Z"
   },
   {
    "duration": 78,
    "start_time": "2022-01-12T16:30:25.513Z"
   },
   {
    "duration": 51,
    "start_time": "2022-01-12T16:30:53.478Z"
   },
   {
    "duration": 3767,
    "start_time": "2022-01-12T16:31:02.809Z"
   },
   {
    "duration": 511,
    "start_time": "2022-01-12T16:31:19.567Z"
   },
   {
    "duration": 107,
    "start_time": "2022-01-12T16:31:20.081Z"
   },
   {
    "duration": 91,
    "start_time": "2022-01-12T16:31:20.737Z"
   },
   {
    "duration": 61,
    "start_time": "2022-01-12T16:31:21.476Z"
   },
   {
    "duration": 66,
    "start_time": "2022-01-12T16:31:22.247Z"
   },
   {
    "duration": 61,
    "start_time": "2022-01-12T16:31:22.512Z"
   },
   {
    "duration": 79,
    "start_time": "2022-01-12T16:31:23.089Z"
   },
   {
    "duration": 78,
    "start_time": "2022-01-12T16:42:16.625Z"
   },
   {
    "duration": 29,
    "start_time": "2022-01-12T16:43:36.309Z"
   },
   {
    "duration": 17,
    "start_time": "2022-01-12T16:44:42.026Z"
   },
   {
    "duration": 17,
    "start_time": "2022-01-12T16:44:55.318Z"
   },
   {
    "duration": 31,
    "start_time": "2022-01-12T16:45:06.591Z"
   },
   {
    "duration": 35,
    "start_time": "2022-01-12T16:45:27.341Z"
   },
   {
    "duration": 49,
    "start_time": "2022-01-12T16:45:42.771Z"
   },
   {
    "duration": 18,
    "start_time": "2022-01-12T16:45:56.422Z"
   },
   {
    "duration": 92,
    "start_time": "2022-01-12T16:46:14.508Z"
   },
   {
    "duration": 13,
    "start_time": "2022-01-12T16:46:53.259Z"
   },
   {
    "duration": 13,
    "start_time": "2022-01-12T16:47:02.478Z"
   },
   {
    "duration": 13,
    "start_time": "2022-01-12T16:47:13.973Z"
   },
   {
    "duration": 526,
    "start_time": "2022-01-12T16:47:19.922Z"
   },
   {
    "duration": 154,
    "start_time": "2022-01-12T16:47:20.451Z"
   },
   {
    "duration": 93,
    "start_time": "2022-01-12T16:47:20.804Z"
   },
   {
    "duration": 61,
    "start_time": "2022-01-12T16:47:21.343Z"
   },
   {
    "duration": 66,
    "start_time": "2022-01-12T16:47:21.911Z"
   },
   {
    "duration": 65,
    "start_time": "2022-01-12T16:47:22.100Z"
   },
   {
    "duration": 111,
    "start_time": "2022-01-12T16:47:22.970Z"
   },
   {
    "duration": 29,
    "start_time": "2022-01-12T16:47:23.711Z"
   },
   {
    "duration": 12,
    "start_time": "2022-01-12T16:47:34.294Z"
   },
   {
    "duration": 504,
    "start_time": "2022-01-12T16:47:38.161Z"
   },
   {
    "duration": 110,
    "start_time": "2022-01-12T16:47:38.669Z"
   },
   {
    "duration": 100,
    "start_time": "2022-01-12T16:47:39.049Z"
   },
   {
    "duration": 72,
    "start_time": "2022-01-12T16:47:39.595Z"
   },
   {
    "duration": 68,
    "start_time": "2022-01-12T16:47:40.501Z"
   },
   {
    "duration": 59,
    "start_time": "2022-01-12T16:47:40.919Z"
   },
   {
    "duration": 109,
    "start_time": "2022-01-12T16:47:42.238Z"
   },
   {
    "duration": 32,
    "start_time": "2022-01-12T16:47:42.692Z"
   },
   {
    "duration": 13,
    "start_time": "2022-01-12T16:47:48.679Z"
   },
   {
    "duration": 129,
    "start_time": "2022-01-12T18:29:18.293Z"
   },
   {
    "duration": 94,
    "start_time": "2022-01-12T18:29:36.714Z"
   },
   {
    "duration": 4234,
    "start_time": "2022-01-12T18:30:55.556Z"
   },
   {
    "duration": 92,
    "start_time": "2022-01-12T18:31:10.282Z"
   },
   {
    "duration": 104,
    "start_time": "2022-01-12T18:33:11.844Z"
   },
   {
    "duration": 62,
    "start_time": "2022-01-12T18:33:26.601Z"
   },
   {
    "duration": 306,
    "start_time": "2022-01-12T18:34:13.100Z"
   },
   {
    "duration": 103,
    "start_time": "2022-01-12T18:34:25.073Z"
   },
   {
    "duration": 109,
    "start_time": "2022-01-12T18:38:06.349Z"
   },
   {
    "duration": 99,
    "start_time": "2022-01-12T18:38:24.493Z"
   },
   {
    "duration": 11,
    "start_time": "2022-01-12T18:39:15.903Z"
   },
   {
    "duration": 10,
    "start_time": "2022-01-12T18:40:09.913Z"
   },
   {
    "duration": 14,
    "start_time": "2022-01-12T18:40:21.383Z"
   },
   {
    "duration": 83,
    "start_time": "2022-01-12T18:40:33.275Z"
   },
   {
    "duration": 521,
    "start_time": "2022-01-12T18:40:39.443Z"
   },
   {
    "duration": 107,
    "start_time": "2022-01-12T18:40:39.967Z"
   },
   {
    "duration": 92,
    "start_time": "2022-01-12T18:40:40.338Z"
   },
   {
    "duration": 65,
    "start_time": "2022-01-12T18:40:40.869Z"
   },
   {
    "duration": 88,
    "start_time": "2022-01-12T18:40:41.389Z"
   },
   {
    "duration": 59,
    "start_time": "2022-01-12T18:40:41.597Z"
   },
   {
    "duration": 9187,
    "start_time": "2022-01-12T18:40:41.934Z"
   },
   {
    "duration": -188299,
    "start_time": "2022-01-12T18:43:59.423Z"
   },
   {
    "duration": 38,
    "start_time": "2022-01-12T18:41:16.717Z"
   },
   {
    "duration": 9151,
    "start_time": "2022-01-12T18:41:19.740Z"
   },
   {
    "duration": -188221,
    "start_time": "2022-01-12T18:44:37.115Z"
   },
   {
    "duration": 528,
    "start_time": "2022-01-12T18:41:44.852Z"
   },
   {
    "duration": 125,
    "start_time": "2022-01-12T18:41:45.383Z"
   },
   {
    "duration": 108,
    "start_time": "2022-01-12T18:41:45.788Z"
   },
   {
    "duration": 64,
    "start_time": "2022-01-12T18:41:46.320Z"
   },
   {
    "duration": 68,
    "start_time": "2022-01-12T18:41:46.926Z"
   },
   {
    "duration": 39,
    "start_time": "2022-01-12T18:41:47.160Z"
   },
   {
    "duration": 8847,
    "start_time": "2022-01-12T18:41:48.180Z"
   },
   {
    "duration": -188299,
    "start_time": "2022-01-12T18:45:05.330Z"
   },
   {
    "duration": 8927,
    "start_time": "2022-01-12T18:41:58.520Z"
   },
   {
    "duration": 135,
    "start_time": "2022-01-12T18:43:55.061Z"
   },
   {
    "duration": 498,
    "start_time": "2022-01-12T18:44:02.197Z"
   },
   {
    "duration": 114,
    "start_time": "2022-01-12T18:44:02.698Z"
   },
   {
    "duration": 98,
    "start_time": "2022-01-12T18:44:03.043Z"
   },
   {
    "duration": 76,
    "start_time": "2022-01-12T18:44:03.571Z"
   },
   {
    "duration": 67,
    "start_time": "2022-01-12T18:44:04.101Z"
   },
   {
    "duration": 39,
    "start_time": "2022-01-12T18:44:04.289Z"
   },
   {
    "duration": 137,
    "start_time": "2022-01-12T18:44:04.668Z"
   },
   {
    "duration": 12,
    "start_time": "2022-01-12T18:44:04.869Z"
   },
   {
    "duration": 347,
    "start_time": "2022-01-12T18:44:21.358Z"
   },
   {
    "duration": 100,
    "start_time": "2022-01-12T18:44:31.548Z"
   },
   {
    "duration": 9433,
    "start_time": "2022-01-12T18:44:51.109Z"
   },
   {
    "duration": 102,
    "start_time": "2022-01-12T18:45:11.606Z"
   },
   {
    "duration": 98,
    "start_time": "2022-01-12T18:47:30.142Z"
   },
   {
    "duration": 95,
    "start_time": "2022-01-12T18:47:38.043Z"
   },
   {
    "duration": 116,
    "start_time": "2022-01-12T18:49:39.502Z"
   },
   {
    "duration": 98,
    "start_time": "2022-01-12T18:51:14.623Z"
   },
   {
    "duration": 99,
    "start_time": "2022-01-12T18:51:36.083Z"
   },
   {
    "duration": 139,
    "start_time": "2022-01-12T18:51:42.947Z"
   },
   {
    "duration": 111,
    "start_time": "2022-01-12T18:51:50.196Z"
   },
   {
    "duration": 9,
    "start_time": "2022-01-12T18:51:58.623Z"
   },
   {
    "duration": -188268,
    "start_time": "2022-01-12T18:55:25.646Z"
   },
   {
    "duration": 8837,
    "start_time": "2022-01-12T18:52:43.755Z"
   },
   {
    "duration": -188203,
    "start_time": "2022-01-12T18:56:00.799Z"
   },
   {
    "duration": -188258,
    "start_time": "2022-01-12T18:56:00.856Z"
   },
   {
    "duration": -188327,
    "start_time": "2022-01-12T18:56:00.927Z"
   },
   {
    "duration": -188335,
    "start_time": "2022-01-12T18:56:00.937Z"
   },
   {
    "duration": 69,
    "start_time": "2022-01-12T18:52:53.417Z"
   },
   {
    "duration": 54,
    "start_time": "2022-01-12T18:52:54.574Z"
   },
   {
    "duration": 9799,
    "start_time": "2022-01-12T18:52:55.464Z"
   },
   {
    "duration": -188272,
    "start_time": "2022-01-12T18:56:13.538Z"
   },
   {
    "duration": 92,
    "start_time": "2022-01-12T18:53:08.133Z"
   },
   {
    "duration": 62,
    "start_time": "2022-01-12T18:53:09.906Z"
   },
   {
    "duration": 82,
    "start_time": "2022-01-12T18:53:11.515Z"
   },
   {
    "duration": 50,
    "start_time": "2022-01-12T18:53:11.960Z"
   },
   {
    "duration": 8843,
    "start_time": "2022-01-12T18:53:12.985Z"
   },
   {
    "duration": 4190,
    "start_time": "2022-01-12T18:55:46.244Z"
   },
   {
    "duration": 107,
    "start_time": "2022-01-12T18:57:07.284Z"
   },
   {
    "duration": 100,
    "start_time": "2022-01-12T18:57:18.496Z"
   },
   {
    "duration": 103,
    "start_time": "2022-01-12T18:57:39.268Z"
   },
   {
    "duration": 92,
    "start_time": "2022-01-12T18:58:22.860Z"
   },
   {
    "duration": 50,
    "start_time": "2022-01-12T19:05:10.217Z"
   },
   {
    "duration": 330,
    "start_time": "2022-01-12T19:05:28.304Z"
   },
   {
    "duration": 65,
    "start_time": "2022-01-12T19:05:57.068Z"
   },
   {
    "duration": 103,
    "start_time": "2022-01-12T19:06:07.879Z"
   },
   {
    "duration": 245,
    "start_time": "2022-01-12T19:06:11.965Z"
   },
   {
    "duration": 68,
    "start_time": "2022-01-12T19:06:49.519Z"
   },
   {
    "duration": 24,
    "start_time": "2022-01-12T19:08:27.540Z"
   },
   {
    "duration": 53,
    "start_time": "2022-01-12T19:09:55.864Z"
   },
   {
    "duration": 446,
    "start_time": "2022-01-12T19:10:31.526Z"
   },
   {
    "duration": 563,
    "start_time": "2022-01-12T19:10:42.369Z"
   },
   {
    "duration": 497,
    "start_time": "2022-01-12T19:10:54.051Z"
   },
   {
    "duration": 193,
    "start_time": "2022-01-12T19:11:08.663Z"
   },
   {
    "duration": 487,
    "start_time": "2022-01-12T19:11:14.115Z"
   },
   {
    "duration": 99,
    "start_time": "2022-01-12T19:11:14.605Z"
   },
   {
    "duration": 95,
    "start_time": "2022-01-12T19:11:15.019Z"
   },
   {
    "duration": 61,
    "start_time": "2022-01-12T19:11:15.540Z"
   },
   {
    "duration": 65,
    "start_time": "2022-01-12T19:11:16.095Z"
   },
   {
    "duration": 51,
    "start_time": "2022-01-12T19:11:16.300Z"
   },
   {
    "duration": 253,
    "start_time": "2022-01-12T19:11:16.702Z"
   },
   {
    "duration": 12,
    "start_time": "2022-01-12T19:11:16.967Z"
   },
   {
    "duration": 769,
    "start_time": "2022-01-12T19:12:46.007Z"
   },
   {
    "duration": 172,
    "start_time": "2022-01-12T19:12:46.780Z"
   },
   {
    "duration": 156,
    "start_time": "2022-01-12T19:12:46.993Z"
   },
   {
    "duration": 64,
    "start_time": "2022-01-12T19:12:47.676Z"
   },
   {
    "duration": 69,
    "start_time": "2022-01-12T19:12:48.354Z"
   },
   {
    "duration": 52,
    "start_time": "2022-01-12T19:12:48.554Z"
   },
   {
    "duration": 202,
    "start_time": "2022-01-12T19:12:48.962Z"
   },
   {
    "duration": 11,
    "start_time": "2022-01-12T19:12:49.168Z"
   },
   {
    "duration": 15,
    "start_time": "2022-01-12T19:12:50.118Z"
   },
   {
    "duration": 14,
    "start_time": "2022-01-12T19:13:23.163Z"
   },
   {
    "duration": 247,
    "start_time": "2022-01-12T19:13:34.091Z"
   },
   {
    "duration": 211,
    "start_time": "2022-01-12T19:13:49.410Z"
   },
   {
    "duration": 478,
    "start_time": "2022-01-12T19:31:27.372Z"
   },
   {
    "duration": 100,
    "start_time": "2022-01-12T19:31:27.853Z"
   },
   {
    "duration": 92,
    "start_time": "2022-01-12T19:31:28.547Z"
   },
   {
    "duration": 62,
    "start_time": "2022-01-12T19:31:29.275Z"
   },
   {
    "duration": 68,
    "start_time": "2022-01-12T19:31:29.948Z"
   },
   {
    "duration": 56,
    "start_time": "2022-01-12T19:31:30.210Z"
   },
   {
    "duration": 174,
    "start_time": "2022-01-12T19:31:31.346Z"
   },
   {
    "duration": 13,
    "start_time": "2022-01-12T19:31:34.992Z"
   },
   {
    "duration": 196,
    "start_time": "2022-01-12T19:31:53.118Z"
   },
   {
    "duration": 262,
    "start_time": "2022-01-13T09:15:13.773Z"
   },
   {
    "duration": 1017,
    "start_time": "2022-01-13T09:15:19.310Z"
   },
   {
    "duration": 94,
    "start_time": "2022-01-13T09:15:20.329Z"
   },
   {
    "duration": 80,
    "start_time": "2022-01-13T09:15:21.177Z"
   },
   {
    "duration": 49,
    "start_time": "2022-01-13T09:15:22.521Z"
   },
   {
    "duration": 56,
    "start_time": "2022-01-13T09:15:23.661Z"
   },
   {
    "duration": 34,
    "start_time": "2022-01-13T09:15:24.121Z"
   },
   {
    "duration": 126,
    "start_time": "2022-01-13T09:15:25.030Z"
   },
   {
    "duration": 238,
    "start_time": "2022-01-13T09:15:25.489Z"
   },
   {
    "duration": 123,
    "start_time": "2022-01-13T09:16:07.498Z"
   },
   {
    "duration": 248,
    "start_time": "2022-01-13T09:23:36.531Z"
   },
   {
    "duration": 121,
    "start_time": "2022-01-13T09:23:57.817Z"
   },
   {
    "duration": 216,
    "start_time": "2022-01-13T09:23:58.696Z"
   },
   {
    "duration": 522,
    "start_time": "2022-01-13T09:24:16.491Z"
   },
   {
    "duration": 92,
    "start_time": "2022-01-13T09:24:17.016Z"
   },
   {
    "duration": 87,
    "start_time": "2022-01-13T09:24:17.446Z"
   },
   {
    "duration": 52,
    "start_time": "2022-01-13T09:24:18.070Z"
   },
   {
    "duration": 64,
    "start_time": "2022-01-13T09:24:18.719Z"
   },
   {
    "duration": 43,
    "start_time": "2022-01-13T09:24:18.938Z"
   },
   {
    "duration": 136,
    "start_time": "2022-01-13T09:24:19.411Z"
   },
   {
    "duration": 214,
    "start_time": "2022-01-13T09:24:19.647Z"
   },
   {
    "duration": 5,
    "start_time": "2022-01-13T09:25:50.428Z"
   },
   {
    "duration": 6,
    "start_time": "2022-01-13T09:26:24.016Z"
   },
   {
    "duration": 130,
    "start_time": "2022-01-13T09:27:02.192Z"
   },
   {
    "duration": 8,
    "start_time": "2022-01-13T09:27:10.881Z"
   },
   {
    "duration": 5,
    "start_time": "2022-01-13T09:27:44.693Z"
   },
   {
    "duration": 141,
    "start_time": "2022-01-13T09:27:55.759Z"
   },
   {
    "duration": 6,
    "start_time": "2022-01-13T09:27:55.984Z"
   },
   {
    "duration": 501,
    "start_time": "2022-01-13T09:28:10.137Z"
   },
   {
    "duration": 85,
    "start_time": "2022-01-13T09:28:10.640Z"
   },
   {
    "duration": 88,
    "start_time": "2022-01-13T09:28:11.029Z"
   },
   {
    "duration": 45,
    "start_time": "2022-01-13T09:28:11.584Z"
   },
   {
    "duration": 63,
    "start_time": "2022-01-13T09:28:12.143Z"
   },
   {
    "duration": 33,
    "start_time": "2022-01-13T09:28:12.329Z"
   },
   {
    "duration": 132,
    "start_time": "2022-01-13T09:28:12.892Z"
   },
   {
    "duration": 4,
    "start_time": "2022-01-13T09:28:13.333Z"
   },
   {
    "duration": 231,
    "start_time": "2022-01-13T12:57:27.116Z"
   },
   {
    "duration": 9,
    "start_time": "2022-01-13T12:57:57.018Z"
   },
   {
    "duration": 12,
    "start_time": "2022-01-13T12:58:08.494Z"
   },
   {
    "duration": 19,
    "start_time": "2022-01-13T12:58:38.645Z"
   },
   {
    "duration": 19,
    "start_time": "2022-01-13T12:58:46.095Z"
   },
   {
    "duration": 19,
    "start_time": "2022-01-13T12:58:56.130Z"
   },
   {
    "duration": 28,
    "start_time": "2022-01-13T13:00:37.952Z"
   },
   {
    "duration": 21,
    "start_time": "2022-01-13T13:01:06.435Z"
   },
   {
    "duration": 31,
    "start_time": "2022-01-13T13:01:20.356Z"
   },
   {
    "duration": 30,
    "start_time": "2022-01-13T13:01:51.893Z"
   },
   {
    "duration": 19,
    "start_time": "2022-01-13T13:03:04.359Z"
   },
   {
    "duration": 21,
    "start_time": "2022-01-13T13:03:19.060Z"
   },
   {
    "duration": 18,
    "start_time": "2022-01-13T13:03:26.299Z"
   },
   {
    "duration": 21,
    "start_time": "2022-01-13T13:03:36.786Z"
   },
   {
    "duration": 23,
    "start_time": "2022-01-13T13:03:54.271Z"
   },
   {
    "duration": 21,
    "start_time": "2022-01-13T13:04:11.161Z"
   },
   {
    "duration": 33,
    "start_time": "2022-01-13T13:06:08.662Z"
   },
   {
    "duration": 44,
    "start_time": "2022-01-13T13:07:10.278Z"
   },
   {
    "duration": 33,
    "start_time": "2022-01-13T13:07:32.144Z"
   },
   {
    "duration": 35,
    "start_time": "2022-01-13T13:08:06.854Z"
   },
   {
    "duration": 30,
    "start_time": "2022-01-13T13:08:20.379Z"
   },
   {
    "duration": 255,
    "start_time": "2022-01-13T13:10:14.016Z"
   },
   {
    "duration": 33,
    "start_time": "2022-01-13T13:10:55.162Z"
   },
   {
    "duration": 37,
    "start_time": "2022-01-13T13:12:16.660Z"
   },
   {
    "duration": 33,
    "start_time": "2022-01-13T13:12:37.463Z"
   },
   {
    "duration": 33,
    "start_time": "2022-01-13T13:12:55.981Z"
   },
   {
    "duration": 15,
    "start_time": "2022-01-13T13:13:56.271Z"
   },
   {
    "duration": 28,
    "start_time": "2022-01-13T13:14:24.874Z"
   },
   {
    "duration": 18,
    "start_time": "2022-01-13T13:14:45.842Z"
   },
   {
    "duration": 19,
    "start_time": "2022-01-13T13:15:02.411Z"
   },
   {
    "duration": 21,
    "start_time": "2022-01-13T13:15:20.874Z"
   },
   {
    "duration": 23,
    "start_time": "2022-01-13T13:15:33.704Z"
   },
   {
    "duration": 242,
    "start_time": "2022-01-13T13:15:51.052Z"
   },
   {
    "duration": 23,
    "start_time": "2022-01-13T13:16:08.605Z"
   },
   {
    "duration": 22,
    "start_time": "2022-01-13T13:16:47.927Z"
   },
   {
    "duration": 17,
    "start_time": "2022-01-13T13:19:28.376Z"
   },
   {
    "duration": 18,
    "start_time": "2022-01-13T13:21:06.376Z"
   },
   {
    "duration": 19,
    "start_time": "2022-01-13T13:22:12.311Z"
   },
   {
    "duration": 20,
    "start_time": "2022-01-13T13:22:40.421Z"
   },
   {
    "duration": 82,
    "start_time": "2022-01-13T13:23:06.703Z"
   },
   {
    "duration": 20,
    "start_time": "2022-01-13T13:23:32.508Z"
   },
   {
    "duration": 21,
    "start_time": "2022-01-13T13:40:52.816Z"
   },
   {
    "duration": 20,
    "start_time": "2022-01-13T13:41:25.498Z"
   },
   {
    "duration": 22,
    "start_time": "2022-01-13T13:42:44.687Z"
   },
   {
    "duration": 21,
    "start_time": "2022-01-13T13:44:20.121Z"
   },
   {
    "duration": 19,
    "start_time": "2022-01-13T13:49:26.131Z"
   },
   {
    "duration": 18,
    "start_time": "2022-01-13T13:49:55.347Z"
   },
   {
    "duration": 24,
    "start_time": "2022-01-13T14:16:02.064Z"
   },
   {
    "duration": 20,
    "start_time": "2022-01-13T14:16:11.750Z"
   },
   {
    "duration": 21,
    "start_time": "2022-01-13T14:19:45.147Z"
   },
   {
    "duration": 23,
    "start_time": "2022-01-13T14:20:07.357Z"
   },
   {
    "duration": 21,
    "start_time": "2022-01-13T14:20:28.131Z"
   },
   {
    "duration": 32,
    "start_time": "2022-01-13T14:20:38.648Z"
   },
   {
    "duration": 23,
    "start_time": "2022-01-13T14:21:15.674Z"
   },
   {
    "duration": 20,
    "start_time": "2022-01-13T14:21:25.602Z"
   },
   {
    "duration": 20,
    "start_time": "2022-01-13T14:21:39.780Z"
   },
   {
    "duration": 21,
    "start_time": "2022-01-13T14:22:04.013Z"
   },
   {
    "duration": 20,
    "start_time": "2022-01-13T14:22:19.874Z"
   },
   {
    "duration": 17,
    "start_time": "2022-01-13T14:23:15.734Z"
   },
   {
    "duration": 111,
    "start_time": "2022-01-13T14:23:26.448Z"
   },
   {
    "duration": 24,
    "start_time": "2022-01-13T14:23:39.411Z"
   },
   {
    "duration": 59,
    "start_time": "2022-01-13T14:23:51.840Z"
   },
   {
    "duration": 114,
    "start_time": "2022-01-13T14:24:37.391Z"
   },
   {
    "duration": 20,
    "start_time": "2022-01-13T14:27:06.002Z"
   },
   {
    "duration": 21,
    "start_time": "2022-01-13T14:29:51.701Z"
   },
   {
    "duration": 21,
    "start_time": "2022-01-13T14:33:59.406Z"
   },
   {
    "duration": 21,
    "start_time": "2022-01-13T14:35:54.097Z"
   },
   {
    "duration": 14,
    "start_time": "2022-01-13T14:38:13.623Z"
   },
   {
    "duration": 12,
    "start_time": "2022-01-13T14:38:30.236Z"
   },
   {
    "duration": 334,
    "start_time": "2022-01-13T14:39:16.798Z"
   },
   {
    "duration": 974,
    "start_time": "2022-01-14T12:03:36.102Z"
   },
   {
    "duration": 73,
    "start_time": "2022-01-14T12:03:37.078Z"
   },
   {
    "duration": 71,
    "start_time": "2022-01-14T12:03:38.666Z"
   },
   {
    "duration": 48,
    "start_time": "2022-01-14T12:03:40.705Z"
   },
   {
    "duration": 45,
    "start_time": "2022-01-14T12:03:42.149Z"
   },
   {
    "duration": 21,
    "start_time": "2022-01-14T12:03:42.706Z"
   },
   {
    "duration": 93,
    "start_time": "2022-01-14T12:03:44.032Z"
   },
   {
    "duration": 12,
    "start_time": "2022-01-14T12:03:45.004Z"
   },
   {
    "duration": 11,
    "start_time": "2022-01-14T12:03:45.849Z"
   },
   {
    "duration": 14,
    "start_time": "2022-01-14T12:03:46.662Z"
   },
   {
    "duration": 10,
    "start_time": "2022-01-14T12:03:47.570Z"
   },
   {
    "duration": 10,
    "start_time": "2022-01-14T12:03:48.421Z"
   },
   {
    "duration": 10,
    "start_time": "2022-01-14T12:03:49.921Z"
   },
   {
    "duration": 9,
    "start_time": "2022-01-14T12:03:50.290Z"
   },
   {
    "duration": 217,
    "start_time": "2022-01-14T12:04:22.593Z"
   },
   {
    "duration": 1971,
    "start_time": "2022-01-14T12:05:23.819Z"
   },
   {
    "duration": 1870,
    "start_time": "2022-01-14T12:05:57.175Z"
   },
   {
    "duration": 212,
    "start_time": "2022-01-14T12:09:12.808Z"
   },
   {
    "duration": 208,
    "start_time": "2022-01-14T12:09:35.993Z"
   },
   {
    "duration": 221,
    "start_time": "2022-01-14T12:09:42.808Z"
   },
   {
    "duration": 217,
    "start_time": "2022-01-14T12:09:49.985Z"
   },
   {
    "duration": 213,
    "start_time": "2022-01-14T12:09:53.639Z"
   },
   {
    "duration": 229,
    "start_time": "2022-01-14T12:09:59.429Z"
   },
   {
    "duration": 225,
    "start_time": "2022-01-14T12:10:05.727Z"
   },
   {
    "duration": 220,
    "start_time": "2022-01-14T12:10:12.158Z"
   },
   {
    "duration": 293,
    "start_time": "2022-01-14T12:10:18.507Z"
   },
   {
    "duration": 213,
    "start_time": "2022-01-14T12:11:18.318Z"
   },
   {
    "duration": 224,
    "start_time": "2022-01-14T12:11:58.173Z"
   },
   {
    "duration": 243,
    "start_time": "2022-01-14T12:12:17.198Z"
   },
   {
    "duration": 248,
    "start_time": "2022-01-14T12:14:04.469Z"
   },
   {
    "duration": 251,
    "start_time": "2022-01-14T12:14:13.001Z"
   },
   {
    "duration": 248,
    "start_time": "2022-01-14T12:14:22.524Z"
   },
   {
    "duration": 343,
    "start_time": "2022-01-14T12:17:57.966Z"
   },
   {
    "duration": 526,
    "start_time": "2022-01-14T12:18:22.979Z"
   },
   {
    "duration": 605,
    "start_time": "2022-01-14T12:18:58.231Z"
   },
   {
    "duration": 629,
    "start_time": "2022-01-14T12:19:11.172Z"
   },
   {
    "duration": 258,
    "start_time": "2022-01-14T12:19:17.974Z"
   },
   {
    "duration": 308,
    "start_time": "2022-01-14T12:19:58.884Z"
   },
   {
    "duration": 256,
    "start_time": "2022-01-14T12:20:10.061Z"
   },
   {
    "duration": 255,
    "start_time": "2022-01-14T12:20:23.787Z"
   },
   {
    "duration": 548,
    "start_time": "2022-01-14T12:21:23.800Z"
   },
   {
    "duration": 501,
    "start_time": "2022-01-14T12:21:34.992Z"
   },
   {
    "duration": 248,
    "start_time": "2022-01-14T12:21:52.202Z"
   },
   {
    "duration": 260,
    "start_time": "2022-01-14T12:23:14.261Z"
   },
   {
    "duration": 329,
    "start_time": "2022-01-14T12:23:32.759Z"
   },
   {
    "duration": 250,
    "start_time": "2022-01-14T12:23:42.870Z"
   },
   {
    "duration": 255,
    "start_time": "2022-01-14T12:23:48.599Z"
   },
   {
    "duration": 253,
    "start_time": "2022-01-14T12:23:59.397Z"
   },
   {
    "duration": 297,
    "start_time": "2022-01-14T12:25:34.149Z"
   },
   {
    "duration": 244,
    "start_time": "2022-01-14T12:25:43.208Z"
   },
   {
    "duration": 245,
    "start_time": "2022-01-14T12:25:50.850Z"
   },
   {
    "duration": 274,
    "start_time": "2022-01-14T12:25:55.491Z"
   },
   {
    "duration": 232,
    "start_time": "2022-01-14T12:26:04.497Z"
   },
   {
    "duration": 251,
    "start_time": "2022-01-14T12:26:35.776Z"
   },
   {
    "duration": 318,
    "start_time": "2022-01-14T12:26:38.219Z"
   },
   {
    "duration": 11,
    "start_time": "2022-01-14T12:26:40.613Z"
   },
   {
    "duration": 242,
    "start_time": "2022-01-14T12:28:24.245Z"
   },
   {
    "duration": 307,
    "start_time": "2022-01-14T12:28:36.312Z"
   },
   {
    "duration": 252,
    "start_time": "2022-01-14T12:28:53.303Z"
   },
   {
    "duration": 251,
    "start_time": "2022-01-14T12:30:13.301Z"
   },
   {
    "duration": 555,
    "start_time": "2022-01-14T12:30:39.926Z"
   },
   {
    "duration": 251,
    "start_time": "2022-01-14T12:30:49.647Z"
   },
   {
    "duration": 388,
    "start_time": "2022-01-14T12:31:49.324Z"
   },
   {
    "duration": 389,
    "start_time": "2022-01-14T12:32:09.580Z"
   },
   {
    "duration": 397,
    "start_time": "2022-01-14T12:32:20.855Z"
   },
   {
    "duration": 246,
    "start_time": "2022-01-14T12:32:33.507Z"
   },
   {
    "duration": 340,
    "start_time": "2022-01-14T12:32:58.478Z"
   },
   {
    "duration": 262,
    "start_time": "2022-01-14T12:33:04.858Z"
   },
   {
    "duration": 245,
    "start_time": "2022-01-14T12:34:36.575Z"
   },
   {
    "duration": 251,
    "start_time": "2022-01-14T12:35:02.041Z"
   },
   {
    "duration": 246,
    "start_time": "2022-01-14T12:36:01.009Z"
   },
   {
    "duration": 263,
    "start_time": "2022-01-14T12:36:14.681Z"
   },
   {
    "duration": 249,
    "start_time": "2022-01-14T12:36:22.395Z"
   },
   {
    "duration": 257,
    "start_time": "2022-01-14T12:36:49.935Z"
   },
   {
    "duration": 317,
    "start_time": "2022-01-14T12:36:58.643Z"
   },
   {
    "duration": 256,
    "start_time": "2022-01-14T12:37:00.964Z"
   },
   {
    "duration": 244,
    "start_time": "2022-01-14T12:37:09.651Z"
   },
   {
    "duration": 252,
    "start_time": "2022-01-14T12:37:44.412Z"
   },
   {
    "duration": 353,
    "start_time": "2022-01-14T12:37:51.219Z"
   },
   {
    "duration": 254,
    "start_time": "2022-01-14T12:37:56.772Z"
   },
   {
    "duration": 273,
    "start_time": "2022-01-14T12:38:01.391Z"
   },
   {
    "duration": 245,
    "start_time": "2022-01-14T12:38:20.920Z"
   },
   {
    "duration": 313,
    "start_time": "2022-01-14T12:38:25.075Z"
   },
   {
    "duration": 248,
    "start_time": "2022-01-14T12:38:35.814Z"
   },
   {
    "duration": 341,
    "start_time": "2022-01-14T12:38:55.615Z"
   },
   {
    "duration": 549,
    "start_time": "2022-01-14T12:39:05.418Z"
   },
   {
    "duration": 246,
    "start_time": "2022-01-14T12:39:09.014Z"
   },
   {
    "duration": 268,
    "start_time": "2022-01-14T12:39:29.027Z"
   },
   {
    "duration": 261,
    "start_time": "2022-01-14T12:39:36.021Z"
   },
   {
    "duration": 257,
    "start_time": "2022-01-14T12:39:47.105Z"
   },
   {
    "duration": 259,
    "start_time": "2022-01-14T12:39:55.574Z"
   },
   {
    "duration": 244,
    "start_time": "2022-01-14T12:40:05.365Z"
   },
   {
    "duration": 249,
    "start_time": "2022-01-14T12:40:27.878Z"
   },
   {
    "duration": 337,
    "start_time": "2022-01-14T12:40:40.096Z"
   },
   {
    "duration": 728,
    "start_time": "2022-01-14T12:54:21.217Z"
   },
   {
    "duration": 61,
    "start_time": "2022-01-14T12:54:21.964Z"
   },
   {
    "duration": 62,
    "start_time": "2022-01-14T12:54:22.102Z"
   },
   {
    "duration": 39,
    "start_time": "2022-01-14T12:54:23.924Z"
   },
   {
    "duration": 45,
    "start_time": "2022-01-14T12:54:24.300Z"
   },
   {
    "duration": 21,
    "start_time": "2022-01-14T12:54:24.347Z"
   },
   {
    "duration": 91,
    "start_time": "2022-01-14T12:54:24.478Z"
   },
   {
    "duration": 249,
    "start_time": "2022-01-14T12:54:25.742Z"
   },
   {
    "duration": 255,
    "start_time": "2022-01-14T12:54:27.011Z"
   },
   {
    "duration": 251,
    "start_time": "2022-01-14T12:54:27.268Z"
   },
   {
    "duration": 242,
    "start_time": "2022-01-14T12:54:28.045Z"
   },
   {
    "duration": 321,
    "start_time": "2022-01-14T12:54:28.289Z"
   },
   {
    "duration": 3,
    "start_time": "2022-01-14T12:59:57.193Z"
   },
   {
    "duration": -191080,
    "start_time": "2022-01-14T13:05:14.902Z"
   },
   {
    "duration": 4085,
    "start_time": "2022-01-14T13:02:46.512Z"
   },
   {
    "duration": 473,
    "start_time": "2022-01-14T13:02:56.825Z"
   },
   {
    "duration": 73,
    "start_time": "2022-01-14T13:02:57.382Z"
   },
   {
    "duration": 69,
    "start_time": "2022-01-14T13:02:58.111Z"
   },
   {
    "duration": 46,
    "start_time": "2022-01-14T13:02:58.787Z"
   },
   {
    "duration": 48,
    "start_time": "2022-01-14T13:02:59.534Z"
   },
   {
    "duration": 22,
    "start_time": "2022-01-14T13:02:59.770Z"
   },
   {
    "duration": 98,
    "start_time": "2022-01-14T13:03:00.299Z"
   },
   {
    "duration": 284,
    "start_time": "2022-01-14T13:03:00.782Z"
   },
   {
    "duration": 283,
    "start_time": "2022-01-14T13:03:01.182Z"
   },
   {
    "duration": 286,
    "start_time": "2022-01-14T13:03:01.662Z"
   },
   {
    "duration": 274,
    "start_time": "2022-01-14T13:03:02.120Z"
   },
   {
    "duration": 295,
    "start_time": "2022-01-14T13:03:02.573Z"
   },
   {
    "duration": 276,
    "start_time": "2022-01-14T13:03:03.040Z"
   },
   {
    "duration": 279,
    "start_time": "2022-01-14T13:03:04.277Z"
   },
   {
    "duration": 304,
    "start_time": "2022-01-14T13:03:21.389Z"
   },
   {
    "duration": 349,
    "start_time": "2022-01-14T13:03:48.766Z"
   },
   {
    "duration": 295,
    "start_time": "2022-01-14T13:04:24.487Z"
   },
   {
    "duration": 302,
    "start_time": "2022-01-14T13:05:24.343Z"
   },
   {
    "duration": 575,
    "start_time": "2022-01-14T13:06:15.497Z"
   },
   {
    "duration": 281,
    "start_time": "2022-01-14T13:11:05.593Z"
   },
   {
    "duration": 14,
    "start_time": "2022-01-14T13:11:27.468Z"
   },
   {
    "duration": 5,
    "start_time": "2022-01-14T13:12:19.266Z"
   },
   {
    "duration": 5,
    "start_time": "2022-01-14T13:12:40.562Z"
   },
   {
    "duration": 4,
    "start_time": "2022-01-14T13:12:46.074Z"
   },
   {
    "duration": 8,
    "start_time": "2022-01-14T13:19:26.077Z"
   },
   {
    "duration": 6,
    "start_time": "2022-01-14T13:19:47.163Z"
   },
   {
    "duration": 6,
    "start_time": "2022-01-14T13:20:01.291Z"
   },
   {
    "duration": 5,
    "start_time": "2022-01-14T13:20:14.155Z"
   },
   {
    "duration": 95,
    "start_time": "2022-01-14T13:21:55.253Z"
   },
   {
    "duration": 102,
    "start_time": "2022-01-14T13:22:57.905Z"
   },
   {
    "duration": 121,
    "start_time": "2022-01-14T13:23:16.422Z"
   },
   {
    "duration": -190988,
    "start_time": "2022-01-14T13:29:04.897Z"
   },
   {
    "duration": -191008,
    "start_time": "2022-01-14T13:29:04.918Z"
   },
   {
    "duration": -191011,
    "start_time": "2022-01-14T13:29:04.922Z"
   },
   {
    "duration": 460,
    "start_time": "2022-01-14T13:25:54.283Z"
   },
   {
    "duration": 284,
    "start_time": "2022-01-14T13:25:55.843Z"
   },
   {
    "duration": 287,
    "start_time": "2022-01-14T13:25:57.040Z"
   },
   {
    "duration": 268,
    "start_time": "2022-01-14T13:25:57.787Z"
   },
   {
    "duration": 6,
    "start_time": "2022-01-14T13:25:58.840Z"
   },
   {
    "duration": 6,
    "start_time": "2022-01-14T13:26:03.965Z"
   },
   {
    "duration": 8942,
    "start_time": "2022-01-14T13:26:59.833Z"
   },
   {
    "duration": -191112,
    "start_time": "2022-01-14T13:30:45.185Z"
   },
   {
    "duration": 445,
    "start_time": "2022-01-14T13:27:41.187Z"
   },
   {
    "duration": 76,
    "start_time": "2022-01-14T13:27:41.819Z"
   },
   {
    "duration": 64,
    "start_time": "2022-01-14T13:27:43.159Z"
   },
   {
    "duration": 39,
    "start_time": "2022-01-14T13:27:44.761Z"
   },
   {
    "duration": 51,
    "start_time": "2022-01-14T13:27:46.215Z"
   },
   {
    "duration": 24,
    "start_time": "2022-01-14T13:27:46.852Z"
   },
   {
    "duration": 9474,
    "start_time": "2022-01-14T13:27:47.873Z"
   },
   {
    "duration": -191019,
    "start_time": "2022-01-14T13:31:08.368Z"
   },
   {
    "duration": -191022,
    "start_time": "2022-01-14T13:31:08.372Z"
   },
   {
    "duration": -191027,
    "start_time": "2022-01-14T13:31:08.378Z"
   },
   {
    "duration": -191031,
    "start_time": "2022-01-14T13:31:08.382Z"
   },
   {
    "duration": 292,
    "start_time": "2022-01-14T13:27:57.490Z"
   },
   {
    "duration": 259,
    "start_time": "2022-01-14T13:27:58.262Z"
   },
   {
    "duration": 7,
    "start_time": "2022-01-14T13:27:59.902Z"
   },
   {
    "duration": 126,
    "start_time": "2022-01-14T13:29:02.671Z"
   },
   {
    "duration": 286,
    "start_time": "2022-01-14T13:29:03.732Z"
   },
   {
    "duration": 105,
    "start_time": "2022-01-14T13:30:02.148Z"
   },
   {
    "duration": 103,
    "start_time": "2022-01-14T13:30:11.703Z"
   },
   {
    "duration": 99,
    "start_time": "2022-01-14T13:30:46.012Z"
   },
   {
    "duration": 183,
    "start_time": "2022-01-14T13:30:51.548Z"
   },
   {
    "duration": 103,
    "start_time": "2022-01-14T13:31:29.367Z"
   },
   {
    "duration": 98,
    "start_time": "2022-01-14T13:33:36.729Z"
   },
   {
    "duration": 100,
    "start_time": "2022-01-14T13:33:46.019Z"
   },
   {
    "duration": -191070,
    "start_time": "2022-01-14T13:39:01.488Z"
   },
   {
    "duration": -191073,
    "start_time": "2022-01-14T13:39:01.492Z"
   },
   {
    "duration": -191086,
    "start_time": "2022-01-14T13:39:01.506Z"
   },
   {
    "duration": -191090,
    "start_time": "2022-01-14T13:39:01.510Z"
   },
   {
    "duration": -191131,
    "start_time": "2022-01-14T13:39:01.552Z"
   },
   {
    "duration": -191135,
    "start_time": "2022-01-14T13:39:01.556Z"
   },
   {
    "duration": -191138,
    "start_time": "2022-01-14T13:39:01.560Z"
   },
   {
    "duration": -191140,
    "start_time": "2022-01-14T13:39:01.563Z"
   },
   {
    "duration": -191144,
    "start_time": "2022-01-14T13:39:01.567Z"
   },
   {
    "duration": -191149,
    "start_time": "2022-01-14T13:39:01.573Z"
   },
   {
    "duration": -191152,
    "start_time": "2022-01-14T13:39:01.577Z"
   },
   {
    "duration": -191156,
    "start_time": "2022-01-14T13:39:01.581Z"
   },
   {
    "duration": 46,
    "start_time": "2022-01-14T13:35:51.816Z"
   },
   {
    "duration": 24,
    "start_time": "2022-01-14T13:35:56.014Z"
   },
   {
    "duration": 61,
    "start_time": "2022-01-14T13:35:56.539Z"
   },
   {
    "duration": 46,
    "start_time": "2022-01-14T13:35:57.118Z"
   },
   {
    "duration": 81,
    "start_time": "2022-01-14T13:35:57.677Z"
   },
   {
    "duration": 22,
    "start_time": "2022-01-14T13:35:57.860Z"
   },
   {
    "duration": 13070,
    "start_time": "2022-01-14T13:35:58.294Z"
   },
   {
    "duration": -191004,
    "start_time": "2022-01-14T13:39:22.371Z"
   },
   {
    "duration": -191013,
    "start_time": "2022-01-14T13:39:22.380Z"
   },
   {
    "duration": -191017,
    "start_time": "2022-01-14T13:39:22.385Z"
   },
   {
    "duration": 129,
    "start_time": "2022-01-14T13:36:11.873Z"
   },
   {
    "duration": 7577,
    "start_time": "2022-01-14T13:38:34.310Z"
   },
   {
    "duration": 148,
    "start_time": "2022-01-14T13:39:12.488Z"
   },
   {
    "duration": 25,
    "start_time": "2022-01-14T13:41:32.267Z"
   },
   {
    "duration": 294,
    "start_time": "2022-01-14T13:41:32.915Z"
   },
   {
    "duration": 33,
    "start_time": "2022-01-14T13:42:05.180Z"
   },
   {
    "duration": 46,
    "start_time": "2022-01-14T13:42:23.018Z"
   },
   {
    "duration": 777,
    "start_time": "2022-01-14T13:43:23.712Z"
   },
   {
    "duration": 39,
    "start_time": "2022-01-14T13:43:34.572Z"
   },
   {
    "duration": 39,
    "start_time": "2022-01-14T13:43:51.272Z"
   },
   {
    "duration": 151,
    "start_time": "2022-01-14T13:44:10.815Z"
   },
   {
    "duration": 122,
    "start_time": "2022-01-14T13:44:24.942Z"
   },
   {
    "duration": 130,
    "start_time": "2022-01-14T13:44:35.668Z"
   },
   {
    "duration": 140,
    "start_time": "2022-01-14T13:45:13.719Z"
   },
   {
    "duration": 132,
    "start_time": "2022-01-14T13:45:23.944Z"
   },
   {
    "duration": 128,
    "start_time": "2022-01-14T13:45:39.384Z"
   },
   {
    "duration": 288,
    "start_time": "2022-01-14T13:45:41.171Z"
   },
   {
    "duration": 301,
    "start_time": "2022-01-14T13:45:42.524Z"
   },
   {
    "duration": 293,
    "start_time": "2022-01-14T13:45:44.683Z"
   },
   {
    "duration": 265,
    "start_time": "2022-01-14T13:45:47.506Z"
   },
   {
    "duration": 294,
    "start_time": "2022-01-14T13:45:48.626Z"
   },
   {
    "duration": 353,
    "start_time": "2022-01-14T13:45:50.040Z"
   },
   {
    "duration": 262,
    "start_time": "2022-01-14T13:46:00.648Z"
   },
   {
    "duration": 6,
    "start_time": "2022-01-14T13:46:02.540Z"
   },
   {
    "duration": 5,
    "start_time": "2022-01-14T13:47:21.915Z"
   },
   {
    "duration": 5,
    "start_time": "2022-01-14T13:47:43.821Z"
   },
   {
    "duration": 5,
    "start_time": "2022-01-14T13:47:55.344Z"
   },
   {
    "duration": 8,
    "start_time": "2022-01-14T13:48:00.515Z"
   },
   {
    "duration": 5,
    "start_time": "2022-01-14T13:48:06.469Z"
   },
   {
    "duration": 139,
    "start_time": "2022-01-14T13:48:40.969Z"
   },
   {
    "duration": 6,
    "start_time": "2022-01-14T13:52:25.844Z"
   },
   {
    "duration": 6,
    "start_time": "2022-01-14T13:55:26.958Z"
   },
   {
    "duration": 6,
    "start_time": "2022-01-14T13:55:32.809Z"
   },
   {
    "duration": 6,
    "start_time": "2022-01-14T13:55:40.094Z"
   },
   {
    "duration": 6,
    "start_time": "2022-01-14T13:57:46.008Z"
   },
   {
    "duration": 5,
    "start_time": "2022-01-14T13:59:09.598Z"
   },
   {
    "duration": 97,
    "start_time": "2022-01-14T14:01:55.009Z"
   },
   {
    "duration": 11,
    "start_time": "2022-01-14T14:03:23.558Z"
   },
   {
    "duration": 14,
    "start_time": "2022-01-14T14:06:57.785Z"
   },
   {
    "duration": 24,
    "start_time": "2022-01-14T14:07:08.232Z"
   },
   {
    "duration": 9,
    "start_time": "2022-01-14T14:07:48.908Z"
   },
   {
    "duration": 9,
    "start_time": "2022-01-14T14:07:51.317Z"
   },
   {
    "duration": 299,
    "start_time": "2022-01-14T14:08:24.604Z"
   },
   {
    "duration": 10,
    "start_time": "2022-01-14T14:09:11.417Z"
   },
   {
    "duration": 10,
    "start_time": "2022-01-14T14:09:21.315Z"
   },
   {
    "duration": 20,
    "start_time": "2022-01-14T14:09:45.552Z"
   },
   {
    "duration": 24,
    "start_time": "2022-01-14T14:09:59.902Z"
   },
   {
    "duration": 387,
    "start_time": "2022-01-14T14:10:09.379Z"
   },
   {
    "duration": 63,
    "start_time": "2022-01-14T14:10:09.767Z"
   },
   {
    "duration": 63,
    "start_time": "2022-01-14T14:10:10.275Z"
   },
   {
    "duration": 39,
    "start_time": "2022-01-14T14:10:10.889Z"
   },
   {
    "duration": 44,
    "start_time": "2022-01-14T14:10:11.608Z"
   },
   {
    "duration": 40,
    "start_time": "2022-01-14T14:10:12.136Z"
   },
   {
    "duration": 94,
    "start_time": "2022-01-14T14:10:12.904Z"
   },
   {
    "duration": 258,
    "start_time": "2022-01-14T14:10:13.837Z"
   },
   {
    "duration": 249,
    "start_time": "2022-01-14T14:10:15.108Z"
   },
   {
    "duration": 248,
    "start_time": "2022-01-14T14:10:15.704Z"
   },
   {
    "duration": 245,
    "start_time": "2022-01-14T14:10:16.618Z"
   },
   {
    "duration": 271,
    "start_time": "2022-01-14T14:10:17.116Z"
   },
   {
    "duration": 247,
    "start_time": "2022-01-14T14:10:17.673Z"
   },
   {
    "duration": 5,
    "start_time": "2022-01-14T14:10:18.442Z"
   },
   {
    "duration": 102,
    "start_time": "2022-01-14T14:10:18.952Z"
   },
   {
    "duration": 9,
    "start_time": "2022-01-14T14:10:19.483Z"
   },
   {
    "duration": 8,
    "start_time": "2022-01-14T14:10:19.705Z"
   },
   {
    "duration": 28,
    "start_time": "2022-01-14T14:10:36.230Z"
   },
   {
    "duration": 28,
    "start_time": "2022-01-14T14:11:13.262Z"
   },
   {
    "duration": 27,
    "start_time": "2022-01-14T14:11:49.687Z"
   },
   {
    "duration": 22,
    "start_time": "2022-01-14T14:12:00.102Z"
   },
   {
    "duration": 20,
    "start_time": "2022-01-14T14:12:15.363Z"
   },
   {
    "duration": 22,
    "start_time": "2022-01-14T14:12:22.615Z"
   },
   {
    "duration": 95,
    "start_time": "2022-01-14T14:12:42.850Z"
   },
   {
    "duration": 96,
    "start_time": "2022-01-14T14:12:55.797Z"
   },
   {
    "duration": 124,
    "start_time": "2022-01-14T14:13:34.208Z"
   },
   {
    "duration": 500,
    "start_time": "2022-01-14T14:15:08.899Z"
   },
   {
    "duration": 537,
    "start_time": "2022-01-14T14:15:23.831Z"
   },
   {
    "duration": 624,
    "start_time": "2022-01-14T14:16:01.214Z"
   },
   {
    "duration": 10,
    "start_time": "2022-01-14T14:16:42.257Z"
   },
   {
    "duration": 3241,
    "start_time": "2022-01-14T14:16:57.148Z"
   },
   {
    "duration": 66,
    "start_time": "2022-01-14T14:17:00.392Z"
   },
   {
    "duration": 70,
    "start_time": "2022-01-14T14:17:00.461Z"
   },
   {
    "duration": 39,
    "start_time": "2022-01-14T14:17:00.532Z"
   },
   {
    "duration": 57,
    "start_time": "2022-01-14T14:17:00.572Z"
   },
   {
    "duration": 38,
    "start_time": "2022-01-14T14:17:00.630Z"
   },
   {
    "duration": 115,
    "start_time": "2022-01-14T14:17:00.670Z"
   },
   {
    "duration": 276,
    "start_time": "2022-01-14T14:17:00.788Z"
   },
   {
    "duration": 277,
    "start_time": "2022-01-14T14:17:01.065Z"
   },
   {
    "duration": 266,
    "start_time": "2022-01-14T14:17:01.343Z"
   },
   {
    "duration": 273,
    "start_time": "2022-01-14T14:17:01.611Z"
   },
   {
    "duration": 268,
    "start_time": "2022-01-14T14:17:03.337Z"
   },
   {
    "duration": 334,
    "start_time": "2022-01-14T14:17:03.607Z"
   },
   {
    "duration": 6,
    "start_time": "2022-01-14T14:17:03.943Z"
   },
   {
    "duration": 1410,
    "start_time": "2022-01-14T14:17:04.369Z"
   },
   {
    "duration": -190873,
    "start_time": "2022-01-14T14:20:16.654Z"
   },
   {
    "duration": 8,
    "start_time": "2022-01-14T14:17:05.985Z"
   },
   {
    "duration": 515,
    "start_time": "2022-01-14T14:17:36.863Z"
   },
   {
    "duration": 535,
    "start_time": "2022-01-14T14:18:10.078Z"
   },
   {
    "duration": 498,
    "start_time": "2022-01-14T14:18:21.000Z"
   },
   {
    "duration": 10,
    "start_time": "2022-01-14T14:18:35.756Z"
   },
   {
    "duration": 10,
    "start_time": "2022-01-14T14:18:59.981Z"
   },
   {
    "duration": 10,
    "start_time": "2022-01-14T14:19:07.813Z"
   },
   {
    "duration": 12,
    "start_time": "2022-01-14T14:19:12.713Z"
   },
   {
    "duration": 11,
    "start_time": "2022-01-14T14:19:50.511Z"
   },
   {
    "duration": 10,
    "start_time": "2022-01-14T14:20:09.717Z"
   },
   {
    "duration": 10,
    "start_time": "2022-01-14T14:20:27.405Z"
   },
   {
    "duration": 9,
    "start_time": "2022-01-14T14:21:09.180Z"
   },
   {
    "duration": 10,
    "start_time": "2022-01-14T14:21:27.536Z"
   },
   {
    "duration": 11,
    "start_time": "2022-01-14T14:22:08.233Z"
   },
   {
    "duration": 11,
    "start_time": "2022-01-14T14:22:23.691Z"
   },
   {
    "duration": 9,
    "start_time": "2022-01-14T14:22:33.791Z"
   },
   {
    "duration": 10,
    "start_time": "2022-01-14T14:24:16.811Z"
   },
   {
    "duration": 10,
    "start_time": "2022-01-14T14:24:23.454Z"
   },
   {
    "duration": 10,
    "start_time": "2022-01-14T14:27:20.552Z"
   },
   {
    "duration": 9,
    "start_time": "2022-01-14T14:27:23.665Z"
   },
   {
    "duration": 282,
    "start_time": "2022-01-14T14:51:51.649Z"
   },
   {
    "duration": 9,
    "start_time": "2022-01-14T14:52:07.757Z"
   },
   {
    "duration": 10,
    "start_time": "2022-01-14T14:52:35.687Z"
   },
   {
    "duration": 266,
    "start_time": "2022-01-14T14:52:42.719Z"
   },
   {
    "duration": 298,
    "start_time": "2022-01-14T14:54:37.928Z"
   },
   {
    "duration": 291,
    "start_time": "2022-01-14T14:54:49.046Z"
   },
   {
    "duration": 328,
    "start_time": "2022-01-14T14:55:59.588Z"
   },
   {
    "duration": 9,
    "start_time": "2022-01-14T14:56:27.699Z"
   },
   {
    "duration": 10,
    "start_time": "2022-01-14T14:56:51.509Z"
   },
   {
    "duration": 10,
    "start_time": "2022-01-14T14:58:04.516Z"
   },
   {
    "duration": 5,
    "start_time": "2022-01-14T15:03:17.031Z"
   },
   {
    "duration": 125,
    "start_time": "2022-01-14T15:03:17.245Z"
   },
   {
    "duration": 12,
    "start_time": "2022-01-14T15:03:17.800Z"
   },
   {
    "duration": 102,
    "start_time": "2022-01-14T15:03:24.492Z"
   },
   {
    "duration": 417,
    "start_time": "2022-01-14T18:29:56.318Z"
   },
   {
    "duration": 1774,
    "start_time": "2022-01-14T18:30:06.102Z"
   },
   {
    "duration": 489,
    "start_time": "2022-01-14T18:30:07.879Z"
   },
   {
    "duration": 39,
    "start_time": "2022-01-14T18:30:32.169Z"
   },
   {
    "duration": 40,
    "start_time": "2022-01-14T18:30:54.057Z"
   },
   {
    "duration": 41,
    "start_time": "2022-01-14T18:31:08.248Z"
   },
   {
    "duration": 40,
    "start_time": "2022-01-14T18:31:48.030Z"
   },
   {
    "duration": 8016,
    "start_time": "2022-01-14T18:31:57.299Z"
   },
   {
    "duration": 40,
    "start_time": "2022-01-14T18:32:08.271Z"
   },
   {
    "duration": 3816,
    "start_time": "2022-01-14T18:33:22.393Z"
   },
   {
    "duration": 583,
    "start_time": "2022-01-14T18:33:27.789Z"
   },
   {
    "duration": 8261,
    "start_time": "2022-01-14T18:33:44.495Z"
   },
   {
    "duration": 666,
    "start_time": "2022-01-14T18:33:56.980Z"
   },
   {
    "duration": 628,
    "start_time": "2022-01-14T18:34:07.099Z"
   },
   {
    "duration": 659,
    "start_time": "2022-01-14T18:34:25.781Z"
   },
   {
    "duration": 896,
    "start_time": "2022-01-14T18:35:03.585Z"
   },
   {
    "duration": 677,
    "start_time": "2022-01-14T18:36:03.914Z"
   },
   {
    "duration": 641,
    "start_time": "2022-01-14T18:36:12.932Z"
   },
   {
    "duration": 583,
    "start_time": "2022-01-14T18:36:22.477Z"
   },
   {
    "duration": 548,
    "start_time": "2022-01-14T18:36:31.821Z"
   },
   {
    "duration": 328,
    "start_time": "2022-01-14T18:37:13.336Z"
   },
   {
    "duration": 548,
    "start_time": "2022-01-14T18:37:23.342Z"
   },
   {
    "duration": 97,
    "start_time": "2022-01-14T18:37:23.893Z"
   },
   {
    "duration": 102,
    "start_time": "2022-01-14T18:37:24.311Z"
   },
   {
    "duration": 63,
    "start_time": "2022-01-14T18:37:24.904Z"
   },
   {
    "duration": 68,
    "start_time": "2022-01-14T18:37:25.557Z"
   },
   {
    "duration": 74,
    "start_time": "2022-01-14T18:37:25.798Z"
   },
   {
    "duration": 182,
    "start_time": "2022-01-14T18:37:27.447Z"
   },
   {
    "duration": 375,
    "start_time": "2022-01-14T18:47:18.292Z"
   },
   {
    "duration": 34,
    "start_time": "2022-01-14T18:47:27.978Z"
   },
   {
    "duration": 30,
    "start_time": "2022-01-14T18:47:37.111Z"
   },
   {
    "duration": 60,
    "start_time": "2022-01-14T18:49:24.356Z"
   },
   {
    "duration": 70,
    "start_time": "2022-01-14T18:49:30.345Z"
   },
   {
    "duration": 1044,
    "start_time": "2022-01-14T18:52:36.189Z"
   },
   {
    "duration": 796,
    "start_time": "2022-01-14T18:53:03.825Z"
   },
   {
    "duration": 777,
    "start_time": "2022-01-14T18:53:14.848Z"
   },
   {
    "duration": 507,
    "start_time": "2022-01-14T18:55:11.300Z"
   },
   {
    "duration": 668,
    "start_time": "2022-01-14T18:55:56.925Z"
   },
   {
    "duration": 512,
    "start_time": "2022-01-14T18:56:37.849Z"
   },
   {
    "duration": 591,
    "start_time": "2022-01-14T18:57:19.717Z"
   },
   {
    "duration": 517,
    "start_time": "2022-01-14T18:57:43.017Z"
   },
   {
    "duration": 515,
    "start_time": "2022-01-14T18:58:27.130Z"
   },
   {
    "duration": 519,
    "start_time": "2022-01-14T19:03:20.891Z"
   },
   {
    "duration": 608,
    "start_time": "2022-01-14T19:03:24.740Z"
   },
   {
    "duration": 553,
    "start_time": "2022-01-14T19:03:27.987Z"
   },
   {
    "duration": 545,
    "start_time": "2022-01-14T19:03:31.279Z"
   },
   {
    "duration": 198,
    "start_time": "2022-01-14T19:03:41.538Z"
   },
   {
    "duration": 219,
    "start_time": "2022-01-14T19:03:47.498Z"
   },
   {
    "duration": 229,
    "start_time": "2022-01-14T19:04:14.176Z"
   },
   {
    "duration": 239,
    "start_time": "2022-01-14T19:04:46.737Z"
   },
   {
    "duration": 250,
    "start_time": "2022-01-14T19:05:03.549Z"
   },
   {
    "duration": 525,
    "start_time": "2022-01-14T19:05:37.680Z"
   },
   {
    "duration": 514,
    "start_time": "2022-01-14T19:07:28.026Z"
   },
   {
    "duration": 718,
    "start_time": "2022-01-14T19:11:12.574Z"
   },
   {
    "duration": 817,
    "start_time": "2022-01-14T19:19:56.855Z"
   },
   {
    "duration": 492,
    "start_time": "2022-01-14T19:20:21.141Z"
   },
   {
    "duration": 509,
    "start_time": "2022-01-14T19:20:47.125Z"
   },
   {
    "duration": 502,
    "start_time": "2022-01-14T19:21:11.102Z"
   },
   {
    "duration": 515,
    "start_time": "2022-01-14T19:21:52.146Z"
   },
   {
    "duration": 488,
    "start_time": "2022-01-14T19:22:22.005Z"
   },
   {
    "duration": 594,
    "start_time": "2022-01-14T19:23:16.076Z"
   },
   {
    "duration": 613,
    "start_time": "2022-01-14T19:26:19.505Z"
   },
   {
    "duration": 572,
    "start_time": "2022-01-14T19:26:37.207Z"
   },
   {
    "duration": 631,
    "start_time": "2022-01-14T19:27:04.544Z"
   },
   {
    "duration": 516,
    "start_time": "2022-01-14T19:31:00.671Z"
   },
   {
    "duration": 517,
    "start_time": "2022-01-14T19:31:46.229Z"
   },
   {
    "duration": 511,
    "start_time": "2022-01-14T19:35:08.885Z"
   },
   {
    "duration": 476,
    "start_time": "2022-01-14T19:35:48.120Z"
   },
   {
    "duration": 9,
    "start_time": "2022-01-14T19:49:53.098Z"
   },
   {
    "duration": 8,
    "start_time": "2022-01-14T19:50:05.291Z"
   },
   {
    "duration": 30,
    "start_time": "2022-01-14T19:53:35.894Z"
   },
   {
    "duration": 107,
    "start_time": "2022-01-14T19:53:48.401Z"
   },
   {
    "duration": 34,
    "start_time": "2022-01-14T19:53:54.974Z"
   },
   {
    "duration": 10,
    "start_time": "2022-01-14T19:54:14.477Z"
   },
   {
    "duration": 593,
    "start_time": "2022-01-14T20:19:18.706Z"
   },
   {
    "duration": 9,
    "start_time": "2022-01-14T20:19:28.317Z"
   },
   {
    "duration": 344,
    "start_time": "2022-01-14T20:19:29.703Z"
   },
   {
    "duration": 15,
    "start_time": "2022-01-14T20:19:53.044Z"
   },
   {
    "duration": 129,
    "start_time": "2022-01-14T20:20:50.631Z"
   },
   {
    "duration": 32,
    "start_time": "2022-01-14T20:20:59.821Z"
   },
   {
    "duration": 175,
    "start_time": "2022-01-14T20:21:20.858Z"
   },
   {
    "duration": 46,
    "start_time": "2022-01-14T20:21:35.481Z"
   },
   {
    "duration": 327,
    "start_time": "2022-01-14T20:23:22.092Z"
   },
   {
    "duration": 48,
    "start_time": "2022-01-14T20:23:33.674Z"
   },
   {
    "duration": 8,
    "start_time": "2022-01-14T20:24:22.426Z"
   },
   {
    "duration": 28,
    "start_time": "2022-01-14T20:24:33.260Z"
   },
   {
    "duration": 8,
    "start_time": "2022-01-14T20:24:42.154Z"
   },
   {
    "duration": 8,
    "start_time": "2022-01-14T20:24:47.167Z"
   },
   {
    "duration": 8,
    "start_time": "2022-01-14T20:24:50.672Z"
   },
   {
    "duration": 8,
    "start_time": "2022-01-14T20:24:53.594Z"
   },
   {
    "duration": 8,
    "start_time": "2022-01-14T20:24:55.589Z"
   },
   {
    "duration": 8,
    "start_time": "2022-01-14T20:25:08.092Z"
   },
   {
    "duration": 9,
    "start_time": "2022-01-14T20:25:21.861Z"
   },
   {
    "duration": 328,
    "start_time": "2022-01-14T20:25:37.526Z"
   },
   {
    "duration": 386,
    "start_time": "2022-01-14T20:26:05.347Z"
   },
   {
    "duration": 324,
    "start_time": "2022-01-14T20:26:24.777Z"
   },
   {
    "duration": 332,
    "start_time": "2022-01-14T20:27:00.958Z"
   },
   {
    "duration": 659,
    "start_time": "2022-01-14T20:27:44.628Z"
   },
   {
    "duration": 172,
    "start_time": "2022-01-14T20:28:02.112Z"
   },
   {
    "duration": 657,
    "start_time": "2022-01-14T20:28:23.023Z"
   },
   {
    "duration": 185,
    "start_time": "2022-01-14T20:28:23.683Z"
   },
   {
    "duration": 100,
    "start_time": "2022-01-14T20:28:23.970Z"
   },
   {
    "duration": 62,
    "start_time": "2022-01-14T20:28:24.340Z"
   },
   {
    "duration": 66,
    "start_time": "2022-01-14T20:28:24.736Z"
   },
   {
    "duration": 66,
    "start_time": "2022-01-14T20:28:24.941Z"
   },
   {
    "duration": 242,
    "start_time": "2022-01-14T20:28:25.363Z"
   },
   {
    "duration": 502,
    "start_time": "2022-01-14T20:28:25.729Z"
   },
   {
    "duration": 500,
    "start_time": "2022-01-14T20:28:26.347Z"
   },
   {
    "duration": 517,
    "start_time": "2022-01-14T20:28:26.959Z"
   },
   {
    "duration": 493,
    "start_time": "2022-01-14T20:28:27.590Z"
   },
   {
    "duration": 544,
    "start_time": "2022-01-14T20:28:28.205Z"
   },
   {
    "duration": 497,
    "start_time": "2022-01-14T20:28:28.832Z"
   },
   {
    "duration": 8,
    "start_time": "2022-01-14T20:28:29.669Z"
   },
   {
    "duration": 19,
    "start_time": "2022-01-14T20:28:30.313Z"
   },
   {
    "duration": 7,
    "start_time": "2022-01-14T20:28:30.502Z"
   },
   {
    "duration": -191780,
    "start_time": "2022-01-14T20:32:05.449Z"
   },
   {
    "duration": -191782,
    "start_time": "2022-01-14T20:32:33.826Z"
   },
   {
    "duration": -191793,
    "start_time": "2022-01-14T20:32:33.838Z"
   },
   {
    "duration": 643,
    "start_time": "2022-01-14T20:29:33.140Z"
   },
   {
    "duration": 169,
    "start_time": "2022-01-14T20:29:35.740Z"
   },
   {
    "duration": 98,
    "start_time": "2022-01-14T20:29:36.269Z"
   },
   {
    "duration": 60,
    "start_time": "2022-01-14T20:29:36.648Z"
   },
   {
    "duration": 65,
    "start_time": "2022-01-14T20:29:36.987Z"
   },
   {
    "duration": 69,
    "start_time": "2022-01-14T20:29:37.185Z"
   },
   {
    "duration": 244,
    "start_time": "2022-01-14T20:29:37.543Z"
   },
   {
    "duration": 525,
    "start_time": "2022-01-14T20:29:37.900Z"
   },
   {
    "duration": 529,
    "start_time": "2022-01-14T20:29:38.438Z"
   },
   {
    "duration": 602,
    "start_time": "2022-01-14T20:29:39.027Z"
   },
   {
    "duration": 521,
    "start_time": "2022-01-14T20:29:39.633Z"
   },
   {
    "duration": 504,
    "start_time": "2022-01-14T20:29:40.234Z"
   },
   {
    "duration": 479,
    "start_time": "2022-01-14T20:29:40.819Z"
   },
   {
    "duration": 9,
    "start_time": "2022-01-14T20:29:41.622Z"
   },
   {
    "duration": 16,
    "start_time": "2022-01-14T20:29:42.231Z"
   },
   {
    "duration": 6,
    "start_time": "2022-01-14T20:29:42.598Z"
   },
   {
    "duration": 4271,
    "start_time": "2022-01-14T20:29:58.209Z"
   },
   {
    "duration": 3907,
    "start_time": "2022-01-14T20:30:32.679Z"
   },
   {
    "duration": 656,
    "start_time": "2022-01-14T20:30:50.879Z"
   },
   {
    "duration": 191,
    "start_time": "2022-01-14T20:30:51.538Z"
   },
   {
    "duration": 94,
    "start_time": "2022-01-14T20:30:51.808Z"
   },
   {
    "duration": 70,
    "start_time": "2022-01-14T20:30:52.140Z"
   },
   {
    "duration": 63,
    "start_time": "2022-01-14T20:30:52.505Z"
   },
   {
    "duration": 68,
    "start_time": "2022-01-14T20:30:52.660Z"
   },
   {
    "duration": 250,
    "start_time": "2022-01-14T20:30:53.045Z"
   },
   {
    "duration": 517,
    "start_time": "2022-01-14T20:30:53.405Z"
   },
   {
    "duration": 549,
    "start_time": "2022-01-14T20:30:53.925Z"
   },
   {
    "duration": 521,
    "start_time": "2022-01-14T20:30:54.478Z"
   },
   {
    "duration": 498,
    "start_time": "2022-01-14T20:30:55.002Z"
   },
   {
    "duration": 520,
    "start_time": "2022-01-14T20:30:55.503Z"
   },
   {
    "duration": 602,
    "start_time": "2022-01-14T20:30:56.026Z"
   },
   {
    "duration": 8,
    "start_time": "2022-01-14T20:30:56.631Z"
   },
   {
    "duration": 32,
    "start_time": "2022-01-14T20:30:56.642Z"
   },
   {
    "duration": 10,
    "start_time": "2022-01-14T20:30:56.676Z"
   },
   {
    "duration": 108,
    "start_time": "2022-01-14T20:31:17.212Z"
   },
   {
    "duration": 3964,
    "start_time": "2022-01-14T20:31:21.657Z"
   },
   {
    "duration": 652,
    "start_time": "2022-01-14T20:31:29.962Z"
   },
   {
    "duration": 203,
    "start_time": "2022-01-14T20:31:30.617Z"
   },
   {
    "duration": 100,
    "start_time": "2022-01-14T20:31:30.868Z"
   },
   {
    "duration": 69,
    "start_time": "2022-01-14T20:31:31.237Z"
   },
   {
    "duration": 67,
    "start_time": "2022-01-14T20:31:31.612Z"
   },
   {
    "duration": 75,
    "start_time": "2022-01-14T20:31:31.797Z"
   },
   {
    "duration": 241,
    "start_time": "2022-01-14T20:31:32.167Z"
   },
   {
    "duration": 520,
    "start_time": "2022-01-14T20:31:32.563Z"
   },
   {
    "duration": 509,
    "start_time": "2022-01-14T20:31:33.118Z"
   },
   {
    "duration": 488,
    "start_time": "2022-01-14T20:31:33.684Z"
   },
   {
    "duration": 484,
    "start_time": "2022-01-14T20:31:34.269Z"
   },
   {
    "duration": 518,
    "start_time": "2022-01-14T20:31:34.841Z"
   },
   {
    "duration": 490,
    "start_time": "2022-01-14T20:31:35.433Z"
   },
   {
    "duration": 8,
    "start_time": "2022-01-14T20:31:36.136Z"
   },
   {
    "duration": 16,
    "start_time": "2022-01-14T20:31:36.725Z"
   },
   {
    "duration": 6,
    "start_time": "2022-01-14T20:31:36.924Z"
   },
   {
    "duration": 631,
    "start_time": "2022-01-14T20:31:47.713Z"
   },
   {
    "duration": 190,
    "start_time": "2022-01-14T20:31:48.347Z"
   },
   {
    "duration": 103,
    "start_time": "2022-01-14T20:31:48.590Z"
   },
   {
    "duration": 62,
    "start_time": "2022-01-14T20:31:48.956Z"
   },
   {
    "duration": 66,
    "start_time": "2022-01-14T20:31:49.344Z"
   },
   {
    "duration": 69,
    "start_time": "2022-01-14T20:31:49.544Z"
   },
   {
    "duration": 240,
    "start_time": "2022-01-14T20:31:49.914Z"
   },
   {
    "duration": 572,
    "start_time": "2022-01-14T20:31:50.304Z"
   },
   {
    "duration": 621,
    "start_time": "2022-01-14T20:31:50.894Z"
   },
   {
    "duration": 527,
    "start_time": "2022-01-14T20:31:51.518Z"
   },
   {
    "duration": 498,
    "start_time": "2022-01-14T20:31:52.069Z"
   },
   {
    "duration": 511,
    "start_time": "2022-01-14T20:31:52.641Z"
   },
   {
    "duration": 514,
    "start_time": "2022-01-14T20:31:53.241Z"
   },
   {
    "duration": 9,
    "start_time": "2022-01-14T20:31:54.047Z"
   },
   {
    "duration": 16,
    "start_time": "2022-01-14T20:31:55.024Z"
   },
   {
    "duration": 6,
    "start_time": "2022-01-14T20:31:55.225Z"
   },
   {
    "duration": 329,
    "start_time": "2022-01-14T20:33:25.548Z"
   },
   {
    "duration": 316,
    "start_time": "2022-01-14T20:33:40.719Z"
   },
   {
    "duration": 313,
    "start_time": "2022-01-14T20:33:57.845Z"
   },
   {
    "duration": 622,
    "start_time": "2022-01-14T20:34:03.633Z"
   },
   {
    "duration": 177,
    "start_time": "2022-01-14T20:34:04.266Z"
   },
   {
    "duration": 95,
    "start_time": "2022-01-14T20:34:04.472Z"
   },
   {
    "duration": 63,
    "start_time": "2022-01-14T20:34:04.763Z"
   },
   {
    "duration": 65,
    "start_time": "2022-01-14T20:34:05.162Z"
   },
   {
    "duration": 89,
    "start_time": "2022-01-14T20:34:05.261Z"
   },
   {
    "duration": 242,
    "start_time": "2022-01-14T20:34:05.509Z"
   },
   {
    "duration": 519,
    "start_time": "2022-01-14T20:34:05.793Z"
   },
   {
    "duration": 519,
    "start_time": "2022-01-14T20:34:06.315Z"
   },
   {
    "duration": 519,
    "start_time": "2022-01-14T20:34:06.837Z"
   },
   {
    "duration": 609,
    "start_time": "2022-01-14T20:34:07.358Z"
   },
   {
    "duration": 528,
    "start_time": "2022-01-14T20:34:07.970Z"
   },
   {
    "duration": 497,
    "start_time": "2022-01-14T20:34:08.545Z"
   },
   {
    "duration": 8,
    "start_time": "2022-01-14T20:34:09.375Z"
   },
   {
    "duration": 18,
    "start_time": "2022-01-14T20:34:10.014Z"
   },
   {
    "duration": 8,
    "start_time": "2022-01-14T20:34:10.224Z"
   },
   {
    "duration": 652,
    "start_time": "2022-01-14T20:39:01.479Z"
   },
   {
    "duration": 177,
    "start_time": "2022-01-14T20:39:02.154Z"
   },
   {
    "duration": 92,
    "start_time": "2022-01-14T20:39:03.746Z"
   },
   {
    "duration": 63,
    "start_time": "2022-01-14T20:39:04.824Z"
   },
   {
    "duration": 64,
    "start_time": "2022-01-14T20:39:05.727Z"
   },
   {
    "duration": 69,
    "start_time": "2022-01-14T20:39:06.157Z"
   },
   {
    "duration": 250,
    "start_time": "2022-01-14T20:39:07.248Z"
   },
   {
    "duration": 507,
    "start_time": "2022-01-14T20:39:08.420Z"
   },
   {
    "duration": 592,
    "start_time": "2022-01-14T20:39:09.924Z"
   },
   {
    "duration": 495,
    "start_time": "2022-01-14T20:39:11.934Z"
   },
   {
    "duration": 577,
    "start_time": "2022-01-14T20:39:13.693Z"
   },
   {
    "duration": 519,
    "start_time": "2022-01-14T20:39:16.459Z"
   },
   {
    "duration": 487,
    "start_time": "2022-01-14T20:39:18.866Z"
   },
   {
    "duration": 8,
    "start_time": "2022-01-14T20:39:21.201Z"
   },
   {
    "duration": 16,
    "start_time": "2022-01-14T20:39:22.852Z"
   },
   {
    "duration": 7,
    "start_time": "2022-01-14T20:39:24.219Z"
   },
   {
    "duration": 1866,
    "start_time": "2022-01-17T08:39:04.928Z"
   },
   {
    "duration": 205,
    "start_time": "2022-01-17T08:39:06.798Z"
   },
   {
    "duration": 118,
    "start_time": "2022-01-17T08:39:07.007Z"
   },
   {
    "duration": 73,
    "start_time": "2022-01-17T08:39:07.129Z"
   },
   {
    "duration": 82,
    "start_time": "2022-01-17T08:39:07.205Z"
   },
   {
    "duration": 82,
    "start_time": "2022-01-17T08:39:07.289Z"
   },
   {
    "duration": 257,
    "start_time": "2022-01-17T08:39:07.374Z"
   },
   {
    "duration": 694,
    "start_time": "2022-01-17T08:39:07.636Z"
   },
   {
    "duration": 532,
    "start_time": "2022-01-17T08:39:08.333Z"
   },
   {
    "duration": 510,
    "start_time": "2022-01-17T08:39:08.868Z"
   },
   {
    "duration": 503,
    "start_time": "2022-01-17T08:39:09.381Z"
   },
   {
    "duration": 516,
    "start_time": "2022-01-17T08:39:09.887Z"
   },
   {
    "duration": 558,
    "start_time": "2022-01-17T08:39:10.405Z"
   },
   {
    "duration": 8,
    "start_time": "2022-01-17T08:39:10.965Z"
   },
   {
    "duration": 15,
    "start_time": "2022-01-17T08:39:10.975Z"
   },
   {
    "duration": 9,
    "start_time": "2022-01-17T08:39:10.992Z"
   },
   {
    "duration": 1288,
    "start_time": "2022-01-17T08:57:04.669Z"
   },
   {
    "duration": 127,
    "start_time": "2022-01-17T08:57:05.959Z"
   },
   {
    "duration": 70,
    "start_time": "2022-01-17T08:57:06.088Z"
   },
   {
    "duration": 39,
    "start_time": "2022-01-17T08:57:06.160Z"
   },
   {
    "duration": 51,
    "start_time": "2022-01-17T08:57:06.200Z"
   },
   {
    "duration": 36,
    "start_time": "2022-01-17T08:57:06.253Z"
   },
   {
    "duration": 345,
    "start_time": "2022-01-17T08:57:06.290Z"
   },
   {
    "duration": -21,
    "start_time": "2022-01-17T08:57:06.658Z"
   },
   {
    "duration": -25,
    "start_time": "2022-01-17T08:57:06.663Z"
   },
   {
    "duration": -27,
    "start_time": "2022-01-17T08:57:06.666Z"
   },
   {
    "duration": -30,
    "start_time": "2022-01-17T08:57:06.669Z"
   },
   {
    "duration": -31,
    "start_time": "2022-01-17T08:57:06.671Z"
   },
   {
    "duration": -32,
    "start_time": "2022-01-17T08:57:06.673Z"
   },
   {
    "duration": -33,
    "start_time": "2022-01-17T08:57:06.675Z"
   },
   {
    "duration": -34,
    "start_time": "2022-01-17T08:57:06.677Z"
   },
   {
    "duration": -35,
    "start_time": "2022-01-17T08:57:06.679Z"
   },
   {
    "duration": -36,
    "start_time": "2022-01-17T08:57:06.681Z"
   },
   {
    "duration": 4,
    "start_time": "2022-01-17T08:57:26.328Z"
   },
   {
    "duration": 7,
    "start_time": "2022-01-17T08:57:32.667Z"
   },
   {
    "duration": 4,
    "start_time": "2022-01-17T08:57:40.911Z"
   },
   {
    "duration": 127,
    "start_time": "2022-01-17T08:57:50.774Z"
   },
   {
    "duration": 3,
    "start_time": "2022-01-17T08:58:04.061Z"
   },
   {
    "duration": 1352,
    "start_time": "2022-01-17T09:05:45.903Z"
   },
   {
    "duration": 123,
    "start_time": "2022-01-17T09:05:47.257Z"
   },
   {
    "duration": 74,
    "start_time": "2022-01-17T09:05:47.383Z"
   },
   {
    "duration": 40,
    "start_time": "2022-01-17T09:05:47.459Z"
   },
   {
    "duration": 51,
    "start_time": "2022-01-17T09:05:47.501Z"
   },
   {
    "duration": 37,
    "start_time": "2022-01-17T09:05:47.554Z"
   },
   {
    "duration": 149,
    "start_time": "2022-01-17T09:05:47.593Z"
   },
   {
    "duration": 396,
    "start_time": "2022-01-17T09:05:47.744Z"
   },
   {
    "duration": 295,
    "start_time": "2022-01-17T09:05:48.142Z"
   },
   {
    "duration": 279,
    "start_time": "2022-01-17T09:05:48.439Z"
   },
   {
    "duration": 281,
    "start_time": "2022-01-17T09:05:48.720Z"
   },
   {
    "duration": 309,
    "start_time": "2022-01-17T09:05:49.003Z"
   },
   {
    "duration": 335,
    "start_time": "2022-01-17T09:05:49.314Z"
   },
   {
    "duration": 4,
    "start_time": "2022-01-17T09:05:49.651Z"
   },
   {
    "duration": 10,
    "start_time": "2022-01-17T09:05:49.657Z"
   },
   {
    "duration": 6,
    "start_time": "2022-01-17T09:05:49.668Z"
   },
   {
    "duration": 4,
    "start_time": "2022-01-17T09:10:13.580Z"
   },
   {
    "duration": 3,
    "start_time": "2022-01-17T09:11:48.314Z"
   },
   {
    "duration": 3,
    "start_time": "2022-01-17T09:13:07.653Z"
   },
   {
    "duration": 6,
    "start_time": "2022-01-17T09:16:57.870Z"
   },
   {
    "duration": 19,
    "start_time": "2022-01-17T09:17:10.248Z"
   },
   {
    "duration": 166,
    "start_time": "2022-01-17T09:17:25.452Z"
   },
   {
    "duration": 468,
    "start_time": "2022-01-17T09:23:49.659Z"
   },
   {
    "duration": 8,
    "start_time": "2022-01-17T09:32:05.722Z"
   },
   {
    "duration": 7,
    "start_time": "2022-01-17T09:32:19.995Z"
   },
   {
    "duration": 6,
    "start_time": "2022-01-17T09:32:58.000Z"
   },
   {
    "duration": 13,
    "start_time": "2022-01-17T09:32:59.719Z"
   },
   {
    "duration": 4,
    "start_time": "2022-01-17T09:33:38.361Z"
   },
   {
    "duration": 4,
    "start_time": "2022-01-17T09:33:43.986Z"
   },
   {
    "duration": 312,
    "start_time": "2022-01-17T10:04:34.619Z"
   },
   {
    "duration": 1328,
    "start_time": "2022-01-17T10:04:42.390Z"
   },
   {
    "duration": 106,
    "start_time": "2022-01-17T10:04:43.720Z"
   },
   {
    "duration": 73,
    "start_time": "2022-01-17T10:04:43.828Z"
   },
   {
    "duration": 40,
    "start_time": "2022-01-17T10:04:44.154Z"
   },
   {
    "duration": 44,
    "start_time": "2022-01-17T10:04:44.556Z"
   },
   {
    "duration": 39,
    "start_time": "2022-01-17T10:04:44.771Z"
   },
   {
    "duration": 7193,
    "start_time": "2022-01-17T10:05:15.209Z"
   },
   {
    "duration": 45,
    "start_time": "2022-01-17T10:05:38.419Z"
   },
   {
    "duration": 45,
    "start_time": "2022-01-17T10:06:06.037Z"
   },
   {
    "duration": 49,
    "start_time": "2022-01-17T10:06:17.163Z"
   },
   {
    "duration": 126,
    "start_time": "2022-01-17T10:06:42.848Z"
   },
   {
    "duration": 45,
    "start_time": "2022-01-17T10:07:01.228Z"
   },
   {
    "duration": 47,
    "start_time": "2022-01-17T10:08:20.650Z"
   },
   {
    "duration": 45,
    "start_time": "2022-01-17T10:08:32.345Z"
   },
   {
    "duration": 46,
    "start_time": "2022-01-17T10:08:36.996Z"
   },
   {
    "duration": 57,
    "start_time": "2022-01-17T10:09:09.377Z"
   },
   {
    "duration": 71,
    "start_time": "2022-01-17T10:09:39.037Z"
   },
   {
    "duration": 66,
    "start_time": "2022-01-17T10:10:28.184Z"
   },
   {
    "duration": 75,
    "start_time": "2022-01-17T10:10:49.030Z"
   },
   {
    "duration": 74,
    "start_time": "2022-01-17T10:12:56.325Z"
   },
   {
    "duration": 45,
    "start_time": "2022-01-17T10:14:13.002Z"
   },
   {
    "duration": 45,
    "start_time": "2022-01-17T10:14:43.159Z"
   },
   {
    "duration": 44,
    "start_time": "2022-01-17T10:14:56.775Z"
   },
   {
    "duration": 40,
    "start_time": "2022-01-17T10:15:39.268Z"
   },
   {
    "duration": 48,
    "start_time": "2022-01-17T10:16:28.533Z"
   },
   {
    "duration": 46,
    "start_time": "2022-01-17T10:16:36.679Z"
   },
   {
    "duration": 46,
    "start_time": "2022-01-17T10:17:22.604Z"
   },
   {
    "duration": 43,
    "start_time": "2022-01-17T10:17:46.706Z"
   },
   {
    "duration": 45,
    "start_time": "2022-01-17T10:18:10.393Z"
   },
   {
    "duration": 46,
    "start_time": "2022-01-17T10:25:30.988Z"
   },
   {
    "duration": 8933,
    "start_time": "2022-01-17T10:25:58.449Z"
   },
   {
    "duration": 480,
    "start_time": "2022-01-17T10:26:17.905Z"
   },
   {
    "duration": 87,
    "start_time": "2022-01-17T10:26:18.618Z"
   },
   {
    "duration": 67,
    "start_time": "2022-01-17T10:26:19.733Z"
   },
   {
    "duration": 49,
    "start_time": "2022-01-17T10:26:20.215Z"
   },
   {
    "duration": 56,
    "start_time": "2022-01-17T10:26:20.698Z"
   },
   {
    "duration": 60,
    "start_time": "2022-01-17T10:26:20.924Z"
   },
   {
    "duration": 177,
    "start_time": "2022-01-17T10:26:21.406Z"
   },
   {
    "duration": 97,
    "start_time": "2022-01-17T10:28:31.936Z"
   },
   {
    "duration": 168,
    "start_time": "2022-01-17T10:45:32.419Z"
   },
   {
    "duration": 111,
    "start_time": "2022-01-17T10:45:37.123Z"
   },
   {
    "duration": 109,
    "start_time": "2022-01-17T10:45:56.624Z"
   },
   {
    "duration": 118,
    "start_time": "2022-01-17T10:46:08.288Z"
   },
   {
    "duration": 95,
    "start_time": "2022-01-17T10:47:27.357Z"
   },
   {
    "duration": 160,
    "start_time": "2022-01-17T10:47:50.775Z"
   },
   {
    "duration": 106,
    "start_time": "2022-01-17T10:47:56.339Z"
   },
   {
    "duration": 112,
    "start_time": "2022-01-17T10:48:54.721Z"
   },
   {
    "duration": 103,
    "start_time": "2022-01-17T10:50:39.574Z"
   },
   {
    "duration": 310,
    "start_time": "2022-01-17T10:53:45.191Z"
   },
   {
    "duration": 250,
    "start_time": "2022-01-17T10:53:50.878Z"
   },
   {
    "duration": 89,
    "start_time": "2022-01-17T10:53:57.319Z"
   },
   {
    "duration": 337,
    "start_time": "2022-01-17T10:54:04.130Z"
   },
   {
    "duration": 98,
    "start_time": "2022-01-17T10:55:14.955Z"
   },
   {
    "duration": 268,
    "start_time": "2022-01-17T10:55:24.520Z"
   },
   {
    "duration": 257,
    "start_time": "2022-01-17T10:55:39.726Z"
   },
   {
    "duration": 261,
    "start_time": "2022-01-17T10:56:35.333Z"
   },
   {
    "duration": 263,
    "start_time": "2022-01-17T10:57:08.364Z"
   },
   {
    "duration": 260,
    "start_time": "2022-01-17T10:57:28.211Z"
   },
   {
    "duration": 96,
    "start_time": "2022-01-17T10:59:32.206Z"
   },
   {
    "duration": 286,
    "start_time": "2022-01-17T10:59:49.292Z"
   },
   {
    "duration": 285,
    "start_time": "2022-01-17T11:00:16.349Z"
   },
   {
    "duration": 333,
    "start_time": "2022-01-17T11:00:38.000Z"
   },
   {
    "duration": 270,
    "start_time": "2022-01-17T11:01:09.013Z"
   },
   {
    "duration": 269,
    "start_time": "2022-01-17T11:01:53.184Z"
   },
   {
    "duration": 343,
    "start_time": "2022-01-17T11:02:04.070Z"
   },
   {
    "duration": 245,
    "start_time": "2022-01-17T11:03:28.689Z"
   },
   {
    "duration": 341,
    "start_time": "2022-01-17T11:04:00.043Z"
   },
   {
    "duration": 283,
    "start_time": "2022-01-17T11:04:49.374Z"
   },
   {
    "duration": 270,
    "start_time": "2022-01-17T11:05:32.267Z"
   },
   {
    "duration": 264,
    "start_time": "2022-01-17T11:05:54.195Z"
   },
   {
    "duration": 257,
    "start_time": "2022-01-17T11:07:16.911Z"
   },
   {
    "duration": 254,
    "start_time": "2022-01-17T11:07:26.674Z"
   },
   {
    "duration": 317,
    "start_time": "2022-01-17T11:08:05.194Z"
   },
   {
    "duration": 255,
    "start_time": "2022-01-17T11:08:19.557Z"
   },
   {
    "duration": 251,
    "start_time": "2022-01-17T11:08:30.654Z"
   },
   {
    "duration": 244,
    "start_time": "2022-01-17T11:08:41.555Z"
   },
   {
    "duration": 288,
    "start_time": "2022-01-17T11:08:49.401Z"
   },
   {
    "duration": 260,
    "start_time": "2022-01-17T11:09:50.916Z"
   },
   {
    "duration": 256,
    "start_time": "2022-01-17T11:09:59.317Z"
   },
   {
    "duration": 257,
    "start_time": "2022-01-17T11:10:28.434Z"
   },
   {
    "duration": 341,
    "start_time": "2022-01-17T11:10:54.719Z"
   },
   {
    "duration": 314,
    "start_time": "2022-01-17T11:11:10.399Z"
   },
   {
    "duration": 252,
    "start_time": "2022-01-17T11:13:18.621Z"
   },
   {
    "duration": 469,
    "start_time": "2022-01-17T11:15:43.707Z"
   },
   {
    "duration": 84,
    "start_time": "2022-01-17T11:15:44.314Z"
   },
   {
    "duration": 62,
    "start_time": "2022-01-17T11:15:45.212Z"
   },
   {
    "duration": 39,
    "start_time": "2022-01-17T11:15:45.596Z"
   },
   {
    "duration": 44,
    "start_time": "2022-01-17T11:15:45.991Z"
   },
   {
    "duration": 41,
    "start_time": "2022-01-17T11:15:46.193Z"
   },
   {
    "duration": 107,
    "start_time": "2022-01-17T11:15:46.564Z"
   },
   {
    "duration": 261,
    "start_time": "2022-01-17T11:15:47.414Z"
   },
   {
    "duration": 265,
    "start_time": "2022-01-17T11:15:47.924Z"
   },
   {
    "duration": 269,
    "start_time": "2022-01-17T11:15:48.520Z"
   },
   {
    "duration": 322,
    "start_time": "2022-01-17T11:15:49.105Z"
   },
   {
    "duration": 261,
    "start_time": "2022-01-17T11:15:49.736Z"
   },
   {
    "duration": 360,
    "start_time": "2022-01-17T11:15:50.402Z"
   },
   {
    "duration": 6,
    "start_time": "2022-01-17T11:15:51.772Z"
   },
   {
    "duration": 15,
    "start_time": "2022-01-17T11:15:52.389Z"
   },
   {
    "duration": 5,
    "start_time": "2022-01-17T11:15:54.364Z"
   },
   {
    "duration": 286,
    "start_time": "2022-01-17T11:16:42.043Z"
   },
   {
    "duration": 10,
    "start_time": "2022-01-17T11:16:50.070Z"
   },
   {
    "duration": 266,
    "start_time": "2022-01-17T11:17:08.654Z"
   },
   {
    "duration": 447,
    "start_time": "2022-01-17T11:17:18.174Z"
   },
   {
    "duration": 83,
    "start_time": "2022-01-17T11:17:19.707Z"
   },
   {
    "duration": 61,
    "start_time": "2022-01-17T11:17:22.071Z"
   },
   {
    "duration": 39,
    "start_time": "2022-01-17T11:17:23.084Z"
   },
   {
    "duration": 42,
    "start_time": "2022-01-17T11:17:23.931Z"
   },
   {
    "duration": 39,
    "start_time": "2022-01-17T11:17:24.351Z"
   },
   {
    "duration": 105,
    "start_time": "2022-01-17T11:17:25.184Z"
   },
   {
    "duration": 284,
    "start_time": "2022-01-17T11:17:26.903Z"
   },
   {
    "duration": 256,
    "start_time": "2022-01-17T11:17:28.199Z"
   },
   {
    "duration": 252,
    "start_time": "2022-01-17T11:17:29.405Z"
   },
   {
    "duration": 250,
    "start_time": "2022-01-17T11:17:30.659Z"
   },
   {
    "duration": 255,
    "start_time": "2022-01-17T11:17:31.883Z"
   },
   {
    "duration": 254,
    "start_time": "2022-01-17T11:17:33.134Z"
   },
   {
    "duration": 6,
    "start_time": "2022-01-17T11:17:35.177Z"
   },
   {
    "duration": 9,
    "start_time": "2022-01-17T11:17:39.331Z"
   },
   {
    "duration": 5,
    "start_time": "2022-01-17T11:17:40.887Z"
   },
   {
    "duration": 405,
    "start_time": "2022-01-17T11:27:42.427Z"
   },
   {
    "duration": 290,
    "start_time": "2022-01-17T11:30:33.920Z"
   },
   {
    "duration": 282,
    "start_time": "2022-01-17T11:30:41.432Z"
   },
   {
    "duration": 496,
    "start_time": "2022-01-17T11:31:01.360Z"
   },
   {
    "duration": 92,
    "start_time": "2022-01-17T11:31:01.904Z"
   },
   {
    "duration": 62,
    "start_time": "2022-01-17T11:31:02.803Z"
   },
   {
    "duration": 39,
    "start_time": "2022-01-17T11:31:03.169Z"
   },
   {
    "duration": 43,
    "start_time": "2022-01-17T11:31:03.533Z"
   },
   {
    "duration": 39,
    "start_time": "2022-01-17T11:31:03.732Z"
   },
   {
    "duration": 111,
    "start_time": "2022-01-17T11:31:04.094Z"
   },
   {
    "duration": 284,
    "start_time": "2022-01-17T11:31:04.879Z"
   },
   {
    "duration": 358,
    "start_time": "2022-01-17T11:31:05.471Z"
   },
   {
    "duration": 266,
    "start_time": "2022-01-17T11:31:06.044Z"
   },
   {
    "duration": 252,
    "start_time": "2022-01-17T11:31:06.639Z"
   },
   {
    "duration": 260,
    "start_time": "2022-01-17T11:31:07.209Z"
   },
   {
    "duration": 304,
    "start_time": "2022-01-17T11:31:07.714Z"
   },
   {
    "duration": 5,
    "start_time": "2022-01-17T11:31:08.610Z"
   },
   {
    "duration": 271,
    "start_time": "2022-01-17T11:31:49.557Z"
   },
   {
    "duration": 466,
    "start_time": "2022-01-17T11:32:06.983Z"
   },
   {
    "duration": 84,
    "start_time": "2022-01-17T11:32:07.479Z"
   },
   {
    "duration": 61,
    "start_time": "2022-01-17T11:32:08.356Z"
   },
   {
    "duration": 40,
    "start_time": "2022-01-17T11:32:08.717Z"
   },
   {
    "duration": 43,
    "start_time": "2022-01-17T11:32:09.087Z"
   },
   {
    "duration": 39,
    "start_time": "2022-01-17T11:32:09.276Z"
   },
   {
    "duration": 107,
    "start_time": "2022-01-17T11:32:09.649Z"
   },
   {
    "duration": 277,
    "start_time": "2022-01-17T11:32:10.416Z"
   },
   {
    "duration": 255,
    "start_time": "2022-01-17T11:32:11.010Z"
   },
   {
    "duration": 247,
    "start_time": "2022-01-17T11:32:33.921Z"
   },
   {
    "duration": 320,
    "start_time": "2022-01-17T11:32:50.354Z"
   },
   {
    "duration": 302,
    "start_time": "2022-01-17T11:33:07.253Z"
   },
   {
    "duration": 287,
    "start_time": "2022-01-17T11:33:17.619Z"
   },
   {
    "duration": 105,
    "start_time": "2022-01-17T11:33:31.077Z"
   },
   {
    "duration": 1179,
    "start_time": "2022-01-17T11:33:48.590Z"
   },
   {
    "duration": 316,
    "start_time": "2022-01-17T11:33:57.719Z"
   },
   {
    "duration": 94,
    "start_time": "2022-01-17T11:34:20.175Z"
   },
   {
    "duration": 305,
    "start_time": "2022-01-17T11:34:28.002Z"
   },
   {
    "duration": 263,
    "start_time": "2022-01-17T11:35:15.303Z"
   },
   {
    "duration": 681,
    "start_time": "2022-01-17T11:36:03.978Z"
   },
   {
    "duration": 251,
    "start_time": "2022-01-17T11:36:12.445Z"
   },
   {
    "duration": 254,
    "start_time": "2022-01-17T11:36:27.962Z"
   },
   {
    "duration": 304,
    "start_time": "2022-01-17T11:37:40.804Z"
   },
   {
    "duration": 271,
    "start_time": "2022-01-17T11:38:02.220Z"
   },
   {
    "duration": 332,
    "start_time": "2022-01-17T11:38:38.223Z"
   },
   {
    "duration": 525,
    "start_time": "2022-01-17T11:39:00.924Z"
   },
   {
    "duration": 275,
    "start_time": "2022-01-17T11:39:13.666Z"
   },
   {
    "duration": 290,
    "start_time": "2022-01-17T11:41:20.909Z"
   },
   {
    "duration": 748,
    "start_time": "2022-01-17T11:41:40.807Z"
   },
   {
    "duration": 463,
    "start_time": "2022-01-17T11:42:02.994Z"
   },
   {
    "duration": 85,
    "start_time": "2022-01-17T11:42:03.553Z"
   },
   {
    "duration": 60,
    "start_time": "2022-01-17T11:42:04.417Z"
   },
   {
    "duration": 39,
    "start_time": "2022-01-17T11:42:04.765Z"
   },
   {
    "duration": 43,
    "start_time": "2022-01-17T11:42:05.124Z"
   },
   {
    "duration": 39,
    "start_time": "2022-01-17T11:42:05.305Z"
   },
   {
    "duration": 107,
    "start_time": "2022-01-17T11:42:05.652Z"
   },
   {
    "duration": 256,
    "start_time": "2022-01-17T11:42:06.321Z"
   },
   {
    "duration": 253,
    "start_time": "2022-01-17T11:42:06.825Z"
   },
   {
    "duration": 259,
    "start_time": "2022-01-17T11:42:07.353Z"
   },
   {
    "duration": 250,
    "start_time": "2022-01-17T11:42:07.911Z"
   },
   {
    "duration": 336,
    "start_time": "2022-01-17T11:42:08.325Z"
   },
   {
    "duration": 267,
    "start_time": "2022-01-17T11:42:08.663Z"
   },
   {
    "duration": 272,
    "start_time": "2022-01-17T11:42:20.525Z"
   },
   {
    "duration": 39,
    "start_time": "2022-01-17T11:46:43.785Z"
   },
   {
    "duration": 259,
    "start_time": "2022-01-17T11:47:32.376Z"
   },
   {
    "duration": 265,
    "start_time": "2022-01-17T11:47:45.842Z"
   },
   {
    "duration": 250,
    "start_time": "2022-01-17T11:47:55.039Z"
   },
   {
    "duration": 256,
    "start_time": "2022-01-17T11:50:22.731Z"
   },
   {
    "duration": 294,
    "start_time": "2022-01-17T11:51:02.670Z"
   },
   {
    "duration": 364,
    "start_time": "2022-01-17T11:51:10.321Z"
   },
   {
    "duration": 248,
    "start_time": "2022-01-17T11:51:55.164Z"
   },
   {
    "duration": 245,
    "start_time": "2022-01-17T11:52:03.700Z"
   },
   {
    "duration": 264,
    "start_time": "2022-01-17T11:52:14.124Z"
   },
   {
    "duration": 258,
    "start_time": "2022-01-17T11:52:22.593Z"
   },
   {
    "duration": 260,
    "start_time": "2022-01-17T11:52:31.096Z"
   },
   {
    "duration": 255,
    "start_time": "2022-01-17T11:57:28.738Z"
   },
   {
    "duration": 293,
    "start_time": "2022-01-17T11:59:19.872Z"
   },
   {
    "duration": 268,
    "start_time": "2022-01-17T12:01:00.848Z"
   },
   {
    "duration": 351,
    "start_time": "2022-01-17T12:01:28.979Z"
   },
   {
    "duration": 283,
    "start_time": "2022-01-17T12:03:12.891Z"
   },
   {
    "duration": 600,
    "start_time": "2022-01-17T12:03:31.002Z"
   },
   {
    "duration": 272,
    "start_time": "2022-01-17T12:03:38.640Z"
   },
   {
    "duration": 491,
    "start_time": "2022-01-17T12:04:47.034Z"
   },
   {
    "duration": 98,
    "start_time": "2022-01-17T12:04:47.529Z"
   },
   {
    "duration": 64,
    "start_time": "2022-01-17T12:04:48.436Z"
   },
   {
    "duration": 40,
    "start_time": "2022-01-17T12:04:48.800Z"
   },
   {
    "duration": 43,
    "start_time": "2022-01-17T12:04:49.174Z"
   },
   {
    "duration": 39,
    "start_time": "2022-01-17T12:04:49.354Z"
   },
   {
    "duration": 112,
    "start_time": "2022-01-17T12:04:49.707Z"
   },
   {
    "duration": 276,
    "start_time": "2022-01-17T12:04:50.424Z"
   },
   {
    "duration": 258,
    "start_time": "2022-01-17T12:04:50.990Z"
   },
   {
    "duration": 289,
    "start_time": "2022-01-17T12:05:01.638Z"
   },
   {
    "duration": 330,
    "start_time": "2022-01-17T12:06:14.291Z"
   },
   {
    "duration": 276,
    "start_time": "2022-01-17T12:06:47.926Z"
   },
   {
    "duration": 259,
    "start_time": "2022-01-17T12:07:12.509Z"
   },
   {
    "duration": 262,
    "start_time": "2022-01-17T12:07:21.432Z"
   },
   {
    "duration": 262,
    "start_time": "2022-01-17T12:07:30.365Z"
   },
   {
    "duration": 255,
    "start_time": "2022-01-17T12:08:08.472Z"
   },
   {
    "duration": 263,
    "start_time": "2022-01-17T12:08:26.587Z"
   },
   {
    "duration": 301,
    "start_time": "2022-01-17T12:08:40.495Z"
   },
   {
    "duration": 556,
    "start_time": "2022-01-17T12:14:18.488Z"
   },
   {
    "duration": 681,
    "start_time": "2022-01-17T12:14:47.091Z"
   },
   {
    "duration": 99,
    "start_time": "2022-01-17T12:14:47.774Z"
   },
   {
    "duration": 65,
    "start_time": "2022-01-17T12:14:48.561Z"
   },
   {
    "duration": 39,
    "start_time": "2022-01-17T12:14:48.924Z"
   },
   {
    "duration": 43,
    "start_time": "2022-01-17T12:14:49.326Z"
   },
   {
    "duration": 40,
    "start_time": "2022-01-17T12:14:49.520Z"
   },
   {
    "duration": 107,
    "start_time": "2022-01-17T12:14:49.903Z"
   },
   {
    "duration": 279,
    "start_time": "2022-01-17T12:14:50.604Z"
   },
   {
    "duration": 274,
    "start_time": "2022-01-17T12:14:51.149Z"
   },
   {
    "duration": 278,
    "start_time": "2022-01-17T12:14:51.697Z"
   },
   {
    "duration": 257,
    "start_time": "2022-01-17T12:14:52.232Z"
   },
   {
    "duration": 261,
    "start_time": "2022-01-17T12:14:52.773Z"
   },
   {
    "duration": 573,
    "start_time": "2022-01-17T12:14:53.308Z"
   },
   {
    "duration": 6,
    "start_time": "2022-01-17T12:14:54.256Z"
   },
   {
    "duration": 10,
    "start_time": "2022-01-17T12:14:54.833Z"
   },
   {
    "duration": 5,
    "start_time": "2022-01-17T12:14:55.434Z"
   },
   {
    "duration": 304,
    "start_time": "2022-01-17T12:15:33.742Z"
   },
   {
    "duration": 297,
    "start_time": "2022-01-17T12:16:06.098Z"
   },
   {
    "duration": 280,
    "start_time": "2022-01-17T12:16:58.815Z"
   },
   {
    "duration": 282,
    "start_time": "2022-01-17T12:17:16.158Z"
   },
   {
    "duration": 456,
    "start_time": "2022-01-17T12:17:27.958Z"
   },
   {
    "duration": 88,
    "start_time": "2022-01-17T12:17:28.505Z"
   },
   {
    "duration": 63,
    "start_time": "2022-01-17T12:17:29.952Z"
   },
   {
    "duration": 39,
    "start_time": "2022-01-17T12:17:30.914Z"
   },
   {
    "duration": 51,
    "start_time": "2022-01-17T12:17:31.698Z"
   },
   {
    "duration": 40,
    "start_time": "2022-01-17T12:17:32.055Z"
   },
   {
    "duration": 107,
    "start_time": "2022-01-17T12:17:32.855Z"
   },
   {
    "duration": 269,
    "start_time": "2022-01-17T12:17:34.507Z"
   },
   {
    "duration": 263,
    "start_time": "2022-01-17T12:17:35.925Z"
   },
   {
    "duration": 361,
    "start_time": "2022-01-17T12:17:37.184Z"
   },
   {
    "duration": 254,
    "start_time": "2022-01-17T12:17:38.466Z"
   },
   {
    "duration": 257,
    "start_time": "2022-01-17T12:17:39.896Z"
   },
   {
    "duration": 430,
    "start_time": "2022-01-17T12:17:41.180Z"
   },
   {
    "duration": 1627,
    "start_time": "2022-01-17T12:18:00.328Z"
   },
   {
    "duration": 1131,
    "start_time": "2022-01-17T12:18:25.568Z"
   },
   {
    "duration": 2113,
    "start_time": "2022-01-17T12:20:22.922Z"
   },
   {
    "duration": 366,
    "start_time": "2022-01-17T12:20:55.015Z"
   },
   {
    "duration": 434,
    "start_time": "2022-01-17T12:21:12.774Z"
   },
   {
    "duration": 620,
    "start_time": "2022-01-17T12:21:18.935Z"
   },
   {
    "duration": 747,
    "start_time": "2022-01-17T12:21:29.380Z"
   },
   {
    "duration": 542,
    "start_time": "2022-01-17T12:21:36.594Z"
   },
   {
    "duration": 522,
    "start_time": "2022-01-17T12:21:53.510Z"
   },
   {
    "duration": 527,
    "start_time": "2022-01-17T12:22:37.269Z"
   },
   {
    "duration": 655,
    "start_time": "2022-01-17T12:22:45.792Z"
   },
   {
    "duration": 549,
    "start_time": "2022-01-17T12:23:03.731Z"
   },
   {
    "duration": 533,
    "start_time": "2022-01-17T12:23:23.916Z"
   },
   {
    "duration": 619,
    "start_time": "2022-01-17T12:23:33.415Z"
   },
   {
    "duration": 541,
    "start_time": "2022-01-17T12:23:44.727Z"
   },
   {
    "duration": 533,
    "start_time": "2022-01-17T12:23:51.033Z"
   },
   {
    "duration": 521,
    "start_time": "2022-01-17T12:23:56.318Z"
   },
   {
    "duration": 652,
    "start_time": "2022-01-17T12:24:02.665Z"
   },
   {
    "duration": 538,
    "start_time": "2022-01-17T12:24:32.700Z"
   },
   {
    "duration": 740,
    "start_time": "2022-01-17T12:24:57.966Z"
   },
   {
    "duration": 518,
    "start_time": "2022-01-17T12:25:04.002Z"
   },
   {
    "duration": 571,
    "start_time": "2022-01-17T12:25:15.159Z"
   },
   {
    "duration": 422,
    "start_time": "2022-01-17T12:25:23.310Z"
   },
   {
    "duration": 461,
    "start_time": "2022-01-17T12:25:31.612Z"
   },
   {
    "duration": 263,
    "start_time": "2022-01-17T12:26:03.305Z"
   },
   {
    "duration": 550,
    "start_time": "2022-01-17T12:27:08.912Z"
   },
   {
    "duration": 471,
    "start_time": "2022-01-17T12:27:52.424Z"
   },
   {
    "duration": 265,
    "start_time": "2022-01-17T12:28:24.021Z"
   },
   {
    "duration": 93,
    "start_time": "2022-01-17T12:29:06.638Z"
   },
   {
    "duration": 88,
    "start_time": "2022-01-17T12:29:18.740Z"
   },
   {
    "duration": 92,
    "start_time": "2022-01-17T12:29:31.863Z"
   },
   {
    "duration": 7362,
    "start_time": "2022-01-17T12:29:41.276Z"
   },
   {
    "duration": 450,
    "start_time": "2022-01-17T12:30:05.083Z"
   },
   {
    "duration": 461,
    "start_time": "2022-01-17T12:30:43.215Z"
   },
   {
    "duration": 557,
    "start_time": "2022-01-17T12:31:29.079Z"
   },
   {
    "duration": 360,
    "start_time": "2022-01-17T12:31:45.101Z"
   },
   {
    "duration": 351,
    "start_time": "2022-01-17T12:31:55.757Z"
   },
   {
    "duration": 367,
    "start_time": "2022-01-17T12:32:21.841Z"
   },
   {
    "duration": 287,
    "start_time": "2022-01-17T12:32:29.537Z"
   },
   {
    "duration": 376,
    "start_time": "2022-01-17T12:32:37.057Z"
   },
   {
    "duration": 363,
    "start_time": "2022-01-17T12:32:56.404Z"
   },
   {
    "duration": 551,
    "start_time": "2022-01-17T12:33:11.111Z"
   },
   {
    "duration": 357,
    "start_time": "2022-01-17T12:33:53.771Z"
   },
   {
    "duration": 91,
    "start_time": "2022-01-17T12:34:31.082Z"
   },
   {
    "duration": 258,
    "start_time": "2022-01-17T12:34:47.683Z"
   },
   {
    "duration": 120,
    "start_time": "2022-01-17T12:34:55.438Z"
   },
   {
    "duration": 354,
    "start_time": "2022-01-17T12:35:04.074Z"
   },
   {
    "duration": 357,
    "start_time": "2022-01-17T12:35:20.744Z"
   },
   {
    "duration": 360,
    "start_time": "2022-01-17T12:35:46.724Z"
   },
   {
    "duration": 774,
    "start_time": "2022-01-17T12:36:45.015Z"
   },
   {
    "duration": 379,
    "start_time": "2022-01-17T12:39:12.871Z"
   },
   {
    "duration": 368,
    "start_time": "2022-01-17T12:40:26.584Z"
   },
   {
    "duration": 141,
    "start_time": "2022-01-17T12:42:21.306Z"
   },
   {
    "duration": 534,
    "start_time": "2022-01-17T12:42:31.331Z"
   },
   {
    "duration": 135,
    "start_time": "2022-01-17T12:42:54.767Z"
   },
   {
    "duration": 86,
    "start_time": "2022-01-17T12:43:07.946Z"
   },
   {
    "duration": 98,
    "start_time": "2022-01-17T12:43:18.095Z"
   },
   {
    "duration": 454,
    "start_time": "2022-01-17T12:43:25.063Z"
   },
   {
    "duration": 90,
    "start_time": "2022-01-17T12:43:25.585Z"
   },
   {
    "duration": 63,
    "start_time": "2022-01-17T12:43:26.465Z"
   },
   {
    "duration": 39,
    "start_time": "2022-01-17T12:43:26.830Z"
   },
   {
    "duration": 43,
    "start_time": "2022-01-17T12:43:27.179Z"
   },
   {
    "duration": 38,
    "start_time": "2022-01-17T12:43:27.350Z"
   },
   {
    "duration": 106,
    "start_time": "2022-01-17T12:43:27.717Z"
   },
   {
    "duration": 272,
    "start_time": "2022-01-17T12:43:28.408Z"
   },
   {
    "duration": 472,
    "start_time": "2022-01-17T12:43:28.942Z"
   },
   {
    "duration": 369,
    "start_time": "2022-01-17T12:43:29.416Z"
   },
   {
    "duration": 88,
    "start_time": "2022-01-17T12:43:29.817Z"
   },
   {
    "duration": 90,
    "start_time": "2022-01-17T12:43:34.753Z"
   },
   {
    "duration": 99,
    "start_time": "2022-01-17T12:43:53.106Z"
   },
   {
    "duration": 103,
    "start_time": "2022-01-17T12:44:14.064Z"
   },
   {
    "duration": 90,
    "start_time": "2022-01-17T12:44:27.866Z"
   },
   {
    "duration": 154,
    "start_time": "2022-01-17T12:44:32.573Z"
   },
   {
    "duration": 98,
    "start_time": "2022-01-17T12:44:36.040Z"
   },
   {
    "duration": 101,
    "start_time": "2022-01-17T12:44:42.151Z"
   },
   {
    "duration": 145,
    "start_time": "2022-01-17T12:44:44.498Z"
   },
   {
    "duration": 471,
    "start_time": "2022-01-17T12:45:09.182Z"
   },
   {
    "duration": 469,
    "start_time": "2022-01-17T12:45:24.007Z"
   },
   {
    "duration": 577,
    "start_time": "2022-01-17T12:45:29.925Z"
   },
   {
    "duration": 470,
    "start_time": "2022-01-17T12:45:36.559Z"
   },
   {
    "duration": 468,
    "start_time": "2022-01-17T12:46:02.240Z"
   },
   {
    "duration": 456,
    "start_time": "2022-01-17T12:46:07.900Z"
   },
   {
    "duration": 103,
    "start_time": "2022-01-17T12:47:14.258Z"
   },
   {
    "duration": 652,
    "start_time": "2022-01-17T12:47:28.682Z"
   },
   {
    "duration": 470,
    "start_time": "2022-01-17T12:47:43.686Z"
   },
   {
    "duration": 473,
    "start_time": "2022-01-17T12:47:51.973Z"
   },
   {
    "duration": 451,
    "start_time": "2022-01-17T12:47:59.204Z"
   },
   {
    "duration": 561,
    "start_time": "2022-01-17T12:48:07.403Z"
   },
   {
    "duration": 463,
    "start_time": "2022-01-17T12:48:41.424Z"
   },
   {
    "duration": 882,
    "start_time": "2022-01-17T12:48:49.025Z"
   },
   {
    "duration": 975,
    "start_time": "2022-01-17T12:49:01.607Z"
   },
   {
    "duration": 536,
    "start_time": "2022-01-17T12:49:42.334Z"
   },
   {
    "duration": 486,
    "start_time": "2022-01-17T12:49:56.317Z"
   },
   {
    "duration": 847,
    "start_time": "2022-01-17T12:50:09.113Z"
   },
   {
    "duration": 574,
    "start_time": "2022-01-17T12:50:23.841Z"
   },
   {
    "duration": 456,
    "start_time": "2022-01-17T12:51:14.283Z"
   },
   {
    "duration": 454,
    "start_time": "2022-01-17T12:51:26.364Z"
   },
   {
    "duration": 461,
    "start_time": "2022-01-17T12:52:16.795Z"
   },
   {
    "duration": 573,
    "start_time": "2022-01-17T12:54:11.028Z"
   },
   {
    "duration": 122,
    "start_time": "2022-01-17T12:54:40.102Z"
   },
   {
    "duration": 458,
    "start_time": "2022-01-17T12:54:44.863Z"
   },
   {
    "duration": 452,
    "start_time": "2022-01-17T12:54:49.950Z"
   },
   {
    "duration": 566,
    "start_time": "2022-01-17T12:55:02.024Z"
   },
   {
    "duration": 860,
    "start_time": "2022-01-17T12:55:53.628Z"
   },
   {
    "duration": 859,
    "start_time": "2022-01-17T12:56:02.463Z"
   },
   {
    "duration": 841,
    "start_time": "2022-01-17T12:56:08.878Z"
   },
   {
    "duration": 974,
    "start_time": "2022-01-17T12:56:13.615Z"
   },
   {
    "duration": 684,
    "start_time": "2022-01-17T12:56:23.913Z"
   },
   {
    "duration": 833,
    "start_time": "2022-01-17T12:56:29.530Z"
   },
   {
    "duration": 823,
    "start_time": "2022-01-17T12:56:45.751Z"
   },
   {
    "duration": 556,
    "start_time": "2022-01-17T12:56:57.170Z"
   },
   {
    "duration": 461,
    "start_time": "2022-01-17T12:57:08.684Z"
   },
   {
    "duration": 458,
    "start_time": "2022-01-17T12:57:18.512Z"
   },
   {
    "duration": 553,
    "start_time": "2022-01-17T12:57:28.537Z"
   },
   {
    "duration": 465,
    "start_time": "2022-01-17T12:57:34.692Z"
   },
   {
    "duration": 350,
    "start_time": "2022-01-17T12:58:04.419Z"
   },
   {
    "duration": 465,
    "start_time": "2022-01-17T12:58:14.957Z"
   },
   {
    "duration": 458,
    "start_time": "2022-01-17T12:58:22.469Z"
   },
   {
    "duration": 562,
    "start_time": "2022-01-17T12:58:27.253Z"
   },
   {
    "duration": 351,
    "start_time": "2022-01-17T12:58:52.461Z"
   },
   {
    "duration": 367,
    "start_time": "2022-01-17T12:59:04.804Z"
   },
   {
    "duration": 371,
    "start_time": "2022-01-17T12:59:13.716Z"
   },
   {
    "duration": 365,
    "start_time": "2022-01-17T12:59:18.673Z"
   },
   {
    "duration": 462,
    "start_time": "2022-01-17T12:59:26.691Z"
   },
   {
    "duration": 367,
    "start_time": "2022-01-17T12:59:47.892Z"
   },
   {
    "duration": 377,
    "start_time": "2022-01-17T12:59:58.032Z"
   },
   {
    "duration": 375,
    "start_time": "2022-01-17T13:00:05.397Z"
   },
   {
    "duration": 385,
    "start_time": "2022-01-17T13:00:13.644Z"
   },
   {
    "duration": 378,
    "start_time": "2022-01-17T13:00:20.541Z"
   },
   {
    "duration": 472,
    "start_time": "2022-01-17T13:00:25.834Z"
   },
   {
    "duration": 384,
    "start_time": "2022-01-17T13:00:31.033Z"
   },
   {
    "duration": 374,
    "start_time": "2022-01-17T13:02:24.156Z"
   },
   {
    "duration": 394,
    "start_time": "2022-01-17T13:04:47.713Z"
   },
   {
    "duration": 5,
    "start_time": "2022-01-17T13:06:47.736Z"
   },
   {
    "duration": 6,
    "start_time": "2022-01-17T13:06:50.571Z"
   },
   {
    "duration": 6,
    "start_time": "2022-01-17T13:12:57.605Z"
   },
   {
    "duration": 107,
    "start_time": "2022-01-17T13:13:25.829Z"
   },
   {
    "duration": 103,
    "start_time": "2022-01-17T13:13:32.811Z"
   },
   {
    "duration": 106,
    "start_time": "2022-01-17T13:14:09.958Z"
   },
   {
    "duration": 111,
    "start_time": "2022-01-17T13:14:28.504Z"
   },
   {
    "duration": 392,
    "start_time": "2022-01-17T13:14:37.397Z"
   },
   {
    "duration": 123,
    "start_time": "2022-01-17T13:14:45.956Z"
   },
   {
    "duration": 111,
    "start_time": "2022-01-17T13:16:15.151Z"
   },
   {
    "duration": 457,
    "start_time": "2022-01-17T13:16:30.564Z"
   },
   {
    "duration": 87,
    "start_time": "2022-01-17T13:16:31.122Z"
   },
   {
    "duration": 62,
    "start_time": "2022-01-17T13:16:31.995Z"
   },
   {
    "duration": 39,
    "start_time": "2022-01-17T13:16:32.371Z"
   },
   {
    "duration": 43,
    "start_time": "2022-01-17T13:16:32.740Z"
   },
   {
    "duration": 40,
    "start_time": "2022-01-17T13:16:32.926Z"
   },
   {
    "duration": 115,
    "start_time": "2022-01-17T13:16:33.304Z"
   },
   {
    "duration": 531,
    "start_time": "2022-01-17T13:16:34.092Z"
   },
   {
    "duration": 111,
    "start_time": "2022-01-17T13:17:03.133Z"
   },
   {
    "duration": 121,
    "start_time": "2022-01-17T13:17:17.635Z"
   },
   {
    "duration": 214,
    "start_time": "2022-01-17T13:17:31.673Z"
   },
   {
    "duration": 457,
    "start_time": "2022-01-17T13:18:09.168Z"
   },
   {
    "duration": 90,
    "start_time": "2022-01-17T13:18:09.755Z"
   },
   {
    "duration": 60,
    "start_time": "2022-01-17T13:18:11.015Z"
   },
   {
    "duration": 40,
    "start_time": "2022-01-17T13:18:11.518Z"
   },
   {
    "duration": 43,
    "start_time": "2022-01-17T13:18:12.060Z"
   },
   {
    "duration": 40,
    "start_time": "2022-01-17T13:18:12.328Z"
   },
   {
    "duration": 132,
    "start_time": "2022-01-17T13:18:17.425Z"
   },
   {
    "duration": 133,
    "start_time": "2022-01-17T13:19:52.593Z"
   },
   {
    "duration": 460,
    "start_time": "2022-01-17T13:20:05.013Z"
   },
   {
    "duration": 84,
    "start_time": "2022-01-17T13:20:05.603Z"
   },
   {
    "duration": 60,
    "start_time": "2022-01-17T13:20:06.544Z"
   },
   {
    "duration": 39,
    "start_time": "2022-01-17T13:20:06.934Z"
   },
   {
    "duration": 43,
    "start_time": "2022-01-17T13:20:07.345Z"
   },
   {
    "duration": 40,
    "start_time": "2022-01-17T13:20:07.620Z"
   },
   {
    "duration": 145,
    "start_time": "2022-01-17T13:20:08.003Z"
   },
   {
    "duration": 139,
    "start_time": "2022-01-17T13:21:15.612Z"
   },
   {
    "duration": 234,
    "start_time": "2022-01-17T13:22:48.839Z"
   },
   {
    "duration": 35,
    "start_time": "2022-01-17T13:23:15.326Z"
   },
   {
    "duration": 453,
    "start_time": "2022-01-17T13:23:19.439Z"
   },
   {
    "duration": 89,
    "start_time": "2022-01-17T13:23:19.967Z"
   },
   {
    "duration": 63,
    "start_time": "2022-01-17T13:23:20.944Z"
   },
   {
    "duration": 40,
    "start_time": "2022-01-17T13:23:21.335Z"
   },
   {
    "duration": 43,
    "start_time": "2022-01-17T13:23:21.735Z"
   },
   {
    "duration": 37,
    "start_time": "2022-01-17T13:23:21.942Z"
   },
   {
    "duration": 149,
    "start_time": "2022-01-17T13:23:22.378Z"
   },
   {
    "duration": 135,
    "start_time": "2022-01-17T13:23:39.740Z"
   },
   {
    "duration": 458,
    "start_time": "2022-01-17T13:23:46.191Z"
   },
   {
    "duration": 86,
    "start_time": "2022-01-17T13:23:46.780Z"
   },
   {
    "duration": 59,
    "start_time": "2022-01-17T13:23:47.657Z"
   },
   {
    "duration": 41,
    "start_time": "2022-01-17T13:23:48.027Z"
   },
   {
    "duration": 50,
    "start_time": "2022-01-17T13:23:48.417Z"
   },
   {
    "duration": 41,
    "start_time": "2022-01-17T13:23:48.627Z"
   },
   {
    "duration": 159,
    "start_time": "2022-01-17T13:23:49.028Z"
   },
   {
    "duration": 397,
    "start_time": "2022-01-17T13:23:50.738Z"
   },
   {
    "duration": 150,
    "start_time": "2022-01-17T13:25:22.593Z"
   },
   {
    "duration": 147,
    "start_time": "2022-01-17T13:26:17.568Z"
   },
   {
    "duration": 149,
    "start_time": "2022-01-17T13:26:24.809Z"
   },
   {
    "duration": 132,
    "start_time": "2022-01-17T13:26:53.015Z"
   },
   {
    "duration": 461,
    "start_time": "2022-01-17T13:27:22.700Z"
   },
   {
    "duration": 84,
    "start_time": "2022-01-17T13:27:23.284Z"
   },
   {
    "duration": 62,
    "start_time": "2022-01-17T13:27:24.195Z"
   },
   {
    "duration": 39,
    "start_time": "2022-01-17T13:27:24.583Z"
   },
   {
    "duration": 42,
    "start_time": "2022-01-17T13:27:24.975Z"
   },
   {
    "duration": 36,
    "start_time": "2022-01-17T13:27:25.179Z"
   },
   {
    "duration": 156,
    "start_time": "2022-01-17T13:27:25.592Z"
   },
   {
    "duration": 128,
    "start_time": "2022-01-17T13:27:46.755Z"
   },
   {
    "duration": 42,
    "start_time": "2022-01-17T13:27:53.054Z"
   },
   {
    "duration": 60,
    "start_time": "2022-01-17T13:27:53.942Z"
   },
   {
    "duration": 41,
    "start_time": "2022-01-17T13:27:54.343Z"
   },
   {
    "duration": 41,
    "start_time": "2022-01-17T13:27:54.927Z"
   },
   {
    "duration": 35,
    "start_time": "2022-01-17T13:27:55.268Z"
   },
   {
    "duration": 136,
    "start_time": "2022-01-17T13:27:55.991Z"
   },
   {
    "duration": 201,
    "start_time": "2022-01-17T13:36:07.932Z"
   },
   {
    "duration": 470,
    "start_time": "2022-01-17T13:36:17.127Z"
   },
   {
    "duration": 88,
    "start_time": "2022-01-17T13:36:17.644Z"
   },
   {
    "duration": 65,
    "start_time": "2022-01-17T13:36:18.376Z"
   },
   {
    "duration": 41,
    "start_time": "2022-01-17T13:36:18.574Z"
   },
   {
    "duration": 44,
    "start_time": "2022-01-17T13:36:19.011Z"
   },
   {
    "duration": 38,
    "start_time": "2022-01-17T13:36:19.056Z"
   },
   {
    "duration": 694,
    "start_time": "2022-01-17T13:36:19.095Z"
   },
   {
    "duration": -196223,
    "start_time": "2022-01-17T13:39:36.014Z"
   },
   {
    "duration": -196232,
    "start_time": "2022-01-17T13:39:36.024Z"
   },
   {
    "duration": 134,
    "start_time": "2022-01-17T13:36:28.067Z"
   },
   {
    "duration": 130,
    "start_time": "2022-01-17T13:36:48.812Z"
   },
   {
    "duration": 44,
    "start_time": "2022-01-17T13:37:07.001Z"
   },
   {
    "duration": 99,
    "start_time": "2022-01-17T13:38:46.216Z"
   },
   {
    "duration": 107,
    "start_time": "2022-01-17T13:38:57.539Z"
   },
   {
    "duration": 103,
    "start_time": "2022-01-17T13:39:40.440Z"
   },
   {
    "duration": 105,
    "start_time": "2022-01-17T13:40:27.974Z"
   },
   {
    "duration": 112,
    "start_time": "2022-01-17T13:40:47.391Z"
   },
   {
    "duration": 118,
    "start_time": "2022-01-17T13:41:00.304Z"
   },
   {
    "duration": 135,
    "start_time": "2022-01-17T13:41:09.011Z"
   },
   {
    "duration": 101,
    "start_time": "2022-01-17T13:41:24.471Z"
   },
   {
    "duration": 122,
    "start_time": "2022-01-17T13:41:55.546Z"
   },
   {
    "duration": 107,
    "start_time": "2022-01-17T13:42:02.948Z"
   },
   {
    "duration": 321,
    "start_time": "2022-01-17T13:46:08.550Z"
   },
   {
    "duration": 48,
    "start_time": "2022-01-17T13:46:17.298Z"
   },
   {
    "duration": 43,
    "start_time": "2022-01-17T13:46:39.696Z"
   },
   {
    "duration": 43,
    "start_time": "2022-01-17T13:47:08.159Z"
   },
   {
    "duration": 64,
    "start_time": "2022-01-17T13:47:49.097Z"
   },
   {
    "duration": 8067,
    "start_time": "2022-01-17T13:48:21.647Z"
   },
   {
    "duration": 455,
    "start_time": "2022-01-17T13:48:41.272Z"
   },
   {
    "duration": 85,
    "start_time": "2022-01-17T13:48:41.855Z"
   },
   {
    "duration": 60,
    "start_time": "2022-01-17T13:48:42.906Z"
   },
   {
    "duration": 41,
    "start_time": "2022-01-17T13:48:43.368Z"
   },
   {
    "duration": 42,
    "start_time": "2022-01-17T13:48:43.731Z"
   },
   {
    "duration": 40,
    "start_time": "2022-01-17T13:48:43.945Z"
   },
   {
    "duration": 8423,
    "start_time": "2022-01-17T13:48:44.179Z"
   },
   {
    "duration": 181,
    "start_time": "2022-01-17T13:52:25.010Z"
   },
   {
    "duration": 178,
    "start_time": "2022-01-17T13:52:40.184Z"
   },
   {
    "duration": 190,
    "start_time": "2022-01-17T13:52:48.360Z"
   },
   {
    "duration": 107,
    "start_time": "2022-01-17T13:53:26.933Z"
   },
   {
    "duration": 121,
    "start_time": "2022-01-17T13:53:31.991Z"
   },
   {
    "duration": 112,
    "start_time": "2022-01-17T13:53:36.015Z"
   },
   {
    "duration": 108,
    "start_time": "2022-01-17T13:53:47.546Z"
   },
   {
    "duration": 112,
    "start_time": "2022-01-17T13:53:56.989Z"
   },
   {
    "duration": 121,
    "start_time": "2022-01-17T13:56:00.980Z"
   },
   {
    "duration": 119,
    "start_time": "2022-01-17T13:56:13.398Z"
   },
   {
    "duration": 188,
    "start_time": "2022-01-17T13:58:11.043Z"
   },
   {
    "duration": 116,
    "start_time": "2022-01-17T13:59:24.717Z"
   },
   {
    "duration": 114,
    "start_time": "2022-01-17T14:07:44.573Z"
   },
   {
    "duration": 205,
    "start_time": "2022-01-17T14:12:22.387Z"
   },
   {
    "duration": 130,
    "start_time": "2022-01-17T14:13:22.942Z"
   },
   {
    "duration": 505,
    "start_time": "2022-01-17T14:13:33.062Z"
   },
   {
    "duration": 138,
    "start_time": "2022-01-17T14:13:33.621Z"
   },
   {
    "duration": 91,
    "start_time": "2022-01-17T14:13:34.516Z"
   },
   {
    "duration": 61,
    "start_time": "2022-01-17T14:13:34.869Z"
   },
   {
    "duration": 63,
    "start_time": "2022-01-17T14:13:35.198Z"
   },
   {
    "duration": 62,
    "start_time": "2022-01-17T14:13:35.418Z"
   },
   {
    "duration": 214,
    "start_time": "2022-01-17T14:13:35.792Z"
   },
   {
    "duration": 125,
    "start_time": "2022-01-17T14:15:50.160Z"
   },
   {
    "duration": 55,
    "start_time": "2022-01-17T14:15:59.052Z"
   },
   {
    "duration": 62,
    "start_time": "2022-01-17T14:15:59.935Z"
   },
   {
    "duration": 49,
    "start_time": "2022-01-17T14:16:00.288Z"
   },
   {
    "duration": 46,
    "start_time": "2022-01-17T14:16:00.659Z"
   },
   {
    "duration": 43,
    "start_time": "2022-01-17T14:16:00.844Z"
   },
   {
    "duration": 122,
    "start_time": "2022-01-17T14:16:02.575Z"
   },
   {
    "duration": 127,
    "start_time": "2022-01-17T14:16:14.596Z"
   },
   {
    "duration": 132,
    "start_time": "2022-01-17T14:18:15.535Z"
   },
   {
    "duration": 134,
    "start_time": "2022-01-17T14:19:10.021Z"
   },
   {
    "duration": 8848,
    "start_time": "2022-01-17T14:21:49.721Z"
   },
   {
    "duration": 449,
    "start_time": "2022-01-17T14:22:08.605Z"
   },
   {
    "duration": 88,
    "start_time": "2022-01-17T14:22:09.309Z"
   },
   {
    "duration": 66,
    "start_time": "2022-01-17T14:22:10.322Z"
   },
   {
    "duration": 61,
    "start_time": "2022-01-17T14:22:10.738Z"
   },
   {
    "duration": 63,
    "start_time": "2022-01-17T14:22:11.158Z"
   },
   {
    "duration": 62,
    "start_time": "2022-01-17T14:22:11.364Z"
   },
   {
    "duration": 8215,
    "start_time": "2022-01-17T14:22:11.826Z"
   },
   {
    "duration": 8242,
    "start_time": "2022-01-17T14:22:33.246Z"
   },
   {
    "duration": 133,
    "start_time": "2022-01-17T14:24:34.853Z"
   },
   {
    "duration": 132,
    "start_time": "2022-01-17T14:25:06.631Z"
   },
   {
    "duration": 8817,
    "start_time": "2022-01-17T14:25:37.495Z"
   },
   {
    "duration": 41,
    "start_time": "2022-01-17T14:25:58.051Z"
   },
   {
    "duration": 9030,
    "start_time": "2022-01-17T14:25:58.894Z"
   },
   {
    "duration": 479,
    "start_time": "2022-01-17T14:26:22.981Z"
   },
   {
    "duration": 86,
    "start_time": "2022-01-17T14:26:23.512Z"
   },
   {
    "duration": 61,
    "start_time": "2022-01-17T14:26:24.412Z"
   },
   {
    "duration": 54,
    "start_time": "2022-01-17T14:26:24.812Z"
   },
   {
    "duration": 47,
    "start_time": "2022-01-17T14:26:25.211Z"
   },
   {
    "duration": 63,
    "start_time": "2022-01-17T14:26:25.304Z"
   },
   {
    "duration": 12585,
    "start_time": "2022-01-17T14:26:25.673Z"
   },
   {
    "duration": -196265,
    "start_time": "2022-01-17T14:29:54.525Z"
   },
   {
    "duration": 338,
    "start_time": "2022-01-17T14:29:03.306Z"
   },
   {
    "duration": 273,
    "start_time": "2022-01-17T14:29:11.178Z"
   },
   {
    "duration": 1475,
    "start_time": "2022-01-17T14:29:17.018Z"
   },
   {
    "duration": 89,
    "start_time": "2022-01-17T14:29:18.495Z"
   },
   {
    "duration": 80,
    "start_time": "2022-01-17T14:29:18.586Z"
   },
   {
    "duration": 39,
    "start_time": "2022-01-17T14:29:18.938Z"
   },
   {
    "duration": 46,
    "start_time": "2022-01-17T14:29:19.362Z"
   },
   {
    "duration": 39,
    "start_time": "2022-01-17T14:29:19.595Z"
   },
   {
    "duration": 8225,
    "start_time": "2022-01-17T14:29:20.032Z"
   },
   {
    "duration": -196301,
    "start_time": "2022-01-17T14:32:44.560Z"
   },
   {
    "duration": 310,
    "start_time": "2022-01-17T14:30:14.127Z"
   },
   {
    "duration": 45,
    "start_time": "2022-01-17T14:30:36.423Z"
   },
   {
    "duration": 441,
    "start_time": "2022-01-17T14:31:47.847Z"
   },
   {
    "duration": 42,
    "start_time": "2022-01-17T14:31:51.288Z"
   },
   {
    "duration": 133,
    "start_time": "2022-01-17T14:32:18.205Z"
   },
   {
    "duration": 130,
    "start_time": "2022-01-17T14:32:40.297Z"
   },
   {
    "duration": 397,
    "start_time": "2022-01-17T14:32:46.076Z"
   },
   {
    "duration": 380,
    "start_time": "2022-01-17T14:32:47.214Z"
   },
   {
    "duration": 127,
    "start_time": "2022-01-17T14:33:16.772Z"
   },
   {
    "duration": 451,
    "start_time": "2022-01-17T14:33:33.728Z"
   },
   {
    "duration": 87,
    "start_time": "2022-01-17T14:33:34.390Z"
   },
   {
    "duration": 60,
    "start_time": "2022-01-17T14:33:35.416Z"
   },
   {
    "duration": 40,
    "start_time": "2022-01-17T14:33:35.823Z"
   },
   {
    "duration": 44,
    "start_time": "2022-01-17T14:33:36.261Z"
   },
   {
    "duration": 64,
    "start_time": "2022-01-17T14:33:36.469Z"
   },
   {
    "duration": 221,
    "start_time": "2022-01-17T14:33:36.967Z"
   },
   {
    "duration": 396,
    "start_time": "2022-01-17T14:33:38.206Z"
   },
   {
    "duration": 442,
    "start_time": "2022-01-17T14:33:40.081Z"
   },
   {
    "duration": 472,
    "start_time": "2022-01-17T14:33:40.695Z"
   },
   {
    "duration": 5,
    "start_time": "2022-01-17T14:33:42.254Z"
   },
   {
    "duration": 13,
    "start_time": "2022-01-17T14:33:44.674Z"
   },
   {
    "duration": 5,
    "start_time": "2022-01-17T14:33:45.821Z"
   },
   {
    "duration": 309,
    "start_time": "2022-01-17T14:34:24.725Z"
   },
   {
    "duration": 300,
    "start_time": "2022-01-17T14:34:30.055Z"
   },
   {
    "duration": 387,
    "start_time": "2022-01-17T14:34:33.374Z"
   },
   {
    "duration": 369,
    "start_time": "2022-01-17T14:34:36.910Z"
   },
   {
    "duration": 491,
    "start_time": "2022-01-17T14:34:43.754Z"
   },
   {
    "duration": 85,
    "start_time": "2022-01-17T14:34:44.401Z"
   },
   {
    "duration": 62,
    "start_time": "2022-01-17T14:34:45.625Z"
   },
   {
    "duration": 40,
    "start_time": "2022-01-17T14:34:46.438Z"
   },
   {
    "duration": 43,
    "start_time": "2022-01-17T14:34:47.125Z"
   },
   {
    "duration": 40,
    "start_time": "2022-01-17T14:34:47.467Z"
   },
   {
    "duration": 129,
    "start_time": "2022-01-17T14:34:48.319Z"
   },
   {
    "duration": 374,
    "start_time": "2022-01-17T14:34:50.326Z"
   },
   {
    "duration": 119,
    "start_time": "2022-01-17T14:35:32.918Z"
   },
   {
    "duration": 423,
    "start_time": "2022-01-17T14:35:43.008Z"
   },
   {
    "duration": 85,
    "start_time": "2022-01-17T14:35:43.570Z"
   },
   {
    "duration": 62,
    "start_time": "2022-01-17T14:35:44.590Z"
   },
   {
    "duration": 40,
    "start_time": "2022-01-17T14:35:45.038Z"
   },
   {
    "duration": 42,
    "start_time": "2022-01-17T14:35:45.459Z"
   },
   {
    "duration": 39,
    "start_time": "2022-01-17T14:35:45.723Z"
   },
   {
    "duration": 128,
    "start_time": "2022-01-17T14:35:46.147Z"
   },
   {
    "duration": 382,
    "start_time": "2022-01-17T14:35:47.234Z"
   },
   {
    "duration": 206,
    "start_time": "2022-01-17T14:37:13.697Z"
   },
   {
    "duration": 1324,
    "start_time": "2022-01-17T14:37:22.245Z"
   },
   {
    "duration": 99,
    "start_time": "2022-01-17T14:37:23.571Z"
   },
   {
    "duration": 90,
    "start_time": "2022-01-17T14:37:23.717Z"
   },
   {
    "duration": 52,
    "start_time": "2022-01-17T14:37:24.094Z"
   },
   {
    "duration": 44,
    "start_time": "2022-01-17T14:37:24.535Z"
   },
   {
    "duration": 58,
    "start_time": "2022-01-17T14:37:24.684Z"
   },
   {
    "duration": 141,
    "start_time": "2022-01-17T14:37:25.106Z"
   },
   {
    "duration": 403,
    "start_time": "2022-01-17T14:37:26.234Z"
   },
   {
    "duration": 135,
    "start_time": "2022-01-17T14:37:38.121Z"
   },
   {
    "duration": 125,
    "start_time": "2022-01-17T14:37:48.311Z"
   },
   {
    "duration": 389,
    "start_time": "2022-01-17T14:38:45.633Z"
   },
   {
    "duration": 277,
    "start_time": "2022-01-17T14:38:56.620Z"
   },
   {
    "duration": 95,
    "start_time": "2022-01-17T14:39:24.504Z"
   },
   {
    "duration": 387,
    "start_time": "2022-01-17T14:39:34.084Z"
   },
   {
    "duration": 283,
    "start_time": "2022-01-17T14:40:20.492Z"
   },
   {
    "duration": 467,
    "start_time": "2022-01-17T14:40:56.424Z"
   },
   {
    "duration": 367,
    "start_time": "2022-01-17T14:41:57.103Z"
   },
   {
    "duration": 380,
    "start_time": "2022-01-17T14:42:04.774Z"
   },
   {
    "duration": 142,
    "start_time": "2022-01-17T14:42:36.426Z"
   },
   {
    "duration": 396,
    "start_time": "2022-01-17T14:42:50.955Z"
   },
   {
    "duration": 530,
    "start_time": "2022-01-17T14:46:24.302Z"
   },
   {
    "duration": 108,
    "start_time": "2022-01-17T14:46:24.835Z"
   },
   {
    "duration": 78,
    "start_time": "2022-01-17T14:46:25.610Z"
   },
   {
    "duration": 40,
    "start_time": "2022-01-17T14:46:25.798Z"
   },
   {
    "duration": 61,
    "start_time": "2022-01-17T14:46:26.146Z"
   },
   {
    "duration": 64,
    "start_time": "2022-01-17T14:46:26.257Z"
   },
   {
    "duration": 245,
    "start_time": "2022-01-17T14:46:26.523Z"
   },
   {
    "duration": 422,
    "start_time": "2022-01-17T14:46:27.167Z"
   },
   {
    "duration": 401,
    "start_time": "2022-01-17T14:46:27.591Z"
   },
   {
    "duration": 566,
    "start_time": "2022-01-17T14:46:27.994Z"
   },
   {
    "duration": 929,
    "start_time": "2022-01-17T14:48:32.593Z"
   },
   {
    "duration": 1167,
    "start_time": "2022-01-17T14:49:31.435Z"
   },
   {
    "duration": 1193,
    "start_time": "2022-01-17T14:52:56.787Z"
   },
   {
    "duration": 915,
    "start_time": "2022-01-17T14:53:07.662Z"
   },
   {
    "duration": 1258,
    "start_time": "2022-01-17T14:53:42.278Z"
   },
   {
    "duration": 1162,
    "start_time": "2022-01-17T14:54:17.003Z"
   },
   {
    "duration": 754,
    "start_time": "2022-01-17T14:54:53.359Z"
   },
   {
    "duration": 877,
    "start_time": "2022-01-17T14:55:03.270Z"
   },
   {
    "duration": 630,
    "start_time": "2022-01-17T14:55:12.486Z"
   },
   {
    "duration": 139,
    "start_time": "2022-01-17T14:55:13.118Z"
   },
   {
    "duration": 90,
    "start_time": "2022-01-17T14:55:13.876Z"
   },
   {
    "duration": 59,
    "start_time": "2022-01-17T14:55:14.239Z"
   },
   {
    "duration": 62,
    "start_time": "2022-01-17T14:55:14.623Z"
   },
   {
    "duration": 64,
    "start_time": "2022-01-17T14:55:14.839Z"
   },
   {
    "duration": 236,
    "start_time": "2022-01-17T14:55:15.244Z"
   },
   {
    "duration": 686,
    "start_time": "2022-01-17T14:55:16.347Z"
   },
   {
    "duration": 472,
    "start_time": "2022-01-17T14:55:17.035Z"
   },
   {
    "duration": 473,
    "start_time": "2022-01-17T14:55:17.666Z"
   },
   {
    "duration": 1087,
    "start_time": "2022-01-17T14:55:53.833Z"
   },
   {
    "duration": 1102,
    "start_time": "2022-01-17T14:56:47.613Z"
   },
   {
    "duration": 999,
    "start_time": "2022-01-17T14:57:24.412Z"
   },
   {
    "duration": 755,
    "start_time": "2022-01-17T14:59:50.203Z"
   },
   {
    "duration": 732,
    "start_time": "2022-01-17T15:00:29.015Z"
   },
   {
    "duration": 769,
    "start_time": "2022-01-17T15:01:05.971Z"
   },
   {
    "duration": 708,
    "start_time": "2022-01-17T15:01:40.905Z"
   },
   {
    "duration": 692,
    "start_time": "2022-01-17T15:01:45.795Z"
   },
   {
    "duration": 425,
    "start_time": "2022-01-17T15:02:09.360Z"
   },
   {
    "duration": 89,
    "start_time": "2022-01-17T15:02:09.963Z"
   },
   {
    "duration": 60,
    "start_time": "2022-01-17T15:02:11.202Z"
   },
   {
    "duration": 40,
    "start_time": "2022-01-17T15:02:11.647Z"
   },
   {
    "duration": 45,
    "start_time": "2022-01-17T15:02:12.107Z"
   },
   {
    "duration": 42,
    "start_time": "2022-01-17T15:02:12.398Z"
   },
   {
    "duration": 147,
    "start_time": "2022-01-17T15:02:12.815Z"
   },
   {
    "duration": 748,
    "start_time": "2022-01-17T15:02:13.946Z"
   },
   {
    "duration": 385,
    "start_time": "2022-01-17T15:02:14.696Z"
   },
   {
    "duration": 521,
    "start_time": "2022-01-17T15:02:15.255Z"
   },
   {
    "duration": 678,
    "start_time": "2022-01-17T15:02:47.332Z"
   },
   {
    "duration": 782,
    "start_time": "2022-01-17T15:02:53.665Z"
   },
   {
    "duration": 998,
    "start_time": "2022-01-17T15:04:28.914Z"
   },
   {
    "duration": 111,
    "start_time": "2022-01-17T15:05:27.553Z"
   },
   {
    "duration": 99,
    "start_time": "2022-01-17T15:06:02.732Z"
   },
   {
    "duration": 102,
    "start_time": "2022-01-17T15:06:10.697Z"
   },
   {
    "duration": 101,
    "start_time": "2022-01-17T15:06:17.683Z"
   },
   {
    "duration": 1286,
    "start_time": "2022-01-17T15:06:23.566Z"
   },
   {
    "duration": 369,
    "start_time": "2022-01-17T15:08:48.025Z"
   },
   {
    "duration": 368,
    "start_time": "2022-01-17T15:08:58.559Z"
   },
   {
    "duration": 89,
    "start_time": "2022-01-17T15:09:09.908Z"
   },
   {
    "duration": 414,
    "start_time": "2022-01-17T15:09:14.157Z"
   },
   {
    "duration": 384,
    "start_time": "2022-01-17T15:09:20.549Z"
   },
   {
    "duration": 382,
    "start_time": "2022-01-17T15:09:30.650Z"
   },
   {
    "duration": 474,
    "start_time": "2022-01-17T15:09:56.185Z"
   },
   {
    "duration": 363,
    "start_time": "2022-01-17T15:10:07.510Z"
   },
   {
    "duration": 369,
    "start_time": "2022-01-17T15:10:14.544Z"
   },
   {
    "duration": 380,
    "start_time": "2022-01-17T15:10:28.184Z"
   },
   {
    "duration": 370,
    "start_time": "2022-01-17T15:10:36.168Z"
   },
   {
    "duration": 479,
    "start_time": "2022-01-17T15:10:45.717Z"
   },
   {
    "duration": 389,
    "start_time": "2022-01-17T15:10:54.276Z"
   },
   {
    "duration": 405,
    "start_time": "2022-01-17T15:11:06.011Z"
   },
   {
    "duration": 483,
    "start_time": "2022-01-17T15:11:17.557Z"
   },
   {
    "duration": 565,
    "start_time": "2022-01-17T15:11:28.638Z"
   },
   {
    "duration": 872,
    "start_time": "2022-01-17T15:11:45.130Z"
   },
   {
    "duration": 971,
    "start_time": "2022-01-17T15:11:53.461Z"
   },
   {
    "duration": 999,
    "start_time": "2022-01-17T15:12:04.650Z"
   },
   {
    "duration": 898,
    "start_time": "2022-01-17T15:12:12.896Z"
   },
   {
    "duration": 1263,
    "start_time": "2022-01-17T15:12:24.271Z"
   },
   {
    "duration": 1090,
    "start_time": "2022-01-17T15:12:42.710Z"
   },
   {
    "duration": 1047,
    "start_time": "2022-01-17T15:12:51.391Z"
   },
   {
    "duration": 928,
    "start_time": "2022-01-17T15:13:11.999Z"
   },
   {
    "duration": 1210,
    "start_time": "2022-01-17T15:14:06.952Z"
   },
   {
    "duration": 892,
    "start_time": "2022-01-17T15:14:26.052Z"
   },
   {
    "duration": 479,
    "start_time": "2022-01-17T15:14:55.167Z"
   },
   {
    "duration": 363,
    "start_time": "2022-01-17T15:15:04.995Z"
   },
   {
    "duration": 355,
    "start_time": "2022-01-17T15:15:12.405Z"
   },
   {
    "duration": 358,
    "start_time": "2022-01-17T15:15:20.612Z"
   },
   {
    "duration": 380,
    "start_time": "2022-01-17T15:15:30.591Z"
   },
   {
    "duration": 711,
    "start_time": "2022-01-17T15:15:39.783Z"
   },
   {
    "duration": 879,
    "start_time": "2022-01-17T15:15:45.670Z"
   },
   {
    "duration": 994,
    "start_time": "2022-01-17T15:15:57.542Z"
   },
   {
    "duration": 886,
    "start_time": "2022-01-17T15:16:03.913Z"
   },
   {
    "duration": 1069,
    "start_time": "2022-01-17T15:16:10.539Z"
   },
   {
    "duration": 886,
    "start_time": "2022-01-17T15:16:28.634Z"
   },
   {
    "duration": 873,
    "start_time": "2022-01-17T15:16:47.774Z"
   },
   {
    "duration": 540,
    "start_time": "2022-01-17T15:16:59.794Z"
   },
   {
    "duration": 539,
    "start_time": "2022-01-17T15:17:12.432Z"
   },
   {
    "duration": 374,
    "start_time": "2022-01-17T15:17:28.035Z"
   },
   {
    "duration": 503,
    "start_time": "2022-01-17T15:17:37.531Z"
   },
   {
    "duration": 446,
    "start_time": "2022-01-17T15:17:45.610Z"
   },
   {
    "duration": 410,
    "start_time": "2022-01-17T15:17:54.308Z"
   },
   {
    "duration": 380,
    "start_time": "2022-01-17T15:18:02.426Z"
   },
   {
    "duration": 493,
    "start_time": "2022-01-17T15:18:24.044Z"
   },
   {
    "duration": 5,
    "start_time": "2022-01-17T15:18:55.698Z"
   },
   {
    "duration": 11,
    "start_time": "2022-01-17T15:19:02.972Z"
   },
   {
    "duration": 4,
    "start_time": "2022-01-17T15:20:17.013Z"
   },
   {
    "duration": 418,
    "start_time": "2022-01-17T16:35:02.134Z"
   },
   {
    "duration": 727,
    "start_time": "2022-01-17T16:35:48.476Z"
   },
   {
    "duration": 93,
    "start_time": "2022-01-17T16:36:04.312Z"
   },
   {
    "duration": 2473,
    "start_time": "2022-01-17T16:36:23.315Z"
   },
   {
    "duration": 315,
    "start_time": "2022-01-17T16:36:36.474Z"
   },
   {
    "duration": 663,
    "start_time": "2022-01-17T16:36:47.305Z"
   },
   {
    "duration": 130,
    "start_time": "2022-01-17T16:36:47.971Z"
   },
   {
    "duration": 67,
    "start_time": "2022-01-17T16:36:48.969Z"
   },
   {
    "duration": 40,
    "start_time": "2022-01-17T16:36:49.300Z"
   },
   {
    "duration": 41,
    "start_time": "2022-01-17T16:36:49.760Z"
   },
   {
    "duration": 42,
    "start_time": "2022-01-17T16:36:49.970Z"
   },
   {
    "duration": 139,
    "start_time": "2022-01-17T16:36:50.463Z"
   },
   {
    "duration": 1098,
    "start_time": "2022-01-17T16:36:51.450Z"
   },
   {
    "duration": 384,
    "start_time": "2022-01-17T16:36:52.550Z"
   },
   {
    "duration": 483,
    "start_time": "2022-01-17T16:36:52.936Z"
   },
   {
    "duration": 323,
    "start_time": "2022-01-17T16:40:20.603Z"
   },
   {
    "duration": 313,
    "start_time": "2022-01-17T16:40:38.939Z"
   },
   {
    "duration": 753,
    "start_time": "2022-01-17T16:41:03.037Z"
   },
   {
    "duration": 6,
    "start_time": "2022-01-17T16:41:23.937Z"
   },
   {
    "duration": 10,
    "start_time": "2022-01-17T16:41:29.643Z"
   },
   {
    "duration": 311,
    "start_time": "2022-01-17T16:59:58.969Z"
   },
   {
    "duration": 315,
    "start_time": "2022-01-17T17:12:23.525Z"
   },
   {
    "duration": 439,
    "start_time": "2022-01-17T17:12:42.795Z"
   },
   {
    "duration": 89,
    "start_time": "2022-01-17T17:12:43.375Z"
   },
   {
    "duration": 96,
    "start_time": "2022-01-17T17:12:44.308Z"
   },
   {
    "duration": 40,
    "start_time": "2022-01-17T17:12:44.697Z"
   },
   {
    "duration": 44,
    "start_time": "2022-01-17T17:12:45.084Z"
   },
   {
    "duration": 40,
    "start_time": "2022-01-17T17:12:45.283Z"
   },
   {
    "duration": 141,
    "start_time": "2022-01-17T17:12:45.667Z"
   },
   {
    "duration": 896,
    "start_time": "2022-01-17T17:12:46.595Z"
   },
   {
    "duration": 425,
    "start_time": "2022-01-17T17:12:47.493Z"
   },
   {
    "duration": 688,
    "start_time": "2022-01-17T17:12:47.920Z"
   },
   {
    "duration": 6,
    "start_time": "2022-01-17T17:12:49.015Z"
   },
   {
    "duration": 12,
    "start_time": "2022-01-17T17:12:49.612Z"
   },
   {
    "duration": 10,
    "start_time": "2022-01-17T17:13:12.788Z"
   },
   {
    "duration": 87,
    "start_time": "2022-01-17T17:14:23.996Z"
   },
   {
    "duration": 149,
    "start_time": "2022-01-17T17:14:39.022Z"
   },
   {
    "duration": 10,
    "start_time": "2022-01-17T17:14:59.657Z"
   },
   {
    "duration": 10,
    "start_time": "2022-01-17T17:15:12.449Z"
   },
   {
    "duration": 13,
    "start_time": "2022-01-17T17:15:48.451Z"
   },
   {
    "duration": 11,
    "start_time": "2022-01-17T17:16:22.177Z"
   },
   {
    "duration": 11,
    "start_time": "2022-01-17T17:20:13.128Z"
   },
   {
    "duration": 10,
    "start_time": "2022-01-17T17:30:53.481Z"
   },
   {
    "duration": 10,
    "start_time": "2022-01-17T17:31:02.941Z"
   },
   {
    "duration": 10,
    "start_time": "2022-01-17T17:33:15.319Z"
   },
   {
    "duration": 5,
    "start_time": "2022-01-17T17:51:23.004Z"
   },
   {
    "duration": 5,
    "start_time": "2022-01-17T17:51:35.917Z"
   },
   {
    "duration": 445,
    "start_time": "2022-01-17T17:52:04.065Z"
   },
   {
    "duration": 82,
    "start_time": "2022-01-17T17:52:04.512Z"
   },
   {
    "duration": 61,
    "start_time": "2022-01-17T17:52:04.861Z"
   },
   {
    "duration": 39,
    "start_time": "2022-01-17T17:52:05.253Z"
   },
   {
    "duration": 41,
    "start_time": "2022-01-17T17:52:05.650Z"
   },
   {
    "duration": 39,
    "start_time": "2022-01-17T17:52:05.846Z"
   },
   {
    "duration": 139,
    "start_time": "2022-01-17T17:52:06.311Z"
   },
   {
    "duration": 432,
    "start_time": "2022-01-17T17:52:19.365Z"
   },
   {
    "duration": 85,
    "start_time": "2022-01-17T17:52:19.990Z"
   },
   {
    "duration": 64,
    "start_time": "2022-01-17T17:52:21.160Z"
   },
   {
    "duration": 40,
    "start_time": "2022-01-17T17:52:21.663Z"
   },
   {
    "duration": 43,
    "start_time": "2022-01-17T17:52:22.311Z"
   },
   {
    "duration": 39,
    "start_time": "2022-01-17T17:52:22.686Z"
   },
   {
    "duration": 143,
    "start_time": "2022-01-17T17:52:36.691Z"
   },
   {
    "duration": 898,
    "start_time": "2022-01-17T17:52:38.791Z"
   },
   {
    "duration": 383,
    "start_time": "2022-01-17T17:52:39.690Z"
   },
   {
    "duration": 563,
    "start_time": "2022-01-17T17:52:40.218Z"
   },
   {
    "duration": 6,
    "start_time": "2022-01-17T17:52:42.248Z"
   },
   {
    "duration": 11,
    "start_time": "2022-01-17T17:52:43.158Z"
   },
   {
    "duration": 11,
    "start_time": "2022-01-17T17:53:37.680Z"
   },
   {
    "duration": 11,
    "start_time": "2022-01-17T17:53:56.237Z"
   },
   {
    "duration": 11,
    "start_time": "2022-01-17T17:54:17.902Z"
   },
   {
    "duration": 6,
    "start_time": "2022-01-17T17:54:34.509Z"
   },
   {
    "duration": 5,
    "start_time": "2022-01-17T17:54:45.710Z"
   },
   {
    "duration": 6,
    "start_time": "2022-01-17T17:55:14.584Z"
   },
   {
    "duration": 5,
    "start_time": "2022-01-17T17:55:33.850Z"
   },
   {
    "duration": 6,
    "start_time": "2022-01-17T17:55:44.316Z"
   },
   {
    "duration": 6,
    "start_time": "2022-01-17T17:55:59.736Z"
   },
   {
    "duration": 6,
    "start_time": "2022-01-17T17:57:08.070Z"
   },
   {
    "duration": 6,
    "start_time": "2022-01-17T17:59:52.863Z"
   },
   {
    "duration": 5,
    "start_time": "2022-01-17T18:01:33.081Z"
   },
   {
    "duration": 10,
    "start_time": "2022-01-17T18:02:39.047Z"
   },
   {
    "duration": 268,
    "start_time": "2022-01-17T18:14:04.459Z"
   },
   {
    "duration": 378,
    "start_time": "2022-01-17T18:14:18.002Z"
   },
   {
    "duration": 985,
    "start_time": "2022-01-17T18:22:54.497Z"
   },
   {
    "duration": 103,
    "start_time": "2022-01-17T18:25:07.253Z"
   },
   {
    "duration": 611,
    "start_time": "2022-01-17T18:25:30.864Z"
   },
   {
    "duration": 488,
    "start_time": "2022-01-17T18:25:47.005Z"
   },
   {
    "duration": 938,
    "start_time": "2022-01-17T18:26:02.952Z"
   },
   {
    "duration": 497,
    "start_time": "2022-01-17T18:26:20.839Z"
   },
   {
    "duration": 1041,
    "start_time": "2022-01-17T18:28:23.098Z"
   },
   {
    "duration": 367,
    "start_time": "2022-01-17T18:28:34.446Z"
   },
   {
    "duration": 420,
    "start_time": "2022-01-17T18:28:46.870Z"
   },
   {
    "duration": 98,
    "start_time": "2022-01-17T18:28:53.890Z"
   },
   {
    "duration": 61,
    "start_time": "2022-01-17T18:29:04.608Z"
   },
   {
    "duration": 41,
    "start_time": "2022-01-17T18:29:06.096Z"
   },
   {
    "duration": 43,
    "start_time": "2022-01-17T18:29:07.380Z"
   },
   {
    "duration": 41,
    "start_time": "2022-01-17T18:29:08.113Z"
   },
   {
    "duration": 146,
    "start_time": "2022-01-17T18:29:15.389Z"
   },
   {
    "duration": 161,
    "start_time": "2022-01-17T18:29:23.088Z"
   },
   {
    "duration": 149,
    "start_time": "2022-01-17T18:29:32.735Z"
   },
   {
    "duration": 906,
    "start_time": "2022-01-17T18:30:50.272Z"
   },
   {
    "duration": 471,
    "start_time": "2022-01-17T18:30:54.958Z"
   },
   {
    "duration": 472,
    "start_time": "2022-01-17T18:30:59.791Z"
   },
   {
    "duration": 7,
    "start_time": "2022-01-17T18:31:30.862Z"
   },
   {
    "duration": 11,
    "start_time": "2022-01-17T18:31:46.398Z"
   },
   {
    "duration": 5,
    "start_time": "2022-01-17T18:31:52.623Z"
   },
   {
    "duration": 2893,
    "start_time": "2022-01-17T18:35:44.342Z"
   },
   {
    "duration": 405,
    "start_time": "2022-01-17T18:35:57.488Z"
   },
   {
    "duration": 82,
    "start_time": "2022-01-17T18:35:58.089Z"
   },
   {
    "duration": 68,
    "start_time": "2022-01-17T18:35:58.999Z"
   },
   {
    "duration": 40,
    "start_time": "2022-01-17T18:35:59.401Z"
   },
   {
    "duration": 41,
    "start_time": "2022-01-17T18:35:59.803Z"
   },
   {
    "duration": 43,
    "start_time": "2022-01-17T18:35:59.984Z"
   },
   {
    "duration": 160,
    "start_time": "2022-01-17T18:36:00.370Z"
   },
   {
    "duration": 968,
    "start_time": "2022-01-17T18:36:01.137Z"
   },
   {
    "duration": 466,
    "start_time": "2022-01-17T18:36:03.806Z"
   },
   {
    "duration": 486,
    "start_time": "2022-01-17T18:36:04.274Z"
   },
   {
    "duration": 6,
    "start_time": "2022-01-17T18:36:04.762Z"
   },
   {
    "duration": 13,
    "start_time": "2022-01-17T18:36:04.770Z"
   },
   {
    "duration": 17,
    "start_time": "2022-01-17T18:36:04.784Z"
   },
   {
    "duration": 4,
    "start_time": "2022-01-17T18:36:24.928Z"
   },
   {
    "duration": 3,
    "start_time": "2022-01-17T18:36:40.999Z"
   },
   {
    "duration": 4,
    "start_time": "2022-01-17T18:36:49.097Z"
   },
   {
    "duration": 81,
    "start_time": "2022-01-17T18:42:35.277Z"
   },
   {
    "duration": 60,
    "start_time": "2022-01-17T18:42:49.787Z"
   },
   {
    "duration": 41,
    "start_time": "2022-01-17T18:43:11.398Z"
   },
   {
    "duration": 41,
    "start_time": "2022-01-17T18:43:19.222Z"
   },
   {
    "duration": 50,
    "start_time": "2022-01-17T18:43:49.491Z"
   },
   {
    "duration": 60,
    "start_time": "2022-01-17T18:44:11.072Z"
   },
   {
    "duration": 30,
    "start_time": "2022-01-17T18:44:39.342Z"
   },
   {
    "duration": 158,
    "start_time": "2022-01-17T18:45:16.511Z"
   },
   {
    "duration": 152,
    "start_time": "2022-01-17T18:45:36.253Z"
   },
   {
    "duration": 106,
    "start_time": "2022-01-17T18:46:03.347Z"
   },
   {
    "duration": 149,
    "start_time": "2022-01-17T18:46:11.440Z"
   },
   {
    "duration": 148,
    "start_time": "2022-01-17T18:46:16.491Z"
   },
   {
    "duration": 425,
    "start_time": "2022-01-17T18:50:12.617Z"
   },
   {
    "duration": 83,
    "start_time": "2022-01-17T18:50:14.918Z"
   },
   {
    "duration": 63,
    "start_time": "2022-01-17T18:50:17.589Z"
   },
   {
    "duration": 42,
    "start_time": "2022-01-17T18:50:18.951Z"
   },
   {
    "duration": 47,
    "start_time": "2022-01-17T18:50:20.175Z"
   },
   {
    "duration": 29,
    "start_time": "2022-01-17T18:50:20.874Z"
   },
   {
    "duration": 159,
    "start_time": "2022-01-17T18:50:22.070Z"
   },
   {
    "duration": 901,
    "start_time": "2022-01-17T18:50:30.117Z"
   },
   {
    "duration": 459,
    "start_time": "2022-01-17T18:50:33.646Z"
   },
   {
    "duration": 466,
    "start_time": "2022-01-17T18:50:36.578Z"
   },
   {
    "duration": 7,
    "start_time": "2022-01-17T18:50:40.672Z"
   },
   {
    "duration": 11,
    "start_time": "2022-01-17T18:50:43.688Z"
   },
   {
    "duration": 1455,
    "start_time": "2022-01-17T20:45:28.725Z"
   },
   {
    "duration": 100,
    "start_time": "2022-01-17T20:45:30.182Z"
   },
   {
    "duration": 63,
    "start_time": "2022-01-17T20:45:30.284Z"
   },
   {
    "duration": 56,
    "start_time": "2022-01-17T20:45:30.349Z"
   },
   {
    "duration": 47,
    "start_time": "2022-01-17T20:45:30.406Z"
   },
   {
    "duration": 47,
    "start_time": "2022-01-17T20:45:30.454Z"
   },
   {
    "duration": 175,
    "start_time": "2022-01-17T20:45:30.503Z"
   },
   {
    "duration": 877,
    "start_time": "2022-01-17T20:45:30.680Z"
   },
   {
    "duration": 373,
    "start_time": "2022-01-17T20:45:31.559Z"
   },
   {
    "duration": 757,
    "start_time": "2022-01-17T20:45:31.934Z"
   },
   {
    "duration": 6,
    "start_time": "2022-01-17T20:45:32.693Z"
   },
   {
    "duration": 11,
    "start_time": "2022-01-17T20:45:32.701Z"
   },
   {
    "duration": 344,
    "start_time": "2022-01-18T12:06:32.864Z"
   },
   {
    "duration": 1485,
    "start_time": "2022-01-18T12:06:46.706Z"
   },
   {
    "duration": 92,
    "start_time": "2022-01-18T12:06:49.173Z"
   },
   {
    "duration": 67,
    "start_time": "2022-01-18T12:06:51.821Z"
   },
   {
    "duration": 41,
    "start_time": "2022-01-18T12:06:52.608Z"
   },
   {
    "duration": 51,
    "start_time": "2022-01-18T12:06:53.395Z"
   },
   {
    "duration": 28,
    "start_time": "2022-01-18T12:06:53.807Z"
   },
   {
    "duration": 155,
    "start_time": "2022-01-18T12:06:54.600Z"
   },
   {
    "duration": 882,
    "start_time": "2022-01-18T12:06:56.485Z"
   },
   {
    "duration": 387,
    "start_time": "2022-01-18T12:06:57.646Z"
   },
   {
    "duration": 546,
    "start_time": "2022-01-18T12:06:58.786Z"
   },
   {
    "duration": 323,
    "start_time": "2022-01-18T12:07:00.950Z"
   },
   {
    "duration": 10,
    "start_time": "2022-01-18T12:07:03.346Z"
   },
   {
    "duration": 302,
    "start_time": "2022-01-18T12:07:22.081Z"
   },
   {
    "duration": 341,
    "start_time": "2022-01-18T12:07:45.475Z"
   },
   {
    "duration": 7,
    "start_time": "2022-01-18T12:08:20.386Z"
   },
   {
    "duration": 127,
    "start_time": "2022-01-18T12:11:19.386Z"
   },
   {
    "duration": 6,
    "start_time": "2022-01-18T12:11:33.007Z"
   },
   {
    "duration": 7,
    "start_time": "2022-01-18T12:11:46.825Z"
   },
   {
    "duration": 350,
    "start_time": "2022-01-18T12:12:04.287Z"
   },
   {
    "duration": 7,
    "start_time": "2022-01-18T12:13:19.964Z"
   },
   {
    "duration": 8,
    "start_time": "2022-01-18T12:13:51.113Z"
   },
   {
    "duration": 7,
    "start_time": "2022-01-18T12:16:25.193Z"
   },
   {
    "duration": 5,
    "start_time": "2022-01-18T12:18:27.673Z"
   },
   {
    "duration": 5,
    "start_time": "2022-01-18T12:19:01.771Z"
   },
   {
    "duration": 4,
    "start_time": "2022-01-18T12:19:26.585Z"
   },
   {
    "duration": 4,
    "start_time": "2022-01-18T12:19:44.237Z"
   },
   {
    "duration": 9,
    "start_time": "2022-01-18T12:20:52.877Z"
   },
   {
    "duration": 7,
    "start_time": "2022-01-18T12:21:23.335Z"
   },
   {
    "duration": 5,
    "start_time": "2022-01-18T12:23:56.976Z"
   },
   {
    "duration": 5,
    "start_time": "2022-01-18T12:28:05.608Z"
   },
   {
    "duration": 5,
    "start_time": "2022-01-18T12:28:10.125Z"
   },
   {
    "duration": 4,
    "start_time": "2022-01-18T12:28:14.439Z"
   },
   {
    "duration": 4,
    "start_time": "2022-01-18T12:28:20.146Z"
   },
   {
    "duration": 5,
    "start_time": "2022-01-18T12:28:30.732Z"
   },
   {
    "duration": 5,
    "start_time": "2022-01-18T12:28:45.118Z"
   },
   {
    "duration": 432,
    "start_time": "2022-01-18T12:40:11.803Z"
   },
   {
    "duration": 86,
    "start_time": "2022-01-18T12:40:12.373Z"
   },
   {
    "duration": 68,
    "start_time": "2022-01-18T12:40:13.424Z"
   },
   {
    "duration": 40,
    "start_time": "2022-01-18T12:40:13.812Z"
   },
   {
    "duration": 58,
    "start_time": "2022-01-18T12:40:14.203Z"
   },
   {
    "duration": 28,
    "start_time": "2022-01-18T12:40:14.401Z"
   },
   {
    "duration": 154,
    "start_time": "2022-01-18T12:40:14.777Z"
   },
   {
    "duration": 886,
    "start_time": "2022-01-18T12:40:15.710Z"
   },
   {
    "duration": 380,
    "start_time": "2022-01-18T12:40:16.597Z"
   },
   {
    "duration": 568,
    "start_time": "2022-01-18T12:40:16.979Z"
   },
   {
    "duration": 7,
    "start_time": "2022-01-18T12:40:17.692Z"
   },
   {
    "duration": 5,
    "start_time": "2022-01-18T12:40:20.429Z"
   },
   {
    "duration": 11,
    "start_time": "2022-01-18T12:40:21.723Z"
   },
   {
    "duration": 11,
    "start_time": "2022-01-18T12:40:51.510Z"
   },
   {
    "duration": 4,
    "start_time": "2022-01-18T12:41:49.501Z"
   },
   {
    "duration": 6,
    "start_time": "2022-01-18T12:42:17.132Z"
   },
   {
    "duration": 6,
    "start_time": "2022-01-18T12:42:33.591Z"
   },
   {
    "duration": 7,
    "start_time": "2022-01-18T12:43:36.544Z"
   },
   {
    "duration": 7,
    "start_time": "2022-01-18T12:43:45.928Z"
   },
   {
    "duration": 7,
    "start_time": "2022-01-18T12:44:00.158Z"
   },
   {
    "duration": 10,
    "start_time": "2022-01-18T12:44:21.126Z"
   },
   {
    "duration": 8,
    "start_time": "2022-01-18T12:44:33.941Z"
   },
   {
    "duration": 8,
    "start_time": "2022-01-18T12:44:37.783Z"
   },
   {
    "duration": 8,
    "start_time": "2022-01-18T12:44:54.830Z"
   },
   {
    "duration": 9,
    "start_time": "2022-01-18T12:44:58.726Z"
   },
   {
    "duration": 8,
    "start_time": "2022-01-18T12:45:05.288Z"
   },
   {
    "duration": 8,
    "start_time": "2022-01-18T12:45:09.979Z"
   },
   {
    "duration": 7,
    "start_time": "2022-01-18T12:45:15.145Z"
   },
   {
    "duration": 7,
    "start_time": "2022-01-18T12:45:31.972Z"
   },
   {
    "duration": 7,
    "start_time": "2022-01-18T12:45:44.085Z"
   },
   {
    "duration": 9,
    "start_time": "2022-01-18T12:45:57.936Z"
   },
   {
    "duration": 9,
    "start_time": "2022-01-18T12:46:10.625Z"
   },
   {
    "duration": 7,
    "start_time": "2022-01-18T12:46:26.854Z"
   },
   {
    "duration": 7,
    "start_time": "2022-01-18T12:46:32.999Z"
   },
   {
    "duration": 8,
    "start_time": "2022-01-18T12:46:50.768Z"
   },
   {
    "duration": 8,
    "start_time": "2022-01-18T12:46:55.747Z"
   },
   {
    "duration": 8,
    "start_time": "2022-01-18T12:47:02.441Z"
   },
   {
    "duration": 7,
    "start_time": "2022-01-18T12:47:07.132Z"
   },
   {
    "duration": 7,
    "start_time": "2022-01-18T12:47:12.232Z"
   },
   {
    "duration": 7,
    "start_time": "2022-01-18T12:47:17.803Z"
   },
   {
    "duration": 7,
    "start_time": "2022-01-18T12:47:21.646Z"
   },
   {
    "duration": 7,
    "start_time": "2022-01-18T12:47:25.181Z"
   },
   {
    "duration": 8,
    "start_time": "2022-01-18T12:47:28.886Z"
   },
   {
    "duration": 7,
    "start_time": "2022-01-18T12:47:36.577Z"
   },
   {
    "duration": 8,
    "start_time": "2022-01-18T12:47:47.316Z"
   },
   {
    "duration": 8,
    "start_time": "2022-01-18T12:47:52.756Z"
   },
   {
    "duration": 11,
    "start_time": "2022-01-18T12:53:27.538Z"
   },
   {
    "duration": 13,
    "start_time": "2022-01-18T12:54:37.402Z"
   },
   {
    "duration": 14,
    "start_time": "2022-01-18T12:55:06.965Z"
   },
   {
    "duration": 12,
    "start_time": "2022-01-18T12:55:29.486Z"
   },
   {
    "duration": 12,
    "start_time": "2022-01-18T12:55:51.754Z"
   },
   {
    "duration": 5,
    "start_time": "2022-01-18T12:59:38.768Z"
   },
   {
    "duration": 4,
    "start_time": "2022-01-18T12:59:51.955Z"
   },
   {
    "duration": 4,
    "start_time": "2022-01-18T13:00:25.462Z"
   },
   {
    "duration": 7,
    "start_time": "2022-01-18T13:00:49.597Z"
   },
   {
    "duration": 6,
    "start_time": "2022-01-18T13:01:06.952Z"
   },
   {
    "duration": 5,
    "start_time": "2022-01-18T13:01:21.123Z"
   },
   {
    "duration": 13,
    "start_time": "2022-01-18T13:01:53.544Z"
   },
   {
    "duration": 12,
    "start_time": "2022-01-18T13:02:06.474Z"
   },
   {
    "duration": 12,
    "start_time": "2022-01-18T13:02:13.662Z"
   },
   {
    "duration": 7,
    "start_time": "2022-01-18T13:02:14.835Z"
   },
   {
    "duration": 5,
    "start_time": "2022-01-18T13:02:23.292Z"
   },
   {
    "duration": 5,
    "start_time": "2022-01-18T13:06:59.600Z"
   },
   {
    "duration": 13,
    "start_time": "2022-01-18T13:09:12.631Z"
   },
   {
    "duration": 303,
    "start_time": "2022-01-18T13:09:48.253Z"
   },
   {
    "duration": 12,
    "start_time": "2022-01-18T13:09:58.955Z"
   },
   {
    "duration": 630,
    "start_time": "2022-01-18T13:10:15.380Z"
   },
   {
    "duration": 11,
    "start_time": "2022-01-18T13:10:34.570Z"
   },
   {
    "duration": 422,
    "start_time": "2022-01-18T13:11:07.298Z"
   },
   {
    "duration": 133,
    "start_time": "2022-01-18T13:11:17.939Z"
   },
   {
    "duration": 65,
    "start_time": "2022-01-18T13:11:24.195Z"
   },
   {
    "duration": 43,
    "start_time": "2022-01-18T13:11:27.564Z"
   },
   {
    "duration": 43,
    "start_time": "2022-01-18T13:11:28.780Z"
   },
   {
    "duration": 29,
    "start_time": "2022-01-18T13:11:29.464Z"
   },
   {
    "duration": 151,
    "start_time": "2022-01-18T13:11:31.347Z"
   },
   {
    "duration": 150,
    "start_time": "2022-01-18T13:11:35.502Z"
   },
   {
    "duration": 888,
    "start_time": "2022-01-18T13:11:54.031Z"
   },
   {
    "duration": 434,
    "start_time": "2022-01-18T13:12:05.682Z"
   },
   {
    "duration": 464,
    "start_time": "2022-01-18T13:12:07.644Z"
   },
   {
    "duration": 7,
    "start_time": "2022-01-18T13:12:15.872Z"
   },
   {
    "duration": 5,
    "start_time": "2022-01-18T13:12:22.418Z"
   },
   {
    "duration": 15,
    "start_time": "2022-01-18T13:12:25.701Z"
   },
   {
    "duration": 5,
    "start_time": "2022-01-18T13:12:27.655Z"
   },
   {
    "duration": 5,
    "start_time": "2022-01-18T13:14:57.954Z"
   },
   {
    "duration": 5,
    "start_time": "2022-01-18T13:15:33.975Z"
   },
   {
    "duration": 6,
    "start_time": "2022-01-18T13:15:40.699Z"
   },
   {
    "duration": 458,
    "start_time": "2022-01-18T13:16:39.285Z"
   },
   {
    "duration": 85,
    "start_time": "2022-01-18T13:16:40.818Z"
   },
   {
    "duration": 61,
    "start_time": "2022-01-18T13:16:44.363Z"
   },
   {
    "duration": 40,
    "start_time": "2022-01-18T13:16:45.505Z"
   },
   {
    "duration": 45,
    "start_time": "2022-01-18T13:16:46.708Z"
   },
   {
    "duration": 31,
    "start_time": "2022-01-18T13:16:47.290Z"
   },
   {
    "duration": 158,
    "start_time": "2022-01-18T13:16:48.473Z"
   },
   {
    "duration": 875,
    "start_time": "2022-01-18T13:16:51.615Z"
   },
   {
    "duration": 457,
    "start_time": "2022-01-18T13:16:54.012Z"
   },
   {
    "duration": 492,
    "start_time": "2022-01-18T13:16:56.228Z"
   },
   {
    "duration": 7,
    "start_time": "2022-01-18T13:16:59.816Z"
   },
   {
    "duration": 6,
    "start_time": "2022-01-18T13:17:01.549Z"
   },
   {
    "duration": 11,
    "start_time": "2022-01-18T13:17:04.130Z"
   },
   {
    "duration": 5,
    "start_time": "2022-01-18T13:17:05.981Z"
   },
   {
    "duration": 641,
    "start_time": "2022-01-18T13:27:25.673Z"
   },
   {
    "duration": 106,
    "start_time": "2022-01-18T13:27:27.729Z"
   },
   {
    "duration": 64,
    "start_time": "2022-01-18T13:27:31.185Z"
   },
   {
    "duration": 42,
    "start_time": "2022-01-18T13:27:32.687Z"
   },
   {
    "duration": 44,
    "start_time": "2022-01-18T13:27:33.971Z"
   },
   {
    "duration": 31,
    "start_time": "2022-01-18T13:27:34.587Z"
   },
   {
    "duration": 158,
    "start_time": "2022-01-18T13:27:35.669Z"
   },
   {
    "duration": 887,
    "start_time": "2022-01-18T13:27:39.377Z"
   },
   {
    "duration": 477,
    "start_time": "2022-01-18T13:27:41.919Z"
   },
   {
    "duration": 480,
    "start_time": "2022-01-18T13:27:44.109Z"
   },
   {
    "duration": 8,
    "start_time": "2022-01-18T13:27:47.616Z"
   },
   {
    "duration": 5,
    "start_time": "2022-01-18T13:27:50.044Z"
   },
   {
    "duration": 12,
    "start_time": "2022-01-18T13:27:52.277Z"
   },
   {
    "duration": 5,
    "start_time": "2022-01-18T13:27:54.088Z"
   },
   {
    "duration": 420,
    "start_time": "2022-01-18T19:23:15.354Z"
   },
   {
    "duration": 2221,
    "start_time": "2022-01-18T19:23:24.590Z"
   },
   {
    "duration": 180,
    "start_time": "2022-01-18T19:23:26.814Z"
   },
   {
    "duration": 127,
    "start_time": "2022-01-18T19:23:26.998Z"
   },
   {
    "duration": 62,
    "start_time": "2022-01-18T19:23:27.154Z"
   },
   {
    "duration": 75,
    "start_time": "2022-01-18T19:23:27.606Z"
   },
   {
    "duration": 50,
    "start_time": "2022-01-18T19:23:27.821Z"
   },
   {
    "duration": 282,
    "start_time": "2022-01-18T19:23:28.316Z"
   },
   {
    "duration": 1694,
    "start_time": "2022-01-18T19:23:29.413Z"
   },
   {
    "duration": 796,
    "start_time": "2022-01-18T19:23:31.110Z"
   },
   {
    "duration": 987,
    "start_time": "2022-01-18T19:23:31.909Z"
   },
   {
    "duration": 11,
    "start_time": "2022-01-18T19:23:32.899Z"
   },
   {
    "duration": 8,
    "start_time": "2022-01-18T19:23:32.912Z"
   },
   {
    "duration": 20,
    "start_time": "2022-01-18T19:23:33.423Z"
   },
   {
    "duration": 8,
    "start_time": "2022-01-18T19:23:34.429Z"
   },
   {
    "duration": 248,
    "start_time": "2022-02-22T11:43:07.725Z"
   },
   {
    "duration": 1801,
    "start_time": "2022-02-22T11:43:12.736Z"
   },
   {
    "duration": 152,
    "start_time": "2022-02-22T11:43:14.539Z"
   },
   {
    "duration": 98,
    "start_time": "2022-02-22T11:43:14.709Z"
   },
   {
    "duration": 47,
    "start_time": "2022-02-22T11:43:14.810Z"
   },
   {
    "duration": 58,
    "start_time": "2022-02-22T11:43:15.077Z"
   },
   {
    "duration": 41,
    "start_time": "2022-02-22T11:43:15.282Z"
   },
   {
    "duration": 191,
    "start_time": "2022-02-22T11:43:15.646Z"
   },
   {
    "duration": 41,
    "start_time": "2022-02-22T11:43:37.441Z"
   }
  ],
  "kernelspec": {
   "display_name": "Python 3 (ipykernel)",
   "language": "python",
   "name": "python3"
  },
  "language_info": {
   "codemirror_mode": {
    "name": "ipython",
    "version": 3
   },
   "file_extension": ".py",
   "mimetype": "text/x-python",
   "name": "python",
   "nbconvert_exporter": "python",
   "pygments_lexer": "ipython3",
   "version": "3.9.7"
  },
  "toc": {
   "base_numbering": 1,
   "nav_menu": {},
   "number_sections": true,
   "sideBar": true,
   "skip_h1_title": true,
   "title_cell": "Table of Contents",
   "title_sidebar": "Contents",
   "toc_cell": false,
   "toc_position": {},
   "toc_section_display": true,
   "toc_window_display": false
  }
 },
 "nbformat": 4,
 "nbformat_minor": 2
}
